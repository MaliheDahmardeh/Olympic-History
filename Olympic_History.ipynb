{
  "nbformat": 4,
  "nbformat_minor": 0,
  "metadata": {
    "colab": {
      "name": "Olympic-History.ipynb",
      "provenance": [],
      "authorship_tag": "ABX9TyOpfF9Oozp0sJ5Be8v6imyL",
      "include_colab_link": true
    },
    "kernelspec": {
      "name": "python3",
      "display_name": "Python 3"
    },
    "language_info": {
      "name": "python"
    }
  },
  "cells": [
    {
      "cell_type": "markdown",
      "metadata": {
        "id": "view-in-github",
        "colab_type": "text"
      },
      "source": [
        "<a href=\"https://colab.research.google.com/github/MaliheDahmardeh/Olympic-History/blob/main/Olympic_History.ipynb\" target=\"_parent\"><img src=\"https://colab.research.google.com/assets/colab-badge.svg\" alt=\"Open In Colab\"/></a>"
      ]
    },
    {
      "cell_type": "code",
      "execution_count": 154,
      "metadata": {
        "id": "hsVRuaEiQeYi"
      },
      "outputs": [],
      "source": [
        "import numpy as np\n",
        "import pandas as pd\n",
        "import os\n",
        "\n",
        "import matplotlib\n",
        "import matplotlib.pyplot as plt\n",
        "import seaborn as sb\n",
        "import plotly.express as px\n",
        "import plotly.graph_objects as go\n",
        "from plotly.subplots import make_subplots\n"
      ]
    },
    {
      "cell_type": "code",
      "source": [
        "!ls"
      ],
      "metadata": {
        "colab": {
          "base_uri": "https://localhost:8080/"
        },
        "id": "_kmTUksTQsb0",
        "outputId": "12c83c6c-402f-4324-8eae-1a8af2087e55"
      },
      "execution_count": 155,
      "outputs": [
        {
          "output_type": "stream",
          "name": "stdout",
          "text": [
            "athlete_events.csv  noc_regions.csv  sample_data\n"
          ]
        }
      ]
    },
    {
      "cell_type": "code",
      "source": [
        "df_events = pd.read_csv('athlete_events.csv')"
      ],
      "metadata": {
        "id": "vu8gEypwSdy2"
      },
      "execution_count": 156,
      "outputs": []
    },
    {
      "cell_type": "code",
      "source": [
        "df_noc = pd.read_csv('noc_regions.csv')"
      ],
      "metadata": {
        "id": "wDsromvbmNOP"
      },
      "execution_count": 157,
      "outputs": []
    },
    {
      "cell_type": "code",
      "source": [
        "df = pd.merge(df_events,df_noc,on='NOC',how='left')\n",
        "df"
      ],
      "metadata": {
        "id": "secJsc_ImJmV",
        "colab": {
          "base_uri": "https://localhost:8080/",
          "height": 973
        },
        "outputId": "5fe17a23-094d-46cf-c884-4d323828ac28"
      },
      "execution_count": 158,
      "outputs": [
        {
          "output_type": "execute_result",
          "data": {
            "text/plain": [
              "            ID                      Name Sex   Age  Height  Weight  \\\n",
              "0            1                 A Dijiang   M  24.0   180.0    80.0   \n",
              "1            2                  A Lamusi   M  23.0   170.0    60.0   \n",
              "2            3       Gunnar Nielsen Aaby   M  24.0     NaN     NaN   \n",
              "3            4      Edgar Lindenau Aabye   M  34.0     NaN     NaN   \n",
              "4            5  Christine Jacoba Aaftink   F  21.0   185.0    82.0   \n",
              "...        ...                       ...  ..   ...     ...     ...   \n",
              "271111  135569                Andrzej ya   M  29.0   179.0    89.0   \n",
              "271112  135570                  Piotr ya   M  27.0   176.0    59.0   \n",
              "271113  135570                  Piotr ya   M  27.0   176.0    59.0   \n",
              "271114  135571        Tomasz Ireneusz ya   M  30.0   185.0    96.0   \n",
              "271115  135571        Tomasz Ireneusz ya   M  34.0   185.0    96.0   \n",
              "\n",
              "                  Team  NOC        Games  Year  Season            City  \\\n",
              "0                China  CHN  1992 Summer  1992  Summer       Barcelona   \n",
              "1                China  CHN  2012 Summer  2012  Summer          London   \n",
              "2              Denmark  DEN  1920 Summer  1920  Summer       Antwerpen   \n",
              "3       Denmark/Sweden  DEN  1900 Summer  1900  Summer           Paris   \n",
              "4          Netherlands  NED  1988 Winter  1988  Winter         Calgary   \n",
              "...                ...  ...          ...   ...     ...             ...   \n",
              "271111        Poland-1  POL  1976 Winter  1976  Winter       Innsbruck   \n",
              "271112          Poland  POL  2014 Winter  2014  Winter           Sochi   \n",
              "271113          Poland  POL  2014 Winter  2014  Winter           Sochi   \n",
              "271114          Poland  POL  1998 Winter  1998  Winter          Nagano   \n",
              "271115          Poland  POL  2002 Winter  2002  Winter  Salt Lake City   \n",
              "\n",
              "                Sport                                     Event Medal  \\\n",
              "0          Basketball               Basketball Men's Basketball   NaN   \n",
              "1                Judo              Judo Men's Extra-Lightweight   NaN   \n",
              "2            Football                   Football Men's Football   NaN   \n",
              "3          Tug-Of-War               Tug-Of-War Men's Tug-Of-War  Gold   \n",
              "4       Speed Skating          Speed Skating Women's 500 metres   NaN   \n",
              "...               ...                                       ...   ...   \n",
              "271111           Luge                Luge Mixed (Men)'s Doubles   NaN   \n",
              "271112    Ski Jumping  Ski Jumping Men's Large Hill, Individual   NaN   \n",
              "271113    Ski Jumping        Ski Jumping Men's Large Hill, Team   NaN   \n",
              "271114      Bobsleigh                      Bobsleigh Men's Four   NaN   \n",
              "271115      Bobsleigh                      Bobsleigh Men's Four   NaN   \n",
              "\n",
              "             region notes  \n",
              "0             China   NaN  \n",
              "1             China   NaN  \n",
              "2           Denmark   NaN  \n",
              "3           Denmark   NaN  \n",
              "4       Netherlands   NaN  \n",
              "...             ...   ...  \n",
              "271111       Poland   NaN  \n",
              "271112       Poland   NaN  \n",
              "271113       Poland   NaN  \n",
              "271114       Poland   NaN  \n",
              "271115       Poland   NaN  \n",
              "\n",
              "[271116 rows x 17 columns]"
            ],
            "text/html": [
              "\n",
              "  <div id=\"df-67d3d3bd-d0b7-45ca-9424-906f95a66ebe\">\n",
              "    <div class=\"colab-df-container\">\n",
              "      <div>\n",
              "<style scoped>\n",
              "    .dataframe tbody tr th:only-of-type {\n",
              "        vertical-align: middle;\n",
              "    }\n",
              "\n",
              "    .dataframe tbody tr th {\n",
              "        vertical-align: top;\n",
              "    }\n",
              "\n",
              "    .dataframe thead th {\n",
              "        text-align: right;\n",
              "    }\n",
              "</style>\n",
              "<table border=\"1\" class=\"dataframe\">\n",
              "  <thead>\n",
              "    <tr style=\"text-align: right;\">\n",
              "      <th></th>\n",
              "      <th>ID</th>\n",
              "      <th>Name</th>\n",
              "      <th>Sex</th>\n",
              "      <th>Age</th>\n",
              "      <th>Height</th>\n",
              "      <th>Weight</th>\n",
              "      <th>Team</th>\n",
              "      <th>NOC</th>\n",
              "      <th>Games</th>\n",
              "      <th>Year</th>\n",
              "      <th>Season</th>\n",
              "      <th>City</th>\n",
              "      <th>Sport</th>\n",
              "      <th>Event</th>\n",
              "      <th>Medal</th>\n",
              "      <th>region</th>\n",
              "      <th>notes</th>\n",
              "    </tr>\n",
              "  </thead>\n",
              "  <tbody>\n",
              "    <tr>\n",
              "      <th>0</th>\n",
              "      <td>1</td>\n",
              "      <td>A Dijiang</td>\n",
              "      <td>M</td>\n",
              "      <td>24.0</td>\n",
              "      <td>180.0</td>\n",
              "      <td>80.0</td>\n",
              "      <td>China</td>\n",
              "      <td>CHN</td>\n",
              "      <td>1992 Summer</td>\n",
              "      <td>1992</td>\n",
              "      <td>Summer</td>\n",
              "      <td>Barcelona</td>\n",
              "      <td>Basketball</td>\n",
              "      <td>Basketball Men's Basketball</td>\n",
              "      <td>NaN</td>\n",
              "      <td>China</td>\n",
              "      <td>NaN</td>\n",
              "    </tr>\n",
              "    <tr>\n",
              "      <th>1</th>\n",
              "      <td>2</td>\n",
              "      <td>A Lamusi</td>\n",
              "      <td>M</td>\n",
              "      <td>23.0</td>\n",
              "      <td>170.0</td>\n",
              "      <td>60.0</td>\n",
              "      <td>China</td>\n",
              "      <td>CHN</td>\n",
              "      <td>2012 Summer</td>\n",
              "      <td>2012</td>\n",
              "      <td>Summer</td>\n",
              "      <td>London</td>\n",
              "      <td>Judo</td>\n",
              "      <td>Judo Men's Extra-Lightweight</td>\n",
              "      <td>NaN</td>\n",
              "      <td>China</td>\n",
              "      <td>NaN</td>\n",
              "    </tr>\n",
              "    <tr>\n",
              "      <th>2</th>\n",
              "      <td>3</td>\n",
              "      <td>Gunnar Nielsen Aaby</td>\n",
              "      <td>M</td>\n",
              "      <td>24.0</td>\n",
              "      <td>NaN</td>\n",
              "      <td>NaN</td>\n",
              "      <td>Denmark</td>\n",
              "      <td>DEN</td>\n",
              "      <td>1920 Summer</td>\n",
              "      <td>1920</td>\n",
              "      <td>Summer</td>\n",
              "      <td>Antwerpen</td>\n",
              "      <td>Football</td>\n",
              "      <td>Football Men's Football</td>\n",
              "      <td>NaN</td>\n",
              "      <td>Denmark</td>\n",
              "      <td>NaN</td>\n",
              "    </tr>\n",
              "    <tr>\n",
              "      <th>3</th>\n",
              "      <td>4</td>\n",
              "      <td>Edgar Lindenau Aabye</td>\n",
              "      <td>M</td>\n",
              "      <td>34.0</td>\n",
              "      <td>NaN</td>\n",
              "      <td>NaN</td>\n",
              "      <td>Denmark/Sweden</td>\n",
              "      <td>DEN</td>\n",
              "      <td>1900 Summer</td>\n",
              "      <td>1900</td>\n",
              "      <td>Summer</td>\n",
              "      <td>Paris</td>\n",
              "      <td>Tug-Of-War</td>\n",
              "      <td>Tug-Of-War Men's Tug-Of-War</td>\n",
              "      <td>Gold</td>\n",
              "      <td>Denmark</td>\n",
              "      <td>NaN</td>\n",
              "    </tr>\n",
              "    <tr>\n",
              "      <th>4</th>\n",
              "      <td>5</td>\n",
              "      <td>Christine Jacoba Aaftink</td>\n",
              "      <td>F</td>\n",
              "      <td>21.0</td>\n",
              "      <td>185.0</td>\n",
              "      <td>82.0</td>\n",
              "      <td>Netherlands</td>\n",
              "      <td>NED</td>\n",
              "      <td>1988 Winter</td>\n",
              "      <td>1988</td>\n",
              "      <td>Winter</td>\n",
              "      <td>Calgary</td>\n",
              "      <td>Speed Skating</td>\n",
              "      <td>Speed Skating Women's 500 metres</td>\n",
              "      <td>NaN</td>\n",
              "      <td>Netherlands</td>\n",
              "      <td>NaN</td>\n",
              "    </tr>\n",
              "    <tr>\n",
              "      <th>...</th>\n",
              "      <td>...</td>\n",
              "      <td>...</td>\n",
              "      <td>...</td>\n",
              "      <td>...</td>\n",
              "      <td>...</td>\n",
              "      <td>...</td>\n",
              "      <td>...</td>\n",
              "      <td>...</td>\n",
              "      <td>...</td>\n",
              "      <td>...</td>\n",
              "      <td>...</td>\n",
              "      <td>...</td>\n",
              "      <td>...</td>\n",
              "      <td>...</td>\n",
              "      <td>...</td>\n",
              "      <td>...</td>\n",
              "      <td>...</td>\n",
              "    </tr>\n",
              "    <tr>\n",
              "      <th>271111</th>\n",
              "      <td>135569</td>\n",
              "      <td>Andrzej ya</td>\n",
              "      <td>M</td>\n",
              "      <td>29.0</td>\n",
              "      <td>179.0</td>\n",
              "      <td>89.0</td>\n",
              "      <td>Poland-1</td>\n",
              "      <td>POL</td>\n",
              "      <td>1976 Winter</td>\n",
              "      <td>1976</td>\n",
              "      <td>Winter</td>\n",
              "      <td>Innsbruck</td>\n",
              "      <td>Luge</td>\n",
              "      <td>Luge Mixed (Men)'s Doubles</td>\n",
              "      <td>NaN</td>\n",
              "      <td>Poland</td>\n",
              "      <td>NaN</td>\n",
              "    </tr>\n",
              "    <tr>\n",
              "      <th>271112</th>\n",
              "      <td>135570</td>\n",
              "      <td>Piotr ya</td>\n",
              "      <td>M</td>\n",
              "      <td>27.0</td>\n",
              "      <td>176.0</td>\n",
              "      <td>59.0</td>\n",
              "      <td>Poland</td>\n",
              "      <td>POL</td>\n",
              "      <td>2014 Winter</td>\n",
              "      <td>2014</td>\n",
              "      <td>Winter</td>\n",
              "      <td>Sochi</td>\n",
              "      <td>Ski Jumping</td>\n",
              "      <td>Ski Jumping Men's Large Hill, Individual</td>\n",
              "      <td>NaN</td>\n",
              "      <td>Poland</td>\n",
              "      <td>NaN</td>\n",
              "    </tr>\n",
              "    <tr>\n",
              "      <th>271113</th>\n",
              "      <td>135570</td>\n",
              "      <td>Piotr ya</td>\n",
              "      <td>M</td>\n",
              "      <td>27.0</td>\n",
              "      <td>176.0</td>\n",
              "      <td>59.0</td>\n",
              "      <td>Poland</td>\n",
              "      <td>POL</td>\n",
              "      <td>2014 Winter</td>\n",
              "      <td>2014</td>\n",
              "      <td>Winter</td>\n",
              "      <td>Sochi</td>\n",
              "      <td>Ski Jumping</td>\n",
              "      <td>Ski Jumping Men's Large Hill, Team</td>\n",
              "      <td>NaN</td>\n",
              "      <td>Poland</td>\n",
              "      <td>NaN</td>\n",
              "    </tr>\n",
              "    <tr>\n",
              "      <th>271114</th>\n",
              "      <td>135571</td>\n",
              "      <td>Tomasz Ireneusz ya</td>\n",
              "      <td>M</td>\n",
              "      <td>30.0</td>\n",
              "      <td>185.0</td>\n",
              "      <td>96.0</td>\n",
              "      <td>Poland</td>\n",
              "      <td>POL</td>\n",
              "      <td>1998 Winter</td>\n",
              "      <td>1998</td>\n",
              "      <td>Winter</td>\n",
              "      <td>Nagano</td>\n",
              "      <td>Bobsleigh</td>\n",
              "      <td>Bobsleigh Men's Four</td>\n",
              "      <td>NaN</td>\n",
              "      <td>Poland</td>\n",
              "      <td>NaN</td>\n",
              "    </tr>\n",
              "    <tr>\n",
              "      <th>271115</th>\n",
              "      <td>135571</td>\n",
              "      <td>Tomasz Ireneusz ya</td>\n",
              "      <td>M</td>\n",
              "      <td>34.0</td>\n",
              "      <td>185.0</td>\n",
              "      <td>96.0</td>\n",
              "      <td>Poland</td>\n",
              "      <td>POL</td>\n",
              "      <td>2002 Winter</td>\n",
              "      <td>2002</td>\n",
              "      <td>Winter</td>\n",
              "      <td>Salt Lake City</td>\n",
              "      <td>Bobsleigh</td>\n",
              "      <td>Bobsleigh Men's Four</td>\n",
              "      <td>NaN</td>\n",
              "      <td>Poland</td>\n",
              "      <td>NaN</td>\n",
              "    </tr>\n",
              "  </tbody>\n",
              "</table>\n",
              "<p>271116 rows × 17 columns</p>\n",
              "</div>\n",
              "      <button class=\"colab-df-convert\" onclick=\"convertToInteractive('df-67d3d3bd-d0b7-45ca-9424-906f95a66ebe')\"\n",
              "              title=\"Convert this dataframe to an interactive table.\"\n",
              "              style=\"display:none;\">\n",
              "        \n",
              "  <svg xmlns=\"http://www.w3.org/2000/svg\" height=\"24px\"viewBox=\"0 0 24 24\"\n",
              "       width=\"24px\">\n",
              "    <path d=\"M0 0h24v24H0V0z\" fill=\"none\"/>\n",
              "    <path d=\"M18.56 5.44l.94 2.06.94-2.06 2.06-.94-2.06-.94-.94-2.06-.94 2.06-2.06.94zm-11 1L8.5 8.5l.94-2.06 2.06-.94-2.06-.94L8.5 2.5l-.94 2.06-2.06.94zm10 10l.94 2.06.94-2.06 2.06-.94-2.06-.94-.94-2.06-.94 2.06-2.06.94z\"/><path d=\"M17.41 7.96l-1.37-1.37c-.4-.4-.92-.59-1.43-.59-.52 0-1.04.2-1.43.59L10.3 9.45l-7.72 7.72c-.78.78-.78 2.05 0 2.83L4 21.41c.39.39.9.59 1.41.59.51 0 1.02-.2 1.41-.59l7.78-7.78 2.81-2.81c.8-.78.8-2.07 0-2.86zM5.41 20L4 18.59l7.72-7.72 1.47 1.35L5.41 20z\"/>\n",
              "  </svg>\n",
              "      </button>\n",
              "      \n",
              "  <style>\n",
              "    .colab-df-container {\n",
              "      display:flex;\n",
              "      flex-wrap:wrap;\n",
              "      gap: 12px;\n",
              "    }\n",
              "\n",
              "    .colab-df-convert {\n",
              "      background-color: #E8F0FE;\n",
              "      border: none;\n",
              "      border-radius: 50%;\n",
              "      cursor: pointer;\n",
              "      display: none;\n",
              "      fill: #1967D2;\n",
              "      height: 32px;\n",
              "      padding: 0 0 0 0;\n",
              "      width: 32px;\n",
              "    }\n",
              "\n",
              "    .colab-df-convert:hover {\n",
              "      background-color: #E2EBFA;\n",
              "      box-shadow: 0px 1px 2px rgba(60, 64, 67, 0.3), 0px 1px 3px 1px rgba(60, 64, 67, 0.15);\n",
              "      fill: #174EA6;\n",
              "    }\n",
              "\n",
              "    [theme=dark] .colab-df-convert {\n",
              "      background-color: #3B4455;\n",
              "      fill: #D2E3FC;\n",
              "    }\n",
              "\n",
              "    [theme=dark] .colab-df-convert:hover {\n",
              "      background-color: #434B5C;\n",
              "      box-shadow: 0px 1px 3px 1px rgba(0, 0, 0, 0.15);\n",
              "      filter: drop-shadow(0px 1px 2px rgba(0, 0, 0, 0.3));\n",
              "      fill: #FFFFFF;\n",
              "    }\n",
              "  </style>\n",
              "\n",
              "      <script>\n",
              "        const buttonEl =\n",
              "          document.querySelector('#df-67d3d3bd-d0b7-45ca-9424-906f95a66ebe button.colab-df-convert');\n",
              "        buttonEl.style.display =\n",
              "          google.colab.kernel.accessAllowed ? 'block' : 'none';\n",
              "\n",
              "        async function convertToInteractive(key) {\n",
              "          const element = document.querySelector('#df-67d3d3bd-d0b7-45ca-9424-906f95a66ebe');\n",
              "          const dataTable =\n",
              "            await google.colab.kernel.invokeFunction('convertToInteractive',\n",
              "                                                     [key], {});\n",
              "          if (!dataTable) return;\n",
              "\n",
              "          const docLinkHtml = 'Like what you see? Visit the ' +\n",
              "            '<a target=\"_blank\" href=https://colab.research.google.com/notebooks/data_table.ipynb>data table notebook</a>'\n",
              "            + ' to learn more about interactive tables.';\n",
              "          element.innerHTML = '';\n",
              "          dataTable['output_type'] = 'display_data';\n",
              "          await google.colab.output.renderOutput(dataTable, element);\n",
              "          const docLink = document.createElement('div');\n",
              "          docLink.innerHTML = docLinkHtml;\n",
              "          element.appendChild(docLink);\n",
              "        }\n",
              "      </script>\n",
              "    </div>\n",
              "  </div>\n",
              "  "
            ]
          },
          "metadata": {},
          "execution_count": 158
        }
      ]
    },
    {
      "cell_type": "code",
      "source": [
        "df.info()"
      ],
      "metadata": {
        "colab": {
          "base_uri": "https://localhost:8080/"
        },
        "id": "Q30ILnnMTOkJ",
        "outputId": "7666a183-c09f-43a6-e57b-010160138192"
      },
      "execution_count": 159,
      "outputs": [
        {
          "output_type": "stream",
          "name": "stdout",
          "text": [
            "<class 'pandas.core.frame.DataFrame'>\n",
            "Int64Index: 271116 entries, 0 to 271115\n",
            "Data columns (total 17 columns):\n",
            " #   Column  Non-Null Count   Dtype  \n",
            "---  ------  --------------   -----  \n",
            " 0   ID      271116 non-null  int64  \n",
            " 1   Name    271116 non-null  object \n",
            " 2   Sex     271116 non-null  object \n",
            " 3   Age     261642 non-null  float64\n",
            " 4   Height  210945 non-null  float64\n",
            " 5   Weight  208241 non-null  float64\n",
            " 6   Team    271116 non-null  object \n",
            " 7   NOC     271116 non-null  object \n",
            " 8   Games   271116 non-null  object \n",
            " 9   Year    271116 non-null  int64  \n",
            " 10  Season  271116 non-null  object \n",
            " 11  City    271116 non-null  object \n",
            " 12  Sport   271116 non-null  object \n",
            " 13  Event   271116 non-null  object \n",
            " 14  Medal   39783 non-null   object \n",
            " 15  region  270746 non-null  object \n",
            " 16  notes   5039 non-null    object \n",
            "dtypes: float64(3), int64(2), object(12)\n",
            "memory usage: 37.2+ MB\n"
          ]
        }
      ]
    },
    {
      "cell_type": "markdown",
      "source": [
        "#Data Cleaning"
      ],
      "metadata": {
        "id": "YN1ZRmOnTk_K"
      }
    },
    {
      "cell_type": "code",
      "source": [
        "df.isnull().sum()"
      ],
      "metadata": {
        "id": "Y81jvbYZgvYv",
        "outputId": "a9aa757f-1afe-4f58-e306-297cb955ad4c",
        "colab": {
          "base_uri": "https://localhost:8080/"
        }
      },
      "execution_count": 160,
      "outputs": [
        {
          "output_type": "execute_result",
          "data": {
            "text/plain": [
              "ID             0\n",
              "Name           0\n",
              "Sex            0\n",
              "Age         9474\n",
              "Height     60171\n",
              "Weight     62875\n",
              "Team           0\n",
              "NOC            0\n",
              "Games          0\n",
              "Year           0\n",
              "Season         0\n",
              "City           0\n",
              "Sport          0\n",
              "Event          0\n",
              "Medal     231333\n",
              "region       370\n",
              "notes     266077\n",
              "dtype: int64"
            ]
          },
          "metadata": {},
          "execution_count": 160
        }
      ]
    },
    {
      "cell_type": "code",
      "source": [
        "#drop columns 'notes' and 'ID' because they are not important and column 'notes' has lots of null values\n",
        "df.drop(columns=['notes','ID'],inplace=True)"
      ],
      "metadata": {
        "id": "AjeXIpkznYIE"
      },
      "execution_count": 161,
      "outputs": []
    },
    {
      "cell_type": "code",
      "source": [
        "# check and drop duplicated rows\n",
        "df.duplicated().sum()"
      ],
      "metadata": {
        "id": "JbMXRfECTpTC",
        "colab": {
          "base_uri": "https://localhost:8080/"
        },
        "outputId": "e8fdbe0e-9c3a-4fe6-c1ed-f4b9fa756114"
      },
      "execution_count": 162,
      "outputs": [
        {
          "output_type": "execute_result",
          "data": {
            "text/plain": [
              "1385"
            ]
          },
          "metadata": {},
          "execution_count": 162
        }
      ]
    },
    {
      "cell_type": "code",
      "source": [
        "df.drop_duplicates(inplace=True)\n",
        "df.duplicated().sum()"
      ],
      "metadata": {
        "id": "cUf3SdGwiF8F",
        "colab": {
          "base_uri": "https://localhost:8080/"
        },
        "outputId": "a7ab3b74-c520-40cc-e78a-d6f5f528af03"
      },
      "execution_count": 163,
      "outputs": [
        {
          "output_type": "execute_result",
          "data": {
            "text/plain": [
              "0"
            ]
          },
          "metadata": {},
          "execution_count": 163
        }
      ]
    },
    {
      "cell_type": "code",
      "source": [
        "df.isnull().sum()"
      ],
      "metadata": {
        "colab": {
          "base_uri": "https://localhost:8080/"
        },
        "id": "FHTUNhKwjbN6",
        "outputId": "3255ac68-37f8-47c8-fcba-b1bb89d45100"
      },
      "execution_count": 164,
      "outputs": [
        {
          "output_type": "execute_result",
          "data": {
            "text/plain": [
              "Name           0\n",
              "Sex            0\n",
              "Age         9315\n",
              "Height     58814\n",
              "Weight     61527\n",
              "Team           0\n",
              "NOC            0\n",
              "Games          0\n",
              "Year           0\n",
              "Season         0\n",
              "City           0\n",
              "Sport          0\n",
              "Event          0\n",
              "Medal     229959\n",
              "region       370\n",
              "dtype: int64"
            ]
          },
          "metadata": {},
          "execution_count": 164
        }
      ]
    },
    {
      "cell_type": "markdown",
      "source": [
        "Fill  null value for Age, Height and Weight with mean of them"
      ],
      "metadata": {
        "id": "H-6vR8AjdWDO"
      }
    },
    {
      "cell_type": "code",
      "source": [
        "#Mean of height\n",
        "mean_height=df[\"Height\"].mean()\n",
        "rmh=round(mean_height)\n",
        "rmh"
      ],
      "metadata": {
        "colab": {
          "base_uri": "https://localhost:8080/"
        },
        "id": "2cHTJ6lWeLpE",
        "outputId": "f1499e17-7c4f-4e58-9de4-3b8aacd1fc25"
      },
      "execution_count": 165,
      "outputs": [
        {
          "output_type": "execute_result",
          "data": {
            "text/plain": [
              "175"
            ]
          },
          "metadata": {},
          "execution_count": 165
        }
      ]
    },
    {
      "cell_type": "code",
      "source": [
        "df[\"Height\"]=df[\"Height\"].fillna(rmh)\n",
        "df[\"Height\"]"
      ],
      "metadata": {
        "colab": {
          "base_uri": "https://localhost:8080/"
        },
        "id": "9J9oUoalelvb",
        "outputId": "ce81199c-173d-443d-eb64-e8ec92aad3b9"
      },
      "execution_count": 166,
      "outputs": [
        {
          "output_type": "execute_result",
          "data": {
            "text/plain": [
              "0         180.0\n",
              "1         170.0\n",
              "2         175.0\n",
              "3         175.0\n",
              "4         185.0\n",
              "          ...  \n",
              "271111    179.0\n",
              "271112    176.0\n",
              "271113    176.0\n",
              "271114    185.0\n",
              "271115    185.0\n",
              "Name: Height, Length: 269731, dtype: float64"
            ]
          },
          "metadata": {},
          "execution_count": 166
        }
      ]
    },
    {
      "cell_type": "code",
      "source": [
        "#Mean of weight\n",
        "mean_weight=df[\"Weight\"].mean()\n",
        "rmw=round(mean_weight)\n",
        "rmw"
      ],
      "metadata": {
        "colab": {
          "base_uri": "https://localhost:8080/"
        },
        "id": "v9shInyley4N",
        "outputId": "2f9c36e4-a164-4d8a-9770-58686b3789f7"
      },
      "execution_count": 167,
      "outputs": [
        {
          "output_type": "execute_result",
          "data": {
            "text/plain": [
              "71"
            ]
          },
          "metadata": {},
          "execution_count": 167
        }
      ]
    },
    {
      "cell_type": "code",
      "source": [
        "df[\"Weight\"]=df[\"Weight\"].fillna(rmw)\n",
        "df[\"Weight\"]"
      ],
      "metadata": {
        "colab": {
          "base_uri": "https://localhost:8080/"
        },
        "id": "XaDz_z6nfIEG",
        "outputId": "2ac4ad74-3c33-42a0-c3a6-fe2eb0fe599c"
      },
      "execution_count": 168,
      "outputs": [
        {
          "output_type": "execute_result",
          "data": {
            "text/plain": [
              "0         80.0\n",
              "1         60.0\n",
              "2         71.0\n",
              "3         71.0\n",
              "4         82.0\n",
              "          ... \n",
              "271111    89.0\n",
              "271112    59.0\n",
              "271113    59.0\n",
              "271114    96.0\n",
              "271115    96.0\n",
              "Name: Weight, Length: 269731, dtype: float64"
            ]
          },
          "metadata": {},
          "execution_count": 168
        }
      ]
    },
    {
      "cell_type": "code",
      "source": [
        "#Mean of Age\n",
        "mean_age=df[\"Age\"].mean()\n",
        "rma=round(mean_age)\n",
        "rma"
      ],
      "metadata": {
        "colab": {
          "base_uri": "https://localhost:8080/"
        },
        "id": "wknmpnZTgBNS",
        "outputId": "74c10933-26eb-4011-8c2f-89fd249bfe56"
      },
      "execution_count": 169,
      "outputs": [
        {
          "output_type": "execute_result",
          "data": {
            "text/plain": [
              "25"
            ]
          },
          "metadata": {},
          "execution_count": 169
        }
      ]
    },
    {
      "cell_type": "code",
      "source": [
        "df[\"Age\"]=df[\"Age\"].fillna(rma)\n",
        "df[\"Age\"]"
      ],
      "metadata": {
        "colab": {
          "base_uri": "https://localhost:8080/"
        },
        "id": "Hw6ufuVbfe99",
        "outputId": "ab74d384-c4ac-4938-f2f3-d88e08491725"
      },
      "execution_count": 170,
      "outputs": [
        {
          "output_type": "execute_result",
          "data": {
            "text/plain": [
              "0         24.0\n",
              "1         23.0\n",
              "2         24.0\n",
              "3         34.0\n",
              "4         21.0\n",
              "          ... \n",
              "271111    29.0\n",
              "271112    27.0\n",
              "271113    27.0\n",
              "271114    30.0\n",
              "271115    34.0\n",
              "Name: Age, Length: 269731, dtype: float64"
            ]
          },
          "metadata": {},
          "execution_count": 170
        }
      ]
    },
    {
      "cell_type": "code",
      "source": [
        "#Changing float type data to integer\n",
        "df[\"Age\"]=df[\"Age\"].astype(int)\n",
        "df[\"Height\"]=df[\"Height\"].astype(int)\n",
        "df[\"Weight\"]=df[\"Weight\"].astype(int)"
      ],
      "metadata": {
        "id": "_AgMmCak0k7h"
      },
      "execution_count": 171,
      "outputs": []
    },
    {
      "cell_type": "code",
      "source": [
        "df.columns"
      ],
      "metadata": {
        "colab": {
          "base_uri": "https://localhost:8080/"
        },
        "id": "CnoFDh7-gt-q",
        "outputId": "1caaf1f1-991a-4045-e12c-b5ad6c5199ec"
      },
      "execution_count": 172,
      "outputs": [
        {
          "output_type": "execute_result",
          "data": {
            "text/plain": [
              "Index(['Name', 'Sex', 'Age', 'Height', 'Weight', 'Team', 'NOC', 'Games',\n",
              "       'Year', 'Season', 'City', 'Sport', 'Event', 'Medal', 'region'],\n",
              "      dtype='object')"
            ]
          },
          "metadata": {},
          "execution_count": 172
        }
      ]
    },
    {
      "cell_type": "code",
      "source": [
        "#drop Medal null values\n",
        "drop_rows = df.dropna( how='any',subset=['Medal'], inplace=True)"
      ],
      "metadata": {
        "id": "sXjb0qkQkrZG"
      },
      "execution_count": 173,
      "outputs": []
    },
    {
      "cell_type": "code",
      "source": [
        "df.isnull().sum()"
      ],
      "metadata": {
        "colab": {
          "base_uri": "https://localhost:8080/"
        },
        "id": "aWtS8SOnKn1E",
        "outputId": "6bebe0b3-8898-44ae-9c6d-0a5c8beb5c57"
      },
      "execution_count": 174,
      "outputs": [
        {
          "output_type": "execute_result",
          "data": {
            "text/plain": [
              "Name      0\n",
              "Sex       0\n",
              "Age       0\n",
              "Height    0\n",
              "Weight    0\n",
              "Team      0\n",
              "NOC       0\n",
              "Games     0\n",
              "Year      0\n",
              "Season    0\n",
              "City      0\n",
              "Sport     0\n",
              "Event     0\n",
              "Medal     0\n",
              "region    9\n",
              "dtype: int64"
            ]
          },
          "metadata": {},
          "execution_count": 174
        }
      ]
    },
    {
      "cell_type": "code",
      "source": [
        "#fill remaining null values in region with 'unknown'\n",
        "df[\"region\"]=df[\"region\"].fillna('unknown')\n",
        "df[\"region\"]"
      ],
      "metadata": {
        "colab": {
          "base_uri": "https://localhost:8080/"
        },
        "id": "lTmgceUkxbtH",
        "outputId": "6f0a1019-c7bd-46a6-ec8c-b8099af71b89"
      },
      "execution_count": 175,
      "outputs": [
        {
          "output_type": "execute_result",
          "data": {
            "text/plain": [
              "3         Denmark\n",
              "37        Finland\n",
              "38        Finland\n",
              "40        Finland\n",
              "41        Finland\n",
              "           ...   \n",
              "271078     Russia\n",
              "271080     Russia\n",
              "271082     Poland\n",
              "271102     Russia\n",
              "271103     Russia\n",
              "Name: region, Length: 39772, dtype: object"
            ]
          },
          "metadata": {},
          "execution_count": 175
        }
      ]
    },
    {
      "cell_type": "code",
      "source": [
        "#view of \"unknown\" region\n",
        "region_unknown=df.loc[(df[\"region\"]==\"unknown\")]\n",
        "region_unknown"
      ],
      "metadata": {
        "colab": {
          "base_uri": "https://localhost:8080/",
          "height": 864
        },
        "id": "h_aR1wkswpBz",
        "outputId": "7d7f2d65-1e82-43b1-c8b8-8cee966f95de"
      },
      "execution_count": 176,
      "outputs": [
        {
          "output_type": "execute_result",
          "data": {
            "text/plain": [
              "                          Name Sex  Age  Height  Weight       Team  NOC  \\\n",
              "67723            Feng Tian Wei   F   21     163      55  Singapore  SGP   \n",
              "67724            Feng Tian Wei   F   25     163      55  Singapore  SGP   \n",
              "67725            Feng Tian Wei   F   25     163      55  Singapore  SGP   \n",
              "138095              Li Jia Wei   F   26     170      60  Singapore  SGP   \n",
              "138096              Li Jia Wei   F   30     170      60  Singapore  SGP   \n",
              "213955  Joseph Isaac Schooling   M   21     184      74  Singapore  SGP   \n",
              "235908  Howe Liang \"Tiger\" Tan   M   27     160      69  Singapore  SGP   \n",
              "256622             Wang Jue Gu   F   28     155      63  Singapore  SGP   \n",
              "256624             Wang Jue Gu   F   32     155      63  Singapore  SGP   \n",
              "\n",
              "              Games  Year  Season            City          Sport  \\\n",
              "67723   2008 Summer  2008  Summer         Beijing   Table Tennis   \n",
              "67724   2012 Summer  2012  Summer          London   Table Tennis   \n",
              "67725   2012 Summer  2012  Summer          London   Table Tennis   \n",
              "138095  2008 Summer  2008  Summer         Beijing   Table Tennis   \n",
              "138096  2012 Summer  2012  Summer          London   Table Tennis   \n",
              "213955  2016 Summer  2016  Summer  Rio de Janeiro       Swimming   \n",
              "235908  1960 Summer  1960  Summer            Roma  Weightlifting   \n",
              "256622  2008 Summer  2008  Summer         Beijing   Table Tennis   \n",
              "256624  2012 Summer  2012  Summer          London   Table Tennis   \n",
              "\n",
              "                                      Event   Medal   region  \n",
              "67723             Table Tennis Women's Team  Silver  unknown  \n",
              "67724          Table Tennis Women's Singles  Bronze  unknown  \n",
              "67725             Table Tennis Women's Team  Bronze  unknown  \n",
              "138095            Table Tennis Women's Team  Silver  unknown  \n",
              "138096            Table Tennis Women's Team  Bronze  unknown  \n",
              "213955  Swimming Men's 100 metres Butterfly    Gold  unknown  \n",
              "235908      Weightlifting Men's Lightweight  Silver  unknown  \n",
              "256622            Table Tennis Women's Team  Silver  unknown  \n",
              "256624            Table Tennis Women's Team  Bronze  unknown  "
            ],
            "text/html": [
              "\n",
              "  <div id=\"df-2fcf0f9a-f6bd-4f06-962e-11e7cf051eed\">\n",
              "    <div class=\"colab-df-container\">\n",
              "      <div>\n",
              "<style scoped>\n",
              "    .dataframe tbody tr th:only-of-type {\n",
              "        vertical-align: middle;\n",
              "    }\n",
              "\n",
              "    .dataframe tbody tr th {\n",
              "        vertical-align: top;\n",
              "    }\n",
              "\n",
              "    .dataframe thead th {\n",
              "        text-align: right;\n",
              "    }\n",
              "</style>\n",
              "<table border=\"1\" class=\"dataframe\">\n",
              "  <thead>\n",
              "    <tr style=\"text-align: right;\">\n",
              "      <th></th>\n",
              "      <th>Name</th>\n",
              "      <th>Sex</th>\n",
              "      <th>Age</th>\n",
              "      <th>Height</th>\n",
              "      <th>Weight</th>\n",
              "      <th>Team</th>\n",
              "      <th>NOC</th>\n",
              "      <th>Games</th>\n",
              "      <th>Year</th>\n",
              "      <th>Season</th>\n",
              "      <th>City</th>\n",
              "      <th>Sport</th>\n",
              "      <th>Event</th>\n",
              "      <th>Medal</th>\n",
              "      <th>region</th>\n",
              "    </tr>\n",
              "  </thead>\n",
              "  <tbody>\n",
              "    <tr>\n",
              "      <th>67723</th>\n",
              "      <td>Feng Tian Wei</td>\n",
              "      <td>F</td>\n",
              "      <td>21</td>\n",
              "      <td>163</td>\n",
              "      <td>55</td>\n",
              "      <td>Singapore</td>\n",
              "      <td>SGP</td>\n",
              "      <td>2008 Summer</td>\n",
              "      <td>2008</td>\n",
              "      <td>Summer</td>\n",
              "      <td>Beijing</td>\n",
              "      <td>Table Tennis</td>\n",
              "      <td>Table Tennis Women's Team</td>\n",
              "      <td>Silver</td>\n",
              "      <td>unknown</td>\n",
              "    </tr>\n",
              "    <tr>\n",
              "      <th>67724</th>\n",
              "      <td>Feng Tian Wei</td>\n",
              "      <td>F</td>\n",
              "      <td>25</td>\n",
              "      <td>163</td>\n",
              "      <td>55</td>\n",
              "      <td>Singapore</td>\n",
              "      <td>SGP</td>\n",
              "      <td>2012 Summer</td>\n",
              "      <td>2012</td>\n",
              "      <td>Summer</td>\n",
              "      <td>London</td>\n",
              "      <td>Table Tennis</td>\n",
              "      <td>Table Tennis Women's Singles</td>\n",
              "      <td>Bronze</td>\n",
              "      <td>unknown</td>\n",
              "    </tr>\n",
              "    <tr>\n",
              "      <th>67725</th>\n",
              "      <td>Feng Tian Wei</td>\n",
              "      <td>F</td>\n",
              "      <td>25</td>\n",
              "      <td>163</td>\n",
              "      <td>55</td>\n",
              "      <td>Singapore</td>\n",
              "      <td>SGP</td>\n",
              "      <td>2012 Summer</td>\n",
              "      <td>2012</td>\n",
              "      <td>Summer</td>\n",
              "      <td>London</td>\n",
              "      <td>Table Tennis</td>\n",
              "      <td>Table Tennis Women's Team</td>\n",
              "      <td>Bronze</td>\n",
              "      <td>unknown</td>\n",
              "    </tr>\n",
              "    <tr>\n",
              "      <th>138095</th>\n",
              "      <td>Li Jia Wei</td>\n",
              "      <td>F</td>\n",
              "      <td>26</td>\n",
              "      <td>170</td>\n",
              "      <td>60</td>\n",
              "      <td>Singapore</td>\n",
              "      <td>SGP</td>\n",
              "      <td>2008 Summer</td>\n",
              "      <td>2008</td>\n",
              "      <td>Summer</td>\n",
              "      <td>Beijing</td>\n",
              "      <td>Table Tennis</td>\n",
              "      <td>Table Tennis Women's Team</td>\n",
              "      <td>Silver</td>\n",
              "      <td>unknown</td>\n",
              "    </tr>\n",
              "    <tr>\n",
              "      <th>138096</th>\n",
              "      <td>Li Jia Wei</td>\n",
              "      <td>F</td>\n",
              "      <td>30</td>\n",
              "      <td>170</td>\n",
              "      <td>60</td>\n",
              "      <td>Singapore</td>\n",
              "      <td>SGP</td>\n",
              "      <td>2012 Summer</td>\n",
              "      <td>2012</td>\n",
              "      <td>Summer</td>\n",
              "      <td>London</td>\n",
              "      <td>Table Tennis</td>\n",
              "      <td>Table Tennis Women's Team</td>\n",
              "      <td>Bronze</td>\n",
              "      <td>unknown</td>\n",
              "    </tr>\n",
              "    <tr>\n",
              "      <th>213955</th>\n",
              "      <td>Joseph Isaac Schooling</td>\n",
              "      <td>M</td>\n",
              "      <td>21</td>\n",
              "      <td>184</td>\n",
              "      <td>74</td>\n",
              "      <td>Singapore</td>\n",
              "      <td>SGP</td>\n",
              "      <td>2016 Summer</td>\n",
              "      <td>2016</td>\n",
              "      <td>Summer</td>\n",
              "      <td>Rio de Janeiro</td>\n",
              "      <td>Swimming</td>\n",
              "      <td>Swimming Men's 100 metres Butterfly</td>\n",
              "      <td>Gold</td>\n",
              "      <td>unknown</td>\n",
              "    </tr>\n",
              "    <tr>\n",
              "      <th>235908</th>\n",
              "      <td>Howe Liang \"Tiger\" Tan</td>\n",
              "      <td>M</td>\n",
              "      <td>27</td>\n",
              "      <td>160</td>\n",
              "      <td>69</td>\n",
              "      <td>Singapore</td>\n",
              "      <td>SGP</td>\n",
              "      <td>1960 Summer</td>\n",
              "      <td>1960</td>\n",
              "      <td>Summer</td>\n",
              "      <td>Roma</td>\n",
              "      <td>Weightlifting</td>\n",
              "      <td>Weightlifting Men's Lightweight</td>\n",
              "      <td>Silver</td>\n",
              "      <td>unknown</td>\n",
              "    </tr>\n",
              "    <tr>\n",
              "      <th>256622</th>\n",
              "      <td>Wang Jue Gu</td>\n",
              "      <td>F</td>\n",
              "      <td>28</td>\n",
              "      <td>155</td>\n",
              "      <td>63</td>\n",
              "      <td>Singapore</td>\n",
              "      <td>SGP</td>\n",
              "      <td>2008 Summer</td>\n",
              "      <td>2008</td>\n",
              "      <td>Summer</td>\n",
              "      <td>Beijing</td>\n",
              "      <td>Table Tennis</td>\n",
              "      <td>Table Tennis Women's Team</td>\n",
              "      <td>Silver</td>\n",
              "      <td>unknown</td>\n",
              "    </tr>\n",
              "    <tr>\n",
              "      <th>256624</th>\n",
              "      <td>Wang Jue Gu</td>\n",
              "      <td>F</td>\n",
              "      <td>32</td>\n",
              "      <td>155</td>\n",
              "      <td>63</td>\n",
              "      <td>Singapore</td>\n",
              "      <td>SGP</td>\n",
              "      <td>2012 Summer</td>\n",
              "      <td>2012</td>\n",
              "      <td>Summer</td>\n",
              "      <td>London</td>\n",
              "      <td>Table Tennis</td>\n",
              "      <td>Table Tennis Women's Team</td>\n",
              "      <td>Bronze</td>\n",
              "      <td>unknown</td>\n",
              "    </tr>\n",
              "  </tbody>\n",
              "</table>\n",
              "</div>\n",
              "      <button class=\"colab-df-convert\" onclick=\"convertToInteractive('df-2fcf0f9a-f6bd-4f06-962e-11e7cf051eed')\"\n",
              "              title=\"Convert this dataframe to an interactive table.\"\n",
              "              style=\"display:none;\">\n",
              "        \n",
              "  <svg xmlns=\"http://www.w3.org/2000/svg\" height=\"24px\"viewBox=\"0 0 24 24\"\n",
              "       width=\"24px\">\n",
              "    <path d=\"M0 0h24v24H0V0z\" fill=\"none\"/>\n",
              "    <path d=\"M18.56 5.44l.94 2.06.94-2.06 2.06-.94-2.06-.94-.94-2.06-.94 2.06-2.06.94zm-11 1L8.5 8.5l.94-2.06 2.06-.94-2.06-.94L8.5 2.5l-.94 2.06-2.06.94zm10 10l.94 2.06.94-2.06 2.06-.94-2.06-.94-.94-2.06-.94 2.06-2.06.94z\"/><path d=\"M17.41 7.96l-1.37-1.37c-.4-.4-.92-.59-1.43-.59-.52 0-1.04.2-1.43.59L10.3 9.45l-7.72 7.72c-.78.78-.78 2.05 0 2.83L4 21.41c.39.39.9.59 1.41.59.51 0 1.02-.2 1.41-.59l7.78-7.78 2.81-2.81c.8-.78.8-2.07 0-2.86zM5.41 20L4 18.59l7.72-7.72 1.47 1.35L5.41 20z\"/>\n",
              "  </svg>\n",
              "      </button>\n",
              "      \n",
              "  <style>\n",
              "    .colab-df-container {\n",
              "      display:flex;\n",
              "      flex-wrap:wrap;\n",
              "      gap: 12px;\n",
              "    }\n",
              "\n",
              "    .colab-df-convert {\n",
              "      background-color: #E8F0FE;\n",
              "      border: none;\n",
              "      border-radius: 50%;\n",
              "      cursor: pointer;\n",
              "      display: none;\n",
              "      fill: #1967D2;\n",
              "      height: 32px;\n",
              "      padding: 0 0 0 0;\n",
              "      width: 32px;\n",
              "    }\n",
              "\n",
              "    .colab-df-convert:hover {\n",
              "      background-color: #E2EBFA;\n",
              "      box-shadow: 0px 1px 2px rgba(60, 64, 67, 0.3), 0px 1px 3px 1px rgba(60, 64, 67, 0.15);\n",
              "      fill: #174EA6;\n",
              "    }\n",
              "\n",
              "    [theme=dark] .colab-df-convert {\n",
              "      background-color: #3B4455;\n",
              "      fill: #D2E3FC;\n",
              "    }\n",
              "\n",
              "    [theme=dark] .colab-df-convert:hover {\n",
              "      background-color: #434B5C;\n",
              "      box-shadow: 0px 1px 3px 1px rgba(0, 0, 0, 0.15);\n",
              "      filter: drop-shadow(0px 1px 2px rgba(0, 0, 0, 0.3));\n",
              "      fill: #FFFFFF;\n",
              "    }\n",
              "  </style>\n",
              "\n",
              "      <script>\n",
              "        const buttonEl =\n",
              "          document.querySelector('#df-2fcf0f9a-f6bd-4f06-962e-11e7cf051eed button.colab-df-convert');\n",
              "        buttonEl.style.display =\n",
              "          google.colab.kernel.accessAllowed ? 'block' : 'none';\n",
              "\n",
              "        async function convertToInteractive(key) {\n",
              "          const element = document.querySelector('#df-2fcf0f9a-f6bd-4f06-962e-11e7cf051eed');\n",
              "          const dataTable =\n",
              "            await google.colab.kernel.invokeFunction('convertToInteractive',\n",
              "                                                     [key], {});\n",
              "          if (!dataTable) return;\n",
              "\n",
              "          const docLinkHtml = 'Like what you see? Visit the ' +\n",
              "            '<a target=\"_blank\" href=https://colab.research.google.com/notebooks/data_table.ipynb>data table notebook</a>'\n",
              "            + ' to learn more about interactive tables.';\n",
              "          element.innerHTML = '';\n",
              "          dataTable['output_type'] = 'display_data';\n",
              "          await google.colab.output.renderOutput(dataTable, element);\n",
              "          const docLink = document.createElement('div');\n",
              "          docLink.innerHTML = docLinkHtml;\n",
              "          element.appendChild(docLink);\n",
              "        }\n",
              "      </script>\n",
              "    </div>\n",
              "  </div>\n",
              "  "
            ]
          },
          "metadata": {},
          "execution_count": 176
        }
      ]
    },
    {
      "cell_type": "code",
      "source": [
        "#because in the Noc_region data frame NOC for Singapore is SIN and in the athlete_events data frame it is SGP we missed some data so we replace \"unknown\" with \"singapore\"\n",
        "df[\"region\"]=df[\"region\"].replace('unknown','Singapore')\n",
        "region_singapore=df.loc[(df[\"region\"]==\"Singapore\")]\n",
        "region_singapore"
      ],
      "metadata": {
        "colab": {
          "base_uri": "https://localhost:8080/",
          "height": 864
        },
        "id": "PsmiiHsR2O3X",
        "outputId": "ba22e359-fbd8-4c1b-f78c-2876e48392d1"
      },
      "execution_count": 177,
      "outputs": [
        {
          "output_type": "execute_result",
          "data": {
            "text/plain": [
              "                          Name Sex  Age  Height  Weight       Team  NOC  \\\n",
              "67723            Feng Tian Wei   F   21     163      55  Singapore  SGP   \n",
              "67724            Feng Tian Wei   F   25     163      55  Singapore  SGP   \n",
              "67725            Feng Tian Wei   F   25     163      55  Singapore  SGP   \n",
              "138095              Li Jia Wei   F   26     170      60  Singapore  SGP   \n",
              "138096              Li Jia Wei   F   30     170      60  Singapore  SGP   \n",
              "213955  Joseph Isaac Schooling   M   21     184      74  Singapore  SGP   \n",
              "235908  Howe Liang \"Tiger\" Tan   M   27     160      69  Singapore  SGP   \n",
              "256622             Wang Jue Gu   F   28     155      63  Singapore  SGP   \n",
              "256624             Wang Jue Gu   F   32     155      63  Singapore  SGP   \n",
              "\n",
              "              Games  Year  Season            City          Sport  \\\n",
              "67723   2008 Summer  2008  Summer         Beijing   Table Tennis   \n",
              "67724   2012 Summer  2012  Summer          London   Table Tennis   \n",
              "67725   2012 Summer  2012  Summer          London   Table Tennis   \n",
              "138095  2008 Summer  2008  Summer         Beijing   Table Tennis   \n",
              "138096  2012 Summer  2012  Summer          London   Table Tennis   \n",
              "213955  2016 Summer  2016  Summer  Rio de Janeiro       Swimming   \n",
              "235908  1960 Summer  1960  Summer            Roma  Weightlifting   \n",
              "256622  2008 Summer  2008  Summer         Beijing   Table Tennis   \n",
              "256624  2012 Summer  2012  Summer          London   Table Tennis   \n",
              "\n",
              "                                      Event   Medal     region  \n",
              "67723             Table Tennis Women's Team  Silver  Singapore  \n",
              "67724          Table Tennis Women's Singles  Bronze  Singapore  \n",
              "67725             Table Tennis Women's Team  Bronze  Singapore  \n",
              "138095            Table Tennis Women's Team  Silver  Singapore  \n",
              "138096            Table Tennis Women's Team  Bronze  Singapore  \n",
              "213955  Swimming Men's 100 metres Butterfly    Gold  Singapore  \n",
              "235908      Weightlifting Men's Lightweight  Silver  Singapore  \n",
              "256622            Table Tennis Women's Team  Silver  Singapore  \n",
              "256624            Table Tennis Women's Team  Bronze  Singapore  "
            ],
            "text/html": [
              "\n",
              "  <div id=\"df-7948ea7b-b805-47bc-a8ef-1cfd46e3487b\">\n",
              "    <div class=\"colab-df-container\">\n",
              "      <div>\n",
              "<style scoped>\n",
              "    .dataframe tbody tr th:only-of-type {\n",
              "        vertical-align: middle;\n",
              "    }\n",
              "\n",
              "    .dataframe tbody tr th {\n",
              "        vertical-align: top;\n",
              "    }\n",
              "\n",
              "    .dataframe thead th {\n",
              "        text-align: right;\n",
              "    }\n",
              "</style>\n",
              "<table border=\"1\" class=\"dataframe\">\n",
              "  <thead>\n",
              "    <tr style=\"text-align: right;\">\n",
              "      <th></th>\n",
              "      <th>Name</th>\n",
              "      <th>Sex</th>\n",
              "      <th>Age</th>\n",
              "      <th>Height</th>\n",
              "      <th>Weight</th>\n",
              "      <th>Team</th>\n",
              "      <th>NOC</th>\n",
              "      <th>Games</th>\n",
              "      <th>Year</th>\n",
              "      <th>Season</th>\n",
              "      <th>City</th>\n",
              "      <th>Sport</th>\n",
              "      <th>Event</th>\n",
              "      <th>Medal</th>\n",
              "      <th>region</th>\n",
              "    </tr>\n",
              "  </thead>\n",
              "  <tbody>\n",
              "    <tr>\n",
              "      <th>67723</th>\n",
              "      <td>Feng Tian Wei</td>\n",
              "      <td>F</td>\n",
              "      <td>21</td>\n",
              "      <td>163</td>\n",
              "      <td>55</td>\n",
              "      <td>Singapore</td>\n",
              "      <td>SGP</td>\n",
              "      <td>2008 Summer</td>\n",
              "      <td>2008</td>\n",
              "      <td>Summer</td>\n",
              "      <td>Beijing</td>\n",
              "      <td>Table Tennis</td>\n",
              "      <td>Table Tennis Women's Team</td>\n",
              "      <td>Silver</td>\n",
              "      <td>Singapore</td>\n",
              "    </tr>\n",
              "    <tr>\n",
              "      <th>67724</th>\n",
              "      <td>Feng Tian Wei</td>\n",
              "      <td>F</td>\n",
              "      <td>25</td>\n",
              "      <td>163</td>\n",
              "      <td>55</td>\n",
              "      <td>Singapore</td>\n",
              "      <td>SGP</td>\n",
              "      <td>2012 Summer</td>\n",
              "      <td>2012</td>\n",
              "      <td>Summer</td>\n",
              "      <td>London</td>\n",
              "      <td>Table Tennis</td>\n",
              "      <td>Table Tennis Women's Singles</td>\n",
              "      <td>Bronze</td>\n",
              "      <td>Singapore</td>\n",
              "    </tr>\n",
              "    <tr>\n",
              "      <th>67725</th>\n",
              "      <td>Feng Tian Wei</td>\n",
              "      <td>F</td>\n",
              "      <td>25</td>\n",
              "      <td>163</td>\n",
              "      <td>55</td>\n",
              "      <td>Singapore</td>\n",
              "      <td>SGP</td>\n",
              "      <td>2012 Summer</td>\n",
              "      <td>2012</td>\n",
              "      <td>Summer</td>\n",
              "      <td>London</td>\n",
              "      <td>Table Tennis</td>\n",
              "      <td>Table Tennis Women's Team</td>\n",
              "      <td>Bronze</td>\n",
              "      <td>Singapore</td>\n",
              "    </tr>\n",
              "    <tr>\n",
              "      <th>138095</th>\n",
              "      <td>Li Jia Wei</td>\n",
              "      <td>F</td>\n",
              "      <td>26</td>\n",
              "      <td>170</td>\n",
              "      <td>60</td>\n",
              "      <td>Singapore</td>\n",
              "      <td>SGP</td>\n",
              "      <td>2008 Summer</td>\n",
              "      <td>2008</td>\n",
              "      <td>Summer</td>\n",
              "      <td>Beijing</td>\n",
              "      <td>Table Tennis</td>\n",
              "      <td>Table Tennis Women's Team</td>\n",
              "      <td>Silver</td>\n",
              "      <td>Singapore</td>\n",
              "    </tr>\n",
              "    <tr>\n",
              "      <th>138096</th>\n",
              "      <td>Li Jia Wei</td>\n",
              "      <td>F</td>\n",
              "      <td>30</td>\n",
              "      <td>170</td>\n",
              "      <td>60</td>\n",
              "      <td>Singapore</td>\n",
              "      <td>SGP</td>\n",
              "      <td>2012 Summer</td>\n",
              "      <td>2012</td>\n",
              "      <td>Summer</td>\n",
              "      <td>London</td>\n",
              "      <td>Table Tennis</td>\n",
              "      <td>Table Tennis Women's Team</td>\n",
              "      <td>Bronze</td>\n",
              "      <td>Singapore</td>\n",
              "    </tr>\n",
              "    <tr>\n",
              "      <th>213955</th>\n",
              "      <td>Joseph Isaac Schooling</td>\n",
              "      <td>M</td>\n",
              "      <td>21</td>\n",
              "      <td>184</td>\n",
              "      <td>74</td>\n",
              "      <td>Singapore</td>\n",
              "      <td>SGP</td>\n",
              "      <td>2016 Summer</td>\n",
              "      <td>2016</td>\n",
              "      <td>Summer</td>\n",
              "      <td>Rio de Janeiro</td>\n",
              "      <td>Swimming</td>\n",
              "      <td>Swimming Men's 100 metres Butterfly</td>\n",
              "      <td>Gold</td>\n",
              "      <td>Singapore</td>\n",
              "    </tr>\n",
              "    <tr>\n",
              "      <th>235908</th>\n",
              "      <td>Howe Liang \"Tiger\" Tan</td>\n",
              "      <td>M</td>\n",
              "      <td>27</td>\n",
              "      <td>160</td>\n",
              "      <td>69</td>\n",
              "      <td>Singapore</td>\n",
              "      <td>SGP</td>\n",
              "      <td>1960 Summer</td>\n",
              "      <td>1960</td>\n",
              "      <td>Summer</td>\n",
              "      <td>Roma</td>\n",
              "      <td>Weightlifting</td>\n",
              "      <td>Weightlifting Men's Lightweight</td>\n",
              "      <td>Silver</td>\n",
              "      <td>Singapore</td>\n",
              "    </tr>\n",
              "    <tr>\n",
              "      <th>256622</th>\n",
              "      <td>Wang Jue Gu</td>\n",
              "      <td>F</td>\n",
              "      <td>28</td>\n",
              "      <td>155</td>\n",
              "      <td>63</td>\n",
              "      <td>Singapore</td>\n",
              "      <td>SGP</td>\n",
              "      <td>2008 Summer</td>\n",
              "      <td>2008</td>\n",
              "      <td>Summer</td>\n",
              "      <td>Beijing</td>\n",
              "      <td>Table Tennis</td>\n",
              "      <td>Table Tennis Women's Team</td>\n",
              "      <td>Silver</td>\n",
              "      <td>Singapore</td>\n",
              "    </tr>\n",
              "    <tr>\n",
              "      <th>256624</th>\n",
              "      <td>Wang Jue Gu</td>\n",
              "      <td>F</td>\n",
              "      <td>32</td>\n",
              "      <td>155</td>\n",
              "      <td>63</td>\n",
              "      <td>Singapore</td>\n",
              "      <td>SGP</td>\n",
              "      <td>2012 Summer</td>\n",
              "      <td>2012</td>\n",
              "      <td>Summer</td>\n",
              "      <td>London</td>\n",
              "      <td>Table Tennis</td>\n",
              "      <td>Table Tennis Women's Team</td>\n",
              "      <td>Bronze</td>\n",
              "      <td>Singapore</td>\n",
              "    </tr>\n",
              "  </tbody>\n",
              "</table>\n",
              "</div>\n",
              "      <button class=\"colab-df-convert\" onclick=\"convertToInteractive('df-7948ea7b-b805-47bc-a8ef-1cfd46e3487b')\"\n",
              "              title=\"Convert this dataframe to an interactive table.\"\n",
              "              style=\"display:none;\">\n",
              "        \n",
              "  <svg xmlns=\"http://www.w3.org/2000/svg\" height=\"24px\"viewBox=\"0 0 24 24\"\n",
              "       width=\"24px\">\n",
              "    <path d=\"M0 0h24v24H0V0z\" fill=\"none\"/>\n",
              "    <path d=\"M18.56 5.44l.94 2.06.94-2.06 2.06-.94-2.06-.94-.94-2.06-.94 2.06-2.06.94zm-11 1L8.5 8.5l.94-2.06 2.06-.94-2.06-.94L8.5 2.5l-.94 2.06-2.06.94zm10 10l.94 2.06.94-2.06 2.06-.94-2.06-.94-.94-2.06-.94 2.06-2.06.94z\"/><path d=\"M17.41 7.96l-1.37-1.37c-.4-.4-.92-.59-1.43-.59-.52 0-1.04.2-1.43.59L10.3 9.45l-7.72 7.72c-.78.78-.78 2.05 0 2.83L4 21.41c.39.39.9.59 1.41.59.51 0 1.02-.2 1.41-.59l7.78-7.78 2.81-2.81c.8-.78.8-2.07 0-2.86zM5.41 20L4 18.59l7.72-7.72 1.47 1.35L5.41 20z\"/>\n",
              "  </svg>\n",
              "      </button>\n",
              "      \n",
              "  <style>\n",
              "    .colab-df-container {\n",
              "      display:flex;\n",
              "      flex-wrap:wrap;\n",
              "      gap: 12px;\n",
              "    }\n",
              "\n",
              "    .colab-df-convert {\n",
              "      background-color: #E8F0FE;\n",
              "      border: none;\n",
              "      border-radius: 50%;\n",
              "      cursor: pointer;\n",
              "      display: none;\n",
              "      fill: #1967D2;\n",
              "      height: 32px;\n",
              "      padding: 0 0 0 0;\n",
              "      width: 32px;\n",
              "    }\n",
              "\n",
              "    .colab-df-convert:hover {\n",
              "      background-color: #E2EBFA;\n",
              "      box-shadow: 0px 1px 2px rgba(60, 64, 67, 0.3), 0px 1px 3px 1px rgba(60, 64, 67, 0.15);\n",
              "      fill: #174EA6;\n",
              "    }\n",
              "\n",
              "    [theme=dark] .colab-df-convert {\n",
              "      background-color: #3B4455;\n",
              "      fill: #D2E3FC;\n",
              "    }\n",
              "\n",
              "    [theme=dark] .colab-df-convert:hover {\n",
              "      background-color: #434B5C;\n",
              "      box-shadow: 0px 1px 3px 1px rgba(0, 0, 0, 0.15);\n",
              "      filter: drop-shadow(0px 1px 2px rgba(0, 0, 0, 0.3));\n",
              "      fill: #FFFFFF;\n",
              "    }\n",
              "  </style>\n",
              "\n",
              "      <script>\n",
              "        const buttonEl =\n",
              "          document.querySelector('#df-7948ea7b-b805-47bc-a8ef-1cfd46e3487b button.colab-df-convert');\n",
              "        buttonEl.style.display =\n",
              "          google.colab.kernel.accessAllowed ? 'block' : 'none';\n",
              "\n",
              "        async function convertToInteractive(key) {\n",
              "          const element = document.querySelector('#df-7948ea7b-b805-47bc-a8ef-1cfd46e3487b');\n",
              "          const dataTable =\n",
              "            await google.colab.kernel.invokeFunction('convertToInteractive',\n",
              "                                                     [key], {});\n",
              "          if (!dataTable) return;\n",
              "\n",
              "          const docLinkHtml = 'Like what you see? Visit the ' +\n",
              "            '<a target=\"_blank\" href=https://colab.research.google.com/notebooks/data_table.ipynb>data table notebook</a>'\n",
              "            + ' to learn more about interactive tables.';\n",
              "          element.innerHTML = '';\n",
              "          dataTable['output_type'] = 'display_data';\n",
              "          await google.colab.output.renderOutput(dataTable, element);\n",
              "          const docLink = document.createElement('div');\n",
              "          docLink.innerHTML = docLinkHtml;\n",
              "          element.appendChild(docLink);\n",
              "        }\n",
              "      </script>\n",
              "    </div>\n",
              "  </div>\n",
              "  "
            ]
          },
          "metadata": {},
          "execution_count": 177
        }
      ]
    },
    {
      "cell_type": "code",
      "source": [
        "df.isnull().sum()"
      ],
      "metadata": {
        "colab": {
          "base_uri": "https://localhost:8080/"
        },
        "id": "wtPS74MN2ZDF",
        "outputId": "1628ace5-4b45-4707-e4fa-36dbc0ce70a4"
      },
      "execution_count": 178,
      "outputs": [
        {
          "output_type": "execute_result",
          "data": {
            "text/plain": [
              "Name      0\n",
              "Sex       0\n",
              "Age       0\n",
              "Height    0\n",
              "Weight    0\n",
              "Team      0\n",
              "NOC       0\n",
              "Games     0\n",
              "Year      0\n",
              "Season    0\n",
              "City      0\n",
              "Sport     0\n",
              "Event     0\n",
              "Medal     0\n",
              "region    0\n",
              "dtype: int64"
            ]
          },
          "metadata": {},
          "execution_count": 178
        }
      ]
    },
    {
      "cell_type": "markdown",
      "source": [
        "#Data Exploration"
      ],
      "metadata": {
        "id": "7anWeMb3k6KL"
      }
    },
    {
      "cell_type": "code",
      "source": [
        "df.describe()"
      ],
      "metadata": {
        "id": "JoAPFhc53x45",
        "outputId": "9b5dbc62-b27b-4516-c94f-136229f058d6",
        "colab": {
          "base_uri": "https://localhost:8080/",
          "height": 300
        }
      },
      "execution_count": 179,
      "outputs": [
        {
          "output_type": "execute_result",
          "data": {
            "text/plain": [
              "                Age        Height        Weight          Year\n",
              "count  39772.000000  39772.000000  39772.000000  39772.000000\n",
              "mean      25.906215    176.995474     73.119054   1973.964296\n",
              "std        5.857790      9.686490     13.191658     33.805168\n",
              "min       10.000000    136.000000     28.000000   1896.000000\n",
              "25%       22.000000    172.000000     66.000000   1952.000000\n",
              "50%       25.000000    175.000000     71.000000   1984.000000\n",
              "75%       29.000000    183.000000     79.000000   2002.000000\n",
              "max       73.000000    223.000000    182.000000   2016.000000"
            ],
            "text/html": [
              "\n",
              "  <div id=\"df-64dd49fa-9ff7-416a-99a1-cd8e7fc1d84e\">\n",
              "    <div class=\"colab-df-container\">\n",
              "      <div>\n",
              "<style scoped>\n",
              "    .dataframe tbody tr th:only-of-type {\n",
              "        vertical-align: middle;\n",
              "    }\n",
              "\n",
              "    .dataframe tbody tr th {\n",
              "        vertical-align: top;\n",
              "    }\n",
              "\n",
              "    .dataframe thead th {\n",
              "        text-align: right;\n",
              "    }\n",
              "</style>\n",
              "<table border=\"1\" class=\"dataframe\">\n",
              "  <thead>\n",
              "    <tr style=\"text-align: right;\">\n",
              "      <th></th>\n",
              "      <th>Age</th>\n",
              "      <th>Height</th>\n",
              "      <th>Weight</th>\n",
              "      <th>Year</th>\n",
              "    </tr>\n",
              "  </thead>\n",
              "  <tbody>\n",
              "    <tr>\n",
              "      <th>count</th>\n",
              "      <td>39772.000000</td>\n",
              "      <td>39772.000000</td>\n",
              "      <td>39772.000000</td>\n",
              "      <td>39772.000000</td>\n",
              "    </tr>\n",
              "    <tr>\n",
              "      <th>mean</th>\n",
              "      <td>25.906215</td>\n",
              "      <td>176.995474</td>\n",
              "      <td>73.119054</td>\n",
              "      <td>1973.964296</td>\n",
              "    </tr>\n",
              "    <tr>\n",
              "      <th>std</th>\n",
              "      <td>5.857790</td>\n",
              "      <td>9.686490</td>\n",
              "      <td>13.191658</td>\n",
              "      <td>33.805168</td>\n",
              "    </tr>\n",
              "    <tr>\n",
              "      <th>min</th>\n",
              "      <td>10.000000</td>\n",
              "      <td>136.000000</td>\n",
              "      <td>28.000000</td>\n",
              "      <td>1896.000000</td>\n",
              "    </tr>\n",
              "    <tr>\n",
              "      <th>25%</th>\n",
              "      <td>22.000000</td>\n",
              "      <td>172.000000</td>\n",
              "      <td>66.000000</td>\n",
              "      <td>1952.000000</td>\n",
              "    </tr>\n",
              "    <tr>\n",
              "      <th>50%</th>\n",
              "      <td>25.000000</td>\n",
              "      <td>175.000000</td>\n",
              "      <td>71.000000</td>\n",
              "      <td>1984.000000</td>\n",
              "    </tr>\n",
              "    <tr>\n",
              "      <th>75%</th>\n",
              "      <td>29.000000</td>\n",
              "      <td>183.000000</td>\n",
              "      <td>79.000000</td>\n",
              "      <td>2002.000000</td>\n",
              "    </tr>\n",
              "    <tr>\n",
              "      <th>max</th>\n",
              "      <td>73.000000</td>\n",
              "      <td>223.000000</td>\n",
              "      <td>182.000000</td>\n",
              "      <td>2016.000000</td>\n",
              "    </tr>\n",
              "  </tbody>\n",
              "</table>\n",
              "</div>\n",
              "      <button class=\"colab-df-convert\" onclick=\"convertToInteractive('df-64dd49fa-9ff7-416a-99a1-cd8e7fc1d84e')\"\n",
              "              title=\"Convert this dataframe to an interactive table.\"\n",
              "              style=\"display:none;\">\n",
              "        \n",
              "  <svg xmlns=\"http://www.w3.org/2000/svg\" height=\"24px\"viewBox=\"0 0 24 24\"\n",
              "       width=\"24px\">\n",
              "    <path d=\"M0 0h24v24H0V0z\" fill=\"none\"/>\n",
              "    <path d=\"M18.56 5.44l.94 2.06.94-2.06 2.06-.94-2.06-.94-.94-2.06-.94 2.06-2.06.94zm-11 1L8.5 8.5l.94-2.06 2.06-.94-2.06-.94L8.5 2.5l-.94 2.06-2.06.94zm10 10l.94 2.06.94-2.06 2.06-.94-2.06-.94-.94-2.06-.94 2.06-2.06.94z\"/><path d=\"M17.41 7.96l-1.37-1.37c-.4-.4-.92-.59-1.43-.59-.52 0-1.04.2-1.43.59L10.3 9.45l-7.72 7.72c-.78.78-.78 2.05 0 2.83L4 21.41c.39.39.9.59 1.41.59.51 0 1.02-.2 1.41-.59l7.78-7.78 2.81-2.81c.8-.78.8-2.07 0-2.86zM5.41 20L4 18.59l7.72-7.72 1.47 1.35L5.41 20z\"/>\n",
              "  </svg>\n",
              "      </button>\n",
              "      \n",
              "  <style>\n",
              "    .colab-df-container {\n",
              "      display:flex;\n",
              "      flex-wrap:wrap;\n",
              "      gap: 12px;\n",
              "    }\n",
              "\n",
              "    .colab-df-convert {\n",
              "      background-color: #E8F0FE;\n",
              "      border: none;\n",
              "      border-radius: 50%;\n",
              "      cursor: pointer;\n",
              "      display: none;\n",
              "      fill: #1967D2;\n",
              "      height: 32px;\n",
              "      padding: 0 0 0 0;\n",
              "      width: 32px;\n",
              "    }\n",
              "\n",
              "    .colab-df-convert:hover {\n",
              "      background-color: #E2EBFA;\n",
              "      box-shadow: 0px 1px 2px rgba(60, 64, 67, 0.3), 0px 1px 3px 1px rgba(60, 64, 67, 0.15);\n",
              "      fill: #174EA6;\n",
              "    }\n",
              "\n",
              "    [theme=dark] .colab-df-convert {\n",
              "      background-color: #3B4455;\n",
              "      fill: #D2E3FC;\n",
              "    }\n",
              "\n",
              "    [theme=dark] .colab-df-convert:hover {\n",
              "      background-color: #434B5C;\n",
              "      box-shadow: 0px 1px 3px 1px rgba(0, 0, 0, 0.15);\n",
              "      filter: drop-shadow(0px 1px 2px rgba(0, 0, 0, 0.3));\n",
              "      fill: #FFFFFF;\n",
              "    }\n",
              "  </style>\n",
              "\n",
              "      <script>\n",
              "        const buttonEl =\n",
              "          document.querySelector('#df-64dd49fa-9ff7-416a-99a1-cd8e7fc1d84e button.colab-df-convert');\n",
              "        buttonEl.style.display =\n",
              "          google.colab.kernel.accessAllowed ? 'block' : 'none';\n",
              "\n",
              "        async function convertToInteractive(key) {\n",
              "          const element = document.querySelector('#df-64dd49fa-9ff7-416a-99a1-cd8e7fc1d84e');\n",
              "          const dataTable =\n",
              "            await google.colab.kernel.invokeFunction('convertToInteractive',\n",
              "                                                     [key], {});\n",
              "          if (!dataTable) return;\n",
              "\n",
              "          const docLinkHtml = 'Like what you see? Visit the ' +\n",
              "            '<a target=\"_blank\" href=https://colab.research.google.com/notebooks/data_table.ipynb>data table notebook</a>'\n",
              "            + ' to learn more about interactive tables.';\n",
              "          element.innerHTML = '';\n",
              "          dataTable['output_type'] = 'display_data';\n",
              "          await google.colab.output.renderOutput(dataTable, element);\n",
              "          const docLink = document.createElement('div');\n",
              "          docLink.innerHTML = docLinkHtml;\n",
              "          element.appendChild(docLink);\n",
              "        }\n",
              "      </script>\n",
              "    </div>\n",
              "  </div>\n",
              "  "
            ]
          },
          "metadata": {},
          "execution_count": 179
        }
      ]
    },
    {
      "cell_type": "code",
      "source": [
        "df.info()"
      ],
      "metadata": {
        "id": "GeVx7ub84oZB",
        "outputId": "2671ee6a-ce34-4ba4-c940-8b8b949b2cef",
        "colab": {
          "base_uri": "https://localhost:8080/"
        }
      },
      "execution_count": 180,
      "outputs": [
        {
          "output_type": "stream",
          "name": "stdout",
          "text": [
            "<class 'pandas.core.frame.DataFrame'>\n",
            "Int64Index: 39772 entries, 3 to 271103\n",
            "Data columns (total 15 columns):\n",
            " #   Column  Non-Null Count  Dtype \n",
            "---  ------  --------------  ----- \n",
            " 0   Name    39772 non-null  object\n",
            " 1   Sex     39772 non-null  object\n",
            " 2   Age     39772 non-null  int64 \n",
            " 3   Height  39772 non-null  int64 \n",
            " 4   Weight  39772 non-null  int64 \n",
            " 5   Team    39772 non-null  object\n",
            " 6   NOC     39772 non-null  object\n",
            " 7   Games   39772 non-null  object\n",
            " 8   Year    39772 non-null  int64 \n",
            " 9   Season  39772 non-null  object\n",
            " 10  City    39772 non-null  object\n",
            " 11  Sport   39772 non-null  object\n",
            " 12  Event   39772 non-null  object\n",
            " 13  Medal   39772 non-null  object\n",
            " 14  region  39772 non-null  object\n",
            "dtypes: int64(4), object(11)\n",
            "memory usage: 4.9+ MB\n"
          ]
        }
      ]
    },
    {
      "cell_type": "code",
      "source": [
        "#number of different medals from 1896 to 2016\n",
        "number_of_different_medals=df['Medal'].value_counts()\n",
        "number_of_different_medals"
      ],
      "metadata": {
        "id": "-3Z_zh6wRpvO",
        "outputId": "7e3b9ead-2b50-4db1-b3b7-b97682156a4c",
        "colab": {
          "base_uri": "https://localhost:8080/"
        }
      },
      "execution_count": 213,
      "outputs": [
        {
          "output_type": "execute_result",
          "data": {
            "text/plain": [
              "Gold      13369\n",
              "Bronze    13295\n",
              "Silver    13108\n",
              "Name: Medal, dtype: int64"
            ]
          },
          "metadata": {},
          "execution_count": 213
        }
      ]
    },
    {
      "cell_type": "code",
      "source": [
        "df['Year'].nunique()"
      ],
      "metadata": {
        "id": "BGs7_WH3T3mn",
        "outputId": "777cb42d-7f88-4b96-ee92-f54cc0beac32",
        "colab": {
          "base_uri": "https://localhost:8080/"
        }
      },
      "execution_count": 182,
      "outputs": [
        {
          "output_type": "execute_result",
          "data": {
            "text/plain": [
              "35"
            ]
          },
          "metadata": {},
          "execution_count": 182
        }
      ]
    },
    {
      "cell_type": "code",
      "source": [
        "#number of Medals in each year\n",
        "years_df = df.groupby('Year').count()['Medal']\n",
        "years_df.sort_index()"
      ],
      "metadata": {
        "id": "miTjtxiWT---",
        "outputId": "800a0789-982b-4471-dbc4-02a7f6ac2f6a",
        "colab": {
          "base_uri": "https://localhost:8080/"
        }
      },
      "execution_count": 212,
      "outputs": [
        {
          "output_type": "execute_result",
          "data": {
            "text/plain": [
              "Year\n",
              "1896     143\n",
              "1900     593\n",
              "1904     486\n",
              "1906     458\n",
              "1908     831\n",
              "1912     941\n",
              "1920    1308\n",
              "1924     962\n",
              "1928     823\n",
              "1932     739\n",
              "1936    1025\n",
              "1948     987\n",
              "1952    1033\n",
              "1956    1043\n",
              "1960    1058\n",
              "1964    1215\n",
              "1968    1256\n",
              "1972    1414\n",
              "1976    1531\n",
              "1980    1602\n",
              "1984    1698\n",
              "1988    1845\n",
              "1992    2030\n",
              "1994     331\n",
              "1996    1842\n",
              "1998     440\n",
              "2000    2004\n",
              "2002     478\n",
              "2004    2001\n",
              "2006     526\n",
              "2008    2048\n",
              "2010     520\n",
              "2012    1941\n",
              "2014     597\n",
              "2016    2023\n",
              "Name: Medal, dtype: int64"
            ]
          },
          "metadata": {},
          "execution_count": 212
        }
      ]
    },
    {
      "cell_type": "code",
      "source": [
        "#number of women who have won 'Gold' medals\n",
        "women_with_gold=df[(df['Sex'] == 'F') & (df['Medal'] == 'Gold')].count()['Medal']\n",
        "women_with_gold"
      ],
      "metadata": {
        "id": "BtegJMgg3o9A",
        "outputId": "885a5be7-52ce-4c52-fcd5-99b14ac9a063",
        "colab": {
          "base_uri": "https://localhost:8080/"
        }
      },
      "execution_count": 200,
      "outputs": [
        {
          "output_type": "execute_result",
          "data": {
            "text/plain": [
              "3747"
            ]
          },
          "metadata": {},
          "execution_count": 200
        }
      ]
    },
    {
      "cell_type": "code",
      "source": [
        "#number of men who have won 'Gold' medals\n",
        "men_with_gold=df[(df['Sex'] == 'M') & (df['Medal'] == 'Gold')].count()['Medal']\n",
        "men_with_gold"
      ],
      "metadata": {
        "id": "MLeJ03fcAjJ_",
        "outputId": "3b4b086f-fdfe-44ad-9948-81eff94cefda",
        "colab": {
          "base_uri": "https://localhost:8080/"
        }
      },
      "execution_count": 201,
      "outputs": [
        {
          "output_type": "execute_result",
          "data": {
            "text/plain": [
              "9622"
            ]
          },
          "metadata": {},
          "execution_count": 201
        }
      ]
    }
  ]
}