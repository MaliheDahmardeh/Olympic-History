{
  "nbformat": 4,
  "nbformat_minor": 0,
  "metadata": {
    "colab": {
      "name": "Olympic-History.ipynb",
      "provenance": [],
      "toc_visible": true,
      "authorship_tag": "ABX9TyOYfE0sRL4ZcdKQcvE7qcc0",
      "include_colab_link": true
    },
    "kernelspec": {
      "name": "python3",
      "display_name": "Python 3"
    },
    "language_info": {
      "name": "python"
    }
  },
  "cells": [
    {
      "cell_type": "markdown",
      "metadata": {
        "id": "view-in-github",
        "colab_type": "text"
      },
      "source": [
        "<a href=\"https://colab.research.google.com/github/MaliheDahmardeh/Olympic-History/blob/main/Olympic_History.ipynb\" target=\"_parent\"><img src=\"https://colab.research.google.com/assets/colab-badge.svg\" alt=\"Open In Colab\"/></a>"
      ]
    },
    {
      "cell_type": "markdown",
      "source": [
        "#Data info"
      ],
      "metadata": {
        "id": "GF9U3L5pEkHv"
      }
    },
    {
      "cell_type": "markdown",
      "source": [
        "**Context:**\n",
        "\n",
        "This is a historical dataset on the modern Olympic Games, including all the Games from Athens 1896 to Rio 2016. data has scraped from www.sports-reference.com in May 2018. \n",
        "\n",
        "The Winter and Summer Games were held in the same year up until 1992. After that, they staggered them such that Winter Games occur on a four year cycle starting with 1994, then Summer in 1996, then Winter in 1998, and so on.\n",
        "\n",
        "**Content:**\n",
        "\n",
        "The file athlete_events.csv contains 271116 rows and 15 columns. Each row corresponds to an individual athlete competing in an individual Olympic event (athlete-events). The columns are:\n",
        "\n",
        "ID : Unique number for each athlete\n",
        "\n",
        "Name : Athlete's name\n",
        "\n",
        "Sex : M or F\n",
        "\n",
        "Age : Integer\n",
        "\n",
        "Height : In centimeters\n",
        "\n",
        "Weight : In kilograms\n",
        "\n",
        "Team : Team name\n",
        "\n",
        "NOC : National Olympic Committee 3-letter code\n",
        "\n",
        "Games : Year and season\n",
        "\n",
        "Year : Integer\n",
        "\n",
        "Season : Summer or Winter\n",
        "\n",
        "City : Host city\n",
        "\n",
        "Sport : Sport\n",
        "\n",
        "Event : Event\n",
        "\n",
        "Medal : Gold, Silver, Bronze, or NA"
      ],
      "metadata": {
        "id": "whGNd-PXBn66"
      }
    },
    {
      "cell_type": "markdown",
      "source": [
        "#Dataset loading"
      ],
      "metadata": {
        "id": "aTDaqEHsBiWk"
      }
    },
    {
      "cell_type": "code",
      "execution_count": 110,
      "metadata": {
        "id": "hsVRuaEiQeYi"
      },
      "outputs": [],
      "source": [
        "import numpy as np\n",
        "import pandas as pd\n",
        "import matplotlib.pyplot as plt\n",
        "import seaborn as sns\n",
        "import plotly.express as px\n",
        "from sklearn.ensemble import RandomForestClassifier\n",
        "from sklearn.model_selection import train_test_split\n",
        "from sklearn import metrics \n",
        "from sklearn.metrics import classification_report\n",
        "from sklearn.metrics import confusion_matrix\n",
        "from sklearn.metrics import accuracy_score\n",
        "from sklearn.preprocessing import StandardScaler"
      ]
    },
    {
      "cell_type": "code",
      "source": [
        "!ls"
      ],
      "metadata": {
        "colab": {
          "base_uri": "https://localhost:8080/"
        },
        "id": "_kmTUksTQsb0",
        "outputId": "36d0ca16-e641-4ccb-8339-c7654b001dc2"
      },
      "execution_count": 111,
      "outputs": [
        {
          "output_type": "stream",
          "name": "stdout",
          "text": [
            "athlete_events.csv  noc_regions.csv  sample_data\n"
          ]
        }
      ]
    },
    {
      "cell_type": "code",
      "source": [
        "df_events = pd.read_csv('athlete_events.csv')"
      ],
      "metadata": {
        "id": "vu8gEypwSdy2"
      },
      "execution_count": 112,
      "outputs": []
    },
    {
      "cell_type": "code",
      "source": [
        "df_noc = pd.read_csv('noc_regions.csv')"
      ],
      "metadata": {
        "id": "wDsromvbmNOP"
      },
      "execution_count": 113,
      "outputs": []
    },
    {
      "cell_type": "code",
      "source": [
        "df = pd.merge(df_events,df_noc,on='NOC',how='left')\n",
        "df"
      ],
      "metadata": {
        "id": "secJsc_ImJmV",
        "colab": {
          "base_uri": "https://localhost:8080/",
          "height": 973
        },
        "outputId": "4e727b20-2ff9-46eb-fca6-8cd4943104d2"
      },
      "execution_count": 114,
      "outputs": [
        {
          "output_type": "execute_result",
          "data": {
            "text/plain": [
              "            ID                      Name Sex   Age  Height  Weight  \\\n",
              "0            1                 A Dijiang   M  24.0   180.0    80.0   \n",
              "1            2                  A Lamusi   M  23.0   170.0    60.0   \n",
              "2            3       Gunnar Nielsen Aaby   M  24.0     NaN     NaN   \n",
              "3            4      Edgar Lindenau Aabye   M  34.0     NaN     NaN   \n",
              "4            5  Christine Jacoba Aaftink   F  21.0   185.0    82.0   \n",
              "...        ...                       ...  ..   ...     ...     ...   \n",
              "271111  135569                Andrzej ya   M  29.0   179.0    89.0   \n",
              "271112  135570                  Piotr ya   M  27.0   176.0    59.0   \n",
              "271113  135570                  Piotr ya   M  27.0   176.0    59.0   \n",
              "271114  135571        Tomasz Ireneusz ya   M  30.0   185.0    96.0   \n",
              "271115  135571        Tomasz Ireneusz ya   M  34.0   185.0    96.0   \n",
              "\n",
              "                  Team  NOC        Games  Year  Season            City  \\\n",
              "0                China  CHN  1992 Summer  1992  Summer       Barcelona   \n",
              "1                China  CHN  2012 Summer  2012  Summer          London   \n",
              "2              Denmark  DEN  1920 Summer  1920  Summer       Antwerpen   \n",
              "3       Denmark/Sweden  DEN  1900 Summer  1900  Summer           Paris   \n",
              "4          Netherlands  NED  1988 Winter  1988  Winter         Calgary   \n",
              "...                ...  ...          ...   ...     ...             ...   \n",
              "271111        Poland-1  POL  1976 Winter  1976  Winter       Innsbruck   \n",
              "271112          Poland  POL  2014 Winter  2014  Winter           Sochi   \n",
              "271113          Poland  POL  2014 Winter  2014  Winter           Sochi   \n",
              "271114          Poland  POL  1998 Winter  1998  Winter          Nagano   \n",
              "271115          Poland  POL  2002 Winter  2002  Winter  Salt Lake City   \n",
              "\n",
              "                Sport                                     Event Medal  \\\n",
              "0          Basketball               Basketball Men's Basketball   NaN   \n",
              "1                Judo              Judo Men's Extra-Lightweight   NaN   \n",
              "2            Football                   Football Men's Football   NaN   \n",
              "3          Tug-Of-War               Tug-Of-War Men's Tug-Of-War  Gold   \n",
              "4       Speed Skating          Speed Skating Women's 500 metres   NaN   \n",
              "...               ...                                       ...   ...   \n",
              "271111           Luge                Luge Mixed (Men)'s Doubles   NaN   \n",
              "271112    Ski Jumping  Ski Jumping Men's Large Hill, Individual   NaN   \n",
              "271113    Ski Jumping        Ski Jumping Men's Large Hill, Team   NaN   \n",
              "271114      Bobsleigh                      Bobsleigh Men's Four   NaN   \n",
              "271115      Bobsleigh                      Bobsleigh Men's Four   NaN   \n",
              "\n",
              "             region notes  \n",
              "0             China   NaN  \n",
              "1             China   NaN  \n",
              "2           Denmark   NaN  \n",
              "3           Denmark   NaN  \n",
              "4       Netherlands   NaN  \n",
              "...             ...   ...  \n",
              "271111       Poland   NaN  \n",
              "271112       Poland   NaN  \n",
              "271113       Poland   NaN  \n",
              "271114       Poland   NaN  \n",
              "271115       Poland   NaN  \n",
              "\n",
              "[271116 rows x 17 columns]"
            ],
            "text/html": [
              "\n",
              "  <div id=\"df-09e86d95-ab08-4f24-bf57-9fa601a39284\">\n",
              "    <div class=\"colab-df-container\">\n",
              "      <div>\n",
              "<style scoped>\n",
              "    .dataframe tbody tr th:only-of-type {\n",
              "        vertical-align: middle;\n",
              "    }\n",
              "\n",
              "    .dataframe tbody tr th {\n",
              "        vertical-align: top;\n",
              "    }\n",
              "\n",
              "    .dataframe thead th {\n",
              "        text-align: right;\n",
              "    }\n",
              "</style>\n",
              "<table border=\"1\" class=\"dataframe\">\n",
              "  <thead>\n",
              "    <tr style=\"text-align: right;\">\n",
              "      <th></th>\n",
              "      <th>ID</th>\n",
              "      <th>Name</th>\n",
              "      <th>Sex</th>\n",
              "      <th>Age</th>\n",
              "      <th>Height</th>\n",
              "      <th>Weight</th>\n",
              "      <th>Team</th>\n",
              "      <th>NOC</th>\n",
              "      <th>Games</th>\n",
              "      <th>Year</th>\n",
              "      <th>Season</th>\n",
              "      <th>City</th>\n",
              "      <th>Sport</th>\n",
              "      <th>Event</th>\n",
              "      <th>Medal</th>\n",
              "      <th>region</th>\n",
              "      <th>notes</th>\n",
              "    </tr>\n",
              "  </thead>\n",
              "  <tbody>\n",
              "    <tr>\n",
              "      <th>0</th>\n",
              "      <td>1</td>\n",
              "      <td>A Dijiang</td>\n",
              "      <td>M</td>\n",
              "      <td>24.0</td>\n",
              "      <td>180.0</td>\n",
              "      <td>80.0</td>\n",
              "      <td>China</td>\n",
              "      <td>CHN</td>\n",
              "      <td>1992 Summer</td>\n",
              "      <td>1992</td>\n",
              "      <td>Summer</td>\n",
              "      <td>Barcelona</td>\n",
              "      <td>Basketball</td>\n",
              "      <td>Basketball Men's Basketball</td>\n",
              "      <td>NaN</td>\n",
              "      <td>China</td>\n",
              "      <td>NaN</td>\n",
              "    </tr>\n",
              "    <tr>\n",
              "      <th>1</th>\n",
              "      <td>2</td>\n",
              "      <td>A Lamusi</td>\n",
              "      <td>M</td>\n",
              "      <td>23.0</td>\n",
              "      <td>170.0</td>\n",
              "      <td>60.0</td>\n",
              "      <td>China</td>\n",
              "      <td>CHN</td>\n",
              "      <td>2012 Summer</td>\n",
              "      <td>2012</td>\n",
              "      <td>Summer</td>\n",
              "      <td>London</td>\n",
              "      <td>Judo</td>\n",
              "      <td>Judo Men's Extra-Lightweight</td>\n",
              "      <td>NaN</td>\n",
              "      <td>China</td>\n",
              "      <td>NaN</td>\n",
              "    </tr>\n",
              "    <tr>\n",
              "      <th>2</th>\n",
              "      <td>3</td>\n",
              "      <td>Gunnar Nielsen Aaby</td>\n",
              "      <td>M</td>\n",
              "      <td>24.0</td>\n",
              "      <td>NaN</td>\n",
              "      <td>NaN</td>\n",
              "      <td>Denmark</td>\n",
              "      <td>DEN</td>\n",
              "      <td>1920 Summer</td>\n",
              "      <td>1920</td>\n",
              "      <td>Summer</td>\n",
              "      <td>Antwerpen</td>\n",
              "      <td>Football</td>\n",
              "      <td>Football Men's Football</td>\n",
              "      <td>NaN</td>\n",
              "      <td>Denmark</td>\n",
              "      <td>NaN</td>\n",
              "    </tr>\n",
              "    <tr>\n",
              "      <th>3</th>\n",
              "      <td>4</td>\n",
              "      <td>Edgar Lindenau Aabye</td>\n",
              "      <td>M</td>\n",
              "      <td>34.0</td>\n",
              "      <td>NaN</td>\n",
              "      <td>NaN</td>\n",
              "      <td>Denmark/Sweden</td>\n",
              "      <td>DEN</td>\n",
              "      <td>1900 Summer</td>\n",
              "      <td>1900</td>\n",
              "      <td>Summer</td>\n",
              "      <td>Paris</td>\n",
              "      <td>Tug-Of-War</td>\n",
              "      <td>Tug-Of-War Men's Tug-Of-War</td>\n",
              "      <td>Gold</td>\n",
              "      <td>Denmark</td>\n",
              "      <td>NaN</td>\n",
              "    </tr>\n",
              "    <tr>\n",
              "      <th>4</th>\n",
              "      <td>5</td>\n",
              "      <td>Christine Jacoba Aaftink</td>\n",
              "      <td>F</td>\n",
              "      <td>21.0</td>\n",
              "      <td>185.0</td>\n",
              "      <td>82.0</td>\n",
              "      <td>Netherlands</td>\n",
              "      <td>NED</td>\n",
              "      <td>1988 Winter</td>\n",
              "      <td>1988</td>\n",
              "      <td>Winter</td>\n",
              "      <td>Calgary</td>\n",
              "      <td>Speed Skating</td>\n",
              "      <td>Speed Skating Women's 500 metres</td>\n",
              "      <td>NaN</td>\n",
              "      <td>Netherlands</td>\n",
              "      <td>NaN</td>\n",
              "    </tr>\n",
              "    <tr>\n",
              "      <th>...</th>\n",
              "      <td>...</td>\n",
              "      <td>...</td>\n",
              "      <td>...</td>\n",
              "      <td>...</td>\n",
              "      <td>...</td>\n",
              "      <td>...</td>\n",
              "      <td>...</td>\n",
              "      <td>...</td>\n",
              "      <td>...</td>\n",
              "      <td>...</td>\n",
              "      <td>...</td>\n",
              "      <td>...</td>\n",
              "      <td>...</td>\n",
              "      <td>...</td>\n",
              "      <td>...</td>\n",
              "      <td>...</td>\n",
              "      <td>...</td>\n",
              "    </tr>\n",
              "    <tr>\n",
              "      <th>271111</th>\n",
              "      <td>135569</td>\n",
              "      <td>Andrzej ya</td>\n",
              "      <td>M</td>\n",
              "      <td>29.0</td>\n",
              "      <td>179.0</td>\n",
              "      <td>89.0</td>\n",
              "      <td>Poland-1</td>\n",
              "      <td>POL</td>\n",
              "      <td>1976 Winter</td>\n",
              "      <td>1976</td>\n",
              "      <td>Winter</td>\n",
              "      <td>Innsbruck</td>\n",
              "      <td>Luge</td>\n",
              "      <td>Luge Mixed (Men)'s Doubles</td>\n",
              "      <td>NaN</td>\n",
              "      <td>Poland</td>\n",
              "      <td>NaN</td>\n",
              "    </tr>\n",
              "    <tr>\n",
              "      <th>271112</th>\n",
              "      <td>135570</td>\n",
              "      <td>Piotr ya</td>\n",
              "      <td>M</td>\n",
              "      <td>27.0</td>\n",
              "      <td>176.0</td>\n",
              "      <td>59.0</td>\n",
              "      <td>Poland</td>\n",
              "      <td>POL</td>\n",
              "      <td>2014 Winter</td>\n",
              "      <td>2014</td>\n",
              "      <td>Winter</td>\n",
              "      <td>Sochi</td>\n",
              "      <td>Ski Jumping</td>\n",
              "      <td>Ski Jumping Men's Large Hill, Individual</td>\n",
              "      <td>NaN</td>\n",
              "      <td>Poland</td>\n",
              "      <td>NaN</td>\n",
              "    </tr>\n",
              "    <tr>\n",
              "      <th>271113</th>\n",
              "      <td>135570</td>\n",
              "      <td>Piotr ya</td>\n",
              "      <td>M</td>\n",
              "      <td>27.0</td>\n",
              "      <td>176.0</td>\n",
              "      <td>59.0</td>\n",
              "      <td>Poland</td>\n",
              "      <td>POL</td>\n",
              "      <td>2014 Winter</td>\n",
              "      <td>2014</td>\n",
              "      <td>Winter</td>\n",
              "      <td>Sochi</td>\n",
              "      <td>Ski Jumping</td>\n",
              "      <td>Ski Jumping Men's Large Hill, Team</td>\n",
              "      <td>NaN</td>\n",
              "      <td>Poland</td>\n",
              "      <td>NaN</td>\n",
              "    </tr>\n",
              "    <tr>\n",
              "      <th>271114</th>\n",
              "      <td>135571</td>\n",
              "      <td>Tomasz Ireneusz ya</td>\n",
              "      <td>M</td>\n",
              "      <td>30.0</td>\n",
              "      <td>185.0</td>\n",
              "      <td>96.0</td>\n",
              "      <td>Poland</td>\n",
              "      <td>POL</td>\n",
              "      <td>1998 Winter</td>\n",
              "      <td>1998</td>\n",
              "      <td>Winter</td>\n",
              "      <td>Nagano</td>\n",
              "      <td>Bobsleigh</td>\n",
              "      <td>Bobsleigh Men's Four</td>\n",
              "      <td>NaN</td>\n",
              "      <td>Poland</td>\n",
              "      <td>NaN</td>\n",
              "    </tr>\n",
              "    <tr>\n",
              "      <th>271115</th>\n",
              "      <td>135571</td>\n",
              "      <td>Tomasz Ireneusz ya</td>\n",
              "      <td>M</td>\n",
              "      <td>34.0</td>\n",
              "      <td>185.0</td>\n",
              "      <td>96.0</td>\n",
              "      <td>Poland</td>\n",
              "      <td>POL</td>\n",
              "      <td>2002 Winter</td>\n",
              "      <td>2002</td>\n",
              "      <td>Winter</td>\n",
              "      <td>Salt Lake City</td>\n",
              "      <td>Bobsleigh</td>\n",
              "      <td>Bobsleigh Men's Four</td>\n",
              "      <td>NaN</td>\n",
              "      <td>Poland</td>\n",
              "      <td>NaN</td>\n",
              "    </tr>\n",
              "  </tbody>\n",
              "</table>\n",
              "<p>271116 rows × 17 columns</p>\n",
              "</div>\n",
              "      <button class=\"colab-df-convert\" onclick=\"convertToInteractive('df-09e86d95-ab08-4f24-bf57-9fa601a39284')\"\n",
              "              title=\"Convert this dataframe to an interactive table.\"\n",
              "              style=\"display:none;\">\n",
              "        \n",
              "  <svg xmlns=\"http://www.w3.org/2000/svg\" height=\"24px\"viewBox=\"0 0 24 24\"\n",
              "       width=\"24px\">\n",
              "    <path d=\"M0 0h24v24H0V0z\" fill=\"none\"/>\n",
              "    <path d=\"M18.56 5.44l.94 2.06.94-2.06 2.06-.94-2.06-.94-.94-2.06-.94 2.06-2.06.94zm-11 1L8.5 8.5l.94-2.06 2.06-.94-2.06-.94L8.5 2.5l-.94 2.06-2.06.94zm10 10l.94 2.06.94-2.06 2.06-.94-2.06-.94-.94-2.06-.94 2.06-2.06.94z\"/><path d=\"M17.41 7.96l-1.37-1.37c-.4-.4-.92-.59-1.43-.59-.52 0-1.04.2-1.43.59L10.3 9.45l-7.72 7.72c-.78.78-.78 2.05 0 2.83L4 21.41c.39.39.9.59 1.41.59.51 0 1.02-.2 1.41-.59l7.78-7.78 2.81-2.81c.8-.78.8-2.07 0-2.86zM5.41 20L4 18.59l7.72-7.72 1.47 1.35L5.41 20z\"/>\n",
              "  </svg>\n",
              "      </button>\n",
              "      \n",
              "  <style>\n",
              "    .colab-df-container {\n",
              "      display:flex;\n",
              "      flex-wrap:wrap;\n",
              "      gap: 12px;\n",
              "    }\n",
              "\n",
              "    .colab-df-convert {\n",
              "      background-color: #E8F0FE;\n",
              "      border: none;\n",
              "      border-radius: 50%;\n",
              "      cursor: pointer;\n",
              "      display: none;\n",
              "      fill: #1967D2;\n",
              "      height: 32px;\n",
              "      padding: 0 0 0 0;\n",
              "      width: 32px;\n",
              "    }\n",
              "\n",
              "    .colab-df-convert:hover {\n",
              "      background-color: #E2EBFA;\n",
              "      box-shadow: 0px 1px 2px rgba(60, 64, 67, 0.3), 0px 1px 3px 1px rgba(60, 64, 67, 0.15);\n",
              "      fill: #174EA6;\n",
              "    }\n",
              "\n",
              "    [theme=dark] .colab-df-convert {\n",
              "      background-color: #3B4455;\n",
              "      fill: #D2E3FC;\n",
              "    }\n",
              "\n",
              "    [theme=dark] .colab-df-convert:hover {\n",
              "      background-color: #434B5C;\n",
              "      box-shadow: 0px 1px 3px 1px rgba(0, 0, 0, 0.15);\n",
              "      filter: drop-shadow(0px 1px 2px rgba(0, 0, 0, 0.3));\n",
              "      fill: #FFFFFF;\n",
              "    }\n",
              "  </style>\n",
              "\n",
              "      <script>\n",
              "        const buttonEl =\n",
              "          document.querySelector('#df-09e86d95-ab08-4f24-bf57-9fa601a39284 button.colab-df-convert');\n",
              "        buttonEl.style.display =\n",
              "          google.colab.kernel.accessAllowed ? 'block' : 'none';\n",
              "\n",
              "        async function convertToInteractive(key) {\n",
              "          const element = document.querySelector('#df-09e86d95-ab08-4f24-bf57-9fa601a39284');\n",
              "          const dataTable =\n",
              "            await google.colab.kernel.invokeFunction('convertToInteractive',\n",
              "                                                     [key], {});\n",
              "          if (!dataTable) return;\n",
              "\n",
              "          const docLinkHtml = 'Like what you see? Visit the ' +\n",
              "            '<a target=\"_blank\" href=https://colab.research.google.com/notebooks/data_table.ipynb>data table notebook</a>'\n",
              "            + ' to learn more about interactive tables.';\n",
              "          element.innerHTML = '';\n",
              "          dataTable['output_type'] = 'display_data';\n",
              "          await google.colab.output.renderOutput(dataTable, element);\n",
              "          const docLink = document.createElement('div');\n",
              "          docLink.innerHTML = docLinkHtml;\n",
              "          element.appendChild(docLink);\n",
              "        }\n",
              "      </script>\n",
              "    </div>\n",
              "  </div>\n",
              "  "
            ]
          },
          "metadata": {},
          "execution_count": 114
        }
      ]
    },
    {
      "cell_type": "code",
      "source": [
        "df.info()"
      ],
      "metadata": {
        "colab": {
          "base_uri": "https://localhost:8080/"
        },
        "id": "Q30ILnnMTOkJ",
        "outputId": "32c636bf-ee0b-4913-b58c-71d95cc4806f"
      },
      "execution_count": 115,
      "outputs": [
        {
          "output_type": "stream",
          "name": "stdout",
          "text": [
            "<class 'pandas.core.frame.DataFrame'>\n",
            "Int64Index: 271116 entries, 0 to 271115\n",
            "Data columns (total 17 columns):\n",
            " #   Column  Non-Null Count   Dtype  \n",
            "---  ------  --------------   -----  \n",
            " 0   ID      271116 non-null  int64  \n",
            " 1   Name    271116 non-null  object \n",
            " 2   Sex     271116 non-null  object \n",
            " 3   Age     261642 non-null  float64\n",
            " 4   Height  210945 non-null  float64\n",
            " 5   Weight  208241 non-null  float64\n",
            " 6   Team    271116 non-null  object \n",
            " 7   NOC     271116 non-null  object \n",
            " 8   Games   271116 non-null  object \n",
            " 9   Year    271116 non-null  int64  \n",
            " 10  Season  271116 non-null  object \n",
            " 11  City    271116 non-null  object \n",
            " 12  Sport   271116 non-null  object \n",
            " 13  Event   271116 non-null  object \n",
            " 14  Medal   39783 non-null   object \n",
            " 15  region  270746 non-null  object \n",
            " 16  notes   5039 non-null    object \n",
            "dtypes: float64(3), int64(2), object(12)\n",
            "memory usage: 37.2+ MB\n"
          ]
        }
      ]
    },
    {
      "cell_type": "markdown",
      "source": [
        "#Data Cleaning"
      ],
      "metadata": {
        "id": "YN1ZRmOnTk_K"
      }
    },
    {
      "cell_type": "code",
      "source": [
        "df.isnull().sum()"
      ],
      "metadata": {
        "id": "Y81jvbYZgvYv",
        "outputId": "806c4a23-1db1-423e-d9ba-ac25b191fac8",
        "colab": {
          "base_uri": "https://localhost:8080/"
        }
      },
      "execution_count": 116,
      "outputs": [
        {
          "output_type": "execute_result",
          "data": {
            "text/plain": [
              "ID             0\n",
              "Name           0\n",
              "Sex            0\n",
              "Age         9474\n",
              "Height     60171\n",
              "Weight     62875\n",
              "Team           0\n",
              "NOC            0\n",
              "Games          0\n",
              "Year           0\n",
              "Season         0\n",
              "City           0\n",
              "Sport          0\n",
              "Event          0\n",
              "Medal     231333\n",
              "region       370\n",
              "notes     266077\n",
              "dtype: int64"
            ]
          },
          "metadata": {},
          "execution_count": 116
        }
      ]
    },
    {
      "cell_type": "code",
      "source": [
        "#drop columns 'notes' and 'ID' because they are not important and column 'notes' has lots of null values\n",
        "df.drop(columns=['notes','ID'],inplace=True)"
      ],
      "metadata": {
        "id": "AjeXIpkznYIE"
      },
      "execution_count": 117,
      "outputs": []
    },
    {
      "cell_type": "code",
      "source": [
        "#check for regions missing data with respret to NOC and Team, we see which ones are missing  \n",
        "df.loc[df['region'].isnull(),['NOC', 'Team']].drop_duplicates()"
      ],
      "metadata": {
        "colab": {
          "base_uri": "https://localhost:8080/",
          "height": 300
        },
        "id": "7Egt8kYDaKEI",
        "outputId": "8c6830f8-c048-45aa-d4df-e0d82d841d5d"
      },
      "execution_count": 118,
      "outputs": [
        {
          "output_type": "execute_result",
          "data": {
            "text/plain": [
              "        NOC                      Team\n",
              "578     SGP                 Singapore\n",
              "6267    ROT  Refugee Olympic Athletes\n",
              "44376   SGP              June Climene\n",
              "61080   UNK                   Unknown\n",
              "64674   TUV                    Tuvalu\n",
              "80986   SGP                   Rika II\n",
              "108582  SGP               Singapore-2\n",
              "235895  SGP               Singapore-1"
            ],
            "text/html": [
              "\n",
              "  <div id=\"df-0ffd72d1-765f-49db-b66e-dd0dcc5fa359\">\n",
              "    <div class=\"colab-df-container\">\n",
              "      <div>\n",
              "<style scoped>\n",
              "    .dataframe tbody tr th:only-of-type {\n",
              "        vertical-align: middle;\n",
              "    }\n",
              "\n",
              "    .dataframe tbody tr th {\n",
              "        vertical-align: top;\n",
              "    }\n",
              "\n",
              "    .dataframe thead th {\n",
              "        text-align: right;\n",
              "    }\n",
              "</style>\n",
              "<table border=\"1\" class=\"dataframe\">\n",
              "  <thead>\n",
              "    <tr style=\"text-align: right;\">\n",
              "      <th></th>\n",
              "      <th>NOC</th>\n",
              "      <th>Team</th>\n",
              "    </tr>\n",
              "  </thead>\n",
              "  <tbody>\n",
              "    <tr>\n",
              "      <th>578</th>\n",
              "      <td>SGP</td>\n",
              "      <td>Singapore</td>\n",
              "    </tr>\n",
              "    <tr>\n",
              "      <th>6267</th>\n",
              "      <td>ROT</td>\n",
              "      <td>Refugee Olympic Athletes</td>\n",
              "    </tr>\n",
              "    <tr>\n",
              "      <th>44376</th>\n",
              "      <td>SGP</td>\n",
              "      <td>June Climene</td>\n",
              "    </tr>\n",
              "    <tr>\n",
              "      <th>61080</th>\n",
              "      <td>UNK</td>\n",
              "      <td>Unknown</td>\n",
              "    </tr>\n",
              "    <tr>\n",
              "      <th>64674</th>\n",
              "      <td>TUV</td>\n",
              "      <td>Tuvalu</td>\n",
              "    </tr>\n",
              "    <tr>\n",
              "      <th>80986</th>\n",
              "      <td>SGP</td>\n",
              "      <td>Rika II</td>\n",
              "    </tr>\n",
              "    <tr>\n",
              "      <th>108582</th>\n",
              "      <td>SGP</td>\n",
              "      <td>Singapore-2</td>\n",
              "    </tr>\n",
              "    <tr>\n",
              "      <th>235895</th>\n",
              "      <td>SGP</td>\n",
              "      <td>Singapore-1</td>\n",
              "    </tr>\n",
              "  </tbody>\n",
              "</table>\n",
              "</div>\n",
              "      <button class=\"colab-df-convert\" onclick=\"convertToInteractive('df-0ffd72d1-765f-49db-b66e-dd0dcc5fa359')\"\n",
              "              title=\"Convert this dataframe to an interactive table.\"\n",
              "              style=\"display:none;\">\n",
              "        \n",
              "  <svg xmlns=\"http://www.w3.org/2000/svg\" height=\"24px\"viewBox=\"0 0 24 24\"\n",
              "       width=\"24px\">\n",
              "    <path d=\"M0 0h24v24H0V0z\" fill=\"none\"/>\n",
              "    <path d=\"M18.56 5.44l.94 2.06.94-2.06 2.06-.94-2.06-.94-.94-2.06-.94 2.06-2.06.94zm-11 1L8.5 8.5l.94-2.06 2.06-.94-2.06-.94L8.5 2.5l-.94 2.06-2.06.94zm10 10l.94 2.06.94-2.06 2.06-.94-2.06-.94-.94-2.06-.94 2.06-2.06.94z\"/><path d=\"M17.41 7.96l-1.37-1.37c-.4-.4-.92-.59-1.43-.59-.52 0-1.04.2-1.43.59L10.3 9.45l-7.72 7.72c-.78.78-.78 2.05 0 2.83L4 21.41c.39.39.9.59 1.41.59.51 0 1.02-.2 1.41-.59l7.78-7.78 2.81-2.81c.8-.78.8-2.07 0-2.86zM5.41 20L4 18.59l7.72-7.72 1.47 1.35L5.41 20z\"/>\n",
              "  </svg>\n",
              "      </button>\n",
              "      \n",
              "  <style>\n",
              "    .colab-df-container {\n",
              "      display:flex;\n",
              "      flex-wrap:wrap;\n",
              "      gap: 12px;\n",
              "    }\n",
              "\n",
              "    .colab-df-convert {\n",
              "      background-color: #E8F0FE;\n",
              "      border: none;\n",
              "      border-radius: 50%;\n",
              "      cursor: pointer;\n",
              "      display: none;\n",
              "      fill: #1967D2;\n",
              "      height: 32px;\n",
              "      padding: 0 0 0 0;\n",
              "      width: 32px;\n",
              "    }\n",
              "\n",
              "    .colab-df-convert:hover {\n",
              "      background-color: #E2EBFA;\n",
              "      box-shadow: 0px 1px 2px rgba(60, 64, 67, 0.3), 0px 1px 3px 1px rgba(60, 64, 67, 0.15);\n",
              "      fill: #174EA6;\n",
              "    }\n",
              "\n",
              "    [theme=dark] .colab-df-convert {\n",
              "      background-color: #3B4455;\n",
              "      fill: #D2E3FC;\n",
              "    }\n",
              "\n",
              "    [theme=dark] .colab-df-convert:hover {\n",
              "      background-color: #434B5C;\n",
              "      box-shadow: 0px 1px 3px 1px rgba(0, 0, 0, 0.15);\n",
              "      filter: drop-shadow(0px 1px 2px rgba(0, 0, 0, 0.3));\n",
              "      fill: #FFFFFF;\n",
              "    }\n",
              "  </style>\n",
              "\n",
              "      <script>\n",
              "        const buttonEl =\n",
              "          document.querySelector('#df-0ffd72d1-765f-49db-b66e-dd0dcc5fa359 button.colab-df-convert');\n",
              "        buttonEl.style.display =\n",
              "          google.colab.kernel.accessAllowed ? 'block' : 'none';\n",
              "\n",
              "        async function convertToInteractive(key) {\n",
              "          const element = document.querySelector('#df-0ffd72d1-765f-49db-b66e-dd0dcc5fa359');\n",
              "          const dataTable =\n",
              "            await google.colab.kernel.invokeFunction('convertToInteractive',\n",
              "                                                     [key], {});\n",
              "          if (!dataTable) return;\n",
              "\n",
              "          const docLinkHtml = 'Like what you see? Visit the ' +\n",
              "            '<a target=\"_blank\" href=https://colab.research.google.com/notebooks/data_table.ipynb>data table notebook</a>'\n",
              "            + ' to learn more about interactive tables.';\n",
              "          element.innerHTML = '';\n",
              "          dataTable['output_type'] = 'display_data';\n",
              "          await google.colab.output.renderOutput(dataTable, element);\n",
              "          const docLink = document.createElement('div');\n",
              "          docLink.innerHTML = docLinkHtml;\n",
              "          element.appendChild(docLink);\n",
              "        }\n",
              "      </script>\n",
              "    </div>\n",
              "  </div>\n",
              "  "
            ]
          },
          "metadata": {},
          "execution_count": 118
        }
      ]
    },
    {
      "cell_type": "code",
      "source": [
        "#view of \"unknown\" NOC\n",
        "noc_unknown=df.loc[(df[\"NOC\"]==\"UNK\")]\n",
        "noc_unknown"
      ],
      "metadata": {
        "colab": {
          "base_uri": "https://localhost:8080/",
          "height": 280
        },
        "id": "F1spTVKVGYUP",
        "outputId": "c1810e1b-bb1d-4779-f17a-34ea65b6decd"
      },
      "execution_count": 119,
      "outputs": [
        {
          "output_type": "execute_result",
          "data": {
            "text/plain": [
              "                Name Sex  Age  Height  Weight     Team  NOC        Games  \\\n",
              "61080   Fritz Eccard   M  NaN     NaN     NaN  Unknown  UNK  1912 Summer   \n",
              "130721     A. Laffen   M  NaN     NaN     NaN  Unknown  UNK  1912 Summer   \n",
              "\n",
              "        Year  Season       City             Sport  \\\n",
              "61080   1912  Summer  Stockholm  Art Competitions   \n",
              "130721  1912  Summer  Stockholm  Art Competitions   \n",
              "\n",
              "                                      Event Medal region  \n",
              "61080   Art Competitions Mixed Architecture   NaN    NaN  \n",
              "130721  Art Competitions Mixed Architecture   NaN    NaN  "
            ],
            "text/html": [
              "\n",
              "  <div id=\"df-3db39504-2042-4a28-b80b-1b1e86331748\">\n",
              "    <div class=\"colab-df-container\">\n",
              "      <div>\n",
              "<style scoped>\n",
              "    .dataframe tbody tr th:only-of-type {\n",
              "        vertical-align: middle;\n",
              "    }\n",
              "\n",
              "    .dataframe tbody tr th {\n",
              "        vertical-align: top;\n",
              "    }\n",
              "\n",
              "    .dataframe thead th {\n",
              "        text-align: right;\n",
              "    }\n",
              "</style>\n",
              "<table border=\"1\" class=\"dataframe\">\n",
              "  <thead>\n",
              "    <tr style=\"text-align: right;\">\n",
              "      <th></th>\n",
              "      <th>Name</th>\n",
              "      <th>Sex</th>\n",
              "      <th>Age</th>\n",
              "      <th>Height</th>\n",
              "      <th>Weight</th>\n",
              "      <th>Team</th>\n",
              "      <th>NOC</th>\n",
              "      <th>Games</th>\n",
              "      <th>Year</th>\n",
              "      <th>Season</th>\n",
              "      <th>City</th>\n",
              "      <th>Sport</th>\n",
              "      <th>Event</th>\n",
              "      <th>Medal</th>\n",
              "      <th>region</th>\n",
              "    </tr>\n",
              "  </thead>\n",
              "  <tbody>\n",
              "    <tr>\n",
              "      <th>61080</th>\n",
              "      <td>Fritz Eccard</td>\n",
              "      <td>M</td>\n",
              "      <td>NaN</td>\n",
              "      <td>NaN</td>\n",
              "      <td>NaN</td>\n",
              "      <td>Unknown</td>\n",
              "      <td>UNK</td>\n",
              "      <td>1912 Summer</td>\n",
              "      <td>1912</td>\n",
              "      <td>Summer</td>\n",
              "      <td>Stockholm</td>\n",
              "      <td>Art Competitions</td>\n",
              "      <td>Art Competitions Mixed Architecture</td>\n",
              "      <td>NaN</td>\n",
              "      <td>NaN</td>\n",
              "    </tr>\n",
              "    <tr>\n",
              "      <th>130721</th>\n",
              "      <td>A. Laffen</td>\n",
              "      <td>M</td>\n",
              "      <td>NaN</td>\n",
              "      <td>NaN</td>\n",
              "      <td>NaN</td>\n",
              "      <td>Unknown</td>\n",
              "      <td>UNK</td>\n",
              "      <td>1912 Summer</td>\n",
              "      <td>1912</td>\n",
              "      <td>Summer</td>\n",
              "      <td>Stockholm</td>\n",
              "      <td>Art Competitions</td>\n",
              "      <td>Art Competitions Mixed Architecture</td>\n",
              "      <td>NaN</td>\n",
              "      <td>NaN</td>\n",
              "    </tr>\n",
              "  </tbody>\n",
              "</table>\n",
              "</div>\n",
              "      <button class=\"colab-df-convert\" onclick=\"convertToInteractive('df-3db39504-2042-4a28-b80b-1b1e86331748')\"\n",
              "              title=\"Convert this dataframe to an interactive table.\"\n",
              "              style=\"display:none;\">\n",
              "        \n",
              "  <svg xmlns=\"http://www.w3.org/2000/svg\" height=\"24px\"viewBox=\"0 0 24 24\"\n",
              "       width=\"24px\">\n",
              "    <path d=\"M0 0h24v24H0V0z\" fill=\"none\"/>\n",
              "    <path d=\"M18.56 5.44l.94 2.06.94-2.06 2.06-.94-2.06-.94-.94-2.06-.94 2.06-2.06.94zm-11 1L8.5 8.5l.94-2.06 2.06-.94-2.06-.94L8.5 2.5l-.94 2.06-2.06.94zm10 10l.94 2.06.94-2.06 2.06-.94-2.06-.94-.94-2.06-.94 2.06-2.06.94z\"/><path d=\"M17.41 7.96l-1.37-1.37c-.4-.4-.92-.59-1.43-.59-.52 0-1.04.2-1.43.59L10.3 9.45l-7.72 7.72c-.78.78-.78 2.05 0 2.83L4 21.41c.39.39.9.59 1.41.59.51 0 1.02-.2 1.41-.59l7.78-7.78 2.81-2.81c.8-.78.8-2.07 0-2.86zM5.41 20L4 18.59l7.72-7.72 1.47 1.35L5.41 20z\"/>\n",
              "  </svg>\n",
              "      </button>\n",
              "      \n",
              "  <style>\n",
              "    .colab-df-container {\n",
              "      display:flex;\n",
              "      flex-wrap:wrap;\n",
              "      gap: 12px;\n",
              "    }\n",
              "\n",
              "    .colab-df-convert {\n",
              "      background-color: #E8F0FE;\n",
              "      border: none;\n",
              "      border-radius: 50%;\n",
              "      cursor: pointer;\n",
              "      display: none;\n",
              "      fill: #1967D2;\n",
              "      height: 32px;\n",
              "      padding: 0 0 0 0;\n",
              "      width: 32px;\n",
              "    }\n",
              "\n",
              "    .colab-df-convert:hover {\n",
              "      background-color: #E2EBFA;\n",
              "      box-shadow: 0px 1px 2px rgba(60, 64, 67, 0.3), 0px 1px 3px 1px rgba(60, 64, 67, 0.15);\n",
              "      fill: #174EA6;\n",
              "    }\n",
              "\n",
              "    [theme=dark] .colab-df-convert {\n",
              "      background-color: #3B4455;\n",
              "      fill: #D2E3FC;\n",
              "    }\n",
              "\n",
              "    [theme=dark] .colab-df-convert:hover {\n",
              "      background-color: #434B5C;\n",
              "      box-shadow: 0px 1px 3px 1px rgba(0, 0, 0, 0.15);\n",
              "      filter: drop-shadow(0px 1px 2px rgba(0, 0, 0, 0.3));\n",
              "      fill: #FFFFFF;\n",
              "    }\n",
              "  </style>\n",
              "\n",
              "      <script>\n",
              "        const buttonEl =\n",
              "          document.querySelector('#df-3db39504-2042-4a28-b80b-1b1e86331748 button.colab-df-convert');\n",
              "        buttonEl.style.display =\n",
              "          google.colab.kernel.accessAllowed ? 'block' : 'none';\n",
              "\n",
              "        async function convertToInteractive(key) {\n",
              "          const element = document.querySelector('#df-3db39504-2042-4a28-b80b-1b1e86331748');\n",
              "          const dataTable =\n",
              "            await google.colab.kernel.invokeFunction('convertToInteractive',\n",
              "                                                     [key], {});\n",
              "          if (!dataTable) return;\n",
              "\n",
              "          const docLinkHtml = 'Like what you see? Visit the ' +\n",
              "            '<a target=\"_blank\" href=https://colab.research.google.com/notebooks/data_table.ipynb>data table notebook</a>'\n",
              "            + ' to learn more about interactive tables.';\n",
              "          element.innerHTML = '';\n",
              "          dataTable['output_type'] = 'display_data';\n",
              "          await google.colab.output.renderOutput(dataTable, element);\n",
              "          const docLink = document.createElement('div');\n",
              "          docLink.innerHTML = docLinkHtml;\n",
              "          element.appendChild(docLink);\n",
              "        }\n",
              "      </script>\n",
              "    </div>\n",
              "  </div>\n",
              "  "
            ]
          },
          "metadata": {},
          "execution_count": 119
        }
      ]
    },
    {
      "cell_type": "code",
      "source": [
        "#replace missing data in the regions columns\n",
        "df['region'] = np.where(df['NOC']=='SGP', 'Singapore', df['region'])\n",
        "df['region'] = np.where(df['NOC']=='TUV', 'Tuvalu', df['region'])\n",
        "df['region'] = np.where(df['NOC']=='UNK', 'Unknown', df['region'])\n",
        "df['region'] = np.where(df['NOC']=='ROT', 'Refugee Olympic Athletes', df['region'])"
      ],
      "metadata": {
        "id": "j_dfbMd4bU6W"
      },
      "execution_count": 120,
      "outputs": []
    },
    {
      "cell_type": "code",
      "source": [
        "df.isnull().sum()"
      ],
      "metadata": {
        "colab": {
          "base_uri": "https://localhost:8080/"
        },
        "id": "70OT8AZ-bkg7",
        "outputId": "a5dadab6-3e7f-4707-ac6b-08ad801d1794"
      },
      "execution_count": 121,
      "outputs": [
        {
          "output_type": "execute_result",
          "data": {
            "text/plain": [
              "Name           0\n",
              "Sex            0\n",
              "Age         9474\n",
              "Height     60171\n",
              "Weight     62875\n",
              "Team           0\n",
              "NOC            0\n",
              "Games          0\n",
              "Year           0\n",
              "Season         0\n",
              "City           0\n",
              "Sport          0\n",
              "Event          0\n",
              "Medal     231333\n",
              "region         0\n",
              "dtype: int64"
            ]
          },
          "metadata": {},
          "execution_count": 121
        }
      ]
    },
    {
      "cell_type": "code",
      "source": [
        "# check and drop duplicated rows\n",
        "df.duplicated().sum()"
      ],
      "metadata": {
        "id": "JbMXRfECTpTC",
        "colab": {
          "base_uri": "https://localhost:8080/"
        },
        "outputId": "26524a7d-2082-4e1f-f56b-edbc97d54902"
      },
      "execution_count": 122,
      "outputs": [
        {
          "output_type": "execute_result",
          "data": {
            "text/plain": [
              "1385"
            ]
          },
          "metadata": {},
          "execution_count": 122
        }
      ]
    },
    {
      "cell_type": "code",
      "source": [
        "df.drop_duplicates(inplace=True)\n",
        "df.duplicated().sum()"
      ],
      "metadata": {
        "id": "cUf3SdGwiF8F",
        "colab": {
          "base_uri": "https://localhost:8080/"
        },
        "outputId": "106adefe-8f5d-44be-91f5-7fb913466e61"
      },
      "execution_count": 123,
      "outputs": [
        {
          "output_type": "execute_result",
          "data": {
            "text/plain": [
              "0"
            ]
          },
          "metadata": {},
          "execution_count": 123
        }
      ]
    },
    {
      "cell_type": "markdown",
      "source": [
        "Fill  null value for Age, Height and Weight with mean of them"
      ],
      "metadata": {
        "id": "H-6vR8AjdWDO"
      }
    },
    {
      "cell_type": "code",
      "source": [
        "#Mean of height\n",
        "mean_height=df[\"Height\"].mean()\n",
        "rmh=round(mean_height)\n",
        "df[\"Height\"]=df[\"Height\"].fillna(rmh)"
      ],
      "metadata": {
        "id": "2cHTJ6lWeLpE"
      },
      "execution_count": 124,
      "outputs": []
    },
    {
      "cell_type": "code",
      "source": [
        "#Mean of weight\n",
        "mean_weight=df[\"Weight\"].mean()\n",
        "rmw=round(mean_weight)\n",
        "df[\"Weight\"]=df[\"Weight\"].fillna(rmw)"
      ],
      "metadata": {
        "id": "v9shInyley4N"
      },
      "execution_count": 125,
      "outputs": []
    },
    {
      "cell_type": "code",
      "source": [
        "#Mean of Age\n",
        "mean_age=df[\"Age\"].mean()\n",
        "rma=round(mean_age)\n",
        "df[\"Age\"]=df[\"Age\"].fillna(rma)"
      ],
      "metadata": {
        "id": "wknmpnZTgBNS"
      },
      "execution_count": 126,
      "outputs": []
    },
    {
      "cell_type": "code",
      "source": [
        "#Changing float type data to integer\n",
        "df[\"Age\"]=df[\"Age\"].astype(int)\n",
        "df[\"Height\"]=df[\"Height\"].astype(int)\n",
        "df[\"Weight\"]=df[\"Weight\"].astype(int)"
      ],
      "metadata": {
        "id": "_AgMmCak0k7h"
      },
      "execution_count": 127,
      "outputs": []
    },
    {
      "cell_type": "code",
      "source": [
        "#making a copy of dataframe with medal NaN value for prediction part\n",
        "new_df=df.copy()"
      ],
      "metadata": {
        "id": "4aZFVb-hHwhE"
      },
      "execution_count": 128,
      "outputs": []
    },
    {
      "cell_type": "code",
      "source": [
        "#drop Medal null values\n",
        "df.dropna( how='any',subset=['Medal'], inplace=True)"
      ],
      "metadata": {
        "id": "sXjb0qkQkrZG"
      },
      "execution_count": 129,
      "outputs": []
    },
    {
      "cell_type": "code",
      "source": [
        "df.isnull().sum()"
      ],
      "metadata": {
        "colab": {
          "base_uri": "https://localhost:8080/"
        },
        "id": "aWtS8SOnKn1E",
        "outputId": "291d2d51-718e-4e01-ba6c-4a7892a7703b"
      },
      "execution_count": 130,
      "outputs": [
        {
          "output_type": "execute_result",
          "data": {
            "text/plain": [
              "Name      0\n",
              "Sex       0\n",
              "Age       0\n",
              "Height    0\n",
              "Weight    0\n",
              "Team      0\n",
              "NOC       0\n",
              "Games     0\n",
              "Year      0\n",
              "Season    0\n",
              "City      0\n",
              "Sport     0\n",
              "Event     0\n",
              "Medal     0\n",
              "region    0\n",
              "dtype: int64"
            ]
          },
          "metadata": {},
          "execution_count": 130
        }
      ]
    },
    {
      "cell_type": "markdown",
      "source": [
        "#Data Exploration"
      ],
      "metadata": {
        "id": "7anWeMb3k6KL"
      }
    },
    {
      "cell_type": "markdown",
      "source": [
        "**OVERALL STATISTIC**"
      ],
      "metadata": {
        "id": "9yYXsaXXREFn"
      }
    },
    {
      "cell_type": "code",
      "source": [
        "df.describe(include=['object']).T"
      ],
      "metadata": {
        "colab": {
          "base_uri": "https://localhost:8080/",
          "height": 394
        },
        "id": "aa7E1jHMmRZU",
        "outputId": "ac7b9ca8-98e1-4a69-e76c-bef599822757"
      },
      "execution_count": 131,
      "outputs": [
        {
          "output_type": "execute_result",
          "data": {
            "text/plain": [
              "        count unique                      top   freq\n",
              "Name    39772  28202  Michael Fred Phelps, II     28\n",
              "Sex     39772      2                        M  28519\n",
              "Team    39772    498            United States   5219\n",
              "NOC     39772    149                      USA   5637\n",
              "Games   39772     51              2008 Summer   2048\n",
              "Season  39772      2                   Summer  34077\n",
              "City    39772     42                   London   3624\n",
              "Sport   39772     66                Athletics   3969\n",
              "Event   39772    756  Football Men's Football   1269\n",
              "Medal   39772      3                     Gold  13369\n",
              "region  39772    137                      USA   5637"
            ],
            "text/html": [
              "\n",
              "  <div id=\"df-303aba0a-b57d-4acc-8d5f-46808be32b2d\">\n",
              "    <div class=\"colab-df-container\">\n",
              "      <div>\n",
              "<style scoped>\n",
              "    .dataframe tbody tr th:only-of-type {\n",
              "        vertical-align: middle;\n",
              "    }\n",
              "\n",
              "    .dataframe tbody tr th {\n",
              "        vertical-align: top;\n",
              "    }\n",
              "\n",
              "    .dataframe thead th {\n",
              "        text-align: right;\n",
              "    }\n",
              "</style>\n",
              "<table border=\"1\" class=\"dataframe\">\n",
              "  <thead>\n",
              "    <tr style=\"text-align: right;\">\n",
              "      <th></th>\n",
              "      <th>count</th>\n",
              "      <th>unique</th>\n",
              "      <th>top</th>\n",
              "      <th>freq</th>\n",
              "    </tr>\n",
              "  </thead>\n",
              "  <tbody>\n",
              "    <tr>\n",
              "      <th>Name</th>\n",
              "      <td>39772</td>\n",
              "      <td>28202</td>\n",
              "      <td>Michael Fred Phelps, II</td>\n",
              "      <td>28</td>\n",
              "    </tr>\n",
              "    <tr>\n",
              "      <th>Sex</th>\n",
              "      <td>39772</td>\n",
              "      <td>2</td>\n",
              "      <td>M</td>\n",
              "      <td>28519</td>\n",
              "    </tr>\n",
              "    <tr>\n",
              "      <th>Team</th>\n",
              "      <td>39772</td>\n",
              "      <td>498</td>\n",
              "      <td>United States</td>\n",
              "      <td>5219</td>\n",
              "    </tr>\n",
              "    <tr>\n",
              "      <th>NOC</th>\n",
              "      <td>39772</td>\n",
              "      <td>149</td>\n",
              "      <td>USA</td>\n",
              "      <td>5637</td>\n",
              "    </tr>\n",
              "    <tr>\n",
              "      <th>Games</th>\n",
              "      <td>39772</td>\n",
              "      <td>51</td>\n",
              "      <td>2008 Summer</td>\n",
              "      <td>2048</td>\n",
              "    </tr>\n",
              "    <tr>\n",
              "      <th>Season</th>\n",
              "      <td>39772</td>\n",
              "      <td>2</td>\n",
              "      <td>Summer</td>\n",
              "      <td>34077</td>\n",
              "    </tr>\n",
              "    <tr>\n",
              "      <th>City</th>\n",
              "      <td>39772</td>\n",
              "      <td>42</td>\n",
              "      <td>London</td>\n",
              "      <td>3624</td>\n",
              "    </tr>\n",
              "    <tr>\n",
              "      <th>Sport</th>\n",
              "      <td>39772</td>\n",
              "      <td>66</td>\n",
              "      <td>Athletics</td>\n",
              "      <td>3969</td>\n",
              "    </tr>\n",
              "    <tr>\n",
              "      <th>Event</th>\n",
              "      <td>39772</td>\n",
              "      <td>756</td>\n",
              "      <td>Football Men's Football</td>\n",
              "      <td>1269</td>\n",
              "    </tr>\n",
              "    <tr>\n",
              "      <th>Medal</th>\n",
              "      <td>39772</td>\n",
              "      <td>3</td>\n",
              "      <td>Gold</td>\n",
              "      <td>13369</td>\n",
              "    </tr>\n",
              "    <tr>\n",
              "      <th>region</th>\n",
              "      <td>39772</td>\n",
              "      <td>137</td>\n",
              "      <td>USA</td>\n",
              "      <td>5637</td>\n",
              "    </tr>\n",
              "  </tbody>\n",
              "</table>\n",
              "</div>\n",
              "      <button class=\"colab-df-convert\" onclick=\"convertToInteractive('df-303aba0a-b57d-4acc-8d5f-46808be32b2d')\"\n",
              "              title=\"Convert this dataframe to an interactive table.\"\n",
              "              style=\"display:none;\">\n",
              "        \n",
              "  <svg xmlns=\"http://www.w3.org/2000/svg\" height=\"24px\"viewBox=\"0 0 24 24\"\n",
              "       width=\"24px\">\n",
              "    <path d=\"M0 0h24v24H0V0z\" fill=\"none\"/>\n",
              "    <path d=\"M18.56 5.44l.94 2.06.94-2.06 2.06-.94-2.06-.94-.94-2.06-.94 2.06-2.06.94zm-11 1L8.5 8.5l.94-2.06 2.06-.94-2.06-.94L8.5 2.5l-.94 2.06-2.06.94zm10 10l.94 2.06.94-2.06 2.06-.94-2.06-.94-.94-2.06-.94 2.06-2.06.94z\"/><path d=\"M17.41 7.96l-1.37-1.37c-.4-.4-.92-.59-1.43-.59-.52 0-1.04.2-1.43.59L10.3 9.45l-7.72 7.72c-.78.78-.78 2.05 0 2.83L4 21.41c.39.39.9.59 1.41.59.51 0 1.02-.2 1.41-.59l7.78-7.78 2.81-2.81c.8-.78.8-2.07 0-2.86zM5.41 20L4 18.59l7.72-7.72 1.47 1.35L5.41 20z\"/>\n",
              "  </svg>\n",
              "      </button>\n",
              "      \n",
              "  <style>\n",
              "    .colab-df-container {\n",
              "      display:flex;\n",
              "      flex-wrap:wrap;\n",
              "      gap: 12px;\n",
              "    }\n",
              "\n",
              "    .colab-df-convert {\n",
              "      background-color: #E8F0FE;\n",
              "      border: none;\n",
              "      border-radius: 50%;\n",
              "      cursor: pointer;\n",
              "      display: none;\n",
              "      fill: #1967D2;\n",
              "      height: 32px;\n",
              "      padding: 0 0 0 0;\n",
              "      width: 32px;\n",
              "    }\n",
              "\n",
              "    .colab-df-convert:hover {\n",
              "      background-color: #E2EBFA;\n",
              "      box-shadow: 0px 1px 2px rgba(60, 64, 67, 0.3), 0px 1px 3px 1px rgba(60, 64, 67, 0.15);\n",
              "      fill: #174EA6;\n",
              "    }\n",
              "\n",
              "    [theme=dark] .colab-df-convert {\n",
              "      background-color: #3B4455;\n",
              "      fill: #D2E3FC;\n",
              "    }\n",
              "\n",
              "    [theme=dark] .colab-df-convert:hover {\n",
              "      background-color: #434B5C;\n",
              "      box-shadow: 0px 1px 3px 1px rgba(0, 0, 0, 0.15);\n",
              "      filter: drop-shadow(0px 1px 2px rgba(0, 0, 0, 0.3));\n",
              "      fill: #FFFFFF;\n",
              "    }\n",
              "  </style>\n",
              "\n",
              "      <script>\n",
              "        const buttonEl =\n",
              "          document.querySelector('#df-303aba0a-b57d-4acc-8d5f-46808be32b2d button.colab-df-convert');\n",
              "        buttonEl.style.display =\n",
              "          google.colab.kernel.accessAllowed ? 'block' : 'none';\n",
              "\n",
              "        async function convertToInteractive(key) {\n",
              "          const element = document.querySelector('#df-303aba0a-b57d-4acc-8d5f-46808be32b2d');\n",
              "          const dataTable =\n",
              "            await google.colab.kernel.invokeFunction('convertToInteractive',\n",
              "                                                     [key], {});\n",
              "          if (!dataTable) return;\n",
              "\n",
              "          const docLinkHtml = 'Like what you see? Visit the ' +\n",
              "            '<a target=\"_blank\" href=https://colab.research.google.com/notebooks/data_table.ipynb>data table notebook</a>'\n",
              "            + ' to learn more about interactive tables.';\n",
              "          element.innerHTML = '';\n",
              "          dataTable['output_type'] = 'display_data';\n",
              "          await google.colab.output.renderOutput(dataTable, element);\n",
              "          const docLink = document.createElement('div');\n",
              "          docLink.innerHTML = docLinkHtml;\n",
              "          element.appendChild(docLink);\n",
              "        }\n",
              "      </script>\n",
              "    </div>\n",
              "  </div>\n",
              "  "
            ]
          },
          "metadata": {},
          "execution_count": 131
        }
      ]
    },
    {
      "cell_type": "code",
      "source": [
        "df.describe(include=['int64']).T"
      ],
      "metadata": {
        "colab": {
          "base_uri": "https://localhost:8080/",
          "height": 175
        },
        "id": "YtMPDHPpTUG8",
        "outputId": "fe9f50fa-7ccf-4414-8948-d32be61dfdb4"
      },
      "execution_count": 132,
      "outputs": [
        {
          "output_type": "execute_result",
          "data": {
            "text/plain": [
              "          count         mean        std     min     25%     50%     75%  \\\n",
              "Age     39772.0    25.906215   5.857790    10.0    22.0    25.0    29.0   \n",
              "Height  39772.0   176.995474   9.686490   136.0   172.0   175.0   183.0   \n",
              "Weight  39772.0    73.119054  13.191658    28.0    66.0    71.0    79.0   \n",
              "Year    39772.0  1973.964296  33.805168  1896.0  1952.0  1984.0  2002.0   \n",
              "\n",
              "           max  \n",
              "Age       73.0  \n",
              "Height   223.0  \n",
              "Weight   182.0  \n",
              "Year    2016.0  "
            ],
            "text/html": [
              "\n",
              "  <div id=\"df-379559c5-5839-4aa5-a04f-ff3ee1e91fb9\">\n",
              "    <div class=\"colab-df-container\">\n",
              "      <div>\n",
              "<style scoped>\n",
              "    .dataframe tbody tr th:only-of-type {\n",
              "        vertical-align: middle;\n",
              "    }\n",
              "\n",
              "    .dataframe tbody tr th {\n",
              "        vertical-align: top;\n",
              "    }\n",
              "\n",
              "    .dataframe thead th {\n",
              "        text-align: right;\n",
              "    }\n",
              "</style>\n",
              "<table border=\"1\" class=\"dataframe\">\n",
              "  <thead>\n",
              "    <tr style=\"text-align: right;\">\n",
              "      <th></th>\n",
              "      <th>count</th>\n",
              "      <th>mean</th>\n",
              "      <th>std</th>\n",
              "      <th>min</th>\n",
              "      <th>25%</th>\n",
              "      <th>50%</th>\n",
              "      <th>75%</th>\n",
              "      <th>max</th>\n",
              "    </tr>\n",
              "  </thead>\n",
              "  <tbody>\n",
              "    <tr>\n",
              "      <th>Age</th>\n",
              "      <td>39772.0</td>\n",
              "      <td>25.906215</td>\n",
              "      <td>5.857790</td>\n",
              "      <td>10.0</td>\n",
              "      <td>22.0</td>\n",
              "      <td>25.0</td>\n",
              "      <td>29.0</td>\n",
              "      <td>73.0</td>\n",
              "    </tr>\n",
              "    <tr>\n",
              "      <th>Height</th>\n",
              "      <td>39772.0</td>\n",
              "      <td>176.995474</td>\n",
              "      <td>9.686490</td>\n",
              "      <td>136.0</td>\n",
              "      <td>172.0</td>\n",
              "      <td>175.0</td>\n",
              "      <td>183.0</td>\n",
              "      <td>223.0</td>\n",
              "    </tr>\n",
              "    <tr>\n",
              "      <th>Weight</th>\n",
              "      <td>39772.0</td>\n",
              "      <td>73.119054</td>\n",
              "      <td>13.191658</td>\n",
              "      <td>28.0</td>\n",
              "      <td>66.0</td>\n",
              "      <td>71.0</td>\n",
              "      <td>79.0</td>\n",
              "      <td>182.0</td>\n",
              "    </tr>\n",
              "    <tr>\n",
              "      <th>Year</th>\n",
              "      <td>39772.0</td>\n",
              "      <td>1973.964296</td>\n",
              "      <td>33.805168</td>\n",
              "      <td>1896.0</td>\n",
              "      <td>1952.0</td>\n",
              "      <td>1984.0</td>\n",
              "      <td>2002.0</td>\n",
              "      <td>2016.0</td>\n",
              "    </tr>\n",
              "  </tbody>\n",
              "</table>\n",
              "</div>\n",
              "      <button class=\"colab-df-convert\" onclick=\"convertToInteractive('df-379559c5-5839-4aa5-a04f-ff3ee1e91fb9')\"\n",
              "              title=\"Convert this dataframe to an interactive table.\"\n",
              "              style=\"display:none;\">\n",
              "        \n",
              "  <svg xmlns=\"http://www.w3.org/2000/svg\" height=\"24px\"viewBox=\"0 0 24 24\"\n",
              "       width=\"24px\">\n",
              "    <path d=\"M0 0h24v24H0V0z\" fill=\"none\"/>\n",
              "    <path d=\"M18.56 5.44l.94 2.06.94-2.06 2.06-.94-2.06-.94-.94-2.06-.94 2.06-2.06.94zm-11 1L8.5 8.5l.94-2.06 2.06-.94-2.06-.94L8.5 2.5l-.94 2.06-2.06.94zm10 10l.94 2.06.94-2.06 2.06-.94-2.06-.94-.94-2.06-.94 2.06-2.06.94z\"/><path d=\"M17.41 7.96l-1.37-1.37c-.4-.4-.92-.59-1.43-.59-.52 0-1.04.2-1.43.59L10.3 9.45l-7.72 7.72c-.78.78-.78 2.05 0 2.83L4 21.41c.39.39.9.59 1.41.59.51 0 1.02-.2 1.41-.59l7.78-7.78 2.81-2.81c.8-.78.8-2.07 0-2.86zM5.41 20L4 18.59l7.72-7.72 1.47 1.35L5.41 20z\"/>\n",
              "  </svg>\n",
              "      </button>\n",
              "      \n",
              "  <style>\n",
              "    .colab-df-container {\n",
              "      display:flex;\n",
              "      flex-wrap:wrap;\n",
              "      gap: 12px;\n",
              "    }\n",
              "\n",
              "    .colab-df-convert {\n",
              "      background-color: #E8F0FE;\n",
              "      border: none;\n",
              "      border-radius: 50%;\n",
              "      cursor: pointer;\n",
              "      display: none;\n",
              "      fill: #1967D2;\n",
              "      height: 32px;\n",
              "      padding: 0 0 0 0;\n",
              "      width: 32px;\n",
              "    }\n",
              "\n",
              "    .colab-df-convert:hover {\n",
              "      background-color: #E2EBFA;\n",
              "      box-shadow: 0px 1px 2px rgba(60, 64, 67, 0.3), 0px 1px 3px 1px rgba(60, 64, 67, 0.15);\n",
              "      fill: #174EA6;\n",
              "    }\n",
              "\n",
              "    [theme=dark] .colab-df-convert {\n",
              "      background-color: #3B4455;\n",
              "      fill: #D2E3FC;\n",
              "    }\n",
              "\n",
              "    [theme=dark] .colab-df-convert:hover {\n",
              "      background-color: #434B5C;\n",
              "      box-shadow: 0px 1px 3px 1px rgba(0, 0, 0, 0.15);\n",
              "      filter: drop-shadow(0px 1px 2px rgba(0, 0, 0, 0.3));\n",
              "      fill: #FFFFFF;\n",
              "    }\n",
              "  </style>\n",
              "\n",
              "      <script>\n",
              "        const buttonEl =\n",
              "          document.querySelector('#df-379559c5-5839-4aa5-a04f-ff3ee1e91fb9 button.colab-df-convert');\n",
              "        buttonEl.style.display =\n",
              "          google.colab.kernel.accessAllowed ? 'block' : 'none';\n",
              "\n",
              "        async function convertToInteractive(key) {\n",
              "          const element = document.querySelector('#df-379559c5-5839-4aa5-a04f-ff3ee1e91fb9');\n",
              "          const dataTable =\n",
              "            await google.colab.kernel.invokeFunction('convertToInteractive',\n",
              "                                                     [key], {});\n",
              "          if (!dataTable) return;\n",
              "\n",
              "          const docLinkHtml = 'Like what you see? Visit the ' +\n",
              "            '<a target=\"_blank\" href=https://colab.research.google.com/notebooks/data_table.ipynb>data table notebook</a>'\n",
              "            + ' to learn more about interactive tables.';\n",
              "          element.innerHTML = '';\n",
              "          dataTable['output_type'] = 'display_data';\n",
              "          await google.colab.output.renderOutput(dataTable, element);\n",
              "          const docLink = document.createElement('div');\n",
              "          docLink.innerHTML = docLinkHtml;\n",
              "          element.appendChild(docLink);\n",
              "        }\n",
              "      </script>\n",
              "    </div>\n",
              "  </div>\n",
              "  "
            ]
          },
          "metadata": {},
          "execution_count": 132
        }
      ]
    },
    {
      "cell_type": "code",
      "source": [
        "#overall statistic of the olampics during the 1896-2016\n",
        "\n",
        "print('Total number of times olympic being held :',df['Year'].nunique())\n",
        "print('Total number of cities which have participated :',df['City'].nunique())\n",
        "print('Total number of different sports played :',df['Sport'].nunique())\n",
        "print('Total number of events held in olympics held :',df['Event'].nunique())\n",
        "print('Total number of athletes who have participated :',df['Name'].nunique())\n",
        "print('Total number of countries who have participated :',df['region'].nunique())"
      ],
      "metadata": {
        "colab": {
          "base_uri": "https://localhost:8080/"
        },
        "id": "nE7G4zh1UW9s",
        "outputId": "5e9b502c-a76b-49bc-a930-c5e1e3ef009d"
      },
      "execution_count": 133,
      "outputs": [
        {
          "output_type": "stream",
          "name": "stdout",
          "text": [
            "Total number of times olympic being held : 35\n",
            "Total number of cities which have participated : 42\n",
            "Total number of different sports played : 66\n",
            "Total number of events held in olympics held : 756\n",
            "Total number of athletes who have participated : 28202\n",
            "Total number of countries who have participated : 137\n"
          ]
        }
      ]
    },
    {
      "cell_type": "code",
      "source": [
        "#total number of Gold,Silver,Bronze Medals during the 1896-2016\n",
        "medals=df['Medal'].value_counts()\n",
        "print('Total number of different medals:')\n",
        "print(medals)"
      ],
      "metadata": {
        "colab": {
          "base_uri": "https://localhost:8080/"
        },
        "id": "Aj4f1dhlRUxF",
        "outputId": "c11fb70d-ff5a-490d-e16e-b08f622403f6"
      },
      "execution_count": 134,
      "outputs": [
        {
          "output_type": "stream",
          "name": "stdout",
          "text": [
            "Total number of different medals:\n",
            "Gold      13369\n",
            "Bronze    13295\n",
            "Silver    13108\n",
            "Name: Medal, dtype: int64\n"
          ]
        }
      ]
    },
    {
      "cell_type": "code",
      "source": [
        "#compare number of \"Team\", \"NOC\", \"Event\", \"City\", \"Sport\" for different season\n",
        "season_count = df.groupby(\"Season\")[[\"Team\", \"NOC\", \"Event\", \"City\", \"Sport\"]].nunique().reset_index()\n",
        "print(season_count)"
      ],
      "metadata": {
        "colab": {
          "base_uri": "https://localhost:8080/"
        },
        "id": "MLHJyXSKNHB6",
        "outputId": "1a23bc76-cfc7-42ee-e14e-e983e49b9362"
      },
      "execution_count": 135,
      "outputs": [
        {
          "output_type": "stream",
          "name": "stdout",
          "text": [
            "   Season  Team  NOC  Event  City  Sport\n",
            "0  Summer   480  147    642    23     52\n",
            "1  Winter    77   46    119    19     17\n"
          ]
        }
      ]
    },
    {
      "cell_type": "code",
      "source": [
        "#Medals is a categorical column we can get separate columns of Gold, Silver and Bronze from column Medal by using the get_dummies method of pandas.\n",
        "df = pd.concat([df,pd.get_dummies(df['Medal'])],axis=1)"
      ],
      "metadata": {
        "id": "OpDsaW-rT1SA"
      },
      "execution_count": 136,
      "outputs": []
    },
    {
      "cell_type": "markdown",
      "source": [
        "**PERFORMANCE OF COUNTRIES IN THE OLYMPICS**"
      ],
      "metadata": {
        "id": "iq0RJ6EzRdcm"
      }
    },
    {
      "cell_type": "code",
      "source": [
        "#since some sports are team sport like water polo,Basketball,...the number of medals are more than one in our dataframe for example 12 for basketball \n",
        "#(https://en.wikipedia.org/wiki/Team_sport#Olympic_team_sports)(https://en.wikipedia.org/wiki/List_of_Olympic_medalists_in_basketball)for counting medal for different country remove duplicates medals for team sport\n",
        "df_medal_duplicated = df.drop_duplicates(subset=['Event','Sport','Team','region','Games','Year','City','Medal']).reset_index()\n",
        "df_medal_duplicated.drop(columns=['index'], inplace=True)"
      ],
      "metadata": {
        "id": "PoAD0hJCz4VO"
      },
      "execution_count": 137,
      "outputs": []
    },
    {
      "cell_type": "code",
      "source": [
        "#number of different medals from 1896 to 2016 for each region,by using (df_medal_duplicated) for counting medal for different country consider one medal for each team sport,\n",
        "number_of_different_medals=df_medal_duplicated.groupby('region').sum()[['Gold','Silver','Bronze']].reset_index()\n",
        "number_of_different_medals['Total']=number_of_different_medals['Gold'] + number_of_different_medals['Silver'] + number_of_different_medals['Bronze']\n",
        "country_medals=number_of_different_medals.sort_values('Total',ascending=False).reset_index()\n",
        "country_medals.drop(columns=['index'], inplace=True)\n",
        "country_medals.head(10)"
      ],
      "metadata": {
        "colab": {
          "base_uri": "https://localhost:8080/",
          "height": 363
        },
        "id": "RlEjtmKenwTj",
        "outputId": "a06fcc61-04b9-4e70-b665-ece6b37686d1"
      },
      "execution_count": 138,
      "outputs": [
        {
          "output_type": "execute_result",
          "data": {
            "text/plain": [
              "      region    Gold  Silver  Bronze   Total\n",
              "0        USA  1131.0   901.0   792.0  2824.0\n",
              "1     Russia   727.0   600.0   589.0  1916.0\n",
              "2    Germany   580.0   592.0   597.0  1769.0\n",
              "3         UK   289.0   321.0   312.0   922.0\n",
              "4     France   265.0   287.0   334.0   886.0\n",
              "5      Italy   256.0   225.0   241.0   722.0\n",
              "6     Sweden   200.0   215.0   242.0   657.0\n",
              "7      China   240.0   185.0   173.0   598.0\n",
              "8  Australia   156.0   174.0   201.0   531.0\n",
              "9    Hungary   178.0   156.0   176.0   510.0"
            ],
            "text/html": [
              "\n",
              "  <div id=\"df-d16021cc-c143-422f-94d7-9831cad94bee\">\n",
              "    <div class=\"colab-df-container\">\n",
              "      <div>\n",
              "<style scoped>\n",
              "    .dataframe tbody tr th:only-of-type {\n",
              "        vertical-align: middle;\n",
              "    }\n",
              "\n",
              "    .dataframe tbody tr th {\n",
              "        vertical-align: top;\n",
              "    }\n",
              "\n",
              "    .dataframe thead th {\n",
              "        text-align: right;\n",
              "    }\n",
              "</style>\n",
              "<table border=\"1\" class=\"dataframe\">\n",
              "  <thead>\n",
              "    <tr style=\"text-align: right;\">\n",
              "      <th></th>\n",
              "      <th>region</th>\n",
              "      <th>Gold</th>\n",
              "      <th>Silver</th>\n",
              "      <th>Bronze</th>\n",
              "      <th>Total</th>\n",
              "    </tr>\n",
              "  </thead>\n",
              "  <tbody>\n",
              "    <tr>\n",
              "      <th>0</th>\n",
              "      <td>USA</td>\n",
              "      <td>1131.0</td>\n",
              "      <td>901.0</td>\n",
              "      <td>792.0</td>\n",
              "      <td>2824.0</td>\n",
              "    </tr>\n",
              "    <tr>\n",
              "      <th>1</th>\n",
              "      <td>Russia</td>\n",
              "      <td>727.0</td>\n",
              "      <td>600.0</td>\n",
              "      <td>589.0</td>\n",
              "      <td>1916.0</td>\n",
              "    </tr>\n",
              "    <tr>\n",
              "      <th>2</th>\n",
              "      <td>Germany</td>\n",
              "      <td>580.0</td>\n",
              "      <td>592.0</td>\n",
              "      <td>597.0</td>\n",
              "      <td>1769.0</td>\n",
              "    </tr>\n",
              "    <tr>\n",
              "      <th>3</th>\n",
              "      <td>UK</td>\n",
              "      <td>289.0</td>\n",
              "      <td>321.0</td>\n",
              "      <td>312.0</td>\n",
              "      <td>922.0</td>\n",
              "    </tr>\n",
              "    <tr>\n",
              "      <th>4</th>\n",
              "      <td>France</td>\n",
              "      <td>265.0</td>\n",
              "      <td>287.0</td>\n",
              "      <td>334.0</td>\n",
              "      <td>886.0</td>\n",
              "    </tr>\n",
              "    <tr>\n",
              "      <th>5</th>\n",
              "      <td>Italy</td>\n",
              "      <td>256.0</td>\n",
              "      <td>225.0</td>\n",
              "      <td>241.0</td>\n",
              "      <td>722.0</td>\n",
              "    </tr>\n",
              "    <tr>\n",
              "      <th>6</th>\n",
              "      <td>Sweden</td>\n",
              "      <td>200.0</td>\n",
              "      <td>215.0</td>\n",
              "      <td>242.0</td>\n",
              "      <td>657.0</td>\n",
              "    </tr>\n",
              "    <tr>\n",
              "      <th>7</th>\n",
              "      <td>China</td>\n",
              "      <td>240.0</td>\n",
              "      <td>185.0</td>\n",
              "      <td>173.0</td>\n",
              "      <td>598.0</td>\n",
              "    </tr>\n",
              "    <tr>\n",
              "      <th>8</th>\n",
              "      <td>Australia</td>\n",
              "      <td>156.0</td>\n",
              "      <td>174.0</td>\n",
              "      <td>201.0</td>\n",
              "      <td>531.0</td>\n",
              "    </tr>\n",
              "    <tr>\n",
              "      <th>9</th>\n",
              "      <td>Hungary</td>\n",
              "      <td>178.0</td>\n",
              "      <td>156.0</td>\n",
              "      <td>176.0</td>\n",
              "      <td>510.0</td>\n",
              "    </tr>\n",
              "  </tbody>\n",
              "</table>\n",
              "</div>\n",
              "      <button class=\"colab-df-convert\" onclick=\"convertToInteractive('df-d16021cc-c143-422f-94d7-9831cad94bee')\"\n",
              "              title=\"Convert this dataframe to an interactive table.\"\n",
              "              style=\"display:none;\">\n",
              "        \n",
              "  <svg xmlns=\"http://www.w3.org/2000/svg\" height=\"24px\"viewBox=\"0 0 24 24\"\n",
              "       width=\"24px\">\n",
              "    <path d=\"M0 0h24v24H0V0z\" fill=\"none\"/>\n",
              "    <path d=\"M18.56 5.44l.94 2.06.94-2.06 2.06-.94-2.06-.94-.94-2.06-.94 2.06-2.06.94zm-11 1L8.5 8.5l.94-2.06 2.06-.94-2.06-.94L8.5 2.5l-.94 2.06-2.06.94zm10 10l.94 2.06.94-2.06 2.06-.94-2.06-.94-.94-2.06-.94 2.06-2.06.94z\"/><path d=\"M17.41 7.96l-1.37-1.37c-.4-.4-.92-.59-1.43-.59-.52 0-1.04.2-1.43.59L10.3 9.45l-7.72 7.72c-.78.78-.78 2.05 0 2.83L4 21.41c.39.39.9.59 1.41.59.51 0 1.02-.2 1.41-.59l7.78-7.78 2.81-2.81c.8-.78.8-2.07 0-2.86zM5.41 20L4 18.59l7.72-7.72 1.47 1.35L5.41 20z\"/>\n",
              "  </svg>\n",
              "      </button>\n",
              "      \n",
              "  <style>\n",
              "    .colab-df-container {\n",
              "      display:flex;\n",
              "      flex-wrap:wrap;\n",
              "      gap: 12px;\n",
              "    }\n",
              "\n",
              "    .colab-df-convert {\n",
              "      background-color: #E8F0FE;\n",
              "      border: none;\n",
              "      border-radius: 50%;\n",
              "      cursor: pointer;\n",
              "      display: none;\n",
              "      fill: #1967D2;\n",
              "      height: 32px;\n",
              "      padding: 0 0 0 0;\n",
              "      width: 32px;\n",
              "    }\n",
              "\n",
              "    .colab-df-convert:hover {\n",
              "      background-color: #E2EBFA;\n",
              "      box-shadow: 0px 1px 2px rgba(60, 64, 67, 0.3), 0px 1px 3px 1px rgba(60, 64, 67, 0.15);\n",
              "      fill: #174EA6;\n",
              "    }\n",
              "\n",
              "    [theme=dark] .colab-df-convert {\n",
              "      background-color: #3B4455;\n",
              "      fill: #D2E3FC;\n",
              "    }\n",
              "\n",
              "    [theme=dark] .colab-df-convert:hover {\n",
              "      background-color: #434B5C;\n",
              "      box-shadow: 0px 1px 3px 1px rgba(0, 0, 0, 0.15);\n",
              "      filter: drop-shadow(0px 1px 2px rgba(0, 0, 0, 0.3));\n",
              "      fill: #FFFFFF;\n",
              "    }\n",
              "  </style>\n",
              "\n",
              "      <script>\n",
              "        const buttonEl =\n",
              "          document.querySelector('#df-d16021cc-c143-422f-94d7-9831cad94bee button.colab-df-convert');\n",
              "        buttonEl.style.display =\n",
              "          google.colab.kernel.accessAllowed ? 'block' : 'none';\n",
              "\n",
              "        async function convertToInteractive(key) {\n",
              "          const element = document.querySelector('#df-d16021cc-c143-422f-94d7-9831cad94bee');\n",
              "          const dataTable =\n",
              "            await google.colab.kernel.invokeFunction('convertToInteractive',\n",
              "                                                     [key], {});\n",
              "          if (!dataTable) return;\n",
              "\n",
              "          const docLinkHtml = 'Like what you see? Visit the ' +\n",
              "            '<a target=\"_blank\" href=https://colab.research.google.com/notebooks/data_table.ipynb>data table notebook</a>'\n",
              "            + ' to learn more about interactive tables.';\n",
              "          element.innerHTML = '';\n",
              "          dataTable['output_type'] = 'display_data';\n",
              "          await google.colab.output.renderOutput(dataTable, element);\n",
              "          const docLink = document.createElement('div');\n",
              "          docLink.innerHTML = docLinkHtml;\n",
              "          element.appendChild(docLink);\n",
              "        }\n",
              "      </script>\n",
              "    </div>\n",
              "  </div>\n",
              "  "
            ]
          },
          "metadata": {},
          "execution_count": 138
        }
      ]
    },
    {
      "cell_type": "markdown",
      "source": [
        "**SPORTS PLAYED IN THE OLYMPICS**"
      ],
      "metadata": {
        "id": "b3ZeKvTJenZu"
      }
    },
    {
      "cell_type": "code",
      "source": [
        "#we see the number of Medals/athletes in each sport that helds in Olympics\n",
        "df_sport = df.groupby('Sport')['Name'].count().reset_index(name = 'Count')\n",
        "df_sport = df_sport.sort_values('Count',ascending = False).reset_index()\n",
        "df_sport.drop(columns=['index'], inplace=True)\n",
        "df_sport.head(15)"
      ],
      "metadata": {
        "colab": {
          "base_uri": "https://localhost:8080/",
          "height": 520
        },
        "id": "gOo7pGu9M9D-",
        "outputId": "45319b79-80e6-4d38-ab81-c5274f3236a0"
      },
      "execution_count": 139,
      "outputs": [
        {
          "output_type": "execute_result",
          "data": {
            "text/plain": [
              "         Sport  Count\n",
              "0    Athletics   3969\n",
              "1     Swimming   3048\n",
              "2       Rowing   2945\n",
              "3   Gymnastics   2256\n",
              "4      Fencing   1743\n",
              "5     Football   1571\n",
              "6   Ice Hockey   1530\n",
              "7       Hockey   1528\n",
              "8    Wrestling   1296\n",
              "9      Cycling   1263\n",
              "10    Shooting   1228\n",
              "11     Sailing   1221\n",
              "12    Canoeing   1165\n",
              "13  Basketball   1080\n",
              "14    Handball   1060"
            ],
            "text/html": [
              "\n",
              "  <div id=\"df-34e1620d-b14d-4dc7-b1a7-8b408933e0ad\">\n",
              "    <div class=\"colab-df-container\">\n",
              "      <div>\n",
              "<style scoped>\n",
              "    .dataframe tbody tr th:only-of-type {\n",
              "        vertical-align: middle;\n",
              "    }\n",
              "\n",
              "    .dataframe tbody tr th {\n",
              "        vertical-align: top;\n",
              "    }\n",
              "\n",
              "    .dataframe thead th {\n",
              "        text-align: right;\n",
              "    }\n",
              "</style>\n",
              "<table border=\"1\" class=\"dataframe\">\n",
              "  <thead>\n",
              "    <tr style=\"text-align: right;\">\n",
              "      <th></th>\n",
              "      <th>Sport</th>\n",
              "      <th>Count</th>\n",
              "    </tr>\n",
              "  </thead>\n",
              "  <tbody>\n",
              "    <tr>\n",
              "      <th>0</th>\n",
              "      <td>Athletics</td>\n",
              "      <td>3969</td>\n",
              "    </tr>\n",
              "    <tr>\n",
              "      <th>1</th>\n",
              "      <td>Swimming</td>\n",
              "      <td>3048</td>\n",
              "    </tr>\n",
              "    <tr>\n",
              "      <th>2</th>\n",
              "      <td>Rowing</td>\n",
              "      <td>2945</td>\n",
              "    </tr>\n",
              "    <tr>\n",
              "      <th>3</th>\n",
              "      <td>Gymnastics</td>\n",
              "      <td>2256</td>\n",
              "    </tr>\n",
              "    <tr>\n",
              "      <th>4</th>\n",
              "      <td>Fencing</td>\n",
              "      <td>1743</td>\n",
              "    </tr>\n",
              "    <tr>\n",
              "      <th>5</th>\n",
              "      <td>Football</td>\n",
              "      <td>1571</td>\n",
              "    </tr>\n",
              "    <tr>\n",
              "      <th>6</th>\n",
              "      <td>Ice Hockey</td>\n",
              "      <td>1530</td>\n",
              "    </tr>\n",
              "    <tr>\n",
              "      <th>7</th>\n",
              "      <td>Hockey</td>\n",
              "      <td>1528</td>\n",
              "    </tr>\n",
              "    <tr>\n",
              "      <th>8</th>\n",
              "      <td>Wrestling</td>\n",
              "      <td>1296</td>\n",
              "    </tr>\n",
              "    <tr>\n",
              "      <th>9</th>\n",
              "      <td>Cycling</td>\n",
              "      <td>1263</td>\n",
              "    </tr>\n",
              "    <tr>\n",
              "      <th>10</th>\n",
              "      <td>Shooting</td>\n",
              "      <td>1228</td>\n",
              "    </tr>\n",
              "    <tr>\n",
              "      <th>11</th>\n",
              "      <td>Sailing</td>\n",
              "      <td>1221</td>\n",
              "    </tr>\n",
              "    <tr>\n",
              "      <th>12</th>\n",
              "      <td>Canoeing</td>\n",
              "      <td>1165</td>\n",
              "    </tr>\n",
              "    <tr>\n",
              "      <th>13</th>\n",
              "      <td>Basketball</td>\n",
              "      <td>1080</td>\n",
              "    </tr>\n",
              "    <tr>\n",
              "      <th>14</th>\n",
              "      <td>Handball</td>\n",
              "      <td>1060</td>\n",
              "    </tr>\n",
              "  </tbody>\n",
              "</table>\n",
              "</div>\n",
              "      <button class=\"colab-df-convert\" onclick=\"convertToInteractive('df-34e1620d-b14d-4dc7-b1a7-8b408933e0ad')\"\n",
              "              title=\"Convert this dataframe to an interactive table.\"\n",
              "              style=\"display:none;\">\n",
              "        \n",
              "  <svg xmlns=\"http://www.w3.org/2000/svg\" height=\"24px\"viewBox=\"0 0 24 24\"\n",
              "       width=\"24px\">\n",
              "    <path d=\"M0 0h24v24H0V0z\" fill=\"none\"/>\n",
              "    <path d=\"M18.56 5.44l.94 2.06.94-2.06 2.06-.94-2.06-.94-.94-2.06-.94 2.06-2.06.94zm-11 1L8.5 8.5l.94-2.06 2.06-.94-2.06-.94L8.5 2.5l-.94 2.06-2.06.94zm10 10l.94 2.06.94-2.06 2.06-.94-2.06-.94-.94-2.06-.94 2.06-2.06.94z\"/><path d=\"M17.41 7.96l-1.37-1.37c-.4-.4-.92-.59-1.43-.59-.52 0-1.04.2-1.43.59L10.3 9.45l-7.72 7.72c-.78.78-.78 2.05 0 2.83L4 21.41c.39.39.9.59 1.41.59.51 0 1.02-.2 1.41-.59l7.78-7.78 2.81-2.81c.8-.78.8-2.07 0-2.86zM5.41 20L4 18.59l7.72-7.72 1.47 1.35L5.41 20z\"/>\n",
              "  </svg>\n",
              "      </button>\n",
              "      \n",
              "  <style>\n",
              "    .colab-df-container {\n",
              "      display:flex;\n",
              "      flex-wrap:wrap;\n",
              "      gap: 12px;\n",
              "    }\n",
              "\n",
              "    .colab-df-convert {\n",
              "      background-color: #E8F0FE;\n",
              "      border: none;\n",
              "      border-radius: 50%;\n",
              "      cursor: pointer;\n",
              "      display: none;\n",
              "      fill: #1967D2;\n",
              "      height: 32px;\n",
              "      padding: 0 0 0 0;\n",
              "      width: 32px;\n",
              "    }\n",
              "\n",
              "    .colab-df-convert:hover {\n",
              "      background-color: #E2EBFA;\n",
              "      box-shadow: 0px 1px 2px rgba(60, 64, 67, 0.3), 0px 1px 3px 1px rgba(60, 64, 67, 0.15);\n",
              "      fill: #174EA6;\n",
              "    }\n",
              "\n",
              "    [theme=dark] .colab-df-convert {\n",
              "      background-color: #3B4455;\n",
              "      fill: #D2E3FC;\n",
              "    }\n",
              "\n",
              "    [theme=dark] .colab-df-convert:hover {\n",
              "      background-color: #434B5C;\n",
              "      box-shadow: 0px 1px 3px 1px rgba(0, 0, 0, 0.15);\n",
              "      filter: drop-shadow(0px 1px 2px rgba(0, 0, 0, 0.3));\n",
              "      fill: #FFFFFF;\n",
              "    }\n",
              "  </style>\n",
              "\n",
              "      <script>\n",
              "        const buttonEl =\n",
              "          document.querySelector('#df-34e1620d-b14d-4dc7-b1a7-8b408933e0ad button.colab-df-convert');\n",
              "        buttonEl.style.display =\n",
              "          google.colab.kernel.accessAllowed ? 'block' : 'none';\n",
              "\n",
              "        async function convertToInteractive(key) {\n",
              "          const element = document.querySelector('#df-34e1620d-b14d-4dc7-b1a7-8b408933e0ad');\n",
              "          const dataTable =\n",
              "            await google.colab.kernel.invokeFunction('convertToInteractive',\n",
              "                                                     [key], {});\n",
              "          if (!dataTable) return;\n",
              "\n",
              "          const docLinkHtml = 'Like what you see? Visit the ' +\n",
              "            '<a target=\"_blank\" href=https://colab.research.google.com/notebooks/data_table.ipynb>data table notebook</a>'\n",
              "            + ' to learn more about interactive tables.';\n",
              "          element.innerHTML = '';\n",
              "          dataTable['output_type'] = 'display_data';\n",
              "          await google.colab.output.renderOutput(dataTable, element);\n",
              "          const docLink = document.createElement('div');\n",
              "          docLink.innerHTML = docLinkHtml;\n",
              "          element.appendChild(docLink);\n",
              "        }\n",
              "      </script>\n",
              "    </div>\n",
              "  </div>\n",
              "  "
            ]
          },
          "metadata": {},
          "execution_count": 139
        }
      ]
    },
    {
      "cell_type": "markdown",
      "source": [
        "**PERFORMANCE OF MEN AND WOMEN IN THE OLYMPICS**"
      ],
      "metadata": {
        "id": "lWl0JvtVee5i"
      }
    },
    {
      "cell_type": "code",
      "source": [
        "#number of different medals for men and women\n",
        "men_and_women_medals=df.groupby('Sex').sum()[['Gold','Silver','Bronze']].sort_values('Gold',ascending=False).reset_index()\n",
        "print(men_and_women_medals)"
      ],
      "metadata": {
        "colab": {
          "base_uri": "https://localhost:8080/"
        },
        "id": "ZwBvWxTi9A0q",
        "outputId": "85ecb727-2f2f-4983-e6b6-9a311d6fc97a"
      },
      "execution_count": 140,
      "outputs": [
        {
          "output_type": "stream",
          "name": "stdout",
          "text": [
            "  Sex    Gold  Silver  Bronze\n",
            "0   M  9622.0  9373.0  9524.0\n",
            "1   F  3747.0  3735.0  3771.0\n"
          ]
        }
      ]
    },
    {
      "cell_type": "code",
      "source": [
        "#number of women who have won medals at the summer Olympics\n",
        "women = df[(df['Sex'] == 'F') & (df['Season'] == 'Summer')].groupby('Year').count()['Name'].reset_index()\n",
        "#number of men who have won medals at the summer Olympics\n",
        "men = df[(df['Sex'] == 'M') & (df['Season'] == 'Summer')].groupby('Year').count()['Name'].reset_index()\n",
        "\n",
        "#number of men and women with medals in each year\n",
        "total_athlete = men.merge(women,on ='Year',how ='left')\n",
        "total_athlete.rename(columns={'Name_x':'Male','Name_y':'Female'},inplace=True)\n",
        "total_athlete = total_athlete.fillna(0)\n",
        "total_athlete"
      ],
      "metadata": {
        "colab": {
          "base_uri": "https://localhost:8080/",
          "height": 958
        },
        "id": "BtegJMgg3o9A",
        "outputId": "913011ef-6f84-4191-b32a-2d57c859ec5d"
      },
      "execution_count": 141,
      "outputs": [
        {
          "output_type": "execute_result",
          "data": {
            "text/plain": [
              "    Year  Male  Female\n",
              "0   1896   143     0.0\n",
              "1   1900   580    13.0\n",
              "2   1904   476    10.0\n",
              "3   1906   452     6.0\n",
              "4   1908   815    16.0\n",
              "5   1912   911    30.0\n",
              "6   1920  1264    44.0\n",
              "7   1924   786    46.0\n",
              "8   1928   637    97.0\n",
              "9   1932   585    62.0\n",
              "10  1936   829    88.0\n",
              "11  1948   751   101.0\n",
              "12  1952   757   140.0\n",
              "13  1956   749   144.0\n",
              "14  1960   755   156.0\n",
              "15  1964   829   200.0\n",
              "16  1968   842   215.0\n",
              "17  1972   965   250.0\n",
              "18  1976   931   389.0\n",
              "19  1980   950   434.0\n",
              "20  1984   982   494.0\n",
              "21  1988  1028   554.0\n",
              "22  1992  1120   592.0\n",
              "23  1996  1078   764.0\n",
              "24  2000  1124   880.0\n",
              "25  2004  1103   898.0\n",
              "26  2008  1116   932.0\n",
              "27  2012  1023   918.0\n",
              "28  2016  1054   969.0"
            ],
            "text/html": [
              "\n",
              "  <div id=\"df-ac03f8de-20c9-4d1b-90fe-c5f6c1002731\">\n",
              "    <div class=\"colab-df-container\">\n",
              "      <div>\n",
              "<style scoped>\n",
              "    .dataframe tbody tr th:only-of-type {\n",
              "        vertical-align: middle;\n",
              "    }\n",
              "\n",
              "    .dataframe tbody tr th {\n",
              "        vertical-align: top;\n",
              "    }\n",
              "\n",
              "    .dataframe thead th {\n",
              "        text-align: right;\n",
              "    }\n",
              "</style>\n",
              "<table border=\"1\" class=\"dataframe\">\n",
              "  <thead>\n",
              "    <tr style=\"text-align: right;\">\n",
              "      <th></th>\n",
              "      <th>Year</th>\n",
              "      <th>Male</th>\n",
              "      <th>Female</th>\n",
              "    </tr>\n",
              "  </thead>\n",
              "  <tbody>\n",
              "    <tr>\n",
              "      <th>0</th>\n",
              "      <td>1896</td>\n",
              "      <td>143</td>\n",
              "      <td>0.0</td>\n",
              "    </tr>\n",
              "    <tr>\n",
              "      <th>1</th>\n",
              "      <td>1900</td>\n",
              "      <td>580</td>\n",
              "      <td>13.0</td>\n",
              "    </tr>\n",
              "    <tr>\n",
              "      <th>2</th>\n",
              "      <td>1904</td>\n",
              "      <td>476</td>\n",
              "      <td>10.0</td>\n",
              "    </tr>\n",
              "    <tr>\n",
              "      <th>3</th>\n",
              "      <td>1906</td>\n",
              "      <td>452</td>\n",
              "      <td>6.0</td>\n",
              "    </tr>\n",
              "    <tr>\n",
              "      <th>4</th>\n",
              "      <td>1908</td>\n",
              "      <td>815</td>\n",
              "      <td>16.0</td>\n",
              "    </tr>\n",
              "    <tr>\n",
              "      <th>5</th>\n",
              "      <td>1912</td>\n",
              "      <td>911</td>\n",
              "      <td>30.0</td>\n",
              "    </tr>\n",
              "    <tr>\n",
              "      <th>6</th>\n",
              "      <td>1920</td>\n",
              "      <td>1264</td>\n",
              "      <td>44.0</td>\n",
              "    </tr>\n",
              "    <tr>\n",
              "      <th>7</th>\n",
              "      <td>1924</td>\n",
              "      <td>786</td>\n",
              "      <td>46.0</td>\n",
              "    </tr>\n",
              "    <tr>\n",
              "      <th>8</th>\n",
              "      <td>1928</td>\n",
              "      <td>637</td>\n",
              "      <td>97.0</td>\n",
              "    </tr>\n",
              "    <tr>\n",
              "      <th>9</th>\n",
              "      <td>1932</td>\n",
              "      <td>585</td>\n",
              "      <td>62.0</td>\n",
              "    </tr>\n",
              "    <tr>\n",
              "      <th>10</th>\n",
              "      <td>1936</td>\n",
              "      <td>829</td>\n",
              "      <td>88.0</td>\n",
              "    </tr>\n",
              "    <tr>\n",
              "      <th>11</th>\n",
              "      <td>1948</td>\n",
              "      <td>751</td>\n",
              "      <td>101.0</td>\n",
              "    </tr>\n",
              "    <tr>\n",
              "      <th>12</th>\n",
              "      <td>1952</td>\n",
              "      <td>757</td>\n",
              "      <td>140.0</td>\n",
              "    </tr>\n",
              "    <tr>\n",
              "      <th>13</th>\n",
              "      <td>1956</td>\n",
              "      <td>749</td>\n",
              "      <td>144.0</td>\n",
              "    </tr>\n",
              "    <tr>\n",
              "      <th>14</th>\n",
              "      <td>1960</td>\n",
              "      <td>755</td>\n",
              "      <td>156.0</td>\n",
              "    </tr>\n",
              "    <tr>\n",
              "      <th>15</th>\n",
              "      <td>1964</td>\n",
              "      <td>829</td>\n",
              "      <td>200.0</td>\n",
              "    </tr>\n",
              "    <tr>\n",
              "      <th>16</th>\n",
              "      <td>1968</td>\n",
              "      <td>842</td>\n",
              "      <td>215.0</td>\n",
              "    </tr>\n",
              "    <tr>\n",
              "      <th>17</th>\n",
              "      <td>1972</td>\n",
              "      <td>965</td>\n",
              "      <td>250.0</td>\n",
              "    </tr>\n",
              "    <tr>\n",
              "      <th>18</th>\n",
              "      <td>1976</td>\n",
              "      <td>931</td>\n",
              "      <td>389.0</td>\n",
              "    </tr>\n",
              "    <tr>\n",
              "      <th>19</th>\n",
              "      <td>1980</td>\n",
              "      <td>950</td>\n",
              "      <td>434.0</td>\n",
              "    </tr>\n",
              "    <tr>\n",
              "      <th>20</th>\n",
              "      <td>1984</td>\n",
              "      <td>982</td>\n",
              "      <td>494.0</td>\n",
              "    </tr>\n",
              "    <tr>\n",
              "      <th>21</th>\n",
              "      <td>1988</td>\n",
              "      <td>1028</td>\n",
              "      <td>554.0</td>\n",
              "    </tr>\n",
              "    <tr>\n",
              "      <th>22</th>\n",
              "      <td>1992</td>\n",
              "      <td>1120</td>\n",
              "      <td>592.0</td>\n",
              "    </tr>\n",
              "    <tr>\n",
              "      <th>23</th>\n",
              "      <td>1996</td>\n",
              "      <td>1078</td>\n",
              "      <td>764.0</td>\n",
              "    </tr>\n",
              "    <tr>\n",
              "      <th>24</th>\n",
              "      <td>2000</td>\n",
              "      <td>1124</td>\n",
              "      <td>880.0</td>\n",
              "    </tr>\n",
              "    <tr>\n",
              "      <th>25</th>\n",
              "      <td>2004</td>\n",
              "      <td>1103</td>\n",
              "      <td>898.0</td>\n",
              "    </tr>\n",
              "    <tr>\n",
              "      <th>26</th>\n",
              "      <td>2008</td>\n",
              "      <td>1116</td>\n",
              "      <td>932.0</td>\n",
              "    </tr>\n",
              "    <tr>\n",
              "      <th>27</th>\n",
              "      <td>2012</td>\n",
              "      <td>1023</td>\n",
              "      <td>918.0</td>\n",
              "    </tr>\n",
              "    <tr>\n",
              "      <th>28</th>\n",
              "      <td>2016</td>\n",
              "      <td>1054</td>\n",
              "      <td>969.0</td>\n",
              "    </tr>\n",
              "  </tbody>\n",
              "</table>\n",
              "</div>\n",
              "      <button class=\"colab-df-convert\" onclick=\"convertToInteractive('df-ac03f8de-20c9-4d1b-90fe-c5f6c1002731')\"\n",
              "              title=\"Convert this dataframe to an interactive table.\"\n",
              "              style=\"display:none;\">\n",
              "        \n",
              "  <svg xmlns=\"http://www.w3.org/2000/svg\" height=\"24px\"viewBox=\"0 0 24 24\"\n",
              "       width=\"24px\">\n",
              "    <path d=\"M0 0h24v24H0V0z\" fill=\"none\"/>\n",
              "    <path d=\"M18.56 5.44l.94 2.06.94-2.06 2.06-.94-2.06-.94-.94-2.06-.94 2.06-2.06.94zm-11 1L8.5 8.5l.94-2.06 2.06-.94-2.06-.94L8.5 2.5l-.94 2.06-2.06.94zm10 10l.94 2.06.94-2.06 2.06-.94-2.06-.94-.94-2.06-.94 2.06-2.06.94z\"/><path d=\"M17.41 7.96l-1.37-1.37c-.4-.4-.92-.59-1.43-.59-.52 0-1.04.2-1.43.59L10.3 9.45l-7.72 7.72c-.78.78-.78 2.05 0 2.83L4 21.41c.39.39.9.59 1.41.59.51 0 1.02-.2 1.41-.59l7.78-7.78 2.81-2.81c.8-.78.8-2.07 0-2.86zM5.41 20L4 18.59l7.72-7.72 1.47 1.35L5.41 20z\"/>\n",
              "  </svg>\n",
              "      </button>\n",
              "      \n",
              "  <style>\n",
              "    .colab-df-container {\n",
              "      display:flex;\n",
              "      flex-wrap:wrap;\n",
              "      gap: 12px;\n",
              "    }\n",
              "\n",
              "    .colab-df-convert {\n",
              "      background-color: #E8F0FE;\n",
              "      border: none;\n",
              "      border-radius: 50%;\n",
              "      cursor: pointer;\n",
              "      display: none;\n",
              "      fill: #1967D2;\n",
              "      height: 32px;\n",
              "      padding: 0 0 0 0;\n",
              "      width: 32px;\n",
              "    }\n",
              "\n",
              "    .colab-df-convert:hover {\n",
              "      background-color: #E2EBFA;\n",
              "      box-shadow: 0px 1px 2px rgba(60, 64, 67, 0.3), 0px 1px 3px 1px rgba(60, 64, 67, 0.15);\n",
              "      fill: #174EA6;\n",
              "    }\n",
              "\n",
              "    [theme=dark] .colab-df-convert {\n",
              "      background-color: #3B4455;\n",
              "      fill: #D2E3FC;\n",
              "    }\n",
              "\n",
              "    [theme=dark] .colab-df-convert:hover {\n",
              "      background-color: #434B5C;\n",
              "      box-shadow: 0px 1px 3px 1px rgba(0, 0, 0, 0.15);\n",
              "      filter: drop-shadow(0px 1px 2px rgba(0, 0, 0, 0.3));\n",
              "      fill: #FFFFFF;\n",
              "    }\n",
              "  </style>\n",
              "\n",
              "      <script>\n",
              "        const buttonEl =\n",
              "          document.querySelector('#df-ac03f8de-20c9-4d1b-90fe-c5f6c1002731 button.colab-df-convert');\n",
              "        buttonEl.style.display =\n",
              "          google.colab.kernel.accessAllowed ? 'block' : 'none';\n",
              "\n",
              "        async function convertToInteractive(key) {\n",
              "          const element = document.querySelector('#df-ac03f8de-20c9-4d1b-90fe-c5f6c1002731');\n",
              "          const dataTable =\n",
              "            await google.colab.kernel.invokeFunction('convertToInteractive',\n",
              "                                                     [key], {});\n",
              "          if (!dataTable) return;\n",
              "\n",
              "          const docLinkHtml = 'Like what you see? Visit the ' +\n",
              "            '<a target=\"_blank\" href=https://colab.research.google.com/notebooks/data_table.ipynb>data table notebook</a>'\n",
              "            + ' to learn more about interactive tables.';\n",
              "          element.innerHTML = '';\n",
              "          dataTable['output_type'] = 'display_data';\n",
              "          await google.colab.output.renderOutput(dataTable, element);\n",
              "          const docLink = document.createElement('div');\n",
              "          docLink.innerHTML = docLinkHtml;\n",
              "          element.appendChild(docLink);\n",
              "        }\n",
              "      </script>\n",
              "    </div>\n",
              "  </div>\n",
              "  "
            ]
          },
          "metadata": {},
          "execution_count": 141
        }
      ]
    },
    {
      "cell_type": "markdown",
      "source": [
        "**Top 20 countries were successful in what sport**"
      ],
      "metadata": {
        "id": "zb0-iFP76CmW"
      }
    },
    {
      "cell_type": "code",
      "source": [
        "#making a matrix of region and sport \n",
        "country_sport=df_medal_duplicated .groupby('region')['Sport'].value_counts().sort_values(ascending=False).unstack().fillna(0)"
      ],
      "metadata": {
        "id": "n_v9Do3sDySH"
      },
      "execution_count": 142,
      "outputs": []
    },
    {
      "cell_type": "code",
      "source": [
        "#top 20 countries with most medals in one sport\n",
        "x=country_sport.max(axis=1).sort_values(ascending=False).head(20)"
      ],
      "metadata": {
        "id": "JIj-PSZferSM"
      },
      "execution_count": 143,
      "outputs": []
    },
    {
      "cell_type": "code",
      "source": [
        "#finding for each country the name of successfull sport\n",
        "y=country_sport.idxmax(axis=1)"
      ],
      "metadata": {
        "id": "LB9bI4spFE-M"
      },
      "execution_count": 144,
      "outputs": []
    },
    {
      "cell_type": "code",
      "source": [
        "#define series for x and y\n",
        "series1 = pd.Series(x , name='Medals')\n",
        "series2 = pd.Series(y , name='Sport')\n",
        "\n",
        "#merge series into DataFrame\n",
        "df_xy = pd.concat([series1, series2], axis=1)\n",
        "country_m_s=df_xy.head(20).reset_index()\n",
        "country_m_s.columns.name=None\n",
        "country_m_s"
      ],
      "metadata": {
        "colab": {
          "base_uri": "https://localhost:8080/",
          "height": 676
        },
        "id": "HLMQ0QuQzmi-",
        "outputId": "fc9a3899-007f-428d-e964-672247a78821"
      },
      "execution_count": 145,
      "outputs": [
        {
          "output_type": "execute_result",
          "data": {
            "text/plain": [
              "         region  Medals                 Sport\n",
              "0           USA   816.0             Athletics\n",
              "1        Russia   291.0             Athletics\n",
              "2       Germany   264.0             Athletics\n",
              "3            UK   212.0             Athletics\n",
              "4     Australia   201.0              Swimming\n",
              "5         Italy   127.0               Fencing\n",
              "6        France   123.0               Fencing\n",
              "7       Finland   116.0             Athletics\n",
              "8       Austria   114.0         Alpine Skiing\n",
              "9   Netherlands   105.0         Speed Skating\n",
              "10       Norway    97.0  Cross Country Skiing\n",
              "11        Japan    94.0            Gymnastics\n",
              "12        Kenya    93.0             Athletics\n",
              "13       Sweden    92.0             Athletics\n",
              "14      Hungary    88.0               Fencing\n",
              "15      Jamaica    75.0             Athletics\n",
              "16         Cuba    73.0                Boxing\n",
              "17     Bulgaria    69.0             Wrestling\n",
              "18        China    69.0                Diving\n",
              "19      Romania    69.0            Gymnastics"
            ],
            "text/html": [
              "\n",
              "  <div id=\"df-5d5cb024-99d8-4eaa-8494-3a5df64e03be\">\n",
              "    <div class=\"colab-df-container\">\n",
              "      <div>\n",
              "<style scoped>\n",
              "    .dataframe tbody tr th:only-of-type {\n",
              "        vertical-align: middle;\n",
              "    }\n",
              "\n",
              "    .dataframe tbody tr th {\n",
              "        vertical-align: top;\n",
              "    }\n",
              "\n",
              "    .dataframe thead th {\n",
              "        text-align: right;\n",
              "    }\n",
              "</style>\n",
              "<table border=\"1\" class=\"dataframe\">\n",
              "  <thead>\n",
              "    <tr style=\"text-align: right;\">\n",
              "      <th></th>\n",
              "      <th>region</th>\n",
              "      <th>Medals</th>\n",
              "      <th>Sport</th>\n",
              "    </tr>\n",
              "  </thead>\n",
              "  <tbody>\n",
              "    <tr>\n",
              "      <th>0</th>\n",
              "      <td>USA</td>\n",
              "      <td>816.0</td>\n",
              "      <td>Athletics</td>\n",
              "    </tr>\n",
              "    <tr>\n",
              "      <th>1</th>\n",
              "      <td>Russia</td>\n",
              "      <td>291.0</td>\n",
              "      <td>Athletics</td>\n",
              "    </tr>\n",
              "    <tr>\n",
              "      <th>2</th>\n",
              "      <td>Germany</td>\n",
              "      <td>264.0</td>\n",
              "      <td>Athletics</td>\n",
              "    </tr>\n",
              "    <tr>\n",
              "      <th>3</th>\n",
              "      <td>UK</td>\n",
              "      <td>212.0</td>\n",
              "      <td>Athletics</td>\n",
              "    </tr>\n",
              "    <tr>\n",
              "      <th>4</th>\n",
              "      <td>Australia</td>\n",
              "      <td>201.0</td>\n",
              "      <td>Swimming</td>\n",
              "    </tr>\n",
              "    <tr>\n",
              "      <th>5</th>\n",
              "      <td>Italy</td>\n",
              "      <td>127.0</td>\n",
              "      <td>Fencing</td>\n",
              "    </tr>\n",
              "    <tr>\n",
              "      <th>6</th>\n",
              "      <td>France</td>\n",
              "      <td>123.0</td>\n",
              "      <td>Fencing</td>\n",
              "    </tr>\n",
              "    <tr>\n",
              "      <th>7</th>\n",
              "      <td>Finland</td>\n",
              "      <td>116.0</td>\n",
              "      <td>Athletics</td>\n",
              "    </tr>\n",
              "    <tr>\n",
              "      <th>8</th>\n",
              "      <td>Austria</td>\n",
              "      <td>114.0</td>\n",
              "      <td>Alpine Skiing</td>\n",
              "    </tr>\n",
              "    <tr>\n",
              "      <th>9</th>\n",
              "      <td>Netherlands</td>\n",
              "      <td>105.0</td>\n",
              "      <td>Speed Skating</td>\n",
              "    </tr>\n",
              "    <tr>\n",
              "      <th>10</th>\n",
              "      <td>Norway</td>\n",
              "      <td>97.0</td>\n",
              "      <td>Cross Country Skiing</td>\n",
              "    </tr>\n",
              "    <tr>\n",
              "      <th>11</th>\n",
              "      <td>Japan</td>\n",
              "      <td>94.0</td>\n",
              "      <td>Gymnastics</td>\n",
              "    </tr>\n",
              "    <tr>\n",
              "      <th>12</th>\n",
              "      <td>Kenya</td>\n",
              "      <td>93.0</td>\n",
              "      <td>Athletics</td>\n",
              "    </tr>\n",
              "    <tr>\n",
              "      <th>13</th>\n",
              "      <td>Sweden</td>\n",
              "      <td>92.0</td>\n",
              "      <td>Athletics</td>\n",
              "    </tr>\n",
              "    <tr>\n",
              "      <th>14</th>\n",
              "      <td>Hungary</td>\n",
              "      <td>88.0</td>\n",
              "      <td>Fencing</td>\n",
              "    </tr>\n",
              "    <tr>\n",
              "      <th>15</th>\n",
              "      <td>Jamaica</td>\n",
              "      <td>75.0</td>\n",
              "      <td>Athletics</td>\n",
              "    </tr>\n",
              "    <tr>\n",
              "      <th>16</th>\n",
              "      <td>Cuba</td>\n",
              "      <td>73.0</td>\n",
              "      <td>Boxing</td>\n",
              "    </tr>\n",
              "    <tr>\n",
              "      <th>17</th>\n",
              "      <td>Bulgaria</td>\n",
              "      <td>69.0</td>\n",
              "      <td>Wrestling</td>\n",
              "    </tr>\n",
              "    <tr>\n",
              "      <th>18</th>\n",
              "      <td>China</td>\n",
              "      <td>69.0</td>\n",
              "      <td>Diving</td>\n",
              "    </tr>\n",
              "    <tr>\n",
              "      <th>19</th>\n",
              "      <td>Romania</td>\n",
              "      <td>69.0</td>\n",
              "      <td>Gymnastics</td>\n",
              "    </tr>\n",
              "  </tbody>\n",
              "</table>\n",
              "</div>\n",
              "      <button class=\"colab-df-convert\" onclick=\"convertToInteractive('df-5d5cb024-99d8-4eaa-8494-3a5df64e03be')\"\n",
              "              title=\"Convert this dataframe to an interactive table.\"\n",
              "              style=\"display:none;\">\n",
              "        \n",
              "  <svg xmlns=\"http://www.w3.org/2000/svg\" height=\"24px\"viewBox=\"0 0 24 24\"\n",
              "       width=\"24px\">\n",
              "    <path d=\"M0 0h24v24H0V0z\" fill=\"none\"/>\n",
              "    <path d=\"M18.56 5.44l.94 2.06.94-2.06 2.06-.94-2.06-.94-.94-2.06-.94 2.06-2.06.94zm-11 1L8.5 8.5l.94-2.06 2.06-.94-2.06-.94L8.5 2.5l-.94 2.06-2.06.94zm10 10l.94 2.06.94-2.06 2.06-.94-2.06-.94-.94-2.06-.94 2.06-2.06.94z\"/><path d=\"M17.41 7.96l-1.37-1.37c-.4-.4-.92-.59-1.43-.59-.52 0-1.04.2-1.43.59L10.3 9.45l-7.72 7.72c-.78.78-.78 2.05 0 2.83L4 21.41c.39.39.9.59 1.41.59.51 0 1.02-.2 1.41-.59l7.78-7.78 2.81-2.81c.8-.78.8-2.07 0-2.86zM5.41 20L4 18.59l7.72-7.72 1.47 1.35L5.41 20z\"/>\n",
              "  </svg>\n",
              "      </button>\n",
              "      \n",
              "  <style>\n",
              "    .colab-df-container {\n",
              "      display:flex;\n",
              "      flex-wrap:wrap;\n",
              "      gap: 12px;\n",
              "    }\n",
              "\n",
              "    .colab-df-convert {\n",
              "      background-color: #E8F0FE;\n",
              "      border: none;\n",
              "      border-radius: 50%;\n",
              "      cursor: pointer;\n",
              "      display: none;\n",
              "      fill: #1967D2;\n",
              "      height: 32px;\n",
              "      padding: 0 0 0 0;\n",
              "      width: 32px;\n",
              "    }\n",
              "\n",
              "    .colab-df-convert:hover {\n",
              "      background-color: #E2EBFA;\n",
              "      box-shadow: 0px 1px 2px rgba(60, 64, 67, 0.3), 0px 1px 3px 1px rgba(60, 64, 67, 0.15);\n",
              "      fill: #174EA6;\n",
              "    }\n",
              "\n",
              "    [theme=dark] .colab-df-convert {\n",
              "      background-color: #3B4455;\n",
              "      fill: #D2E3FC;\n",
              "    }\n",
              "\n",
              "    [theme=dark] .colab-df-convert:hover {\n",
              "      background-color: #434B5C;\n",
              "      box-shadow: 0px 1px 3px 1px rgba(0, 0, 0, 0.15);\n",
              "      filter: drop-shadow(0px 1px 2px rgba(0, 0, 0, 0.3));\n",
              "      fill: #FFFFFF;\n",
              "    }\n",
              "  </style>\n",
              "\n",
              "      <script>\n",
              "        const buttonEl =\n",
              "          document.querySelector('#df-5d5cb024-99d8-4eaa-8494-3a5df64e03be button.colab-df-convert');\n",
              "        buttonEl.style.display =\n",
              "          google.colab.kernel.accessAllowed ? 'block' : 'none';\n",
              "\n",
              "        async function convertToInteractive(key) {\n",
              "          const element = document.querySelector('#df-5d5cb024-99d8-4eaa-8494-3a5df64e03be');\n",
              "          const dataTable =\n",
              "            await google.colab.kernel.invokeFunction('convertToInteractive',\n",
              "                                                     [key], {});\n",
              "          if (!dataTable) return;\n",
              "\n",
              "          const docLinkHtml = 'Like what you see? Visit the ' +\n",
              "            '<a target=\"_blank\" href=https://colab.research.google.com/notebooks/data_table.ipynb>data table notebook</a>'\n",
              "            + ' to learn more about interactive tables.';\n",
              "          element.innerHTML = '';\n",
              "          dataTable['output_type'] = 'display_data';\n",
              "          await google.colab.output.renderOutput(dataTable, element);\n",
              "          const docLink = document.createElement('div');\n",
              "          docLink.innerHTML = docLinkHtml;\n",
              "          element.appendChild(docLink);\n",
              "        }\n",
              "      </script>\n",
              "    </div>\n",
              "  </div>\n",
              "  "
            ]
          },
          "metadata": {},
          "execution_count": 145
        }
      ]
    },
    {
      "cell_type": "markdown",
      "source": [
        "**Top 15 athletes of USA**"
      ],
      "metadata": {
        "id": "LAD3dyjA55sV"
      }
    },
    {
      "cell_type": "code",
      "source": [
        "#define a function to find top athletes for each country\n",
        "def top_country_athletes(df,country):\n",
        "    tmw_df = df.dropna(subset=['Medal'])\n",
        "    tmw_df = tmw_df[tmw_df['region'] == country]\n",
        "    x = tmw_df['Name'].value_counts().reset_index().head(15)\n",
        "    x = x.merge(df,left_on='index',right_on='Name',how='left')[['index','Name_x','Sport']].drop_duplicates()\n",
        "    x.rename(columns={'index':'Name','Name_x':'Medals'},inplace=True)\n",
        "    return x\n",
        "#using function for USA as first country in the medal winners    \n",
        "y = top_country_athletes(df,'USA')\n",
        "y = y.reset_index().head(15)\n",
        "y.drop(columns=['index'], inplace=True)\n",
        "y"
      ],
      "metadata": {
        "colab": {
          "base_uri": "https://localhost:8080/",
          "height": 520
        },
        "id": "0uJ8JrSud_JT",
        "outputId": "84534fa7-dada-4e14-d966-cde43e8fdfe3"
      },
      "execution_count": 146,
      "outputs": [
        {
          "output_type": "execute_result",
          "data": {
            "text/plain": [
              "                                               Name  Medals      Sport\n",
              "0                           Michael Fred Phelps, II      28   Swimming\n",
              "1   Jennifer Elisabeth \"Jenny\" Thompson (-Cumpelik)      12   Swimming\n",
              "2              Dara Grace Torres (-Hoffman, -Minas)      12   Swimming\n",
              "3                                Ryan Steven Lochte      12   Swimming\n",
              "4                     Natalie Anne Coughlin (-Hall)      12   Swimming\n",
              "5                              Carl Townsend Osburn      11   Shooting\n",
              "6                                 Mark Andrew Spitz      11   Swimming\n",
              "7                    Matthew Nicholas \"Matt\" Biondi      11   Swimming\n",
              "8                              Gary Wayne Hall, Jr.      10   Swimming\n",
              "9                       Raymond Clarence \"Ray\" Ewry      10  Athletics\n",
              "10                   Frederick Carlton \"Carl\" Lewis      10  Athletics\n",
              "11                        Shirley Frances Babashoff       9   Swimming\n",
              "12                           Martin Joseph Sheridan       9  Athletics\n",
              "13                           Allyson Michelle Felix       9  Athletics\n",
              "14                               Jason Edward Lezak       8   Swimming"
            ],
            "text/html": [
              "\n",
              "  <div id=\"df-e378159c-ef2f-4cf1-a14c-e0d068ccbdb9\">\n",
              "    <div class=\"colab-df-container\">\n",
              "      <div>\n",
              "<style scoped>\n",
              "    .dataframe tbody tr th:only-of-type {\n",
              "        vertical-align: middle;\n",
              "    }\n",
              "\n",
              "    .dataframe tbody tr th {\n",
              "        vertical-align: top;\n",
              "    }\n",
              "\n",
              "    .dataframe thead th {\n",
              "        text-align: right;\n",
              "    }\n",
              "</style>\n",
              "<table border=\"1\" class=\"dataframe\">\n",
              "  <thead>\n",
              "    <tr style=\"text-align: right;\">\n",
              "      <th></th>\n",
              "      <th>Name</th>\n",
              "      <th>Medals</th>\n",
              "      <th>Sport</th>\n",
              "    </tr>\n",
              "  </thead>\n",
              "  <tbody>\n",
              "    <tr>\n",
              "      <th>0</th>\n",
              "      <td>Michael Fred Phelps, II</td>\n",
              "      <td>28</td>\n",
              "      <td>Swimming</td>\n",
              "    </tr>\n",
              "    <tr>\n",
              "      <th>1</th>\n",
              "      <td>Jennifer Elisabeth \"Jenny\" Thompson (-Cumpelik)</td>\n",
              "      <td>12</td>\n",
              "      <td>Swimming</td>\n",
              "    </tr>\n",
              "    <tr>\n",
              "      <th>2</th>\n",
              "      <td>Dara Grace Torres (-Hoffman, -Minas)</td>\n",
              "      <td>12</td>\n",
              "      <td>Swimming</td>\n",
              "    </tr>\n",
              "    <tr>\n",
              "      <th>3</th>\n",
              "      <td>Ryan Steven Lochte</td>\n",
              "      <td>12</td>\n",
              "      <td>Swimming</td>\n",
              "    </tr>\n",
              "    <tr>\n",
              "      <th>4</th>\n",
              "      <td>Natalie Anne Coughlin (-Hall)</td>\n",
              "      <td>12</td>\n",
              "      <td>Swimming</td>\n",
              "    </tr>\n",
              "    <tr>\n",
              "      <th>5</th>\n",
              "      <td>Carl Townsend Osburn</td>\n",
              "      <td>11</td>\n",
              "      <td>Shooting</td>\n",
              "    </tr>\n",
              "    <tr>\n",
              "      <th>6</th>\n",
              "      <td>Mark Andrew Spitz</td>\n",
              "      <td>11</td>\n",
              "      <td>Swimming</td>\n",
              "    </tr>\n",
              "    <tr>\n",
              "      <th>7</th>\n",
              "      <td>Matthew Nicholas \"Matt\" Biondi</td>\n",
              "      <td>11</td>\n",
              "      <td>Swimming</td>\n",
              "    </tr>\n",
              "    <tr>\n",
              "      <th>8</th>\n",
              "      <td>Gary Wayne Hall, Jr.</td>\n",
              "      <td>10</td>\n",
              "      <td>Swimming</td>\n",
              "    </tr>\n",
              "    <tr>\n",
              "      <th>9</th>\n",
              "      <td>Raymond Clarence \"Ray\" Ewry</td>\n",
              "      <td>10</td>\n",
              "      <td>Athletics</td>\n",
              "    </tr>\n",
              "    <tr>\n",
              "      <th>10</th>\n",
              "      <td>Frederick Carlton \"Carl\" Lewis</td>\n",
              "      <td>10</td>\n",
              "      <td>Athletics</td>\n",
              "    </tr>\n",
              "    <tr>\n",
              "      <th>11</th>\n",
              "      <td>Shirley Frances Babashoff</td>\n",
              "      <td>9</td>\n",
              "      <td>Swimming</td>\n",
              "    </tr>\n",
              "    <tr>\n",
              "      <th>12</th>\n",
              "      <td>Martin Joseph Sheridan</td>\n",
              "      <td>9</td>\n",
              "      <td>Athletics</td>\n",
              "    </tr>\n",
              "    <tr>\n",
              "      <th>13</th>\n",
              "      <td>Allyson Michelle Felix</td>\n",
              "      <td>9</td>\n",
              "      <td>Athletics</td>\n",
              "    </tr>\n",
              "    <tr>\n",
              "      <th>14</th>\n",
              "      <td>Jason Edward Lezak</td>\n",
              "      <td>8</td>\n",
              "      <td>Swimming</td>\n",
              "    </tr>\n",
              "  </tbody>\n",
              "</table>\n",
              "</div>\n",
              "      <button class=\"colab-df-convert\" onclick=\"convertToInteractive('df-e378159c-ef2f-4cf1-a14c-e0d068ccbdb9')\"\n",
              "              title=\"Convert this dataframe to an interactive table.\"\n",
              "              style=\"display:none;\">\n",
              "        \n",
              "  <svg xmlns=\"http://www.w3.org/2000/svg\" height=\"24px\"viewBox=\"0 0 24 24\"\n",
              "       width=\"24px\">\n",
              "    <path d=\"M0 0h24v24H0V0z\" fill=\"none\"/>\n",
              "    <path d=\"M18.56 5.44l.94 2.06.94-2.06 2.06-.94-2.06-.94-.94-2.06-.94 2.06-2.06.94zm-11 1L8.5 8.5l.94-2.06 2.06-.94-2.06-.94L8.5 2.5l-.94 2.06-2.06.94zm10 10l.94 2.06.94-2.06 2.06-.94-2.06-.94-.94-2.06-.94 2.06-2.06.94z\"/><path d=\"M17.41 7.96l-1.37-1.37c-.4-.4-.92-.59-1.43-.59-.52 0-1.04.2-1.43.59L10.3 9.45l-7.72 7.72c-.78.78-.78 2.05 0 2.83L4 21.41c.39.39.9.59 1.41.59.51 0 1.02-.2 1.41-.59l7.78-7.78 2.81-2.81c.8-.78.8-2.07 0-2.86zM5.41 20L4 18.59l7.72-7.72 1.47 1.35L5.41 20z\"/>\n",
              "  </svg>\n",
              "      </button>\n",
              "      \n",
              "  <style>\n",
              "    .colab-df-container {\n",
              "      display:flex;\n",
              "      flex-wrap:wrap;\n",
              "      gap: 12px;\n",
              "    }\n",
              "\n",
              "    .colab-df-convert {\n",
              "      background-color: #E8F0FE;\n",
              "      border: none;\n",
              "      border-radius: 50%;\n",
              "      cursor: pointer;\n",
              "      display: none;\n",
              "      fill: #1967D2;\n",
              "      height: 32px;\n",
              "      padding: 0 0 0 0;\n",
              "      width: 32px;\n",
              "    }\n",
              "\n",
              "    .colab-df-convert:hover {\n",
              "      background-color: #E2EBFA;\n",
              "      box-shadow: 0px 1px 2px rgba(60, 64, 67, 0.3), 0px 1px 3px 1px rgba(60, 64, 67, 0.15);\n",
              "      fill: #174EA6;\n",
              "    }\n",
              "\n",
              "    [theme=dark] .colab-df-convert {\n",
              "      background-color: #3B4455;\n",
              "      fill: #D2E3FC;\n",
              "    }\n",
              "\n",
              "    [theme=dark] .colab-df-convert:hover {\n",
              "      background-color: #434B5C;\n",
              "      box-shadow: 0px 1px 3px 1px rgba(0, 0, 0, 0.15);\n",
              "      filter: drop-shadow(0px 1px 2px rgba(0, 0, 0, 0.3));\n",
              "      fill: #FFFFFF;\n",
              "    }\n",
              "  </style>\n",
              "\n",
              "      <script>\n",
              "        const buttonEl =\n",
              "          document.querySelector('#df-e378159c-ef2f-4cf1-a14c-e0d068ccbdb9 button.colab-df-convert');\n",
              "        buttonEl.style.display =\n",
              "          google.colab.kernel.accessAllowed ? 'block' : 'none';\n",
              "\n",
              "        async function convertToInteractive(key) {\n",
              "          const element = document.querySelector('#df-e378159c-ef2f-4cf1-a14c-e0d068ccbdb9');\n",
              "          const dataTable =\n",
              "            await google.colab.kernel.invokeFunction('convertToInteractive',\n",
              "                                                     [key], {});\n",
              "          if (!dataTable) return;\n",
              "\n",
              "          const docLinkHtml = 'Like what you see? Visit the ' +\n",
              "            '<a target=\"_blank\" href=https://colab.research.google.com/notebooks/data_table.ipynb>data table notebook</a>'\n",
              "            + ' to learn more about interactive tables.';\n",
              "          element.innerHTML = '';\n",
              "          dataTable['output_type'] = 'display_data';\n",
              "          await google.colab.output.renderOutput(dataTable, element);\n",
              "          const docLink = document.createElement('div');\n",
              "          docLink.innerHTML = docLinkHtml;\n",
              "          element.appendChild(docLink);\n",
              "        }\n",
              "      </script>\n",
              "    </div>\n",
              "  </div>\n",
              "  "
            ]
          },
          "metadata": {},
          "execution_count": 146
        }
      ]
    },
    {
      "cell_type": "markdown",
      "source": [
        "**Top-10 medal winners in the olympics**"
      ],
      "metadata": {
        "id": "29sRlCeVfcAZ"
      }
    },
    {
      "cell_type": "code",
      "source": [
        "#checking for top 10 medal winner in olympics\n",
        "t_10 = df['Name'].value_counts().reset_index()\n",
        "t_10  = t_10 .merge(df, left_on='index', right_on='Name')[['index', 'Name_x', 'Sport', 'region']].drop_duplicates()\n",
        "t_10 .rename(columns={'index': 'Name', 'Name_x': 'Medals'}, inplace=True)\n",
        "t_10  = t_10 .reset_index().head(10)\n",
        "t_10 .drop(columns=['index'], inplace=True)\n",
        "t_10 "
      ],
      "metadata": {
        "colab": {
          "base_uri": "https://localhost:8080/",
          "height": 363
        },
        "id": "YSTYKn4u5nrF",
        "outputId": "ed8cfa8a-ae67-4548-c01c-c8f2281e766a"
      },
      "execution_count": 147,
      "outputs": [
        {
          "output_type": "execute_result",
          "data": {
            "text/plain": [
              "                                              Name  Medals       Sport  \\\n",
              "0                          Michael Fred Phelps, II      28    Swimming   \n",
              "1               Larysa Semenivna Latynina (Diriy-)      18  Gymnastics   \n",
              "2                     Nikolay Yefimovich Andrianov      15  Gymnastics   \n",
              "3                              Edoardo Mangiarotti      13     Fencing   \n",
              "4                                      Takashi Ono      13  Gymnastics   \n",
              "5                              Ole Einar Bjrndalen      13    Biathlon   \n",
              "6                      Borys Anfiyanovych Shakhlin      13  Gymnastics   \n",
              "7  Jennifer Elisabeth \"Jenny\" Thompson (-Cumpelik)      12    Swimming   \n",
              "8                           Birgit Fischer-Schmidt      12    Canoeing   \n",
              "9                             Paavo Johannes Nurmi      12   Athletics   \n",
              "\n",
              "    region  \n",
              "0      USA  \n",
              "1   Russia  \n",
              "2   Russia  \n",
              "3    Italy  \n",
              "4    Japan  \n",
              "5   Norway  \n",
              "6   Russia  \n",
              "7      USA  \n",
              "8  Germany  \n",
              "9  Finland  "
            ],
            "text/html": [
              "\n",
              "  <div id=\"df-1e6f24ee-ac1d-4807-809c-dfe52310b6fe\">\n",
              "    <div class=\"colab-df-container\">\n",
              "      <div>\n",
              "<style scoped>\n",
              "    .dataframe tbody tr th:only-of-type {\n",
              "        vertical-align: middle;\n",
              "    }\n",
              "\n",
              "    .dataframe tbody tr th {\n",
              "        vertical-align: top;\n",
              "    }\n",
              "\n",
              "    .dataframe thead th {\n",
              "        text-align: right;\n",
              "    }\n",
              "</style>\n",
              "<table border=\"1\" class=\"dataframe\">\n",
              "  <thead>\n",
              "    <tr style=\"text-align: right;\">\n",
              "      <th></th>\n",
              "      <th>Name</th>\n",
              "      <th>Medals</th>\n",
              "      <th>Sport</th>\n",
              "      <th>region</th>\n",
              "    </tr>\n",
              "  </thead>\n",
              "  <tbody>\n",
              "    <tr>\n",
              "      <th>0</th>\n",
              "      <td>Michael Fred Phelps, II</td>\n",
              "      <td>28</td>\n",
              "      <td>Swimming</td>\n",
              "      <td>USA</td>\n",
              "    </tr>\n",
              "    <tr>\n",
              "      <th>1</th>\n",
              "      <td>Larysa Semenivna Latynina (Diriy-)</td>\n",
              "      <td>18</td>\n",
              "      <td>Gymnastics</td>\n",
              "      <td>Russia</td>\n",
              "    </tr>\n",
              "    <tr>\n",
              "      <th>2</th>\n",
              "      <td>Nikolay Yefimovich Andrianov</td>\n",
              "      <td>15</td>\n",
              "      <td>Gymnastics</td>\n",
              "      <td>Russia</td>\n",
              "    </tr>\n",
              "    <tr>\n",
              "      <th>3</th>\n",
              "      <td>Edoardo Mangiarotti</td>\n",
              "      <td>13</td>\n",
              "      <td>Fencing</td>\n",
              "      <td>Italy</td>\n",
              "    </tr>\n",
              "    <tr>\n",
              "      <th>4</th>\n",
              "      <td>Takashi Ono</td>\n",
              "      <td>13</td>\n",
              "      <td>Gymnastics</td>\n",
              "      <td>Japan</td>\n",
              "    </tr>\n",
              "    <tr>\n",
              "      <th>5</th>\n",
              "      <td>Ole Einar Bjrndalen</td>\n",
              "      <td>13</td>\n",
              "      <td>Biathlon</td>\n",
              "      <td>Norway</td>\n",
              "    </tr>\n",
              "    <tr>\n",
              "      <th>6</th>\n",
              "      <td>Borys Anfiyanovych Shakhlin</td>\n",
              "      <td>13</td>\n",
              "      <td>Gymnastics</td>\n",
              "      <td>Russia</td>\n",
              "    </tr>\n",
              "    <tr>\n",
              "      <th>7</th>\n",
              "      <td>Jennifer Elisabeth \"Jenny\" Thompson (-Cumpelik)</td>\n",
              "      <td>12</td>\n",
              "      <td>Swimming</td>\n",
              "      <td>USA</td>\n",
              "    </tr>\n",
              "    <tr>\n",
              "      <th>8</th>\n",
              "      <td>Birgit Fischer-Schmidt</td>\n",
              "      <td>12</td>\n",
              "      <td>Canoeing</td>\n",
              "      <td>Germany</td>\n",
              "    </tr>\n",
              "    <tr>\n",
              "      <th>9</th>\n",
              "      <td>Paavo Johannes Nurmi</td>\n",
              "      <td>12</td>\n",
              "      <td>Athletics</td>\n",
              "      <td>Finland</td>\n",
              "    </tr>\n",
              "  </tbody>\n",
              "</table>\n",
              "</div>\n",
              "      <button class=\"colab-df-convert\" onclick=\"convertToInteractive('df-1e6f24ee-ac1d-4807-809c-dfe52310b6fe')\"\n",
              "              title=\"Convert this dataframe to an interactive table.\"\n",
              "              style=\"display:none;\">\n",
              "        \n",
              "  <svg xmlns=\"http://www.w3.org/2000/svg\" height=\"24px\"viewBox=\"0 0 24 24\"\n",
              "       width=\"24px\">\n",
              "    <path d=\"M0 0h24v24H0V0z\" fill=\"none\"/>\n",
              "    <path d=\"M18.56 5.44l.94 2.06.94-2.06 2.06-.94-2.06-.94-.94-2.06-.94 2.06-2.06.94zm-11 1L8.5 8.5l.94-2.06 2.06-.94-2.06-.94L8.5 2.5l-.94 2.06-2.06.94zm10 10l.94 2.06.94-2.06 2.06-.94-2.06-.94-.94-2.06-.94 2.06-2.06.94z\"/><path d=\"M17.41 7.96l-1.37-1.37c-.4-.4-.92-.59-1.43-.59-.52 0-1.04.2-1.43.59L10.3 9.45l-7.72 7.72c-.78.78-.78 2.05 0 2.83L4 21.41c.39.39.9.59 1.41.59.51 0 1.02-.2 1.41-.59l7.78-7.78 2.81-2.81c.8-.78.8-2.07 0-2.86zM5.41 20L4 18.59l7.72-7.72 1.47 1.35L5.41 20z\"/>\n",
              "  </svg>\n",
              "      </button>\n",
              "      \n",
              "  <style>\n",
              "    .colab-df-container {\n",
              "      display:flex;\n",
              "      flex-wrap:wrap;\n",
              "      gap: 12px;\n",
              "    }\n",
              "\n",
              "    .colab-df-convert {\n",
              "      background-color: #E8F0FE;\n",
              "      border: none;\n",
              "      border-radius: 50%;\n",
              "      cursor: pointer;\n",
              "      display: none;\n",
              "      fill: #1967D2;\n",
              "      height: 32px;\n",
              "      padding: 0 0 0 0;\n",
              "      width: 32px;\n",
              "    }\n",
              "\n",
              "    .colab-df-convert:hover {\n",
              "      background-color: #E2EBFA;\n",
              "      box-shadow: 0px 1px 2px rgba(60, 64, 67, 0.3), 0px 1px 3px 1px rgba(60, 64, 67, 0.15);\n",
              "      fill: #174EA6;\n",
              "    }\n",
              "\n",
              "    [theme=dark] .colab-df-convert {\n",
              "      background-color: #3B4455;\n",
              "      fill: #D2E3FC;\n",
              "    }\n",
              "\n",
              "    [theme=dark] .colab-df-convert:hover {\n",
              "      background-color: #434B5C;\n",
              "      box-shadow: 0px 1px 3px 1px rgba(0, 0, 0, 0.15);\n",
              "      filter: drop-shadow(0px 1px 2px rgba(0, 0, 0, 0.3));\n",
              "      fill: #FFFFFF;\n",
              "    }\n",
              "  </style>\n",
              "\n",
              "      <script>\n",
              "        const buttonEl =\n",
              "          document.querySelector('#df-1e6f24ee-ac1d-4807-809c-dfe52310b6fe button.colab-df-convert');\n",
              "        buttonEl.style.display =\n",
              "          google.colab.kernel.accessAllowed ? 'block' : 'none';\n",
              "\n",
              "        async function convertToInteractive(key) {\n",
              "          const element = document.querySelector('#df-1e6f24ee-ac1d-4807-809c-dfe52310b6fe');\n",
              "          const dataTable =\n",
              "            await google.colab.kernel.invokeFunction('convertToInteractive',\n",
              "                                                     [key], {});\n",
              "          if (!dataTable) return;\n",
              "\n",
              "          const docLinkHtml = 'Like what you see? Visit the ' +\n",
              "            '<a target=\"_blank\" href=https://colab.research.google.com/notebooks/data_table.ipynb>data table notebook</a>'\n",
              "            + ' to learn more about interactive tables.';\n",
              "          element.innerHTML = '';\n",
              "          dataTable['output_type'] = 'display_data';\n",
              "          await google.colab.output.renderOutput(dataTable, element);\n",
              "          const docLink = document.createElement('div');\n",
              "          docLink.innerHTML = docLinkHtml;\n",
              "          element.appendChild(docLink);\n",
              "        }\n",
              "      </script>\n",
              "    </div>\n",
              "  </div>\n",
              "  "
            ]
          },
          "metadata": {},
          "execution_count": 147
        }
      ]
    },
    {
      "cell_type": "markdown",
      "source": [
        "#Data Visualization"
      ],
      "metadata": {
        "id": "7ehr8hfC96am"
      }
    },
    {
      "cell_type": "markdown",
      "source": [
        "**PERFORMANCE AND PARTICIPATION OF MEN AND WOMEN IN  OLYMPICS**"
      ],
      "metadata": {
        "id": "M6RDm91z8jTH"
      }
    },
    {
      "cell_type": "code",
      "source": [
        "#we see the percentage of men and women who won the medal in Olympic\n",
        "df_pie=df['Sex'].value_counts()\n",
        "df_pie.plot.pie(explode=[0,0.1],autopct='%.2f', shadow =True , colors=('lightblue','pink'));"
      ],
      "metadata": {
        "colab": {
          "base_uri": "https://localhost:8080/",
          "height": 248
        },
        "id": "aaOKHcgT1yTm",
        "outputId": "86f006de-4c9e-4523-9359-f8c09cac6a56"
      },
      "execution_count": 148,
      "outputs": [
        {
          "output_type": "display_data",
          "data": {
            "text/plain": [
              "<Figure size 432x288 with 1 Axes>"
            ],
            "image/png": "[encoded data removed]"
          },
          "metadata": {}
        }
      ]
    },
    {
      "cell_type": "code",
      "source": [
        "#men and women performance over the time for SUMMER olympic season\n",
        "fig = px.line(total_athlete,x='Year',y=['Male','Female'])\n",
        "fig.update_layout(title='<b>Performance of men and women in summer olympics over the years<b> ',plot_bgcolor = 'whitesmoke')\n",
        "fig.show()"
      ],
      "metadata": {
        "colab": {
          "base_uri": "https://localhost:8080/",
          "height": 542
        },
        "id": "BHhAHTOEXTUe",
        "outputId": "ec0d54b5-20d7-4b8f-c020-86a2c2b38dfd"
      },
      "execution_count": 149,
      "outputs": [
        {
          "output_type": "display_data",
          "data": {
            "text/html": [
              "<html>\n",
              "<head><meta charset=\"utf-8\" /></head>\n",
              "<body>\n",
              "    <div>            <script src=\"https://cdnjs.cloudflare.com/ajax/libs/mathjax/2.7.5/MathJax.js?config=TeX-AMS-MML_SVG\"></script><script type=\"text/javascript\">if (window.MathJax) {MathJax.Hub.Config({SVG: {font: \"STIX-Web\"}});}</script>                <script type=\"text/javascript\">window.PlotlyConfig = {MathJaxConfig: 'local'};</script>\n",
              "        <script src=\"https://cdn.plot.ly/plotly-2.8.3.min.js\"></script>                <div id=\"ab04e56d-5427-4235-b9a8-5314c473b1c0\" class=\"plotly-graph-div\" style=\"height:525px; width:100%;\"></div>            <script type=\"text/javascript\">                                    window.PLOTLYENV=window.PLOTLYENV || {};                                    if (document.getElementById(\"ab04e56d-5427-4235-b9a8-5314c473b1c0\")) {                    Plotly.newPlot(                        \"ab04e56d-5427-4235-b9a8-5314c473b1c0\",                        [{\"hovertemplate\":\"variable=Male<br>Year=%{x}<br>value=%{y}<extra></extra>\",\"legendgroup\":\"Male\",\"line\":{\"color\":\"#636efa\",\"dash\":\"solid\"},\"marker\":{\"symbol\":\"circle\"},\"mode\":\"lines\",\"name\":\"Male\",\"orientation\":\"v\",\"showlegend\":true,\"x\":[1896,1900,1904,1906,1908,1912,1920,1924,1928,1932,1936,1948,1952,1956,1960,1964,1968,1972,1976,1980,1984,1988,1992,1996,2000,2004,2008,2012,2016],\"xaxis\":\"x\",\"y\":[143.0,580.0,476.0,452.0,815.0,911.0,1264.0,786.0,637.0,585.0,829.0,751.0,757.0,749.0,755.0,829.0,842.0,965.0,931.0,950.0,982.0,1028.0,1120.0,1078.0,1124.0,1103.0,1116.0,1023.0,1054.0],\"yaxis\":\"y\",\"type\":\"scatter\"},{\"hovertemplate\":\"variable=Female<br>Year=%{x}<br>value=%{y}<extra></extra>\",\"legendgroup\":\"Female\",\"line\":{\"color\":\"#EF553B\",\"dash\":\"solid\"},\"marker\":{\"symbol\":\"circle\"},\"mode\":\"lines\",\"name\":\"Female\",\"orientation\":\"v\",\"showlegend\":true,\"x\":[1896,1900,1904,1906,1908,1912,1920,1924,1928,1932,1936,1948,1952,1956,1960,1964,1968,1972,1976,1980,1984,1988,1992,1996,2000,2004,2008,2012,2016],\"xaxis\":\"x\",\"y\":[0.0,13.0,10.0,6.0,16.0,30.0,44.0,46.0,97.0,62.0,88.0,101.0,140.0,144.0,156.0,200.0,215.0,250.0,389.0,434.0,494.0,554.0,592.0,764.0,880.0,898.0,932.0,918.0,969.0],\"yaxis\":\"y\",\"type\":\"scatter\"}],                        {\"template\":{\"data\":{\"bar\":[{\"error_x\":{\"color\":\"#2a3f5f\"},\"error_y\":{\"color\":\"#2a3f5f\"},\"marker\":{\"line\":{\"color\":\"#E5ECF6\",\"width\":0.5},\"pattern\":{\"fillmode\":\"overlay\",\"size\":10,\"solidity\":0.2}},\"type\":\"bar\"}],\"barpolar\":[{\"marker\":{\"line\":{\"color\":\"#E5ECF6\",\"width\":0.5},\"pattern\":{\"fillmode\":\"overlay\",\"size\":10,\"solidity\":0.2}},\"type\":\"barpolar\"}],\"carpet\":[{\"aaxis\":{\"endlinecolor\":\"#2a3f5f\",\"gridcolor\":\"white\",\"linecolor\":\"white\",\"minorgridcolor\":\"white\",\"startlinecolor\":\"#2a3f5f\"},\"baxis\":{\"endlinecolor\":\"#2a3f5f\",\"gridcolor\":\"white\",\"linecolor\":\"white\",\"minorgridcolor\":\"white\",\"startlinecolor\":\"#2a3f5f\"},\"type\":\"carpet\"}],\"choropleth\":[{\"colorbar\":{\"outlinewidth\":0,\"ticks\":\"\"},\"type\":\"choropleth\"}],\"contour\":[{\"colorbar\":{\"outlinewidth\":0,\"ticks\":\"\"},\"colorscale\":[[0.0,\"#0d0887\"],[0.1111111111111111,\"#46039f\"],[0.2222222222222222,\"#7201a8\"],[0.3333333333333333,\"#9c179e\"],[0.4444444444444444,\"#bd3786\"],[0.5555555555555556,\"#d8576b\"],[0.6666666666666666,\"#ed7953\"],[0.7777777777777778,\"#fb9f3a\"],[0.8888888888888888,\"#fdca26\"],[1.0,\"#f0f921\"]],\"type\":\"contour\"}],\"contourcarpet\":[{\"colorbar\":{\"outlinewidth\":0,\"ticks\":\"\"},\"type\":\"contourcarpet\"}],\"heatmap\":[{\"colorbar\":{\"outlinewidth\":0,\"ticks\":\"\"},\"colorscale\":[[0.0,\"#0d0887\"],[0.1111111111111111,\"#46039f\"],[0.2222222222222222,\"#7201a8\"],[0.3333333333333333,\"#9c179e\"],[0.4444444444444444,\"#bd3786\"],[0.5555555555555556,\"#d8576b\"],[0.6666666666666666,\"#ed7953\"],[0.7777777777777778,\"#fb9f3a\"],[0.8888888888888888,\"#fdca26\"],[1.0,\"#f0f921\"]],\"type\":\"heatmap\"}],\"heatmapgl\":[{\"colorbar\":{\"outlinewidth\":0,\"ticks\":\"\"},\"colorscale\":[[0.0,\"#0d0887\"],[0.1111111111111111,\"#46039f\"],[0.2222222222222222,\"#7201a8\"],[0.3333333333333333,\"#9c179e\"],[0.4444444444444444,\"#bd3786\"],[0.5555555555555556,\"#d8576b\"],[0.6666666666666666,\"#ed7953\"],[0.7777777777777778,\"#fb9f3a\"],[0.8888888888888888,\"#fdca26\"],[1.0,\"#f0f921\"]],\"type\":\"heatmapgl\"}],\"histogram\":[{\"marker\":{\"pattern\":{\"fillmode\":\"overlay\",\"size\":10,\"solidity\":0.2}},\"type\":\"histogram\"}],\"histogram2d\":[{\"colorbar\":{\"outlinewidth\":0,\"ticks\":\"\"},\"colorscale\":[[0.0,\"#0d0887\"],[0.1111111111111111,\"#46039f\"],[0.2222222222222222,\"#7201a8\"],[0.3333333333333333,\"#9c179e\"],[0.4444444444444444,\"#bd3786\"],[0.5555555555555556,\"#d8576b\"],[0.6666666666666666,\"#ed7953\"],[0.7777777777777778,\"#fb9f3a\"],[0.8888888888888888,\"#fdca26\"],[1.0,\"#f0f921\"]],\"type\":\"histogram2d\"}],\"histogram2dcontour\":[{\"colorbar\":{\"outlinewidth\":0,\"ticks\":\"\"},\"colorscale\":[[0.0,\"#0d0887\"],[0.1111111111111111,\"#46039f\"],[0.2222222222222222,\"#7201a8\"],[0.3333333333333333,\"#9c179e\"],[0.4444444444444444,\"#bd3786\"],[0.5555555555555556,\"#d8576b\"],[0.6666666666666666,\"#ed7953\"],[0.7777777777777778,\"#fb9f3a\"],[0.8888888888888888,\"#fdca26\"],[1.0,\"#f0f921\"]],\"type\":\"histogram2dcontour\"}],\"mesh3d\":[{\"colorbar\":{\"outlinewidth\":0,\"ticks\":\"\"},\"type\":\"mesh3d\"}],\"parcoords\":[{\"line\":{\"colorbar\":{\"outlinewidth\":0,\"ticks\":\"\"}},\"type\":\"parcoords\"}],\"pie\":[{\"automargin\":true,\"type\":\"pie\"}],\"scatter\":[{\"marker\":{\"colorbar\":{\"outlinewidth\":0,\"ticks\":\"\"}},\"type\":\"scatter\"}],\"scatter3d\":[{\"line\":{\"colorbar\":{\"outlinewidth\":0,\"ticks\":\"\"}},\"marker\":{\"colorbar\":{\"outlinewidth\":0,\"ticks\":\"\"}},\"type\":\"scatter3d\"}],\"scattercarpet\":[{\"marker\":{\"colorbar\":{\"outlinewidth\":0,\"ticks\":\"\"}},\"type\":\"scattercarpet\"}],\"scattergeo\":[{\"marker\":{\"colorbar\":{\"outlinewidth\":0,\"ticks\":\"\"}},\"type\":\"scattergeo\"}],\"scattergl\":[{\"marker\":{\"colorbar\":{\"outlinewidth\":0,\"ticks\":\"\"}},\"type\":\"scattergl\"}],\"scattermapbox\":[{\"marker\":{\"colorbar\":{\"outlinewidth\":0,\"ticks\":\"\"}},\"type\":\"scattermapbox\"}],\"scatterpolar\":[{\"marker\":{\"colorbar\":{\"outlinewidth\":0,\"ticks\":\"\"}},\"type\":\"scatterpolar\"}],\"scatterpolargl\":[{\"marker\":{\"colorbar\":{\"outlinewidth\":0,\"ticks\":\"\"}},\"type\":\"scatterpolargl\"}],\"scatterternary\":[{\"marker\":{\"colorbar\":{\"outlinewidth\":0,\"ticks\":\"\"}},\"type\":\"scatterternary\"}],\"surface\":[{\"colorbar\":{\"outlinewidth\":0,\"ticks\":\"\"},\"colorscale\":[[0.0,\"#0d0887\"],[0.1111111111111111,\"#46039f\"],[0.2222222222222222,\"#7201a8\"],[0.3333333333333333,\"#9c179e\"],[0.4444444444444444,\"#bd3786\"],[0.5555555555555556,\"#d8576b\"],[0.6666666666666666,\"#ed7953\"],[0.7777777777777778,\"#fb9f3a\"],[0.8888888888888888,\"#fdca26\"],[1.0,\"#f0f921\"]],\"type\":\"surface\"}],\"table\":[{\"cells\":{\"fill\":{\"color\":\"#EBF0F8\"},\"line\":{\"color\":\"white\"}},\"header\":{\"fill\":{\"color\":\"#C8D4E3\"},\"line\":{\"color\":\"white\"}},\"type\":\"table\"}]},\"layout\":{\"annotationdefaults\":{\"arrowcolor\":\"#2a3f5f\",\"arrowhead\":0,\"arrowwidth\":1},\"autotypenumbers\":\"strict\",\"coloraxis\":{\"colorbar\":{\"outlinewidth\":0,\"ticks\":\"\"}},\"colorscale\":{\"diverging\":[[0,\"#8e0152\"],[0.1,\"#c51b7d\"],[0.2,\"#de77ae\"],[0.3,\"#f1b6da\"],[0.4,\"#fde0ef\"],[0.5,\"#f7f7f7\"],[0.6,\"#e6f5d0\"],[0.7,\"#b8e186\"],[0.8,\"#7fbc41\"],[0.9,\"#4d9221\"],[1,\"#276419\"]],\"sequential\":[[0.0,\"#0d0887\"],[0.1111111111111111,\"#46039f\"],[0.2222222222222222,\"#7201a8\"],[0.3333333333333333,\"#9c179e\"],[0.4444444444444444,\"#bd3786\"],[0.5555555555555556,\"#d8576b\"],[0.6666666666666666,\"#ed7953\"],[0.7777777777777778,\"#fb9f3a\"],[0.8888888888888888,\"#fdca26\"],[1.0,\"#f0f921\"]],\"sequentialminus\":[[0.0,\"#0d0887\"],[0.1111111111111111,\"#46039f\"],[0.2222222222222222,\"#7201a8\"],[0.3333333333333333,\"#9c179e\"],[0.4444444444444444,\"#bd3786\"],[0.5555555555555556,\"#d8576b\"],[0.6666666666666666,\"#ed7953\"],[0.7777777777777778,\"#fb9f3a\"],[0.8888888888888888,\"#fdca26\"],[1.0,\"#f0f921\"]]},\"colorway\":[\"#636efa\",\"#EF553B\",\"#00cc96\",\"#ab63fa\",\"#FFA15A\",\"#19d3f3\",\"#FF6692\",\"#B6E880\",\"#FF97FF\",\"#FECB52\"],\"font\":{\"color\":\"#2a3f5f\"},\"geo\":{\"bgcolor\":\"white\",\"lakecolor\":\"white\",\"landcolor\":\"#E5ECF6\",\"showlakes\":true,\"showland\":true,\"subunitcolor\":\"white\"},\"hoverlabel\":{\"align\":\"left\"},\"hovermode\":\"closest\",\"mapbox\":{\"style\":\"light\"},\"paper_bgcolor\":\"white\",\"plot_bgcolor\":\"#E5ECF6\",\"polar\":{\"angularaxis\":{\"gridcolor\":\"white\",\"linecolor\":\"white\",\"ticks\":\"\"},\"bgcolor\":\"#E5ECF6\",\"radialaxis\":{\"gridcolor\":\"white\",\"linecolor\":\"white\",\"ticks\":\"\"}},\"scene\":{\"xaxis\":{\"backgroundcolor\":\"#E5ECF6\",\"gridcolor\":\"white\",\"gridwidth\":2,\"linecolor\":\"white\",\"showbackground\":true,\"ticks\":\"\",\"zerolinecolor\":\"white\"},\"yaxis\":{\"backgroundcolor\":\"#E5ECF6\",\"gridcolor\":\"white\",\"gridwidth\":2,\"linecolor\":\"white\",\"showbackground\":true,\"ticks\":\"\",\"zerolinecolor\":\"white\"},\"zaxis\":{\"backgroundcolor\":\"#E5ECF6\",\"gridcolor\":\"white\",\"gridwidth\":2,\"linecolor\":\"white\",\"showbackground\":true,\"ticks\":\"\",\"zerolinecolor\":\"white\"}},\"shapedefaults\":{\"line\":{\"color\":\"#2a3f5f\"}},\"ternary\":{\"aaxis\":{\"gridcolor\":\"white\",\"linecolor\":\"white\",\"ticks\":\"\"},\"baxis\":{\"gridcolor\":\"white\",\"linecolor\":\"white\",\"ticks\":\"\"},\"bgcolor\":\"#E5ECF6\",\"caxis\":{\"gridcolor\":\"white\",\"linecolor\":\"white\",\"ticks\":\"\"}},\"title\":{\"x\":0.05},\"xaxis\":{\"automargin\":true,\"gridcolor\":\"white\",\"linecolor\":\"white\",\"ticks\":\"\",\"title\":{\"standoff\":15},\"zerolinecolor\":\"white\",\"zerolinewidth\":2},\"yaxis\":{\"automargin\":true,\"gridcolor\":\"white\",\"linecolor\":\"white\",\"ticks\":\"\",\"title\":{\"standoff\":15},\"zerolinecolor\":\"white\",\"zerolinewidth\":2}}},\"xaxis\":{\"anchor\":\"y\",\"domain\":[0.0,1.0],\"title\":{\"text\":\"Year\"}},\"yaxis\":{\"anchor\":\"x\",\"domain\":[0.0,1.0],\"title\":{\"text\":\"value\"}},\"legend\":{\"title\":{\"text\":\"variable\"},\"tracegroupgap\":0},\"margin\":{\"t\":60},\"title\":{\"text\":\"<b>Performance of men and women in summer olympics over the years<b> \"},\"plot_bgcolor\":\"whitesmoke\"},                        {\"responsive\": true}                    ).then(function(){\n",
              "                            \n",
              "var gd = document.getElementById('ab04e56d-5427-4235-b9a8-5314c473b1c0');\n",
              "var x = new MutationObserver(function (mutations, observer) {{\n",
              "        var display = window.getComputedStyle(gd).display;\n",
              "        if (!display || display === 'none') {{\n",
              "            console.log([gd, 'removed!']);\n",
              "            Plotly.purge(gd);\n",
              "            observer.disconnect();\n",
              "        }}\n",
              "}});\n",
              "\n",
              "// Listen for the removal of the full notebook cells\n",
              "var notebookContainer = gd.closest('#notebook-container');\n",
              "if (notebookContainer) {{\n",
              "    x.observe(notebookContainer, {childList: true});\n",
              "}}\n",
              "\n",
              "// Listen for the clearing of the current output cell\n",
              "var outputEl = gd.closest('.output');\n",
              "if (outputEl) {{\n",
              "    x.observe(outputEl, {childList: true});\n",
              "}}\n",
              "\n",
              "                        })                };                            </script>        </div>\n",
              "</body>\n",
              "</html>"
            ]
          },
          "metadata": {}
        }
      ]
    },
    {
      "cell_type": "markdown",
      "source": [
        "**PERFORMANCE AND PARTICIPATION OF COUNTRIES IN OLYMPICS**"
      ],
      "metadata": {
        "id": "LKcSWiEIho_X"
      }
    },
    {
      "cell_type": "code",
      "source": [
        "#by bar chart we see the 40 team that have the highest number of medals in Olympic\n",
        "medals_region=country_medals.head(20)\n",
        "fig = px.bar(medals_region, x='region', y='Total', \n",
        "      labels={\"region\": \"Name of the Countries\",\n",
        "              \"Total\": \"Total number for medals in each Country\"\n",
        "              })\n",
        "fig.update_layout(title='<b>Number of medals per Olympic Team \\n(1896-2016)<b>',height=700)\n",
        "fig.show()"
      ],
      "metadata": {
        "colab": {
          "base_uri": "https://localhost:8080/",
          "height": 717
        },
        "id": "RTVN4t1S6VN9",
        "outputId": "1a7876b4-d6ca-46f3-f8ee-e95dc0c3c2ab"
      },
      "execution_count": 150,
      "outputs": [
        {
          "output_type": "display_data",
          "data": {
            "text/html": [
              "<html>\n",
              "<head><meta charset=\"utf-8\" /></head>\n",
              "<body>\n",
              "    <div>            <script src=\"https://cdnjs.cloudflare.com/ajax/libs/mathjax/2.7.5/MathJax.js?config=TeX-AMS-MML_SVG\"></script><script type=\"text/javascript\">if (window.MathJax) {MathJax.Hub.Config({SVG: {font: \"STIX-Web\"}});}</script>                <script type=\"text/javascript\">window.PlotlyConfig = {MathJaxConfig: 'local'};</script>\n",
              "        <script src=\"https://cdn.plot.ly/plotly-2.8.3.min.js\"></script>                <div id=\"1c39ca02-f170-49c4-8edd-f37c14b39363\" class=\"plotly-graph-div\" style=\"height:700px; width:100%;\"></div>            <script type=\"text/javascript\">                                    window.PLOTLYENV=window.PLOTLYENV || {};                                    if (document.getElementById(\"1c39ca02-f170-49c4-8edd-f37c14b39363\")) {                    Plotly.newPlot(                        \"1c39ca02-f170-49c4-8edd-f37c14b39363\",                        [{\"alignmentgroup\":\"True\",\"hovertemplate\":\"Name of the Countries=%{x}<br>Total number for medals in each Country=%{y}<extra></extra>\",\"legendgroup\":\"\",\"marker\":{\"color\":\"#636efa\",\"pattern\":{\"shape\":\"\"}},\"name\":\"\",\"offsetgroup\":\"\",\"orientation\":\"v\",\"showlegend\":false,\"textposition\":\"auto\",\"x\":[\"USA\",\"Russia\",\"Germany\",\"UK\",\"France\",\"Italy\",\"Sweden\",\"China\",\"Australia\",\"Hungary\",\"Japan\",\"Norway\",\"Canada\",\"Finland\",\"Netherlands\",\"Switzerland\",\"Austria\",\"South Korea\",\"Poland\",\"Romania\"],\"xaxis\":\"x\",\"y\":[2824.0,1916.0,1769.0,922.0,886.0,722.0,657.0,598.0,531.0,510.0,482.0,477.0,475.0,471.0,409.0,346.0,326.0,317.0,310.0,304.0],\"yaxis\":\"y\",\"type\":\"bar\"}],                        {\"template\":{\"data\":{\"bar\":[{\"error_x\":{\"color\":\"#2a3f5f\"},\"error_y\":{\"color\":\"#2a3f5f\"},\"marker\":{\"line\":{\"color\":\"#E5ECF6\",\"width\":0.5},\"pattern\":{\"fillmode\":\"overlay\",\"size\":10,\"solidity\":0.2}},\"type\":\"bar\"}],\"barpolar\":[{\"marker\":{\"line\":{\"color\":\"#E5ECF6\",\"width\":0.5},\"pattern\":{\"fillmode\":\"overlay\",\"size\":10,\"solidity\":0.2}},\"type\":\"barpolar\"}],\"carpet\":[{\"aaxis\":{\"endlinecolor\":\"#2a3f5f\",\"gridcolor\":\"white\",\"linecolor\":\"white\",\"minorgridcolor\":\"white\",\"startlinecolor\":\"#2a3f5f\"},\"baxis\":{\"endlinecolor\":\"#2a3f5f\",\"gridcolor\":\"white\",\"linecolor\":\"white\",\"minorgridcolor\":\"white\",\"startlinecolor\":\"#2a3f5f\"},\"type\":\"carpet\"}],\"choropleth\":[{\"colorbar\":{\"outlinewidth\":0,\"ticks\":\"\"},\"type\":\"choropleth\"}],\"contour\":[{\"colorbar\":{\"outlinewidth\":0,\"ticks\":\"\"},\"colorscale\":[[0.0,\"#0d0887\"],[0.1111111111111111,\"#46039f\"],[0.2222222222222222,\"#7201a8\"],[0.3333333333333333,\"#9c179e\"],[0.4444444444444444,\"#bd3786\"],[0.5555555555555556,\"#d8576b\"],[0.6666666666666666,\"#ed7953\"],[0.7777777777777778,\"#fb9f3a\"],[0.8888888888888888,\"#fdca26\"],[1.0,\"#f0f921\"]],\"type\":\"contour\"}],\"contourcarpet\":[{\"colorbar\":{\"outlinewidth\":0,\"ticks\":\"\"},\"type\":\"contourcarpet\"}],\"heatmap\":[{\"colorbar\":{\"outlinewidth\":0,\"ticks\":\"\"},\"colorscale\":[[0.0,\"#0d0887\"],[0.1111111111111111,\"#46039f\"],[0.2222222222222222,\"#7201a8\"],[0.3333333333333333,\"#9c179e\"],[0.4444444444444444,\"#bd3786\"],[0.5555555555555556,\"#d8576b\"],[0.6666666666666666,\"#ed7953\"],[0.7777777777777778,\"#fb9f3a\"],[0.8888888888888888,\"#fdca26\"],[1.0,\"#f0f921\"]],\"type\":\"heatmap\"}],\"heatmapgl\":[{\"colorbar\":{\"outlinewidth\":0,\"ticks\":\"\"},\"colorscale\":[[0.0,\"#0d0887\"],[0.1111111111111111,\"#46039f\"],[0.2222222222222222,\"#7201a8\"],[0.3333333333333333,\"#9c179e\"],[0.4444444444444444,\"#bd3786\"],[0.5555555555555556,\"#d8576b\"],[0.6666666666666666,\"#ed7953\"],[0.7777777777777778,\"#fb9f3a\"],[0.8888888888888888,\"#fdca26\"],[1.0,\"#f0f921\"]],\"type\":\"heatmapgl\"}],\"histogram\":[{\"marker\":{\"pattern\":{\"fillmode\":\"overlay\",\"size\":10,\"solidity\":0.2}},\"type\":\"histogram\"}],\"histogram2d\":[{\"colorbar\":{\"outlinewidth\":0,\"ticks\":\"\"},\"colorscale\":[[0.0,\"#0d0887\"],[0.1111111111111111,\"#46039f\"],[0.2222222222222222,\"#7201a8\"],[0.3333333333333333,\"#9c179e\"],[0.4444444444444444,\"#bd3786\"],[0.5555555555555556,\"#d8576b\"],[0.6666666666666666,\"#ed7953\"],[0.7777777777777778,\"#fb9f3a\"],[0.8888888888888888,\"#fdca26\"],[1.0,\"#f0f921\"]],\"type\":\"histogram2d\"}],\"histogram2dcontour\":[{\"colorbar\":{\"outlinewidth\":0,\"ticks\":\"\"},\"colorscale\":[[0.0,\"#0d0887\"],[0.1111111111111111,\"#46039f\"],[0.2222222222222222,\"#7201a8\"],[0.3333333333333333,\"#9c179e\"],[0.4444444444444444,\"#bd3786\"],[0.5555555555555556,\"#d8576b\"],[0.6666666666666666,\"#ed7953\"],[0.7777777777777778,\"#fb9f3a\"],[0.8888888888888888,\"#fdca26\"],[1.0,\"#f0f921\"]],\"type\":\"histogram2dcontour\"}],\"mesh3d\":[{\"colorbar\":{\"outlinewidth\":0,\"ticks\":\"\"},\"type\":\"mesh3d\"}],\"parcoords\":[{\"line\":{\"colorbar\":{\"outlinewidth\":0,\"ticks\":\"\"}},\"type\":\"parcoords\"}],\"pie\":[{\"automargin\":true,\"type\":\"pie\"}],\"scatter\":[{\"marker\":{\"colorbar\":{\"outlinewidth\":0,\"ticks\":\"\"}},\"type\":\"scatter\"}],\"scatter3d\":[{\"line\":{\"colorbar\":{\"outlinewidth\":0,\"ticks\":\"\"}},\"marker\":{\"colorbar\":{\"outlinewidth\":0,\"ticks\":\"\"}},\"type\":\"scatter3d\"}],\"scattercarpet\":[{\"marker\":{\"colorbar\":{\"outlinewidth\":0,\"ticks\":\"\"}},\"type\":\"scattercarpet\"}],\"scattergeo\":[{\"marker\":{\"colorbar\":{\"outlinewidth\":0,\"ticks\":\"\"}},\"type\":\"scattergeo\"}],\"scattergl\":[{\"marker\":{\"colorbar\":{\"outlinewidth\":0,\"ticks\":\"\"}},\"type\":\"scattergl\"}],\"scattermapbox\":[{\"marker\":{\"colorbar\":{\"outlinewidth\":0,\"ticks\":\"\"}},\"type\":\"scattermapbox\"}],\"scatterpolar\":[{\"marker\":{\"colorbar\":{\"outlinewidth\":0,\"ticks\":\"\"}},\"type\":\"scatterpolar\"}],\"scatterpolargl\":[{\"marker\":{\"colorbar\":{\"outlinewidth\":0,\"ticks\":\"\"}},\"type\":\"scatterpolargl\"}],\"scatterternary\":[{\"marker\":{\"colorbar\":{\"outlinewidth\":0,\"ticks\":\"\"}},\"type\":\"scatterternary\"}],\"surface\":[{\"colorbar\":{\"outlinewidth\":0,\"ticks\":\"\"},\"colorscale\":[[0.0,\"#0d0887\"],[0.1111111111111111,\"#46039f\"],[0.2222222222222222,\"#7201a8\"],[0.3333333333333333,\"#9c179e\"],[0.4444444444444444,\"#bd3786\"],[0.5555555555555556,\"#d8576b\"],[0.6666666666666666,\"#ed7953\"],[0.7777777777777778,\"#fb9f3a\"],[0.8888888888888888,\"#fdca26\"],[1.0,\"#f0f921\"]],\"type\":\"surface\"}],\"table\":[{\"cells\":{\"fill\":{\"color\":\"#EBF0F8\"},\"line\":{\"color\":\"white\"}},\"header\":{\"fill\":{\"color\":\"#C8D4E3\"},\"line\":{\"color\":\"white\"}},\"type\":\"table\"}]},\"layout\":{\"annotationdefaults\":{\"arrowcolor\":\"#2a3f5f\",\"arrowhead\":0,\"arrowwidth\":1},\"autotypenumbers\":\"strict\",\"coloraxis\":{\"colorbar\":{\"outlinewidth\":0,\"ticks\":\"\"}},\"colorscale\":{\"diverging\":[[0,\"#8e0152\"],[0.1,\"#c51b7d\"],[0.2,\"#de77ae\"],[0.3,\"#f1b6da\"],[0.4,\"#fde0ef\"],[0.5,\"#f7f7f7\"],[0.6,\"#e6f5d0\"],[0.7,\"#b8e186\"],[0.8,\"#7fbc41\"],[0.9,\"#4d9221\"],[1,\"#276419\"]],\"sequential\":[[0.0,\"#0d0887\"],[0.1111111111111111,\"#46039f\"],[0.2222222222222222,\"#7201a8\"],[0.3333333333333333,\"#9c179e\"],[0.4444444444444444,\"#bd3786\"],[0.5555555555555556,\"#d8576b\"],[0.6666666666666666,\"#ed7953\"],[0.7777777777777778,\"#fb9f3a\"],[0.8888888888888888,\"#fdca26\"],[1.0,\"#f0f921\"]],\"sequentialminus\":[[0.0,\"#0d0887\"],[0.1111111111111111,\"#46039f\"],[0.2222222222222222,\"#7201a8\"],[0.3333333333333333,\"#9c179e\"],[0.4444444444444444,\"#bd3786\"],[0.5555555555555556,\"#d8576b\"],[0.6666666666666666,\"#ed7953\"],[0.7777777777777778,\"#fb9f3a\"],[0.8888888888888888,\"#fdca26\"],[1.0,\"#f0f921\"]]},\"colorway\":[\"#636efa\",\"#EF553B\",\"#00cc96\",\"#ab63fa\",\"#FFA15A\",\"#19d3f3\",\"#FF6692\",\"#B6E880\",\"#FF97FF\",\"#FECB52\"],\"font\":{\"color\":\"#2a3f5f\"},\"geo\":{\"bgcolor\":\"white\",\"lakecolor\":\"white\",\"landcolor\":\"#E5ECF6\",\"showlakes\":true,\"showland\":true,\"subunitcolor\":\"white\"},\"hoverlabel\":{\"align\":\"left\"},\"hovermode\":\"closest\",\"mapbox\":{\"style\":\"light\"},\"paper_bgcolor\":\"white\",\"plot_bgcolor\":\"#E5ECF6\",\"polar\":{\"angularaxis\":{\"gridcolor\":\"white\",\"linecolor\":\"white\",\"ticks\":\"\"},\"bgcolor\":\"#E5ECF6\",\"radialaxis\":{\"gridcolor\":\"white\",\"linecolor\":\"white\",\"ticks\":\"\"}},\"scene\":{\"xaxis\":{\"backgroundcolor\":\"#E5ECF6\",\"gridcolor\":\"white\",\"gridwidth\":2,\"linecolor\":\"white\",\"showbackground\":true,\"ticks\":\"\",\"zerolinecolor\":\"white\"},\"yaxis\":{\"backgroundcolor\":\"#E5ECF6\",\"gridcolor\":\"white\",\"gridwidth\":2,\"linecolor\":\"white\",\"showbackground\":true,\"ticks\":\"\",\"zerolinecolor\":\"white\"},\"zaxis\":{\"backgroundcolor\":\"#E5ECF6\",\"gridcolor\":\"white\",\"gridwidth\":2,\"linecolor\":\"white\",\"showbackground\":true,\"ticks\":\"\",\"zerolinecolor\":\"white\"}},\"shapedefaults\":{\"line\":{\"color\":\"#2a3f5f\"}},\"ternary\":{\"aaxis\":{\"gridcolor\":\"white\",\"linecolor\":\"white\",\"ticks\":\"\"},\"baxis\":{\"gridcolor\":\"white\",\"linecolor\":\"white\",\"ticks\":\"\"},\"bgcolor\":\"#E5ECF6\",\"caxis\":{\"gridcolor\":\"white\",\"linecolor\":\"white\",\"ticks\":\"\"}},\"title\":{\"x\":0.05},\"xaxis\":{\"automargin\":true,\"gridcolor\":\"white\",\"linecolor\":\"white\",\"ticks\":\"\",\"title\":{\"standoff\":15},\"zerolinecolor\":\"white\",\"zerolinewidth\":2},\"yaxis\":{\"automargin\":true,\"gridcolor\":\"white\",\"linecolor\":\"white\",\"ticks\":\"\",\"title\":{\"standoff\":15},\"zerolinecolor\":\"white\",\"zerolinewidth\":2}}},\"xaxis\":{\"anchor\":\"y\",\"domain\":[0.0,1.0],\"title\":{\"text\":\"Name of the Countries\"}},\"yaxis\":{\"anchor\":\"x\",\"domain\":[0.0,1.0],\"title\":{\"text\":\"Total number for medals in each Country\"}},\"legend\":{\"tracegroupgap\":0},\"margin\":{\"t\":60},\"barmode\":\"relative\",\"title\":{\"text\":\"<b>Number of medals per Olympic Team \\n(1896-2016)<b>\"},\"height\":700},                        {\"responsive\": true}                    ).then(function(){\n",
              "                            \n",
              "var gd = document.getElementById('1c39ca02-f170-49c4-8edd-f37c14b39363');\n",
              "var x = new MutationObserver(function (mutations, observer) {{\n",
              "        var display = window.getComputedStyle(gd).display;\n",
              "        if (!display || display === 'none') {{\n",
              "            console.log([gd, 'removed!']);\n",
              "            Plotly.purge(gd);\n",
              "            observer.disconnect();\n",
              "        }}\n",
              "}});\n",
              "\n",
              "// Listen for the removal of the full notebook cells\n",
              "var notebookContainer = gd.closest('#notebook-container');\n",
              "if (notebookContainer) {{\n",
              "    x.observe(notebookContainer, {childList: true});\n",
              "}}\n",
              "\n",
              "// Listen for the clearing of the current output cell\n",
              "var outputEl = gd.closest('.output');\n",
              "if (outputEl) {{\n",
              "    x.observe(outputEl, {childList: true});\n",
              "}}\n",
              "\n",
              "                        })                };                            </script>        </div>\n",
              "</body>\n",
              "</html>"
            ]
          },
          "metadata": {}
        }
      ]
    },
    {
      "cell_type": "code",
      "source": [
        "#by bar chart we see the 20 team that have the highest number of medals in Olympic for a sport\n",
        "fig = px.bar(country_m_s, x='region', y='Medals', color='Sport', labels={\n",
        "        \"region\": \"Name of the country\",\n",
        "        \"Medals\": \"Total medals won in the sport\",\n",
        "        \"Sport\": \"Sports played by the athletes\"\n",
        "          })\n",
        "fig.update_layout(title='<b>Top-20 countries and their highest number of medals with respect to sports <b>',height=700)"
      ],
      "metadata": {
        "id": "W56clZFNkV3L",
        "outputId": "47b37bf6-80dc-482c-849c-421f8bd97acf",
        "colab": {
          "base_uri": "https://localhost:8080/",
          "height": 717
        }
      },
      "execution_count": 174,
      "outputs": [
        {
          "output_type": "display_data",
          "data": {
            "text/html": [
              "<html>\n",
              "<head><meta charset=\"utf-8\" /></head>\n",
              "<body>\n",
              "    <div>            <script src=\"https://cdnjs.cloudflare.com/ajax/libs/mathjax/2.7.5/MathJax.js?config=TeX-AMS-MML_SVG\"></script><script type=\"text/javascript\">if (window.MathJax) {MathJax.Hub.Config({SVG: {font: \"STIX-Web\"}});}</script>                <script type=\"text/javascript\">window.PlotlyConfig = {MathJaxConfig: 'local'};</script>\n",
              "        <script src=\"https://cdn.plot.ly/plotly-2.8.3.min.js\"></script>                <div id=\"83ba1c4c-2958-430e-9868-8378bb3fdfdd\" class=\"plotly-graph-div\" style=\"height:700px; width:100%;\"></div>            <script type=\"text/javascript\">                                    window.PLOTLYENV=window.PLOTLYENV || {};                                    if (document.getElementById(\"83ba1c4c-2958-430e-9868-8378bb3fdfdd\")) {                    Plotly.newPlot(                        \"83ba1c4c-2958-430e-9868-8378bb3fdfdd\",                        [{\"alignmentgroup\":\"True\",\"hovertemplate\":\"Sports played by the athletes=Athletics<br>Name of the country=%{x}<br>Total medals won in the sport=%{y}<extra></extra>\",\"legendgroup\":\"Athletics\",\"marker\":{\"color\":\"#636efa\",\"pattern\":{\"shape\":\"\"}},\"name\":\"Athletics\",\"offsetgroup\":\"Athletics\",\"orientation\":\"v\",\"showlegend\":true,\"textposition\":\"auto\",\"x\":[\"USA\",\"Russia\",\"Germany\",\"UK\",\"Finland\",\"Kenya\",\"Sweden\",\"Jamaica\"],\"xaxis\":\"x\",\"y\":[816.0,291.0,264.0,212.0,116.0,93.0,92.0,75.0],\"yaxis\":\"y\",\"type\":\"bar\"},{\"alignmentgroup\":\"True\",\"hovertemplate\":\"Sports played by the athletes=Swimming<br>Name of the country=%{x}<br>Total medals won in the sport=%{y}<extra></extra>\",\"legendgroup\":\"Swimming\",\"marker\":{\"color\":\"#EF553B\",\"pattern\":{\"shape\":\"\"}},\"name\":\"Swimming\",\"offsetgroup\":\"Swimming\",\"orientation\":\"v\",\"showlegend\":true,\"textposition\":\"auto\",\"x\":[\"Australia\"],\"xaxis\":\"x\",\"y\":[201.0],\"yaxis\":\"y\",\"type\":\"bar\"},{\"alignmentgroup\":\"True\",\"hovertemplate\":\"Sports played by the athletes=Fencing<br>Name of the country=%{x}<br>Total medals won in the sport=%{y}<extra></extra>\",\"legendgroup\":\"Fencing\",\"marker\":{\"color\":\"#00cc96\",\"pattern\":{\"shape\":\"\"}},\"name\":\"Fencing\",\"offsetgroup\":\"Fencing\",\"orientation\":\"v\",\"showlegend\":true,\"textposition\":\"auto\",\"x\":[\"Italy\",\"France\",\"Hungary\"],\"xaxis\":\"x\",\"y\":[127.0,123.0,88.0],\"yaxis\":\"y\",\"type\":\"bar\"},{\"alignmentgroup\":\"True\",\"hovertemplate\":\"Sports played by the athletes=Alpine Skiing<br>Name of the country=%{x}<br>Total medals won in the sport=%{y}<extra></extra>\",\"legendgroup\":\"Alpine Skiing\",\"marker\":{\"color\":\"#ab63fa\",\"pattern\":{\"shape\":\"\"}},\"name\":\"Alpine Skiing\",\"offsetgroup\":\"Alpine Skiing\",\"orientation\":\"v\",\"showlegend\":true,\"textposition\":\"auto\",\"x\":[\"Austria\"],\"xaxis\":\"x\",\"y\":[114.0],\"yaxis\":\"y\",\"type\":\"bar\"},{\"alignmentgroup\":\"True\",\"hovertemplate\":\"Sports played by the athletes=Speed Skating<br>Name of the country=%{x}<br>Total medals won in the sport=%{y}<extra></extra>\",\"legendgroup\":\"Speed Skating\",\"marker\":{\"color\":\"#FFA15A\",\"pattern\":{\"shape\":\"\"}},\"name\":\"Speed Skating\",\"offsetgroup\":\"Speed Skating\",\"orientation\":\"v\",\"showlegend\":true,\"textposition\":\"auto\",\"x\":[\"Netherlands\"],\"xaxis\":\"x\",\"y\":[105.0],\"yaxis\":\"y\",\"type\":\"bar\"},{\"alignmentgroup\":\"True\",\"hovertemplate\":\"Sports played by the athletes=Cross Country Skiing<br>Name of the country=%{x}<br>Total medals won in the sport=%{y}<extra></extra>\",\"legendgroup\":\"Cross Country Skiing\",\"marker\":{\"color\":\"#19d3f3\",\"pattern\":{\"shape\":\"\"}},\"name\":\"Cross Country Skiing\",\"offsetgroup\":\"Cross Country Skiing\",\"orientation\":\"v\",\"showlegend\":true,\"textposition\":\"auto\",\"x\":[\"Norway\"],\"xaxis\":\"x\",\"y\":[97.0],\"yaxis\":\"y\",\"type\":\"bar\"},{\"alignmentgroup\":\"True\",\"hovertemplate\":\"Sports played by the athletes=Gymnastics<br>Name of the country=%{x}<br>Total medals won in the sport=%{y}<extra></extra>\",\"legendgroup\":\"Gymnastics\",\"marker\":{\"color\":\"#FF6692\",\"pattern\":{\"shape\":\"\"}},\"name\":\"Gymnastics\",\"offsetgroup\":\"Gymnastics\",\"orientation\":\"v\",\"showlegend\":true,\"textposition\":\"auto\",\"x\":[\"Japan\",\"Romania\"],\"xaxis\":\"x\",\"y\":[94.0,69.0],\"yaxis\":\"y\",\"type\":\"bar\"},{\"alignmentgroup\":\"True\",\"hovertemplate\":\"Sports played by the athletes=Boxing<br>Name of the country=%{x}<br>Total medals won in the sport=%{y}<extra></extra>\",\"legendgroup\":\"Boxing\",\"marker\":{\"color\":\"#B6E880\",\"pattern\":{\"shape\":\"\"}},\"name\":\"Boxing\",\"offsetgroup\":\"Boxing\",\"orientation\":\"v\",\"showlegend\":true,\"textposition\":\"auto\",\"x\":[\"Cuba\"],\"xaxis\":\"x\",\"y\":[73.0],\"yaxis\":\"y\",\"type\":\"bar\"},{\"alignmentgroup\":\"True\",\"hovertemplate\":\"Sports played by the athletes=Wrestling<br>Name of the country=%{x}<br>Total medals won in the sport=%{y}<extra></extra>\",\"legendgroup\":\"Wrestling\",\"marker\":{\"color\":\"#FF97FF\",\"pattern\":{\"shape\":\"\"}},\"name\":\"Wrestling\",\"offsetgroup\":\"Wrestling\",\"orientation\":\"v\",\"showlegend\":true,\"textposition\":\"auto\",\"x\":[\"Bulgaria\"],\"xaxis\":\"x\",\"y\":[69.0],\"yaxis\":\"y\",\"type\":\"bar\"},{\"alignmentgroup\":\"True\",\"hovertemplate\":\"Sports played by the athletes=Diving<br>Name of the country=%{x}<br>Total medals won in the sport=%{y}<extra></extra>\",\"legendgroup\":\"Diving\",\"marker\":{\"color\":\"#FECB52\",\"pattern\":{\"shape\":\"\"}},\"name\":\"Diving\",\"offsetgroup\":\"Diving\",\"orientation\":\"v\",\"showlegend\":true,\"textposition\":\"auto\",\"x\":[\"China\"],\"xaxis\":\"x\",\"y\":[69.0],\"yaxis\":\"y\",\"type\":\"bar\"}],                        {\"template\":{\"data\":{\"bar\":[{\"error_x\":{\"color\":\"#2a3f5f\"},\"error_y\":{\"color\":\"#2a3f5f\"},\"marker\":{\"line\":{\"color\":\"#E5ECF6\",\"width\":0.5},\"pattern\":{\"fillmode\":\"overlay\",\"size\":10,\"solidity\":0.2}},\"type\":\"bar\"}],\"barpolar\":[{\"marker\":{\"line\":{\"color\":\"#E5ECF6\",\"width\":0.5},\"pattern\":{\"fillmode\":\"overlay\",\"size\":10,\"solidity\":0.2}},\"type\":\"barpolar\"}],\"carpet\":[{\"aaxis\":{\"endlinecolor\":\"#2a3f5f\",\"gridcolor\":\"white\",\"linecolor\":\"white\",\"minorgridcolor\":\"white\",\"startlinecolor\":\"#2a3f5f\"},\"baxis\":{\"endlinecolor\":\"#2a3f5f\",\"gridcolor\":\"white\",\"linecolor\":\"white\",\"minorgridcolor\":\"white\",\"startlinecolor\":\"#2a3f5f\"},\"type\":\"carpet\"}],\"choropleth\":[{\"colorbar\":{\"outlinewidth\":0,\"ticks\":\"\"},\"type\":\"choropleth\"}],\"contour\":[{\"colorbar\":{\"outlinewidth\":0,\"ticks\":\"\"},\"colorscale\":[[0.0,\"#0d0887\"],[0.1111111111111111,\"#46039f\"],[0.2222222222222222,\"#7201a8\"],[0.3333333333333333,\"#9c179e\"],[0.4444444444444444,\"#bd3786\"],[0.5555555555555556,\"#d8576b\"],[0.6666666666666666,\"#ed7953\"],[0.7777777777777778,\"#fb9f3a\"],[0.8888888888888888,\"#fdca26\"],[1.0,\"#f0f921\"]],\"type\":\"contour\"}],\"contourcarpet\":[{\"colorbar\":{\"outlinewidth\":0,\"ticks\":\"\"},\"type\":\"contourcarpet\"}],\"heatmap\":[{\"colorbar\":{\"outlinewidth\":0,\"ticks\":\"\"},\"colorscale\":[[0.0,\"#0d0887\"],[0.1111111111111111,\"#46039f\"],[0.2222222222222222,\"#7201a8\"],[0.3333333333333333,\"#9c179e\"],[0.4444444444444444,\"#bd3786\"],[0.5555555555555556,\"#d8576b\"],[0.6666666666666666,\"#ed7953\"],[0.7777777777777778,\"#fb9f3a\"],[0.8888888888888888,\"#fdca26\"],[1.0,\"#f0f921\"]],\"type\":\"heatmap\"}],\"heatmapgl\":[{\"colorbar\":{\"outlinewidth\":0,\"ticks\":\"\"},\"colorscale\":[[0.0,\"#0d0887\"],[0.1111111111111111,\"#46039f\"],[0.2222222222222222,\"#7201a8\"],[0.3333333333333333,\"#9c179e\"],[0.4444444444444444,\"#bd3786\"],[0.5555555555555556,\"#d8576b\"],[0.6666666666666666,\"#ed7953\"],[0.7777777777777778,\"#fb9f3a\"],[0.8888888888888888,\"#fdca26\"],[1.0,\"#f0f921\"]],\"type\":\"heatmapgl\"}],\"histogram\":[{\"marker\":{\"pattern\":{\"fillmode\":\"overlay\",\"size\":10,\"solidity\":0.2}},\"type\":\"histogram\"}],\"histogram2d\":[{\"colorbar\":{\"outlinewidth\":0,\"ticks\":\"\"},\"colorscale\":[[0.0,\"#0d0887\"],[0.1111111111111111,\"#46039f\"],[0.2222222222222222,\"#7201a8\"],[0.3333333333333333,\"#9c179e\"],[0.4444444444444444,\"#bd3786\"],[0.5555555555555556,\"#d8576b\"],[0.6666666666666666,\"#ed7953\"],[0.7777777777777778,\"#fb9f3a\"],[0.8888888888888888,\"#fdca26\"],[1.0,\"#f0f921\"]],\"type\":\"histogram2d\"}],\"histogram2dcontour\":[{\"colorbar\":{\"outlinewidth\":0,\"ticks\":\"\"},\"colorscale\":[[0.0,\"#0d0887\"],[0.1111111111111111,\"#46039f\"],[0.2222222222222222,\"#7201a8\"],[0.3333333333333333,\"#9c179e\"],[0.4444444444444444,\"#bd3786\"],[0.5555555555555556,\"#d8576b\"],[0.6666666666666666,\"#ed7953\"],[0.7777777777777778,\"#fb9f3a\"],[0.8888888888888888,\"#fdca26\"],[1.0,\"#f0f921\"]],\"type\":\"histogram2dcontour\"}],\"mesh3d\":[{\"colorbar\":{\"outlinewidth\":0,\"ticks\":\"\"},\"type\":\"mesh3d\"}],\"parcoords\":[{\"line\":{\"colorbar\":{\"outlinewidth\":0,\"ticks\":\"\"}},\"type\":\"parcoords\"}],\"pie\":[{\"automargin\":true,\"type\":\"pie\"}],\"scatter\":[{\"marker\":{\"colorbar\":{\"outlinewidth\":0,\"ticks\":\"\"}},\"type\":\"scatter\"}],\"scatter3d\":[{\"line\":{\"colorbar\":{\"outlinewidth\":0,\"ticks\":\"\"}},\"marker\":{\"colorbar\":{\"outlinewidth\":0,\"ticks\":\"\"}},\"type\":\"scatter3d\"}],\"scattercarpet\":[{\"marker\":{\"colorbar\":{\"outlinewidth\":0,\"ticks\":\"\"}},\"type\":\"scattercarpet\"}],\"scattergeo\":[{\"marker\":{\"colorbar\":{\"outlinewidth\":0,\"ticks\":\"\"}},\"type\":\"scattergeo\"}],\"scattergl\":[{\"marker\":{\"colorbar\":{\"outlinewidth\":0,\"ticks\":\"\"}},\"type\":\"scattergl\"}],\"scattermapbox\":[{\"marker\":{\"colorbar\":{\"outlinewidth\":0,\"ticks\":\"\"}},\"type\":\"scattermapbox\"}],\"scatterpolar\":[{\"marker\":{\"colorbar\":{\"outlinewidth\":0,\"ticks\":\"\"}},\"type\":\"scatterpolar\"}],\"scatterpolargl\":[{\"marker\":{\"colorbar\":{\"outlinewidth\":0,\"ticks\":\"\"}},\"type\":\"scatterpolargl\"}],\"scatterternary\":[{\"marker\":{\"colorbar\":{\"outlinewidth\":0,\"ticks\":\"\"}},\"type\":\"scatterternary\"}],\"surface\":[{\"colorbar\":{\"outlinewidth\":0,\"ticks\":\"\"},\"colorscale\":[[0.0,\"#0d0887\"],[0.1111111111111111,\"#46039f\"],[0.2222222222222222,\"#7201a8\"],[0.3333333333333333,\"#9c179e\"],[0.4444444444444444,\"#bd3786\"],[0.5555555555555556,\"#d8576b\"],[0.6666666666666666,\"#ed7953\"],[0.7777777777777778,\"#fb9f3a\"],[0.8888888888888888,\"#fdca26\"],[1.0,\"#f0f921\"]],\"type\":\"surface\"}],\"table\":[{\"cells\":{\"fill\":{\"color\":\"#EBF0F8\"},\"line\":{\"color\":\"white\"}},\"header\":{\"fill\":{\"color\":\"#C8D4E3\"},\"line\":{\"color\":\"white\"}},\"type\":\"table\"}]},\"layout\":{\"annotationdefaults\":{\"arrowcolor\":\"#2a3f5f\",\"arrowhead\":0,\"arrowwidth\":1},\"autotypenumbers\":\"strict\",\"coloraxis\":{\"colorbar\":{\"outlinewidth\":0,\"ticks\":\"\"}},\"colorscale\":{\"diverging\":[[0,\"#8e0152\"],[0.1,\"#c51b7d\"],[0.2,\"#de77ae\"],[0.3,\"#f1b6da\"],[0.4,\"#fde0ef\"],[0.5,\"#f7f7f7\"],[0.6,\"#e6f5d0\"],[0.7,\"#b8e186\"],[0.8,\"#7fbc41\"],[0.9,\"#4d9221\"],[1,\"#276419\"]],\"sequential\":[[0.0,\"#0d0887\"],[0.1111111111111111,\"#46039f\"],[0.2222222222222222,\"#7201a8\"],[0.3333333333333333,\"#9c179e\"],[0.4444444444444444,\"#bd3786\"],[0.5555555555555556,\"#d8576b\"],[0.6666666666666666,\"#ed7953\"],[0.7777777777777778,\"#fb9f3a\"],[0.8888888888888888,\"#fdca26\"],[1.0,\"#f0f921\"]],\"sequentialminus\":[[0.0,\"#0d0887\"],[0.1111111111111111,\"#46039f\"],[0.2222222222222222,\"#7201a8\"],[0.3333333333333333,\"#9c179e\"],[0.4444444444444444,\"#bd3786\"],[0.5555555555555556,\"#d8576b\"],[0.6666666666666666,\"#ed7953\"],[0.7777777777777778,\"#fb9f3a\"],[0.8888888888888888,\"#fdca26\"],[1.0,\"#f0f921\"]]},\"colorway\":[\"#636efa\",\"#EF553B\",\"#00cc96\",\"#ab63fa\",\"#FFA15A\",\"#19d3f3\",\"#FF6692\",\"#B6E880\",\"#FF97FF\",\"#FECB52\"],\"font\":{\"color\":\"#2a3f5f\"},\"geo\":{\"bgcolor\":\"white\",\"lakecolor\":\"white\",\"landcolor\":\"#E5ECF6\",\"showlakes\":true,\"showland\":true,\"subunitcolor\":\"white\"},\"hoverlabel\":{\"align\":\"left\"},\"hovermode\":\"closest\",\"mapbox\":{\"style\":\"light\"},\"paper_bgcolor\":\"white\",\"plot_bgcolor\":\"#E5ECF6\",\"polar\":{\"angularaxis\":{\"gridcolor\":\"white\",\"linecolor\":\"white\",\"ticks\":\"\"},\"bgcolor\":\"#E5ECF6\",\"radialaxis\":{\"gridcolor\":\"white\",\"linecolor\":\"white\",\"ticks\":\"\"}},\"scene\":{\"xaxis\":{\"backgroundcolor\":\"#E5ECF6\",\"gridcolor\":\"white\",\"gridwidth\":2,\"linecolor\":\"white\",\"showbackground\":true,\"ticks\":\"\",\"zerolinecolor\":\"white\"},\"yaxis\":{\"backgroundcolor\":\"#E5ECF6\",\"gridcolor\":\"white\",\"gridwidth\":2,\"linecolor\":\"white\",\"showbackground\":true,\"ticks\":\"\",\"zerolinecolor\":\"white\"},\"zaxis\":{\"backgroundcolor\":\"#E5ECF6\",\"gridcolor\":\"white\",\"gridwidth\":2,\"linecolor\":\"white\",\"showbackground\":true,\"ticks\":\"\",\"zerolinecolor\":\"white\"}},\"shapedefaults\":{\"line\":{\"color\":\"#2a3f5f\"}},\"ternary\":{\"aaxis\":{\"gridcolor\":\"white\",\"linecolor\":\"white\",\"ticks\":\"\"},\"baxis\":{\"gridcolor\":\"white\",\"linecolor\":\"white\",\"ticks\":\"\"},\"bgcolor\":\"#E5ECF6\",\"caxis\":{\"gridcolor\":\"white\",\"linecolor\":\"white\",\"ticks\":\"\"}},\"title\":{\"x\":0.05},\"xaxis\":{\"automargin\":true,\"gridcolor\":\"white\",\"linecolor\":\"white\",\"ticks\":\"\",\"title\":{\"standoff\":15},\"zerolinecolor\":\"white\",\"zerolinewidth\":2},\"yaxis\":{\"automargin\":true,\"gridcolor\":\"white\",\"linecolor\":\"white\",\"ticks\":\"\",\"title\":{\"standoff\":15},\"zerolinecolor\":\"white\",\"zerolinewidth\":2}}},\"xaxis\":{\"anchor\":\"y\",\"domain\":[0.0,1.0],\"title\":{\"text\":\"Name of the country\"}},\"yaxis\":{\"anchor\":\"x\",\"domain\":[0.0,1.0],\"title\":{\"text\":\"Total medals won in the sport\"}},\"legend\":{\"title\":{\"text\":\"Sports played by the athletes\"},\"tracegroupgap\":0},\"margin\":{\"t\":60},\"barmode\":\"relative\",\"title\":{\"text\":\"<b>Top-20 countries and their highest number of medals with respect to sports <b>\"},\"height\":700},                        {\"responsive\": true}                    ).then(function(){\n",
              "                            \n",
              "var gd = document.getElementById('83ba1c4c-2958-430e-9868-8378bb3fdfdd');\n",
              "var x = new MutationObserver(function (mutations, observer) {{\n",
              "        var display = window.getComputedStyle(gd).display;\n",
              "        if (!display || display === 'none') {{\n",
              "            console.log([gd, 'removed!']);\n",
              "            Plotly.purge(gd);\n",
              "            observer.disconnect();\n",
              "        }}\n",
              "}});\n",
              "\n",
              "// Listen for the removal of the full notebook cells\n",
              "var notebookContainer = gd.closest('#notebook-container');\n",
              "if (notebookContainer) {{\n",
              "    x.observe(notebookContainer, {childList: true});\n",
              "}}\n",
              "\n",
              "// Listen for the clearing of the current output cell\n",
              "var outputEl = gd.closest('.output');\n",
              "if (outputEl) {{\n",
              "    x.observe(outputEl, {childList: true});\n",
              "}}\n",
              "\n",
              "                        })                };                            </script>        </div>\n",
              "</body>\n",
              "</html>"
            ]
          },
          "metadata": {}
        }
      ]
    },
    {
      "cell_type": "code",
      "source": [
        "#participation of nations in Olympic over the year\n",
        "nations1_df=df[df['Season'] == 'Summer']\n",
        "nations1= nations1_df.groupby('Year').count()['region'].reset_index()\n",
        "nations1.rename(columns={\"region\":\"Count\"},inplace=True)\n",
        "\n",
        "fig= px.line(nations1,x='Year',y='Count')\n",
        "fig.update_layout(title=\"<b>Participation of different nations in the Summer Olympics over the Years</b>\",plot_bgcolor = \" whitesmoke\")\n",
        "fig.show()"
      ],
      "metadata": {
        "id": "g3biOVSFKyPS",
        "outputId": "16ac9951-5a89-405c-ec4a-bbc85a6c362e",
        "colab": {
          "base_uri": "https://localhost:8080/",
          "height": 542
        }
      },
      "execution_count": 152,
      "outputs": [
        {
          "output_type": "display_data",
          "data": {
            "text/html": [
              "<html>\n",
              "<head><meta charset=\"utf-8\" /></head>\n",
              "<body>\n",
              "    <div>            <script src=\"https://cdnjs.cloudflare.com/ajax/libs/mathjax/2.7.5/MathJax.js?config=TeX-AMS-MML_SVG\"></script><script type=\"text/javascript\">if (window.MathJax) {MathJax.Hub.Config({SVG: {font: \"STIX-Web\"}});}</script>                <script type=\"text/javascript\">window.PlotlyConfig = {MathJaxConfig: 'local'};</script>\n",
              "        <script src=\"https://cdn.plot.ly/plotly-2.8.3.min.js\"></script>                <div id=\"dffbd7cb-c3cb-4eab-8553-2cc93aa72960\" class=\"plotly-graph-div\" style=\"height:525px; width:100%;\"></div>            <script type=\"text/javascript\">                                    window.PLOTLYENV=window.PLOTLYENV || {};                                    if (document.getElementById(\"dffbd7cb-c3cb-4eab-8553-2cc93aa72960\")) {                    Plotly.newPlot(                        \"dffbd7cb-c3cb-4eab-8553-2cc93aa72960\",                        [{\"hovertemplate\":\"Year=%{x}<br>Count=%{y}<extra></extra>\",\"legendgroup\":\"\",\"line\":{\"color\":\"#636efa\",\"dash\":\"solid\"},\"marker\":{\"symbol\":\"circle\"},\"mode\":\"lines\",\"name\":\"\",\"orientation\":\"v\",\"showlegend\":false,\"x\":[1896,1900,1904,1906,1908,1912,1920,1924,1928,1932,1936,1948,1952,1956,1960,1964,1968,1972,1976,1980,1984,1988,1992,1996,2000,2004,2008,2012,2016],\"xaxis\":\"x\",\"y\":[143,593,486,458,831,941,1308,832,734,647,917,852,897,893,911,1029,1057,1215,1320,1384,1476,1582,1712,1842,2004,2001,2048,1941,2023],\"yaxis\":\"y\",\"type\":\"scatter\"}],                        {\"template\":{\"data\":{\"bar\":[{\"error_x\":{\"color\":\"#2a3f5f\"},\"error_y\":{\"color\":\"#2a3f5f\"},\"marker\":{\"line\":{\"color\":\"#E5ECF6\",\"width\":0.5},\"pattern\":{\"fillmode\":\"overlay\",\"size\":10,\"solidity\":0.2}},\"type\":\"bar\"}],\"barpolar\":[{\"marker\":{\"line\":{\"color\":\"#E5ECF6\",\"width\":0.5},\"pattern\":{\"fillmode\":\"overlay\",\"size\":10,\"solidity\":0.2}},\"type\":\"barpolar\"}],\"carpet\":[{\"aaxis\":{\"endlinecolor\":\"#2a3f5f\",\"gridcolor\":\"white\",\"linecolor\":\"white\",\"minorgridcolor\":\"white\",\"startlinecolor\":\"#2a3f5f\"},\"baxis\":{\"endlinecolor\":\"#2a3f5f\",\"gridcolor\":\"white\",\"linecolor\":\"white\",\"minorgridcolor\":\"white\",\"startlinecolor\":\"#2a3f5f\"},\"type\":\"carpet\"}],\"choropleth\":[{\"colorbar\":{\"outlinewidth\":0,\"ticks\":\"\"},\"type\":\"choropleth\"}],\"contour\":[{\"colorbar\":{\"outlinewidth\":0,\"ticks\":\"\"},\"colorscale\":[[0.0,\"#0d0887\"],[0.1111111111111111,\"#46039f\"],[0.2222222222222222,\"#7201a8\"],[0.3333333333333333,\"#9c179e\"],[0.4444444444444444,\"#bd3786\"],[0.5555555555555556,\"#d8576b\"],[0.6666666666666666,\"#ed7953\"],[0.7777777777777778,\"#fb9f3a\"],[0.8888888888888888,\"#fdca26\"],[1.0,\"#f0f921\"]],\"type\":\"contour\"}],\"contourcarpet\":[{\"colorbar\":{\"outlinewidth\":0,\"ticks\":\"\"},\"type\":\"contourcarpet\"}],\"heatmap\":[{\"colorbar\":{\"outlinewidth\":0,\"ticks\":\"\"},\"colorscale\":[[0.0,\"#0d0887\"],[0.1111111111111111,\"#46039f\"],[0.2222222222222222,\"#7201a8\"],[0.3333333333333333,\"#9c179e\"],[0.4444444444444444,\"#bd3786\"],[0.5555555555555556,\"#d8576b\"],[0.6666666666666666,\"#ed7953\"],[0.7777777777777778,\"#fb9f3a\"],[0.8888888888888888,\"#fdca26\"],[1.0,\"#f0f921\"]],\"type\":\"heatmap\"}],\"heatmapgl\":[{\"colorbar\":{\"outlinewidth\":0,\"ticks\":\"\"},\"colorscale\":[[0.0,\"#0d0887\"],[0.1111111111111111,\"#46039f\"],[0.2222222222222222,\"#7201a8\"],[0.3333333333333333,\"#9c179e\"],[0.4444444444444444,\"#bd3786\"],[0.5555555555555556,\"#d8576b\"],[0.6666666666666666,\"#ed7953\"],[0.7777777777777778,\"#fb9f3a\"],[0.8888888888888888,\"#fdca26\"],[1.0,\"#f0f921\"]],\"type\":\"heatmapgl\"}],\"histogram\":[{\"marker\":{\"pattern\":{\"fillmode\":\"overlay\",\"size\":10,\"solidity\":0.2}},\"type\":\"histogram\"}],\"histogram2d\":[{\"colorbar\":{\"outlinewidth\":0,\"ticks\":\"\"},\"colorscale\":[[0.0,\"#0d0887\"],[0.1111111111111111,\"#46039f\"],[0.2222222222222222,\"#7201a8\"],[0.3333333333333333,\"#9c179e\"],[0.4444444444444444,\"#bd3786\"],[0.5555555555555556,\"#d8576b\"],[0.6666666666666666,\"#ed7953\"],[0.7777777777777778,\"#fb9f3a\"],[0.8888888888888888,\"#fdca26\"],[1.0,\"#f0f921\"]],\"type\":\"histogram2d\"}],\"histogram2dcontour\":[{\"colorbar\":{\"outlinewidth\":0,\"ticks\":\"\"},\"colorscale\":[[0.0,\"#0d0887\"],[0.1111111111111111,\"#46039f\"],[0.2222222222222222,\"#7201a8\"],[0.3333333333333333,\"#9c179e\"],[0.4444444444444444,\"#bd3786\"],[0.5555555555555556,\"#d8576b\"],[0.6666666666666666,\"#ed7953\"],[0.7777777777777778,\"#fb9f3a\"],[0.8888888888888888,\"#fdca26\"],[1.0,\"#f0f921\"]],\"type\":\"histogram2dcontour\"}],\"mesh3d\":[{\"colorbar\":{\"outlinewidth\":0,\"ticks\":\"\"},\"type\":\"mesh3d\"}],\"parcoords\":[{\"line\":{\"colorbar\":{\"outlinewidth\":0,\"ticks\":\"\"}},\"type\":\"parcoords\"}],\"pie\":[{\"automargin\":true,\"type\":\"pie\"}],\"scatter\":[{\"marker\":{\"colorbar\":{\"outlinewidth\":0,\"ticks\":\"\"}},\"type\":\"scatter\"}],\"scatter3d\":[{\"line\":{\"colorbar\":{\"outlinewidth\":0,\"ticks\":\"\"}},\"marker\":{\"colorbar\":{\"outlinewidth\":0,\"ticks\":\"\"}},\"type\":\"scatter3d\"}],\"scattercarpet\":[{\"marker\":{\"colorbar\":{\"outlinewidth\":0,\"ticks\":\"\"}},\"type\":\"scattercarpet\"}],\"scattergeo\":[{\"marker\":{\"colorbar\":{\"outlinewidth\":0,\"ticks\":\"\"}},\"type\":\"scattergeo\"}],\"scattergl\":[{\"marker\":{\"colorbar\":{\"outlinewidth\":0,\"ticks\":\"\"}},\"type\":\"scattergl\"}],\"scattermapbox\":[{\"marker\":{\"colorbar\":{\"outlinewidth\":0,\"ticks\":\"\"}},\"type\":\"scattermapbox\"}],\"scatterpolar\":[{\"marker\":{\"colorbar\":{\"outlinewidth\":0,\"ticks\":\"\"}},\"type\":\"scatterpolar\"}],\"scatterpolargl\":[{\"marker\":{\"colorbar\":{\"outlinewidth\":0,\"ticks\":\"\"}},\"type\":\"scatterpolargl\"}],\"scatterternary\":[{\"marker\":{\"colorbar\":{\"outlinewidth\":0,\"ticks\":\"\"}},\"type\":\"scatterternary\"}],\"surface\":[{\"colorbar\":{\"outlinewidth\":0,\"ticks\":\"\"},\"colorscale\":[[0.0,\"#0d0887\"],[0.1111111111111111,\"#46039f\"],[0.2222222222222222,\"#7201a8\"],[0.3333333333333333,\"#9c179e\"],[0.4444444444444444,\"#bd3786\"],[0.5555555555555556,\"#d8576b\"],[0.6666666666666666,\"#ed7953\"],[0.7777777777777778,\"#fb9f3a\"],[0.8888888888888888,\"#fdca26\"],[1.0,\"#f0f921\"]],\"type\":\"surface\"}],\"table\":[{\"cells\":{\"fill\":{\"color\":\"#EBF0F8\"},\"line\":{\"color\":\"white\"}},\"header\":{\"fill\":{\"color\":\"#C8D4E3\"},\"line\":{\"color\":\"white\"}},\"type\":\"table\"}]},\"layout\":{\"annotationdefaults\":{\"arrowcolor\":\"#2a3f5f\",\"arrowhead\":0,\"arrowwidth\":1},\"autotypenumbers\":\"strict\",\"coloraxis\":{\"colorbar\":{\"outlinewidth\":0,\"ticks\":\"\"}},\"colorscale\":{\"diverging\":[[0,\"#8e0152\"],[0.1,\"#c51b7d\"],[0.2,\"#de77ae\"],[0.3,\"#f1b6da\"],[0.4,\"#fde0ef\"],[0.5,\"#f7f7f7\"],[0.6,\"#e6f5d0\"],[0.7,\"#b8e186\"],[0.8,\"#7fbc41\"],[0.9,\"#4d9221\"],[1,\"#276419\"]],\"sequential\":[[0.0,\"#0d0887\"],[0.1111111111111111,\"#46039f\"],[0.2222222222222222,\"#7201a8\"],[0.3333333333333333,\"#9c179e\"],[0.4444444444444444,\"#bd3786\"],[0.5555555555555556,\"#d8576b\"],[0.6666666666666666,\"#ed7953\"],[0.7777777777777778,\"#fb9f3a\"],[0.8888888888888888,\"#fdca26\"],[1.0,\"#f0f921\"]],\"sequentialminus\":[[0.0,\"#0d0887\"],[0.1111111111111111,\"#46039f\"],[0.2222222222222222,\"#7201a8\"],[0.3333333333333333,\"#9c179e\"],[0.4444444444444444,\"#bd3786\"],[0.5555555555555556,\"#d8576b\"],[0.6666666666666666,\"#ed7953\"],[0.7777777777777778,\"#fb9f3a\"],[0.8888888888888888,\"#fdca26\"],[1.0,\"#f0f921\"]]},\"colorway\":[\"#636efa\",\"#EF553B\",\"#00cc96\",\"#ab63fa\",\"#FFA15A\",\"#19d3f3\",\"#FF6692\",\"#B6E880\",\"#FF97FF\",\"#FECB52\"],\"font\":{\"color\":\"#2a3f5f\"},\"geo\":{\"bgcolor\":\"white\",\"lakecolor\":\"white\",\"landcolor\":\"#E5ECF6\",\"showlakes\":true,\"showland\":true,\"subunitcolor\":\"white\"},\"hoverlabel\":{\"align\":\"left\"},\"hovermode\":\"closest\",\"mapbox\":{\"style\":\"light\"},\"paper_bgcolor\":\"white\",\"plot_bgcolor\":\"#E5ECF6\",\"polar\":{\"angularaxis\":{\"gridcolor\":\"white\",\"linecolor\":\"white\",\"ticks\":\"\"},\"bgcolor\":\"#E5ECF6\",\"radialaxis\":{\"gridcolor\":\"white\",\"linecolor\":\"white\",\"ticks\":\"\"}},\"scene\":{\"xaxis\":{\"backgroundcolor\":\"#E5ECF6\",\"gridcolor\":\"white\",\"gridwidth\":2,\"linecolor\":\"white\",\"showbackground\":true,\"ticks\":\"\",\"zerolinecolor\":\"white\"},\"yaxis\":{\"backgroundcolor\":\"#E5ECF6\",\"gridcolor\":\"white\",\"gridwidth\":2,\"linecolor\":\"white\",\"showbackground\":true,\"ticks\":\"\",\"zerolinecolor\":\"white\"},\"zaxis\":{\"backgroundcolor\":\"#E5ECF6\",\"gridcolor\":\"white\",\"gridwidth\":2,\"linecolor\":\"white\",\"showbackground\":true,\"ticks\":\"\",\"zerolinecolor\":\"white\"}},\"shapedefaults\":{\"line\":{\"color\":\"#2a3f5f\"}},\"ternary\":{\"aaxis\":{\"gridcolor\":\"white\",\"linecolor\":\"white\",\"ticks\":\"\"},\"baxis\":{\"gridcolor\":\"white\",\"linecolor\":\"white\",\"ticks\":\"\"},\"bgcolor\":\"#E5ECF6\",\"caxis\":{\"gridcolor\":\"white\",\"linecolor\":\"white\",\"ticks\":\"\"}},\"title\":{\"x\":0.05},\"xaxis\":{\"automargin\":true,\"gridcolor\":\"white\",\"linecolor\":\"white\",\"ticks\":\"\",\"title\":{\"standoff\":15},\"zerolinecolor\":\"white\",\"zerolinewidth\":2},\"yaxis\":{\"automargin\":true,\"gridcolor\":\"white\",\"linecolor\":\"white\",\"ticks\":\"\",\"title\":{\"standoff\":15},\"zerolinecolor\":\"white\",\"zerolinewidth\":2}}},\"xaxis\":{\"anchor\":\"y\",\"domain\":[0.0,1.0],\"title\":{\"text\":\"Year\"}},\"yaxis\":{\"anchor\":\"x\",\"domain\":[0.0,1.0],\"title\":{\"text\":\"Count\"}},\"legend\":{\"tracegroupgap\":0},\"margin\":{\"t\":60},\"title\":{\"text\":\"<b>Participation of different nations in the Summer Olympics over the Years</b>\"},\"plot_bgcolor\":\" whitesmoke\"},                        {\"responsive\": true}                    ).then(function(){\n",
              "                            \n",
              "var gd = document.getElementById('dffbd7cb-c3cb-4eab-8553-2cc93aa72960');\n",
              "var x = new MutationObserver(function (mutations, observer) {{\n",
              "        var display = window.getComputedStyle(gd).display;\n",
              "        if (!display || display === 'none') {{\n",
              "            console.log([gd, 'removed!']);\n",
              "            Plotly.purge(gd);\n",
              "            observer.disconnect();\n",
              "        }}\n",
              "}});\n",
              "\n",
              "// Listen for the removal of the full notebook cells\n",
              "var notebookContainer = gd.closest('#notebook-container');\n",
              "if (notebookContainer) {{\n",
              "    x.observe(notebookContainer, {childList: true});\n",
              "}}\n",
              "\n",
              "// Listen for the clearing of the current output cell\n",
              "var outputEl = gd.closest('.output');\n",
              "if (outputEl) {{\n",
              "    x.observe(outputEl, {childList: true});\n",
              "}}\n",
              "\n",
              "                        })                };                            </script>        </div>\n",
              "</body>\n",
              "</html>"
            ]
          },
          "metadata": {}
        }
      ]
    },
    {
      "cell_type": "code",
      "source": [
        "nations2_df=df[df['Season'] == 'Winter']\n",
        "nations2= nations2_df.groupby('Year').count()['region'].reset_index()\n",
        "nations2.rename(columns={\"region\":\"Count\"},inplace=True)\n",
        "\n",
        "fig= px.line(nations2,x='Year',y='Count')\n",
        "fig.update_layout(title=\"<b>Participation of different nations in the Winter Olympics over the Years</b>\",plot_bgcolor = \" whitesmoke\")\n",
        "fig.show()"
      ],
      "metadata": {
        "colab": {
          "base_uri": "https://localhost:8080/",
          "height": 542
        },
        "id": "a_kFSAfWhmMz",
        "outputId": "2f79854c-497d-498b-b99a-090a8532d716"
      },
      "execution_count": 153,
      "outputs": [
        {
          "output_type": "display_data",
          "data": {
            "text/html": [
              "<html>\n",
              "<head><meta charset=\"utf-8\" /></head>\n",
              "<body>\n",
              "    <div>            <script src=\"https://cdnjs.cloudflare.com/ajax/libs/mathjax/2.7.5/MathJax.js?config=TeX-AMS-MML_SVG\"></script><script type=\"text/javascript\">if (window.MathJax) {MathJax.Hub.Config({SVG: {font: \"STIX-Web\"}});}</script>                <script type=\"text/javascript\">window.PlotlyConfig = {MathJaxConfig: 'local'};</script>\n",
              "        <script src=\"https://cdn.plot.ly/plotly-2.8.3.min.js\"></script>                <div id=\"5bf42144-2885-406c-a9f8-a2909e0396b1\" class=\"plotly-graph-div\" style=\"height:525px; width:100%;\"></div>            <script type=\"text/javascript\">                                    window.PLOTLYENV=window.PLOTLYENV || {};                                    if (document.getElementById(\"5bf42144-2885-406c-a9f8-a2909e0396b1\")) {                    Plotly.newPlot(                        \"5bf42144-2885-406c-a9f8-a2909e0396b1\",                        [{\"hovertemplate\":\"Year=%{x}<br>Count=%{y}<extra></extra>\",\"legendgroup\":\"\",\"line\":{\"color\":\"#636efa\",\"dash\":\"solid\"},\"marker\":{\"symbol\":\"circle\"},\"mode\":\"lines\",\"name\":\"\",\"orientation\":\"v\",\"showlegend\":false,\"x\":[1924,1928,1932,1936,1948,1952,1956,1960,1964,1968,1972,1976,1980,1984,1988,1992,1994,1998,2002,2006,2010,2014],\"xaxis\":\"x\",\"y\":[130,89,92,108,135,136,150,147,186,199,199,211,218,222,263,318,331,440,478,526,520,597],\"yaxis\":\"y\",\"type\":\"scatter\"}],                        {\"template\":{\"data\":{\"bar\":[{\"error_x\":{\"color\":\"#2a3f5f\"},\"error_y\":{\"color\":\"#2a3f5f\"},\"marker\":{\"line\":{\"color\":\"#E5ECF6\",\"width\":0.5},\"pattern\":{\"fillmode\":\"overlay\",\"size\":10,\"solidity\":0.2}},\"type\":\"bar\"}],\"barpolar\":[{\"marker\":{\"line\":{\"color\":\"#E5ECF6\",\"width\":0.5},\"pattern\":{\"fillmode\":\"overlay\",\"size\":10,\"solidity\":0.2}},\"type\":\"barpolar\"}],\"carpet\":[{\"aaxis\":{\"endlinecolor\":\"#2a3f5f\",\"gridcolor\":\"white\",\"linecolor\":\"white\",\"minorgridcolor\":\"white\",\"startlinecolor\":\"#2a3f5f\"},\"baxis\":{\"endlinecolor\":\"#2a3f5f\",\"gridcolor\":\"white\",\"linecolor\":\"white\",\"minorgridcolor\":\"white\",\"startlinecolor\":\"#2a3f5f\"},\"type\":\"carpet\"}],\"choropleth\":[{\"colorbar\":{\"outlinewidth\":0,\"ticks\":\"\"},\"type\":\"choropleth\"}],\"contour\":[{\"colorbar\":{\"outlinewidth\":0,\"ticks\":\"\"},\"colorscale\":[[0.0,\"#0d0887\"],[0.1111111111111111,\"#46039f\"],[0.2222222222222222,\"#7201a8\"],[0.3333333333333333,\"#9c179e\"],[0.4444444444444444,\"#bd3786\"],[0.5555555555555556,\"#d8576b\"],[0.6666666666666666,\"#ed7953\"],[0.7777777777777778,\"#fb9f3a\"],[0.8888888888888888,\"#fdca26\"],[1.0,\"#f0f921\"]],\"type\":\"contour\"}],\"contourcarpet\":[{\"colorbar\":{\"outlinewidth\":0,\"ticks\":\"\"},\"type\":\"contourcarpet\"}],\"heatmap\":[{\"colorbar\":{\"outlinewidth\":0,\"ticks\":\"\"},\"colorscale\":[[0.0,\"#0d0887\"],[0.1111111111111111,\"#46039f\"],[0.2222222222222222,\"#7201a8\"],[0.3333333333333333,\"#9c179e\"],[0.4444444444444444,\"#bd3786\"],[0.5555555555555556,\"#d8576b\"],[0.6666666666666666,\"#ed7953\"],[0.7777777777777778,\"#fb9f3a\"],[0.8888888888888888,\"#fdca26\"],[1.0,\"#f0f921\"]],\"type\":\"heatmap\"}],\"heatmapgl\":[{\"colorbar\":{\"outlinewidth\":0,\"ticks\":\"\"},\"colorscale\":[[0.0,\"#0d0887\"],[0.1111111111111111,\"#46039f\"],[0.2222222222222222,\"#7201a8\"],[0.3333333333333333,\"#9c179e\"],[0.4444444444444444,\"#bd3786\"],[0.5555555555555556,\"#d8576b\"],[0.6666666666666666,\"#ed7953\"],[0.7777777777777778,\"#fb9f3a\"],[0.8888888888888888,\"#fdca26\"],[1.0,\"#f0f921\"]],\"type\":\"heatmapgl\"}],\"histogram\":[{\"marker\":{\"pattern\":{\"fillmode\":\"overlay\",\"size\":10,\"solidity\":0.2}},\"type\":\"histogram\"}],\"histogram2d\":[{\"colorbar\":{\"outlinewidth\":0,\"ticks\":\"\"},\"colorscale\":[[0.0,\"#0d0887\"],[0.1111111111111111,\"#46039f\"],[0.2222222222222222,\"#7201a8\"],[0.3333333333333333,\"#9c179e\"],[0.4444444444444444,\"#bd3786\"],[0.5555555555555556,\"#d8576b\"],[0.6666666666666666,\"#ed7953\"],[0.7777777777777778,\"#fb9f3a\"],[0.8888888888888888,\"#fdca26\"],[1.0,\"#f0f921\"]],\"type\":\"histogram2d\"}],\"histogram2dcontour\":[{\"colorbar\":{\"outlinewidth\":0,\"ticks\":\"\"},\"colorscale\":[[0.0,\"#0d0887\"],[0.1111111111111111,\"#46039f\"],[0.2222222222222222,\"#7201a8\"],[0.3333333333333333,\"#9c179e\"],[0.4444444444444444,\"#bd3786\"],[0.5555555555555556,\"#d8576b\"],[0.6666666666666666,\"#ed7953\"],[0.7777777777777778,\"#fb9f3a\"],[0.8888888888888888,\"#fdca26\"],[1.0,\"#f0f921\"]],\"type\":\"histogram2dcontour\"}],\"mesh3d\":[{\"colorbar\":{\"outlinewidth\":0,\"ticks\":\"\"},\"type\":\"mesh3d\"}],\"parcoords\":[{\"line\":{\"colorbar\":{\"outlinewidth\":0,\"ticks\":\"\"}},\"type\":\"parcoords\"}],\"pie\":[{\"automargin\":true,\"type\":\"pie\"}],\"scatter\":[{\"marker\":{\"colorbar\":{\"outlinewidth\":0,\"ticks\":\"\"}},\"type\":\"scatter\"}],\"scatter3d\":[{\"line\":{\"colorbar\":{\"outlinewidth\":0,\"ticks\":\"\"}},\"marker\":{\"colorbar\":{\"outlinewidth\":0,\"ticks\":\"\"}},\"type\":\"scatter3d\"}],\"scattercarpet\":[{\"marker\":{\"colorbar\":{\"outlinewidth\":0,\"ticks\":\"\"}},\"type\":\"scattercarpet\"}],\"scattergeo\":[{\"marker\":{\"colorbar\":{\"outlinewidth\":0,\"ticks\":\"\"}},\"type\":\"scattergeo\"}],\"scattergl\":[{\"marker\":{\"colorbar\":{\"outlinewidth\":0,\"ticks\":\"\"}},\"type\":\"scattergl\"}],\"scattermapbox\":[{\"marker\":{\"colorbar\":{\"outlinewidth\":0,\"ticks\":\"\"}},\"type\":\"scattermapbox\"}],\"scatterpolar\":[{\"marker\":{\"colorbar\":{\"outlinewidth\":0,\"ticks\":\"\"}},\"type\":\"scatterpolar\"}],\"scatterpolargl\":[{\"marker\":{\"colorbar\":{\"outlinewidth\":0,\"ticks\":\"\"}},\"type\":\"scatterpolargl\"}],\"scatterternary\":[{\"marker\":{\"colorbar\":{\"outlinewidth\":0,\"ticks\":\"\"}},\"type\":\"scatterternary\"}],\"surface\":[{\"colorbar\":{\"outlinewidth\":0,\"ticks\":\"\"},\"colorscale\":[[0.0,\"#0d0887\"],[0.1111111111111111,\"#46039f\"],[0.2222222222222222,\"#7201a8\"],[0.3333333333333333,\"#9c179e\"],[0.4444444444444444,\"#bd3786\"],[0.5555555555555556,\"#d8576b\"],[0.6666666666666666,\"#ed7953\"],[0.7777777777777778,\"#fb9f3a\"],[0.8888888888888888,\"#fdca26\"],[1.0,\"#f0f921\"]],\"type\":\"surface\"}],\"table\":[{\"cells\":{\"fill\":{\"color\":\"#EBF0F8\"},\"line\":{\"color\":\"white\"}},\"header\":{\"fill\":{\"color\":\"#C8D4E3\"},\"line\":{\"color\":\"white\"}},\"type\":\"table\"}]},\"layout\":{\"annotationdefaults\":{\"arrowcolor\":\"#2a3f5f\",\"arrowhead\":0,\"arrowwidth\":1},\"autotypenumbers\":\"strict\",\"coloraxis\":{\"colorbar\":{\"outlinewidth\":0,\"ticks\":\"\"}},\"colorscale\":{\"diverging\":[[0,\"#8e0152\"],[0.1,\"#c51b7d\"],[0.2,\"#de77ae\"],[0.3,\"#f1b6da\"],[0.4,\"#fde0ef\"],[0.5,\"#f7f7f7\"],[0.6,\"#e6f5d0\"],[0.7,\"#b8e186\"],[0.8,\"#7fbc41\"],[0.9,\"#4d9221\"],[1,\"#276419\"]],\"sequential\":[[0.0,\"#0d0887\"],[0.1111111111111111,\"#46039f\"],[0.2222222222222222,\"#7201a8\"],[0.3333333333333333,\"#9c179e\"],[0.4444444444444444,\"#bd3786\"],[0.5555555555555556,\"#d8576b\"],[0.6666666666666666,\"#ed7953\"],[0.7777777777777778,\"#fb9f3a\"],[0.8888888888888888,\"#fdca26\"],[1.0,\"#f0f921\"]],\"sequentialminus\":[[0.0,\"#0d0887\"],[0.1111111111111111,\"#46039f\"],[0.2222222222222222,\"#7201a8\"],[0.3333333333333333,\"#9c179e\"],[0.4444444444444444,\"#bd3786\"],[0.5555555555555556,\"#d8576b\"],[0.6666666666666666,\"#ed7953\"],[0.7777777777777778,\"#fb9f3a\"],[0.8888888888888888,\"#fdca26\"],[1.0,\"#f0f921\"]]},\"colorway\":[\"#636efa\",\"#EF553B\",\"#00cc96\",\"#ab63fa\",\"#FFA15A\",\"#19d3f3\",\"#FF6692\",\"#B6E880\",\"#FF97FF\",\"#FECB52\"],\"font\":{\"color\":\"#2a3f5f\"},\"geo\":{\"bgcolor\":\"white\",\"lakecolor\":\"white\",\"landcolor\":\"#E5ECF6\",\"showlakes\":true,\"showland\":true,\"subunitcolor\":\"white\"},\"hoverlabel\":{\"align\":\"left\"},\"hovermode\":\"closest\",\"mapbox\":{\"style\":\"light\"},\"paper_bgcolor\":\"white\",\"plot_bgcolor\":\"#E5ECF6\",\"polar\":{\"angularaxis\":{\"gridcolor\":\"white\",\"linecolor\":\"white\",\"ticks\":\"\"},\"bgcolor\":\"#E5ECF6\",\"radialaxis\":{\"gridcolor\":\"white\",\"linecolor\":\"white\",\"ticks\":\"\"}},\"scene\":{\"xaxis\":{\"backgroundcolor\":\"#E5ECF6\",\"gridcolor\":\"white\",\"gridwidth\":2,\"linecolor\":\"white\",\"showbackground\":true,\"ticks\":\"\",\"zerolinecolor\":\"white\"},\"yaxis\":{\"backgroundcolor\":\"#E5ECF6\",\"gridcolor\":\"white\",\"gridwidth\":2,\"linecolor\":\"white\",\"showbackground\":true,\"ticks\":\"\",\"zerolinecolor\":\"white\"},\"zaxis\":{\"backgroundcolor\":\"#E5ECF6\",\"gridcolor\":\"white\",\"gridwidth\":2,\"linecolor\":\"white\",\"showbackground\":true,\"ticks\":\"\",\"zerolinecolor\":\"white\"}},\"shapedefaults\":{\"line\":{\"color\":\"#2a3f5f\"}},\"ternary\":{\"aaxis\":{\"gridcolor\":\"white\",\"linecolor\":\"white\",\"ticks\":\"\"},\"baxis\":{\"gridcolor\":\"white\",\"linecolor\":\"white\",\"ticks\":\"\"},\"bgcolor\":\"#E5ECF6\",\"caxis\":{\"gridcolor\":\"white\",\"linecolor\":\"white\",\"ticks\":\"\"}},\"title\":{\"x\":0.05},\"xaxis\":{\"automargin\":true,\"gridcolor\":\"white\",\"linecolor\":\"white\",\"ticks\":\"\",\"title\":{\"standoff\":15},\"zerolinecolor\":\"white\",\"zerolinewidth\":2},\"yaxis\":{\"automargin\":true,\"gridcolor\":\"white\",\"linecolor\":\"white\",\"ticks\":\"\",\"title\":{\"standoff\":15},\"zerolinecolor\":\"white\",\"zerolinewidth\":2}}},\"xaxis\":{\"anchor\":\"y\",\"domain\":[0.0,1.0],\"title\":{\"text\":\"Year\"}},\"yaxis\":{\"anchor\":\"x\",\"domain\":[0.0,1.0],\"title\":{\"text\":\"Count\"}},\"legend\":{\"tracegroupgap\":0},\"margin\":{\"t\":60},\"title\":{\"text\":\"<b>Participation of different nations in the Winter Olympics over the Years</b>\"},\"plot_bgcolor\":\" whitesmoke\"},                        {\"responsive\": true}                    ).then(function(){\n",
              "                            \n",
              "var gd = document.getElementById('5bf42144-2885-406c-a9f8-a2909e0396b1');\n",
              "var x = new MutationObserver(function (mutations, observer) {{\n",
              "        var display = window.getComputedStyle(gd).display;\n",
              "        if (!display || display === 'none') {{\n",
              "            console.log([gd, 'removed!']);\n",
              "            Plotly.purge(gd);\n",
              "            observer.disconnect();\n",
              "        }}\n",
              "}});\n",
              "\n",
              "// Listen for the removal of the full notebook cells\n",
              "var notebookContainer = gd.closest('#notebook-container');\n",
              "if (notebookContainer) {{\n",
              "    x.observe(notebookContainer, {childList: true});\n",
              "}}\n",
              "\n",
              "// Listen for the clearing of the current output cell\n",
              "var outputEl = gd.closest('.output');\n",
              "if (outputEl) {{\n",
              "    x.observe(outputEl, {childList: true});\n",
              "}}\n",
              "\n",
              "                        })                };                            </script>        </div>\n",
              "</body>\n",
              "</html>"
            ]
          },
          "metadata": {}
        }
      ]
    },
    {
      "cell_type": "markdown",
      "source": [
        "**which sports have the most number of medals in the olympics**"
      ],
      "metadata": {
        "id": "_Lqq_REphCxY"
      }
    },
    {
      "cell_type": "code",
      "source": [
        "#Medals won in each sport in the Olympics\n",
        "s= df_sport.head(35)\n",
        "fig = px.bar(s, x='Sport', y='Count', \n",
        "      labels={\"Sport\": \"Name of the Sports\",\n",
        "              \"Count\": \"Total number of medals in each sport\"\n",
        "              })\n",
        "fig.update_layout(title='<b>Number of medals for each sport in Olympics<b>',height=600)"
      ],
      "metadata": {
        "colab": {
          "base_uri": "https://localhost:8080/",
          "height": 617
        },
        "id": "3WcNe9FbVySj",
        "outputId": "80d3a53c-dccd-4588-f063-f1ae9a8d90e9"
      },
      "execution_count": 154,
      "outputs": [
        {
          "output_type": "display_data",
          "data": {
            "text/html": [
              "<html>\n",
              "<head><meta charset=\"utf-8\" /></head>\n",
              "<body>\n",
              "    <div>            <script src=\"https://cdnjs.cloudflare.com/ajax/libs/mathjax/2.7.5/MathJax.js?config=TeX-AMS-MML_SVG\"></script><script type=\"text/javascript\">if (window.MathJax) {MathJax.Hub.Config({SVG: {font: \"STIX-Web\"}});}</script>                <script type=\"text/javascript\">window.PlotlyConfig = {MathJaxConfig: 'local'};</script>\n",
              "        <script src=\"https://cdn.plot.ly/plotly-2.8.3.min.js\"></script>                <div id=\"db8f7af0-be81-472d-ad81-a094293a36ea\" class=\"plotly-graph-div\" style=\"height:600px; width:100%;\"></div>            <script type=\"text/javascript\">                                    window.PLOTLYENV=window.PLOTLYENV || {};                                    if (document.getElementById(\"db8f7af0-be81-472d-ad81-a094293a36ea\")) {                    Plotly.newPlot(                        \"db8f7af0-be81-472d-ad81-a094293a36ea\",                        [{\"alignmentgroup\":\"True\",\"hovertemplate\":\"Name of the Sports=%{x}<br>Total number of medals in each sport=%{y}<extra></extra>\",\"legendgroup\":\"\",\"marker\":{\"color\":\"#636efa\",\"pattern\":{\"shape\":\"\"}},\"name\":\"\",\"offsetgroup\":\"\",\"orientation\":\"v\",\"showlegend\":false,\"textposition\":\"auto\",\"x\":[\"Athletics\",\"Swimming\",\"Rowing\",\"Gymnastics\",\"Fencing\",\"Football\",\"Ice Hockey\",\"Hockey\",\"Wrestling\",\"Cycling\",\"Shooting\",\"Sailing\",\"Canoeing\",\"Basketball\",\"Handball\",\"Water Polo\",\"Volleyball\",\"Equestrianism\",\"Boxing\",\"Cross Country Skiing\",\"Weightlifting\",\"Speed Skating\",\"Judo\",\"Alpine Skiing\",\"Diving\",\"Biathlon\",\"Bobsleigh\",\"Figure Skating\",\"Archery\",\"Tennis\",\"Baseball\",\"Short Track Speed Skating\",\"Synchronized Swimming\",\"Ski Jumping\",\"Modern Pentathlon\"],\"xaxis\":\"x\",\"y\":[3969,3048,2945,2256,1743,1571,1530,1528,1296,1263,1228,1221,1165,1080,1060,1057,969,965,944,776,646,580,547,428,427,408,398,386,353,340,336,284,215,207,186],\"yaxis\":\"y\",\"type\":\"bar\"}],                        {\"template\":{\"data\":{\"bar\":[{\"error_x\":{\"color\":\"#2a3f5f\"},\"error_y\":{\"color\":\"#2a3f5f\"},\"marker\":{\"line\":{\"color\":\"#E5ECF6\",\"width\":0.5},\"pattern\":{\"fillmode\":\"overlay\",\"size\":10,\"solidity\":0.2}},\"type\":\"bar\"}],\"barpolar\":[{\"marker\":{\"line\":{\"color\":\"#E5ECF6\",\"width\":0.5},\"pattern\":{\"fillmode\":\"overlay\",\"size\":10,\"solidity\":0.2}},\"type\":\"barpolar\"}],\"carpet\":[{\"aaxis\":{\"endlinecolor\":\"#2a3f5f\",\"gridcolor\":\"white\",\"linecolor\":\"white\",\"minorgridcolor\":\"white\",\"startlinecolor\":\"#2a3f5f\"},\"baxis\":{\"endlinecolor\":\"#2a3f5f\",\"gridcolor\":\"white\",\"linecolor\":\"white\",\"minorgridcolor\":\"white\",\"startlinecolor\":\"#2a3f5f\"},\"type\":\"carpet\"}],\"choropleth\":[{\"colorbar\":{\"outlinewidth\":0,\"ticks\":\"\"},\"type\":\"choropleth\"}],\"contour\":[{\"colorbar\":{\"outlinewidth\":0,\"ticks\":\"\"},\"colorscale\":[[0.0,\"#0d0887\"],[0.1111111111111111,\"#46039f\"],[0.2222222222222222,\"#7201a8\"],[0.3333333333333333,\"#9c179e\"],[0.4444444444444444,\"#bd3786\"],[0.5555555555555556,\"#d8576b\"],[0.6666666666666666,\"#ed7953\"],[0.7777777777777778,\"#fb9f3a\"],[0.8888888888888888,\"#fdca26\"],[1.0,\"#f0f921\"]],\"type\":\"contour\"}],\"contourcarpet\":[{\"colorbar\":{\"outlinewidth\":0,\"ticks\":\"\"},\"type\":\"contourcarpet\"}],\"heatmap\":[{\"colorbar\":{\"outlinewidth\":0,\"ticks\":\"\"},\"colorscale\":[[0.0,\"#0d0887\"],[0.1111111111111111,\"#46039f\"],[0.2222222222222222,\"#7201a8\"],[0.3333333333333333,\"#9c179e\"],[0.4444444444444444,\"#bd3786\"],[0.5555555555555556,\"#d8576b\"],[0.6666666666666666,\"#ed7953\"],[0.7777777777777778,\"#fb9f3a\"],[0.8888888888888888,\"#fdca26\"],[1.0,\"#f0f921\"]],\"type\":\"heatmap\"}],\"heatmapgl\":[{\"colorbar\":{\"outlinewidth\":0,\"ticks\":\"\"},\"colorscale\":[[0.0,\"#0d0887\"],[0.1111111111111111,\"#46039f\"],[0.2222222222222222,\"#7201a8\"],[0.3333333333333333,\"#9c179e\"],[0.4444444444444444,\"#bd3786\"],[0.5555555555555556,\"#d8576b\"],[0.6666666666666666,\"#ed7953\"],[0.7777777777777778,\"#fb9f3a\"],[0.8888888888888888,\"#fdca26\"],[1.0,\"#f0f921\"]],\"type\":\"heatmapgl\"}],\"histogram\":[{\"marker\":{\"pattern\":{\"fillmode\":\"overlay\",\"size\":10,\"solidity\":0.2}},\"type\":\"histogram\"}],\"histogram2d\":[{\"colorbar\":{\"outlinewidth\":0,\"ticks\":\"\"},\"colorscale\":[[0.0,\"#0d0887\"],[0.1111111111111111,\"#46039f\"],[0.2222222222222222,\"#7201a8\"],[0.3333333333333333,\"#9c179e\"],[0.4444444444444444,\"#bd3786\"],[0.5555555555555556,\"#d8576b\"],[0.6666666666666666,\"#ed7953\"],[0.7777777777777778,\"#fb9f3a\"],[0.8888888888888888,\"#fdca26\"],[1.0,\"#f0f921\"]],\"type\":\"histogram2d\"}],\"histogram2dcontour\":[{\"colorbar\":{\"outlinewidth\":0,\"ticks\":\"\"},\"colorscale\":[[0.0,\"#0d0887\"],[0.1111111111111111,\"#46039f\"],[0.2222222222222222,\"#7201a8\"],[0.3333333333333333,\"#9c179e\"],[0.4444444444444444,\"#bd3786\"],[0.5555555555555556,\"#d8576b\"],[0.6666666666666666,\"#ed7953\"],[0.7777777777777778,\"#fb9f3a\"],[0.8888888888888888,\"#fdca26\"],[1.0,\"#f0f921\"]],\"type\":\"histogram2dcontour\"}],\"mesh3d\":[{\"colorbar\":{\"outlinewidth\":0,\"ticks\":\"\"},\"type\":\"mesh3d\"}],\"parcoords\":[{\"line\":{\"colorbar\":{\"outlinewidth\":0,\"ticks\":\"\"}},\"type\":\"parcoords\"}],\"pie\":[{\"automargin\":true,\"type\":\"pie\"}],\"scatter\":[{\"marker\":{\"colorbar\":{\"outlinewidth\":0,\"ticks\":\"\"}},\"type\":\"scatter\"}],\"scatter3d\":[{\"line\":{\"colorbar\":{\"outlinewidth\":0,\"ticks\":\"\"}},\"marker\":{\"colorbar\":{\"outlinewidth\":0,\"ticks\":\"\"}},\"type\":\"scatter3d\"}],\"scattercarpet\":[{\"marker\":{\"colorbar\":{\"outlinewidth\":0,\"ticks\":\"\"}},\"type\":\"scattercarpet\"}],\"scattergeo\":[{\"marker\":{\"colorbar\":{\"outlinewidth\":0,\"ticks\":\"\"}},\"type\":\"scattergeo\"}],\"scattergl\":[{\"marker\":{\"colorbar\":{\"outlinewidth\":0,\"ticks\":\"\"}},\"type\":\"scattergl\"}],\"scattermapbox\":[{\"marker\":{\"colorbar\":{\"outlinewidth\":0,\"ticks\":\"\"}},\"type\":\"scattermapbox\"}],\"scatterpolar\":[{\"marker\":{\"colorbar\":{\"outlinewidth\":0,\"ticks\":\"\"}},\"type\":\"scatterpolar\"}],\"scatterpolargl\":[{\"marker\":{\"colorbar\":{\"outlinewidth\":0,\"ticks\":\"\"}},\"type\":\"scatterpolargl\"}],\"scatterternary\":[{\"marker\":{\"colorbar\":{\"outlinewidth\":0,\"ticks\":\"\"}},\"type\":\"scatterternary\"}],\"surface\":[{\"colorbar\":{\"outlinewidth\":0,\"ticks\":\"\"},\"colorscale\":[[0.0,\"#0d0887\"],[0.1111111111111111,\"#46039f\"],[0.2222222222222222,\"#7201a8\"],[0.3333333333333333,\"#9c179e\"],[0.4444444444444444,\"#bd3786\"],[0.5555555555555556,\"#d8576b\"],[0.6666666666666666,\"#ed7953\"],[0.7777777777777778,\"#fb9f3a\"],[0.8888888888888888,\"#fdca26\"],[1.0,\"#f0f921\"]],\"type\":\"surface\"}],\"table\":[{\"cells\":{\"fill\":{\"color\":\"#EBF0F8\"},\"line\":{\"color\":\"white\"}},\"header\":{\"fill\":{\"color\":\"#C8D4E3\"},\"line\":{\"color\":\"white\"}},\"type\":\"table\"}]},\"layout\":{\"annotationdefaults\":{\"arrowcolor\":\"#2a3f5f\",\"arrowhead\":0,\"arrowwidth\":1},\"autotypenumbers\":\"strict\",\"coloraxis\":{\"colorbar\":{\"outlinewidth\":0,\"ticks\":\"\"}},\"colorscale\":{\"diverging\":[[0,\"#8e0152\"],[0.1,\"#c51b7d\"],[0.2,\"#de77ae\"],[0.3,\"#f1b6da\"],[0.4,\"#fde0ef\"],[0.5,\"#f7f7f7\"],[0.6,\"#e6f5d0\"],[0.7,\"#b8e186\"],[0.8,\"#7fbc41\"],[0.9,\"#4d9221\"],[1,\"#276419\"]],\"sequential\":[[0.0,\"#0d0887\"],[0.1111111111111111,\"#46039f\"],[0.2222222222222222,\"#7201a8\"],[0.3333333333333333,\"#9c179e\"],[0.4444444444444444,\"#bd3786\"],[0.5555555555555556,\"#d8576b\"],[0.6666666666666666,\"#ed7953\"],[0.7777777777777778,\"#fb9f3a\"],[0.8888888888888888,\"#fdca26\"],[1.0,\"#f0f921\"]],\"sequentialminus\":[[0.0,\"#0d0887\"],[0.1111111111111111,\"#46039f\"],[0.2222222222222222,\"#7201a8\"],[0.3333333333333333,\"#9c179e\"],[0.4444444444444444,\"#bd3786\"],[0.5555555555555556,\"#d8576b\"],[0.6666666666666666,\"#ed7953\"],[0.7777777777777778,\"#fb9f3a\"],[0.8888888888888888,\"#fdca26\"],[1.0,\"#f0f921\"]]},\"colorway\":[\"#636efa\",\"#EF553B\",\"#00cc96\",\"#ab63fa\",\"#FFA15A\",\"#19d3f3\",\"#FF6692\",\"#B6E880\",\"#FF97FF\",\"#FECB52\"],\"font\":{\"color\":\"#2a3f5f\"},\"geo\":{\"bgcolor\":\"white\",\"lakecolor\":\"white\",\"landcolor\":\"#E5ECF6\",\"showlakes\":true,\"showland\":true,\"subunitcolor\":\"white\"},\"hoverlabel\":{\"align\":\"left\"},\"hovermode\":\"closest\",\"mapbox\":{\"style\":\"light\"},\"paper_bgcolor\":\"white\",\"plot_bgcolor\":\"#E5ECF6\",\"polar\":{\"angularaxis\":{\"gridcolor\":\"white\",\"linecolor\":\"white\",\"ticks\":\"\"},\"bgcolor\":\"#E5ECF6\",\"radialaxis\":{\"gridcolor\":\"white\",\"linecolor\":\"white\",\"ticks\":\"\"}},\"scene\":{\"xaxis\":{\"backgroundcolor\":\"#E5ECF6\",\"gridcolor\":\"white\",\"gridwidth\":2,\"linecolor\":\"white\",\"showbackground\":true,\"ticks\":\"\",\"zerolinecolor\":\"white\"},\"yaxis\":{\"backgroundcolor\":\"#E5ECF6\",\"gridcolor\":\"white\",\"gridwidth\":2,\"linecolor\":\"white\",\"showbackground\":true,\"ticks\":\"\",\"zerolinecolor\":\"white\"},\"zaxis\":{\"backgroundcolor\":\"#E5ECF6\",\"gridcolor\":\"white\",\"gridwidth\":2,\"linecolor\":\"white\",\"showbackground\":true,\"ticks\":\"\",\"zerolinecolor\":\"white\"}},\"shapedefaults\":{\"line\":{\"color\":\"#2a3f5f\"}},\"ternary\":{\"aaxis\":{\"gridcolor\":\"white\",\"linecolor\":\"white\",\"ticks\":\"\"},\"baxis\":{\"gridcolor\":\"white\",\"linecolor\":\"white\",\"ticks\":\"\"},\"bgcolor\":\"#E5ECF6\",\"caxis\":{\"gridcolor\":\"white\",\"linecolor\":\"white\",\"ticks\":\"\"}},\"title\":{\"x\":0.05},\"xaxis\":{\"automargin\":true,\"gridcolor\":\"white\",\"linecolor\":\"white\",\"ticks\":\"\",\"title\":{\"standoff\":15},\"zerolinecolor\":\"white\",\"zerolinewidth\":2},\"yaxis\":{\"automargin\":true,\"gridcolor\":\"white\",\"linecolor\":\"white\",\"ticks\":\"\",\"title\":{\"standoff\":15},\"zerolinecolor\":\"white\",\"zerolinewidth\":2}}},\"xaxis\":{\"anchor\":\"y\",\"domain\":[0.0,1.0],\"title\":{\"text\":\"Name of the Sports\"}},\"yaxis\":{\"anchor\":\"x\",\"domain\":[0.0,1.0],\"title\":{\"text\":\"Total number of medals in each sport\"}},\"legend\":{\"tracegroupgap\":0},\"margin\":{\"t\":60},\"barmode\":\"relative\",\"title\":{\"text\":\"<b>Number of medals for each sport in Olympics<b>\"},\"height\":600},                        {\"responsive\": true}                    ).then(function(){\n",
              "                            \n",
              "var gd = document.getElementById('db8f7af0-be81-472d-ad81-a094293a36ea');\n",
              "var x = new MutationObserver(function (mutations, observer) {{\n",
              "        var display = window.getComputedStyle(gd).display;\n",
              "        if (!display || display === 'none') {{\n",
              "            console.log([gd, 'removed!']);\n",
              "            Plotly.purge(gd);\n",
              "            observer.disconnect();\n",
              "        }}\n",
              "}});\n",
              "\n",
              "// Listen for the removal of the full notebook cells\n",
              "var notebookContainer = gd.closest('#notebook-container');\n",
              "if (notebookContainer) {{\n",
              "    x.observe(notebookContainer, {childList: true});\n",
              "}}\n",
              "\n",
              "// Listen for the clearing of the current output cell\n",
              "var outputEl = gd.closest('.output');\n",
              "if (outputEl) {{\n",
              "    x.observe(outputEl, {childList: true});\n",
              "}}\n",
              "\n",
              "                        })                };                            </script>        </div>\n",
              "</body>\n",
              "</html>"
            ]
          },
          "metadata": {}
        }
      ]
    },
    {
      "cell_type": "code",
      "source": [
        "#Top-10 Successfull athletes\n",
        "fig = px.bar(t_10, x='Name', y='Medals', color='region', labels={\n",
        "        \"Name\": \"Name of the athlete\",\n",
        "        \"Medals\": \"Total medals won by the athlete\",\n",
        "        \"region\": \"Country of the athlete\"\n",
        "          })\n",
        "fig.update_layout(title='<b>Top-10 Successfull athletes<b>',height=700)"
      ],
      "metadata": {
        "colab": {
          "base_uri": "https://localhost:8080/",
          "height": 717
        },
        "id": "VDwqf4c5S1vH",
        "outputId": "65c3481c-adf8-4d19-a61b-d151deacbc0a"
      },
      "execution_count": 155,
      "outputs": [
        {
          "output_type": "display_data",
          "data": {
            "text/html": [
              "<html>\n",
              "<head><meta charset=\"utf-8\" /></head>\n",
              "<body>\n",
              "    <div>            <script src=\"https://cdnjs.cloudflare.com/ajax/libs/mathjax/2.7.5/MathJax.js?config=TeX-AMS-MML_SVG\"></script><script type=\"text/javascript\">if (window.MathJax) {MathJax.Hub.Config({SVG: {font: \"STIX-Web\"}});}</script>                <script type=\"text/javascript\">window.PlotlyConfig = {MathJaxConfig: 'local'};</script>\n",
              "        <script src=\"https://cdn.plot.ly/plotly-2.8.3.min.js\"></script>                <div id=\"ea0a1601-4b5a-4d06-bfc5-961e8336de2e\" class=\"plotly-graph-div\" style=\"height:700px; width:100%;\"></div>            <script type=\"text/javascript\">                                    window.PLOTLYENV=window.PLOTLYENV || {};                                    if (document.getElementById(\"ea0a1601-4b5a-4d06-bfc5-961e8336de2e\")) {                    Plotly.newPlot(                        \"ea0a1601-4b5a-4d06-bfc5-961e8336de2e\",                        [{\"alignmentgroup\":\"True\",\"hovertemplate\":\"Country of the athlete=USA<br>Name of the athlete=%{x}<br>Total medals won by the athlete=%{y}<extra></extra>\",\"legendgroup\":\"USA\",\"marker\":{\"color\":\"#636efa\",\"pattern\":{\"shape\":\"\"}},\"name\":\"USA\",\"offsetgroup\":\"USA\",\"orientation\":\"v\",\"showlegend\":true,\"textposition\":\"auto\",\"x\":[\"Michael Fred Phelps, II\",\"Jennifer Elisabeth \\\"Jenny\\\" Thompson (-Cumpelik)\"],\"xaxis\":\"x\",\"y\":[28,12],\"yaxis\":\"y\",\"type\":\"bar\"},{\"alignmentgroup\":\"True\",\"hovertemplate\":\"Country of the athlete=Russia<br>Name of the athlete=%{x}<br>Total medals won by the athlete=%{y}<extra></extra>\",\"legendgroup\":\"Russia\",\"marker\":{\"color\":\"#EF553B\",\"pattern\":{\"shape\":\"\"}},\"name\":\"Russia\",\"offsetgroup\":\"Russia\",\"orientation\":\"v\",\"showlegend\":true,\"textposition\":\"auto\",\"x\":[\"Larysa Semenivna Latynina (Diriy-)\",\"Nikolay Yefimovich Andrianov\",\"Borys Anfiyanovych Shakhlin\"],\"xaxis\":\"x\",\"y\":[18,15,13],\"yaxis\":\"y\",\"type\":\"bar\"},{\"alignmentgroup\":\"True\",\"hovertemplate\":\"Country of the athlete=Italy<br>Name of the athlete=%{x}<br>Total medals won by the athlete=%{y}<extra></extra>\",\"legendgroup\":\"Italy\",\"marker\":{\"color\":\"#00cc96\",\"pattern\":{\"shape\":\"\"}},\"name\":\"Italy\",\"offsetgroup\":\"Italy\",\"orientation\":\"v\",\"showlegend\":true,\"textposition\":\"auto\",\"x\":[\"Edoardo Mangiarotti\"],\"xaxis\":\"x\",\"y\":[13],\"yaxis\":\"y\",\"type\":\"bar\"},{\"alignmentgroup\":\"True\",\"hovertemplate\":\"Country of the athlete=Japan<br>Name of the athlete=%{x}<br>Total medals won by the athlete=%{y}<extra></extra>\",\"legendgroup\":\"Japan\",\"marker\":{\"color\":\"#ab63fa\",\"pattern\":{\"shape\":\"\"}},\"name\":\"Japan\",\"offsetgroup\":\"Japan\",\"orientation\":\"v\",\"showlegend\":true,\"textposition\":\"auto\",\"x\":[\"Takashi Ono\"],\"xaxis\":\"x\",\"y\":[13],\"yaxis\":\"y\",\"type\":\"bar\"},{\"alignmentgroup\":\"True\",\"hovertemplate\":\"Country of the athlete=Norway<br>Name of the athlete=%{x}<br>Total medals won by the athlete=%{y}<extra></extra>\",\"legendgroup\":\"Norway\",\"marker\":{\"color\":\"#FFA15A\",\"pattern\":{\"shape\":\"\"}},\"name\":\"Norway\",\"offsetgroup\":\"Norway\",\"orientation\":\"v\",\"showlegend\":true,\"textposition\":\"auto\",\"x\":[\"Ole Einar Bjrndalen\"],\"xaxis\":\"x\",\"y\":[13],\"yaxis\":\"y\",\"type\":\"bar\"},{\"alignmentgroup\":\"True\",\"hovertemplate\":\"Country of the athlete=Germany<br>Name of the athlete=%{x}<br>Total medals won by the athlete=%{y}<extra></extra>\",\"legendgroup\":\"Germany\",\"marker\":{\"color\":\"#19d3f3\",\"pattern\":{\"shape\":\"\"}},\"name\":\"Germany\",\"offsetgroup\":\"Germany\",\"orientation\":\"v\",\"showlegend\":true,\"textposition\":\"auto\",\"x\":[\"Birgit Fischer-Schmidt\"],\"xaxis\":\"x\",\"y\":[12],\"yaxis\":\"y\",\"type\":\"bar\"},{\"alignmentgroup\":\"True\",\"hovertemplate\":\"Country of the athlete=Finland<br>Name of the athlete=%{x}<br>Total medals won by the athlete=%{y}<extra></extra>\",\"legendgroup\":\"Finland\",\"marker\":{\"color\":\"#FF6692\",\"pattern\":{\"shape\":\"\"}},\"name\":\"Finland\",\"offsetgroup\":\"Finland\",\"orientation\":\"v\",\"showlegend\":true,\"textposition\":\"auto\",\"x\":[\"Paavo Johannes Nurmi\"],\"xaxis\":\"x\",\"y\":[12],\"yaxis\":\"y\",\"type\":\"bar\"}],                        {\"template\":{\"data\":{\"bar\":[{\"error_x\":{\"color\":\"#2a3f5f\"},\"error_y\":{\"color\":\"#2a3f5f\"},\"marker\":{\"line\":{\"color\":\"#E5ECF6\",\"width\":0.5},\"pattern\":{\"fillmode\":\"overlay\",\"size\":10,\"solidity\":0.2}},\"type\":\"bar\"}],\"barpolar\":[{\"marker\":{\"line\":{\"color\":\"#E5ECF6\",\"width\":0.5},\"pattern\":{\"fillmode\":\"overlay\",\"size\":10,\"solidity\":0.2}},\"type\":\"barpolar\"}],\"carpet\":[{\"aaxis\":{\"endlinecolor\":\"#2a3f5f\",\"gridcolor\":\"white\",\"linecolor\":\"white\",\"minorgridcolor\":\"white\",\"startlinecolor\":\"#2a3f5f\"},\"baxis\":{\"endlinecolor\":\"#2a3f5f\",\"gridcolor\":\"white\",\"linecolor\":\"white\",\"minorgridcolor\":\"white\",\"startlinecolor\":\"#2a3f5f\"},\"type\":\"carpet\"}],\"choropleth\":[{\"colorbar\":{\"outlinewidth\":0,\"ticks\":\"\"},\"type\":\"choropleth\"}],\"contour\":[{\"colorbar\":{\"outlinewidth\":0,\"ticks\":\"\"},\"colorscale\":[[0.0,\"#0d0887\"],[0.1111111111111111,\"#46039f\"],[0.2222222222222222,\"#7201a8\"],[0.3333333333333333,\"#9c179e\"],[0.4444444444444444,\"#bd3786\"],[0.5555555555555556,\"#d8576b\"],[0.6666666666666666,\"#ed7953\"],[0.7777777777777778,\"#fb9f3a\"],[0.8888888888888888,\"#fdca26\"],[1.0,\"#f0f921\"]],\"type\":\"contour\"}],\"contourcarpet\":[{\"colorbar\":{\"outlinewidth\":0,\"ticks\":\"\"},\"type\":\"contourcarpet\"}],\"heatmap\":[{\"colorbar\":{\"outlinewidth\":0,\"ticks\":\"\"},\"colorscale\":[[0.0,\"#0d0887\"],[0.1111111111111111,\"#46039f\"],[0.2222222222222222,\"#7201a8\"],[0.3333333333333333,\"#9c179e\"],[0.4444444444444444,\"#bd3786\"],[0.5555555555555556,\"#d8576b\"],[0.6666666666666666,\"#ed7953\"],[0.7777777777777778,\"#fb9f3a\"],[0.8888888888888888,\"#fdca26\"],[1.0,\"#f0f921\"]],\"type\":\"heatmap\"}],\"heatmapgl\":[{\"colorbar\":{\"outlinewidth\":0,\"ticks\":\"\"},\"colorscale\":[[0.0,\"#0d0887\"],[0.1111111111111111,\"#46039f\"],[0.2222222222222222,\"#7201a8\"],[0.3333333333333333,\"#9c179e\"],[0.4444444444444444,\"#bd3786\"],[0.5555555555555556,\"#d8576b\"],[0.6666666666666666,\"#ed7953\"],[0.7777777777777778,\"#fb9f3a\"],[0.8888888888888888,\"#fdca26\"],[1.0,\"#f0f921\"]],\"type\":\"heatmapgl\"}],\"histogram\":[{\"marker\":{\"pattern\":{\"fillmode\":\"overlay\",\"size\":10,\"solidity\":0.2}},\"type\":\"histogram\"}],\"histogram2d\":[{\"colorbar\":{\"outlinewidth\":0,\"ticks\":\"\"},\"colorscale\":[[0.0,\"#0d0887\"],[0.1111111111111111,\"#46039f\"],[0.2222222222222222,\"#7201a8\"],[0.3333333333333333,\"#9c179e\"],[0.4444444444444444,\"#bd3786\"],[0.5555555555555556,\"#d8576b\"],[0.6666666666666666,\"#ed7953\"],[0.7777777777777778,\"#fb9f3a\"],[0.8888888888888888,\"#fdca26\"],[1.0,\"#f0f921\"]],\"type\":\"histogram2d\"}],\"histogram2dcontour\":[{\"colorbar\":{\"outlinewidth\":0,\"ticks\":\"\"},\"colorscale\":[[0.0,\"#0d0887\"],[0.1111111111111111,\"#46039f\"],[0.2222222222222222,\"#7201a8\"],[0.3333333333333333,\"#9c179e\"],[0.4444444444444444,\"#bd3786\"],[0.5555555555555556,\"#d8576b\"],[0.6666666666666666,\"#ed7953\"],[0.7777777777777778,\"#fb9f3a\"],[0.8888888888888888,\"#fdca26\"],[1.0,\"#f0f921\"]],\"type\":\"histogram2dcontour\"}],\"mesh3d\":[{\"colorbar\":{\"outlinewidth\":0,\"ticks\":\"\"},\"type\":\"mesh3d\"}],\"parcoords\":[{\"line\":{\"colorbar\":{\"outlinewidth\":0,\"ticks\":\"\"}},\"type\":\"parcoords\"}],\"pie\":[{\"automargin\":true,\"type\":\"pie\"}],\"scatter\":[{\"marker\":{\"colorbar\":{\"outlinewidth\":0,\"ticks\":\"\"}},\"type\":\"scatter\"}],\"scatter3d\":[{\"line\":{\"colorbar\":{\"outlinewidth\":0,\"ticks\":\"\"}},\"marker\":{\"colorbar\":{\"outlinewidth\":0,\"ticks\":\"\"}},\"type\":\"scatter3d\"}],\"scattercarpet\":[{\"marker\":{\"colorbar\":{\"outlinewidth\":0,\"ticks\":\"\"}},\"type\":\"scattercarpet\"}],\"scattergeo\":[{\"marker\":{\"colorbar\":{\"outlinewidth\":0,\"ticks\":\"\"}},\"type\":\"scattergeo\"}],\"scattergl\":[{\"marker\":{\"colorbar\":{\"outlinewidth\":0,\"ticks\":\"\"}},\"type\":\"scattergl\"}],\"scattermapbox\":[{\"marker\":{\"colorbar\":{\"outlinewidth\":0,\"ticks\":\"\"}},\"type\":\"scattermapbox\"}],\"scatterpolar\":[{\"marker\":{\"colorbar\":{\"outlinewidth\":0,\"ticks\":\"\"}},\"type\":\"scatterpolar\"}],\"scatterpolargl\":[{\"marker\":{\"colorbar\":{\"outlinewidth\":0,\"ticks\":\"\"}},\"type\":\"scatterpolargl\"}],\"scatterternary\":[{\"marker\":{\"colorbar\":{\"outlinewidth\":0,\"ticks\":\"\"}},\"type\":\"scatterternary\"}],\"surface\":[{\"colorbar\":{\"outlinewidth\":0,\"ticks\":\"\"},\"colorscale\":[[0.0,\"#0d0887\"],[0.1111111111111111,\"#46039f\"],[0.2222222222222222,\"#7201a8\"],[0.3333333333333333,\"#9c179e\"],[0.4444444444444444,\"#bd3786\"],[0.5555555555555556,\"#d8576b\"],[0.6666666666666666,\"#ed7953\"],[0.7777777777777778,\"#fb9f3a\"],[0.8888888888888888,\"#fdca26\"],[1.0,\"#f0f921\"]],\"type\":\"surface\"}],\"table\":[{\"cells\":{\"fill\":{\"color\":\"#EBF0F8\"},\"line\":{\"color\":\"white\"}},\"header\":{\"fill\":{\"color\":\"#C8D4E3\"},\"line\":{\"color\":\"white\"}},\"type\":\"table\"}]},\"layout\":{\"annotationdefaults\":{\"arrowcolor\":\"#2a3f5f\",\"arrowhead\":0,\"arrowwidth\":1},\"autotypenumbers\":\"strict\",\"coloraxis\":{\"colorbar\":{\"outlinewidth\":0,\"ticks\":\"\"}},\"colorscale\":{\"diverging\":[[0,\"#8e0152\"],[0.1,\"#c51b7d\"],[0.2,\"#de77ae\"],[0.3,\"#f1b6da\"],[0.4,\"#fde0ef\"],[0.5,\"#f7f7f7\"],[0.6,\"#e6f5d0\"],[0.7,\"#b8e186\"],[0.8,\"#7fbc41\"],[0.9,\"#4d9221\"],[1,\"#276419\"]],\"sequential\":[[0.0,\"#0d0887\"],[0.1111111111111111,\"#46039f\"],[0.2222222222222222,\"#7201a8\"],[0.3333333333333333,\"#9c179e\"],[0.4444444444444444,\"#bd3786\"],[0.5555555555555556,\"#d8576b\"],[0.6666666666666666,\"#ed7953\"],[0.7777777777777778,\"#fb9f3a\"],[0.8888888888888888,\"#fdca26\"],[1.0,\"#f0f921\"]],\"sequentialminus\":[[0.0,\"#0d0887\"],[0.1111111111111111,\"#46039f\"],[0.2222222222222222,\"#7201a8\"],[0.3333333333333333,\"#9c179e\"],[0.4444444444444444,\"#bd3786\"],[0.5555555555555556,\"#d8576b\"],[0.6666666666666666,\"#ed7953\"],[0.7777777777777778,\"#fb9f3a\"],[0.8888888888888888,\"#fdca26\"],[1.0,\"#f0f921\"]]},\"colorway\":[\"#636efa\",\"#EF553B\",\"#00cc96\",\"#ab63fa\",\"#FFA15A\",\"#19d3f3\",\"#FF6692\",\"#B6E880\",\"#FF97FF\",\"#FECB52\"],\"font\":{\"color\":\"#2a3f5f\"},\"geo\":{\"bgcolor\":\"white\",\"lakecolor\":\"white\",\"landcolor\":\"#E5ECF6\",\"showlakes\":true,\"showland\":true,\"subunitcolor\":\"white\"},\"hoverlabel\":{\"align\":\"left\"},\"hovermode\":\"closest\",\"mapbox\":{\"style\":\"light\"},\"paper_bgcolor\":\"white\",\"plot_bgcolor\":\"#E5ECF6\",\"polar\":{\"angularaxis\":{\"gridcolor\":\"white\",\"linecolor\":\"white\",\"ticks\":\"\"},\"bgcolor\":\"#E5ECF6\",\"radialaxis\":{\"gridcolor\":\"white\",\"linecolor\":\"white\",\"ticks\":\"\"}},\"scene\":{\"xaxis\":{\"backgroundcolor\":\"#E5ECF6\",\"gridcolor\":\"white\",\"gridwidth\":2,\"linecolor\":\"white\",\"showbackground\":true,\"ticks\":\"\",\"zerolinecolor\":\"white\"},\"yaxis\":{\"backgroundcolor\":\"#E5ECF6\",\"gridcolor\":\"white\",\"gridwidth\":2,\"linecolor\":\"white\",\"showbackground\":true,\"ticks\":\"\",\"zerolinecolor\":\"white\"},\"zaxis\":{\"backgroundcolor\":\"#E5ECF6\",\"gridcolor\":\"white\",\"gridwidth\":2,\"linecolor\":\"white\",\"showbackground\":true,\"ticks\":\"\",\"zerolinecolor\":\"white\"}},\"shapedefaults\":{\"line\":{\"color\":\"#2a3f5f\"}},\"ternary\":{\"aaxis\":{\"gridcolor\":\"white\",\"linecolor\":\"white\",\"ticks\":\"\"},\"baxis\":{\"gridcolor\":\"white\",\"linecolor\":\"white\",\"ticks\":\"\"},\"bgcolor\":\"#E5ECF6\",\"caxis\":{\"gridcolor\":\"white\",\"linecolor\":\"white\",\"ticks\":\"\"}},\"title\":{\"x\":0.05},\"xaxis\":{\"automargin\":true,\"gridcolor\":\"white\",\"linecolor\":\"white\",\"ticks\":\"\",\"title\":{\"standoff\":15},\"zerolinecolor\":\"white\",\"zerolinewidth\":2},\"yaxis\":{\"automargin\":true,\"gridcolor\":\"white\",\"linecolor\":\"white\",\"ticks\":\"\",\"title\":{\"standoff\":15},\"zerolinecolor\":\"white\",\"zerolinewidth\":2}}},\"xaxis\":{\"anchor\":\"y\",\"domain\":[0.0,1.0],\"title\":{\"text\":\"Name of the athlete\"}},\"yaxis\":{\"anchor\":\"x\",\"domain\":[0.0,1.0],\"title\":{\"text\":\"Total medals won by the athlete\"}},\"legend\":{\"title\":{\"text\":\"Country of the athlete\"},\"tracegroupgap\":0},\"margin\":{\"t\":60},\"barmode\":\"relative\",\"title\":{\"text\":\"<b>Top-10 Successfull athletes<b>\"},\"height\":700},                        {\"responsive\": true}                    ).then(function(){\n",
              "                            \n",
              "var gd = document.getElementById('ea0a1601-4b5a-4d06-bfc5-961e8336de2e');\n",
              "var x = new MutationObserver(function (mutations, observer) {{\n",
              "        var display = window.getComputedStyle(gd).display;\n",
              "        if (!display || display === 'none') {{\n",
              "            console.log([gd, 'removed!']);\n",
              "            Plotly.purge(gd);\n",
              "            observer.disconnect();\n",
              "        }}\n",
              "}});\n",
              "\n",
              "// Listen for the removal of the full notebook cells\n",
              "var notebookContainer = gd.closest('#notebook-container');\n",
              "if (notebookContainer) {{\n",
              "    x.observe(notebookContainer, {childList: true});\n",
              "}}\n",
              "\n",
              "// Listen for the clearing of the current output cell\n",
              "var outputEl = gd.closest('.output');\n",
              "if (outputEl) {{\n",
              "    x.observe(outputEl, {childList: true});\n",
              "}}\n",
              "\n",
              "                        })                };                            </script>        </div>\n",
              "</body>\n",
              "</html>"
            ]
          },
          "metadata": {}
        }
      ]
    },
    {
      "cell_type": "code",
      "source": [
        "#Top-15 athlete of USA\n",
        "fig = px.bar(y, x='Name', y='Medals', color='Sport', labels={\n",
        "            \"Name\": \"Name of the athletes\",\n",
        "            \"Medals\": \"Total medals won by the athletes\",\n",
        "            \"Sport\": \"Sports played by the athletes\"\n",
        "            },)\n",
        "fig.update_layout(title='<b>Top-15 athlete of USA<b>',height=700)"
      ],
      "metadata": {
        "colab": {
          "base_uri": "https://localhost:8080/",
          "height": 717
        },
        "id": "eoGTLj362Ljg",
        "outputId": "8e4eb8ae-b71e-4996-fc83-ce0e4fcee789"
      },
      "execution_count": 156,
      "outputs": [
        {
          "output_type": "display_data",
          "data": {
            "text/html": [
              "<html>\n",
              "<head><meta charset=\"utf-8\" /></head>\n",
              "<body>\n",
              "    <div>            <script src=\"https://cdnjs.cloudflare.com/ajax/libs/mathjax/2.7.5/MathJax.js?config=TeX-AMS-MML_SVG\"></script><script type=\"text/javascript\">if (window.MathJax) {MathJax.Hub.Config({SVG: {font: \"STIX-Web\"}});}</script>                <script type=\"text/javascript\">window.PlotlyConfig = {MathJaxConfig: 'local'};</script>\n",
              "        <script src=\"https://cdn.plot.ly/plotly-2.8.3.min.js\"></script>                <div id=\"70545c6c-8e39-4e58-a55e-3935782f0757\" class=\"plotly-graph-div\" style=\"height:700px; width:100%;\"></div>            <script type=\"text/javascript\">                                    window.PLOTLYENV=window.PLOTLYENV || {};                                    if (document.getElementById(\"70545c6c-8e39-4e58-a55e-3935782f0757\")) {                    Plotly.newPlot(                        \"70545c6c-8e39-4e58-a55e-3935782f0757\",                        [{\"alignmentgroup\":\"True\",\"hovertemplate\":\"Sports played by the athletes=Swimming<br>Name of the athletes=%{x}<br>Total medals won by the athletes=%{y}<extra></extra>\",\"legendgroup\":\"Swimming\",\"marker\":{\"color\":\"#636efa\",\"pattern\":{\"shape\":\"\"}},\"name\":\"Swimming\",\"offsetgroup\":\"Swimming\",\"orientation\":\"v\",\"showlegend\":true,\"textposition\":\"auto\",\"x\":[\"Michael Fred Phelps, II\",\"Jennifer Elisabeth \\\"Jenny\\\" Thompson (-Cumpelik)\",\"Dara Grace Torres (-Hoffman, -Minas)\",\"Ryan Steven Lochte\",\"Natalie Anne Coughlin (-Hall)\",\"Mark Andrew Spitz\",\"Matthew Nicholas \\\"Matt\\\" Biondi\",\"Gary Wayne Hall, Jr.\",\"Shirley Frances Babashoff\",\"Jason Edward Lezak\"],\"xaxis\":\"x\",\"y\":[28,12,12,12,12,11,11,10,9,8],\"yaxis\":\"y\",\"type\":\"bar\"},{\"alignmentgroup\":\"True\",\"hovertemplate\":\"Sports played by the athletes=Shooting<br>Name of the athletes=%{x}<br>Total medals won by the athletes=%{y}<extra></extra>\",\"legendgroup\":\"Shooting\",\"marker\":{\"color\":\"#EF553B\",\"pattern\":{\"shape\":\"\"}},\"name\":\"Shooting\",\"offsetgroup\":\"Shooting\",\"orientation\":\"v\",\"showlegend\":true,\"textposition\":\"auto\",\"x\":[\"Carl Townsend Osburn\"],\"xaxis\":\"x\",\"y\":[11],\"yaxis\":\"y\",\"type\":\"bar\"},{\"alignmentgroup\":\"True\",\"hovertemplate\":\"Sports played by the athletes=Athletics<br>Name of the athletes=%{x}<br>Total medals won by the athletes=%{y}<extra></extra>\",\"legendgroup\":\"Athletics\",\"marker\":{\"color\":\"#00cc96\",\"pattern\":{\"shape\":\"\"}},\"name\":\"Athletics\",\"offsetgroup\":\"Athletics\",\"orientation\":\"v\",\"showlegend\":true,\"textposition\":\"auto\",\"x\":[\"Raymond Clarence \\\"Ray\\\" Ewry\",\"Frederick Carlton \\\"Carl\\\" Lewis\",\"Martin Joseph Sheridan\",\"Allyson Michelle Felix\"],\"xaxis\":\"x\",\"y\":[10,10,9,9],\"yaxis\":\"y\",\"type\":\"bar\"}],                        {\"template\":{\"data\":{\"bar\":[{\"error_x\":{\"color\":\"#2a3f5f\"},\"error_y\":{\"color\":\"#2a3f5f\"},\"marker\":{\"line\":{\"color\":\"#E5ECF6\",\"width\":0.5},\"pattern\":{\"fillmode\":\"overlay\",\"size\":10,\"solidity\":0.2}},\"type\":\"bar\"}],\"barpolar\":[{\"marker\":{\"line\":{\"color\":\"#E5ECF6\",\"width\":0.5},\"pattern\":{\"fillmode\":\"overlay\",\"size\":10,\"solidity\":0.2}},\"type\":\"barpolar\"}],\"carpet\":[{\"aaxis\":{\"endlinecolor\":\"#2a3f5f\",\"gridcolor\":\"white\",\"linecolor\":\"white\",\"minorgridcolor\":\"white\",\"startlinecolor\":\"#2a3f5f\"},\"baxis\":{\"endlinecolor\":\"#2a3f5f\",\"gridcolor\":\"white\",\"linecolor\":\"white\",\"minorgridcolor\":\"white\",\"startlinecolor\":\"#2a3f5f\"},\"type\":\"carpet\"}],\"choropleth\":[{\"colorbar\":{\"outlinewidth\":0,\"ticks\":\"\"},\"type\":\"choropleth\"}],\"contour\":[{\"colorbar\":{\"outlinewidth\":0,\"ticks\":\"\"},\"colorscale\":[[0.0,\"#0d0887\"],[0.1111111111111111,\"#46039f\"],[0.2222222222222222,\"#7201a8\"],[0.3333333333333333,\"#9c179e\"],[0.4444444444444444,\"#bd3786\"],[0.5555555555555556,\"#d8576b\"],[0.6666666666666666,\"#ed7953\"],[0.7777777777777778,\"#fb9f3a\"],[0.8888888888888888,\"#fdca26\"],[1.0,\"#f0f921\"]],\"type\":\"contour\"}],\"contourcarpet\":[{\"colorbar\":{\"outlinewidth\":0,\"ticks\":\"\"},\"type\":\"contourcarpet\"}],\"heatmap\":[{\"colorbar\":{\"outlinewidth\":0,\"ticks\":\"\"},\"colorscale\":[[0.0,\"#0d0887\"],[0.1111111111111111,\"#46039f\"],[0.2222222222222222,\"#7201a8\"],[0.3333333333333333,\"#9c179e\"],[0.4444444444444444,\"#bd3786\"],[0.5555555555555556,\"#d8576b\"],[0.6666666666666666,\"#ed7953\"],[0.7777777777777778,\"#fb9f3a\"],[0.8888888888888888,\"#fdca26\"],[1.0,\"#f0f921\"]],\"type\":\"heatmap\"}],\"heatmapgl\":[{\"colorbar\":{\"outlinewidth\":0,\"ticks\":\"\"},\"colorscale\":[[0.0,\"#0d0887\"],[0.1111111111111111,\"#46039f\"],[0.2222222222222222,\"#7201a8\"],[0.3333333333333333,\"#9c179e\"],[0.4444444444444444,\"#bd3786\"],[0.5555555555555556,\"#d8576b\"],[0.6666666666666666,\"#ed7953\"],[0.7777777777777778,\"#fb9f3a\"],[0.8888888888888888,\"#fdca26\"],[1.0,\"#f0f921\"]],\"type\":\"heatmapgl\"}],\"histogram\":[{\"marker\":{\"pattern\":{\"fillmode\":\"overlay\",\"size\":10,\"solidity\":0.2}},\"type\":\"histogram\"}],\"histogram2d\":[{\"colorbar\":{\"outlinewidth\":0,\"ticks\":\"\"},\"colorscale\":[[0.0,\"#0d0887\"],[0.1111111111111111,\"#46039f\"],[0.2222222222222222,\"#7201a8\"],[0.3333333333333333,\"#9c179e\"],[0.4444444444444444,\"#bd3786\"],[0.5555555555555556,\"#d8576b\"],[0.6666666666666666,\"#ed7953\"],[0.7777777777777778,\"#fb9f3a\"],[0.8888888888888888,\"#fdca26\"],[1.0,\"#f0f921\"]],\"type\":\"histogram2d\"}],\"histogram2dcontour\":[{\"colorbar\":{\"outlinewidth\":0,\"ticks\":\"\"},\"colorscale\":[[0.0,\"#0d0887\"],[0.1111111111111111,\"#46039f\"],[0.2222222222222222,\"#7201a8\"],[0.3333333333333333,\"#9c179e\"],[0.4444444444444444,\"#bd3786\"],[0.5555555555555556,\"#d8576b\"],[0.6666666666666666,\"#ed7953\"],[0.7777777777777778,\"#fb9f3a\"],[0.8888888888888888,\"#fdca26\"],[1.0,\"#f0f921\"]],\"type\":\"histogram2dcontour\"}],\"mesh3d\":[{\"colorbar\":{\"outlinewidth\":0,\"ticks\":\"\"},\"type\":\"mesh3d\"}],\"parcoords\":[{\"line\":{\"colorbar\":{\"outlinewidth\":0,\"ticks\":\"\"}},\"type\":\"parcoords\"}],\"pie\":[{\"automargin\":true,\"type\":\"pie\"}],\"scatter\":[{\"marker\":{\"colorbar\":{\"outlinewidth\":0,\"ticks\":\"\"}},\"type\":\"scatter\"}],\"scatter3d\":[{\"line\":{\"colorbar\":{\"outlinewidth\":0,\"ticks\":\"\"}},\"marker\":{\"colorbar\":{\"outlinewidth\":0,\"ticks\":\"\"}},\"type\":\"scatter3d\"}],\"scattercarpet\":[{\"marker\":{\"colorbar\":{\"outlinewidth\":0,\"ticks\":\"\"}},\"type\":\"scattercarpet\"}],\"scattergeo\":[{\"marker\":{\"colorbar\":{\"outlinewidth\":0,\"ticks\":\"\"}},\"type\":\"scattergeo\"}],\"scattergl\":[{\"marker\":{\"colorbar\":{\"outlinewidth\":0,\"ticks\":\"\"}},\"type\":\"scattergl\"}],\"scattermapbox\":[{\"marker\":{\"colorbar\":{\"outlinewidth\":0,\"ticks\":\"\"}},\"type\":\"scattermapbox\"}],\"scatterpolar\":[{\"marker\":{\"colorbar\":{\"outlinewidth\":0,\"ticks\":\"\"}},\"type\":\"scatterpolar\"}],\"scatterpolargl\":[{\"marker\":{\"colorbar\":{\"outlinewidth\":0,\"ticks\":\"\"}},\"type\":\"scatterpolargl\"}],\"scatterternary\":[{\"marker\":{\"colorbar\":{\"outlinewidth\":0,\"ticks\":\"\"}},\"type\":\"scatterternary\"}],\"surface\":[{\"colorbar\":{\"outlinewidth\":0,\"ticks\":\"\"},\"colorscale\":[[0.0,\"#0d0887\"],[0.1111111111111111,\"#46039f\"],[0.2222222222222222,\"#7201a8\"],[0.3333333333333333,\"#9c179e\"],[0.4444444444444444,\"#bd3786\"],[0.5555555555555556,\"#d8576b\"],[0.6666666666666666,\"#ed7953\"],[0.7777777777777778,\"#fb9f3a\"],[0.8888888888888888,\"#fdca26\"],[1.0,\"#f0f921\"]],\"type\":\"surface\"}],\"table\":[{\"cells\":{\"fill\":{\"color\":\"#EBF0F8\"},\"line\":{\"color\":\"white\"}},\"header\":{\"fill\":{\"color\":\"#C8D4E3\"},\"line\":{\"color\":\"white\"}},\"type\":\"table\"}]},\"layout\":{\"annotationdefaults\":{\"arrowcolor\":\"#2a3f5f\",\"arrowhead\":0,\"arrowwidth\":1},\"autotypenumbers\":\"strict\",\"coloraxis\":{\"colorbar\":{\"outlinewidth\":0,\"ticks\":\"\"}},\"colorscale\":{\"diverging\":[[0,\"#8e0152\"],[0.1,\"#c51b7d\"],[0.2,\"#de77ae\"],[0.3,\"#f1b6da\"],[0.4,\"#fde0ef\"],[0.5,\"#f7f7f7\"],[0.6,\"#e6f5d0\"],[0.7,\"#b8e186\"],[0.8,\"#7fbc41\"],[0.9,\"#4d9221\"],[1,\"#276419\"]],\"sequential\":[[0.0,\"#0d0887\"],[0.1111111111111111,\"#46039f\"],[0.2222222222222222,\"#7201a8\"],[0.3333333333333333,\"#9c179e\"],[0.4444444444444444,\"#bd3786\"],[0.5555555555555556,\"#d8576b\"],[0.6666666666666666,\"#ed7953\"],[0.7777777777777778,\"#fb9f3a\"],[0.8888888888888888,\"#fdca26\"],[1.0,\"#f0f921\"]],\"sequentialminus\":[[0.0,\"#0d0887\"],[0.1111111111111111,\"#46039f\"],[0.2222222222222222,\"#7201a8\"],[0.3333333333333333,\"#9c179e\"],[0.4444444444444444,\"#bd3786\"],[0.5555555555555556,\"#d8576b\"],[0.6666666666666666,\"#ed7953\"],[0.7777777777777778,\"#fb9f3a\"],[0.8888888888888888,\"#fdca26\"],[1.0,\"#f0f921\"]]},\"colorway\":[\"#636efa\",\"#EF553B\",\"#00cc96\",\"#ab63fa\",\"#FFA15A\",\"#19d3f3\",\"#FF6692\",\"#B6E880\",\"#FF97FF\",\"#FECB52\"],\"font\":{\"color\":\"#2a3f5f\"},\"geo\":{\"bgcolor\":\"white\",\"lakecolor\":\"white\",\"landcolor\":\"#E5ECF6\",\"showlakes\":true,\"showland\":true,\"subunitcolor\":\"white\"},\"hoverlabel\":{\"align\":\"left\"},\"hovermode\":\"closest\",\"mapbox\":{\"style\":\"light\"},\"paper_bgcolor\":\"white\",\"plot_bgcolor\":\"#E5ECF6\",\"polar\":{\"angularaxis\":{\"gridcolor\":\"white\",\"linecolor\":\"white\",\"ticks\":\"\"},\"bgcolor\":\"#E5ECF6\",\"radialaxis\":{\"gridcolor\":\"white\",\"linecolor\":\"white\",\"ticks\":\"\"}},\"scene\":{\"xaxis\":{\"backgroundcolor\":\"#E5ECF6\",\"gridcolor\":\"white\",\"gridwidth\":2,\"linecolor\":\"white\",\"showbackground\":true,\"ticks\":\"\",\"zerolinecolor\":\"white\"},\"yaxis\":{\"backgroundcolor\":\"#E5ECF6\",\"gridcolor\":\"white\",\"gridwidth\":2,\"linecolor\":\"white\",\"showbackground\":true,\"ticks\":\"\",\"zerolinecolor\":\"white\"},\"zaxis\":{\"backgroundcolor\":\"#E5ECF6\",\"gridcolor\":\"white\",\"gridwidth\":2,\"linecolor\":\"white\",\"showbackground\":true,\"ticks\":\"\",\"zerolinecolor\":\"white\"}},\"shapedefaults\":{\"line\":{\"color\":\"#2a3f5f\"}},\"ternary\":{\"aaxis\":{\"gridcolor\":\"white\",\"linecolor\":\"white\",\"ticks\":\"\"},\"baxis\":{\"gridcolor\":\"white\",\"linecolor\":\"white\",\"ticks\":\"\"},\"bgcolor\":\"#E5ECF6\",\"caxis\":{\"gridcolor\":\"white\",\"linecolor\":\"white\",\"ticks\":\"\"}},\"title\":{\"x\":0.05},\"xaxis\":{\"automargin\":true,\"gridcolor\":\"white\",\"linecolor\":\"white\",\"ticks\":\"\",\"title\":{\"standoff\":15},\"zerolinecolor\":\"white\",\"zerolinewidth\":2},\"yaxis\":{\"automargin\":true,\"gridcolor\":\"white\",\"linecolor\":\"white\",\"ticks\":\"\",\"title\":{\"standoff\":15},\"zerolinecolor\":\"white\",\"zerolinewidth\":2}}},\"xaxis\":{\"anchor\":\"y\",\"domain\":[0.0,1.0],\"title\":{\"text\":\"Name of the athletes\"}},\"yaxis\":{\"anchor\":\"x\",\"domain\":[0.0,1.0],\"title\":{\"text\":\"Total medals won by the athletes\"}},\"legend\":{\"title\":{\"text\":\"Sports played by the athletes\"},\"tracegroupgap\":0},\"margin\":{\"t\":60},\"barmode\":\"relative\",\"title\":{\"text\":\"<b>Top-15 athlete of USA<b>\"},\"height\":700},                        {\"responsive\": true}                    ).then(function(){\n",
              "                            \n",
              "var gd = document.getElementById('70545c6c-8e39-4e58-a55e-3935782f0757');\n",
              "var x = new MutationObserver(function (mutations, observer) {{\n",
              "        var display = window.getComputedStyle(gd).display;\n",
              "        if (!display || display === 'none') {{\n",
              "            console.log([gd, 'removed!']);\n",
              "            Plotly.purge(gd);\n",
              "            observer.disconnect();\n",
              "        }}\n",
              "}});\n",
              "\n",
              "// Listen for the removal of the full notebook cells\n",
              "var notebookContainer = gd.closest('#notebook-container');\n",
              "if (notebookContainer) {{\n",
              "    x.observe(notebookContainer, {childList: true});\n",
              "}}\n",
              "\n",
              "// Listen for the clearing of the current output cell\n",
              "var outputEl = gd.closest('.output');\n",
              "if (outputEl) {{\n",
              "    x.observe(outputEl, {childList: true});\n",
              "}}\n",
              "\n",
              "                        })                };                            </script>        </div>\n",
              "</body>\n",
              "</html>"
            ]
          },
          "metadata": {}
        }
      ]
    },
    {
      "cell_type": "markdown",
      "source": [
        "**HEIGHT ,WEIGHT AND AGE DISTRIBUTION**"
      ],
      "metadata": {
        "id": "VfY8JyZOhNQR"
      }
    },
    {
      "cell_type": "code",
      "source": [
        "#scatterplot for distribution of height weight age\n",
        "fig = px.scatter(df, x=\"Height\", y=\"Weight\",color='Age',title=\"<b>Variation Of Height , Weight and Age </b>\")\n",
        "fig.update_layout(autosize=True)\n",
        "fig.show()"
      ],
      "metadata": {
        "colab": {
          "base_uri": "https://localhost:8080/",
          "height": 542
        },
        "id": "8MrSEVGBQaqY",
        "outputId": "287aa4dc-3397-4dd1-9030-a81b069bc7a6"
      },
      "execution_count": 157,
      "outputs": [
        {
          "output_type": "display_data",
          "data": {
            "text/html": [
              "<html>\n",
              "<head><meta charset=\"utf-8\" /></head>\n",
              "<body>\n",
              "    <div>            <script src=\"https://cdnjs.cloudflare.com/ajax/libs/mathjax/2.7.5/MathJax.js?config=TeX-AMS-MML_SVG\"></script><script type=\"text/javascript\">if (window.MathJax) {MathJax.Hub.Config({SVG: {font: \"STIX-Web\"}});}</script>                <script type=\"text/javascript\">window.PlotlyConfig = {MathJaxConfig: 'local'};</script>\n",
              "        <script src=\"https://cdn.plot.ly/plotly-2.8.3.min.js\"></script>                <div id=\"3c5a57a6-6b77-41ca-8981-f75aeb2662f5\" class=\"plotly-graph-div\" style=\"height:525px; width:100%;\"></div>            <script type=\"text/javascript\">                                    window.PLOTLYENV=window.PLOTLYENV || {};                                    if (document.getElementById(\"3c5a57a6-6b77-41ca-8981-f75aeb2662f5\")) {                    Plotly.newPlot(                        \"3c5a57a6-6b77-41ca-8981-f75aeb2662f5\",                        [{\"hovertemplate\":\"Height=%{x}<br>Weight=%{y}<br>Age=%{marker.color}<extra></extra>\",\"legendgroup\":\"\",\"marker\":{\"color\":[34,30,30,28,28,28,28,28,32,20,20,22,22,22,30,30,34,27,24,22,26,23,20,23,31,25,21,21,30,21,22,28,23,27,31,22,22,26,28,26,21,38,30,22,25,22,29,34,22,26,30,25,29,33,25,21,28,23,23,20,26,21,38,23,26,26,25,29,23,30,26,28,21,22,23,35,19,20,20,22,15,19,22,19,19,22,17,25,29,19,19,19,24,24,24,22,22,30,21,21,21,25,21,29,24,24,21,22,31,25,24,23,23,28,22,23,27,20,26,25,20,16,24,20,21,21,19,18,24,29,27,30,27,31,22,27,22,24,24,28,26,26,28,28,24,20,23,27,23,21,25,24,26,24,22,22,22,36,31,21,25,29,33,27,27,26,24,23,27,31,29,26,23,17,25,22,19,24,28,22,25,23,26,27,18,20,26,32,26,23,16,37,45,39,19,19,27,19,19,23,23,26,19,23,23,23,27,27,27,27,25,29,21,30,24,20,22,20,22,28,25,27,16,16,24,27,26,23,47,20,24,28,29,33,20,20,20,18,23,26,24,27,19,23,23,39,20,25,19,20,23,20,27,23,26,21,32,23,22,21,32,27,44,24,26,24,19,29,41,25,31,29,23,34,22,22,22,20,21,25,21,24,28,27,27,30,23,26,24,28,30,23,28,23,16,26,30,26,30,34,24,27,32,23,21,21,25,25,21,28,23,19,23,27,31,35,22,25,34,27,30,21,25,29,20,35,17,20,27,31,35,23,20,24,25,33,33,19,27,23,24,25,25,23,24,28,20,30,25,18,21,25,29,29,29,21,28,21,34,23,26,25,23,22,24,27,22,24,28,19,23,25,26,30,26,29,21,25,26,17,23,22,41,33,45,49,40,31,25,40,52,27,23,26,33,23,26,30,25,22,30,25,31,31,33,33,37,26,24,23,20,29,25,25,25,18,29,30,26,20,19,25,25,17,31,39,16,20,23,24,30,20,24,25,25,25,22,17,23,27,26,30,28,32,36,20,20,22,26,30,26,19,23,20,24,30,34,17,26,30,22,26,24,26,21,26,27,24,23,24,28,18,22,26,26,23,27,33,21,30,19,19,22,33,41,20,23,35,27,37,25,27,30,22,17,29,30,30,41,45,22,22,26,22,29,32,25,26,30,28,17,18,44,44,44,19,23,26,25,22,40,44,18,24,21,34,26,20,25,25,30,34,14,32,25,29,21,25,29,26,44,30,23,54,54,27,21,31,15,34,31,29,20,24,22,29,25,39,20,28,30,31,28,20,25,28,23,22,22,22,26,26,30,30,23,23,23,28,27,31,29,26,25,18,19,17,21,20,24,33,22,21,25,26,30,23,23,25,33,37,29,28,28,28,25,21,23,26,19,16,16,16,16,16,20,20,20,20,23,19,23,24,28,26,34,34,34,20,18,30,45,26,25,33,24,28,21,22,21,19,14,23,25,31,28,23,29,26,28,27,29,20,20,28,28,21,43,23,31,31,31,24,29,18,26,35,35,24,40,24,29,27,36,36,44,19,22,26,23,27,25,20,31,22,22,25,23,23,27,28,32,18,20,20,20,20,28,28,28,28,20,19,19,23,23,26,24,33,24,16,23,19,23,20,27,26,28,28,32,31,32,22,21,26,27,23,23,20,23,27,27,23,29,31,20,19,28,27,21,21,28,28,28,22,26,34,29,28,23,30,23,44,23,28,28,30,24,27,21,30,20,30,34,21,22,20,33,23,20,23,25,29,24,20,23,34,25,33,29,25,29,33,24,30,22,33,23,22,25,40,22,21,23,23,23,31,31,35,35,33,17,27,44,20,23,30,27,23,24,28,31,35,26,30,22,22,23,29,30,24,26,30,34,34,21,28,25,29,21,25,33,22,26,25,30,27,29,32,21,29,23,23,19,24,28,26,30,29,26,46,31,22,26,21,25,18,30,47,24,18,24,28,27,25,24,29,26,30,26,23,25,30,25,25,26,24,28,32,16,16,27,27,24,24,21,21,27,46,46,24,23,34,21,25,19,19,19,23,23,23,23,23,23,23,27,27,27,27,27,25,22,26,29,33,28,25,27,22,22,26,33,21,21,21,24,25,29,26,29,20,24,24,24,28,24,28,28,32,26,27,34,40,34,23,21,20,31,24,28,28,27,31,26,24,28,22,26,26,26,18,18,24,40,56,22,23,23,27,27,31,31,24,28,33,28,28,22,26,18,31,35,32,36,40,35,24,29,26,30,30,38,42,24,30,27,28,31,20,24,28,32,25,22,40,26,29,26,24,28,28,34,30,30,25,25,25,29,28,23,22,25,36,23,27,30,25,20,25,32,36,23,23,31,31,26,20,24,28,29,19,24,28,22,29,21,21,25,24,24,28,32,23,25,23,25,24,26,26,27,26,30,21,21,22,22,26,30,26,22,21,27,27,25,28,30,26,28,27,25,19,19,24,27,22,20,21,23,27,29,30,32,18,22,26,26,25,28,27,21,23,25,26,25,27,22,24,24,22,20,28,22,27,31,24,28,21,41,25,27,35,19,36,24,38,38,23,25,29,26,23,27,37,31,23,26,26,21,25,20,25,25,20,19,23,23,24,30,25,29,22,20,20,20,27,26,30,31,34,38,42,20,26,23,27,22,19,28,36,28,23,23,21,21,25,21,25,25,22,28,28,22,28,27,29,27,27,22,24,30,22,26,23,26,18,27,17,25,29,21,22,21,18,36,42,24,28,23,23,23,23,23,27,20,43,47,21,25,20,19,25,24,34,19,28,36,25,28,25,17,22,26,27,26,30,23,24,22,32,26,28,24,28,36,20,30,28,29,20,27,27,31,31,35,24,26,22,23,22,21,23,32,35,26,24,25,21,25,27,21,32,24,34,24,36,28,25,23,24,17,23,20,20,23,23,23,23,27,27,27,27,29,37,30,23,40,24,21,21,24,46,21,34,23,28,21,26,21,28,31,36,25,27,31,29,23,23,27,24,25,26,29,33,25,25,28,19,19,19,22,27,31,20,23,24,29,35,22,22,31,25,26,25,25,29,23,23,26,26,30,20,29,22,31,25,24,28,32,24,19,29,22,15,15,24,23,23,23,27,27,28,24,19,21,28,21,21,21,34,24,20,28,25,25,25,25,23,24,27,18,31,23,23,28,22,28,19,39,22,30,27,27,49,23,23,31,24,24,25,25,23,18,31,26,30,26,23,27,30,34,28,21,25,20,24,28,26,22,18,22,22,27,31,27,27,31,31,22,23,27,27,26,25,26,30,29,21,25,29,30,27,19,27,21,29,27,31,24,29,29,33,33,19,29,22,21,21,21,21,15,15,15,15,19,19,19,19,19,17,23,21,22,22,35,24,28,20,23,22,19,27,24,28,17,19,24,22,26,23,23,26,30,29,29,27,25,26,21,26,24,28,23,25,17,23,27,31,23,25,23,23,23,23,25,26,31,34,23,22,33,27,24,28,31,26,25,29,25,20,21,20,26,30,30,25,21,23,19,32,20,24,20,20,31,23,21,23,22,30,28,28,26,31,29,22,42,20,27,20,17,25,29,29,21,29,23,30,30,21,32,17,22,23,22,25,26,30,28,28,31,26,31,32,20,24,33,26,26,43,26,30,29,22,18,22,21,16,16,26,24,28,18,22,20,20,22,24,32,23,19,19,24,21,25,21,30,24,24,20,25,25,25,28,25,23,43,26,24,28,30,34,25,23,29,19,34,23,28,25,22,26,21,23,27,30,34,23,27,22,29,27,23,27,25,29,22,30,30,34,34,27,32,32,32,26,23,33,22,17,27,19,25,25,25,33,24,24,22,52,52,56,31,26,17,25,25,29,36,20,20,24,25,29,29,23,23,27,31,31,31,31,19,23,29,27,42,25,33,27,25,36,25,24,31,30,25,28,22,26,24,35,24,28,22,49,23,22,18,24,24,18,24,24,27,30,34,20,29,29,19,23,31,35,43,23,25,21,20,35,27,24,22,22,26,22,38,25,23,26,34,25,26,23,30,20,32,33,20,24,28,23,28,26,29,20,22,23,29,33,24,58,37,29,37,26,22,22,38,22,20,27,31,27,30,23,20,20,23,25,22,28,21,25,32,25,25,22,26,34,27,21,25,22,34,23,23,29,33,17,17,20,18,25,20,27,27,26,25,23,28,25,24,23,24,24,17,21,25,22,30,48,28,29,25,32,18,22,20,24,29,28,21,25,16,28,36,19,23,23,27,26,26,21,21,20,29,23,20,24,23,21,44,48,25,30,30,29,33,34,38,21,29,22,24,28,25,25,21,28,27,23,26,26,30,38,24,23,21,25,29,33,21,23,27,32,36,22,27,38,23,41,45,23,26,26,19,31,26,16,25,24,25,23,25,27,27,24,24,21,23,41,24,28,17,29,33,37,24,22,20,24,28,28,32,40,21,21,21,21,33,25,17,29,28,21,25,27,31,21,23,25,29,22,34,22,20,24,29,21,32,24,25,21,23,28,21,29,25,33,37,37,33,38,22,23,28,25,25,29,34,24,18,24,20,29,33,26,23,27,23,22,26,31,19,19,27,24,23,27,31,19,43,25,32,27,35,25,20,24,42,18,22,25,21,29,33,20,24,16,22,19,19,23,27,31,23,25,27,28,28,28,28,38,19,30,20,28,32,32,35,21,21,28,25,20,25,25,25,29,18,23,23,27,27,31,22,23,26,24,33,28,20,20,23,27,27,25,29,23,24,21,22,21,23,27,31,35,23,18,21,33,33,39,26,26,24,23,26,29,23,31,31,24,24,24,24,24,37,26,23,25,27,19,22,22,26,23,25,27,31,21,25,29,25,29,23,21,26,22,22,26,23,26,25,21,25,32,36,22,23,14,14,14,18,22,22,22,22,24,20,34,36,25,30,30,46,23,32,19,19,22,34,23,26,42,21,25,16,16,28,28,32,32,27,24,24,32,20,24,25,29,30,34,24,28,35,24,24,26,32,25,27,27,22,23,23,23,35,20,26,28,24,24,28,22,22,24,19,25,23,22,26,23,41,45,20,20,29,31,21,21,25,29,21,21,21,21,21,19,20,23,17,17,35,25,21,21,25,29,22,24,24,27,21,26,23,33,23,25,20,27,21,25,22,25,28,32,37,52,34,34,29,20,24,24,21,25,20,31,27,23,29,31,35,23,25,29,29,23,27,23,21,29,29,33,27,24,24,24,20,24,26,30,27,21,20,23,23,27,21,25,22,30,26,15,15,25,24,28,25,19,19,24,37,19,21,26,30,22,22,26,26,25,18,36,26,26,26,25,24,28,29,23,22,17,30,20,29,21,21,29,33,27,25,22,22,23,21,23,23,24,28,28,25,21,28,26,17,17,21,22,26,30,30,29,22,26,23,23,23,35,28,27,23,29,25,25,29,27,31,27,23,23,23,25,25,29,29,33,33,33,21,21,25,25,22,23,23,32,26,41,15,15,15,21,21,28,32,20,24,32,24,28,32,36,22,19,24,26,26,22,34,28,31,30,20,22,27,34,23,24,24,36,36,21,21,25,31,26,21,24,20,27,27,21,25,19,29,33,25,25,27,28,32,36,33,41,40,36,44,29,23,27,27,24,19,22,23,22,22,22,42,46,22,38,38,26,30,26,26,23,28,23,27,27,27,24,27,34,30,25,17,17,21,21,28,16,20,20,29,29,29,29,34,26,27,23,31,23,27,27,22,32,21,26,27,27,26,25,21,23,19,16,25,25,34,42,20,28,22,21,21,31,31,35,35,28,23,23,22,26,24,36,40,40,40,27,27,26,20,24,24,23,24,21,25,29,33,37,33,43,22,22,24,24,28,20,24,20,24,18,22,20,28,22,26,26,21,25,29,33,28,32,25,30,30,23,22,33,30,26,29,22,32,20,23,27,24,26,30,30,22,19,28,32,32,32,23,27,24,28,21,27,19,18,22,20,22,24,32,29,27,30,25,33,19,25,23,27,28,31,20,28,25,31,23,28,28,38,26,20,21,28,23,24,19,21,27,31,27,21,21,25,25,23,27,22,30,35,21,25,20,27,35,35,25,25,25,29,43,22,25,26,27,25,22,19,23,26,21,22,20,25,25,28,33,33,41,49,36,48,24,28,41,23,21,20,24,15,19,19,22,24,32,20,25,36,48,48,18,19,29,33,23,39,39,43,28,31,24,19,25,20,23,26,40,25,29,28,37,22,27,26,38,29,27,30,23,25,27,27,27,27,22,24,24,29,20,24,28,23,29,37,27,25,25,22,28,21,20,30,24,25,20,17,20,23,36,21,21,25,22,22,27,22,23,20,24,19,28,19,19,26,24,21,22,20,24,25,29,28,32,27,14,22,27,31,22,30,21,25,25,19,32,46,25,29,37,22,22,23,27,22,30,25,25,25,20,27,21,25,35,33,28,30,42,24,21,19,20,22,26,24,28,36,24,29,28,23,21,29,28,23,22,25,29,21,28,24,23,24,24,24,40,25,23,22,28,32,19,19,32,15,25,19,19,19,19,19,24,48,26,30,20,30,45,21,21,21,21,21,22,26,22,21,21,21,21,20,24,28,25,29,19,26,60,25,43,22,44,24,28,28,21,25,18,22,22,22,22,22,22,22,26,26,26,26,23,20,31,35,26,42,21,27,19,21,35,23,27,31,35,24,20,26,25,32,24,23,21,29,24,28,32,23,27,31,25,18,21,22,28,32,30,32,26,29,22,23,32,20,19,24,30,25,22,25,22,26,35,21,25,21,22,24,21,21,20,21,27,27,42,42,22,24,38,36,27,20,42,30,28,28,25,28,21,25,29,29,29,29,29,33,33,33,23,27,24,24,28,28,28,28,32,32,32,36,36,40,40,23,26,29,24,26,40,23,41,21,21,21,20,26,30,30,25,25,33,36,19,19,30,39,20,21,34,18,25,23,25,29,23,23,23,27,27,29,29,22,20,24,24,24,25,32,22,22,22,26,29,26,22,16,24,20,20,31,30,21,27,31,23,31,24,30,30,30,30,28,20,23,25,29,28,26,27,22,29,30,27,26,22,20,24,18,18,18,24,22,24,20,22,42,22,25,25,22,23,18,18,22,35,28,32,19,21,29,18,22,25,24,28,21,33,49,49,28,19,23,20,24,24,34,23,29,24,33,41,24,27,30,38,25,19,23,23,27,27,22,22,24,20,23,27,32,24,19,23,27,33,22,25,24,28,24,38,23,16,23,27,33,23,28,30,34,25,24,24,23,23,27,27,27,27,22,30,28,18,18,25,16,21,25,25,30,35,42,27,39,24,25,21,25,29,20,23,22,23,22,23,41,18,22,26,30,25,23,17,17,22,22,26,32,26,28,28,20,24,19,23,27,28,23,20,35,26,25,30,26,30,30,21,25,18,29,27,31,28,16,23,18,26,30,20,24,26,25,26,24,15,15,15,15,19,25,30,21,21,21,25,24,28,22,25,32,24,32,26,42,50,22,24,27,31,17,21,25,28,23,22,26,34,24,25,29,29,23,26,24,30,19,19,47,27,26,34,38,30,23,25,25,24,28,22,22,26,26,34,34,46,46,27,36,36,23,27,20,22,27,31,35,26,31,21,25,30,21,21,25,25,25,29,29,29,28,44,48,52,51,29,33,20,24,31,29,23,23,22,26,19,33,23,28,25,23,26,26,30,21,32,36,22,22,26,28,30,40,56,27,31,24,21,23,28,24,26,30,24,33,20,27,39,35,23,27,21,24,26,23,20,29,17,26,28,25,31,22,28,28,32,36,22,26,26,30,33,18,18,29,21,25,34,42,31,26,23,27,31,27,31,26,24,28,41,19,30,21,21,25,29,33,25,26,18,23,22,26,25,23,19,22,29,26,30,23,27,31,21,22,27,31,28,20,19,37,29,27,23,26,22,22,22,22,26,26,35,19,23,23,27,27,30,25,28,33,33,37,19,25,23,24,30,24,23,28,14,25,22,24,26,22,25,22,26,30,34,38,21,27,31,27,31,35,25,21,31,35,18,27,24,30,27,31,35,21,26,20,23,27,41,27,20,24,28,21,28,19,23,28,22,22,22,26,26,24,22,26,25,20,28,30,20,24,28,28,22,26,30,24,28,32,25,36,40,40,29,21,26,24,24,25,21,29,19,34,24,25,22,31,25,22,20,23,22,50,21,25,29,42,29,25,21,26,19,27,27,26,16,20,15,15,18,22,26,30,31,21,21,34,38,27,27,20,46,21,25,25,25,24,23,25,25,30,25,23,23,27,27,21,21,25,32,25,33,21,25,37,22,19,23,21,27,26,25,26,24,25,20,19,24,24,25,26,31,35,24,28,28,32,27,17,23,27,13,22,20,24,27,26,21,21,18,22,37,19,27,31,23,22,30,24,28,27,28,22,30,21,22,23,27,21,25,22,29,21,28,26,26,25,25,25,34,20,25,29,22,27,31,35,25,34,24,24,24,20,24,25,26,28,30,31,22,36,33,17,21,21,19,21,27,19,22,22,20,24,33,28,27,17,25,26,29,23,36,21,22,28,19,23,24,29,22,26,34,20,28,25,23,31,33,23,31,31,29,34,27,23,23,29,29,20,28,23,31,24,21,25,22,24,29,25,25,25,29,23,23,25,29,29,23,25,25,23,43,31,26,30,28,34,21,23,30,19,22,30,29,29,24,19,25,23,35,26,32,28,25,25,29,20,22,22,22,27,27,31,23,31,38,24,26,28,23,25,21,21,23,25,21,20,20,21,21,25,21,21,25,27,19,24,26,27,22,28,26,30,24,20,32,40,33,33,27,35,26,26,24,19,21,21,21,25,22,22,22,44,25,29,18,18,22,22,20,18,20,28,32,36,21,25,24,22,23,18,24,28,24,28,28,23,23,26,31,51,26,24,28,30,25,29,56,27,18,27,35,24,23,23,16,24,28,28,26,26,22,21,20,22,29,24,20,23,25,25,22,24,23,27,15,20,23,25,28,22,28,19,23,20,24,28,39,23,27,24,21,21,19,30,27,22,22,29,34,19,23,20,25,38,24,24,24,28,26,31,35,22,20,25,25,25,23,17,26,26,21,27,29,25,16,36,21,28,28,28,20,27,27,22,32,25,25,29,37,38,22,22,30,40,17,29,29,24,28,24,24,23,27,19,31,38,31,20,26,28,27,32,35,29,21,22,29,23,21,26,27,25,18,17,22,22,24,28,46,23,20,28,34,25,19,19,25,29,29,29,41,24,20,17,19,20,23,27,26,24,21,25,38,24,23,23,27,23,22,23,24,37,25,21,29,33,37,23,20,25,25,21,21,25,25,22,25,22,27,19,26,24,28,23,29,22,24,29,24,31,35,29,22,25,22,23,29,35,35,26,31,31,28,25,25,23,21,25,24,28,22,26,30,42,24,57,27,20,20,19,16,26,23,20,24,24,24,24,25,29,25,27,24,28,27,28,25,25,44,44,44,44,44,26,18,22,27,28,25,25,25,27,21,27,19,19,27,31,35,30,21,21,24,21,25,29,31,22,26,30,22,25,20,25,22,26,30,25,23,30,28,21,19,19,21,32,26,21,21,25,21,24,19,32,32,31,30,34,30,34,34,33,23,29,33,34,26,26,26,20,40,26,26,31,38,24,26,25,25,29,29,22,24,36,40,21,29,25,22,26,30,24,23,26,24,26,19,32,27,49,32,21,21,24,20,25,30,34,34,38,38,42,30,30,25,22,23,23,27,27,27,21,25,27,31,20,25,30,24,23,25,24,27,35,22,21,21,23,24,24,25,25,24,29,24,38,24,27,22,26,33,25,25,25,26,30,25,24,32,24,31,38,38,21,33,29,33,22,23,21,25,25,27,27,23,22,18,22,30,26,30,29,26,22,33,25,27,26,26,30,34,25,23,24,31,24,16,27,24,44,20,26,20,24,24,21,25,29,26,21,19,20,28,22,24,28,29,37,28,20,21,33,29,20,25,32,25,22,25,26,19,37,22,15,19,26,20,23,26,33,33,23,26,30,23,27,17,21,21,21,39,27,17,21,26,33,27,19,23,20,20,28,33,36,23,27,23,27,23,31,35,24,20,17,24,28,19,26,27,17,17,19,25,20,24,28,21,21,26,23,20,21,25,27,23,23,36,32,31,27,21,35,47,29,26,31,25,29,27,27,28,40,27,39,25,19,24,20,24,35,31,25,34,21,21,25,25,26,18,20,24,24,32,23,32,30,22,27,25,17,21,25,25,25,21,21,17,26,27,31,31,26,30,28,24,23,26,30,27,26,29,32,20,26,26,26,27,26,20,20,24,24,26,31,23,23,36,21,25,29,57,61,29,23,18,22,26,24,30,26,23,39,25,27,22,25,31,33,26,30,35,37,18,20,22,26,27,31,21,29,26,30,36,21,19,22,26,25,29,35,38,30,17,27,27,27,27,26,20,15,41,22,26,26,30,22,29,35,35,23,27,21,25,29,26,26,29,20,38,25,29,33,33,33,22,25,25,29,33,31,31,22,20,20,24,16,18,23,28,32,25,25,22,21,21,30,38,17,27,30,23,24,28,26,21,21,25,25,29,33,25,24,23,27,23,29,29,34,38,26,21,24,22,27,30,26,26,30,34,26,21,19,25,29,25,25,20,22,18,45,25,23,27,26,32,24,35,26,24,28,30,17,17,17,30,20,21,29,23,28,32,32,25,24,44,23,25,23,20,28,26,34,25,29,23,26,25,28,23,21,25,33,25,23,26,26,18,26,24,28,31,25,29,25,29,22,24,28,32,16,16,20,24,24,26,37,32,27,30,25,30,23,26,20,25,24,28,21,24,18,22,24,28,28,21,18,22,22,22,26,30,30,34,20,28,27,31,31,24,24,28,28,19,24,27,27,35,21,25,25,22,26,29,18,34,34,33,22,27,30,39,43,30,19,19,25,24,29,31,31,27,24,29,17,21,21,30,19,23,31,22,33,28,35,43,26,21,19,23,27,27,22,34,23,25,20,16,26,25,23,23,22,28,21,21,23,22,22,23,23,24,33,19,25,18,23,39,21,21,21,39,39,41,41,41,27,23,28,32,32,32,32,26,28,32,32,32,32,32,44,21,31,35,22,26,26,31,35,22,41,18,25,25,28,23,25,25,27,29,22,24,21,22,22,30,30,22,30,29,25,24,26,24,20,20,22,26,30,27,25,46,26,26,18,26,31,16,22,26,29,19,23,27,26,30,34,19,28,23,22,21,27,38,22,22,23,18,18,21,26,21,21,20,28,23,24,29,31,37,22,27,23,21,18,23,27,27,21,33,25,17,26,25,33,28,22,24,26,21,25,31,23,24,33,29,23,30,23,26,23,21,21,25,25,29,22,23,23,27,21,23,26,21,26,21,22,26,29,22,28,26,21,23,23,26,26,23,30,30,23,24,32,22,18,22,22,22,22,26,26,26,26,26,26,21,32,40,40,31,31,31,31,25,20,20,28,31,27,21,26,23,30,25,25,19,27,24,23,30,21,22,26,27,28,39,24,23,20,25,25,29,33,37,20,20,25,27,29,32,34,25,21,27,27,31,31,35,40,40,44,31,34,26,25,25,21,21,21,20,34,21,25,22,22,36,21,22,25,31,24,24,20,30,38,27,23,27,30,26,21,44,30,24,41,15,25,21,28,19,19,23,26,24,28,27,29,24,24,28,28,29,20,20,24,24,21,35,23,27,25,30,29,24,28,32,23,41,24,19,17,26,30,14,14,14,22,25,19,40,32,23,29,22,20,29,30,21,20,19,19,23,38,42,18,18,22,25,23,25,28,18,18,18,22,30,24,24,28,45,45,21,21,25,22,27,21,24,26,33,37,46,46,50,27,24,20,28,20,21,23,23,28,38,22,26,30,21,17,22,29,25,29,29,25,24,27,24,16,23,24,27,23,29,25,26,24,19,19,32,21,28,40,27,20,23,24,23,27,23,25,29,27,23,27,31,30,23,52,23,27,25,24,28,25,16,16,16,20,20,22,25,25,25,22,20,20,20,24,24,23,21,25,30,22,27,32,36,24,24,26,30,24,25,22,18,28,22,26,30,24,27,21,21,26,34,22,26,26,25,25,25,32,23,26,21,25,25,29,18,24,25,19,40,25,23,24,28,20,20,30,18,19,26,22,19,19,27,31,28,23,21,23,27,23,17,21,27,20,28,15,15,19,19,23,25,23,26,26,26,19,23,25,17,25,29,23,23,27,27,30,34,21,21,24,26,33,20,17,21,24,32,20,28,28,19,20,24,20,20,20,35,26,25,22,26,21,25,25,25,29,29,29,16,21,21,25,27,27,39,22,28,33,33,31,21,22,34,25,29,24,22,26,15,30,20,22,20,24,23,27,25,20,24,27,22,25,29,29,33,23,27,25,21,23,28,28,32,32,24,25,27,31,38,23,29,24,26,32,35,24,17,39,29,31,30,28,25,21,22,26,30,26,30,33,23,26,19,24,26,21,29,26,23,40,21,29,30,29,29,28,24,21,23,23,25,19,23,29,26,20,25,17,17,23,26,30,28,32,29,18,22,22,27,22,26,22,22,25,30,22,23,24,17,17,21,21,26,18,27,23,27,22,23,20,23,27,19,22,30,22,26,30,29,33,27,31,20,19,20,29,33,26,18,18,22,30,25,28,22,22,18,27,23,22,20,32,28,24,27,27,52,30,19,27,28,28,32,21,24,22,22,24,30,20,19,23,27,31,22,26,28,28,28,27,22,28,24,30,30,30,30,30,30,35,35,35,35,35,21,25,25,27,24,24,28,24,28,30,21,19,36,17,33,26,25,29,24,24,21,27,31,21,21,25,22,26,26,25,29,21,23,29,23,20,30,25,21,25,21,39,23,27,31,30,22,23,22,15,33,20,22,26,30,23,26,26,22,25,26,21,21,25,23,25,27,22,26,25,22,25,23,27,27,31,27,17,21,22,25,28,23,17,23,20,24,22,22,26,40,26,24,18,26,30,26,22,29,33,25,38,32,36,20,20,17,17,21,21,21,25,20,15,15,25,33,23,22,27,19,31,35,33,40,23,46,25,27,25,25,21,25,29,33,20,23,27,24,24,28,18,25,37,21,21,25,27,23,21,25,23,20,31,22,22,30,26,21,25,21,23,17,26,32,36,26,21,25,25,25,25,23,21,25,19,27,27,25,24,27,24,25,25,32,21,22,25,34,20,26,30,25,25,22,22,21,22,22,19,19,29,29,54,19,23,29,19,23,27,24,23,23,23,23,27,27,25,26,27,27,25,34,21,21,21,29,22,22,26,26,30,34,26,21,29,29,21,42,25,26,21,18,18,23,41,29,27,22,22,26,31,24,24,20,27,31,31,43,25,26,23,26,28,22,24,16,16,20,20,36,35,20,37,27,36,21,24,25,25,15,26,28,22,46,22,18,20,30,34,27,23,27,28,31,25,29,26,21,20,31,22,23,27,27,34,24,22,22,25,22,18,21,21,14,14,14,14,14,18,18,18,18,25,24,21,23,27,27,40,22,27,19,16,55,19,19,29,30,21,29,21,20,21,29,25,25,27,26,26,33,25,24,27,27,27,31,22,22,26,28,26,34,23,24,31,35,23,15,24,32,25,25,25,32,37,22,24,24,28,22,22,21,25,29,29,20,19,26,26,21,25,28,17,53,37,37,41,19,23,31,41,55,55,21,25,24,19,25,18,22,28,27,21,18,29,29,24,25,29,23,23,19,19,19,23,30,36,40,25,20,28,32,40,25,21,23,27,21,29,73,25,29,24,52,20,23,29,29,27,27,20,29,22,22,26,28,27,31,25,25,23,27,27,31,31,23,33,33,26,21,34,38,50,25,25,22,30,34,22,33,19,20,30,27,19,22,22,26,18,20,26,13,22,18,23,25,25,24,22,41,35,19,27,31,22,26,30,26,25,25,22,27,18,22,27,34,34,24,38,27,25,29,33,27,21,26,27,25,27,28,27,34,29,23,23,16,21,21,21,21,21,25,25,25,25,25,25,29,25,27,27,27,22,24,28,24,41,22,33,49,44,21,23,23,23,25,22,26,38,26,26,24,24,24,24,24,22,25,25,27,23,27,22,30,32,28,20,20,20,24,24,24,24,25,28,22,24,25,30,25,25,19,21,22,22,31,27,22,22,29,25,26,21,24,20,24,21,28,32,34,34,22,26,19,26,22,21,25,29,22,22,23,41,21,26,21,18,18,18,21,23,27,31,31,22,33,26,25,28,26,26,30,21,31,28,27,31,25,22,21,21,25,31,31,27,25,46,35,25,20,36,36,19,23,28,19,25,23,18,21,21,21,25,19,26,31,17,21,23,22,22,30,20,27,24,31,21,27,21,29,26,40,22,26,21,19,28,23,27,23,21,23,33,29,30,26,23,25,23,27,26,26,30,40,25,23,23,25,29,20,28,27,29,19,29,28,21,25,26,20,21,25,30,25,29,21,25,21,17,24,28,18,22,22,22,26,30,20,23,25,25,24,27,22,22,20,21,26,23,23,27,31,26,23,26,30,29,19,23,23,25,29,33,24,32,32,23,23,25,17,23,16,22,23,27,28,24,24,23,19,27,25,24,29,26,30,20,28,29,21,24,19,18,31,23,25,17,25,44,26,19,21,33,26,25,23,23,24,27,36,29,29,21,24,26,25,22,22,22,24,23,43,17,22,18,18,18,26,28,28,32,31,17,15,26,20,24,23,26,19,31,21,27,26,24,28,21,28,32,28,26,28,38,18,22,25,22,20,24,16,30,30,23,24,28,26,28,37,25,23,39,24,21,21,28,28,27,24,29,23,27,32,29,20,25,25,29,24,31,27,27,22,25,26,24,34,21,22,21,41,31,22,26,22,30,47,22,22,24,25,28,23,24,22,25,19,23,21,29,46,21,31,29,23,18,26,20,21,29,31,23,25,24,25,22,26,19,19,19,19,24,18,18,22,28,27,24,28,32,30,27,31,20,35,30,42,25,20,19,27,23,25,31,37,24,24,23,25,34,25,24,24,28,28,32,32,25,26,23,23,27,31,21,22,28,23,28,27,31,35,31,27,24,18,18,18,22,22,20,24,25,28,36,19,19,19,19,19,21,23,23,19,23,27,19,23,21,24,21,27,27,27,34,34,26,24,25,28,26,22,31,35,27,31,23,27,31,21,18,30,26,25,25,22,21,29,21,20,21,27,24,46,30,34,26,20,26,24,20,21,21,25,25,20,22,32,18,22,26,23,25,20,28,20,20,24,21,21,21,24,23,22,26,39,26,22,24,28,38,24,24,20,25,33,25,21,27,20,22,19,27,22,26,34,46,25,22,26,30,26,19,23,28,25,23,25,26,23,20,22,33,17,23,27,31,23,20,20,19,22,21,24,25,31,30,30,22,25,25,22,26,21,21,26,27,31,23,23,23,28,28,23,23,23,27,27,26,30,28,28,42,47,28,36,23,23,27,27,20,20,20,24,21,20,30,34,34,34,25,23,21,26,24,28,32,24,21,21,25,25,29,23,18,18,18,27,15,19,19,23,19,27,21,33,28,22,27,25,29,21,24,22,23,29,31,26,18,22,25,26,28,42,47,25,36,39,21,40,25,24,26,30,27,21,25,36,28,43,43,43,45,26,38,39,28,30,27,27,27,27,30,30,30,30,21,33,36,36,40,24,25,41,44,16,28,32,25,22,22,35,25,25,49,29,33,43,15,26,22,31,24,40,19,23,27,21,21,21,21,26,23,27,31,24,28,34,31,29,29,37,37,41,21,29,33,37,36,16,33,28,28,25,25,25,26,25,29,34,38,38,37,31,30,34,40,40,24,35,20,19,33,22,18,31,29,29,21,20,22,35,23,31,23,22,40,21,37,25,22,26,27,44,44,44,21,22,45,21,23,35,39,39,28,24,49,20,24,28,36,43,22,26,20,41,21,26,26,25,19,23,22,29,29,32,32,53,53,27,25,20,20,25,29,20,17,21,21,32,20,20,26,41,27,23,31,27,31,29,13,17,17,34,23,22,26,28,49,23,31,20,22,42,44,24,22,26,30,37,41,43,28,28,28,25,26,26,29,24,34,33,25,35,27,21,15,22,26,37,33,27,20,22,22,24,17,21,23,37,45,49,22,21,32,32,23,23,47,36,23,27,22,18,27,30,20,24,30,21,17,23,23,23,37,37,25,21,25,26,28,32,20,24,28,19,23,27,26,29,23,24,28,28,22,20,24,21,21,43,24,21,22,25,31,27,20,25,26,25,21,29,18,22,26,30,28,32,27,25,26,23,23,27,21,41,26,22,22,27,18,21,24,24,24,25,25,18,27,41,25,26,24,21,21,19,25,25,25,20,29,33,24,25,25,21,25,30,35,35,38,38,42,22,19,31,23,24,21,28,21,22,26,25,22,20,23,31,27,28,26,30,36,23,27,31,26,28,26,21,25,25,25,19,23,31,31,24,26,30,36,20,29,25,45,25,35,27,31,33,30,24,34,42,42,20,33,23,23,18,26,28,24,31,24,28,26,26,25,30,23,29,29,26,28,23,31,35,29,32,21,25,22,14,14,18,26,52,19,29,16,20,24,23,19,19,23,23,23,18,22,22,22,25,22,22,19,16,22,24,26,25,27,21,21,34,19,27,29,30,34,30,34,23,35,35,25,22,26,23,21,21,27,29,21,26,24,32,24,24,27,21,34,27,50,21,23,19,17,21,21,31,22,24,29,22,23,19,23,20,19,25,41,25,33,33,26,21,21,23,21,34,28,16,21,28,25,18,26,22,25,29,29,28,32,18,19,19,23,23,20,28,37,31,28,28,20,25,25,23,22,22,24,28,21,20,23,26,32,32,33,33,37,37,41,49,31,31,35,35,39,47,34,42,26,30,34,29,33,33,29,31,31,31,31,31,35,29,24,27,27,29,29,33,22,28,20,25,37,33,21,36,21,33,37,37,42,29,21,23,25,24,28,40,25,24,21,25,30,30,27,22,32,31,21,21,25,25,22,25,26,19,23,23,27,27,31,19,17,21,21,24,28,42,21,21,36,36,22,23,29,21,17,21,25,20,19,23,23,23,26,22,26,22,21,21,21,31,31,25,21,21,23,22,27,31,29,32,21,18,16,16,16,16,16,22,24,21,25,21,25,21,21,47,26,21,23,26,26,30,34,21,24,37,41,24,24,28,28,22,25,33,45,45,21,21,18,21,24,24,21,25,29,21,25,25,29,29,19,23,25,35,33,33,33,24,28,20,24,28,32,21,24,45,28,25,24,22,21,25,25,23,22,23,24,20,26,31,35,26,24,26,30,25,20,22,22,26,26,26,24,32,17,25,21,25,25,20,28,28,23,23,23,23,28,25,29,21,19,21,23,23,27,27,27,31,31,35,23,27,24,26,22,38,37,39,27,31,21,24,28,28,32,32,18,18,22,22,22,22,22,22,22,22,20,28,23,23,22,22,35,39,39,39,22,20,19,23,30,23,29,42,28,22,32,23,24,24,21,24,26,30,30,23,27,20,19,25,35,27,19,19,23,23,28,28,21,20,19,38,39,20,38,24,23,22,21,24,21,27,30,30,34,34,21,15,21,25,26,22,25,29,24,22,18,24,36,26,23,26,27,31,26,36,40,23,27,38,25,29,34,33,31,28,21,25,15,49,30,29,28,15,25,24,31,25,23,24,24,24,27,27,27,35,28,25,29,19,23,22,22,24,20,24,24,26,25,23,31,31,31,16,22,26,20,22,26,21,33,29,28,32,18,24,19,17,35,26,25,16,16,25,21,22,20,24,32,24,23,29,26,25,27,24,28,32,25,29,33,21,23,27,27,27,21,29,23,27,23,26,29,35,27,33,34,23,27,19,23,27,22,26,30,28,23,26,30,21,24,18,23,19,23,22,26,30,49,27,22,26,19,24,24,23,17,30,30,38,42,28,28,29,28,32,25,25,22,26,31,23,31,27,24,32,32,25,20,23,23,27,20,22,28,20,23,39,25,25,24,25,25,26,29,22,26,22,26,24,26,16,38,28,23,21,21,19,23,19,23,23,23,21,23,25,22,22,26,26,30,30,23,23,20,24,21,21,15,16,16,20,25,26,28,25,23,25,22,23,27,31,23,36,40,44,48,24,20,25,21,18,22,29,33,25,25,37,19,21,19,19,19,19,19,19,26,25,33,21,28,27,31,22,26,22,26,21,29,15,23,23,23,33,27,26,35,24,24,32,26,22,23,23,25,25,23,23,23,27,35,23,25,29,33,27,28,23,27,29,28,26,19,19,18,23,28,18,24,26,26,21,30,18,24,25,33,20,22,21,25,26,25,25,20,26,21,27,24,27,25,20,32,24,24,23,22,22,31,19,22,26,26,25,28,25,27,32,25,25,33,24,27,29,21,25,21,25,29,33,37,24,28,24,22,26,34,34,21,25,26,27,27,27,24,25,25,25,25,25,19,25,22,26,26,25,19,24,25,25,22,30,23,28,30,16,20,30,32,23,24,32,32,36,36,36,36,36,40,22,27,19,20,20,17,17,23,32,22,27,28,17,17,25,24,27,43,22,28,26,26,22,19,22,30,18,30,22,26,32,29,29,28,24,25,27,27,31,31,29,34,26,24,25,29,20,39,24,32,28,19,33,26,30,23,25,19,35,28,25,21,25,29,20,24,26,22,26,33,19,28,25,25,29,23,23,25,32,18,24,22,15,24,28,20,21,23,23,23,20,29,21,21,23,23,27,21,48,24,25,17,23,27,31,20,26,25,22,29,72,25,32,20,20,24,23,38,28,25,29,27,26,22,29,33,24,33,33,28,19,27,31,35,35,23,27,28,23,27,23,21,25,30,22,21,25,27,26,20,26,21,25,25,23,23,15,26,40,26,22,26,29,21,25,32,37,52,25,25,27,68,21,31,28,28,21,18,26,20,24,30,24,29,24,28,32,29,26,24,28,30,21,25,19,23,22,26,25,26,24,24,20,23,27,27,25,29,33,26,22,25,28,26,22,26,28,21,25,20,22,19,49,43,20,24,39,33,25,28,32,44,30,23,27,31,35,21,28,26,30,23,21,27,27,27,21,25,29,15,31,25,21,33,19,23,20,24,25,21,24,21,24,26,24,28,40,22,34,24,28,32,36,40,30,22,34,28,32,32,32,16,16,21,24,27,22,27,31,35,22,26,30,29,25,25,35,28,34,23,26,24,20,26,21,21,25,25,23,23,23,23,21,22,22,31,27,31,35,24,32,24,25,26,30,18,18,18,22,25,28,27,32,37,33,28,22,20,22,25,29,26,30,25,25,29,22,22,23,27,31,25,25,30,34,18,17,21,20,24,24,24,28,20,24,28,32,36,23,27,26,22,26,20,26,19,19,26,23,25,22,27,14,14,17,17,17,21,21,19,28,18,33,41,29,33,35,25,23,36,29,24,25,24,25,23,23,38,26,24,24,28,31,22,22,25,15,23,23,23,27,27,27,20,24,20,27,24,28,27,15,23,23,32,22,16,27,29,26,30,27,22,22,26,30,25,24,24,33,33,33,28,30,23,31,23,23,26,26,31,25,27,20,25,29,22,27,30,22,25,20,28,27,25,29,29,29,23,24,22,31,30,19,21,27,29,21,21,34,22,26,17,21,29,41,45,21,28,22,26,19,29,16,18,21,28,28,26,21,25,25,30,25,21,21,22,22,25,17,17,17,17,26,22,23,25,23,27,27,30,23,29,23,27,25,28,18,18,18,22,22,24,28,31,28,18,18,24,28,26,22,20,24,28,32,29,31,35,39,25,33,27,26,32,30,20,14,27,25,28,23,24,23,27,31,27,22,23,30,24,13,13,13,17,17,17,17,17,20,21,25,24,25,23,27,27,27,27,31,31,29,37,19,29,26,59,21,24,27,27,27,21,25,24,24,26,25,25,25,19,29,29,28,24,25,29,24,28,22,26,18,22,22,22,22,26,26,26,23,21,26,30,24,28,26,20,21,25,29,31,27,22,24,61,61,61,22,24,22,42,26,23,24,26,34,23,31,25,17,17,23,21,38,25,29,27,31,29,22,29,26,26,41,27,33,29,29,25,25,22,20,31,29,23,24,27,25,34,30,25,25,25,24,24,15,27,25,25,27,27,24,28,28,22,21,28,22,23,23,31,31,31,24,30,22,44,28,20,28,30,18,25,24,27,27,18,30,25,28,19,24,24,24,22,20,24,28,25,19,19,35,35,25,28,32,36,40,38,42,44,27,19,23,29,29,30,34,25,28,25,24,19,27,22,23,27,30,27,24,28,32,36,22,25,20,24,28,24,21,27,23,20,22,30,34,27,23,27,23,22,26,34,22,27,27,25,22,21,25,30,34,29,29,29,33,29,28,25,29,28,22,39,27,20,29,31,24,21,30,19,30,31,23,23,23,27,22,25,24,21,22,25,17,21,23,23,17,17,17,20,20,21,21,32,26,28,26,18,18,22,22,24,18,25,29,25,21,21,25,23,22,26,22,22,22,26,33,24,22,20,22,23,21,21,26,39,21,29,23,27,25,29,25,29,23,16,25,29,24,30,30,30,21,21,29,26,30,30,26,26,26,30,30,30,32,32,34,34,32,37,34,33,33,33,33,33,33,22,20,20,22,34,22,24,28,32,29,33,25,20,23,19,23,27,20,29,28,22,26,27,31,30,20,24,24,24,29,22,31,26,24,22,26,29,29,32,19,25,32,22,23,23,20,24,25,24,26,38,20,19,21,21,25,25,23,22,19,17,17,22,26,30,27,24,30,22,24,18,42,24,21,37,23,23,25,21,28,23,27,30,29,24,35,32,21,23,23,28,32,36,23,23,22,22,21,20,16,24,34,22,28,30,30,29,28,20,23,27,29,29,33,33,25,29,26,25,24,36,36,40,25,29,22,27,26,31,21,25,22,23,23,26,26,30,23,29,27,24,23,23,23,21,21,24,24,28,24,35,33,27,19,29,25,21,35,28,22,19,25,20,28,26,24,22,45,18,29,30,23,26,23,25,25,29,29,21,46,38,38,38,24,28,32,36,23,30,24,18,20,31,36,21,26,17,30,20,20,28,32,29,26,30,24,26,31,19,23,21,24,27,28,22,26,25,24,28,21,27,26,21,25,33,27,27,39,43,43,22,26,28,25,24,27,25,24,33,37,59,29,23,29,18,22,22,26,26,26,30,30,30,26,19,23,27,25,24,24,31,28,19,23,25,29,26,21,25,25,24,24,22,22,24,24,23,37,31,31,31,31,35,25,29,29,23,24,28,29,34,17,16,16,32,32,32,36,36,23,20,24,28,27,24,25,29,25,19,22,22,27,31,29,27,32,27,27,28,32,24,28,29,31,35,22,23,25,29,33,27,20,20,24,25,30,23,27,31,27,31,28,21,32,21,26,24,32,24,20,25,33,37,25,26,27,24,29,28,37,22,24,27,35,22,30,34,38,20,21,21,22,24,38,38,26,19,19,19,19,23,31,22,22,31,23,23,23,34,19,27,31,21,21,23,30,21,25,29,24,23,25,25,25,43,21,25,23,27,22,20,20,23,27,25,25,20,32,26,25,21,27,27,29,22,26,30,30,34,26,20,20,25,25,29,29,22,23,16,25,22,44,44,44,26,17,21,28,32,24,22,27,29,33,22,26,30,25,24,33,38,38,24,27,14,19,19,22,26,21,29,25,29,20,21,25,29,21,27,31,20,22,26,25,35,23,27,26,30,34,46,26,26,22,28,22,23,27,27,21,35,27,24,25,25,18,19,25,23,23,28,29,21,25,29,22,27,31,24,17,22,27,30,21,27,31,35,36,40,44,48,52,25,22,19,25,32,22,22,26,30,30,34,34,34,25,33,38,18,26,26,26,30,30,34,34,38,38,42,42,20,25,18,22,25,27,27,27,32,32,20,28,28,20,26,16,20,21,32,25,23,23,31,27,37,41,24,29,27,23,27,21,27,44,20,23,17,27,21,25,32,40,24,27,22,22,22,20,26,25,25,25,18,18,18,25,29,21,27,32,36,36,40,25,17,27,28,25,25,31,26,26,26,26,21,21,20,24,18,26,19,22,29,22,21,21,28,24,24,28,32,32,29,17,22,22,25,30,39,30,32,31,33,26,29,28,24,19,25,23,23,24,28,25,23,21,25,25,29,33,34,22,25,27,35,32,29,31,22,33,37,23,27,28,24,20,22,40,25,25,24,24,24,28,23,20,28,36,40,26,30,38,24,22,46,30,31,26,21,25,27,20,19,29,27,31,34,23,26,30,34,20,20,24,28,24,28,23,27,22,27,22,25,31,17,16,16,20,20,20,15,19,23,23,23,21,27,24,24,24,27,28,30,25,29,38,20,22,30,20,52,26,24,26,29,25,18,18,20,28,22,19,29,26,22,26,23,21,37,20,26,30,20,20,24,24,25,24,20,18,20,32,26,30,34,25,19,23,26,22,25,20,32,36,23,18,29,25,24,23,19,22,26,26,21,24,28,20,42,25,30,25,28,26,30,17,21,34,21,25,25,25,25,25,25,26,25,29,33,25,18,22,33,28,27,28,31,21,25,25,25,20,31,41,20,37,28,22,25,22,26,30,25,18,18,25,15,18,22,34,21,38,35,39,43,21,22,26,30,25,24,23,25,25,29,18,21,24,28,32,36,23,23,26,27,25,29,25,29,26,28,20,20,24,36,25,25,25,25,24,25,20,24,23,26,30,27,28,28,32,22,17,17,17,17,17,21,27,21,29,28,25,29,17,23,25,33,28,22,19,19,19,22,22,22,27,27,15,28,28,31,30,22,26,26,19,29,21,25,25,25,29,29,28,30,29,19,27,26,20,26,21,21,20,25,24,32,14,14,25,29,21,25,29,21,39,39,39,23,40,24,24,28,28,42,27,25,25,24,32,44,19,26,28,28,32,32,37,37,40,40,33,30,30,23,35,24,23,27,32,22,26,30,17,27,30,21,21,21,26,21,29,31,31,29,23,26,24,40,40,26,30,38,25,18,27,19,27,17,17,21,24,25,33,37,17,17,21,25,25,22,21,29,25,27,27,27,27,27,27,23,23,25,31,23,29,19,21,27,21,20,28,26,23,27,31,22,30,18,18,18,21,26,24,29,28,53,23,21,25,29,29,33,18,18,22,30,20,24,27,31,20,26,19,23,29,19,28,26,20,21,24,18,22,26,44,28,23,23,31,26,31,34,23,24,19,30,23,27,31,22,25,27,25,25,22,26,39,21,26,21,35,37,21,24,22,20,30,24,28,32,13,17,17,22,22,20,20,24,25,25,29,29,20,24,45,25,29,25,25,25,29,29,23,31,20,27,23,22,26,23,27,28,25,26,24,27,26,20,21,29,23,19,27,23,27,20,24,28,22,25,29,25,28,25,29,24,20,22,30,34,20,24,27,22,22,22,28,21,28,30,18,22,22,26,26,31,35,35,22,19,19,19,27,23,27,31,18,25,20,27,31,30,28,25,25,27,21,25,28,32,20,28,28,32,21,31,29,19,25,29,24,32,22,19,23,26,23,35,14,32,33,21,19,19,19,25,28,21,25,26,31,20,39,26,21,25,29,24,29,21,18,22,26,26,26,21,22,21,21,23,26,22,22,22,22,33,22,25,25,29,25,29,25,25,25,23,23,27,24,24,42,26,23,27,29,22,27,25,26,24,25,21,21,21,25,23,21,25,29,21,22,29,33,37,24,18,18,22,22,15,19,31,31,35,29,30,20,24,20,20,20,20,36,27,31,20,27,25,25,23,20,28,32,36,23,27,22,23,23,33,21,21,25,28,24,22,22,21,23,26,30,30,34,19,23,26,32,22,22,34,25,20,32,24,25,27,31,23,19,17,29,22,22,24,22,18,25,25,22,26,24,22,24,22,24,37,41,22,28,24,23,24,28,21,21,25,25,18,21,20,24,32,34,29,31,23,25,30,30,14,14,24,18,18,23,23,21,26,35,35,39,27,30,20,28,23,33,28,21,26,30,22,24,28,26,30,23,28,18,37,26,27,30,33,21,24,25,29,23,27,24,18,19,23,27,25,32,26,32,23,28,28,23,23,27,27,43,29,25,25,26,20,30,34,24,32,30,19,29,32,28,32,17,24,28,26,30,22,29,17,26,33,29,24,25,23,23,27,29,26,30,24,37,24,22,22,20,20,20,20,24,24,21,25,22,21,22,26,24,24,31,23,28,23,27,19,23,24,23,27,28,32,36,21,25,29,26,29,27,24,22,21,23,22,24,22,23,31,22,22,22,30,34,20,24,21,24,27,30,25,33,25,33,37,37,41,41,41,23,23,27,27,27,27,31,31,31,20,25,25,25,43,29,19,45,24,30,19,22,39,18,25,27,22,27,27,22,28,28,32,17,25,26,31,30,25,23,27,28,22,39,26,30,23,23,23,23,30,34,25,40,22,22,26,20,26,22,26,22,22,23,27,29,28,37,20,23,29,29,37,22,29,26,28,30,24,24,19,49,27,21,21,25,22,26,26,23,17,23,26,23,26,30,24,21,26,21,24,25,23,28,25,23,25,25,18,20,28,24,21,17,21,25,19,25,29,21,21,21,27,31,25,23,28,20,31,27,32,24,26,26,26,25,16,27,31,20,29,21,25,24,26,19,23,27,27,28,32,36,40,44,18,18,20,30,30,21,28,25,20,24,25,25,25,24,16,23,29,18,22,22,22,26,26,30,24,25,25,19,27,24,28,19,21,22,26,22,26,26,38,38,42,42,42,46,50,24,31,22,22,27,31,52,52,20,25,25,19,23,24,21,26,33,22,26,19,21,24,24,28,28,25,23,23,29,31,23,29,21,24,18,26,24,22,26,25,25,28,27,29,33,20,28,28,28,22,21,13,25,24,28,32,30,28,32,25,16,16,24,28,24,21,21,23,34,36,24,28,19,20,29,32,21,31,34,23,28,22,32,29,22,28,28,23,29,51,26,30,34,19,36,25,17,11,22,27,31,35,25,25,28,19,25,25,24,17,16,39,30,18,27,26,25,23,23,26,22,27,24,26,29,25,25,19,20,25,22,26,19,37,24,22,23,34,22,24,24,27,19,27,38,24,26,33,31,28,26,26,20,28,22,26,21,21,30,34,28,32,32,32,36,19,21,25,29,29,48,24,20,25,20,17,29,37,28,21,24,28,32,20,23,27,17,23,20,23,24,21,29,33,37,27,31,22,29,21,29,20,27,24,17,14,21,33,23,34,38,22,28,27,32,24,22,26,26,28,27,34,28,28,28,30,25,26,25,23,35,28,26,26,25,25,25,24,28,17,21,23,23,25,29,25,21,30,26,19,23,24,28,21,21,24,18,26,25,34,21,22,20,24,26,26,26,30,22,30,19,19,25,29,24,25,22,31,38,26,19,33,28,22,23,19,23,26,15,19,22,22,21,19,42,27,27,29,23,27,26,21,50,22,23,18,21,21,26,30,20,26,24,25,35,39,28,21,23,25,21,15,15,15,15,20,25,25,15,15,25,24,25,25,29,17,20,21,21,25,20,35,22,25,29,33,23,27,25,21,20,33,17,24,28,40,27,24,28,22,47,36,27,27,21,30,30,28,25,24,20,19,21,30,25,19,23,45,13,17,17,17,17,22,22,30,28,32,27,27,22,26,25,19,19,18,18,22,25,23,26,22,30,24,28,18,22,26,21,21,21,25,28,28,24,26,28,22,17,21,33,37,28,27,25,32,35,32,28,30,26,30,23,23,25,25,22,28,21,24,32,21,21,32,22,29,39,21,24,28,20,30,28,29,25,23,27,24,24,29,21,20,22,16,22,30,19,25,22,24,24,25,29,23,17,19,23,23,26,23,31,23,20,26,23,22,25,18,22,26,30,24,24,28,22,26,22,30,23,26,27,28,32,23,19,30,24,28,35,26,32,32,25,30,21,32,21,26,25,17,17,19,25,25,23,23,30,19,22,22,24,21,20,20,20,24,28,25,26,25,24,28,23,27,38,38,28,28,37,24,22,18,22,19,31,16,22,25,34,23,21,21,24,23,23,49,19,24,40,40,22,21,19,25,28,28,23,27,23,35,39,25,26,26,49,49,21,27,31,33,25,21,21,26,30,33,33,22,30,34,29,25,33,37,24,24,28,29,25,21,27,15,21,24,30,22,19,17,21,23,31,20,34,19,21,25,23,18,27,28,26,26,21,22,26,26,26,30,30,30,34,16,23,23,25,27,24,20,24,25,22,22,32,19,21,15,15,15,15,15,26,22,19,26,30,30,26,26,26,22,31,35,20,24,25,24,18,32,36,40,37,41,28,29,25,29,28,20,22,22,24,32,31,21,23,23,28,31,20,19,22,24,23,27,27,35,23,23,20,20,25,22,24,32,25,24,28,35,40,44,30,30,27,19,19,23,30,26,26,25,26,30,34,38,20,18,30,20,42,42,24,28,25,27,27,25,25,24,22,22,26,24,24,28,24,28,32,36,40,23,20,37,26,30,28,28,30,25,22,24,38,25,24,26,26,34,23,27,21,19,20,25,32,18,24,20,20,29,33,23,31,22,29,37,27,26,30,36,40,21,26,30,29,32,22,25,23,22,27,25,29,35,35,27,24,24,24,25,26,21,21,32,26,25,26,23,29,31,24,28,38,23,24,28,23,23,25,29,26,26,30,30,24,24,25,22,25,32,22,21,24,20,25,31,23,31,35,25,25,26,26,30,33,23,21,28,32,21,21,25,25,23,22,22,25,26,29,29,29,20,27,22,25,26,26,26,35,32,32,30,23,23,23,27,27,27,33,17,23,19,28,24,24,22,26,35,55,31,24,21,30,34,24,28,28,28,28,26,19,44,18,14,18,29,17,24,24,21,29,24,22,31,31,23,24,23,21,25,21,24,19,27,31,23,27,31,29,19,25,21,17,29,23,21,27,28,49,18,22,26,22,30,25,26,30,20,28,24,24,28,28,32,16,31,30,41,53,53,53,20,20,20,29,29,26,23,24,24,25,29,27,21,20,25,23,23,27,21,21,20,24,28,30,34,23,28,32,19,19,25,21,22,23,25,22,17,21,32,15,19,26,26,20,20,20,20,24,24,21,21,21,23,23,27,31,31,35,22,17,26,22,24,15,24,42,22,17,25,24,29,29,33,33,21,21,21,20,24,28,32,32,17,24,24,30,27,27,31,25,22,26,26,18,22,25,18,25,29,27,31,38,32,32,27,27,19,21,33,25,30,23,33,39,45,24,21,25,26,25,23,29,26,17,25,29,29,33,33,33,25,25,24,24,24,28,28,32,26,22,27,23,31,23,21,25,23,21,21,28,19,24,28,25,21,25,25,18,26,28,30,32,23,22,34,21,29,22,26,27,26,30,27,31,43,34,27,21,30,24,49,20,26,48,19,19,22,27,36,36,16,16,21,20,20,22,29,24,21,29,23,27,26,30,34,26,27,31,21,24,25,23,29,20,20,22,22,23,23,27,23,34,21,25,25,24,27,34,27,27,17,17,21,21,22,23,19,20,24,24,27,31,26,32,23,27,27,32,32,22,27,31,22,30,25,25,20,22,23,23,32,23,28,32,26,30,24,31,26,34,37,26,37,28,25,25,35,23,19,23,27,25,32,32,23,21,29,21,21,27,22,18,18,22,22,26,26,23,20,20,22,26,26,26,18,24,24,28,26,16,20,20,24,15,21,23,32,23,21,17,21,30,25,29,29,32,23,33,24,25,29,20,20,24,28,22,38,28,25,25,29,27,27,27,27,27,25,22,33,24,24,28,28,29,36,29,20,24,34,17,26,30,30,30,28,32,18,18,18,24,23,27,30,25,22,23,23,24,24,26,30,21,24,24,28,28,24,31,31,31,35,20,28,31,31,31,23,29,20,20,19,23,35,25,19,27,30,26,27,24,27,23,24,20,25,24,22,19,18,18,20,24,29,32,36,23,19,54,18,26,30,26,28,31,18,22,26,24,24,27,27,22,22,26,22,15,23,26,22,25,29,21,25,23,23,27,27,35,20,24,25,21,25,30,20,25,22,19,27,25,25,22,24,28,21,21,23,23,25,25,18,30,30,23,16,20,20,24,24,24,28,28,21,25,27,31,35,16,23,27,16,30,24,24,26,38,29,33,22,25,20,30,27,20,24,25,34,38,25,26,24,27,19,23,22,22,28,28,28,26,32,32,25,22,31,32,24,26,21,27,23,17,21,21,21,20,26,30,23,23,29,23,23,23,25,26,22,26,26,28,46,29,23,31,30,18,22,19,19,19,20,29,33,24,28,32,26,18,18,46,19,34,26,34,46,22,28,25,27,31,31,31,35,35,35,19,18,22,27,32,27,19,24,24,29,22,20,22,26,25,31,22,20,25,25,21,22,46,17,21,21,24,17,17,17,25,25,29,23,23,26,20,21,21,21,21,25,25,25,25,29,29,44,23,27,23,27,34,21,24,30,26,17,21,21,22,19,29,52,20,20,21,23,23,25,23,35,20,25,27,29,20,24,21,26,30,26,28,27,22,26,26,23,24,21,20,24,28,21,21,25,21,25,25,29,23,31,29,33,22,23,19,19,25,25,25,24,25,27,30,69,25,27,27,22,24,28,32,21,21,21,21,23,36,28,22,28,28,32,32,34,22,22,22,26,28,31,25,23,23,20,20,23,27,23,27,27,23,28,32,24,24,20,20,23,23,18,20,21,26,21,18,24,31,22,22,23,22,27,17,17,22,14,25,33,24,21,23,20,19,23,25,24,23,30,30,27,19,18,29,29,33,30,27,31,23,27,23,27,28,28,32,36,36,40,33,33,33,33,32,32,27,29,27,20,33,33,30,20,23,27,27,30,21,23,25,24,23,25,26,21,26,18,27,24,27,24,28,40,25,26,26,22,22,22,26,30,30,19,20,21,23,23,20,20,28,31,35,27,30,23,23,23,28,23,33,40,18,23,24,28,28,29,26,26,30,27,24,29,24,26,33,37,27,26,22,25,20,24,24,25,21,28,34,28,27,31,22,23,24,23,18,22,22,31,22,27,31,26,26,29,24,23,23,27,35,25,29,26,19,28,17,26,30,21,25,29,29,23,21,25,29,28,32,22,24,24,22,24,34,15,15,28,22,22,30,38,22,26,16,24,28,32,36,26,23,23,23,26,22,25,25,25,16,21,25,26,27,21,16,24,28,32,32,23,26,22,25,20,22,22,26,21,22,25,18,39,25,29,24,30,27,19,27,31,25,24,28,24,34,29,20,25,30,33,22,29,22,18,28,19,21,30,22,22,28,28,20,17,22,26,28,24,21,16,22,26,31,31,22,29,25,29,33,37,19,22,23,24,29,31,35,26,27,22,29,25,29,30,31,34,34,25,28,22,32,23,24,19,37,23,27,20,23,23,23,25,24,42,28,28,23,23,26,24,22,22,22,26,26,26,26,25,33,41,34,21,27,23,37,25,27,31,22,23,28,24,29,29,20,42,23,22,30,21,25,25,27,20,26,26,20,18,18,18,22,28,31,25,27,25,26,26,29,29,29,35,32,19,30,22,26,26,26,26,20,24,28,24,19,27,24,23,25,26,28,30,30,28,20,20,24,24,20,24,25,27,32,23,27,29,19,25,35,21,29,33,27,21,22,24,21,17,23,32,36,25,24,37,24,24,22,23,28,21,21,23,21,27,22,16,16,25,31,31,28,24,20,32,19,23,22,22,21,25,22,21,23,16,16,20,23,22,19,23,21,19,27,23,27,21,21,21,25,26,32,24,26,21,24,30,30,20,29,24,30,34,23,23,23,27,31,31,20,20,20,20,20,24,30,30,29,19,23,39,23,23,31,25,21,26,16,20,20,16,20,26,22,20,32,26,26,26,30,30,25,25,25,20,24,26,30,35,29,30,24,28,28,28,32,32,23,20,24,15,28,26,23,30,20,24,28,32,36,24,28,28,36,27,23,32,25,20,20,29,21,28,31,31,36,25,25,25,25,25,25,28,21,25,29,19,20,21,21,21,21,21,22,22,22,22,28,28,26,20,24,23,27,24,26,22,26,25,22,21,19,32,32,29,26,34,18,28,19,19,23,35,31,25,23,25,21,25,22,24,26,16,20,27,19,21,29,34,23,25,26,19,24,24,28,21,31,27,23,29,31,31,35,43,43,43,28,31,30,23,26,30,30,29,25,25,22,22,28,32,23,28,21,36,18,22,27,38,24,24,28,28,38,22,24,43,47,25,23,23,19,19,19,23,23,23,27,31,23,29,33,20,24,25,18,18,25,24,28,28,31,21,27,27,31,31,17,24,29,21,25,22,24,27,18,18,18,22,22,22,23,27,26,21,25,22,20,28,39,26,28,22,21,25,15,19,23,32,25,22,18,24,24,28,32,27,20,24,26,23,21,24,24,28,21,21,21,21,21,21,19,21,26,24,24,20,28,28,16,16,23,26,24,17,25,25,29,24,28,27,22,26,21,21,22,30,23,28,25,23,25,29,30,20,19,38,38,38,37,20,24,28,32,20,20,20,20,23,22,40,46,23,24,48,45,30,29,22,31,23,20,28,32,29,20,24,20,19,15,22,23,23,25,15,27,30,24,26,24,24,37,23,26,38,32,20,26,30,20,25,25,25,25,29,25,23,27,26,22,26,23,26,22,26,21,16,16,23,27,31,22,20,22,26,25,27,25,23,17,23,27,23,22,21,23,24,24,25,29,18,22,22,33,22,22,22,21,26,25,24,25,22,25,29,23,26,19,35,26,22,27,20,24,20,25,19,25,17,21,29,17,26,23,27,22,25,30,45,49,20,24,28,32,23,27,27,27,22,22,22,25,31,20,18,18,26,26,30,27,27,25,29,18,27,27,28,29,27,18,22,26,30,21,21,25,21,22,32,21,21,21,21,21,30,29,28,23,30,21,26,26,21,25,28,25,25,22,27,27,30,28,22,15,20,22,22,29,23,19,27,31,22,25,28,32,25,29,31,31,31,23,24,29,25,24,26,23,20,30,27,26,33,37,23,24,22,20,40,26,24,30,22,22,22,22,26,19,19,22,44,24,23,23,50,14,21,22,27,27,36,19,23,35,39,51,19,23,22,39,27,32,22,22,35,26,21,25,29,20,36,23,23,27,27,21,29,26,26,26,22,15,27,27,18,26,25,29,32,32,32,19,36,27,25,21,23,24,24,22,26,24,24,24,40,28,22,26,27,31,24,24,25,21,22,20,24,26,30,38,25,23,22,26,20,24,25,32,20,20,23,41,41,28,23,25,21,25,23,27,38,18,16,30,21,24,28,32,21,24,28,32,19,24,18,26,27,24,23,29,29,34,28,18,18,24,22,28,19,29,21,25,25,25,21,31,22,22,22,24,40,40,44,27,19,19,19,29,33,35,34,40,18,25,26,28,26,20,29,23,27,27,25,25,25,24,22,20,24,21,21,25,27,25,29,28,28,32,27,27,25,25,29,29,25,32,24,24,26,22,27,23,24,23,25,24,23,25,22,19,19,19,24,21,21,25,21,22,22,22,22,21,22,25,27,25,33,23,25,29,37,36,29,33,33,26,29,28,24,27,31,27,31,24,29,29,33,33,29,19,23,27,31,26,23,25,18,30,32,25,18,29,29,21,25,17,17,17,23,25,18,17,19,35,28,23,31,35,51,24,36,36,25,23,23,27,27,32,32,21,24,26,23,25,29,27,21,20,16,19,23,23,23,27,20,24,28,28,20,28,33,29,30,34,34,26,26,27,33,24,26,26,33,23,27,21,29,26,22,26,28,27,31,29,25,19,33,18,18,24,28,32,36,22,16,16,20,20,21,22,33,23,23,27,27,24,36,29,22,26,30,30,26,26,32,32,27,28,22,26,30,33,33,22,26,29,25,36,22,18,22,34,23,24,19,19,25,26,21,20,24,29,25,22,26,30,39,24,26,15,26,20,22,23,27,20,23,22,29,26,26,30,30,34,36,21,21,20,22,30,23,27,50,50,23,21,25,36,21,22,27,22,22,26,27,26,23,25,20,25,22,22,23,27,32,26,22,25,31,23,23,23,26,24,28,26,26,30,18,30,30,30,30,30,30,30,27,27,19,27,17,31,22,36,24,36,22,22,20,26,25,36,27,25,25,28,24,28,32,20,28,34,23,23,28,22,21,25,21,26,29,33,24,24,28,22,30,30,27,27,27,27,22,20,24,28,21,25,24,28,21,25,24,30,49,24,24,28,18,24,23,27,35,22,26,22,29,16,30,34,21,22,22,26,37,20,29,41,33,25,22,26,47,25,22,25,29,31,49,22,26,19,23,27,30,22,16,19,25,19,20,44,44,44,26,19,27,33,37,41,41,24,28,32,32,32,36,36,23,31,22,20,25,23,31,28,31,23,30,20,27,31,27,27,25,26,22,26,24,27,24,20,34,31,22,21,25,26,30,17,17,21,23,19,19,23,27,24,22,22,24,32,23,23,15,18,26,21,25,22,20,21,25,18,21,29,18,22,22,26,26,27,31,31,25,54,20,19,20,26,26,28,32,30,23,30,31,31,27,29,46,26,30,20,23,30,30,38,23,25,24,18,22,42,26,30,35,28,32,18,18,22,28,29,21,24,21,21,19,29,25,30,28,22,26,30,25,17,26,23,23,29,33,33,37,25,15,43,43,42,29,24,31,16,25,25,26,22,29,28,24,28,29,29,29,29,29,25,21,21,22,27,30,26,37,26,18,18,46,31,31,24,29,29,33,21,30,17,17,30,34,42,21,24,28,23,23,27,16,16,16,20,20,20,20,20,39,38,24,24,30,20,28,20,24,20,17,29,21,28,20,30,34,25,27,18,30,32,21,21,21,31,28,30,21,24,20,20,20,20,20,25,34,22,20,32,26,30,23,25,24,28,22,21,30,17,25,24,21,24,22,34,24,22,19,24,20,22,26,30,20,20,21,27,25,22,22,15,15,15,15,23,20,20,25,20,37,31,43,47,33,27,31,20,15,25,22,18,22,26,26,26,26,24,25,19,23,22,18,22,22,25,19,23,28,19,19,19,23,29,21,25,29,30,28,23,22,23,23,26,24,22,31,28,32,23,22,30,31,24,22,31,20,26,25,24,27,26,24,28,31,24,20,22,26,20,24,28,32,31,19,19,31,35,39,43,23,29,28,32,26,35,39,25,24,24,24,32,24,19,23,23,27,31,31,35,39,25,19,23,28,24,21,25,28,26,30,23,22,25,29,33,26,30,25,21,24,24,24,17,17,21,21,24,23,27,24,28,28,23,29,28,23,19,30,21,20,34,17,25,21,28,18,19,22,25,21,21,18,22,20,20,20,25,20,24,27,26,30,25,25,21,19,19,22,24,19,23,27,23,23,22,20,22,21,20,24,32,27,21,21,23,21,21,28,20,28,27,31,28,27,21,29,41,41,21,32,26,22,21,23,27,19,28,28,28,24,28,19,29,37,28,17,21,29,29,25,25,37,22,26,20,29,27,22,25,22,25,24,25,25,22,28,22,22,29,33,25,20,23,24,28,24,16,27,23,21,24,19,19,24,30,19,23,27,19,28,22,22,22,26,20,27,24,26,22,27,24,23,21,25,20,23,48,20,25,28,21,23,34,38,25,26,20,25,21,22,16,24,23,24,25,26,29,26,26,30,22,26,26,30,30,24,21,27,30,20,26,21,25,19,23,24,21,29,33,33,22,26,30,25,27,24,28,25,28,36,28,23,24,26,24,23,27,25,25,29,29,19,22,23,25,29,63,28,21,30,28,28,22,26,22,15,32,21,21,26,25,29,25,25,27,20,20,27,16,20,23,25,24,25,21,27,20,28,22,30,24,26,25,23,27,28,22,19,25,28,28,18,22,26,21,21,29,23,33,22,29,18,19,24,42,23,24,29,29,23,19,23,23,23,22,22,23,22,27,22,22,19,24,23,27,23,20,14,29,25,18,18,22,22,29,16,20,25,29,22,22,21,29,38,42,29,22,26,25,29,22,25,23,23,21,34,25,21,19,21,39,39,39,27,27,27,19,23,27,31,23,22,20,20,23,22,22,22,29,19,52,27,22,46,25,22,22,23,17,17,20,22,29,28,23,23,23,22,24,25,17,24,21,24,28,24,29,21,25,25,64,33,37,20,26,26,25,27,27,25,23,22,25,25,18,23,25,25,29,24,27,19,19,23,23,23,27,27,25,20,25,33,21,23,24,24,29,22,20,20,24,22,26,26,34,42,22,26,23,34,25,22,22,25,26,31,38,41,35,39,22,23,23,19,21,25,27,29,28,27,24,24,20,15,27,19,23,20,20,19,23,27,22,21,24,28,24,23,18,16,21,30,27,23,20,34,25,24,23,24,22,31,23,27,31,22,25,18,25,19,21,21,25,24,20,24,24,23,26,22,26,26,22,25,20,24,28,33,27,18,18,23,27,23,23,25,24,28,24,29,23,23,27,26,24,22,27,26,24,28,23,28,21,27,24,32,36,27,21,26,24,28,28,29,27,25,26,21,23,30,20,19,27,31,18,22,43,24,16,22,18,23,19,23,16,16,20,20,20,20,20,24,28,25,25,16,16,35,27,29,23,27,24,20,27,22,34,22,26,23,36,36,38,21,28,28,28,34,34,34,25,20,24,26,28,26,29,22,23,27,21,25,36,32,28,24,26,29,24,29,29,24,24,24,20,27,25,29,33,24,21,25,25,24,23,27,27,27,31,25,20,24,35,19,18,24,20,20,20,35,22,51,24,22,17,23,25,25,27,29,33,18,25,29,28,51,23,27,25,29,33,37,22,22,28,19,23,20,22,44,22,26,34,26,34,32,25,25,20,36,19,25,26,25,31,20,31,24,28,25,27,18,22,24,27,27,27,26,32,36,26,26,28,33,31,23,27,21,21,21,32,46,20,18,22,23,22,23,24,28,18,18,22,22,22,23,21,27,22,25,22,21,29,23,25,31,26,23,20,23,28,18,29,21,28,30,20,25,25,27,24,28,24,25,23,23,21,22,26,24,24,28,23,25,23,27,27,22,26,26,26,26,26,31,31,34,34,34,36,29,24,34,26,22,26,30,36,18,20,21,24,27,32,32,32,21,31,31,28,30,23,21,16,20,25,21,25,22,19,30,22,25,20,26,21,25,21,25,21,25,30,16,17,20,24,24,27,21,22,26,22,32,22,45,21,23,23,34,24,28,28,32,32,36,27,17,17,17,22,22,22,20,28,24,29,22,24,28,22,21,24,24,24,27,23,20,24,26,23,24,28,24,23,27,30,24,16,44,21,30,30,20,20,24,24,28,22,26,26,30,30,36,25,24,23,33,37,24,36,24,32,19,23,27,26,29,33,38,32,27,35,31,23,25,24,32,24,22,17,27,30,34,38,24,24,32,32,32,19,24,23,27,29,29,33,23,22,23,43,43,21,23,25,24,17,21,21,25,26,31,35,24,20,32,33,35,26,30,24,25,21,25,25,22,22,28,30,24,17,20,22,22,23,19,25,25,21,22,22,23,40,45,21,33,20,22,26,29,21,21,23,23,33,33,16,21,19,23,24,25,22,20,40,23,25,21,16,16,16,25,25,24,24,26,32,44,44,48,32,22,18,24,28,28,33,24,21,33,21,25,23,29,16,16,16,16,26,25,40,20,26,20,21,33,33,27,24,22,21,21,23,25,29,26,18,18,22,24,22,20,29,26,20,24,25,18,25,24,21,21,20,22,30,27,31,35,24,28,27,27,32,25,21,21,26,22,22,22,31,15,23,26,26,26,35,20,23,19,22,35,24,28,28,28,20,20,25,20,25,23,37,22,26,21,19,23,25,39,33,18,24,26,15,15,18,18,18,22,22,22,26,24,27,20,20,24,31,31,23,37,17,32,24,24,27,31,20,22,41,25,25,23,19,27,18,33,29,22,26,32,44,44,48,18,26,28,28,24,28,32,40,24,28,44,21,33,19,31,28,27,19,33,20,32,26,27,29,21,28,21,29,20,24,35,24,28,25,20,24,30,17,32,24,30,25,21,35,34,26,28,19,15,24,28,24,28,22,22,23,28,29,38,42,53,53,57,25,37,26,26,26,25,24,25,20,25,22,26,30,18,18,22,22,21,24,22,26,26,30,30,34,23,20,21,22,22,30,20,22,23,27,31,23,52,25,20,24,23,28,22,18,32,21,25,25,30,20,18,18,26,26,26,23,24,27,31,21,32,23,28,22,25,33,24,25,22,25,24,26,22,29,32,30,18,18,22,30,25,19,20,26,24,20,24,28,21,29,29,34,34,21,28,24,23,22,27,22,20,25,24,24,24,31,29,21,26,26,29,20,30,29,26,30,27,27,31,25,36,24,32,17,21,29,32,27,25,25,25,29,29,22,20,24,17,24,26,21,21,21,25,26,32,25,26,23,22,21,25,32,21,21,29,29,33,21,28,27,25,24,25,24,23,33,25,24,26,24,25,24,22,38,32,29,29,23,23,25,34,34,34,38,23,27,31,23,27,35,22,25,25,25,17,24,31,27,31,25,30,22,19,19,26,28,32,23,27,27,23,29,29,29,24,33,25,21,27,19,19,23,33,32,36,22,37,41,45,22,22,26,26,26,27,19,29,31,26,28,30,26,26,24,28,27,23,22,22,23,20,20,48,24,30,25,26,16,28,21,31,21,25,27,25,23,27,26,27,23,22,22,26,34,28,19,28,24,23,31,34,25,18,22,24,22,21,28,28,27,22,27,23,26,26,32,27,32,23,23,27,23,27,31,24,24,30,24,23,29,33,26,28,32,28,19,24,28,32,27,31,20,24,23,22,26,26,22,25,30,28,31,23,37,37,28,25,29,46,29,22,27,33,28,24,28,32,25,32,36,25,30,29,29,25,26,26,21,25,25,29,29,42,25,18,22,19,24,25,25,21,25,25,24,29,20,24,28,32,31,23,45,22,28,23,27,19,27,23,27,24,28,25,26,30,23,27,17,21,30,22,28,23,27,23,22,50,22,26,26,27,30,31,24,28,28,23,27,22,20,24,17,21,25,29,26,30,28,31,36,36,40,40,29,23,30,24,28,23,27,31,24,27,30,35,33,22,21,29,25,28,36,28,22,23,26,25,19,26,26,26,30,17,23,31,21,41,41,25,25,25,25,24,28,32,25,20,24,28,28,17,19,43,24,24,28,28,21,21,23,20,25,21,19,25,29,24,25,30,20,25,21,19,23,27,25,31,21,36,22,18,24,21,28,27,25,23,24,18,22,22,22,22,22,25,25,25,25,25,29,29,29,26,26,25,22,21,22,22,25,27,24,25,26,22,22,21,25,29,22,21,19,24,24,22,27,21,20,22,30,25,32,25,29,26,32,28,23,27,25,22,22,21,24,20,18,18,24,20,22,25,23,26,17,34,25,22,26,27,24,20,20,26,24,28,25,28,22,24,24,28,26,20,29,23,22,17,17,17,21,23,27,26,21,26,28,26,27,29,32,20,28,21,23,25,29,31,18,28,28,25,25,27,20,23,24,28,28,32,32,26,26,26,30,21,24,28,25,17,21,27,31,31,31,31,31,35,35,35,35,35,35,23,27,31,35,36,36,36,18,22,26,32,23,23,27,31,26,23,23,18,18,22,22,26,27,19,27,20,24,21,18,26,20,29,24,20,26,26,48,48,20,28,32,19,29,30,30,34,23,25,25,28,22,30,19,20,24,42,46,46,23,31,27,17,26,25,25,27,33,25,22,22,22,28,18,28,37,37,41,24,28,33,20,24,19,23,20,25,20,24,20,20,24,24,24,24,28,28,28,23,20,19,22,26,23,20,28,24,27,30,23,21,35,21,20,20,24,24,28,28,28,27,22,21,25,28,21,22,30,28,24,28,26,25,24,28,19,29,33,25,25,22,22,51,29,20,32,27,22,24,20,20,24,28,48,17,17,22,21,21,20,16,23,27,24,28,28,23,29,26,25,22,22,34,22,22,27,27,22,33,33,33,18,28,18,21,38,24,28,29,27,22,26,30,22,26,20,24,28,26,30,20,25,19,25,22,21,30,34,38,23,23,20,17,23,26,31,27,23,17,25,19,27,24,20,29,29,25,17,17,25,24,28,32,17,21,25,25,25,20,23,27,31,29,26,23,28,30,25,25,29,21,26,26,21,25,21,28,28,20,32,23,24,27,19,23,23,23,26,20,24,28,32,36,25,24,27,31,21,22,26,30,25,17,17,21,21,21,25,25,28,26,21,24,32,24,25,16,25,25,24,19,26,24,28,24,30,34,26,30,29,29,27,22,30,25,23,27,20,24,27,23,24,29,28,28,32,32,36,22,30,24,24,28,28,22,21,25,24,28,25,20,27,35,19,26,30,23,21,25,24,18,27,26,21,22,21,23,19,22,22,26,30,34,25,23,27,21,20,32,20,29,33,20,24,24,30,20,31,20,25,29,21,25,25,25,22,26,22,16,20,28,25,24,24,24,29,25,18,18,22,23,21,24,23,27,35,26,21,29,20,18,22,19,24,32,20,24,28,17,17,20,21,23,24,24,26,31,25,20,24,26,27,31,25,28,18,22,26,26,28,21,22,24,20,30,22,20,23,27,20,24,27,23,27,22,19,23,19,23,28,32,22,26,21,20,24,22,21,26,27,31,22,27,23,21,24,25,22,26,35,21,25,28,23,24,23,27,25,27,20,20,18,18,18,18,22,22,25,19,21,28,21,19,29,33,23,22,17,17,30,20,21,30,21,17,17,21,21,29,29,20,29,21,26,22,22,22,26,23,20,23,22,24,22,29,21,28,23,29,26,25,24,19,23,26,18,13,17,27,21,28,21,27,21,20,28,23,27,21,25,32,20,33,29,33,27,31,35,22,30,25,21,25,21,23,23,21,19,19,25,27,22,26,30,26,20,19,19,28,27,28,21,26,26,30,31,25,25,21,24,28,19,21,21,27,31,26,29,16,20,22,19,27,27,26,27,19,23,31,26,26,27,31,25,19,29,23,30,25,25,21,33,19,23,21,24,30,30,26,21,23,27,35,33,26,25,22,32,24,31,18,22,26,30,21,25,29,28,28,26,26,30,21,21,21,23,32,21,33,21,31,25,21,26,30,26,28,21,22,20,20,22,35,22,27,26,31,19,24,24,24,29,26,22,26,29,31,25,21,25,30,21,25,25,33,35,39,28,28,28,28,32,38,38,32,25,33,37,20,23,25,26,27,24,18,26,30,24,25,21,25,25,29,28,32,24,30,22,26,30,21,21,23,21,22,21,26,26,22,21,21,21,25,25,25,29,14,22,22,21,23,22,36,37,37,36,28,17,26,24,25,33,29,22,24,19,19,24,28,28,28,32,24,19,23,36,40,40,44,20,25,29,23,28,22,24,31,23,27,27,31,31,21,25,25,22,21,27,26,22,22,22,26,22,28,30,26,26,23,22,26,26,26,26,26,23,27,30,28,25,22,15,32,28,29,35,23,26,37,22,22,22,22,20,29,16,41,44,27,25,22,22,22,28,22,17,24,24,28,32,28,22,19,21,23,31,20,27,31,35,35,44,30,23,26,24,30,21,18,23,23,26,31,24,23,18,23,23,23,23,26,31,35,27,19,19,23,23,23,40,44,48,28,32,32,40,40,48,48,52,23,23,35,17,21,25,24,21,25,28,23,28,32,24,27,20,29,18,18,18,22,22,27,25,27,30,24,25,28,20,25,22,17,20,24,21,19,29,23,22,31,38,42,25,26,25,26,20,21,18,18,26,20,24,22,18,23,17,17,21,18,27,26,27,27,27,25,29,20,20,34,24,19,23,27,24,22,19,23,22,22,19,24,23,32,20,24,50,33,24,28,41,23,24,26,39,46,19,23,27,22,26,33,30,22,22,32,29,30,32,21,25,36,28,32,22,21,28,19,29,23,27,27,27,31,35,30,27,25,32,30,18,26,15,23,21,27,22,22,20,25,23,21,24,24,33,23,21,20,21,24,17,45,23,23,24,25,32,18,28,21,25,19,19,27,22,24,18,22,31,27,21,25,22,27,23,22,30,26,23,21,21,25,24,28,25,22,18,24,23,29,24,21,22,24,23,27,27,24,28,29,18,16,20,28,28,22,26,19,23,31,35,17,23,18,18,28,22,17,17,21,18,24,23,23,27,31,36,18,22,28,32,37,28,24,28,20,21,23,27,14,18,18,22,22,30,35,19,37,26,26,26,34,25,33,33,37,37,21,25,27,39,33,22,22,22,22,30,27,22,22,24,16,27,26,25,26,25,27,22,18,25,35,32,32,30,25,21,28,32,18,22,22,26,30,34,27,25,22,26,34,24,24,28,32,24,28,23,27,20,15,22,29,32,24,30,27,27,18,23,22,27,27,27,27,22,20,24,17,17,28,21,19,20,32,21,24,21,23,21,25,29,20,22,30,27,23,31,20,24,24,26,37,24,28,35,39,23,23,25,23,26,27,19,19,19,23,27,22,24,24,22,26,30,28,24,25,29,26,30,18,24,32,48,23,27,31,18,23,27,16,16,18,18,18,25,25,20,27,22,29,41,30,20,49,25,18,24,28,23,27,24,27,31,35,26,31,17,21,21,21,26,22,22,24,28,24,29,19,26,29,20,20,17,31,26,17,17,17,17,21,21,25,25,18,27,20,20,34,29,29,29,25,31,31,24,27,23,27,29,29,21,25,29,24,28,27,22,23,29,26,27,22,23,27,22,22,26,25,22,22,26,25,22,23,33,35,33,33,21,21,25,20,20,20,20,20,20,24,24,28,29,20,27,23,20,28,24,28,23,22,22,21,28,20,24,27,32,32,36,25,26,30,20,23,28,21,23,19,22,28,19,21,17,16,16,26,21,20,21,21,23,23,23,21,29,29,22,25,29,24,32,24,24,29,32,23,23,25,25,25,25,22,23,31,26,23,27,21,25,29,29,24,33,26,30,30,34,20,20,20,20,24,24,27,19,19,27,27,30,32,26,18,18,26,30,30,34,29,29,18,23,31,34,32,25,18,24,27,22,22,22,23,31,28,22,20,20,21,21,37,24,23,27,18,27,20,20,31,29,29,22,31,26,30,20,28,33,26,22,27,31,15,19,20,22,26,34,26,30,21,25,30,22,34,27,30,23,24,24,28,28,32,32,36,36,24,36,36,39,39,44,48,20,25,29,24,23,19,25,18,25,21,27,21,21,25,30,26,29,29,18,28,25,23,35,21,25,29,23,27,27,29,26,23,28,28,25,21,38,38,23,27,27,27,31,20,21,21,21,25,24,24,28,29,28,21,25,25,29,29,29,23,26,25,25,27,26,25,29,18,20,39,23,31,21,20,28,32,29,29,31,31,24,28,22,26,30,21,28,32,30,18,23,26,26,30,30,18,26,27,23,22,22,22,16,23,23,23,23,27,31,23,31,22,27,22,24,16,20,20,20,36,30,31,24,17,27,19,19,23,23,27,27,27,20,27,31,23,18,18,20,26,25,25,20,21,26,29,23,28,24,28,18,27,29,22,20,31,21,21,21,25,25,21,24,26,18,26,30,22,20,24,26,30,27,31,35,42,24,24,22,29,33,23,21,25,31,35,28,24,25,29,30,26,30,20,21,24,24,24,28,23,29,21,27,26,30,28,18,28,18,25,27,25,21,27,20,22,23,28,25,24,24,28,20,31,28,32,24,25,24,24,27,53,20,23,24,20,28,19,22,23,27,27,31,24,26,25,19,19,27,30,23,24,28,23,27,25,19,27,29,33,30,31,32,33,26,25,20,26,26,25,46,35,22,29,23,23,17,21,21,21,22,22,23,58,32,25,33,21,30,29,22,27,27,31,31,19,25,24,27,20,24,24,47,25,27,27,26,21,21,23,30,24,26,26,31,18,26,23,27,29,26,30,34,20,35,25,29,24,28,18,22,19,23,27,34,23,25,23,30,20,24,24,24,24,25,24,25,18,21,16,24,28,17,21,26,28,22,25,26,30,27,31,25,24,28,23,23,23,24,29,24,25,30,19,23,28,21,24,24,24,30,38,26,30,42,42,42,25,24,28,19,19,19,19,32,23,19,23,31,35,21,22,30,28,32,19,18,21,25,22,19,25,29,15,25,25,25,25,20,24,23,24,21,39,24,24,32,23,23,18,25,25,24,21,29,23,25,20,27,27,29,33,24,28,32,16,25,25,29,19,23,27,22,21,26,25,25,29,29,29,33,33,37,27,23,26,30,34,23,27,27,31,31,35,21,33,23,27,26,21,25,29,30,35,27,31,23,20,21,25,25,25,29,21,21,25,25,29,23,26,30,22,29,29,21,22,24,33,22,24,25,29,26,26,30,22,26,34,26,26,23,17,18,25,20,22,20,34,21,24,32,21,29,28,25,26,24,28,28,32,32,36,25,22,25,23,22,22,18,18,25,26,26,22,21,24,24,18,21,25,23,27,23,27,25,32,20,24,24,20,23,27,27,30,20,23,29,26,22,27,26,21,37,23,29,37,18,28,32,36,30,21,25,20,20,30,26,23,34,21,22,23,22,29,22,20,24,23,27,27,31,31,32,25,25,23,26,21,29,25,29,29,29,29,33,23,28,21,21,23,25,34,24,25,26,30,29,33,22,29,25,23,25,23,27,31,22,26,25,25,29,41,45,30,22,25,28,26,26,23,24,23,33,23,27,24,28,19,19,31,27,27,22,29,15,21,27,29,24,24,24,22,20,23,26,25,26,18,21,17,21,22,29,33,29,16,21,25,27,23,26,21,39,25,21,25,16,22,23,27,26,30,25,23,21,24,32,16,28,29,26,18,24,28,32,32,36,29,26,26,25,25,23,27,31,22,25,24,22,29,18,18,32,36,27,17,17,24,23,31,29,19,29,26,26,22,24,22,16,32,21,25,21,22,63,30,25,20,27,30,21,25,29,19,33,50,50,20,40,22,26,27,22,26,22,26,30,24,32,23,23,23,27,28,27,21,25,22,27,25,30,22,27,19,30,34,23,18,18,18,22,22,22,23,22,25,31,24,28,22,27,24,25,16,25,40,40,48,20,28,28,31,37,37,25,28,30,30,28,29,20,33,31,26,20,21,23,23,31,28,15,24,28,28,32,36,36,20,24,20,24,27,22,19,19,28,17,19,27,23,24,28,19,23,35,35,35,39,39,19,27,29,20,22,26,26,22,21,22,25,27,18,21,52,30,32,28,21,20,28,21,21,25,29,21,25,29,26,20,20,20,28,28,28,22,21,20,20,33,28,28,28,53,28,20,25,18,23,23,21,27,35,26,19,28,32,32,36,36,27,25,29,42,46,54,24,28,32,26,30,29,35,35,39,34,24,27,27,29,27,27,27,31,31,25,29,33,30,30,24,30,19,24,24,23,38,22,31,23,21,25,25,21,16,16,25,24,19,19,19,25,22,26,26,21,20,23,25,18,42,42,29,34,24,25,26,30,24,24,28,26,37,36,27,30,22,23,27,41,22,30,23,23,33,33,22,27,25,22,30,30,29,29,20,24,48,25,28,26,28,28,32,36,20,30,20,20,28,32,23,22,28,25,40,32,24,22,22,30,30,34,19,21,26,26,26,26,26,30,21,25,33,38,20,25,20,20,28,25,29,27,21,26,32,32,26,23,23,23,23,20,21,21,23,23,27,19,25,22,25,28,26,24,24,21,29,20,21,15,29,26,24,19,23,31,20,31,28,26,27,28,19,31,20,28,29,26,30,34,26,27,23,22,26,18,22,26,19,41,45,27,25,21,21,21,21,21,21,25,25,25,25,25,25,29,29,29,29,29,29,18,30,20,24,44,29,22,30,21,23,21,25,21,21,23,21,21,21,23,28,18,21,21,23,27,28,23,19,27,31,23,19,29,27,18,33,30,26,30,34,24,25,28,27,24,24,27,21,21,21,23,23,49,29,33,39,23,25,29,22,30,30,19,28,22,19,26,26,30,38,42,27,16,20,34,25,36,35,39,39,22,28,25,23,16,23,26,21,29,26,22,32,24,24,28,25,38,27,33,23,24,23,27,31,58,26,28,19,23,18,18,18,18,25,25,29,24,24,25,25,22,23,27,31,35,20,16,26,28,32,32,32,32,32,22,26,20,31,30,30,26,17,21,21,21,26,32,27,27,29,20,20,24,24,27,22,31,29,22,25,25,25,43,25,27,27,31,19,34,16,24,36,40,45,45,29,29,32,22,22,26,23,21,30,21,32,22,22,20,24,22,22,26,21,21,28,26,24,28,28,32,32,30,32,21,21,25,24,21,31,22,24,28,20,21,33,19,32,26,31,33,23,46,46,52,52,52,54,20,53,28,15,19,19,19,19,19,27,25,25,29,29,33,37,37,22,22,28,20,29,33,24,23,23,23,27,25,26,20,24,25,29,33,26,20,24,26,34,26,30,18,25,20,23,27,22,20,22,24,25,24,28,22,19,19,19,19,23,23,21,26,23,19,27,27,19,25,24,24,20,20,20,24,28,28,27,27,26,26,20,25,20,23,28,27,27,27,31,21,29,34,20,24,27,21,19,19,27,21,25,19,21,21,25,24,31,21,26,18,20,18,28,21,31,25,31,31,31,31,31,31,31,23,20,19,23,22,30,25,15,15,22,26,25,33,24,33,25,22,21,19,23,24,24,22,26,24,37,24,26,29,37,41,25,26,25,28,30,30,27,23,27,27,35,35,39,18,23,24,24,32,32,23,24,32,29,29,29,23,23,21,26,21,24,26,21,23,20,24,32,36,23,27,26,25,22,26,31,30,25,21,21,28,28,25,31,21,24,28,20,29,33,37,41,24,34,17,21,17,28,24,18,24,24,32,22,25,24,18,38,21,19,37,22,26,25,29,17,20,30,34,36,24,26,26,26,26,28,28,32,32,26,30,25,23,15,31,27,38,42,19,20,20,20,24,28,20,28,28,28,25,19,19,23,23,23,23,27,24,28,23,44,30,26,23,23,23,24,20,30,31,30,25,35,19,19,27,30,23,23,23,24,24,26,30,21,40,14,30,20,25,29,36,27,26,26,30,30,23,30,21,20,28,22,36,36,36,19,19,26,34,34,23,38,46,46,37,17,25,24,28,32,36,25,19,24,22,25,25,31,28,38,27,23,28,27,19,21,23,29,25,22,20,22,21,44,48,48,48,21,21,25,32,23,22,22,26,28,22,22,26,26,21,27,27,31,27,27,28,22,23,21,25,25,23,29,33,27,27,36,40,32,24,29,25,23,23,23,23,27,27,27,31,31,35,20,27,23,28,25,23,18,18,23,27,25,29,25,21,24,19,19,23,23,22,21,25,26,30,20,24,24,24,24,28,28,32,32,32,36,34,23,23,21,25,29,22,24,27,18,21,29,22,22,26,25,23,22,22,22,25,28,27,21,24,18,26,30,22,22,26,26,30,27,24,22,22,22,24,22,24,24,27,25,23,18,29,16,16,19,31,23,27,20,20,20,20,20,20,26,15,31,31,24,16,30,21,24,17,22,23,19,19,23,27,27,21,22,18,18,18,22,22,22,24,24,28,28,22,18,21,22,20,23,33,21,18,29,26,26,20,18,19,25,22,30,28,22,22,20,23,28,23,31,29,57,21,34,38,46,46,46,50,50,28,32,23,38,43,31,28,25,26,30,25,22,30,19,22,22,25,35,25,22,42,46,24,18,21,23,29,21,23,25,22,24,20,21,21,29,26,26,34,46,29,22,22,22,22,24,24,25,25,22,28,26,26,30,24,28,26,21,39,46,26,23,20,27,36,36,36,41,41,41,24,29,33,26,23,25,30,23,22,20,24,28,24,24,21,21,21,25,23,21,26,23,21,22,17,25,24,28,32,27,21,24,27,27,36,36,25,29,23,31,24,33,26,35,39,33,29,23,24,25,25,28,22,27,24,30,27,31,24,25,29,20,27,20,20,47,21,28,36,56,41,27,31,19,24,22,24,25,25,23,28,32,36,45,47,24,28,22,23,52,30,20,25,29,33,25,31,24,27,26,17,23,25,27,21,26,18,28,20,24,23,26,30,34,32,25,22,28,26,22,18,33,17,21,24,28,32,23,27,31,24,24,28,32,24,22,26,21,39,23,21,21,21,23,27,31,27,20,28,28,28,41,44,44,20,20,24,24,26,28,24,38,25,27,22,31,23,27,15,15,23,35,18,18,23,26,26,38,38,42,28,19,24,28,27,20,22,24,32,25,21,20,24,24,24,24,28,22,16,23,27,26,30,26,30,58,23,29,25,27,20,22,30,23,21,29,21,25,20,20,24,24,29,18,27,22,20,26,19,21,25,25,19,27,25,20,24,26,25,21,28,26,21,21,27,24,23,27,21,28,22,23,24,24,19,18,18,18,18,18,26,25,24,24,28,25,25,34,23,25,23,21,25,25,23,25,22,22,30,30,25,24,22,26,30,20,28,37,40,35,39,29,29,19,31,35,39,39,37,40,32,28,25,23,24,26,30,26,21,37,33,21,25,29,24,28,30,26,17,21,21,17,20,18,28,27,26,19,27,17,17,17,27,19,23,22,18,20,28,20,20,24,24,24,38,20,20,24,24,24,24,27,27,27,27,27,32,39,24,24,28,36,21,33,23,27,20,19,26,26,26,22,27,28,22,22,32,22,28,26,20,20,24,28,28,22,25,24,24,21,27,31,32,24,29,20,20,24,36,21,21,29,30,19,23,38,25,30,26,30,24,20,24,23,27,36,21,25,21,30,23,26,27,25,32,30,34,25,29,24,52,23,23,25,20,24,23,25,21,17,25,24,33,37,37,41,30,49,29,29,24,19,22,33,30,38,42,19,23,35,26,30,21,26,24,25,34,24,23,29,37,25,23,22,24,21,23,17,25,25,31,22,20,24,30,34,26,22,27,25,29,33,27,27,28,20,21,25,29,21,23,20,23,20,29,32,44,37,45,25,22,30,30,19,23,19,32,24,25,25,25,37,30,24,28,25,19,28,36,32,29,34,29,30,31,29,22,20,24,30,20,20,20,24,24,20,20,16,24,24,28,28,23,27,31,23,25,25,20,24,10,26,23,23,26,21,21,20,18,36,22,26,29,20,25,29,33,40,56,28,22,27,22,36,32,23,20,21,25,21,23,20,19,31,29,20,30,23,21,29,22,32,20,24,32,26,30,27,20,29,33,24,29,15,19,23,21,20,15,15,23,27,27,32,22,23,23,22,25,23,23,26,23,25,18,32,26,26,32,24,23,29,24,28,21,19,26,20,23,21,21,23,25,25,29,38,24,28,25,26,26,30,34,34,23,27,26,30,31,25,22,25,20,22,20,25,25,29,37,30,35,20,28,22,27,35,20,21,26,20,22,30,25,21,24,28,33,24,22,32,20,31,29,24,27,16,21,29,33,26,22,24,28,29,24,23,26,30,39,46,21,31,25,25,20,23,34,38,31,23,24,20,25,24,22,24,24,28,28,20,30,30,27,25,43,51,36,31,18,26,34,28,32,36,23,23,23,30,25,23,24,37,20,23,24,27,22,23,23,28,19,23,31,29,29,29,33,23,29,29,33,29,20,20,21,19,25,26,22,21,20,24,28,20,26,30,34,23,29,25,20,22,21,28,32,23,27,25,22,26,25,29,33,20,28,24,23,27,26,45,49,20,26,29,29,23,27,24,26,30,34,19,29,23,23,22,27,24,26,16,31,32,28,32,26,26,30,25,30,23,22,31,24,24,34,23,27,18,43,25,45,21,23,18,23,18,24,35,35,25,28,17,17,17,29,23,23,23,20,21,21,21,25,21,21,21,21,20,24,24,28,28,23,27,27,24,27,21,21,28,24,21,18,26,26,20,24,28,40,27,27,28,19,24,28,23,31,31,31,26,22,18,23,24,26,27,28,29,21,27,26,22,23,25,16,20,24,24,28,28,28,27,39,23,30,29,31,24,28,21,25,29,30,30,25,22,31,38,19,20,41,17,20,20,20,28,28,28,28,28,23,27,31,23,26,26,29,31,24,19,31,48,20,19,23,20,26,26,29,32,32,32,28,22,29,23,27,23,27,28,32,25,24,21,25,68,22,28,18,29,26,28,24,28,20,24,40,44,44,52,25,21,27,26,30,25,19,19,19,26,30,30,46,40,21,18,27,26,27,23,27,28,40,40,48,48,31,23,23,24,22,20,26,29,24,18,22,28,22,26,30,25,25,25,26,21,25,29,33,32,20,24,26,21,17,20,23,24,32,23,23,27,31,28,26,22,26,22,22,21,21,25,19,29,24,32,28,29,22,19,24,22,26,26,30,25,28,29,22,24,36,25,25,22,28,20,22,26,28,21,22,24,33,33,33,22,26,26,23,23,21,25,25,29,29,23,27,25,25,33,33,23,24,24,28,24,19,27,31,24,24,28,30,24,24,28,45,23,21,27,31,28,30,23,26,30,26,38,30,20,17,22,28,20,24,29,25,21,27,31,21,25,29,30,28,23,27,28,25,25,31,37,24,22,30,34,24,28,28,24,28,28,32,32,24,39,31,36,25,17,21,20,22,19,27,31,30,25,25,22,20,14,24,23,22,21,26,23,33,33,19,24,25,29,20,17,25,21,25,38,25,25,24,25,32,23,22,30,22,26,30,23,25,29,21,30,14,18,18,24,25,24,28,31,27,31,37,26,26,18,26,30,26,25,27,31,35,19,19,27,32,25,25,29,29,32,27,30,24,19,25,33,23,22,26,30,29,25,26,30,34,26,30,22,30,24,23,20,25,25,25,19,21,25,25,17,17,17,20,21,27,35,35,21,25,25,29,50,28,20,18,22,20,19,30,32,21,22,26,25,29,24,21,26,22,19,23,23,18,21,29,32,36,36,17,29,29,29,33,33,33,33,37,37,37,41,41,29,26,23,27,28,27,22,22,22,22,30,30,21,30,34,37,41,23,25,21,22,32,23,19,19,21,26,21,22,19,23,27,22,25,29,33,30,25,20,24,30,53,22,26,26,28,28,32,36,31,22,30,28,33,19,23,36,35,21,21,21,26,30,34,25,26,22,20,22,26,26,26,30,30,30,29,20,20,20,20,31,25,26,34,38,21,27,25,23,16,26,26,25,27,31,21,12,25,21,25,25,27,19,33,22,22,18,24,20,24,27,37,37,42,42,22,23,19,21,20,23,23,22,26,34,24,24,28,32,25,29,30,29,34,34,25,23,21,25,26,26,30,29,27,21,25,29,30,26,34,28,25,27,24,29,25,29,33,20,23,40,44,34,24,25,22,21,22,23,26,35,35,35,23,23,31,23,19,21,21,25,29,15,24,34,46,28,25,25,20,24,20,23,17,41,45,45,26,26,22,32,36,21,18,22,22,23,23,20,35,25,29,17,21,29,25,22,26,24,23,28,20,25,28,23,31,28,34,28,30,34,32,30,26,16,16,24,28,28,27,22,22,27,31,27,27,25,24,23,22,24,33,39,23,27,28,22,21,32,22,21,33,25,26,24,24,28,14,25,25,21,30,18,18,21,19,20,25,16,23,22,37,18,22,22,24,28,21,31,18,27,23,22,25,29,26,17,21,25,29,33,25,23,24,28,26,30,26,24,29,24,28,28,22,34,21,25,39,35,43,25,34,23,27,25,25,25,21,35,24,28,28,22,20,20,35,26,25,29,27,20,71,71,41,15,19,28,49,22,26,23,23,31,21,33,37,28,32,25,18,20,24,32,26,23,24,16,26,27,31,25,26,26,30,29,24,21,29,24,27,27,20,24,27,24,26,25,25,29,29,29,29,23,23,29,22,26,19,22,24,25,25,33,24,28,32,19,20,25,27,30,25,25,32,36,44,21,25,24,29,35,22,26,29,25,27,24,19,23,23,23,27,27,27,23,27,18,29,29,33,23,41,20,24,26,25,21,23,29,24,24,25,29,18,21,26,23,29,26,25,25,25,21,25,30,25,29,25,20,30,26,35,35,43,20,19,31,44,22,22,22,31,22,28,19,19,19,26,26,26,26,31,31,34,23,17,17,17,17,43,28,28,20,23,25,28,36,26,20,27,31,44,48,24,24,23,24,30,24,27,23,28,32,25,27,22,22,25,29,17,21,31,22,24,25,25,24,28,32,28,27,22,31,31,30,19,23,23,23,19,27,30,22,23,26,34,19,27,37,25,24,22,22,19,23,21,24,24,28,28,32,26,24,28,32,26,20,28,22,22,22,28,22,27,24,23,19,27,34,26,36,31,18,28,28,37,17,17,17,21,21,21,21,25,21,30,21,27,27,26,20,24,27,19,23,20,19,22,21,26,28,26,26,25,22,23,25,25,27,28,20,24,45,22,27,27,27,27,31,22,47,47,51,24,25,24,26,25,24,36,22,26,25,25,27,27,31,22,23,48,25,32,28,26,30,22,22,23,27,31,34,22,26,25,26,27,31,25,25,22,26,26,25,17,25,21,24,23,22,26,30,34,19,26,21,29,33,24,30,22,25,29,25,28,22,31,20,19,26,21,21,25,25,22,26,26,30,30,27,26,32,36,20,28,16,24,21,25,22,22,27,25,23,35,39,25,33,26,24,24,32,32,17,29,28,32,26,27,30,25,24,24,28,28,19,19,25,20,21,25,29,25,29,24,28,25,26,26,22,24,26,25,20,19,43,22,26,30,22,19,17,17,23,21,21,21,24,28,22,25,24,16,25,29,21,23,25,24,28,29,22,22,26,26,23,27,22,25,29,20,25,26,26,24,28,28,20,20,24,20,24,22,32,23,27,31,31,35,22,23,27,30,30,34,25,49,21,28,25,18,21,25,33,33,41,23,35,35,23,21,23,26,27,22,22,22,28,19,33,24,28,28,32,28,22,27,24,20,20,20,24,28,28,21,28,24,18,26,21,19,23,23,25,24,34,32,36,48,20,39,18,30,20,20,20,26,24,30,28,26,27,26,28,32,26,23,23,23,27,27,20,20,24,27,31,35,39,20,26,38,24,40,19,19,23,28,26,30,30,30,21,21,19,16,20,25,20,65,28,22,22,22,22,21,19,23,25,24,18,18,22,24,24,18,21,21,22,30,34,25,25,23,33,26,28,21,30,17,17,17,21,27,22,28,22,26,28,30,25,22,24,31,25,21,25,29,32,22,37,25,50,23,33,23,28,41,31,18,24,20,21,20,24,21,29,42,19,32,18,18,18,36,21,21,44,23,27,35,27,21,27,22,26,20,27,25,29,21,24,23,23,25,28,25,19,19,29,33,33,23,25,19,19,19,23,23,19,23,20,20,24,28,28,32,23,24,24,31,33,29,23,26,21,21,21,30,26,22,24,14,27,31,34,23,29,29,23,23,23,27,21,23,25,29,25,19,28,26,37,41,22,18,21,25,29,23,25,25,32,29,22,22,26,22,24,27,25,31,29,32,30,19,27,22,25,25,29,26,15,27,27,26,20,29,25,25,15,15,15,17,24,24,32,26,24,40,23,27,31,32,27,32,32,31,30,25,27,28,26,34,42,18,26,16,23,20,24,22,21,19,25,18,22,23,42,47,23,20,22,24,28,28,26,24,27,23,26,24,26,16,22,20,24,27,43,38,28,28,20,20,21,26,24,26,36,44,33,23,27,27,23,30,26,22,26,26,20,24,22,27,31,25,27,15,22,31,31,19,19,23,23,23,24,24,25,30,26,26,25,20,28,28,25,30,19,25,37,35,39,22,29,26,23,27,20,29,25,25,33,28,25,23,27,17,17,25,20,24,32,23,27,26,30,20,20,24,31,26,27,22,29,37,23,29,24,23,23,28,22,26,25,21,21,49,49,26,26,29,25,27,34,24,27,22,22,30,30,25,28,32,23,25,29,26,26,26,26,26,28,25,33,26,32,24,20,24,31,33,37,24,22,21,21,25,29,24,28,32,27,24,28,22,22,26,35,35,22,27,27,27,44,46,26,22,24,22,22,26,26,22,24,27,25,29,16,16,16,16,17,25,21,25,29,24,28,27,24,19,23,55,20,24,25,25,24,24,28,18,22,23,27,22,16,16,16,25,47,19,21,20,23,23,27,25,34,20,22,27,22,28,28,21,27,25,29,24,21,17,16,28,19,32,29,19,21,19,22,43,16,24,44,31,32,30,23,27,46,29,36,27,25,25,20,22,29,26,32,32,32,27,27,24,31,35,22,19,22,23,24,28,26,29,23,25,27,20,24,21,24,27,28,33,26,27,21,26,22,26,30,30,30,34,29,26,22,19,23,23,23,23,27,31,31,22,24,23,24,32,18,24,25,25,27,36,26,27,34,38,25,22,29,32,22,25,32,27,19,27,31,35,23,20,24,24,25,20,22,26,30,19,25,23,25,29,26,25,23,25,22,26,30,30,19,25,27,31,30,28,18,22,23,27,22,20,32,29,33,25,39,34,28,25,29,34,28,24,23,20,23,26,21,24,21,24,23,30,61,30,22,27,30,33,19,23,27,22,24,24,32,32,32,36,39,20,27,24,24,28,26,23,40,24,20,22,25,21,25,24,31,28,29,21,21,15,15,15,15,15,19,19,22,25,24,34,60,27,18,18,22,26,24,29,33,41,23,24,28,26,28,15,26,17,17,27,22,60,60,25,24,28,22,24,15,15,15,15,19,19,27,33,36,31,26,23,19,26,33,29,27,31,31,35,26,21,22,23,23,23,23,27,31,21,23,21,21,23,27,21,23,38,19,34,28,32,20,21,25,22,27,30,26,25,25,24,28,32,27,31,24,28,21,27,21,18,25,21,25,24,35,25,29,26,32,26,18,24,20,25,23,23,27,34,26,22,26,29,24,24,24,26,35,26,30,21,25,25,22,26,21,23,21,21,21,21,21,25,19,19,19,27,25,22,29,20,40,18,18,22,28,26,26,30,22,25,23,26,21,25,25,22,26,22,25,23,27,30,25,29,26,28,20,18,18,25,27,31,24,28,22,22,21,25,21,26,23,31,25,25,25,33,22,26,30,34,30,22,23,25,29,18,26,30,21,20,24,28,23,27,27,30,33,27,25,24,15,15,24,28,21,20,27,31,23,27,27,24,22,31,23,28,22,26,25,20,24,19,22,17,22,20,20,22,22,30,30,26,26,26,19,25,16,16,17,14,26,22,23,23,19,31,22,26,31,24,31,25,29,25,19,23,23,19,20,26,26,30,30,34,34,30,29,19,25,23,23,22,29,18,21,24,26,26,26,33,27,28,25,29,25,21,25,34,19,20,26,20,22,26,26,25,25,29,27,20,24,27,28,28,23,21,33,28,29,34,25,28,25,23,23,31,24,27,27,23,24,22,21,27,26,22,28,25,28,37,24,26,23,27,23,27,30,34,23,25,29,33,17,24,24,23,27,28,25,25,31,18,32,21,29,26,30,30,34,19,27,23,26,28,35,28,25,28,32,25,40,26,26,30,21,26,23,27,45,24,26,25,37,25,25,29,33,23,24,28,32,28,32,23,32,30,24,23,47,25,20,28,32,30,38,32,21,21,21,21,30,21,25,26,22,28,28,28,36,36,40,40,27,19,28,25,25,30,29,26,21,26,27,30,20,18,27,25,18,40,22,22,22,35,22,25,29,17,29,21,30,23,27,20,21,20,25,22,21,24,49,27,27,29,25,25,21,20,19,19,19,27,27,27,30,14,34,24,24,24,29,29,29,22,20,26,24,38,30,24,25,24,25,48,48,54,54,54,54,54,30,24,22,26,30,27,26,24,29,28,20,24,24,28,31,25,35,23,16,23,27,34,26,23,21,21,20,23,23,23,29,22,26,26,21,45,45,21,14,18,22,33,19,19,23,27,30,24,32,32,28,37,20,23,21,30,22,24,22,24,27,27,27,21,25,26,19,19,22,33,26,24,28,24,24,21,23,20,20,23,20,24,28,32,19,27,26,26,25,25,29,27,22,24,25,23,27,31,25,21,25,24,39,22,25,23,20,24,28,28,29,33,22,21,21,21,31,23,23,27,31,17,41,22,26,21,24,28,19,33,26,22,26,22,21,24,25,26,34,27,23,28,19,29,22,27,21,23,47,26,18,18,26,20,20,20,28,33,30,24,40,30,34,25,21,30,34,21,35,21,25,30,23,23,26,26,30,22,18,22,26,28,23,23,21,22,23,23,21,27,28,23,47,26,21,28,30,23,19,23,25,26,30,20,23,22,24,35,31,38,28,21,25,33,27,25,27,26,24,31,35,26,21,44,24,40,30,23,25,27,27,31,25,23,23,29,19,21,25,19,28,27,31,21,25,38,24,24,30,25,21,21,38,22,22,22,20,22,19,26,30,21,25,22,18,23,20,20,21,25,29,21,23,20,24,24,25,20,20,25,23,27,27,26,26,30,25,21,27,27,27,31,24,27,24,32,22,34,15,22,25,26,23,32,25,21,18,29,23,21,25,22,32,30,31,23,34,25,24,24,25,21,25,24,26,30,23,23,21,25,20,26,26,23,28,20,24,36,29,25,20,20,28,22,19,22,29,27,24,20,24,21,25,25,29,23,22,26,27,25,25,17,27,34,23,24,17,19,37,41,23,22,28,20,19,24,28,32,18,18,22,32,25,23,21,31,28,48,26,23,28,28,28,28,25,29,29,27,27,27,27,31,31,31,31,22,20,28,23,21,25,35,19,33,26,27,31,29,37,26,21,20,27,22,25,21,19,19,26,24,24,21,21,21,28,37,25,25,29,42,30,34,25,26,22,46,23,25,20,26,28,29,23,20,23,26,23,32,36,22,22,26,26,30,30,34,30,24,30,29,33,21,18,23,25,17,17,17,17,21,21,21,20,28,31,22,30,28,22,22,26,26,20,27,28,36,28,27,25,28,23,28,24,27,23,27,31,23,27,24,25,25,29,25,21,16,16,22,22,26,25,23,23,31,35,25,17,22,25,25,28,27,25,22,17,23,24,24,24,28,28,28,22,28,32,29,20,23,33,32,28,26,28,20,24,22,21,25,24,28,26,26,28,32,27,31,19,27,20,20,20,20,20,27,27,38,22,30,29,22,30,25,20,20,20,20,17,25,25,25,25,25,17,17,25,25,29,30,26,29,25,25,22,31,27,25,26,25,54,23,26,26,19,29,26,30,33,25,27,27,31,26,18,24,28,23,27,33,30,33,20,18,15,27,22,22,19,19,24,28,15,27,20,24,29,22,26,18,18,24,26,25,30,25,22,21,21,27,19,27,31,22,26,23,30,21,23,21,22,28,25,22,23,23,25,25,25,25,25,25,29,29,29,29,19,24,28,23,20,30,16,16,16,22,26,30,21,33,38,21,25,26,23,28,28,26,29,23,22,28,32,36,27,44,17,19,32,22,26,25,29,22,26,21,25,29,27,31,27,23,20,34,28,25,23,26,30,23,27,30,26,23,22,29,22,30,40,47,47,47,51,51,25,25,30,34,27,30,26,30,20,30,30,30,50,28,32,36,33,28,33,22,30,27,27,24,22,39,19,23,21,34,22,21,25,33,23,23,27,22,26,30,21,22,26,26,30,30,34,25,18,32,36,31,29,21,26,21,30,17,21,21,36,17,35,24,32,36,27,48,52,56,56,60,60,21,21,25,18,25,22,23,27,25,22,25,22,26,29,24,24,19,22,29,16,21,35,35,39,39,22,30,21,23,16,16,16,25,22,26,24,19,21,22,25,34,34,20,24,28,20,21,24,23,25,29,20,43,24,32,16,20,20,28,32,25,22,17,24,34,26,26,23,22,22,26,25,24,24,22,30,34,26,30,29,23,25,27,27,22,16,20,22,20,20,20,20,20,20,24,24,24,24,24,24,19,29,21,28,28,21,25,25,27,35,26,25,29,29,29,32,23,27,31,25,20,24,19,20,24,25,21,28,35,35,20,24,17,30,22,23,27,32,20,26,29,26,22,23,31,31,24,28,22,45,26,25,20,24,24,28,28,32,32,31,21,21,21,25,22,28,20,23,23,23,19,22,20,28,22,23,25,23,19,25,29,23,33,31,27,24,24,23,25,23,53,35,21,25,25,21,27,27,21,21,21,21,20,21,26,30,34,30,30,42,52,20,24,23,21,20,26,22,24,24,22,13,23,24,28,24,21,30,22,20,27,25,29,29,26,24,30,34,50,23,56,41,21,29,32,25,25,27,27,26,27,27,40,24,32,37,32,32,23,27,28,36,23,27,23,29,24,25,35,28,32,32,32,52,25,22,27,28,51,29,26,24,32,18,29,29,29,34,38,33,26,23,19,23,27,26,19,36,26,23,23,25,29,20,20,24,30,20,24,25,25,25,27,27,31,31,31,25,37,28,19,31,26,28,28,32,31,16,16,16,22,34,28,24,31,29,35,20,24,26,26,23,25,25,22,27,23,25,22,27,25,24,22,30,18,28,21,29,33,24,21,23,28,24,26,26,21,21,18,22,22,22,30,30,24,28,24,24,19,19,23,23,20,32,32,26,30,34,25,28,25,25,25,25,24,21,23,27,23,27,23,24,21,25,28,27,31,29,25,29,23,27,30,25,23,25,29,25,22,23,28,16,22,20,27,15,34,31,35,28,25,24,28,20,26,30,34,27,23,28,22,20,29,28,22,26,26,30,30,29,25,19,21,26,25,30,27,31,30,22,26,25,18,22,26,21,25,19,21,27,24,23,23,28,22,25,25,25,23,23,18,14,27,27,23,26,21,34,25,22,28,26,23,27,23,22,23,24,28,25,32,25,24,21,25,29,17,24,18,23,45,25,27,26,24,28,20,20,19,19,23,27,27,31,29,29,32,33,36,23,26,26,23,24,26,29,22,23,18,26,21,25,29,23,27,26,29,23,21,30,32,29,39,43,18,24,31,19,22,31,26,44,28,29,21,26,22,27,25,29,24,23,19,25,32,32,25,21,19,39,39,25,28,26,27,15,19,19,24,22,22,24,28,20,24,32,26,26,26,22,22,32,25,25,24,25,20,28,20,34,38,59,24,24,24,24,17,21,28,39,23,27,24,22,30,31,23,25,24,22,35,34,34,38,38,32,22,22,25,25,25,29,28,23,21,25,29,25,29,31,17,33,27,25,23,66,24,32,25,27,30,34,34,30,26,18,23,26,21,21,25,28,28,32,25,29,19,27,27,26,24,27,25,25,25,22,27,23,22,20,24,29,25,25,27,41,20,20,20,35,22,31,23,27,24,24,24,24,24,19,25,22,22,25,33,19,29,37,21,27,31,23,25,23,26,24,27,31,27,23,22,22,22,22,26,26,26,26,26,30,30,30,24,28,28,51,26,22,26,30,25,29,20,27,39,18,32,32,28,24,28,24,23,31,33,21,19,34,20,20,24,24,24,28,21,22,30,24,33,29,24,32,28,24,29,24,24,28,22,24,31,35,23,26,25,24,22,21,30,34,34,30,21,17,17,44,48,28,18,20,24,28,23,23,21,21,26,29,28,22,23,31,24,23,25,25,20,26,30,29,28,22,26,19,22,31,35,22,26,25,21,26,30,23,26,27,28,28,49,27,27,31,29,16,22,26,28,22,20,26,32,24,34,38,38,22,33,33,20,32,20,20,28,40,22,26,27,31,31,26,24,25,22,29,24,28,25,21,25,37,25,23,22,23,21,16,28,21,25,21,24,28,27,25,28,25,29,24,32,26,22,23,40,18,22,22,30,21,23,20,23,28,32,25,25,23,24,26,24,38,20,23,24,28,18,22,22,31,27,31,20,30,22,24,23,28,22,25,22,24,23,27,36,23,30,34,25,31,26,30,23,24,24,27,27,19,23,25,27,28,30,30,19,23,31,35,23,31,35,21,25,21,31,35,35,25,29,19,19,23,23,23,27,27,27,28,20,24,26,21,25,24,28,32,31,26,22,25,19,19,25,30,21,21,22,23,27,23,25,21,19,20,24,20,29,24,20,26,28,22,33,17,20,24,22,22,19,27,21,20,26,25,27,21,21,20,20,36,31,33,25,29,26,22,23,18,18,27,24,19,19,23,23,25,28,29,20,24,19,24,22,24,28,23,16,16,16,16,29,19,23,23,27,27,31,35,39,25,20,36,40,31,28,23,21,21,19,23,27,31,26,21,23,30,42,42,26,26,25,20,30,26,26,29,25,16,20,26,24,25,32,32,22,26,32,22,28,19,22,24,28,18,27,23,23,23,27,27,22,36,31,42,26,35,35,35,35,35,39,39,39,21,24,25,33,23,17,21,24,24,25,47,47,23,27,20,20,28,32,24,32,24,25,29,29,29,33,33,32,36,57,32,38,30,28,32,36,25,21,24,26,30,34,22,29,29,27,20,24,20,30,31,35,39,22,29,33,23,31,24,21,25,18,22,22,22,27,27,27,27,25,27,31,25,24,19,28,24,20,25,25,25,25,25,29,29,29,29,29,29,33,18,18,23,29,25,38,31,24,28,27,31,34,34,22,26,20,24,21,25,29,24,27,22,19,18,26,29,28,28,21,26,30,34,23,43,46,22,22,27,26,24,19,23,27,37,25,26,22,24,26,28,18,30,33,26,25,29,22,22,22,28,25,25,25,18,33,23,25,25,29,20,21,21,22,24,30,20,26,15,29,25,22,26,26,29,22,25,30,22,22,27,18,22,26,29,18,21,26,24,22,24,19,27,27,24,20,19,19,21,23,26,25,24,30,28,24,22,23,23,17,22,30,23,21,21,27,22,19,25,25,30,28,28,28,28,35,35,35,35,35,35,39,20,20,23,27,20,20,17,30,23,25,33,23,21,25,29,23,27,17,17,25,26,18,22,26,23,24,36,25,27,22,26,29,29,21,25,25,25,25,21,21,32,31,31,38,22,20,21,23,23,23,27,27,21,25,29,29,33,22,23,23,24,25,33,41,41,41,41,42,43,35,47,33,33,33,33,39,27,31,22,26,22,26,18,25,26,30,30,25,23,30,34,23,24,29,24,18,18,18,19,28,20,24,24,32,36,36,36,40,40,28,34,25,22,22,22,22,22,22,15,32,36,24,43,29,23,27,24,28,25,27,27,22,26,30,34,22,20,25,23,21,34,29,26,30,27,26,22,26,21,26,30,28,21,30,18,24,23,18,24,24,28,19,23,23,27,23,21,25,22,22,22,22,21,32,20,20,27,18,19,30,21,24,28,23,23,27,28,20,21,20,25,23,24,20,29,19,27,31,24,24,26,28,32,36,28,23,22,45,22,22,25,29,23,26,30,19,19,19,23,32,16,25,33,26,30,19,25,30,21,20,18,23,25,41,23,24,25,29,23,23,36,40,26,30,30,28,21,28,27,32,32,36,36,22,35,26,25,25,27,27,26,20,24,18,20,25,23,21,25,28,23,26,26,30,30,31,35,29,22,24,36,21,25,31,31,24,18,21,28,32,22,22,20,23,28,33,37,38,42,29,21,18,22,22,19,21,25,33,26,41,22,29,25,23,31,21,28,28,27,26,31,27,25,27,23,38,25,21,29,20,26,30,25,24,28,27,33,23,19,19,23,23,23,30,22,30,23,19,19,24,31,22,22,22,15,28,28,33,24,26,20,22,25,30,24,25,25,25,25,25,22,32,37,23,27,31,39,30,30,34,38,28,22,26,30,23,30,20,24,29,35,35,31,26,28,41,27,25,22,39,23,34,28,24,31,23,31,35,22,30,21,21,21,25,31,24,28,25,19,27,27,31,20,25,24,27,21,28,32,32,28,23,18,28,27,20,24,28,33,21,25,23,31,27,23,23,27,31,27,20,26,20,28,21,21,25,25,18,18,17,17,21,21,21,22,22,18,18,22,22,22,24,34,26,25,33,22,26,14,25,20,30,25,31,23,26,25,23,24,20,22,21,30,38,33,26,25,24,23,18,22,26,29,23,31,43,36,32,32,32,32,52,26,43,18,20,31,31,26,27,30,33,26,20,20,24,24,24,28,31,18,19,24,27,26,30,30,27,31,24,25,22,26,26,30,22,24,28,32,36,33,23,17,24,24,33,16,23,17,17,21,21,27,21,18,21,27,22,27,27,22,30,26,17,27,26,26,14,21,28,32,40,32,22,26,30,22,30,30,30,22,23,22,26,24,40,22,25,28,26,27,16,21,25,28,23,27,21,21,16,16,16,17,21,25,29,32,26,23,23,22,27,18,22,22,30,30,34,34,14,14,14,23,27,23,22,27,34,26,30,28,23,27,24,23,22,25,22,29,31,25,22,26,30,25,25,15,16,21,25,21,21,29,33,33,37,23,30,34,28,24,25,23,27,16,16,25,26,24,31,26,26,20,21,29,24,24,27,31,35,25,33,26,23,20,24,28,23,23,23,32,32,27,32,31,23,20,25,31,27,28,23,37,24,22,26,32,36,24,34,27,31,25,29,33,37,27,22,22,22,26,20,21,21,27,28,25,37,22,23,19,21,21,25,25,29,29,33,33,16,31,22,26,25,27,20,29,20,28,27,22,23,25,30,30,26,30,26,22,24,24,32,27,21,34,37,41,27,28,34,33,27,21,25,23,22,31,23,27,27,26,14,14,14,14,31,23,35,21,31,22,26,26,25,33,33,27,22,30,42,20,32,37,41,26,23,22,17,21,21,21,25,25,25,25,29,26,25,25,27,26,16,28,29,21,19,23,23,36,25,21,23,20,25,25,25,25,45,16,20,26,30,30,34,22,27,22,25,30,34,38,46,25,29,33,24,25,28,28,24,25,25,24,19,27,20,24,32,36,24,26,23,23,30,24,27,31,31,35,17,21,23,25,20,31,19,28,22,25,25,23,25,24,26,30,22,25,31,31,24,29,32,26,46,19,23,26,30,28,20,27,31,19,24,32,36,21,21,26,21,24,28,28,23,31,28,26,18,22,22,23,24,22,24,23,36,29,21,25,31,20,28,22,34,43,43,22,26,23,31,22,33,37,28,25,19,27,25,27,18,18,22,27,23,25,26,33,22,26,26,24,25,29,29,30,20,34,20,20,41,21,25,27,40,20,26,26,29,33,29,35,23,28,24,20,41,28,18,41,24,28,30,23,47,28,25,25,22,19,24,32,33,28,41,45,20,33,29,33,20,24,23,26,31,21,24,24,24,14,31,19,21,24,28,24,22,26,30,34,24,23,24,24,22,20,25,28,25,30,23,27,31,24,26,30,34,26,16,28,23,20,28,24,28,26,26,23,35,18,23,27,31,30,22,28,25,25,33,28,31,51,24,24,43,24,39,25,28,19,21,42,50,66,35,32,20,26,27,25,28,25,29,21,21,21,25,29,27,20,22,22,21,22,26,18,28,28,23,27,22,20,28,25,25,24,28,26,21,24,24,31,32,43,43,20,26,30,31,22,30,22,22,21,25,20,23,19,19,18,22,21,25,29,33,25,25,22,26,30,34,22,24,24,29,28,27,19,19,19,25,25,20,39,34,17,18,23,37,21,25,31,21,25,21,26,23,23,25,24,25,25,24,28,32,24,29,33,34,30,23,25,27,25,21,29,25,19,23,27,27,31,23,24,23,27,27,31,24,24,24,28,28,23,23,27,32,21,21,20,18,22,22,23,27,32,21,25,27,32,40,34,19,49,29,20,24,23,27,27,25,21,38,23,27,18,26,27,29,28,21,22,26,21,20,20,24,24,27,26,22,26,27,31,31,20,24,24,15,19,28,32,32,36,43,27,31,29,29,23,23,26,30,22,24,18,22,22,23,27,27,25,29,21,23,16,16,18,19,19,19,19,19,19,19,19,23,23,23,23,23,23,23,23,27,27,27,27,27,27,31,31,31,31,31,31,27,19,33,25,25,16,16,29,22,26,23,24,25,18,23,39,31,26,25,27,25,25,25,25,22,25,29,21,20,24,23,23,27,24,31,27,24,18,25,31,28,31,45,28,27,27,22,31,16,21,21,25,25,23,32,29,32,20,25,33,25,21,24,24,22,26,30,21,22,25,30,32,20,24,28,35,26,24,29,33,33,29,28,32,22,26,34,29,21,23,27,31,28,32,22,22,25,21,21,31,28,20,22,22,24,32,33,33,27,31,31,35,22,26,30,25,29,22,25,21,22,22,22,43,47,47,20,19,24,28,23,19,21,25,24,24,32,27,21,31,33,19,22,26,23,30,21,46,20,20,24,24,25,29,21,25,29,33,20,25,21,34,22,34,34,38,22,23,27,42,42,40,20,20,24,28,23,27,25,21,25,29,33,37,26,30,32,25,25,29,22,34,25,44,23,27,26,25,25,21,27,31,30,29,25,22,28,27,21,31,27,25,26,27,31,28,32,19,21,21,16,20,21,29,21,21,16,22,25,33,28,25,27,20,21,29,21,34,27,26,30,50,27,22,26,23,23,15,26,28,22,32,20,25,20,22,22,24,20,19,23,31,35,20,24,19,23,20,26,28,19,28,26,24,24,28,32,36,36,44,29,33,30,30,29,36,19,23,27,31,23,23,25,24,28,32,22,25,19,23,38,19,23,17,17,17,25,21,24,26,21,18,28,30,29,26,30,30,20,22,23,27,25,29,22,28,32,27,31,35,18,30,32,27,27,31,21,21,31,23,27,19,22,23,21,25,21,27,16,23,24,21,20,19,27,25,27,23,26,19,17,25,24,29,30,24,27,28,23,27,27,17,15,15,15,15,19,19,26,16,21,25,21,28,28,44,22,22,26,33,22,28,63,63,63,26,36,23,22,27,24,25,24,28,29,22,20,24,28,32,39,36,25,21,21,21,28,32,24,21,25,23,27,22,23,25,29,21,19,23,23,25,32,26,24,23,27,31,28,16,16,16,24,24,19,23,19,23,27,21,25,29,26,25,18,21,29,29,27,18,27,20,21,58,27,21,22,27,30,30,26,26,28,21,33,25,29,23,27,22,26,20,20,20,20,24,24,24,24,28,23,26,27,31,24,32,25,30,25,25,32,23,31,22,34,23,23,24,25,22,20,22,24,28,30,25,24,23,22,26,20,30,25,26,18,29,29,21,25,25,29,29,23,28,23,26,25,22,22,21,23,25,18,22,24,23,27,31,28,25,28,25,35,35,35,25,29,33,24,24,24,23,22,22,23,25,24,22,46,37,24,35,26,15,15,15,26,26,21,22,20,24,25,31,35,32,20,30,20,25,19,28,27,18,22,47,24,28,28,26,22,19,26,34,34,25,29,28,25,24,26,24,24,33,39,21,29,37,24,28,24,28,26,30,29,32,28,26,18,22,24,20,24,28,12,17,21,21,26,30,18,22,22,26,30,26,22,28,31,51,37,40,19,24,32,41,21,24,24,31,31,31,16,27,29,27,28,21,17,26,31,23,24,20,29,33,22,26,21,25,23,23,27,27,25,29,33,20,48,21,21,40,25,25,26,28,32,36,26,25,32,19,22,19,22,22,30,38,21,15,15,23,33,37,19,28,31,23,23,23,27,19,28,28,21,28,23,28,21,21,25,25,27,22,26,30,30,18,22,24,24,26,30,23,23,31,31,21,25,29,20,25,25,30,26,30,23,25,27,29,37,27,22,20,20,17,26,25,25,29,25,22,27,31,21,25,22,26,27,27,24,20,23,23,21,27,35,24,28,30,30,31,35,31,22,23,24,25,27,22,15,19,19,23,23,28,23,25,24,28,31,21,25,26,21,26,21,21,24,37,26,26,25,25,25,29,25,25,25,22,29,23,26,27,23,25,30,22,17,27,33,34,34,22,20,24,28,28,28,32,29,27,29,29,33,37,37,27,21,27,20,30,35,20,28,32,22,26,23,22,28,30,21,23,23,21,28,32,21,21,29,33,22,25,25,26,24,22,27,30,25,24,36,26,21,25,23,19,22,29,17,28,27,26,26,34,25,21,22,22,22,26,23,23,24,31,25,25,29,33,17,21,23,23,27,27,27,21,24,22,22,26,26,30,23,27,19,21,33,19,26,20,26,21,21,16,16,24,25,25,29,33,22,18,31,22,28,20,30,30,25,22,22,22,27,25,29,22,28,25,40,40,40,40,24,56,21,22,20,28,26,25,30,27,21,20,22,24,34,25,19,29,25,24,20,24,26,29,33,26,28,32,32,31,19,18,25,28,25,23,24,25,28,36,40,26,38,28,19,25,21,24,24,28,24,31,16,26,26,31,21,26,28,22,22,26,29,20,20,28,27,25,30,19,24,18,22,22,26,34,28,19,24,28,24,23,27,25,23,29,31,25,26,16,16,17,25,25,28,31,20,27,39,43,27,31,22,28,36,34,36,22,23,22,26,25,29,33,33,45,20,24,32,18,22,26,30,27,27,29,50,24,17,18,27,23,23,27,27,27,25,24,21,25,30,23,31,25,25,18,18,18,22,22,22,33,26,20,29,41,45,24,30,35,22,22,25,24,24,22,30,27,31,26,30,30,34,34,21,19,27,23,32,30,32,40,21,24,18,16,25,25,21,22,22,20,20,14,18,22,28,25,21,25,29,24,23,27,31,31,22,23,27,33,28,25,37,33,19,26,34,42,23,20,21,24,27,29,23,16,32,36,25,18,34,25,25,20,24,24,19,32,32,32,30,26,30,25,27,32,19,31,26,27,31,35,22,24,23,34,26,27,23,19,19,22,26,28,18,26,21,29,24,21,25,29,28,25,26,27,27,18,18,18,24,28,24,27,22,26,35,25,22,26,30,28,25,20,26,24,18,22,25,29,25,29,27,27,31,26,26,34,17,21,27,22,26,32,21,20,26,30,34,26,30,21,21,26,37,25,21,18,22,26,34,27,21,21,21,23,33,20,29,33,26,21,26,28,26,24,33,15,19,19,27,18,30,26,26,35,35,38,24,25,21,31,23,27,34,18,25,21,25,23,27,21,31,25,26,25,26,25,23,27,20,24,25,25,19,24,23,22,22,20,24,33,22,31,22,23,29,25,24,28,22,27,28,22,26,26,30,34,38,26,22,32,33,33,21,34,27,30,35,24,16,23,21,24,25,29,25,25,29,23,28,40,47,21,25,25,24,20,34,31,31,19,27,26,14,34,32,32,32,21,29,26,22,29,37,26,30,23,28,18,22,28,28,20,37,33,21,22,22,27,21,26,30,20,25,31,34,21,41,26,27,21,16,20,20,24,28,23,27,31,22,22,22,21,29,15,15,15,25,22,25,21,25,27,25,25,21,29,19,25,23,27,27,31,31,35,39,23,36,28,21,21,21,24,28,22,15,22,24,23,28,27,23,30,25,26,22,22,22,21,21,29,30,25,25,33,29,25,19,19,15,19,22,26,22,28,24,27,24,26,24,38,22,22,22,30,29,25,19,20,20,28,23,37,23,28,16,16,16,16,16,22,22,34,34,34,22,36,21,21,22,22,21,21,25,25,29,33,33,31,21,25,25,19,17,28,32,36,27,27,24,24,30,21,23,32,32,36,44,23,16,22,26,28,26,30,25,29,23,26,23,23,27,27,29,25,17,21,25,29,33,37,25,25,38,23,25,31,21,25,23,25,32,23,27,27,31,23,23,27,27,31,31,30,28,36,25,29,33,22,27,31,31,25,20,20,20,28,21,22,19,32,35,35,41,41,41,41,22,22,26,30,28,30,25,28,29,31,35,25,38,21,21,21,31,19,23,23,27,27,36,24,34,38,26,15,18,23,26,19,23,15,26,25,43,21,19,30,34,32,36,27,31,31,28,26,34,55,55,55,26,23,31,21,25,25,25,23,24,27,27,31,25,25,23,27,23,43,29,33,35,29,28,28,17,17,17,22,26,30,34,22,24,24,28,31,22,27,24,34,25,24,27,23,23,21,28,35,29,33,15,30,34,23,20,23,24,27,32,28,33,20,24,26,30,34,23,23,27,34,28,28,21,18,29,13,18,18,20,47,23,23,26,23,28,31,19,23,27,21,20,19,23,27,27,22,24,27,31,23,27,23,23,31,21,28,24,19,23,23,19,23,34,22,22,21,28,25,19,23,27,37,21,44,48,23,22,22,26,24,19,23,24,22,29,27,31,30,24,24,28,18,35,26,23,22,25,27,31,23,27,26,37,37,37,28,28,28,28,28,28,32,32,23,23,27,27,27,35,30,27,23,27,59,20,24,25,24,55,25,22,23,29,33,22,26,23,23,33,25,19,23,25,37,41,27,31,30,39,43,37,23,24,24,23,23,27,25,27,17,19,21,22,29,29,30,19,19,23,26,31,22,23,25,25,25,29,20,22,22,25,31,24,27,21,18,32,36,33,26,34,19,23,23,25,25,21,26,24,28,16,16,24,19,23,32,23,26,30,25,35,24,28,25,25,21,22,24,22,23,22,22,23,23,23,37,27,22,20,21,28,18,21,25,22,21,26,18,18,18,25,24,24,22,26,25,29,33,37,36,24,25,28,28,31,22,22,21,25,23,21,40,44,30,28,23,27,31,31,27,21,22,20,24,30,25,24,22,26,30,26,25,29,33,22,22,28,26,22,21,25,24,20,28,23,22,20,24,28,23,24,30,25,25,21,20,24,37,24,35,34,20,35,22,26,30,20,47,25,31,23,35,21,27,27,32,31,35,19,23,23,24,26,22,21,25,22,22,28,41,18,22,27,27,23,24,20,20,25,24,27,31,21,25,24,34,22,20,23,27,20,23,24,21,43,27,31,36,28,21,28,27,27,24,25,21,33,22,21,19,24,28,22,25,20,23,24,28,34,25,26,22,22,28,18,22,26,26,24,28,25,28,32,24,24,24,28,36,40,23,26,27,23,24,27,27,26,30,22,26,26,34,34,29,24,27,25,22,30,29,19,19,26,22,25,18,22,22,26,26,23,27,31,29,24,24,28,27,45,45,32,37,33,28,21,23,27,28,24,28,21,23,27,31,24,24,28,33,37,33,22,21,24,19,28,22,26,21,25,24,28,28,25,23,27,28,28,32,26,21,23,25,35,25,17,17,21,21,28,25,21,27,21,24,22,26,26,31,21,26,25,22,22,24,20,24,24,23,22,26,19,24,57,23,27,25,25,22,25,17,36,17,17,17,21,21,21,20,20,20,24,28,28,35,43,25,24,34,26,23,30,27,21,25,40,29,35,35,15,32,25,25,25,23,23,30,19,20,27,31,42,24,28,30,26,32,36,40,22,23,23,23,23,27,26,22,27,22,22,22,26,30,34,27,34,15,23,23,23,25,26,21,31,21,23,21,23,27,27,31,35,23,23,25,24,20,31,29,29,33,30,25,23,27,24,29,21,25,25,25,19,25,34,17,17,20,25,33,37,17,21,20,22,21,22,27,31,21,30,30,28,24,28,28,28,32,23,31,24,24,15,15,21,25,29,34,34,23,22,22,26,29,25,28,32,25,29,27,22,22,21,23,27,27,27,21,21,21,25,25,26,21,19,22,26,26,26,20,21,18,27,32,32,36,26,21,25,21,23,23,23,23,25,23,27,24,45,53,61,22,30,25,23,32,40,53,25,21,27,20,20,24,31,25,25,30,30,42,24,32,20,25,29,30,34,23,27,19,27,35,23,18,18,24,28,23,17,25,28,20,24,26,34,23,16,16,23,20,25,30,24,24,24,20,25,25,29,32,23,23,27,19,19,25,24,29,27,22,30,21,16,20,20,20,29,25,22,23,27,27,28,32,29,41,25,18,22,26,30,24,28,15,15,15,22,17,21,23,20,20,26,23,18,22,26,21,21,25,23,25,25,19,27,19,23,22,28,41,45,24,22,18,33,17,21,23,27,20,23,24,23,25,24,27,26,27,26,30,23,27,24,28,21,25,22,22,18,21,19,29,25,21,20,28,31,31,24,19,20,24,23,24,22,22,23,22,22,22,23,20,32,29,15,29,23,27,26,29,25,24,28,30,26,21,28,20,24,28,28,27,25,29,42,30,25,29,27,21,25,29,20,24,36,20,14,14,18,28,30,34,26,30,27,20,34,23,23,19,23,19,28,27,19,23,22,23,13,26,26,25,20,25,29,24,28,28,36,26,39,39,19,23,27,27,21,24,22,22,26,20,24,27,23,23,27,20,24,30,19,33,27,23,24,22,18,22,29,29,19,28,28,35,29,29,23,27,31,20,24,28,32,30,29,25,21,21,29,25,30,37,27,23,47,20,24,19,25,29,19,19,27,31,31,35,35,23,28,24,29,29,20,20,22,22,34,24,26,30,22,24,28,18,27,22,21,22,22,22,26,26,32,23,27,31,25,20,25,21,25,29,26,26,24,21,21,25,29,29,23,20,25,28,26,24,32,28,32,26,19,19,19,20,23,20,24,28,32,29,31,20,23,23,22,30,21,24,23,26,25,25,19,24,20,25,20,23,21,23,22,31,22,23,20,20,20,26,37,24,50,50,54,54,32,34,40,33,37,28,30,34,27,23,27,23,22,26,30,23,23,23,27,26,24,25,29,21,22,22,21,19,21,28,23,28,28,26,32,31,24,25,24,29,29,29,23,27,24,25,28,29,17,21,31,22,20,20,46,27,22,26,30,32,22,24,35,26,45,25,29,19,24,30,24,27,22,23,25,22,22,21,26,31,41,29,21,34,33,23,25,27,34,32,26,24,31,20,20,20,28,30,30,27,31,24,31,35,39,32,23,21,24,22,21,25,21,31,19,19,39,26,30,23,27,30,29,33,36,20,28,22,42,42,46,46,29,26,25,25,18,18,30,24,20,26,29,27,27,30,23,34,20,22,19,23,25,24,30,34,25,17,28,24,28,29,20,28,30,21,24,28,25,23,27,20,21,29,33,26,34,20,24,36,26,26,31,27,21,23,30,23,20,20,24,24,23,23,27,24,28,20,23,27,19,28,28,19,56,24,24,47,20,17,21,21,21,27,27,24,26,22,23,27,19,19,19,19,22,22,34,24,25,31,28,22,26,22,27,33,23,27,28,23,34,26,32,36,44,43,26,19,20,24,27,26,23,26,30,34,32,26,26,28,16,23,18,22,32,26,30,27,23,24,22,33,33,25,16,24,21,23,20,18,24,21,19,24,28,28,32,29,23,24,22,26,30,28,20,25,25,26,27,35,22,39,26,28,28,26,23,24,25,25,31,23,27,18,20,28,25,29,19,22,28,22,25,29,23,23,36,40,26,25,25,29,33,23,27,35,24,19,23,27,19,28,32,25,36,25,25,23,27,22,26,21,27,26,23,27,26,19,23,27,19,24,24,23,23,21,25,26,20,23,20,27,21,21,20,29,33,40,30,27,23,23,27,29,24,39,18,22,26,26,26,26,30,34,22,23,50,30,23,23,27,29,27,27,17,24,25,29,33,36,19,29,23,23,29,19,23,22,36,26,22,22,27,25,20,24,24,24,24,28,40,40,44,24,18,22,30,26,24,28,32,26,22,33,24,26,30,22,26,24,22,21,29,33,22,27,24,19,27,36,40,28,30,38,38,42,27,22,27,24,28,30,32,21,25,29,29,41,22,20,21,25,20,23,21,25,20,25,29,25,32,32,26,30,27,29,33,22,28,25,21,30,21,23,29,25,22,26,23,21,21,25,23,27,23,24,29,29,33,33,20,41,23,30,50,58,32,37,45,28,28,32,23,21,25,19,36,24,16,16,18,30,21,28,23,27,31,35,39,25,32,19,22,26,26,31,25,22,24,24,28,36,40,25,23,27,27,27,23,19,23,27,31,43,43,25,26,16,30,22,21,25,42,27,33,25,29,29,26,28,30,22,20,17,24,21,26,27,24,24,28,32,24,23,22,20,20,25,43,17,21,21,21,24,25,33,28,27,26,37,20,24,21,21,25,25,25,25,18,24,25,30,23,25,27,22,24,20,17,31,26,20,20,20,24,28,24,35,29,33,34,23,23,23,26,33,23,18,26,28,24,28,32,25,27,18,26,21,25,26,26,20,23,23,25,24,23,26,22,19,23,27,31,25,21,23,24,29,18,18,18,24,28,38,20,20,29,22,44,15,27,18,22,22,39,21,19,23,19,30,23,25,29,24,28,24,24,26,26,22,23,27,23,25,29,26,30,34,18,22,22,22,22,22,26,26,23,23,27,19,23,26,23,20,24,32,26,30,14,22,25,24,19,24,26,35,21,21,25,25,33,24,22,25,43,47,26,25,30,23,23,23,17,17,32,23,23,29,29,29,21,21,21,27,20,28,20,29,26,28,22,22,26,27,35,33,23,31,39,39,31,39,24,24,24,24,19,15,23,27,31,22,22,23,21,27,18,18,18,18,22,22,22,22,17,23,27,27,24,23,27,52,26,33,30,27,22,28,28,15,21,25,21,20,27,31,25,20,34,18,22,25,29,26,30,28,26,29,31,29,25,24,28,24,27,27,31,23,40,40,40,28,21,33,33,23,23,24,26,27,22,26,25,29,25,26,26,19,27,27,27,27,24,27,27,30,20,25,29,24,28,25,23,26,30,28,19,19,24,26,26,26,26,23,27,24,23,17,17,27,30,22,25,28,32,28,26,23,25,23,20,34,38,38,23,24,29,26,33,29,27,26,20,24,24,28,16,22,22,23,27,22,17,22,34,42,46,24,24,19,23,22,26,30,34,42,46,25,34,25,29,25,25,28,22,40,22,26,30,21,21,26,23,24,24,28,21,21,19,22,39,28,32,25,21,29,31,35,24,20,24,24,28,29,28,24,20,25,27,16,19,20,47,21,23,34,28,24,24,24,24,24,40,23,23,25,21,24,28,25,25,25,23,22,15,26,45,29,27,21,22,30,24,28,33,19,29,19,27,31,24,19,23,26,24,29,20,19,19,29,33,25,22,26,26,31,26,35,39,28,32,26,30,20,23,21,30,35,38,23,39,24,24,32,24,21,25,21,25,19,22,20,24,40,23,27,41,17,24,35,28,22,25,29,25,25,29,33,25,33,25,21,18,32,22,22,26,40,16,20,20,20,24,20,22,23,27,31,21,23,26,26,32,37,27,31,31,33,33,33,27,26,26,18,22,25,22,17,25,28,22,22,22,22,35,39,43,22,26,23,26,24,20,22,34,22,25,40,24,28,32,22,24,19,21,25,25,25,21,25,42,22,22,26,34,38,28,28,18,27,35,39,43,20,18,27,26,20,45,45,28,39,41,45,25,26,20,33,30,23,27,29,21,21,21,25,33,37,20,24,24,27,29,22,25,23,21,25,30,22,28,28,28,18,24,28,24,28,31,25,24,23,26,22,20,22,26,30,22,25,25,23,25,29,23,16,30,23,40,27,30,30,26,30,34,38,29,18,23,22,17,21,20,27,20,19,23,18,22,22,22,27,20,20,21,17,26,18,22,30,30,38,34,20,24,23,23,24,19,23,24,22,28,26,25,26,43,43,25,24,28,21,23,30,22,26,30,30,30,27,17,26,35,44,30,30,22,32,30,38,22,31,22,26,19,28,28,25,27,25,25,25,19,23,19,23,28,32,32,25,23,27,21,26,19,20,28,28,28,28,22,22,24,24,28,28,28,28,28,28,28,32,32,32,32,25,21,27,18,24,21,28,23,20,20,19,31,33,17,17,33,23,22,26,20,31,35,23,28,22,22,22,26,27,27,27,19,19,19,19,34,25,29,20,20,22,22,26,30,21,25,25,24,44,24,21,29,33,25,29,24,32,32,22,23,29,24,24,20,24,27,23,21,25,35,18,18,26,33,27,28,25,34,20,20,20,20,20,20,24,24,24,24,25,20,23,22,26,21,21,33,27,22,22,34,31,30,23,28,26,25,22,21,22,23,22,23,27,25,29,27,31,21,21,30,25,25,26,23,26,29,16,26,21,23,27,31,19,23,27,28,21,21,23,27,35,26,24,24,24,24,28,28,22,23,25,25,25,25,25,27,27,27,18,25,25,25,25,25,25,25,28,24,28,26,22,21,25,23,19,27,28,32,34,16,28,24,22,28,23,19,24,24,22,24,22,25,23,20,27,31,17,21,25,25,16,16,25,18,30,28,27,20,28,20,17,17,17,23,19,19,23,39,23,23,27,21,28,20,26,21,22,22,27,19,21,28,29,19,22,26,24,19,19,20,24,25,25,21,19,31,22,22,27,20,24,20,22,26,30,17,26,24,25,21,27,26,26,28,24,26,20,24,21,25,24,28,22,30,26,38,16,19,26,26,32,25,29,21,29,26,19,27,30,17,29,25,27,27,27,23,26,21,19,19,19,19,23,36,33,23,23,27,32,23,27,26,23,19,27,20,25,28,17,33,22,26,24,28,28,26,30,30,30,25,34,24,28,25,25,26,22,24,28,23,28,27,22,26,24,28,28,32,32,36,23,17,17,29,26,24,24,24,56,50,21,25,21,25,33,22,29,22,26,25,21,22,23,26,19,24,26,26,22,38,25,25,28,33,21,25,33,25,27,26,23,21,25,22,32,25,23,26,32,42,23,24,26,27,20,24,16,16,16,16,16,16,29,22,39,28,33,17,24,23,21,25,23,26,25,34,34,46,24,27,23,27,25,22,31,22,22,34,21,25,25,26,21,23,27,20,22,20,20,31,21,26,26,24,33,33,37,21,29,25,26,27,23,27,31,25,27,29,33,32,22,23,20,24,22,26,24,28,28,25,25,20,27,27,26,23,25,29,26,21,31,26,30,34,34,49,22,24,27,16,29,41,27,20,22,22,30,20,18,36,29,39,30,28,31,35,23,21,20,23,19,23,27,18,49,24,25,21,20,23,18,24,29,33,24,27,21,50,24,21,25,27,26,23,23,23,29,33,26,27,26,22,26,20,24,24,29,33,23,20,25,21,25,29,22,27,21,25,20,24,25,29,23,26,30,27,28,32,36,22,19,21,25,21,23,28,32,36,25,22,25,25,29,33,25,29,34,33,25,23,23,27,32,29,31,22,26,23,28,27,31,40,26,29,29,32,25,29,26,24,23,27,28,26,21,21,21,21,25,22,26,28,22,27,23,23,27,31,22,25,25,22,26,18,19,27,27,31,27,27,31,31,35,20,22,20,24,23,43,22,19,23,27,55,24,25,27,31,20,24,29,23,24,24,28,25,26,22,22,22,21,31,25,25,23,20,26,38,50,54,58,24,33,34,22,24,28,25,25,29,29,29,29,28,28,30,32,36,44,22,26,26,30,20,54,58,22,24,27,22,33,48,23,23,26,23,25,28,38,19,26,30,23,27,27,24,34,34,24,17,22,29,33,26,20,20,24,24,24,24,22,27,27,45,23,29,24,13,22,31,29,42,46,17,24,24,28,32,25,20,23,19,23,37,25,17,22,28,21,22,25,30,34,22,29,24,24,25,24,34,34,34,38,25,29,34,21,30,24,23,28,30,26,24,28,25,34,18,26,30,21,24,25,25,20,26,23,22,34,34,34,22,25,25,25,27,21,18,22,28,23,16,18,26,30,38,29,20,26,30,23,27,20,24,31,35,35,26,21,25,29,22,23,30,20,26,34,23,31,32,23,25,28,20,24,24,22,26,28,22,30,56,26,24,22,20,26,22,28,26,23,23,23,27,27,31,31,35,35,39,21,23,25,24,29,27,28,28,32,24,19,19,23,23,23,29,29,29,33,22,20,23,31,26,20,20,23,24,23,23,29,17,17,22,23,24,24,25,25,23,27,17,29,33,41,42,23,21,24,25,34,31,40,20,20,20,24,25,30,23,27,20,18,25,28,23,23,30,18,19,25,38,25,22,23,26,23,27,28,26,26,30,34,23,23,36,21,21,19,23,23,27,22,22,34,29,33,26,26,26,26,26,26,26,24,19,22,26,14,26,23,31,21,30,24,24,27,27,25,30,33,28,19,20,23,20,24,20,24,28,21,23,29,27,20,18,36,18,22,26,26,25,27,26,26,26,26,30,38,25,27,25,29,23,27,31,21,25,25,22,20,24,24,28,25,21,21,26,40,40,24,23,27,27,28,20,21,29,22,19,23,31,24,28,21,25,29,23,27,32,36,24,27,31,18,23,23,23,28,32,27,24,28,24,22,24,24,26,31,34,25,22,22,16,16,30,20,23,22,25,25,20,24,32,23,29,30,22,29,22,22,26,26,22,26,25,25,26,30,27,26,35,35,31,31,34,26,30,34,33,25,22,25,31,22,29,20,24,22,29,21,25,19,26,27,30,25,31,35,23,25,23,26,27,25,26,22,19,23,40,40,20,21,21,25,20,33,25,36,25,27,31,22,27,24,21,25,19,23,25,24,20,40,33,23,17,19,34,20,24,22,22,28,28,22,25,22,21,21,21,25,25,25,21,28,38,25,29,30,19,28,26,22,30,21,28,28,32,22,19,32,23,29,33,21,25,29,23,20,24,28,22,28,21,23,22,24,36,28,22,26,30,27,25,17,29,46,24,32,31,26,26,22,22,36,24,19,24,24,31,31,25,22,26,26,23,23,28,20,29,19,18,30,27,20,27,24,24,25,18,26,22,26,23,35,20,26,30,20,20,19,18,28,23,12,23,30,25,23,36,21,31,23,22,29,19,23,23,32,25,26,22,30,27,31,31,22,18,31,31,25,25,26,25,17,24,35,43,27,32,29,22,25,24,21,25,25,32,24,22,27,23,21,26,63,27,37,23,23,25,29,25,28,27,21,25,33,17,17,29,29,29,23,28,21,30,23,19,18,24,24,29,25,24,18,30,34,24,21,25,18,18,18,18,22,22,22,22,22,22,22,32,36,40,21,25,29,24,35,35,35,35,35,35,35,23,28,32,36,27,31,35,25,36,25,25,23,22,26,26,19,24,19,25,23,25,20,22,26,38,38,38,18,16,24,28,32,36,26,24,21,23,27,28,24,21,23,27,27,19,19,23,23,27,31,39,38,19,25,24,21,20,26,24,22,26,23,27,32,26,24,27,24,24,26,20,24,28,28,35,33,33,33,33,39,39,26,24,22,26,23,23,33,33,37,19,39,43,20,16,27,29,19,22,29,29,29,33,33,33,33,26,30,34,19,23,29,32,29,27,24,20,20,20,22,26,22,23,27,25,23,24,24,28,28,24,25,22,22,23,19,21,25,26,21,25,26,30,21,22,26,30,27,31,17,27,31,26,20,21,23,24,27,30,35,21,25,29,30,34,34,46,29,22,20,20,32,24,28,23,27,27,31,25,22,26,24,27,25,23,24,23,35,32,29,37,19,21,21,24,28,32,36,22,22,22,26,26,26,19,29,28,25,29,31,35,25,23,32,26,26,25,26,29,28,20,24,27,28,31,32,29,22,23,24,30,30,21,29,18,26,20,24,26,28,35,24,28,20,16,24,24,29,34,21,25,19,23,27,21,30,28,20,22,26,30,31,35,23,23,21,32,35,17,27,27,18,22,22,16,25,27,17,24,22,21,30,26,25,25,20,28,23,24,22,21,30,25,26,34,43,46,24,24,28,20,21,16,16,16,23,28,32,28,29,25,18,18,18,22,20,20,25,31,19,28,25,29,17,25,25,29,19,23,23,26,26,23,23,35,24,24,28,28,26,26,40,39,47,17,24,28,37,24,26,25,29,29,27,24,31,26,18,18,24,22,23,28,24,28,23,31,35,25,24,29,25,25,15,23,27,27,27,33,46,22,23,27,31,23,31,22,24,24,33,19,41,24,19,42,28,25,29,30,23,32,25,19,20,24,28,27,17,17,35,21,30,30,30,22,16,27,28,39,26,30,23,26,30,21,26,36,24,24,28,23,23,23,26,38,19,26,25,24,28,17,18,25,27,23,42,22,26,26,21,25,38,27,23,23,29,27,28,23,24,23,27,22,26,30,19,33,33,44,18,26,26,25,25,24,21,22,22,26,26,25,24,20,24,32,33,24,28,24,30,34,21,21,21,20,23,23,27,23,29,33,32,25,28,23,17,21,25,19,36,28,25,25,32,29,29,27,21,21,23,32,27,23,22,26,31,27,21,18,22,20,24,25,28,22,25,38,25,25,29,23,23,28,32,26,24,28,32,26,34,21,23,24,27,27,34,24,24,33,24,15,15,15,15,27,23,28,30,24,29,18,24,27,27,28,26,30,24,23,20,36,25,33,24,27,25,19,27,25,29,33,27,23,30,33,37,20,25,29,26,19,23,49,37,42,19,29,22,29,18,24,24,28,15,27,23,21,22,26,59,23,24,21,21,19,30,22,28,19,22,26,19,22,23,23,23,26,26,31,31,29,21,21,26,24,23,21,21,30,20,29,21,22,24,19,22,25,25,23,21,21,21,25,24,24,25,23,23,30,14,18,34,27,16,21,49,24,30,21,27,27,27,25,23,30,30,26,24,22,22,29,29,37,41,41,26,30,22,24,34,24,21,21,28,25,25,29,29,29,37,19,19,23,25,20,57,18,21,41,24,29,21,39,24,33,37,28,33,21,24,20,24,24,28,25,24,16,21,25,22,22,26,23,26,23,27,22,26,22,24,26,28,22,25,23,23,27,27,24,28,19,22,23,27,29,19,20,31,32,28,24,58,28,32,21,25,23,20,40,26,25,22,26,38,23,31,23,29,20,22,21,25,29,31,28,21,22,22,22,34,29,33,27,25,41,22,19,23,23,27,27,34,34,38,25,31,20,24,28,19,23,27,21,19,23,22,30,20,21,27,30,22,16,22,23,22,26,26,23,23,20,20,20,20,24,24,19,24,24,23,19,19,23,25,25,29,20,26,35,25,29,21,24,23,21,25,25,32,34,35,22,29,39,24,26,27,31,35,23,25,23,25,25,29,27,26,23,29,18,23,21,25,24,24,28,28,32,32,24,29,26,24,29,55,24,28,37,22,25,26,25,25,48,35,21,39,33,28,32,29,24,22,21,22,26,18,18,24,21,21,21,44,27,20,26,22,22,22,22,26,26,32,24,24,26,28,32,36,29,20,28,28,25,25,23,23,20,24,21,28,24,24,24,28,28,30,25,26,23,26,22,28,23,30,38,26,21,21,25,25,25,30,26,21,37,25,25,29,33,35,22,29,24,28,32,33,23,27,31,19,27,27,27,27,25,25,27,23,28,27,27,27,25,31,26,30,26,30,29,32,32,17,17,28,32,32,40,40,40,44,44,44,60,60,60,64,64,72,27,27,24,23,28,21,29,22,27,19,23,36,47,24,20,21,25,33,27,25,29,33,25,20,26,30,29,20,23,20,23,45,26,26,31,29,27,27,25,23,29,31,28,21,24,26,25,29,33,27,28,32,25,37,24,28,27,27,25,29,23,24,21,23,27,26,30,30,34,16,16,16,16,16,20,24,24,21,25,29,29,26,30,19,21,21,25,18,19,29,21,28,29,26,25,33,22,22,32,22,26,22,21,25,22,32,22,26,30,23,24,25,29,23,27,28,33,20,20,25,24,25,18,18,18,22,22,26,30,20,22,26,30,22,26,30,34,20,24,28,32,27,31,36,25,29,18,26,16,16,24,30,34,24,28,19,19,27,25,27,27,26,26,37,21,25,29,22,27,26,24,28,21,26,30,33,20,44,21,25,24,27,27,32,32,24,22,18,24,21,30,35,20,20,21,25,25,29,29,26,29,22,24,30,27,22,25,25,25,25,20,21,21,23,20,21,23,21,25,29,33,42,21,21,29,27,31,31,35,35,26,41,22,23,23,23,19,23,19,38,42,22,30,26,23,22,28,29,24,21,21,28,21,23,22,23,27,21,21,19,24,24,27,27,32,37,37,37,37,40,40,34,26,30,21,26,29,25,30,22,23,26,20,20,17,25,23,19,23,28,19,30,23,23,27,31,23,35,23,20,20,24,22,24,28,24,28,28,30,18,17,28,32,28,23,27,22,27,23,31,37,25,31,25,31,31,26,20,22,26,16,20,25,28,32,19,26,19,23,27,21,27,27,20,24,22,36,29,19,23,26,30,24,22,27,21,21,18,22,26,30,24,21,28,25,29,25,17,17,30,34,23,22,24,22,32,25,21,23,24,25,22,19,21,25,29,25,27,23,31,29,33,25,19,23,27,25,17,17,17,22,24,17,21,22,24,25,28,13,23,23,26,26,25,27,26,23,33,24,26,30,34,17,25,25,23,27,36,25,21,22,30,21,22,25,29,33,24,36,25,23,31,35,39,22,24,24,29,21,29,28,28,28,32,22,22,26,22,23,24,28,26,22,20,24,29,37,19,30,18,27,28,26,22,30,31,24,31,19,23,23,27,27,27,26,24,19,23,22,19,32,19,17,21,23,22,21,49,49,49,22,21,24,23,18,18,34,22,26,30,34,28,27,20,21,22,23,25,25,25,20,25,21,29,29,33,20,29,29,22,22,26,18,18,21,21,21,23,23,23,27,35,25,29,33,28,21,22,24,25,26,26,25,19,17,21,25,29,25,22,23,27,28,24,23,23,25,23,25,21,25,29,33,27,19,23,28,25,22,26,23,27,19,24,25,25,31,24,28,21,29,22,26,29,27,25,30,30,30,19,20,20,25,20,26,21,21,33,37,22,23,23,20,21,19,26,19,25,24,28,29,26,29,24,24,21,22,26,18,27,27,17,17,21,33,30,30,27,23,26,34,27,31,21,25,29,23,35,19,23,23,23,21,21,21,23,24,31,26,18,18,24,26,21,21,22,24,25,30,21,23,22,26,19,23,31,24,28,32,36,50,24,28,18,22,20,25,23,24,20,24,24,24,24,24,24,24,20,23,25,25,21,25,33,37,24,24,28,21,25,38,31,24,25,31,25,24,28,36,22,25,34,18,22,22,21,27,21,25,22,31,22,22,23,25,29,33,25,25,25,25,22,27,25,26,19,21,24,33,33,31,25,69,28,34,34,38,42,19,24,23,27,31,20,25,22,24,22,30,24,39,26,21,25,25,25,20,20,24,21,23,32,44,40,24,24,28,22,26,23,26,26,24,20,22,26,19,22,21,25,20,25,26,19,23,23,32,30,20,25,25,25,28,28,28,28,34,31,35,26,22,26,25,21,25,25,19,21,27,31,21,25,27,24,24,24,24,24,25,19,19,19,23,23,23,27,27,27,27,31,31,21,27,26,21,24,20,23,23,27,29,33,27,56,56,56,24,32,36,40,52,24,29,30,47,51,27,48,53,21,31,31,35,47,47,24,24,25,16,25,43,47,51,26,25,23,40,23,29,20,24,22,26,42,52,60,18,32,17,28,17,30,26,26,27,31,17,17,17,17,17,21,21,21,21,24,24,25,27,31,24,26,30,34,23,27,31,39,43,20,22,25,19,22,20,27,35,29,46,23,28,25,15,15,16,31,35,30,30,30,30,30,34,34,22,31,19,32,36,25,34,23,26,20,33,33,28,29,27,21,21,24,24,25,22,21,21,25,23,31,26,21,17,21,25,26,14,21,23,27,29,24,26,22,26,30,22,25,32,40,24,27,21,21,25,29,33,27,19,23,23,23,33,32,32,36,23,23,25,24,22,29,34,23,23,28,28,20,26,26,20,23,23,31,25,28,25,29,33,37,41,31,35,29,22,30,34,38,20,24,32,21,16,35,51,26,28,21,23,23,23,30,28,20,23,20,25,20,24,26,29,25,29,25,23,24,24,24,28,32,28,28,32,20,20,20,20,24,24,24,28,28,21,21,25,31,30,26,20,28,29,18,27,22,25,26,31,20,23,18,22,22,22,22,29,21,25,23,27,19,21,25,25,27,24,25,30,28,32,32,36,44,56,22,28,25,23,24,27,21,21,18,16,22,21,25,22,29,34,37,24,25,22,25,31,33,23,47,47,55,55,25,29,26,23,24,25,23,23,22,21,18,29,37,34,29,32,31,35,27,31,27,24,30,29,26,44,30,25,23,23,25,29,33,29,27,25,28,21,21,25,25,27,24,26,27,31,23,23,27,21,26,24,26,30,35,38,20,24,25,23,27,31,24,23,36,23,25,33,23,26,21,23,23,23,23,30,23,25,29,26,21,23,25,21,25,21,25,16,20,21,26,29,25,22,21,26,34,20,20,27,22,31,24,23,31,24,23,23,27,33,28,28,32,26,19,22,33,26,27,25,24,27,20,24,21,29,29,33,24,22,26,26,21,25,26,27,27,27,31,31,26,29,22,17,21,21,25,33,33,33,33,33,41,41,41,20,32,32,17,21,25,22,16,36,24,21,19,30,26,36,22,23,32,29,27,39,32,29,28,29,28,33,33,28,23,25,29,29,28,24,18,28,21,25,24,23,21,25,22,26,26,30,46,27,31,19,30,21,25,29,30,24,26,23,18,21,23,22,19,24,21,25,27,31,20,21,26,24,21,27,24,28,32,44,48,24,27,31,29,33,27,45,26,21,25,34,26,25,29,25,30,30,23,23,25,21,25,25,23,20,43,23,27,21,23,25,27,27,30,27,27,23,27,22,28,26,27,22,24,16,16,16,20,21,25,25,29,29,33,30,20,24,24,24,23,25,19,19,24,28,19,23,27,31,24,28,23,25,24,29,28,25,22,22,24,24,29,33,37,25,22,22,26,26,30,30,34,38,27,31,21,25,43,30,33,20,21,21,25,19,30,22,22,27,26,26,25,20,24,38,38,20,22,26,26,22,33,22,27,24,45,45,45,22,20,14,22,28,29,24,20,20,24,24,21,29,29,21,29,18,19,19,27,19,23,25,21,28,39,29,33,21,29,18,23,28,34,23,21,25,27,29,25,31,26,26,24,24,26,30,20,30,28,23,25,24,25,26,19,19,23,23,26,28,27,25,26,25,22,26,25,25,22,27,27,22,19,31,22,24,25,22,26,20,24,24,24,28,28,28,28,28,23,27,25,34,23,22,22,26,26,26,26,24,28,27,26,30,29,24,28,26,29,19,27,19,25,24,36,40,28,42,24,20,24,29,27,22,26,21,25,19,24,28,32,40,22,15,28,24,22,25,29,29,23,27,21,24,24,25,27,20,28,32,22,18,22,24,27,24,26,24,25,25,23,28,19,24,27,30,21,25,26,30,34,42,25,25,29,23,21,33,16,19,19,19,19,23,23,23,23,34,25,36,20,24,28,31,21,26,29,29,35,35,32,29,29,31,31,24,16,28,23,19,33,22,23,23,18,20,26,40,26,29,30,17,29,22,22,49,49,38,25,29,33,27,25,24,28,31,25,27,21,25,21,29,25,25,29,29,29,33,24,40,21,43,18,31,29,16,20,34,26,28,20,25,29,29,26,26,28,36,22,26,30,26,22,26,25,27,29,19,19,23,23,19,28,32,19,19,23,23,23,27,27,26,30,26,22,17,18,22,28,21,25,29,20,24,29,23,25,25,29,29,22,26,30,30,21,25,28,24,22,18,21,33,21,40,40,24,21,25,30,23,31,26,26,25,26,28,32,36,25,24,22,25,25,21,30,25,24,28,28,28,39,22,18,22,22,22,26,26,24,28,28,22,26,21,38,24,24,28,28,28,28,30,26,26,23,24,21,19,25,25,20,32,35,24,23,35,19,21,25,21,21,33,15,15,15,31,28,24,28,22,30,22,26,21,21,25,25,30,29,25,25,30,32,30,33,24,24,38,38,28,19,34,34,28,32,27,31,24,28,21,23,27,26,22,28,28,26,20,22,28,35,28,18,22,27,20,24,28,28,24,23,30,34,25,29,18,25,29,22,27,29,27,27,22,19,27,15,25,24,24,28,27,25,21,17,17,22,29,37,41,21,30,26,25,25,29,25,39,33,21,22,25,25,25,24,33,26,22,19,20,24,28,25,25,29,29,29,33,20,25,23,27,34,28,19,25,32,21,20,24,23,25,21,25,29,27,42,23,23,23,23,23,25,29,25,28,36,34,21,30,24,28,32,22,34,25,17,31,29,29,25,18,23,26,22,22,27,29,23,21,31,23,22,22,38,27,32,26,25,33,19,21,28,20,27,22,24,37,20,42,26,23,27,22,27,34,21,25,22,33,33,22,36,26,14,14,14,14,18,18,18,22,26,26,21,25,28,33,26,33,33,24,31,43,29,25,25,25,22,22,22,14,18,23,29,28,20,18,23,51,24,19,22,22,25,25,24,23,20,20,22,26,25,25,25,25,24,25,25,26,34,40,25,20,36,18,22,24,45,21,26,26,25,25,25,19,43,25,22,30,22,22,22,22,26,26,26,25,20,26,26,24,28,29,19,20,22,52,27,24,27,24,24,28,32,19,27,19,23,27,22,17,34,25,25,23,28,32,21,24,18,24,28,31,31,35,23,24,28,27,27,31,24,28,20,26,29,21,31,24,28,28,24,28,21,30,19,44,23,23,23,23,27,27,24,24,29,23,34,38,24,33,22,26,22,26,23,23,23,39,25,24,28,28,32,32,36,40,40,44,25,25,29,32,30,27,27,27,35,21,29,50,25,18,34,34,34,34,54,54,54,54,54,54,26,20,22,22,26,30,20,25,25,22,26,30,34,25,22,29,31,28,18,23,27,24,28,25,29,21,28,25,25,25,25,25,27,31,31,26,24,24,22,49,19,28,32,22,25,24,50,36,27,22,23,27,18,26,20,27,23,23,29,29,22,26,24,28,30,37,22,21,38,18,26,28,25,25,25,32,45,30,16,20,23,20,20,22,17,26,18,23,27,18,22,37,37,37,37,37,28,25,45,19,20,23,27,21,23,21,24,26,17,20,24,24,28,21,25,29,34,27,12,12,24,28,23,25,26,26,22,30,32,32,32,32,34,24,25,26,19,19,24,24,26,24,24,25,25,25,24,26,34,23,22,24,21,27,28,24,27,29,33,19,28,15,28,28,32,26,27,28,24,28,24,27,32,23,23,45,26,23,20,37,22,24,26,24,20,25,25,24,28,23,20,23,22,22,18,18,26,23,21,25,28,27,21,24,28,22,26,30,24,22,25,24,26,25,15,19,19,19,21,20,22,16,23,26,20,22,25,43,43,26,23,36,24,18,25,26,25,31,37,22,29,16,25,24,24,26,30,30,30,21,25,30,24,28,26,25,25,22,31,31,35,29,29,24,25,27,31,40,22,20,28,25,29,33,33,24,26,30,25,25,30,29,30,49,27,31,31,24,26,26,33,25,26,25,21,26,26,19,23,27,19,29,25,23,36,22,19,32,27,24,32,23,29,33,22,29,33,37,26,20,28,26,30,34,24,22,22,26,25,25,39,39,25,12,23,25,23,27,28,28,22,22,25,26,29,23,23,26,28,26,24,28,24,22,25,29,25,45,30,30,31,26,31,21,25,25,29,21,29,23,29,23,24,22,22,28,23,35,21,21,25,25,33,37,22,22,18,25,31,19,19,24,24,28,20,20,20,22,30,25,25,29,18,18,18,39,25,27,31,24,23,23,26,26,27,27,26,30,29,25,23,29,24,28,24,24,44,48,24,28,20,27,27,25,32,22,22,26,26,30,34,34,38,38,25,19,31,24,29,31,21,21,27,36,23,20,22,26,30,34,20,23,23,28,24,32,21,20,25,22,24,27,20,16,20,24,22,26,23,23,23,29,30,25,23,24,24,24,27,26,21,24,20,28,23,22,26,31,22,22,26,26,26,21,25,21,25,25,29,29,29,53,53,21,19,26,28,29,32,24,26,20,24,28,32,31,22,25,19,19,22,26,26,25,25,23,27,36,19,23,24,22,26,26,23,24,24,26,38,25,29,33,22,20,19,23,23,26,26,28,24,29,25,30,27,28,27,27,24,20,24,24,23,29,19,24,20,24,25,26,30,26,22,22,26,26,18,22,19,27,30,25,19,14,19,37,25,35,21,27,25,22,23,26,28,20,24,32,24,32,26,21,25,29,26,24,28,24,20,22,26,34,20,20,20,24,23,27,34,25,25,29,21,29,21,25,25,19,19,17,21,25,29,22,23,26,25,25,24,24,24,23,29,22,25,29,18,21,25,20,22,29,30,34,29,21,24,19,24,28,23,26,27,28,28,28,32,22,22,22,20,24,29,23,23,27,25,22,22,26,20,29,24,32,30,28,26,22,25,21,29,33,16,24,24,24,28,28,28,29,20,24,28,32,22,24,29,27,27,27,31,26,25,25,26,26,26,27,27,26,36,27,28,35,35,25,28,34,38,20,22,22,38,46,30,35,20,26,20,24,28,28,18,18,18,23,23,24,24,26,26,30,27,24,26,30,30,30,30,22,31,18,46,29,40,35,37,35,20,19,30,30,39,23,31,31,46,28,28,16,16,16,16,28,23,34,34,38,38,26,25,29,33,36,23,27,44,25,23,31,23,27,32,35,21,25,25,25,25,29,23,23,23,23,23,23,23,27,27,26,20,20,20,20,27,26,19,23,27,24,24,21,25,25,33,19,23,26,25,23,25,28,25,29,33,33,34,33,23,30,26,24,28,25,25,25,24,20,42,44,22,28,20,20,27,30,34,25,23,27,25,29,23,27,26,21,25,18,22,26,29,33,21,28,25,24,26,19,25,24,24,21,31,31,31,31,21,26,29,33,27,27,23,21,24,24,32,21,23,25,22,26,28,29,36,25,18,24,27,22,21,23,30,34,23,16,24,28,22,22,26,30,30,34,26,31,18,23,42,29,49,20,20,24,22,28,20,26,26,21,20,24,22,26,14,18,20,24,25,47,24,24,21,24,28,21,25,19,27,30,38,19,23,29,22,26,24,28,26,34,19,23,23,25,20,24,21,29,32,22,27,24,25,25,20,26,30,25,25,24,21,18,25,24,24,28,28,19,21,28,24,26,25,16,20,18,22,22,25,29,23,33,23,30,25,25,33,23,21,33,35,31,20,20,27,30,34,23,27,56,21,25,34,34,25,36,24,26,20,24,24,19,26,23,29,26,23,23,23,22,24,25,29,33,37,21,28,30,34,34,25,34,34,25,27,21,25,20,20,23,24,28,26,30,30,31,24,26,21,22,31,24,32,21,20,21,25,25,24,24,25,17,21,19,23,23,25,29,19,26,30,20,24,24,28,28,19,27,18,18,24,20,24,28,32,20,33,33,24,23,25,18,26,27,22,24,22,26,30,30,32,20,20,20,24,24,24,26,22,24,21,21,25,29,29,22,24,28,28,19,23,19,15,15,18,26,16,25,23,23,31,31,35,39,43,24,20,27,20,24,25,24,24,22,21,21,21,25,27,34,20,18,18,22,26,34,28,32,40,20,24,28,32,30,26,31,24,20,20,24,24,30,34,28,26,21,15,26,24,29,30,25,25,36,29,19,20,20,31,28,21,23,27,24,24,24,32,31,31,36,20,23,30,30,25,23,27,27,31,34,31,29,25,30,44,22,32,23,24,23,23,24,36,25,34,22,26,34,25,24,23,23,24,15,25,14,14,18,24,27,27,24,22,22,24,24,24,25,23,26,58,58,24,24,19,19,23,23,21,30,24,27,23,22,26,22,25,25,19,34,34,38,25,27,27,31,17,25,27,28,22,22,22,26,23,23,27,27,20,26,22,18,18,24,25,29,21,24,28,25,25,23,23,18,26,30,34,35,21,25,24,25,22,18,22,22,22,26,25,29,29,23,23,25,22,30,30,32,32,26,36,28,24,32,44,24,23,35,35,35,39,25,25,17,21,25,19,23,27,17,17,25,22,29,24,19,27,26,25,24,27,34,38,25,21,20,24,25,20,20,20,24,29,29,32,20,24,31,24,18,39,29,22,18,22,26,31,31,31,31,31,31,26,30,30,24,24,26,27,35,18,18,26,30,22,24,45,23,16,30,29,30,23,21,24,25,25,23,28,23,27,19,19,29,29,23,22,30,25,25,37,19,19,19,19,23,23,28,19,19,25,22,22,26,27,22,26,42,42,21,23,19,23,26,31,18,24,28,28,23,30,21,25,30,22,22,26,30,28,19,25,29,23,20,23,23,23,54,25,29,18,22,26,27,28,25,26,27,31,21,20,24,18,18,18,18,25,23,27,15,26,26,22,24,28,30,30,22,28,28,29,24,24,29,21,25,19,23,23,23,29,19,24,26,24,25,23,24,28,20,29,25,28,32,26,25,25,23,23,22,23,23,26,26,31,31,39,39,47,47,26,23,26,22,26,30,29,33,30,25,29,21,27,31,31,25,22,31,22,25,19,19,22,32,23,27,26,22,36,24,28,36,30,26,23,23,27,54,26,51,23,20,19,32,21,43,21,24,28,39,27,31,20,24,14,17,17,30,29,24,28,31,24,30,34,19,36,27,27,21,21,24,28,32,24,43,47,28,26,24,20,23,27,28,28,30,15,17,20,28,30,22,17,21,20,19,26,28,24,28,40,19,23,19,23,22,19,27,48,52,16,24,22,26,26,27,18,18,23,23,23,27,27,25,33,24,32,19,19,23,23,23,34,16,21,26,36,44,48,26,25,17,23,25,32,23,25,25,22,27,56,22,26,21,25,27,21,23,27,20,28,32,16,16,20,24,28,19,23,27,31,35,34,38,38,24,28,28,32,32,23,31,27,21,21,29,30,25,27,17,22,26,22,27,24,29,24,28,21,21,21,25,26,22,28,22,17,24,27,22,26,26,27,23,31,33,43,24,21,25,29,22,25,27,44,44,20,25,22,24,27,27,35,30,20,20,24,24,24,28,28,32,36,22,37,37,22,24,22,23,30,34,20,24,31,26,20,24,28,38,34,42,37,24,23,27,27,22,28,19,23,25,23,23,26,25,25,25,25,25,29,29,29,33,21,27,18,22,18,24,25,37,23,17,23,27,18,22,22,19,22,26,30,30,21,25,33,35,29,33,29,22,22,30,34,23,23,25,29,24,23,29,31,35,22,26,29,21,30,27,25,21,27,29,48,25,19,28,18,22,21,24,28,25,33,19,27,24,22,21,32,18,39,20,28,30,25,23,24,25,29,28,19,19,29,19,22,27,63,63,63,18,26,30,30,28,22,22,26,28,32,35,29,19,22,20,20,28,32,36,21,23,22,26,19,28,22,26,30,34,32,21,21,29,21,25,25,33,20,19,23,27,27,20,30,18,18,28,37,20,20,24,24,24,21,30,21,22,27,31,23,23,20,25,23,23,21,33,33,18,28,28,25,22,23,27,28,22,22,17,32,35,20,25,22,24,21,23,20,32,26,26,43,27,21,56,60,60,16,37,21,25,33,30,27,18,33,23,27,24,19,19,23,23,27,28,29,20,24,25,29,29,29,34,38,42,46,49,29,20,24,23,27,23,23,31,28,28,32,32,28,23,24,29,23,26,25,20,27,31,22,24,29,33,33,31,35,21,18,27,23,39,23,28,32,36,22,23,26,24,18,22,24,29,33,23,21,25,29,22,22,26,25,17,26,30,24,32,22,24,36,25,23,27,21,27,26,26,30,24,17,17,30,34,25,20,22,22,28,32,36,36,40,21,24,31,25,20,51,23,17,21,19,17,26,25,25,24,26,26,23,26,18,22,33,25,30,28,22,27,30,27,29,33,28,25,26,21,14,18,18,21,30,18,18,17,21,21,33,25,14,14,28,23,26,22,31,35,39,31,19,17,25,29,24,18,18,25,29,30,34,33,20,20,31,18,24,21,25,22,18,59,58,21,25,18,22,22,30,25,25,29,25,27,27,25,28,32,26,22,17,22,27,27,29,33,20,21,31,28,23,22,33,25,32,32,21,22,24,28,19,19,25,29,33,33,28,20,24,27,33,20,31,24,24,27,21,34,24,30,27,41,41,26,19,21,22,25,25,22,40,44,27,24,24,27,19,22,23,31,19,23,19,19,20,24,23,21,18,23,21,25,24,16,18,18,22,22,26,26,30,26,29,24,19,26,26,27,25,21,24,24,25,26,22,24,24,24,20,29,27,22,33,19,19,23,27,27,27,27,27,29,26,17,17,21,26,30,22,18,22,26,19,23,27,22,20,39,21,25,25,20,27,27,26,28,30,30,22,25,20,21,35,26,21,28,32,24,19,23,23,23,21,23,23,21,27,18,20,14,18,22,26,26,26,18,20,24,27,29,26,31,25,20,21,18,20,24,24,23,19,17,26,26,17,20,21,29,21,19,28,21,25,21,26,35,26,20,21,31,20,23,24,26,30,24,24,22,22,30,25,29,22,26,17,26,28,25,20,24,24,24,24,20,29,24,29,33,23,21,41,26,26,28,23,27,17,17,21,21,25,25,25,24,27,27,26,21,29,26,29,25,23,25,28,23,29,23,27,27,21,19,24,28,25,23,21,22,24,28,24,24,21,25,20,20,28,28,28,20,24,16,20,20,22,24,24,21,25,23,27,24,21,25,25,25,29,20,20,20,24,24,24,15,15,15,23,19,23,15,29,21,21,28,31,24,25,26,26,28,24,21,25,22,22,26,23,27,26,24,28,27,25,34,26,21,21,30,34,23,27,27,29,16,16,26,52,27,31,20,24,24,28,21,27,26,24,27,21,22,22,23,23,25,25,25,25,25,27,27,27,27,25,25,28,32,22,22,22,34,38,30,23,25,22,30,23,23,23,24,21,26,22,27,48,18,25,26,20,24,25,21,21,25,25,27,31,21,21,25,27,31,25,25,29,29,29,27,31,30,27,23,28,22,22,20,22,23,27,28,36,36,27,21,25,29,25,24,25,29,26,30,21,22,25,34,38,24,23,21,24,21,25,18,26,26,24,28,21,25,19,25,22,29,22,24,32,36,22,20,25,25,30,24,28,32,24,27,23,22,24,21,21,25,29,33,25,22,23,28,23,20,24,23,27,24,26,20,23,23,27,21,19,31,31,27,25,25,29,54,34,25,25,25,26,28,21,34,22,27,27,31,31,25,24,22,23,26,28,22,20,24,20,20,24,28,19,22,26,29,29,21,24,22,22,25,29,20,26,19,19,18,24,23,23,24,23,27,20,19,26,17,17,21,23,23,22,20,23,23,17,17,25,16,30,26,30,21,17,21,21,20,26,16,28,25,25,40,36,23,20,23,22,27,30,28,23,31,35,32,32,36,27,31,31,22,18,26,25,25,21,24,25,29,33,17,23,20,20,32,26,26,29,33,21,23,20,23,31,21,21,19,23,23,31,28,16,20,25,23,22,30,22,24,27,28,27,24,28,25,21,21,26,29,31,17,25,29,26,30,23,27,22,26,30,23,23,31,22,26,23,25,17,17,17,21,18,19,33,30,21,24,32,32,36,36,25,26,21,23,31,21,21,22,30,28,23,20,22,23,22,26,22,22,26,26,24,25,25,25,23,22,24,39,43,26,34,38,38,20,21,27,23,32,22,23,24,29,26,25,28,32,27,19,23,25,25,29,29,29,23,23,24,24,28,28,23,28,25,26,23,26,24,23,27,26,23,27,24,28,23,27,35,25,27,31,31,35,25,24,26,28,32,40,26,21,23,19,29,22,27,25,23,22,30,23,19,19,21,25,23,36,29,22,26,30,34,19,23,27,30,25,29,23,27,22,20,18,32,25,25,27,19,22,25,24,23,23,27,24,27,27,36,28,13,20,20,24,28,27,25,33,23,25,26,30,26,21,27,31,28,22,26,27,27,20,23,27,27,20,24,26,29,21,25,24,21,23,24,24,28,28,18,23,27,27,22,26,21,25,24,28,22,26,26,18,29,33,26,22,27,24,24,21,22,30,23,20,20,23,17,25,28,27,26,20,24,19,21,18,23,24,22,22,26,26,28,24,25,28,32,36,17,19,23,22,26,20,19,25,25,29,22,16,24,28,27,31,22,22,26,24,23,31,24,30,24,17,25,25,22,21,25,22,23,27,27,22,25,27,19,25,15,23,22,26,25,23,25,25,29,19,24,20,25,22,16,16,19,19,25,29,28,21,24,27,18,18,22,19,23,21,20,27,17,19,23,21,22,23,16,19,19,19,24,22,21,28,30,27,23,27,27,28,26,31,24,22,22,28,24,29,16,18,22,23,28,26,34,38,25,21,23,25,18,26,30,30,30,30,34,34,25,29,29,16,28,24,21,20,24,31,31,35,35,23,24,28,22,24,21,27,33,33,37,25,29,30,46,24,24,24,28,28,18,26,26,24,26,25,22,31,35,24,19,21,21,28,28,27,21,25,29,31,20,25,29,34,23,27,23,16,22,35,21,25,29,33,27,21,21,20,24,28,32,36,40,23,22,30,25,29,26,23,25,25,21,27,22,22,21,22,30,22,29,29,29,33,20,20,20,24,24,24,23,27,31,29,24,21,24,17,23,23,27,31,33,22,26,30,22,21,19,23,31,35,39,39,19,23,21,22,29,21,21,21,25,25,25,20,23,23,22,27,20,27,27,38,23,20,22,20,23,19,25,25,28,18,22,30,30,30,21,19,22,22,20,35,39,21,23,25,23,28,23,23,25,29,29,22,21,27,31,21,25,33,28,19,23],\"coloraxis\":\"coloraxis\",\"symbol\":\"circle\"},\"mode\":\"markers\",\"name\":\"\",\"showlegend\":false,\"x\":[175,175,175,184,175,175,175,175,175,176,176,176,176,176,176,176,176,163,175,175,189,182,175,175,175,175,175,198,194,165,179,180,182,182,182,185,186,165,181,182,163,190,181,175,175,188,188,188,182,182,182,187,187,187,175,184,175,175,191,175,170,173,169,181,160,169,167,167,202,170,190,175,160,175,185,175,160,160,175,175,175,175,166,181,181,182,175,159,172,182,161,161,161,161,161,190,190,197,188,192,192,192,175,191,183,183,175,172,175,198,171,167,198,188,168,180,180,178,148,189,170,150,194,176,175,176,158,181,176,165,174,168,172,172,175,179,175,184,184,184,190,190,190,190,200,168,188,175,162,175,187,175,175,175,179,188,188,175,175,178,178,164,164,188,188,188,164,193,193,193,189,175,171,180,175,181,190,179,179,186,187,180,180,190,175,175,188,175,180,172,175,175,175,175,175,175,175,179,179,179,179,202,198,198,198,198,198,198,198,198,180,180,170,189,189,158,183,180,178,175,173,193,148,148,187,187,180,164,175,184,184,184,172,172,202,202,202,168,168,168,178,164,170,170,170,170,175,175,175,172,175,173,170,167,172,147,172,175,170,168,179,177,175,182,175,175,175,189,189,175,175,179,176,190,172,172,172,175,162,171,170,169,170,173,150,150,175,175,184,184,169,178,195,176,163,192,192,165,165,165,175,172,175,183,154,154,154,154,156,183,175,183,183,183,183,183,187,175,185,175,175,173,173,173,175,177,167,172,175,175,175,185,180,164,185,185,185,172,172,175,169,167,167,168,175,175,175,178,192,181,160,160,160,160,160,165,187,190,184,160,180,172,173,188,181,184,163,191,191,178,178,165,175,187,183,165,173,173,201,174,192,187,178,178,178,178,162,175,170,175,183,178,191,164,176,154,172,172,190,182,174,179,187,187,187,187,187,175,192,182,184,192,175,175,175,182,179,175,177,180,165,175,175,165,175,181,175,175,191,181,183,183,183,175,175,175,177,170,184,171,171,171,200,200,200,168,176,180,180,180,178,180,180,190,190,185,185,157,193,193,200,200,175,183,177,175,172,188,170,170,170,179,179,157,189,184,184,181,207,170,178,185,175,182,182,175,183,183,178,163,176,170,175,165,180,158,175,175,168,168,175,175,200,180,175,175,175,203,203,187,174,185,175,175,175,176,168,174,193,175,162,162,175,188,185,163,170,178,192,172,172,172,163,175,193,193,170,170,170,177,175,175,180,180,180,175,175,175,163,167,170,170,178,178,173,175,175,175,188,188,175,175,182,180,182,172,164,155,190,190,190,190,190,190,180,180,180,181,172,172,175,193,180,177,165,175,175,173,175,175,198,173,173,176,176,178,178,194,175,175,190,175,175,175,175,166,169,175,175,175,158,158,158,158,158,158,158,175,175,170,170,177,177,168,175,175,193,183,183,183,175,170,198,198,190,190,182,188,174,187,175,172,175,185,175,173,180,175,184,186,186,171,171,171,171,175,183,182,183,175,175,163,165,179,163,175,175,158,175,182,175,160,175,175,175,183,175,175,195,195,176,171,188,169,172,166,163,183,162,160,160,155,170,170,170,170,170,170,170,170,174,173,173,173,170,187,183,175,185,171,188,176,176,195,175,178,170,175,175,187,174,175,175,175,178,183,168,175,169,169,175,175,175,175,175,175,175,175,175,175,175,175,175,175,175,175,179,172,169,187,175,175,173,178,175,173,180,180,175,172,176,190,190,173,164,193,175,187,175,190,183,183,181,178,160,178,191,183,202,175,175,183,178,187,190,183,175,182,175,175,175,200,172,172,172,172,172,172,172,175,175,177,175,169,175,175,178,179,175,186,175,175,169,169,172,172,167,200,183,158,180,180,180,186,175,187,190,188,175,175,175,191,191,175,173,175,175,175,175,175,175,175,168,194,194,154,164,163,183,175,170,179,179,183,178,188,188,175,180,163,177,177,190,191,190,190,175,175,175,173,175,175,175,179,175,191,191,191,162,162,175,175,175,168,167,167,175,175,175,173,215,170,180,175,166,166,166,166,166,166,166,166,166,166,166,166,166,166,166,174,192,192,192,192,180,181,176,175,185,186,179,185,175,176,170,152,152,196,174,178,178,178,178,178,179,179,179,179,177,178,175,175,175,175,163,192,178,175,175,175,174,174,172,167,167,162,162,183,183,160,160,175,175,175,175,177,162,162,181,181,181,183,162,175,192,192,203,203,175,165,165,165,165,165,178,176,175,175,175,175,175,175,170,175,164,188,165,203,203,203,203,175,173,173,170,168,175,175,175,190,183,175,175,175,171,170,170,198,202,179,198,180,180,187,187,179,193,184,167,167,182,182,182,182,167,170,170,170,167,164,175,175,184,203,180,192,192,172,172,172,172,174,174,175,175,180,170,154,177,168,182,170,170,175,180,180,180,170,165,170,178,175,175,175,163,186,180,164,175,175,175,164,186,173,184,178,211,211,180,167,167,179,179,179,179,174,170,170,178,204,175,175,180,189,187,182,177,178,174,174,167,175,175,167,167,175,180,175,172,172,152,175,170,175,175,168,166,166,185,175,175,186,176,178,178,178,180,175,180,180,180,180,171,171,168,187,173,188,188,175,165,187,187,190,175,171,175,173,173,173,190,170,176,194,175,173,173,173,175,183,186,188,175,183,178,178,175,175,155,175,183,175,175,175,175,175,193,193,177,167,167,169,169,178,189,191,191,191,183,168,191,175,175,175,175,162,167,167,167,167,167,166,183,175,175,180,180,172,175,190,179,168,163,160,179,173,173,162,175,178,178,171,175,175,188,175,175,181,179,182,176,176,175,175,170,175,178,164,165,165,165,165,165,188,183,174,173,180,157,175,170,175,174,179,175,175,179,166,165,172,184,185,184,175,175,187,175,167,172,181,166,166,166,166,166,166,166,166,166,166,192,192,186,185,175,180,175,175,175,158,179,171,190,175,199,186,175,187,187,187,175,175,175,165,175,186,186,191,173,178,193,193,193,175,180,170,170,170,158,172,172,188,175,174,189,175,168,168,168,175,175,170,170,170,175,175,165,165,165,200,179,178,175,175,183,183,183,186,178,181,175,175,175,189,183,183,170,170,170,175,178,175,175,183,185,167,175,175,202,175,177,165,165,165,165,175,191,191,164,177,178,178,176,174,166,172,183,194,185,178,178,175,176,177,177,166,166,175,175,187,175,180,178,178,168,178,178,178,178,158,193,193,188,167,167,173,171,173,183,183,165,165,174,174,174,174,175,177,177,178,186,174,178,178,171,170,170,170,171,178,170,172,183,183,196,196,178,174,174,174,174,199,180,169,173,173,191,191,178,178,178,178,178,178,178,178,178,173,178,188,188,188,170,170,170,181,195,182,170,186,195,195,175,176,193,171,175,172,174,184,184,175,175,180,182,165,174,176,165,175,192,190,183,195,195,195,175,191,172,172,172,172,175,185,185,175,183,161,175,170,171,171,188,193,175,175,170,180,173,172,188,188,175,174,175,180,175,178,169,189,173,171,182,175,175,190,187,187,193,193,181,170,194,190,172,180,190,165,175,185,175,189,162,162,175,175,175,164,162,170,179,170,157,175,167,167,183,183,170,175,180,198,193,193,176,190,175,175,172,172,176,175,181,181,175,152,159,175,184,184,176,183,170,175,170,175,175,185,173,173,170,170,170,178,175,172,178,183,183,183,183,207,167,188,170,180,190,170,183,183,171,175,156,180,178,171,161,175,176,176,195,185,185,175,175,192,192,185,175,175,169,188,178,178,181,181,181,181,181,178,175,175,185,175,175,176,169,165,157,178,175,175,190,190,175,180,185,178,178,178,180,181,170,180,180,180,203,163,190,190,168,168,168,180,180,180,180,180,180,180,178,178,170,173,185,175,170,178,180,172,165,187,166,175,175,168,181,178,177,175,193,175,168,175,192,180,139,177,183,183,175,175,175,184,184,175,172,159,175,175,184,184,184,175,175,174,203,175,178,172,184,185,185,181,188,176,195,188,188,179,160,208,172,192,192,171,185,185,175,174,185,188,178,171,175,193,189,189,175,156,175,170,175,180,183,183,173,178,172,186,186,180,169,180,175,175,173,164,179,190,175,175,184,173,180,180,180,180,188,168,175,175,183,175,175,198,198,169,169,169,190,198,183,165,165,186,165,180,178,175,203,201,175,175,173,163,163,195,195,175,175,191,174,175,193,193,175,175,186,183,188,188,178,183,190,171,171,171,171,173,173,174,172,175,177,182,178,185,175,183,175,175,188,185,185,184,184,175,175,175,166,164,171,171,172,183,178,188,175,180,182,182,197,197,187,188,190,190,173,173,168,188,188,185,185,193,170,165,184,177,177,174,174,175,175,175,181,175,173,172,175,173,175,175,175,186,186,175,175,185,169,178,175,193,193,193,182,175,175,180,180,180,180,188,172,172,181,181,170,175,175,172,168,168,168,198,198,173,190,170,178,175,182,185,190,190,181,175,175,177,168,170,188,188,160,192,180,180,180,180,175,175,167,176,178,175,175,175,183,174,175,176,172,165,165,186,180,180,183,180,192,192,175,175,179,171,195,195,195,162,175,175,172,170,174,195,175,175,175,176,176,190,184,184,184,160,160,163,164,180,180,180,180,180,182,182,185,175,175,175,175,175,190,170,175,181,181,181,175,183,175,165,170,175,175,167,167,167,158,182,181,181,181,181,175,173,189,180,161,181,189,189,178,178,175,176,176,175,168,190,186,176,188,188,188,188,190,176,176,175,190,175,188,180,191,170,175,160,174,167,167,175,175,175,175,175,175,173,190,175,183,173,182,182,185,175,167,172,172,160,160,186,168,168,178,175,170,175,175,175,198,175,175,180,180,175,175,191,184,173,173,173,173,173,173,173,155,193,178,185,181,172,175,175,175,193,198,184,175,170,191,183,175,175,175,175,170,170,170,170,170,170,191,175,177,177,188,188,183,183,166,166,169,169,180,175,164,158,190,175,169,169,185,188,188,179,175,183,183,168,191,191,175,187,190,192,176,183,180,180,167,193,182,182,173,173,192,173,155,155,155,175,172,172,172,178,173,162,172,175,174,174,169,175,173,173,173,173,161,161,161,172,175,195,181,182,175,175,175,175,195,176,175,190,190,190,190,190,175,175,200,175,175,168,186,186,173,175,165,175,172,180,180,177,177,177,164,163,174,165,194,194,194,194,186,161,161,161,169,169,169,169,181,177,175,191,173,173,175,183,172,172,167,160,160,197,175,180,196,168,168,175,191,170,180,172,172,165,165,165,165,173,166,175,182,182,194,183,180,180,175,173,184,165,163,193,195,167,169,173,173,175,178,163,163,185,177,186,186,176,175,175,189,170,191,174,169,167,167,180,180,180,193,178,170,170,211,193,178,178,175,174,180,179,175,175,170,180,180,175,158,158,158,158,158,158,158,158,158,158,170,170,170,170,175,155,165,165,187,175,171,171,171,173,183,160,160,200,200,175,190,190,190,190,195,175,175,172,172,169,183,182,182,175,175,178,172,175,173,165,165,175,175,188,188,188,180,170,181,172,201,184,185,169,178,170,173,173,175,175,159,190,190,190,175,175,175,173,173,181,155,155,155,175,175,175,170,175,184,184,171,171,175,175,175,166,166,174,186,190,175,185,185,185,165,189,208,178,185,183,183,183,183,183,188,165,165,165,175,175,175,175,175,172,179,183,179,183,183,207,170,180,164,164,170,157,180,167,193,175,170,150,175,175,180,180,196,196,178,172,163,180,180,180,180,188,185,182,150,150,175,175,175,175,175,175,175,186,188,188,188,186,185,175,175,175,175,175,175,175,171,171,180,198,198,167,167,154,154,175,175,191,191,175,167,167,168,168,168,168,173,173,175,175,175,175,175,167,187,171,175,175,175,157,157,157,178,175,189,185,196,188,166,166,166,166,186,186,188,188,175,183,170,175,175,175,175,177,177,177,171,175,192,175,175,175,175,190,183,175,175,175,183,183,175,188,188,162,175,175,182,175,198,170,185,175,183,183,178,175,175,175,175,180,180,188,175,175,154,154,188,187,175,175,196,196,196,196,163,185,175,175,199,185,175,175,175,183,174,175,157,175,172,175,167,180,180,180,170,170,176,176,175,191,180,175,175,172,172,172,175,178,175,175,175,175,175,175,175,175,175,175,175,175,175,175,187,175,170,175,189,180,176,184,175,175,188,185,175,180,188,154,175,170,175,177,190,166,171,171,165,182,169,187,187,178,175,170,170,175,174,167,175,175,175,186,172,184,175,169,175,170,175,174,175,169,165,175,192,192,175,175,175,175,189,195,195,191,157,170,170,175,175,197,178,174,174,147,174,178,178,169,142,169,173,173,158,158,173,173,173,175,175,175,175,175,175,175,182,165,176,185,185,185,175,176,175,194,184,184,175,172,175,174,171,174,175,159,163,176,176,180,180,180,175,178,165,194,214,214,192,187,189,173,173,175,175,184,195,173,173,173,173,201,180,167,177,177,168,175,198,153,160,143,143,143,143,143,175,175,175,175,171,183,175,175,175,175,175,170,173,173,201,169,169,169,169,168,180,180,178,169,174,163,175,173,175,183,175,175,175,175,175,175,200,200,200,200,200,200,200,200,200,200,200,175,173,196,202,202,210,172,175,175,175,167,205,175,175,175,175,187,172,175,175,175,175,182,187,171,196,196,196,194,194,194,175,168,183,174,180,180,175,175,169,193,175,189,184,193,184,184,179,180,175,186,173,173,180,181,181,181,175,192,170,170,175,175,173,173,175,175,175,178,175,184,170,188,175,175,175,175,192,192,168,168,168,168,168,168,168,168,168,168,188,175,178,178,178,178,178,178,178,178,178,178,178,178,178,175,175,175,175,175,175,178,175,168,186,186,165,190,190,190,175,175,170,175,175,175,178,175,173,190,175,175,160,168,175,175,170,165,165,165,165,165,165,183,175,188,180,175,186,193,180,180,180,180,194,171,175,168,168,182,182,175,173,163,205,205,163,163,175,175,175,175,175,190,173,181,182,182,175,180,189,189,168,173,175,172,162,180,180,175,175,175,165,172,175,195,185,167,185,176,176,176,168,175,175,175,175,175,175,181,182,182,173,173,175,180,180,184,173,173,173,175,180,180,184,184,184,175,175,172,175,175,175,175,183,175,175,170,191,191,191,191,191,170,170,189,175,165,165,177,175,168,175,175,175,175,175,175,175,169,175,175,139,180,180,180,160,180,169,169,203,186,192,175,175,175,175,175,175,163,175,176,173,173,175,160,175,175,175,175,175,175,192,192,175,154,175,180,192,183,184,164,190,175,205,175,180,180,180,180,179,173,175,175,175,175,175,185,166,182,182,180,170,175,175,175,175,175,174,175,175,175,162,167,167,175,175,175,175,175,182,182,175,170,197,172,191,191,193,193,175,175,165,186,157,157,157,157,157,170,175,180,180,180,157,172,166,189,172,185,170,170,175,175,175,175,179,178,182,175,175,193,193,188,175,175,175,180,183,183,183,180,167,180,185,186,186,175,173,175,175,175,183,173,175,175,174,180,176,176,176,176,184,184,184,184,175,175,175,168,168,160,170,181,181,181,175,191,175,205,173,196,196,196,196,196,196,196,196,175,175,175,175,175,173,173,175,175,186,175,177,175,196,196,175,183,200,201,175,176,175,189,189,178,183,183,160,160,198,154,175,175,175,168,168,175,186,185,190,179,179,179,170,175,175,181,175,188,168,181,187,187,167,175,175,172,175,180,175,172,175,167,182,182,182,182,183,183,183,183,187,175,175,183,175,188,178,178,175,178,163,163,163,168,168,184,173,173,178,159,176,175,175,190,169,169,185,175,173,203,206,206,175,197,175,178,190,193,195,178,178,178,178,176,178,178,175,175,175,185,180,197,191,179,175,175,175,175,175,175,175,203,203,203,203,199,175,185,175,170,170,170,184,170,175,175,175,184,175,185,175,175,172,175,166,192,178,184,184,184,184,184,183,184,184,186,186,186,183,177,172,172,180,174,160,175,176,176,176,185,175,167,191,175,175,179,170,170,170,195,188,191,183,175,183,183,183,183,183,188,190,190,168,190,181,175,162,162,162,162,180,180,180,183,183,183,175,175,175,175,180,187,189,208,176,197,175,196,193,190,175,175,192,175,175,178,171,176,194,176,187,187,187,175,175,164,183,180,170,175,175,195,173,166,165,165,175,175,175,175,175,194,194,185,185,167,180,186,175,171,171,171,171,187,175,175,175,175,175,175,175,175,175,176,165,165,201,183,175,168,168,168,166,172,172,175,176,167,175,175,158,175,175,175,186,184,175,193,172,172,181,181,181,175,183,175,175,173,175,195,167,167,188,185,171,177,175,177,175,175,184,184,175,175,193,177,177,175,180,185,185,196,189,185,185,181,170,202,175,195,172,167,175,175,175,175,175,155,165,188,170,172,172,172,175,176,159,159,159,185,185,180,191,175,190,184,185,180,180,168,168,168,175,175,181,176,173,179,168,168,175,180,175,175,175,175,175,185,186,185,175,175,175,182,174,174,175,175,175,183,183,175,180,175,175,189,189,189,197,197,173,175,175,175,175,178,178,183,183,178,196,188,178,175,185,175,175,190,165,167,167,167,167,167,175,175,178,188,180,175,169,169,196,185,178,178,170,176,180,164,195,175,175,175,174,175,175,183,162,165,175,175,175,183,175,175,175,188,180,180,175,175,175,175,171,175,184,175,173,150,150,175,170,186,186,180,180,180,187,187,175,174,175,175,164,175,183,204,171,175,178,175,175,175,185,177,175,175,176,176,166,180,183,183,183,183,167,167,170,175,169,169,169,169,169,169,170,175,175,172,172,175,190,185,175,177,176,185,175,175,192,192,192,170,170,170,170,175,175,182,182,175,193,175,175,171,187,188,188,175,167,175,168,168,165,175,185,185,191,192,206,175,175,165,180,174,174,174,195,193,175,175,175,175,190,200,189,175,172,181,191,192,192,192,175,161,161,188,174,174,189,186,171,190,182,182,182,184,184,181,175,178,170,170,170,170,174,170,170,175,188,187,186,175,189,175,175,175,190,184,191,175,163,168,183,175,175,175,175,175,175,175,175,180,165,188,188,175,187,187,169,175,180,183,183,185,185,175,175,186,186,177,179,175,175,175,175,195,170,170,170,187,175,171,190,185,180,182,198,175,175,198,198,198,186,186,175,175,175,175,175,175,175,175,168,168,168,175,175,172,175,187,175,174,170,170,198,185,174,177,175,198,159,159,159,175,180,172,186,175,168,178,178,178,178,188,175,183,175,183,183,177,177,172,175,184,175,170,198,174,174,180,170,175,172,182,178,182,182,167,178,182,180,180,173,175,175,183,175,155,193,185,175,179,175,175,184,184,181,181,175,175,175,175,175,183,183,155,177,198,166,172,172,172,172,172,192,192,175,175,185,178,176,168,188,175,175,175,175,175,175,150,185,185,169,175,175,175,175,192,191,167,179,179,175,175,175,179,166,166,168,168,168,168,170,165,165,165,186,175,175,170,190,190,190,175,175,175,173,164,165,165,175,170,175,169,169,169,175,175,175,175,175,175,193,193,191,191,191,185,160,198,198,175,175,175,175,165,169,194,175,175,175,178,181,171,171,171,171,173,175,175,175,174,176,173,178,178,175,161,185,175,183,175,175,178,195,190,175,180,180,175,170,168,170,170,170,170,170,170,175,175,175,176,188,176,175,175,175,163,175,175,175,175,203,203,175,191,175,175,175,175,175,190,175,175,190,190,191,200,178,180,173,172,177,168,165,165,175,170,185,176,182,182,196,175,175,157,175,177,177,175,174,171,171,175,179,187,187,187,175,175,156,195,198,198,198,185,185,174,168,175,174,175,186,175,171,171,171,175,175,184,175,200,140,186,198,183,175,188,190,190,172,177,185,185,160,175,166,180,184,190,165,165,180,180,172,189,183,175,175,160,175,175,175,190,182,175,174,175,174,162,162,165,175,195,195,195,175,182,180,180,176,176,181,181,181,181,175,175,157,157,175,185,185,175,175,175,193,180,178,178,170,170,180,180,180,205,205,175,175,153,165,165,177,193,183,173,173,160,192,183,183,183,183,183,198,175,223,186,186,182,175,175,175,175,175,193,165,185,185,180,165,174,183,183,193,181,175,175,167,167,183,175,171,188,175,175,175,182,180,175,175,175,175,180,175,178,178,178,178,175,179,174,187,170,177,186,186,186,186,186,191,194,163,178,162,175,175,200,200,168,170,173,173,173,191,175,162,206,175,173,198,190,172,183,175,175,175,175,201,183,175,175,175,187,175,175,175,175,186,173,175,175,188,181,175,167,196,175,175,175,172,178,175,175,173,173,175,175,167,172,170,170,173,173,160,179,172,172,176,185,181,175,175,200,200,180,175,170,175,179,179,179,175,175,175,162,175,163,163,170,174,182,172,175,175,175,175,175,175,175,178,167,185,175,175,175,175,175,175,175,178,163,163,163,163,160,160,180,193,163,163,174,168,174,181,181,175,175,190,182,182,171,171,165,177,180,164,164,164,168,183,183,183,183,183,184,168,174,178,178,175,169,169,169,169,174,187,186,180,187,195,204,191,191,191,175,183,191,185,185,177,173,189,196,175,175,181,185,185,175,175,180,170,179,189,189,177,163,163,163,183,175,188,188,175,183,183,183,178,175,175,166,176,180,203,163,169,169,175,175,179,180,175,188,175,175,174,172,167,175,177,175,180,180,190,190,190,175,182,177,191,179,170,170,170,186,186,186,186,186,175,172,175,183,183,175,175,182,170,175,193,190,190,175,175,190,190,193,193,188,175,168,168,168,168,168,168,168,168,183,175,157,157,175,177,177,177,177,165,175,186,186,186,170,170,175,175,175,178,175,175,175,175,180,184,175,175,175,189,175,175,175,170,179,175,175,193,168,176,160,160,160,180,175,175,174,182,175,184,166,166,170,167,168,168,168,168,180,175,175,174,175,173,161,155,171,167,172,164,165,165,191,174,174,170,175,175,189,170,176,157,175,175,183,183,183,175,175,173,173,173,196,175,175,175,175,175,175,175,175,175,175,175,175,175,175,177,195,195,168,168,168,175,175,179,175,175,175,175,183,193,167,175,175,175,175,175,175,175,175,175,183,175,183,178,175,185,178,170,169,169,163,158,177,183,181,175,178,175,184,184,182,172,200,200,193,175,184,184,164,175,175,170,200,190,178,187,178,175,172,172,175,170,170,180,175,191,191,200,165,185,175,164,173,178,169,175,168,188,190,168,168,168,175,175,184,188,175,173,175,175,152,180,176,175,175,175,175,172,183,190,175,176,189,178,195,182,182,182,182,175,178,196,190,190,175,167,188,165,186,154,188,188,175,175,175,167,185,175,175,175,175,181,175,175,185,185,185,165,160,160,160,160,160,160,160,160,160,160,160,172,180,180,180,175,175,175,175,175,193,193,193,183,185,175,180,175,188,175,178,175,195,170,152,175,175,174,180,175,170,160,173,175,170,175,185,185,185,185,178,168,187,178,175,175,175,175,175,165,165,165,165,165,165,165,165,175,175,182,175,175,175,175,175,175,175,175,175,163,184,182,175,193,203,175,198,183,168,175,175,178,175,175,188,168,175,175,198,175,175,172,175,165,197,173,173,173,176,177,177,168,185,172,172,172,176,178,191,191,191,190,190,168,161,161,192,175,186,176,176,176,173,175,173,175,175,172,172,175,175,175,178,175,175,175,183,183,175,186,175,172,168,162,175,175,175,175,175,175,168,168,168,183,174,175,170,193,193,193,178,178,194,163,169,175,175,183,175,175,186,183,175,172,193,176,176,176,176,176,185,175,175,175,175,167,168,168,175,175,169,169,169,190,168,165,216,170,158,158,170,182,174,178,178,175,186,160,191,169,188,175,175,175,175,190,177,178,178,195,175,175,172,176,173,175,195,195,170,163,163,163,175,190,175,193,193,176,173,181,175,183,183,183,183,183,183,175,175,175,175,175,175,175,175,175,165,172,175,168,165,171,171,171,175,175,175,172,175,184,175,181,180,185,185,185,173,175,171,171,165,165,185,185,185,165,165,165,157,171,177,181,181,181,181,150,180,175,163,185,188,174,183,183,168,168,173,176,175,172,181,170,170,170,170,182,168,169,188,188,167,162,162,172,174,164,160,160,160,160,160,166,170,178,149,156,167,158,152,168,158,158,160,160,160,160,164,164,158,205,159,165,170,172,183,183,166,177,175,175,175,175,173,173,152,152,152,161,165,185,170,150,164,164,164,164,164,164,160,175,182,182,182,182,182,182,203,176,153,153,183,176,180,170,173,173,171,180,178,155,168,192,174,186,175,182,175,165,189,189,179,183,193,193,202,202,172,172,151,170,168,153,153,153,153,184,164,170,189,175,169,151,165,177,160,175,172,172,177,210,174,168,175,175,185,184,184,184,180,180,168,180,170,186,182,192,162,187,175,184,175,189,189,180,189,170,183,190,170,162,175,157,155,190,181,188,196,178,157,157,174,174,174,175,175,170,183,175,175,185,190,190,174,159,168,173,175,168,175,165,165,165,165,169,166,172,182,182,174,175,168,163,163,162,183,166,205,196,196,192,192,175,175,175,160,174,161,161,176,155,155,155,175,173,180,185,186,176,175,198,176,180,175,175,175,198,165,175,197,187,182,189,189,189,180,175,180,175,162,165,186,173,173,173,173,175,175,188,188,188,169,187,190,180,175,175,175,175,175,175,175,175,175,175,175,184,184,184,190,190,191,191,195,195,150,160,188,175,153,153,178,170,175,182,175,180,183,175,195,195,195,166,166,166,170,170,184,162,175,157,170,175,175,195,195,196,175,184,172,170,170,175,175,165,165,154,178,192,192,192,178,182,197,186,179,169,175,195,195,175,175,175,180,191,179,175,175,185,185,185,185,170,175,175,191,196,175,175,168,188,176,193,180,180,193,180,190,176,163,163,163,188,172,155,155,175,162,176,176,170,170,180,180,180,180,180,175,178,166,166,175,175,182,178,183,195,165,165,175,175,185,175,174,174,192,170,162,162,162,162,175,206,206,193,180,180,187,191,180,181,181,181,185,178,178,178,175,172,163,188,188,188,175,175,180,178,175,173,182,170,170,179,175,175,175,175,175,172,160,160,179,175,182,175,172,172,170,170,170,188,165,167,183,177,178,170,183,173,174,175,175,154,185,195,174,174,178,178,175,192,192,175,161,161,161,175,158,194,175,175,175,175,175,178,190,170,188,175,180,180,173,173,175,175,175,175,175,175,175,182,170,180,173,178,175,184,157,175,175,172,185,175,186,172,192,192,180,168,187,181,170,170,170,170,160,194,182,186,184,170,186,175,175,175,175,175,175,185,175,179,175,175,195,175,175,152,175,175,188,175,175,156,185,175,175,185,187,187,173,170,190,190,183,198,174,175,182,179,179,179,171,173,175,190,185,169,169,175,175,162,162,162,162,162,162,162,162,162,175,166,165,165,165,165,175,177,171,175,167,188,189,189,190,170,166,166,193,170,185,185,177,175,175,165,165,186,183,172,175,175,175,175,175,167,186,187,179,179,175,174,183,183,175,160,179,175,197,165,175,179,175,178,155,191,191,180,184,183,183,167,193,175,178,185,168,181,181,172,170,175,175,175,175,175,178,178,188,175,175,175,175,181,183,167,175,175,162,188,175,160,175,175,170,178,178,188,188,169,169,169,169,170,170,170,175,190,190,190,190,177,172,165,165,175,191,175,175,175,203,178,169,175,189,182,179,175,175,177,196,175,175,175,175,175,175,175,170,170,170,170,170,178,168,168,170,175,175,175,175,175,175,182,191,191,174,175,175,195,188,175,183,180,175,180,175,163,190,157,195,167,171,181,175,186,177,156,175,209,209,209,180,180,180,175,173,180,187,187,177,177,177,175,175,180,175,188,178,178,178,182,162,175,175,174,160,190,167,178,183,167,167,168,173,173,173,173,173,173,173,173,173,173,173,173,175,175,175,175,213,175,175,175,175,173,168,168,171,169,175,188,188,210,183,175,175,168,168,176,176,176,176,176,179,175,176,188,172,172,181,181,201,175,176,176,176,176,176,176,176,175,175,143,175,175,184,168,182,175,180,175,175,185,182,168,171,171,183,160,157,200,175,175,167,192,192,171,175,175,170,180,175,185,181,181,181,182,182,186,175,172,172,175,167,167,167,167,192,192,192,192,175,175,187,187,173,181,181,181,164,175,191,186,186,175,175,170,184,175,185,175,178,181,175,175,183,180,175,175,176,176,180,175,172,175,193,193,193,193,193,177,174,175,170,170,184,174,173,193,175,173,169,172,175,186,175,175,198,175,180,180,165,175,170,187,187,191,175,182,175,175,180,182,183,195,201,160,188,188,188,175,175,175,175,186,186,187,187,168,190,172,176,159,187,187,178,187,166,168,177,198,198,183,183,180,166,185,185,188,188,188,188,188,188,170,186,175,160,185,185,175,175,175,175,191,183,183,183,183,176,183,168,168,177,175,197,175,193,193,184,175,175,175,174,177,185,184,166,175,175,175,183,179,175,175,178,181,181,191,170,195,182,182,180,200,183,199,175,175,175,188,190,175,175,171,168,178,175,185,185,178,175,184,180,175,175,175,175,175,175,185,180,175,175,175,175,167,176,175,171,188,169,169,169,169,160,160,160,175,175,143,185,175,175,163,202,175,175,178,196,171,199,199,189,172,172,165,175,173,182,185,185,177,175,173,157,172,180,176,170,176,176,185,180,175,186,173,170,172,175,186,178,178,175,178,178,187,187,174,186,177,177,203,203,187,187,175,167,172,163,183,190,173,171,175,179,175,175,183,175,163,175,147,165,165,175,168,168,179,175,170,175,175,180,175,165,185,168,173,173,179,172,177,181,178,168,168,168,169,175,175,190,172,186,186,190,190,183,175,177,177,206,180,197,197,197,187,182,182,178,175,163,174,184,189,178,178,180,175,175,175,187,175,173,175,175,189,178,178,178,178,178,178,192,172,187,183,183,183,190,184,165,178,169,193,193,193,183,158,175,173,173,173,173,174,171,171,175,175,165,183,183,183,183,183,183,183,183,166,180,180,171,182,180,179,184,168,168,168,175,175,201,172,185,177,184,180,198,198,167,167,201,201,201,195,152,173,162,169,175,163,171,171,167,175,175,170,175,168,175,175,203,174,193,168,185,186,186,186,186,165,183,175,160,160,160,190,175,170,170,169,172,172,193,193,193,172,180,178,175,175,174,175,190,188,183,178,174,191,186,186,175,178,175,178,174,175,175,180,180,180,180,175,193,193,193,187,190,190,186,173,175,181,185,175,175,185,175,180,174,174,174,157,166,166,208,155,203,183,185,185,168,175,183,183,183,167,177,185,190,190,175,175,188,188,188,188,188,180,165,160,160,160,167,167,185,185,193,175,182,182,188,188,188,188,188,188,188,188,195,178,167,167,167,175,165,168,175,160,182,182,182,183,170,170,170,170,170,165,148,148,148,175,158,158,158,158,170,185,182,175,175,182,170,168,168,175,175,180,191,188,175,173,170,170,175,175,175,179,179,175,175,175,182,170,175,183,180,180,184,175,172,175,175,175,175,175,175,175,175,175,174,172,174,174,174,174,174,174,174,174,175,175,175,175,175,175,175,175,175,175,175,166,175,175,175,175,175,175,175,180,180,175,175,175,175,175,175,175,170,170,170,176,176,176,175,180,187,187,187,175,175,175,186,175,175,175,175,175,181,181,181,181,175,168,183,180,175,175,175,175,168,175,175,175,175,175,175,175,205,175,175,175,181,181,173,180,175,175,175,175,175,175,176,165,175,168,166,166,175,175,175,194,175,185,190,175,175,175,175,175,175,175,175,175,175,175,175,175,175,175,175,184,184,184,184,175,186,186,160,175,196,176,176,175,176,184,186,175,175,175,175,175,175,175,175,174,174,172,172,175,175,183,175,175,185,185,176,175,175,175,175,175,178,172,168,168,168,170,183,175,178,175,175,175,175,163,183,172,175,175,179,179,179,170,170,170,173,193,175,175,183,183,170,193,188,175,180,180,175,201,160,175,175,175,180,185,175,181,181,190,156,156,165,182,182,182,175,175,175,195,176,175,175,175,195,195,163,186,168,168,178,178,171,175,175,175,175,175,175,175,175,164,201,183,193,184,159,159,159,166,166,166,195,179,180,174,174,174,183,175,175,175,175,175,189,185,175,175,191,185,166,165,175,175,182,186,183,183,183,193,173,173,165,181,190,183,198,198,175,174,175,175,185,183,182,184,175,175,175,175,175,175,172,175,175,175,175,162,162,168,175,175,175,181,175,175,191,175,175,196,196,185,185,185,185,185,185,174,182,182,175,180,161,180,174,197,197,175,185,175,174,174,175,204,195,175,172,173,173,173,177,183,166,182,175,175,175,187,197,175,175,180,175,175,175,175,175,175,175,173,171,175,175,165,172,155,185,185,185,190,182,182,182,180,180,175,163,175,184,184,184,180,170,175,178,178,178,182,175,180,180,180,170,193,167,188,183,163,163,163,190,163,181,189,144,144,163,159,150,150,150,150,175,185,185,188,188,173,189,170,182,175,182,200,175,175,165,203,175,140,182,175,175,170,170,175,175,190,175,175,178,173,173,192,178,206,175,199,180,201,165,175,188,163,163,175,175,183,183,170,171,175,175,175,175,185,175,175,175,177,200,173,173,175,187,187,175,175,180,178,175,184,184,175,175,190,175,166,180,178,175,175,175,176,160,160,160,170,170,175,185,185,185,185,187,183,190,192,185,185,178,175,175,189,175,175,179,179,165,193,193,176,175,175,174,174,174,174,174,174,176,176,176,176,176,176,175,175,155,155,155,174,174,174,164,164,164,164,164,164,164,192,184,177,177,177,177,177,190,163,167,168,168,182,185,175,175,175,175,175,175,190,178,175,173,174,174,175,175,165,186,149,175,175,175,174,175,175,182,182,182,182,162,168,156,166,166,166,166,166,166,175,180,180,180,180,180,181,180,180,175,168,175,176,175,188,172,172,172,175,179,179,179,195,183,195,192,179,169,169,169,168,195,172,183,183,173,176,174,174,175,173,175,175,175,175,175,175,175,187,186,189,189,188,188,175,172,168,163,175,184,184,184,184,184,165,175,175,175,172,172,172,172,183,190,175,175,175,191,162,169,169,162,190,178,178,178,179,178,178,178,178,186,188,175,175,175,175,175,185,185,173,173,173,173,172,204,175,186,175,175,159,176,177,178,178,197,184,175,175,173,197,197,182,177,175,215,175,168,171,171,171,171,180,167,168,175,175,172,172,172,164,196,202,175,175,175,175,185,170,170,185,198,163,163,163,163,163,163,163,163,163,180,169,203,175,175,160,180,187,186,186,175,183,183,183,183,183,178,178,178,178,178,178,178,178,178,178,213,213,177,170,175,175,175,175,175,175,188,168,165,165,175,183,190,175,178,186,170,196,164,174,177,183,183,183,177,154,154,178,174,175,152,175,178,178,178,178,178,178,190,175,173,175,175,175,175,185,183,190,175,172,181,154,154,154,154,154,167,146,192,192,150,189,175,175,177,151,175,167,170,182,173,199,185,185,175,175,175,186,186,175,181,181,173,182,175,200,173,173,175,175,183,187,192,164,175,195,158,175,185,178,178,178,175,175,175,175,174,196,196,165,193,178,178,169,201,201,201,172,175,161,173,175,175,149,187,187,190,191,191,186,186,175,183,183,178,179,175,175,173,178,187,159,159,180,187,192,175,175,175,198,198,167,203,173,192,165,165,165,186,186,186,174,168,168,168,168,178,184,170,172,185,165,166,189,175,175,176,178,180,168,168,168,179,178,178,175,175,175,175,185,175,163,175,175,175,170,170,170,175,170,203,203,176,170,170,175,175,175,175,175,175,181,181,192,186,186,167,175,188,183,189,175,175,182,172,172,172,175,175,168,168,168,177,177,170,162,167,167,160,165,175,175,196,178,193,163,163,194,194,182,170,180,175,193,172,184,159,175,175,202,202,202,175,174,180,175,174,174,174,174,174,174,192,175,185,185,200,198,175,157,157,157,193,175,180,175,165,162,173,196,196,196,181,178,178,178,178,180,195,178,186,164,175,175,175,175,175,175,177,175,175,175,175,175,175,175,175,178,165,188,188,170,170,198,181,188,188,197,172,146,163,163,163,214,200,178,175,175,175,175,176,165,175,175,183,183,181,181,181,181,181,175,175,175,175,187,196,192,192,193,187,175,191,191,175,180,190,170,168,175,175,171,200,175,165,179,179,185,194,175,175,172,175,175,173,175,178,180,181,171,172,167,167,168,175,191,176,175,163,175,196,196,185,175,163,171,175,175,150,178,178,170,170,175,188,188,192,183,200,200,200,180,180,170,170,170,170,170,175,170,176,180,180,185,183,175,175,175,175,175,175,175,191,191,191,175,191,191,181,175,170,170,180,168,175,162,162,177,175,175,180,175,175,175,175,175,175,175,175,161,174,168,157,180,173,175,181,176,175,170,190,170,170,183,175,184,183,184,178,180,175,165,164,163,175,170,175,178,178,183,175,175,148,186,175,170,170,170,170,175,175,168,165,178,178,193,175,172,168,194,185,178,196,169,187,175,171,179,192,175,166,158,158,196,196,173,165,165,175,190,171,186,183,183,180,175,182,188,163,174,175,158,178,213,175,184,186,180,170,174,190,172,188,195,194,194,189,175,193,157,175,173,173,173,175,175,175,190,186,175,165,175,175,175,175,170,175,175,173,173,167,170,175,185,185,168,180,180,174,175,175,175,175,175,206,206,196,180,180,191,175,175,175,176,176,176,187,175,175,180,185,185,175,156,175,153,175,175,183,175,175,168,180,175,168,168,168,175,175,190,175,167,175,169,175,164,166,166,183,183,178,198,198,183,183,183,175,175,187,187,172,179,175,177,177,172,170,175,188,178,186,207,196,196,196,172,172,172,186,180,180,167,171,173,173,173,205,205,185,188,176,175,175,169,169,168,178,174,175,175,175,182,175,177,177,177,167,168,178,178,166,172,178,175,190,178,178,178,168,183,175,179,179,196,196,175,175,175,183,175,185,175,175,186,186,175,176,175,185,185,185,185,185,175,186,186,180,180,180,180,153,153,180,179,183,177,184,184,184,170,170,164,184,179,175,180,174,175,165,183,188,168,175,174,174,174,174,163,163,163,185,175,186,186,178,176,176,176,185,205,171,180,186,186,167,167,167,188,168,171,191,196,175,179,175,184,171,198,195,195,178,178,175,175,175,175,175,183,183,183,175,175,182,182,175,175,185,176,176,176,176,176,175,175,175,175,175,163,182,175,194,175,170,175,175,175,187,178,181,174,185,174,174,174,174,174,174,174,160,196,157,179,179,198,198,175,175,182,175,167,162,175,175,187,172,188,175,168,174,175,186,186,166,181,191,165,165,165,165,165,165,165,147,147,170,170,204,204,175,167,196,169,186,174,170,175,176,185,185,183,184,208,208,208,177,180,180,175,175,175,180,180,191,175,175,196,171,171,188,187,175,179,183,183,178,180,175,188,184,181,175,165,176,176,176,175,180,175,162,185,175,175,167,183,190,189,172,172,180,180,172,172,175,175,175,175,194,177,177,170,185,167,171,184,183,183,188,175,175,175,174,175,188,188,181,175,181,169,169,169,169,175,171,183,160,181,181,181,185,160,176,191,191,180,175,179,179,179,179,179,182,180,187,180,175,175,177,175,175,175,182,182,182,182,162,190,190,190,189,189,183,170,175,175,175,158,173,175,182,175,171,175,175,175,162,171,161,178,178,172,172,172,172,172,172,172,172,163,165,165,175,170,161,161,161,161,161,161,161,198,198,180,175,175,175,175,202,175,175,175,165,165,176,176,175,175,188,175,175,180,175,175,164,175,184,160,175,175,175,180,180,180,180,180,180,180,180,172,167,165,165,178,198,178,174,189,175,175,192,193,174,178,175,175,175,165,182,176,175,178,175,187,187,187,175,170,180,149,149,175,188,175,181,181,184,175,175,183,175,175,179,175,176,187,195,175,175,175,175,172,175,163,170,175,175,178,191,175,190,175,175,175,175,179,175,175,175,175,175,184,184,184,177,173,188,172,173,173,173,173,173,179,175,194,176,183,189,189,180,171,175,175,180,180,172,172,175,167,158,194,180,180,178,162,162,162,178,191,191,191,191,185,184,184,184,184,175,175,175,187,163,176,179,179,176,179,175,160,175,175,180,172,160,172,172,193,178,175,175,175,175,156,156,173,173,173,168,181,190,182,173,192,175,175,175,167,167,181,185,185,185,178,175,175,164,170,182,182,178,178,188,188,188,188,175,179,176,176,186,173,183,175,172,169,175,165,175,163,180,194,178,175,175,175,192,179,178,185,175,183,175,183,180,175,175,167,167,167,167,167,180,180,175,196,188,190,190,190,190,190,175,159,176,176,175,187,167,170,168,183,170,175,175,175,175,175,179,170,183,180,182,187,187,175,175,189,189,185,185,178,178,178,178,169,167,175,175,183,180,180,180,175,213,213,175,175,175,185,185,185,185,185,185,185,185,185,185,175,175,175,170,170,170,170,170,170,171,184,182,175,177,175,175,169,169,175,175,194,175,172,161,193,193,163,204,170,161,161,184,177,182,198,189,189,189,182,175,162,185,175,178,168,168,175,175,175,193,178,175,175,175,158,158,170,175,175,175,155,175,187,187,187,175,175,160,175,193,193,160,182,175,182,171,180,181,178,167,180,181,175,175,173,173,172,175,166,186,178,175,175,175,175,175,175,162,190,190,190,179,158,158,170,170,158,170,148,168,175,170,187,175,183,175,178,194,194,194,175,175,175,175,192,192,176,175,173,187,187,187,188,188,175,182,178,178,169,169,172,183,173,173,173,173,175,173,175,183,175,183,183,175,183,172,167,167,163,173,187,175,182,175,175,175,184,180,159,175,184,175,178,199,172,173,175,175,192,175,183,182,183,183,183,183,183,175,168,175,175,175,178,165,165,165,175,175,175,175,175,172,172,195,182,170,175,175,184,179,179,180,185,185,190,185,176,176,198,189,195,169,186,162,180,181,180,180,175,180,175,204,204,204,175,175,175,175,175,196,196,175,175,180,175,175,158,175,175,175,183,178,185,168,168,168,168,168,168,168,168,168,174,180,180,180,169,175,175,189,180,179,179,183,183,170,163,163,163,160,160,175,175,166,166,177,182,185,185,185,185,185,184,184,184,173,164,164,170,175,170,173,173,179,179,179,179,179,188,168,168,168,175,180,180,199,175,175,169,184,184,184,175,180,180,175,204,170,170,159,159,193,199,199,194,174,167,167,167,173,176,176,176,188,175,196,196,196,181,181,168,171,172,159,180,169,178,175,187,175,166,166,173,187,162,181,175,178,178,175,184,180,180,176,181,181,181,185,159,159,175,180,176,176,194,180,180,157,171,171,174,173,181,194,193,175,181,182,176,193,193,188,188,187,170,183,183,183,196,170,175,175,175,175,174,167,175,179,180,175,175,175,175,175,175,175,175,175,190,175,187,188,174,185,185,185,185,185,193,177,177,175,175,175,175,175,183,171,175,175,175,175,175,186,168,168,191,191,185,185,183,159,159,175,167,167,178,180,172,172,172,190,190,136,136,136,177,177,169,178,152,152,159,196,196,196,186,175,187,160,175,192,183,175,185,185,198,198,198,198,175,175,202,177,168,182,182,175,175,175,165,183,175,175,161,168,175,179,179,191,179,174,174,174,176,176,176,164,183,185,185,185,175,181,181,181,176,176,176,176,176,172,188,186,190,176,186,186,186,186,186,186,186,186,187,187,187,172,172,172,172,172,172,172,172,172,172,172,172,194,173,173,187,161,175,175,175,175,175,175,183,183,177,163,175,175,175,175,175,178,175,175,175,175,175,175,180,175,178,175,168,180,175,162,179,165,178,175,185,186,186,175,184,175,175,175,173,173,175,175,175,175,175,175,170,170,175,177,178,178,178,178,175,175,166,181,175,175,173,175,175,175,175,175,175,168,168,164,175,163,175,173,195,189,189,175,171,171,171,171,171,175,157,175,175,175,175,175,175,175,175,168,164,185,171,190,183,175,185,176,177,177,175,186,183,183,188,188,188,189,171,175,191,191,175,183,184,183,178,178,170,170,167,175,170,168,175,170,185,170,170,190,190,180,175,172,172,172,173,173,173,174,171,171,183,172,197,183,169,182,159,175,175,175,175,175,185,150,150,150,191,195,195,195,167,162,191,186,175,180,190,172,191,173,175,175,175,175,175,164,164,164,164,164,175,172,175,175,175,174,180,188,190,190,185,203,181,181,160,171,159,175,160,187,193,159,159,188,181,175,192,174,199,178,178,175,173,175,175,162,162,188,188,188,188,175,193,172,180,185,185,184,175,175,175,175,175,174,177,190,169,191,191,179,199,182,203,175,164,165,198,198,175,193,172,178,175,180,190,165,180,181,190,190,175,175,178,175,175,175,175,175,175,175,173,165,165,165,183,170,170,175,175,170,176,175,183,183,183,183,175,175,173,175,175,186,198,175,198,198,198,175,162,162,190,170,166,166,188,182,172,196,196,196,186,182,182,182,183,172,195,182,188,188,161,183,180,175,175,175,175,169,175,167,196,196,168,175,175,188,177,181,181,181,175,175,175,175,181,175,176,180,167,178,178,178,178,178,178,175,188,188,188,188,188,188,190,183,192,175,175,169,175,175,189,175,178,172,172,172,172,172,172,172,172,172,175,163,163,175,175,175,175,173,175,163,160,160,160,160,160,160,175,178,170,153,175,169,175,174,184,184,183,175,175,175,175,175,177,177,176,176,176,185,183,183,183,172,185,180,180,180,180,180,173,175,175,180,189,189,175,175,176,176,176,176,176,176,176,176,182,183,183,200,200,172,164,164,175,171,171,171,175,170,175,173,183,183,175,175,175,175,175,166,211,179,177,175,175,170,170,170,188,192,182,175,175,186,186,186,182,181,182,182,168,168,174,174,174,176,175,181,185,175,175,175,175,175,175,190,190,175,175,166,175,175,200,175,180,183,183,196,184,184,184,175,173,173,173,173,193,175,179,179,188,175,187,169,169,169,169,169,171,171,171,171,184,165,175,175,176,176,158,193,189,160,190,194,176,182,175,184,184,184,175,175,177,182,182,160,146,183,175,175,176,178,180,185,185,186,170,184,175,181,174,174,178,175,175,173,175,175,175,175,175,175,166,181,181,181,160,160,160,160,160,179,185,185,175,175,175,175,187,187,168,169,169,175,169,169,169,169,174,183,176,168,160,165,165,184,184,165,165,173,167,160,166,176,155,175,192,182,182,156,156,170,170,165,169,173,173,173,169,168,168,188,180,180,180,180,175,175,185,175,175,175,169,163,187,193,180,180,180,180,190,168,168,168,175,183,183,193,172,190,190,190,158,172,175,174,182,168,181,168,164,197,165,165,186,186,170,160,160,160,172,173,180,170,185,185,182,182,190,170,170,175,175,182,142,183,175,178,193,178,175,195,175,175,175,170,205,178,178,176,178,178,178,174,172,183,184,184,184,184,184,170,176,168,168,166,193,175,175,175,175,179,175,175,175,175,170,170,185,185,185,175,175,187,182,175,182,167,172,172,210,178,178,175,173,170,175,175,175,157,184,167,178,178,178,175,173,167,167,167,163,175,175,175,175,150,150,165,165,165,187,183,165,165,183,169,168,167,167,192,192,178,172,175,175,170,200,200,200,200,182,182,180,167,167,179,178,175,175,165,175,175,150,185,175,172,172,172,172,202,202,176,170,168,168,175,175,175,178,166,175,176,176,178,182,157,173,175,184,175,185,155,175,175,183,183,184,184,175,175,185,168,168,155,172,170,168,170,165,169,169,169,169,162,162,177,182,164,167,201,174,173,169,175,175,168,168,176,175,175,175,175,182,181,175,175,175,170,204,183,183,168,168,175,175,192,192,172,189,189,175,175,175,182,165,175,177,170,176,175,188,188,178,178,193,193,175,175,163,163,163,180,198,181,169,191,176,184,182,175,175,175,175,186,175,175,183,193,202,202,168,209,175,172,187,187,175,175,167,180,180,180,175,175,181,175,169,156,173,207,175,184,177,190,175,196,196,180,168,175,185,185,188,188,188,188,188,188,178,175,204,184,185,185,162,162,175,175,182,173,173,175,174,170,213,213,215,215,215,175,175,163,185,185,189,182,189,181,175,175,177,181,178,178,186,186,186,186,186,178,178,178,165,178,178,186,186,175,175,175,175,175,175,175,200,200,200,200,200,200,200,200,200,172,172,175,167,175,196,186,175,175,175,175,169,175,174,187,177,191,179,169,167,167,167,167,173,172,180,171,168,169,183,183,176,180,172,170,175,174,174,174,174,182,182,173,175,176,171,171,191,175,170,170,180,171,165,165,167,183,175,175,162,190,190,190,175,173,167,183,196,175,183,175,175,175,176,176,190,183,183,183,168,164,175,201,177,190,190,165,175,179,171,165,175,175,188,175,175,175,175,156,169,179,175,205,175,183,174,175,175,188,196,196,196,198,198,190,175,175,175,199,175,175,185,185,185,185,175,165,190,190,188,175,178,178,138,206,172,172,172,175,160,160,160,160,160,175,175,175,175,175,180,168,175,165,154,174,180,183,169,175,175,189,175,175,175,175,175,175,175,177,201,178,166,169,175,175,175,180,186,186,177,177,177,177,177,177,177,177,177,177,189,189,172,172,202,202,175,175,190,185,185,203,203,190,180,182,176,190,190,182,182,185,185,185,185,175,175,175,175,175,175,180,180,171,161,175,163,175,176,175,175,170,191,168,168,167,167,167,167,188,176,175,169,193,193,182,170,183,183,175,179,179,187,187,173,182,182,173,193,176,186,186,175,173,160,160,170,170,170,185,182,175,175,175,167,175,174,187,184,175,196,196,196,198,185,175,175,175,168,192,192,192,175,173,185,175,175,184,175,175,173,185,190,175,175,195,175,179,179,165,170,195,176,180,183,175,180,184,186,164,186,186,192,171,191,175,193,186,185,175,170,185,175,183,175,176,170,175,183,183,175,175,185,185,175,175,181,181,187,187,184,184,184,192,192,175,183,183,175,178,175,190,175,185,175,175,175,175,178,165,193,193,193,175,161,161,165,177,173,158,175,195,195,195,195,198,198,190,172,182,182,165,188,187,175,175,196,196,175,175,175,189,183,170,170,175,175,175,175,175,160,180,164,178,178,175,175,178,175,175,183,190,175,196,175,174,175,177,172,181,175,170,175,190,190,178,160,151,188,175,174,186,186,195,195,195,175,175,175,175,175,170,167,167,158,158,158,158,187,187,173,175,183,183,169,175,173,178,179,190,183,178,183,188,175,175,190,175,170,195,178,175,179,164,175,175,183,175,175,175,178,185,175,175,181,166,175,180,177,177,175,158,196,171,175,175,175,158,175,177,173,148,148,148,148,164,175,175,168,168,187,182,185,164,164,172,175,175,175,156,175,175,190,193,193,193,170,170,183,171,188,175,175,158,158,172,191,193,193,196,175,175,175,175,170,175,175,175,196,175,185,183,175,171,175,175,183,175,150,150,150,150,150,169,185,178,185,185,166,180,180,183,191,172,172,169,169,169,162,188,203,168,168,173,173,165,180,180,172,172,187,187,167,186,177,176,184,175,159,175,175,175,189,180,183,167,175,175,175,175,174,174,165,165,181,172,180,167,174,196,196,176,176,175,175,178,158,182,194,194,175,158,178,166,180,188,188,175,175,173,178,173,167,155,186,186,175,175,170,175,175,165,165,175,161,186,163,184,172,166,196,173,174,175,186,179,175,162,162,162,162,182,182,182,185,185,191,176,185,177,162,158,158,175,165,153,184,184,186,175,175,175,153,210,173,168,178,175,183,173,173,167,175,184,183,183,180,175,171,184,175,175,175,175,175,175,175,175,175,196,186,186,172,172,175,175,182,175,175,182,187,176,174,167,167,175,175,184,184,193,183,168,190,179,179,175,175,162,175,175,183,189,182,187,167,167,187,187,160,178,178,180,181,178,175,175,175,181,181,170,198,174,168,168,168,168,168,180,200,200,173,180,180,180,183,186,186,179,202,182,198,175,175,175,175,188,173,193,193,176,180,168,176,167,175,175,165,175,195,181,165,165,168,175,179,179,179,179,179,179,179,175,172,175,175,175,179,185,185,187,175,175,175,175,167,171,171,171,171,171,175,175,165,175,175,175,179,179,183,183,175,183,180,180,175,179,166,168,168,168,182,182,165,174,162,162,178,193,185,185,191,198,180,180,196,190,195,197,173,183,184,175,173,173,180,175,175,154,178,178,178,198,185,185,168,185,185,185,185,185,160,160,170,175,175,175,182,173,176,175,175,175,175,175,175,187,175,180,175,175,179,179,163,174,174,166,178,182,175,178,178,178,189,189,183,183,183,183,183,177,185,175,170,170,165,165,189,175,175,175,175,175,175,180,175,175,195,195,179,175,175,170,180,175,175,175,175,163,163,186,186,185,173,180,175,201,201,173,173,175,175,175,170,191,195,180,162,194,194,193,193,175,175,177,198,206,199,170,175,178,175,183,162,178,200,172,175,170,196,196,175,190,175,175,173,173,183,183,176,176,176,176,160,160,175,175,175,175,193,174,175,193,175,171,175,175,175,162,181,189,189,189,171,178,175,198,198,182,182,182,175,175,190,180,193,164,176,176,176,193,175,177,175,195,175,170,175,175,175,175,203,203,203,203,203,203,179,178,188,172,170,175,175,175,175,175,175,180,175,175,193,193,170,170,170,170,170,175,175,171,167,156,156,175,146,175,180,178,178,179,156,178,178,178,190,172,200,183,188,182,175,185,185,180,180,180,186,188,203,168,175,178,182,183,183,185,175,171,164,164,170,170,181,191,191,189,189,174,174,174,174,174,146,160,190,175,175,175,175,179,198,198,175,191,182,183,175,175,180,180,189,175,175,175,194,190,190,175,157,172,172,172,175,175,175,175,175,175,175,196,170,160,192,176,175,175,175,181,162,162,182,182,201,201,201,201,201,201,180,179,179,179,179,179,179,179,179,175,153,175,175,175,175,175,175,188,164,175,167,175,175,175,175,179,179,200,163,163,163,163,163,156,175,175,170,185,185,185,183,182,182,198,172,172,193,175,170,170,193,192,175,188,188,175,187,162,198,176,172,170,176,175,175,175,179,174,174,183,175,182,180,183,175,191,191,191,191,191,186,186,186,180,180,180,180,180,180,185,184,166,182,183,182,165,165,174,165,172,172,167,167,167,174,175,169,172,171,183,165,175,165,160,175,178,172,178,172,172,175,182,182,180,188,175,207,181,171,160,175,175,181,177,175,157,157,175,173,175,175,175,175,178,167,167,186,170,174,182,182,168,168,179,179,179,177,182,182,176,176,175,171,171,160,160,164,180,180,180,180,172,175,175,175,175,175,175,180,175,165,158,158,158,158,175,171,170,182,182,154,165,165,188,177,175,175,175,175,175,192,183,183,175,175,185,173,168,178,178,178,178,170,197,197,178,178,192,175,170,175,175,175,178,190,167,167,187,175,175,175,175,173,175,175,168,181,175,179,167,200,171,163,163,163,163,163,163,167,169,169,170,170,170,170,177,160,168,168,157,165,165,165,165,170,175,176,168,175,178,167,168,183,170,159,159,159,190,190,181,173,185,183,183,183,183,160,170,192,174,174,174,162,162,162,162,162,183,190,164,175,175,175,175,182,175,175,175,175,193,178,162,162,162,162,203,203,175,175,175,175,192,180,180,175,160,179,164,180,204,200,200,183,181,181,181,181,185,175,175,175,175,188,188,175,175,175,173,173,187,187,186,186,171,175,160,160,175,187,193,175,167,175,183,164,175,187,175,157,170,170,186,186,186,186,186,166,175,175,175,175,175,178,175,187,175,164,164,187,187,187,187,175,174,174,164,185,185,171,184,187,187,181,181,163,163,163,175,175,177,177,175,170,170,178,186,186,188,196,175,160,160,164,172,172,182,182,179,175,194,172,161,162,162,196,188,198,198,198,198,198,198,198,172,172,172,172,172,175,155,192,175,175,185,185,188,175,190,190,191,175,177,185,192,174,174,186,171,171,182,175,175,165,174,174,175,194,175,175,175,175,175,175,176,175,202,180,175,163,180,175,180,177,177,177,177,170,183,183,175,168,175,167,167,167,167,166,180,180,155,186,175,176,170,170,188,175,175,172,172,172,194,182,182,195,195,195,160,175,175,175,175,175,173,170,170,172,189,176,173,173,173,173,173,173,173,175,155,155,155,175,178,175,175,175,186,175,190,206,206,175,175,183,183,175,160,183,167,175,186,186,186,186,171,171,171,175,175,175,175,175,182,193,198,198,198,198,198,198,198,198,198,198,175,193,193,188,188,175,175,191,175,175,173,175,175,175,173,175,183,172,172,175,175,175,175,172,172,180,182,175,175,172,172,175,170,170,183,188,172,165,165,175,175,175,159,164,164,164,175,175,175,175,175,175,175,175,185,175,175,163,169,160,183,170,186,175,176,175,175,199,175,160,170,175,179,165,165,165,165,165,165,165,189,184,175,172,171,171,171,171,172,175,179,179,179,180,168,175,175,175,170,170,184,184,176,176,184,183,183,183,184,184,180,180,176,186,175,169,186,155,167,175,184,170,162,170,174,175,178,173,173,173,177,179,170,160,193,179,191,173,173,175,166,155,175,175,175,175,175,175,200,200,170,182,182,184,184,158,158,181,181,181,181,181,181,175,175,175,175,163,163,175,187,182,183,175,175,178,188,184,184,184,175,175,188,188,175,175,172,183,176,179,176,175,173,175,175,185,185,175,175,173,183,183,183,183,183,183,183,175,175,175,175,182,182,182,178,178,193,193,183,175,175,175,175,175,175,175,175,175,175,175,200,170,170,170,166,198,175,175,185,178,175,175,196,176,175,180,180,180,175,175,196,181,175,175,200,175,175,174,175,175,175,175,184,199,199,199,175,175,178,175,175,175,175,175,175,200,186,171,176,185,189,175,180,173,173,173,177,166,166,174,181,181,175,173,191,174,200,180,183,183,196,196,178,182,182,188,188,163,172,172,172,172,175,175,175,175,197,157,180,180,175,175,185,185,187,175,188,188,180,175,175,175,180,183,178,190,180,175,175,177,171,188,179,173,175,188,188,176,185,183,182,182,182,174,168,168,164,168,175,182,182,182,182,178,169,175,183,160,175,189,185,185,185,175,175,178,169,188,188,198,175,183,175,173,173,178,180,178,168,162,162,162,162,178,178,178,186,185,175,175,207,201,165,174,175,179,165,175,175,175,180,173,190,171,189,165,183,175,182,182,175,175,175,175,172,175,175,185,185,182,182,167,178,183,183,183,183,183,183,183,164,183,183,178,175,156,183,175,175,174,174,165,182,175,174,175,175,176,175,180,173,173,176,176,176,175,170,152,152,168,175,175,175,175,170,186,172,172,175,175,175,175,175,175,179,170,175,171,185,185,185,175,172,183,183,183,175,180,180,182,172,187,175,175,168,168,192,177,177,177,177,178,178,174,175,182,188,188,175,175,175,175,165,165,165,175,175,190,175,175,175,175,180,180,178,179,181,160,160,182,165,193,183,183,170,183,167,162,183,183,175,188,188,165,170,176,190,203,175,175,191,169,169,180,165,178,142,142,142,174,178,160,160,175,170,170,160,160,150,159,159,159,178,173,178,175,188,175,175,175,175,175,182,173,173,175,175,178,182,182,182,183,183,183,183,168,168,191,173,191,175,175,175,175,175,175,187,179,180,180,180,180,175,175,188,175,175,175,190,180,180,180,180,178,178,178,185,175,198,198,175,175,175,175,180,180,180,180,180,176,180,180,152,180,184,187,175,163,163,163,163,163,183,183,183,183,175,187,190,187,178,178,165,160,180,178,178,175,175,175,175,175,175,175,186,180,180,180,175,157,185,185,185,185,185,183,183,183,183,175,166,178,175,175,175,175,173,185,162,162,172,176,199,175,175,175,175,167,167,175,179,182,182,170,193,194,175,176,178,174,175,195,183,179,175,175,175,175,183,183,175,175,173,175,170,188,201,201,175,175,175,178,175,175,175,175,175,175,175,175,175,183,170,175,182,180,175,181,181,169,169,199,199,164,180,175,175,163,163,178,175,183,183,183,183,175,175,160,175,175,180,170,170,188,188,188,188,188,188,177,177,183,183,183,194,175,175,171,171,175,187,187,187,200,174,163,176,176,176,172,168,168,181,181,183,186,186,183,183,183,183,183,183,185,183,188,170,170,175,188,170,175,168,197,168,170,175,155,155,155,168,175,167,170,159,159,159,159,168,198,198,175,175,185,182,173,173,170,170,170,170,170,175,168,185,175,175,175,187,189,189,170,170,188,175,190,175,175,175,175,174,174,185,183,183,182,182,175,175,175,175,175,172,185,185,175,171,183,175,175,175,175,186,186,186,186,173,176,176,176,175,162,175,175,163,203,175,168,175,163,170,178,177,180,180,180,170,186,186,196,175,175,168,175,184,195,167,182,162,175,175,175,167,175,184,175,175,142,175,175,175,175,175,175,175,175,175,172,175,175,170,182,182,185,178,172,172,170,152,152,163,163,163,175,165,175,188,179,175,165,165,163,185,185,180,210,175,176,175,175,167,167,159,159,175,185,180,193,198,198,175,178,191,175,175,203,182,175,180,175,175,198,170,175,188,175,175,175,180,175,150,185,185,163,165,160,160,177,175,196,182,182,186,186,186,186,179,179,179,179,178,177,177,178,160,168,190,190,190,190,190,194,188,185,185,175,165,161,175,175,163,170,170,170,170,174,174,174,175,175,184,191,191,191,191,173,183,175,168,175,175,175,185,175,162,162,180,174,174,175,175,175,175,179,173,180,163,162,179,175,181,178,178,178,186,186,164,164,184,184,178,178,178,194,175,180,187,186,174,203,175,183,182,193,172,172,180,183,186,183,175,165,172,175,195,180,180,180,180,175,175,185,175,182,180,186,175,175,175,185,168,173,175,178,178,175,175,175,158,185,180,175,175,183,183,183,170,200,170,170,170,202,202,187,187,175,175,170,178,173,183,156,171,160,158,160,171,170,156,156,182,182,182,183,175,157,170,178,175,173,188,196,196,183,183,174,177,175,167,167,183,183,176,178,170,157,173,186,186,191,180,180,175,189,185,185,172,180,170,185,156,188,152,175,175,175,191,191,175,175,211,181,176,175,175,175,176,176,176,176,188,188,188,188,192,177,177,178,170,185,185,175,175,175,165,175,175,163,188,175,179,175,192,180,180,180,178,173,175,175,175,175,183,183,183,175,175,175,175,197,197,198,182,175,175,175,170,180,187,175,176,170,170,173,175,175,175,178,197,192,192,167,169,160,166,175,175,172,172,172,175,175,182,182,182,182,184,186,167,167,179,169,170,177,185,175,175,183,175,170,175,175,175,175,184,175,167,167,179,172,172,172,172,185,173,186,171,192,175,175,175,175,175,175,178,178,178,157,162,160,182,181,181,175,175,178,165,165,165,165,182,178,178,178,178,175,175,191,175,168,180,167,161,175,175,192,192,182,182,182,182,169,175,175,175,175,181,175,175,175,175,175,175,175,178,196,196,196,196,196,196,175,175,175,175,175,175,180,175,185,154,185,185,185,185,185,185,192,192,192,175,175,175,175,163,163,163,177,183,175,175,175,197,175,183,175,184,169,169,175,179,179,175,175,175,208,196,178,175,183,175,178,178,178,178,182,167,167,167,167,185,183,181,193,193,175,175,197,197,175,174,174,174,174,173,175,185,185,180,174,185,185,185,175,185,168,168,180,183,175,165,178,178,178,180,175,156,170,175,180,175,178,178,175,175,164,164,164,175,193,191,175,187,190,177,193,193,170,191,191,185,181,181,181,181,181,181,175,175,179,184,184,182,182,175,175,183,185,185,178,180,180,175,163,178,178,194,175,190,174,175,175,178,180,191,175,175,179,175,175,156,168,168,168,188,184,184,186,184,174,186,175,175,175,175,175,175,175,183,183,175,175,183,183,174,174,186,175,155,155,190,190,189,170,179,171,171,175,192,192,192,182,172,179,183,183,171,156,164,164,203,165,183,183,196,157,157,174,174,174,175,175,175,175,190,175,175,175,171,172,193,193,182,182,175,169,168,191,168,179,175,188,193,193,193,195,195,182,176,163,183,183,175,185,185,185,178,184,195,192,178,172,169,175,175,185,211,200,200,174,178,170,170,165,165,165,175,175,180,183,168,170,198,175,175,175,192,170,170,172,172,172,172,185,185,185,185,185,185,185,177,177,175,175,163,162,186,171,181,175,188,180,177,177,175,175,168,170,182,180,182,175,198,188,164,168,195,160,160,170,180,170,170,170,168,181,181,172,172,174,170,171,163,164,170,167,150,157,157,166,166,171,188,178,178,170,162,162,175,175,175,175,175,174,201,201,164,175,170,200,185,178,172,177,177,194,174,175,182,182,173,173,175,185,185,190,172,175,175,175,175,180,176,173,170,186,170,170,164,175,183,183,183,183,196,175,152,165,190,190,175,175,175,190,175,178,178,178,175,175,172,175,175,175,175,175,175,175,160,178,178,175,175,185,172,160,175,175,175,194,175,175,165,165,176,176,176,176,176,192,177,177,184,184,184,180,178,175,180,180,175,178,178,175,175,175,175,175,191,152,152,175,175,175,175,170,170,165,175,175,175,175,175,175,175,175,195,175,175,195,188,175,180,195,198,163,163,175,175,180,175,196,175,181,181,175,173,155,162,172,175,175,184,182,197,178,173,175,181,181,181,181,181,180,176,180,175,178,183,183,182,180,181,181,175,175,175,173,173,170,175,175,170,170,175,175,178,196,175,170,174,174,175,175,175,177,163,175,175,175,175,175,175,196,175,183,175,180,160,175,175,175,175,154,154,180,175,190,164,175,175,175,169,175,167,176,173,157,182,168,166,166,166,175,175,175,175,176,170,170,170,195,170,185,175,170,183,176,175,175,172,181,185,208,185,185,185,175,166,174,188,175,176,183,193,180,184,177,175,163,180,180,175,161,172,157,157,166,166,166,166,177,163,176,176,176,176,176,162,197,157,157,168,172,172,162,166,174,185,185,175,177,177,181,181,181,181,181,181,173,176,176,162,183,177,173,198,165,165,170,175,184,184,184,174,174,185,175,186,175,175,166,166,166,166,174,188,188,181,181,181,172,165,166,174,171,180,174,164,176,179,179,177,196,181,176,179,180,188,188,175,170,184,184,184,175,175,175,188,162,162,174,202,168,164,164,157,180,184,184,184,159,175,174,191,176,170,167,167,167,187,168,183,185,211,167,202,175,176,183,183,188,170,184,184,184,184,145,188,168,198,175,175,175,175,178,174,174,175,193,161,165,165,203,173,173,186,186,175,175,170,175,173,181,182,172,183,179,175,165,170,169,169,175,165,155,155,182,182,152,193,172,184,180,190,150,170,191,150,150,155,170,172,164,154,154,154,175,175,178,178,178,155,175,187,175,181,167,185,190,170,170,170,178,178,175,175,175,173,174,155,178,178,170,186,173,175,183,171,150,167,164,175,172,200,175,165,191,191,177,177,177,177,177,177,166,166,180,168,181,180,175,158,158,168,175,165,165,165,174,174,174,169,164,174,174,185,174,174,183,193,158,175,173,175,175,176,176,176,176,173,165,175,175,175,175,175,175,174,169,172,164,164,145,150,163,183,186,168,185,185,170,170,164,194,194,189,170,170,176,158,192,176,179,175,155,175,188,188,180,190,175,168,168,178,175,175,175,194,184,188,188,188,169,159,172,183,160,173,176,173,187,177,171,175,175,182,175,198,180,180,180,200,185,179,189,175,175,165,165,153,165,168,168,190,175,159,180,162,164,164,164,164,185,192,192,173,173,173,175,190,190,192,192,167,192,175,175,175,184,178,175,175,176,185,173,182,175,184,183,183,183,175,175,175,196,196,196,196,175,206,172,172,175,199,173,173,190,170,175,178,170,175,185,167,167,179,175,175,168,175,193,180,185,185,185,178,175,175,155,173,175,175,194,182,180,170,170,170,175,175,175,188,172,190,175,185,179,185,175,198,173,173,175,193,175,175,187,160,188,190,190,190,190,190,190,190,178,175,189,189,175,174,170,170,188,175,176,176,176,198,198,204,179,179,185,185,200,175,175,184,184,195,174,196,174,174,165,165,184,185,194,197,178,178,188,170,173,170,171,171,170,175,183,180,180,181,181,203,203,203,173,180,193,193,175,190,175,173,175,175,193,186,173,184,165,175,175,188,175,180,195,182,182,158,157,164,164,175,171,173,173,174,170,170,173,175,155,183,190,163,167,181,171,171,171,175,178,160,160,180,192,185,180,168,178,178,174,195,175,175,181,192,172,182,182,190,175,183,174,175,177,175,175,175,175,185,175,190,185,185,185,175,182,175,175,175,187,178,175,175,175,175,172,172,175,177,175,175,175,183,187,187,156,156,156,156,156,156,156,186,186,190,178,179,179,175,182,175,175,175,157,186,180,187,188,187,187,186,182,182,182,167,175,175,175,175,175,175,183,162,193,207,175,183,162,184,175,175,186,186,159,174,185,169,183,160,178,175,175,182,182,168,190,185,196,196,196,175,178,188,175,190,193,193,193,190,190,184,175,175,175,162,186,192,187,187,187,177,173,175,203,183,182,188,175,175,175,203,203,175,175,175,194,175,187,208,181,181,181,181,186,186,186,175,175,190,175,173,175,188,165,157,157,165,175,186,175,175,175,175,175,168,167,175,197,186,186,175,175,185,185,165,190,176,176,175,183,183,175,175,175,175,175,176,178,175,175,175,174,184,161,155,155,170,170,175,160,169,163,163,163,163,163,171,177,178,175,153,173,185,185,163,174,168,172,169,164,175,168,175,168,165,185,183,180,162,175,190,165,165,162,175,178,168,173,186,164,167,190,165,174,189,162,162,162,208,208,177,177,177,177,177,177,177,177,177,200,175,180,160,174,175,164,187,176,175,175,174,192,163,163,163,163,180,186,186,175,165,176,176,173,182,182,186,184,181,158,176,175,174,199,186,175,175,175,175,180,180,167,140,172,172,168,168,175,168,164,164,205,201,174,178,190,153,175,182,175,175,175,175,175,175,186,164,164,164,160,183,175,187,187,170,170,170,170,170,190,189,175,175,159,167,165,180,180,183,165,175,175,170,180,180,175,170,180,175,190,175,175,175,175,175,193,193,183,183,183,183,183,174,175,175,179,178,178,175,175,175,175,175,191,191,175,172,172,175,175,175,175,181,176,188,168,168,175,175,175,175,175,170,170,175,175,175,175,175,184,175,175,175,175,175,175,164,188,180,175,175,178,175,180,170,194,194,194,175,189,175,184,175,188,188,175,175,194,194,182,175,162,162,162,175,175,182,178,175,175,175,175,175,175,176,175,178,186,177,177,175,191,191,175,175,180,191,162,190,186,186,176,176,170,170,179,193,175,175,175,180,178,175,175,183,175,180,180,180,180,177,170,153,153,185,168,168,168,178,205,175,177,183,183,183,183,183,175,175,190,190,160,182,145,145,145,145,170,175,162,188,188,175,163,163,163,191,175,175,191,191,158,165,175,175,175,175,165,175,179,188,195,177,170,170,175,175,191,191,209,188,168,181,181,187,187,187,203,203,178,173,165,175,184,184,184,179,179,175,191,171,171,175,175,175,178,203,173,175,172,175,195,195,195,195,179,203,175,180,175,171,175,180,180,178,156,156,175,173,161,183,185,180,177,177,177,177,177,177,177,177,177,183,172,175,175,178,167,180,183,175,175,180,189,175,180,180,168,193,175,175,162,169,180,175,170,167,198,159,159,173,173,173,173,173,175,178,178,165,175,175,175,181,183,175,184,184,191,191,178,175,181,181,175,175,165,186,176,192,211,198,198,183,183,175,176,176,192,190,190,178,178,175,174,175,175,184,175,180,173,173,159,159,162,162,162,162,198,180,162,160,175,175,175,175,175,175,195,195,182,175,179,188,202,196,194,178,194,194,197,183,183,183,183,191,186,178,178,178,178,178,178,167,175,175,175,187,175,169,188,183,183,183,175,170,175,175,175,167,175,175,165,180,185,190,190,200,178,175,175,188,175,175,177,177,164,164,175,183,184,175,178,184,184,175,175,170,166,167,206,169,177,182,175,175,175,175,175,175,169,180,175,182,163,168,168,175,168,168,168,168,195,179,176,167,185,185,168,175,190,175,175,175,175,194,184,175,180,188,174,176,175,175,175,186,176,176,175,175,181,181,164,164,173,184,185,164,175,175,175,175,188,184,182,170,184,164,175,175,175,188,181,161,179,191,170,175,180,180,184,175,175,175,175,175,175,158,175,170,175,170,175,175,175,175,185,175,163,175,180,179,175,172,156,156,159,159,184,169,169,169,169,176,176,176,166,177,177,192,175,175,176,175,175,163,159,184,173,155,175,175,175,175,170,170,169,166,190,160,175,175,175,202,170,172,159,183,164,164,164,175,172,172,193,170,170,170,162,162,162,162,162,164,185,184,200,169,178,190,185,175,175,175,175,184,175,175,182,186,174,164,179,177,170,150,184,178,188,188,171,171,179,178,178,178,188,187,175,180,180,180,180,205,193,180,180,171,172,172,175,168,168,188,175,180,185,171,166,169,175,162,171,163,162,174,186,162,160,160,180,180,180,174,174,176,185,184,196,196,182,167,167,178,197,184,176,176,177,177,177,177,168,177,178,178,190,190,190,181,160,173,190,190,190,167,197,188,190,180,176,175,202,194,194,194,172,198,198,195,168,183,183,175,184,153,183,175,175,170,200,173,175,203,168,164,161,165,188,175,175,175,162,178,193,193,193,193,185,175,175,166,187,160,181,178,178,183,183,186,186,175,175,183,175,175,176,176,176,181,174,175,175,181,174,175,185,183,183,178,175,196,175,190,190,192,192,173,203,203,167,167,167,167,175,175,179,179,179,179,179,179,173,198,175,188,164,201,201,201,178,163,180,175,158,175,184,184,175,170,170,175,178,180,164,175,166,176,176,176,165,166,175,174,176,176,176,173,173,173,173,200,200,200,190,180,180,180,170,160,166,175,168,168,168,175,182,177,184,185,170,175,180,180,180,180,186,180,169,169,183,165,165,175,178,175,189,175,174,185,177,190,170,172,165,180,163,162,162,163,163,163,163,163,163,163,163,163,163,163,163,164,164,158,186,166,180,180,175,175,171,184,174,175,175,175,175,190,172,175,160,183,183,175,211,170,176,178,178,163,181,186,186,173,177,174,182,182,187,155,164,160,173,175,175,175,181,159,171,161,163,157,175,171,175,182,182,186,183,156,156,175,217,217,160,168,158,162,162,162,186,177,176,190,174,175,175,175,175,168,168,170,158,166,187,177,175,196,175,167,175,175,172,175,166,186,169,176,176,175,175,186,175,175,175,173,173,173,173,196,175,185,185,175,174,174,175,164,168,192,192,175,175,175,175,175,175,175,175,175,175,170,170,170,170,175,175,175,182,182,182,178,188,183,183,175,183,169,190,198,198,198,198,198,170,175,183,180,175,175,161,199,193,183,176,182,175,170,171,171,182,182,182,164,185,187,187,187,170,162,193,150,167,167,167,180,169,172,172,172,175,175,185,175,175,175,175,175,193,175,186,180,180,180,160,184,175,175,175,168,168,168,175,175,186,185,180,175,185,185,161,161,161,161,161,161,161,161,161,174,175,178,175,175,175,175,188,175,175,175,193,188,175,180,178,178,178,178,178,178,178,180,178,172,175,173,178,172,183,183,175,175,175,152,180,180,164,190,180,171,171,180,180,175,184,176,183,175,162,162,182,182,182,167,175,157,157,187,175,175,174,157,155,155,155,155,168,177,177,200,188,165,183,183,180,193,178,178,190,168,168,168,172,193,173,178,170,188,188,186,175,180,180,180,175,175,185,185,163,173,173,175,175,175,174,182,156,196,196,196,174,175,175,178,179,179,179,175,175,168,168,170,170,178,187,175,175,160,167,167,167,173,173,173,172,172,172,172,182,171,163,163,163,162,163,183,182,186,175,170,160,177,163,174,170,170,165,182,182,165,165,175,196,185,168,168,185,185,196,185,185,185,185,185,175,168,162,162,166,176,176,176,175,165,165,165,165,165,165,165,183,180,173,171,171,180,175,163,174,175,170,173,178,180,180,179,172,172,175,175,162,206,182,205,205,185,195,195,178,178,175,178,170,178,180,164,164,164,164,190,182,167,167,167,167,157,191,191,194,194,175,174,193,193,187,173,173,165,176,176,183,175,182,190,175,175,187,164,176,179,179,179,179,175,175,175,183,185,178,172,180,186,186,175,175,185,186,179,175,175,157,157,167,178,178,175,173,173,177,168,168,175,170,178,178,178,175,175,178,168,178,174,187,175,173,173,175,177,172,175,180,174,174,163,180,180,184,184,184,172,172,175,170,186,172,172,172,180,171,187,165,167,165,165,196,177,164,164,175,175,186,175,178,158,166,168,186,188,173,173,158,158,160,180,180,184,172,172,160,172,178,178,170,170,175,175,165,164,175,163,170,170,175,166,170,175,165,175,165,165,181,175,174,179,167,164,175,175,171,170,170,170,152,152,152,152,152,152,160,169,175,180,173,174,175,175,172,164,165,165,167,177,161,172,183,165,165,165,165,165,165,167,176,182,181,174,174,162,165,174,162,158,169,180,187,180,202,177,160,170,171,170,175,165,165,185,174,160,160,166,172,205,173,167,175,185,174,185,185,163,185,172,167,175,165,165,190,190,190,184,184,170,190,175,185,175,175,175,175,175,201,175,175,175,175,162,180,175,175,170,181,161,185,185,182,182,186,175,175,175,173,173,175,174,182,182,175,175,175,193,193,183,172,172,172,170,157,167,167,167,175,175,182,182,185,190,185,172,182,178,178,184,185,175,175,167,175,178,178,157,175,190,190,190,169,175,180,173,175,184,170,183,183,183,183,208,208,208,190,190,170,190,190,178,178,178,178,178,175,175,180,208,174,161,181,181,170,170,175,175,175,175,167,175,175,175,188,175,175,178,178,178,183,182,176,163,163,177,180,175,177,177,183,183,183,183,183,183,176,176,176,176,176,176,176,155,182,182,182,175,160,194,179,166,177,159,178,178,167,199,175,174,174,174,172,178,188,184,198,198,198,175,175,175,190,175,175,187,180,164,178,178,178,178,178,178,178,175,175,161,168,175,175,175,175,175,175,172,172,186,175,172,172,182,175,175,172,172,157,157,157,157,157,162,175,175,171,171,171,171,175,178,178,180,182,172,189,175,180,180,180,180,180,170,170,182,175,184,181,181,171,183,175,175,170,182,175,175,182,195,173,173,173,173,173,173,170,190,184,171,187,196,180,172,187,178,172,174,174,169,185,185,185,185,164,175,172,170,170,174,179,175,175,173,182,211,167,188,188,188,180,190,199,175,175,175,175,190,176,176,176,178,175,175,192,190,174,186,190,171,176,176,174,177,170,175,191,191,191,191,191,191,185,185,177,169,169,169,169,169,172,172,172,184,184,184,184,184,184,184,184,181,181,189,165,165,165,168,175,165,175,175,176,175,182,174,195,195,182,182,182,182,182,163,183,180,180,194,182,183,189,175,187,166,169,169,178,170,190,186,191,170,175,175,174,163,185,192,175,185,170,170,187,175,175,167,164,181,173,173,173,170,175,179,180,178,178,175,191,178,177,183,175,205,205,205,172,183,181,181,176,177,183,175,160,183,180,180,175,170,168,168,175,166,178,188,176,176,183,183,183,182,182,167,173,178,195,175,175,183,175,185,167,175,175,175,175,164,165,165,173,174,174,174,174,174,174,182,175,153,164,190,168,168,180,183,192,172,189,183,175,177,177,175,180,181,181,186,181,178,190,183,179,175,171,171,186,166,160,147,168,181,181,157,157,182,175,197,173,175,170,173,167,167,175,185,165,170,180,170,179,180,180,180,169,169,175,170,180,184,179,190,162,188,175,178,171,171,171,162,162,185,178,175,175,184,184,189,189,179,179,179,179,175,183,175,175,176,168,183,183,183,175,167,180,176,180,180,185,171,171,172,172,181,176,186,186,182,170,176,176,170,170,170,179,194,194,194,175,185,162,162,162,162,162,162,162,162,162,193,193,175,175,171,168,168,168,168,168,190,171,175,157,147,175,174,175,168,178,169,177,176,185,175,175,175,174,178,184,173,173,182,182,182,182,182,182,174,176,182,167,175,180,180,180,180,192,192,180,180,169,156,178,158,196,182,175,180,198,182,169,200,172,172,169,169,173,179,172,150,150,178,175,175,180,175,213,176,156,168,186,186,186,176,168,168,173,181,198,175,175,175,158,155,167,167,175,175,170,170,167,175,179,162,167,167,167,167,175,175,175,175,167,167,167,180,175,168,168,183,183,175,182,182,182,183,183,183,183,183,183,172,172,179,179,179,195,175,189,164,183,182,175,185,173,175,167,161,164,181,175,173,175,179,179,178,210,178,186,186,186,186,166,187,194,181,181,192,175,177,182,193,175,175,175,175,187,152,152,152,152,152,152,166,175,170,176,175,175,187,174,170,170,167,175,175,172,196,196,196,195,178,170,185,185,181,181,179,165,176,175,174,200,190,198,198,175,175,175,154,168,168,168,182,181,177,193,160,176,176,175,175,172,175,175,175,175,175,175,175,175,162,186,181,185,184,162,160,183,183,185,196,174,175,183,185,185,168,168,168,168,175,203,203,175,175,177,171,187,169,174,163,176,170,154,167,167,159,179,175,185,185,172,172,172,186,184,184,184,167,167,172,172,190,181,183,183,189,189,189,189,189,178,165,180,180,175,180,180,164,164,164,164,180,190,182,182,182,182,175,175,175,175,175,175,180,173,160,160,160,184,178,169,171,171,171,185,185,185,183,175,181,192,190,172,192,158,161,156,185,164,164,171,176,176,185,175,160,160,182,182,184,180,182,182,187,187,183,178,186,176,178,193,176,175,175,175,197,197,193,175,175,175,178,178,200,162,162,162,176,175,170,170,175,184,184,183,163,181,173,173,173,173,173,173,173,173,179,179,179,179,179,179,179,168,182,182,178,164,175,204,188,178,177,177,190,216,216,185,192,170,170,177,177,177,175,182,175,183,183,175,175,175,181,168,182,168,168,201,182,169,169,173,173,173,173,173,182,180,180,180,180,185,176,176,180,181,168,168,168,168,168,168,179,187,173,175,175,186,190,190,166,166,178,180,180,175,192,192,192,182,182,177,177,198,198,180,179,179,177,188,188,180,170,178,155,155,155,155,181,181,169,184,175,175,184,168,183,183,183,183,177,177,173,173,186,168,186,175,156,156,156,156,163,186,175,166,175,175,185,185,185,185,185,185,185,175,194,197,191,190,190,176,160,190,171,175,158,165,171,186,183,165,165,178,192,176,173,175,178,180,180,180,175,175,164,172,188,175,175,175,159,186,186,186,186,177,177,177,168,166,176,191,196,196,172,185,185,185,185,175,188,178,178,192,174,174,181,185,187,187,187,187,175,175,175,193,168,168,172,173,170,175,185,195,175,179,175,178,175,175,188,175,185,165,165,175,190,168,168,175,175,175,180,180,175,180,178,175,190,153,192,193,175,175,175,175,186,175,180,179,175,175,185,184,187,187,180,189,168,172,180,180,180,175,175,157,195,174,193,175,187,187,175,175,175,172,170,174,174,180,180,180,180,170,170,171,175,179,183,183,183,161,192,189,179,179,179,179,175,197,175,203,159,174,175,183,203,173,178,174,183,166,182,190,180,171,171,166,171,179,175,175,180,218,218,218,191,187,176,176,200,200,165,175,175,175,175,156,160,186,168,194,189,189,189,189,184,175,171,140,169,190,150,184,184,164,164,175,188,170,170,196,196,192,172,165,173,173,181,181,172,180,192,193,186,170,164,164,196,175,175,175,175,188,193,181,181,175,175,175,156,180,180,158,158,158,158,189,190,183,195,195,195,184,156,171,175,175,175,170,168,168,175,175,196,196,175,170,170,170,170,190,175,175,173,183,175,175,183,175,198,193,184,176,190,162,184,184,175,175,175,186,188,174,174,183,183,183,168,176,176,176,207,207,172,174,190,187,160,160,160,160,160,160,160,160,175,178,184,184,184,188,188,188,188,188,188,196,196,167,167,163,206,206,206,186,175,188,188,187,179,190,190,190,180,180,175,175,175,175,190,176,197,191,175,162,162,171,175,175,175,170,174,166,166,170,186,186,175,175,175,186,172,184,178,170,192,172,194,172,183,175,175,200,166,166,179,172,188,168,168,168,168,168,168,175,157,166,184,208,180,154,154,175,174,175,196,170,162,174,176,179,179,178,178,164,164,182,169,165,165,165,168,213,213,185,185,178,178,184,175,180,177,187,170,184,175,168,168,178,195,195,195,175,175,175,175,175,185,165,169,175,160,182,182,175,176,178,202,202,196,196,196,196,196,152,175,167,171,171,193,193,175,172,172,187,187,175,160,190,193,193,193,178,173,186,172,174,196,176,176,172,175,175,195,165,184,184,184,198,198,180,180,180,178,178,175,198,160,175,175,175,174,170,180,179,170,178,185,185,192,192,180,177,180,170,168,143,163,160,170,179,179,179,175,176,195,177,188,183,170,170,157,157,165,179,179,175,158,158,158,182,173,173,194,178,175,165,175,175,165,185,175,182,167,175,192,173,189,180,159,159,175,173,160,180,175,175,175,175,178,185,185,175,175,175,175,175,183,178,167,167,193,175,175,175,175,190,175,175,182,196,196,177,175,177,170,179,183,175,175,175,176,187,187,171,211,175,162,175,185,186,175,208,173,173,150,175,175,175,175,177,185,175,175,188,188,172,172,172,176,172,157,160,171,171,182,184,161,187,180,168,175,174,175,164,175,175,175,178,189,177,177,177,177,177,180,172,170,175,165,165,175,175,178,174,158,165,170,170,170,175,167,188,188,175,175,175,170,170,170,188,175,174,190,178,175,175,172,178,178,176,175,173,174,184,184,184,184,184,168,168,168,168,183,198,195,195,185,175,173,183,178,189,175,175,175,175,175,175,175,175,162,175,182,175,188,188,188,175,185,178,174,201,175,188,175,174,175,163,175,183,185,175,188,188,188,190,190,190,182,175,175,175,175,175,175,175,170,175,175,175,175,177,175,175,188,198,173,191,185,184,189,189,189,153,160,188,188,188,188,188,165,182,178,184,184,184,189,189,189,175,164,188,188,188,188,185,167,175,175,175,178,178,178,167,180,194,194,194,188,188,175,178,162,165,177,175,175,175,178,175,174,175,198,180,153,153,167,175,175,175,175,181,189,183,176,185,175,188,175,175,175,175,166,166,170,189,192,192,175,168,168,190,175,175,183,193,185,176,176,176,158,174,187,187,175,175,175,180,170,175,186,186,175,168,173,175,175,175,171,176,182,182,182,182,175,183,175,175,175,175,198,175,182,175,175,175,188,175,175,175,175,175,180,175,175,175,175,175,175,175,175,184,184,175,183,190,185,185,175,188,188,175,173,173,175,175,176,175,163,163,175,175,186,186,178,178,195,175,175,153,184,175,175,178,178,180,175,175,166,142,198,180,172,163,163,163,170,202,175,178,175,175,165,161,171,190,175,183,183,183,198,169,175,175,175,174,174,174,175,175,175,167,175,161,161,161,161,161,161,161,161,161,161,161,161,161,161,161,161,161,161,173,173,175,175,175,176,175,175,175,175,168,175,160,160,186,175,175,172,175,175,175,166,166,184,184,176,180,180,180,180,180,175,172,175,175,175,163,178,178,175,175,166,175,180,175,181,193,190,190,190,175,175,162,178,178,175,173,177,177,175,171,171,180,164,181,180,192,197,197,197,197,182,175,175,170,175,159,183,183,183,183,172,160,152,175,175,171,163,175,176,190,170,163,163,163,175,175,175,166,186,175,167,167,167,175,188,173,168,188,162,162,162,162,170,168,168,183,188,175,175,200,192,192,192,192,178,161,167,167,167,167,167,167,167,184,192,197,175,180,180,165,178,178,178,178,163,188,175,175,198,190,190,190,190,186,163,174,182,165,175,175,175,175,175,170,170,170,175,171,150,164,173,175,175,175,175,175,175,175,175,175,185,182,175,175,175,175,175,168,168,180,185,184,178,178,178,171,170,170,170,170,170,183,177,170,170,175,169,180,188,175,170,170,168,175,162,193,190,175,159,175,180,175,175,175,175,175,175,185,175,188,183,183,183,183,183,183,171,184,184,184,184,184,184,184,171,171,172,175,174,174,162,199,168,168,167,185,178,172,172,170,170,170,192,183,183,203,203,182,182,154,178,175,175,167,164,176,169,163,168,160,160,177,172,168,168,168,168,168,175,175,170,173,181,181,169,178,164,165,173,173,173,175,185,176,163,163,171,171,181,170,175,175,174,175,175,175,175,172,172,186,165,165,181,170,164,164,164,184,184,175,178,178,178,183,183,174,168,170,167,164,182,190,173,165,179,179,179,179,179,179,179,172,169,180,180,175,176,171,178,178,175,175,180,180,170,185,175,175,175,167,167,185,185,178,178,176,175,190,175,174,174,174,179,190,180,180,177,177,170,175,175,185,185,185,185,179,183,188,188,188,188,169,172,184,175,175,175,175,163,179,183,183,183,187,183,164,183,183,183,183,174,174,168,160,184,184,178,193,166,165,165,166,193,174,175,187,179,179,178,174,174,174,174,193,173,175,175,175,185,176,188,175,189,189,189,173,182,188,180,175,169,175,190,190,179,179,183,178,175,175,192,210,190,190,190,190,190,190,190,176,175,175,175,168,164,167,159,168,168,179,175,175,175,182,182,175,168,168,168,177,167,167,167,167,167,167,167,165,165,175,173,180,163,175,175,175,173,178,163,190,193,168,175,175,175,175,164,175,175,170,176,168,170,170,175,175,175,170,175,186,186,175,182,175,175,175,175,163,175,175,175,182,170,175,175,175,175,175,165,165,165,171,175,175,175,175,176,175,196,196,196,196,185,168,176,175,170,170,175,175,172,187,170,185,183,174,165,181,167,175,191,175,173,173,175,175,175,175,162,162,162,181,180,180,179,175,175,202,202,202,202,173,175,184,176,183,183,185,175,175,182,182,182,167,190,190,168,168,175,175,175,172,193,170,188,188,188,188,188,188,188,188,188,188,188,195,176,176,170,175,171,171,194,185,180,180,173,186,175,188,188,188,188,191,183,175,168,178,170,170,170,193,193,193,193,193,193,193,193,176,175,175,158,158,166,170,163,155,158,172,162,192,158,158,153,168,181,166,160,176,161,168,168,168,180,170,170,174,174,174,174,174,160,170,167,167,167,164,176,164,164,187,164,173,166,176,162,162,177,177,160,160,164,164,164,164,164,164,180,160,152,152,185,145,161,165,180,157,172,167,162,162,162,162,162,172,176,157,157,157,157,157,157,174,174,174,174,175,164,175,161,178,175,179,179,173,175,173,154,188,193,167,161,156,175,175,171,177,168,180,168,181,181,175,175,175,175,175,175,175,175,175,175,179,179,175,175,175,175,177,178,186,186,182,167,191,175,173,173,172,188,175,175,175,175,190,175,180,175,171,175,189,175,195,183,188,172,180,180,177,177,177,177,190,173,173,173,173,173,173,175,169,185,179,164,164,164,176,168,175,186,175,187,192,181,177,175,175,175,175,175,175,175,160,160,160,175,175,168,181,180,176,163,177,177,175,171,168,168,168,168,167,175,168,160,163,161,163,163,185,185,185,175,183,183,190,190,176,176,183,183,175,175,181,172,168,163,163,179,175,165,187,177,177,179,175,175,179,179,175,175,175,165,165,174,185,186,175,175,166,175,175,175,177,175,175,175,175,175,175,190,167,159,192,192,192,175,175,180,175,175,170,175,182,187,175,175,175,175,180,175,174,165,171,175,175,169,175,175,193,193,188,175,185,183,175,175,175,180,186,172,175,173,179,180,150,179,184,184,184,177,177,177,162,165,165,165,165,178,178,199,175,175,195,195,172,182,182,182,183,184,176,178,178,178,178,178,175,175,175,175,175,175,170,175,178,187,178,169,164,164,147,158,175,175,178,178,194,175,175,175,175,175,177,182,200,200,180,185,184,183,160,188,169,202,169,169,169,169,169,171,165,168,168,188,164,162,178,175,175,175,175,183,189,180,180,174,185,168,160,160,168,168,168,168,160,157,179,177,170,172,179,168,168,168,190,190,160,162,162,162,178,188,201,188,153,153,166,172,186,186,162,165,165,175,159,175,181,160,160,160,160,160,191,183,165,177,177,175,175,175,175,188,191,174,174,174,175,168,180,180,180,180,193,175,159,189,189,170,178,178,178,185,185,177,177,178,180,180,180,180,175,175,190,167,188,188,170,170,170,180,175,200,175,173,172,172,192,192,177,179,189,189,189,175,178,162,165,190,180,178,178,141,141,141,195,193,193,193,179,178,178,172,190,190,190,172,184,188,188,188,188,188,188,188,188,188,188,188,188,175,175,191,191,175,196,180,203,197,175,176,175,175,175,179,188,175,183,183,180,175,187,175,178,188,188,188,175,178,175,175,175,175,175,175,170,175,170,176,174,174,174,183,175,175,175,184,184,198,180,180,170,170,182,170,170,178,167,167,200,200,165,175,178,175,190,182,180,183,178,175,195,200,175,183,183,175,193,193,184,194,182,150,150,170,164,164,164,164,175,175,157,157,175,178,182,178,190,190,190,187,188,175,165,165,195,196,175,175,175,188,205,167,167,163,178,178,178,169,174,168,180,194,178,175,168,171,170,175,183,168,189,198,198,198,180,180,184,186,191,191,191,177,188,170,194,175,175,175,175,171,171,175,175,180,180,180,180,170,169,175,172,175,175,180,162,181,179,175,191,191,191,199,170,188,169,174,184,175,175,175,175,169,158,158,158,158,158,179,175,175,175,175,175,175,175,175,175,175,175,173,190,190,175,189,170,208,180,167,167,190,175,170,205,169,175,186,191,191,166,158,158,175,185,185,175,188,175,170,178,183,183,172,193,167,185,174,175,185,183,172,175,175,188,184,196,196,196,150,150,195,189,173,173,190,188,165,170,170,175,175,136,136,174,174,172,172,160,175,157,175,174,182,180,170,183,178,175,171,187,200,181,185,192,195,195,175,179,173,168,203,175,194,198,175,175,175,175,186,160,160,175,179,179,179,179,179,191,175,193,193,199,180,185,175,194,196,175,175,175,168,168,181,178,182,182,175,184,184,176,196,190,175,180,180,175,184,176,176,176,182,175,196,178,170,178,170,171,176,171,180,180,178,175,180,193,181,187,190,160,160,160,160,185,185,175,185,171,168,169,169,177,175,175,176,176,175,181,181,181,181,175,172,175,175,181,175,175,175,175,175,176,176,175,181,181,181,175,175,175,175,175,183,184,175,175,175,175,175,190,188,188,175,187,185,185,178,175,175,175,180,175,175,175,180,175,175,179,175,181,160,175,180,166,166,170,167,165,190,190,162,170,183,177,184,167,183,183,186,182,175,190,190,180,180,180,182,182,176,185,185,179,172,175,176,175,175,175,186,186,174,185,185,185,175,174,185,162,186,203,181,195,144,183,172,185,185,175,175,160,196,178,175,175,202,175,162,175,175,178,158,173,191,175,183,175,175,173,175,188,175,175,164,180,175,175,175,175,185,188,188,179,156,156,156,156,162,162,162,162,173,167,176,176,176,175,175,175,167,171,157,157,174,176,189,175,178,178,169,173,173,173,175,195,175,187,169,169,195,175,175,175,163,175,175,196,190,182,175,165,175,175,160,185,175,157,165,160,180,179,179,179,179,179,175,175,190,182,183,175,172,172,178,178,178,177,175,175,175,171,188,173,175,175,175,175,175,175,175,175,175,175,175,168,168,187,175,175,182,175,175,161,175,175,178,179,188,188,175,175,175,175,175,175,175,175,172,174,158,158,163,163,172,172,168,178,165,165,175,175,176,163,171,205,175,191,191,175,172,168,168,168,168,175,183,177,165,185,175,175,175,175,168,168,168,175,180,181,187,175,175,180,183,175,175,175,175,175,175,177,175,175,185,175,171,168,182,175,175,175,195,160,160,160,175,175,172,187,178,178,178,178,174,186,175,165,182,175,190,190,190,173,180,180,180,180,175,185,188,175,185,185,198,198,198,160,175,186,175,175,168,178,159,169,165,165,165,185,186,196,183,186,167,178,195,182,175,189,170,175,175,174,184,180,190,191,191,191,175,175,176,175,175,198,192,192,192,192,183,183,180,180,180,180,163,175,189,170,173,175,175,175,175,176,187,163,175,168,168,175,170,163,183,183,184,176,198,204,204,173,175,165,191,172,171,180,175,175,184,180,178,192,192,170,170,170,174,176,174,174,188,181,181,170,169,197,178,178,178,170,170,170,196,196,196,196,189,200,175,170,170,168,155,155,179,181,168,190,190,186,170,168,161,171,175,170,174,177,168,168,193,193,170,198,198,168,168,173,158,175,173,175,175,185,170,168,168,184,179,178,196,165,165,165,162,182,182,180,175,175,186,186,172,163,196,196,186,180,180,175,161,175,175,175,175,175,197,175,175,175,175,175,175,175,175,168,168,205,205,176,193,158,152,178,178,165,175,175,175,162,179,184,182,182,186,155,183,183,177,163,170,160,175,153,186,199,199,199,180,180,180,191,175,175,175,175,168,168,168,168,165,181,190,202,202,180,175,182,175,175,175,175,175,179,175,179,161,180,173,175,171,175,175,175,175,175,175,175,175,175,175,175,175,175,175,175,175,175,175,175,170,171,165,165,175,185,162,162,162,162,162,162,181,179,179,179,179,155,165,165,152,185,193,172,172,186,171,185,175,189,189,189,208,189,189,189,175,190,175,175,162,175,182,182,182,190,179,179,179,180,175,185,182,182,159,169,175,175,174,175,175,189,189,180,175,175,171,195,170,170,170,170,170,170,170,166,178,178,178,178,166,175,174,174,174,178,165,183,185,151,184,175,165,180,180,175,175,175,191,162,191,187,175,183,175,175,175,185,173,173,150,175,175,175,175,160,170,175,182,197,169,169,172,185,192,188,193,193,193,190,190,175,211,175,175,190,177,195,175,186,170,170,192,186,165,165,165,173,176,176,189,189,178,173,198,159,159,159,162,162,175,172,171,188,175,160,179,169,193,169,175,175,175,172,177,177,185,175,180,180,180,180,146,175,175,175,187,175,175,178,178,152,173,170,175,175,175,200,172,175,183,183,175,167,167,184,183,183,175,170,178,178,181,181,181,185,169,166,174,185,199,178,178,178,188,167,192,177,195,188,188,190,158,204,160,160,170,170,170,181,180,180,170,170,183,183,175,163,175,196,171,182,162,185,185,166,185,182,175,185,186,176,175,175,178,178,178,175,175,175,165,183,175,175,180,182,172,181,175,175,185,180,162,162,175,186,180,191,175,173,175,175,175,176,176,175,170,170,170,170,170,175,175,173,173,178,178,174,172,190,189,189,179,204,175,173,175,175,185,185,170,175,175,175,175,175,175,175,175,175,175,175,175,158,175,167,178,182,182,186,175,175,175,175,166,166,168,175,173,173,175,175,175,174,177,177,183,183,175,180,170,170,170,191,177,177,164,175,173,173,167,176,187,187,183,181,185,185,175,188,178,164,164,167,165,175,165,165,165,165,165,165,175,175,158,169,169,176,175,175,182,182,182,175,172,172,181,175,175,172,176,169,168,173,173,173,166,189,160,162,175,173,173,185,191,180,187,167,167,167,167,167,167,167,175,187,175,176,176,176,181,175,171,171,175,175,178,189,184,205,182,175,195,168,171,175,176,176,166,175,175,195,176,171,175,180,170,175,175,170,165,186,186,186,173,170,178,188,175,188,188,192,186,175,175,175,175,182,182,170,170,170,170,170,193,175,175,175,175,165,168,168,175,178,202,202,202,175,169,175,175,175,175,196,170,187,179,177,187,183,178,153,153,175,196,170,170,171,171,190,190,184,175,175,175,175,178,178,178,175,175,177,180,180,161,174,174,174,174,168,196,176,175,193,194,194,158,158,165,175,175,188,188,200,200,159,169,184,184,184,184,170,163,163,166,168,173,173,170,158,158,163,182,164,160,182,174,192,190,175,181,168,165,178,178,173,189,189,189,189,189,189,189,189,177,185,165,175,175,188,187,187,175,177,177,175,181,183,182,182,165,169,164,177,186,192,183,178,175,171,176,176,180,170,175,175,154,154,154,172,175,175,175,180,191,175,171,175,184,184,159,182,175,170,179,179,179,177,168,175,196,175,180,181,181,200,193,192,175,175,175,185,185,175,188,155,155,175,175,180,180,183,175,183,183,175,186,179,185,185,185,185,178,176,188,170,170,183,175,176,176,176,172,190,181,178,190,162,175,190,190,190,190,185,172,172,172,172,175,156,175,175,183,183,185,180,172,172,175,175,173,175,183,183,183,193,193,175,170,170,170,170,172,185,172,172,173,169,188,175,177,177,177,177,183,183,177,168,205,203,178,198,175,165,175,175,182,162,181,185,175,175,175,179,175,188,188,188,178,175,177,177,167,175,170,183,170,177,162,162,190,154,167,167,175,175,175,162,162,165,162,162,162,162,171,171,183,185,185,170,178,175,175,181,181,175,178,165,183,175,168,162,170,176,178,178,176,176,175,178,178,169,169,169,175,152,175,195,175,174,183,183,190,190,190,175,175,175,167,185,176,202,163,183,185,185,175,183,162,175,167,183,183,178,172,178,167,191,182,182,182,182,182,190,188,180,170,170,180,177,177,183,175,188,175,182,182,182,185,165,185,185,173,173,173,172,179,175,177,185,178,167,173,190,178,175,175,175,175,175,183,183,183,192,192,192,192,175,179,179,177,177,173,173,173,173,185,185,185,185,186,186,175,175,175,190,175,175,196,180,180,180,180,178,193,193,170,160,175,175,175,186,186,184,184,184,170,170,170,175,175,175,185,175,173,175,181,175,175,175,175,193,173,180,198,198,182,170,192,175,198,175,175,167,167,174,180,180,175,175,175,178,170,167,175,175,183,170,180,212,175,180,178,175,175,175,175,192,148,148,148,173,193,175,177,183,175,170,175,173,173,181,181,174,172,193,193,175,175,190,183,175,160,190,173,173,183,183,183,185,168,172,172,172,172,172,160,152,165,165,165,165,165,165,172,190,190,167,185,175,172,186,175,175,175,175,169,176,175,160,190,190,190,204,158,158,173,173,173,173,175,178,183,162,179,178,207,184,164,164,192,180,176,176,176,178,182,184,175,175,170,160,160,175,188,176,181,181,172,170,177,175,194,175,170,170,170,194,176,173,181,183,187,174,176,179,187,187,187,175,165,165,165,186,175,175,190,190,190,175,185,161,161,176,172,189,196,166,177,183,183,168,171,168,175,177,170,185,186,172,183,175,165,175,170,170,199,175,183,192,192,192,175,167,174,174,175,184,198,151,170,167,175,173,175,175,186,188,160,166,180,178,184,175,174,176,175,173,173,192,175,204,175,180,180,180,175,175,154,185,185,175,173,175,175,173,173,163,163,163,163,163,182,171,175,175,195,186,183,180,180,180,175,194,175,200,183,170,170,178,175,180,197,197,181,162,175,175,175,163,175,170,185,175,175,175,190,190,191,170,170,175,175,175,175,175,180,175,171,169,187,187,186,180,175,188,188,160,156,156,175,175,175,175,175,191,163,185,173,175,175,170,188,191,191,191,191,173,166,180,193,165,165,175,175,175,175,175,167,172,172,182,182,167,186,164,188,180,180,175,173,169,175,175,166,175,176,176,175,203,203,180,176,176,175,175,175,181,181,181,175,175,172,188,183,180,180,180,180,175,190,194,166,166,184,184,184,184,180,175,184,184,184,180,180,175,176,180,180,168,179,183,166,175,180,180,180,175,175,173,175,185,170,170,170,158,175,175,175,175,160,183,183,175,185,173,175,175,175,175,175,175,175,170,170,175,163,179,188,188,166,195,190,172,175,168,175,175,163,163,175,193,185,168,165,175,162,175,167,179,175,175,175,175,185,160,175,175,175,153,153,175,175,175,175,175,185,191,183,183,177,177,181,175,175,175,175,175,188,175,175,175,184,173,188,185,179,197,197,197,197,197,183,165,176,175,175,175,175,175,175,175,175,181,194,187,180,180,173,168,175,190,175,175,178,186,183,183,171,165,179,178,182,175,195,183,185,175,175,175,164,202,202,187,175,176,176,176,163,179,175,166,175,175,170,175,180,172,170,170,170,175,182,175,170,170,191,175,195,195,155,155,183,175,180,187,195,174,175,163,175,170,170,170,178,185,176,165,165,170,189,157,206,175,172,176,185,204,175,187,190,172,172,179,179,179,188,188,188,188,188,188,175,190,168,180,180,180,175,180,175,163,190,183,183,180,180,157,200,175,188,193,193,147,147,147,147,147,147,147,185,165,173,175,175,175,175,175,175,180,175,175,175,175,175,157,157,180,188,152,193,193,193,170,185,175,175,175,186,186,188,183,175,175,175,175,175,175,190,170,158,178,178,175,185,185,185,175,170,170,170,170,175,159,175,175,175,175,196,196,196,168,186,180,174,156,156,148,181,172,175,190,180,175,166,183,183,175,185,180,179,178,185,175,175,175,173,173,167,167,178,175,178,161,178,174,152,187,196,190,190,188,188,193,142,193,164,208,189,175,155,183,175,177,176,175,173,173,173,173,169,190,190,187,178,175,163,163,159,159,166,166,166,166,166,166,183,183,183,185,175,175,186,174,187,175,175,175,183,175,175,175,175,180,175,175,173,173,185,162,162,168,183,185,178,164,175,175,170,194,170,175,175,175,168,201,195,195,168,168,161,161,184,177,168,168,159,159,159,158,193,165,165,165,183,178,178,155,155,177,145,145,178,154,154,154,156,157,172,170,176,172,170,182,179,179,188,190,160,178,182,182,162,172,172,172,153,175,154,190,180,180,175,175,169,196,174,140,175,177,177,189,189,189,189,185,185,185,175,180,170,170,175,139,187,175,175,175,170,190,174,174,193,170,175,175,175,185,175,178,178,165,175,175,167,167,167,167,167,175,175,175,175,171,185,201,188,180,175,174,175,175,175,175,175,160,170,170,175,173,175,175,181,175,182,175,168,168,168,175,195,195,170,173,173,175,185,185,190,185,178,169,173,192,159,183,178,182,181,181,176,175,175,175,180,175,198,175,190,175,188,189,175,175,168,172,183,170,185,185,185,185,175,193,193,193,175,175,175,193,193,184,182,188,180,192,196,193,193,178,178,172,172,178,178,175,178,175,186,189,180,175,175,175,175,178,178,178,180,175,155,175,175,188,187,175,175,184,184,184,184,176,181,181,181,181,181,182,182,161,180,167,175,190,184,175,175,175,175,175,191,191,191,191,175,178,178,183,175,172,172,172,172,172,172,172,167,186,164,165,165,189,202,188,167,166,182,182,163,181,175,165,175,175,157,185,185,175,185,175,175,175,175,175,173,183,183,175,167,175,182,175,149,187,175,170,165,184,175,183,174,181,188,188,188,188,188,167,165,168,170,172,172,182,181,181,181,175,182,175,186,175,187,170,175,175,175,175,175,175,175,175,175,175,188,172,160,160,160,175,188,193,193,177,181,181,181,181,181,175,175,180,143,175,175,174,165,185,175,175,183,175,173,175,191,184,175,172,175,180,180,188,167,167,172,176,184,184,184,184,185,172,175,175,179,167,175,176,175,178,175,183,165,165,170,170,170,194,194,171,169,169,187,172,176,175,186,175,175,186,163,175,185,184,180,182,182,182,188,188,175,175,180,175,171,180,178,188,178,172,172,188,175,175,178,173,175,180,175,175,183,183,183,183,164,164,175,186,186,186,180,193,169,169,169,175,175,186,186,175,195,195,175,175,190,182,182,180,190,178,175,175,172,175,166,171,181,177,180,185,181,165,175,175,170,170,170,180,180,186,186,186,191,198,180,173,173,170,181,170,170,165,164,178,178,175,184,168,164,157,157,175,181,181,181,167,163,163,178,175,173,173,188,176,185,175,175,191,175,175,175,174,167,167,175,169,206,180,175,175,175,175,188,175,172,178,165,181,182,178,196,172,153,178,178,216,197,175,175,175,175,175,180,168,168,168,168,183,182,196,176,179,189,188,188,186,186,175,175,175,175,175,166,200,180,175,175,183,183,183,175,181,187,173,170,191,191,169,175,173,186,185,183,183,183,201,175,190,190,158,171,175,175,160,171,175,175,175,177,177,175,170,184,184,185,182,183,175,175,184,162,175,162,168,175,178,189,180,175,164,185,180,175,165,176,175,175,170,175,179,187,208,161,187,173,185,185,175,184,184,180,180,168,165,169,187,175,190,190,173,173,173,175,175,189,200,200,170,189,192,202,191,176,175,175,168,168,178,178,172,178,178,175,173,192,175,185,188,162,183,181,178,175,175,173,177,195,175,175,189,189,189,162,162,162,179,171,182,171,177,174,175,182,175,175,175,175,175,180,180,180,160,160,160,160,160,160,160,160,175,178,178,165,174,174,177,175,163,195,190,190,187,187,184,180,175,175,177,175,175,196,196,188,190,190,191,191,191,198,175,190,190,190,175,195,195,180,175,174,175,170,170,172,185,175,181,178,178,181,175,219,179,179,183,183,183,183,183,183,183,192,200,176,183,183,183,181,168,160,162,162,162,162,162,162,162,162,162,174,183,183,174,166,166,166,166,175,185,186,186,170,178,175,168,187,187,197,171,150,150,150,165,165,160,189,168,168,175,176,175,175,188,188,188,168,175,185,185,185,175,162,162,162,162,167,189,186,185,180,178,183,183,183,183,183,183,175,175,175,176,178,175,175,186,177,168,175,189,178,182,205,205,170,170,177,177,180,175,186,186,175,175,198,198,198,198,198,168,193,176,194,194,193,185,185,170,183,183,183,183,188,188,188,188,188,188,165,165,165,172,172,193,175,175,175,168,181,175,172,175,170,182,175,170,175,203,166,175,186,186,175,178,175,175,175,175,173,168,168,158,158,177,180,180,170,170,175,175,185,185,188,188,178,178,145,184,162,162,175,165,165,175,165,167,159,178,175,175,178,170,170,163,157,157,180,166,166,172,185,158,165,163,162,198,165,158,165,168,163,163,163,163,163,163,163,163,163,163,184,204,204,179,163,196,165,165,165,175,155,155,175,175,175,185,185,171,165,170,170,157,180,173,184,189,189,189,181,175,172,199,174,182,182,195,195,195,195,175,193,193,193,193,170,182,170,170,186,175,150,150,150,175,177,191,186,184,163,168,169,169,175,175,175,175,175,175,175,175,170,175,186,186,182,182,165,175,178,175,175,193,193,193,169,184,180,170,170,165,175,178,168,175,172,177,174,187,170,168,168,168,168,168,168,162,162,162,170,176,176,176,176,176,176,175,165,160,160,185,192,195,177,198,196,178,178,173,159,163,175,180,180,180,175,183,183,183,183,183,183,182,182,182,175,175,174,186,186,191,192,175,177,196,164,194,189,198,181,193,175,175,183,183,183,183,167,185,175,175,173,173,173,193,180,180,175,172,199,176,176,176,176,179,179,179,168,192,192,183,183,183,168,163,170,175,178,178,178,180,177,175,175,177,168,183,188,187,173,175,185,185,175,181,181,177,184,184,185,185,193,172,167,167,167,176,154,154,175,174,174,174,174,174,174,174,174,174,174,174,174,180,176,175,175,175,175,173,175,179,179,174,167,167,167,167,178,182,182,182,175,171,171,165,181,181,176,206,191,174,174,180,180,174,174,173,191,177,177,158,175,172,170,169,186,175,175,166,166,170,175,175,178,175,175,175,175,175,175,175,180,175,175,158,158,172,172,174,166,166,166,176,188,186,186,193,173,171,177,165,180,212,182,175,158,175,193,193,170,174,174,175,175,174,174,174,191,175,175,175,160,160,160,172,175,181,181,181,175,175,175,170,174,174,186,182,172,178,175,165,165,175,168,176,182,182,176,168,169,175,175,190,175,175,175,177,152,182,182,182,180,175,175,175,175,175,186,175,175,203,175,180,180,175,152,183,183,175,175,190,190,185,185,174,174,168,180,168,191,175,175,175,175,175,175,168,190,191,175,175,175,184,175,186,178,175,175,175,175,175,188,175,197,168,168,175,192,184,175,175,175,175,175,175,175,175,175,172,165,175,170,170,170,170,170,170,170,170,174,175,184,182,174,170,183,185,185,172,179,179,179,175,175,182,160,180,190,185,172,172,175,175,175,172,175,177,175,175,180,187,179,185,182,175,175,176,193,197,197,197,175,174,174,175,172,165,172,169,182,173,173,185,185,185,185,201,201,159,159,175,175,175,175,190,175,190,164,164,194,187,179,175,175,175,175,182,182,175,182,157,182,182,170,183,183,171,172,191,173,180,180,172,172,180,170,168,168,168,175,185,175,181,175,197,176,175,175,193,175,175,175,175,190,190,180,175,175,175,181,175,180,175,174,175,175,186,186,186,186,184,190,178,160,160,172,175,180,175,169,175,176,176,178,163,163,178,190,185,173,183,178,167,165,165,184,187,172,172,175,182,182,149,172,180,180,164,171,162,175,180,175,157,176,180,180,172,176,166,174,174,174,170,185,159,185,177,177,158,175,173,175,168,195,170,170,201,201,175,175,175,185,185,185,185,185,175,175,175,175,167,172,150,186,187,174,175,185,175,175,175,174,164,164,164,163,170,165,179,180,175,184,187,191,174,174,175,175,185,175,176,175,175,175,175,180,169,169,198,176,169,175,175,179,175,175,175,175,181,175,175,175,175,184,184,175,185,175,175,175,175,166,178,178,178,175,175,175,178,172,175,184,179,183,175,175,178,175,185,175,175,183,183,183,185,185,185,185,180,180,180,175,184,183,175,183,182,176,178,175,176,175,175,175,175,175,175,170,174,174,174,174,187,187,154,181,174,174,174,182,182,175,175,175,175,175,190,179,186,186,174,183,183,183,183,184,192,161,173,150,176,176,176,176,176,176,176,176,175,175,175,181,178,184,180,162,202,175,160,175,159,174,174,164,176,176,196,175,175,175,184,199,183,173,178,178,175,175,175,175,175,172,175,180,180,187,178,186,186,186,155,190,190,180,175,168,198,155,155,175,173,171,174,174,174,174,174,174,174,174,174,174,174,174,183,174,174,175,191,183,183,183,170,170,168,182,164,175,175,169,182,168,168,175,175,175,175,175,175,183,177,177,177,177,177,175,175,175,189,180,175,171,175,175,168,178,181,180,180,180,178,153,186,186,180,178,175,165,188,177,157,157,157,188,182,185,185,175,175,175,198,190,190,190,203,179,175,175,175,175,180,182,190,156,165,182,181,175,175,175,175,175,165,166,166,175,196,208,208,189,191,195,180,160,170,188,190,198,180,180,175,185,185,185,180,171,180,180,186,185,175,193,176,160,180,180,180,180,186,186,173,163,175,175,175,175,187,187,180,180,180,194,152,170,170,175,172,172,191,180,180,180,183,172,177,167,179,168,168,175,175,175,179,179,181,185,190,177,175,208,183,177,172,170,175,165,165,165,165,188,190,192,192,192,192,174,174,184,183,175,175,177,178,184,168,180,177,177,177,177,170,170,180,178,175,191,177,161,175,177,169,169,182,182,175,175,175,175,175,183,172,172,181,175,175,172,172,175,165,186,175,182,182,182,171,171,171,171,171,171,171,184,184,175,175,173,173,185,191,173,173,173,173,173,173,173,173,154,170,170,187,165,165,172,172,172,170,180,171,171,175,189,189,184,175,190,171,165,165,167,170,205,181,173,173,175,169,156,171,164,189,161,165,162,194,194,170,173,177,182,186,173,175,175,176,156,182,160,160,175,172,213,196,196,178,184,169,163,163,175,175,189,189,189,189,175,169,186,178,166,168,175,188,160,160,179,185,185,185,185,184,183,183,183,183,183,183,183,183,160,186,175,175,201,180,175,183,176,180,175,161,178,191,175,187,175,175,175,175,175,180,183,178,165,165,175,175,175,167,175,173,162,159,159,171,169,175,175,175,175,175,175,175,175,184,195,195,195,195,195,188,175,184,175,175,175,175,175,175,175,175,175,175,173,175,175,175,170,175,175,175,175,175,175,175,178,178,165,165,165,165,192,185,189,181,181,181,181,181,181,196,196,175,175,175,180,199,199,199,173,175,175,178,178,178,180,167,167,182,151,151,160,190,192,192,192,176,175,175,182,182,216,177,177,171,171,171,171,171,171,171,171,192,164,164,165,168,187,157,170,160,160,160,160,160,160,160,160,160,160,160,160,160,146,146,175,175,158,175,178,168,168,170,178,178,178,176,176,175,175,184,184,184,170,176,170,168,175,175,175,169,183,193,172,172,172,175,175,175,186,191,183,179,186,165,165,165,175,175,190,167,175,175,175,161,161,161,186,175,175,175,175,175,169,175,175,175,175,171,175,175,180,172,174,170,185,195,180,190,168,177,156,188,190,170,170,169,184,170,182,175,175,175,175,180,180,180,180,175,174,175,155,181,189,175,169,169,179,155,176,172,186,182,175,186,175,185,171,182,185,180,176,165,178,175,177,176,176,170,163,162,181,181,180,180,180,180,180,180,180,180,180,180,180,180,170,179,184,184,176,176,161,175,175,165,168,170,187,187,187,187,187,175,175,183,158,163,181,181,175,186,175,181,180,208,175,175,175,188,188,179,179,179,175,175,188,175,175,175,175,176,181,180,180,180,180,180,166,166,166,166,166,183,165,165,175,175,175,175,175,175,175,178,163,175,175,175,175,175,175,177,180,180,165,171,171,171,177,163,175,184,168,171,175,162,162,185,168,170,175,175,175,175,182,178,175,175,175,175,175,175,175,175,175,186,191,193,185,185,185,185,185,185,175,170,170,179,166,165,175,175,179,168,174,180,175,180,180,180,180,173,199,190,173,174,158,180,179,179,176,173,188,188,156,174,174,170,166,175,170,165,184,170,183,183,184,186,186,186,186,180,170,170,178,178,178,178,170,175,183,183,184,169,175,180,173,175,175,181,180,180,165,155,184,176,178,182,175,183,170,180,180,180,175,188,175,189,189,189,180,175,195,175,169,169,175,175,182,178,178,172,172,172,172,160,168,175,175,177,177,175,175,175,175,163,175,169,175,175,178,175,172,188,175,174,185,185,173,173,173,190,175,181,175,175,175,175,175,172,190,175,191,175,175,175,170,158,158,183,182,169,155,176,176,165,155,155,155,155,155,180,180,164,175,168,181,178,164,175,175,175,172,183,181,181,173,173,170,175,181,190,190,175,175,208,194,172,172,175,175,200,175,176,180,175,176,175,175,175,175,191,185,185,176,184,184,194,175,173,176,180,175,198,198,173,183,183,175,185,185,175,175,187,175,178,178,178,178,160,178,178,176,178,178,175,220,188,188,188,164,175,170,172,175,175,184,180,175,190,166,175,175,175,175,175,175,172,172,190,190,190,190,193,193,175,175,175,175,175,175,175,183,183,183,172,175,175,175,191,164,175,160,175,196,175,171,176,174,177,178,170,170,170,150,150,192,192,192,175,175,175,175,170,185,185,185,185,168,191,185,163,175,185,185,185,178,175,165,168,176,171,171,171,175,175,175,177,177,176,166,180,182,182,183,173,161,177,179,170,170,170,170,180,180,168,168,168,168,168,179,163,183,183,183,183,175,188,175,175,182,162,193,193,165,183,187,185,188,156,175,175,177,178,170,185,168,177,178,190,180,175,188,193,184,177,177,177,174,174,175,175,175,170,170,170,170,170,196,168,170,180,162,162,170,194,188,175,175,170,170,170,170,170,170,185,173,182,182,182,198,198,175,193,193,170,175,193,193,188,188,173,173,173,173,173,164,180,175,183,185,196,175,184,161,161,161,161,183,162,166,175,170,204,204,174,206,206,175,175,162,178,178,175,175,180,180,175,191,168,168,168,175,175,175,175,189,170,176,184,179,175,175,167,160,187,167,179,187,187,195,169,169,178,194,152,152,152,183,170,175,175,175,183,185,185,203,194,176,176,176,176,176,176,176,150,150,150,183,183,194,175,165,174,184,184,201,193,193,172,174,175,175,162,167,173,186,176,176,176,175,175,175,175,170,180,167,167,175,175,175,175,171,195,195,181,185,175,154,182,152,152,182,150,180,175,182,179,175,165,165,174,174,174,174,174,183,185,183,175,177,175,175,166,173,173,175,175,190,190,175,181,195,171,162,180,175,175,180,175,188,188,180,180,182,175,183,183,168,168,168,168,188,183,189,189,189,177,191,191,183,175,178,178,176,158,166,166,166,166,166,166,166,166,166,171,175,193,193,179,184,183,175,175,175,175,175,175,175,175,175,178,178,175,175,175,175,175,175,175,180,167,167,175,175,175,163,175,175,175,175,190,175,175,175,174,174,175,175,175,175,175,175,175,175,174,190,190,170,175,175,190,176,184,168,180,195,180,175,175,185,177,183,191,191,191,191,191,191,191,173,173,170,175,203,184,175,175,158,191,175,168,168,168,185,175,169,197,175,175,175,175,175,175,177,177,177,177,177,177,165,178,187,190,173,173,173,173,175,175,175,178,175,175,175,170,174,175,191,178,178,180,180,180,180,166,174,193,180,165,175,165,165,165,166,188,188,165,190,177,176,183,177,195,175,175,175,179,167,191,191,186,175,175,175,166,166,175,168,178,176,176,195,195,179,175,195,172,184,185,185,185,165,165,175,170,180,180,180,157,157,178,187,175,167,175,163,170,190,175,159,194,182,181,198,190,194,171,167,167,173,173,202,202,187,172,175,178,171,182,175,168,168,170,191,194,194,194,194,205,178,186,186,183,183,168,175,192,192,175,178,175,184,183,175,175,183,175,169,175,163,163,163,175,187,178,177,178,172,175,175,175,168,175,175,190,190,175,176,175,163,175,175,179,188,175,175,163,175,175,175,175,175,193,193,162,175,175,175,175,174,174,181,169,175,180,167,183,180,180,175,167,167,167,167,188,179,177,175,175,175,175,182,167,167,177,177,177,181,175,175,175,180,152,169,170,172,172,185,185,175,185,185,185,175,165,165,165,171,182,188,175,175,173,189,173,173,204,164,175,175,152,184,188,175,187,175,175,175,198,165,175,175,188,176,175,175,175,175,175,175,184,184,184,163,163,163,160,187,187,172,175,175,180,180,175,186,186,186,186,175,186,192,177,184,184,170,174,175,175,175,175,175,171,200,190,179,196,180,180,164,183,183,183,178,178,161,161,161,161,161,175,180,180,180,180,198,172,172,185,165,169,163,163,163,173,190,174,180,175,175,173,173,175,183,164,175,208,208,170,170,177,182,167,185,185,180,178,178,178,175,179,179,178,178,169,162,162,175,170,154,194,197,197,197,188,206,203,180,191,191,191,191,174,162,162,162,162,175,175,175,175,178,178,175,174,174,174,169,169,175,171,171,181,177,177,175,175,175,175,180,180,189,189,189,175,175,174,181,181,168,175,183,186,180,190,188,188,186,175,175,175,175,181,176,185,185,160,160,160,157,157,157,178,178,191,191,191,191,175,178,178,183,177,180,168,168,168,191,177,190,190,190,175,175,175,175,175,184,164,168,175,175,193,193,193,193,193,193,193,193,193,193,193,193,193,193,193,193,193,193,193,193,193,193,193,193,193,193,193,193,185,178,175,164,182,170,170,188,155,185,173,175,175,170,185,185,168,175,172,186,175,175,208,196,169,169,169,192,163,164,182,182,182,180,175,175,177,175,175,173,175,169,175,177,176,175,183,175,170,178,166,175,175,170,170,185,167,188,175,176,175,175,190,175,176,176,176,190,181,181,181,187,176,176,174,175,168,171,170,170,170,173,175,175,169,169,169,180,165,197,197,197,194,194,175,175,175,175,178,178,159,180,180,180,184,184,175,175,180,180,180,180,184,184,184,182,182,175,175,190,190,196,178,168,168,168,165,175,175,175,178,173,180,175,183,183,183,181,169,175,164,175,201,201,170,171,176,170,175,175,175,175,180,180,196,196,196,196,190,175,178,175,175,175,175,175,180,176,175,175,175,175,187,168,168,168,173,173,180,174,174,174,174,174,200,200,193,185,172,172,180,175,188,175,160,160,175,177,175,175,166,166,175,174,180,175,182,188,175,179,175,195,191,177,177,183,183,175,175,175,172,165,175,195,166,175,175,187,175,180,187,170,182,170,175,183,175,189,164,183,183,175,190,185,178,178,175,162,181,171,173,175,187,176,185,182,182,175,184,175,175,175,175,166,166,175,175,178,175,186,175,181,185,184,183,183,183,183,183,183,172,172,191,191,175,172,178,178,178,178,175,175,178,195,195,195,175,175,161,161,175,167,184,149,149,149,184,171,183,165,174,188,175,175,185,197,197,172,185,175,174,183,164,164,175,177,177,186,186,186,178,178,175,174,174,174,175,175,175,184,184,175,177,182,175,186,175,191,166,167,181,169,180,175,188,165,190,168,196,188,176,175,185,185,180,164,164,163,191,191,191,192,166,166,166,166,166,166,185,175,179,179,185,175,175,175,182,186,186,175,158,175,175,175,175,178,175,175,150,205,175,175,178,178,177,178,170,170,170,170,175,175,164,193,193,193,178,178,198,200,200,168,174,173,174,178,178,175,174,169,176,175,160,200,162,173,173,173,180,160,160,160,160,160,168,181,180,180,180,176,176,188,180,157,165,176,176,193,178,145,187,185,185,175,176,168,197,197,197,197,183,183,170,177,177,169,184,172,172,176,176,200,200,200,200,200,200,200,200,200,181,185,164,164,193,188,182,178,174,175,178,156,175,182,182,171,175,190,190,190,193,175,196,196,175,189,175,185,179,179,175,177,173,190,180,168,168,175,175,175,175,175,175,195,193,185,175,190,164,164,160,186,176,176,197,182,182,182,180,176,172,158,175,175,175,175,209,209,186,190,190,183,195,195,185,174,204,178,175,175,190,165,166,144,144,144,173,185,177,175,173,173,158,184,184,167,185,175,175,175,162,174,175,169,169,167,170,170,170,165,176,188,175,175,175,165,165,184,170,180,201,188,167,191,156,175,188,188,188,188,157,157,168,168,175,170,201,195,178,178,175,175,173,173,175,175,175,175,162,162,178,178,178,178,178,181,162,182,180,169,185,185,158,175,191,175,175,175,175,175,175,175,175,176,171,189,183,183,175,160,186,180,177,156,184,184,189,191,168,168,180,180,180,180,161,157,157,192,175,169,169,175,175,175,186,168,163,163,191,203,175,164,175,175,178,178,194,194,175,175,175,157,180,180,165,204,191,180,180,180,180,185,175,175,163,206,184,156,180,180,180,180,180,179,179,179,173,194,188,175,175,183,183,174,174,174,174,200,200,200,170,175,175,175,184,187,185,181,184,184,184,181,175,150,150,164,175,175,175,160,177,171,182,182,187,176,171,173,180,175,175,178,177,177,182,198,198,166,166,193,188,175,175,175,165,187,186,167,167,176,169,169,169,169,169,182,173,175,182,182,185,159,159,186,175,175,183,175,181,170,187,175,175,175,170,170,175,175,176,196,196,173,175,172,190,178,178,191,157,160,150,168,168,170,180,180,180,177,201,201,189,180,175,175,175,175,175,186,175,165,163,175,168,162,175,175,184,184,175,181,174,175,175,170,175,168,185,185,186,186,186,186,179,175,175,188,178,162,187,187,175,175,198,191,181,181,161,175,178,179,167,176,171,163,163,163,175,187,194,194,194,194,176,176,180,170,188,180,180,180,167,167,162,162,162,162,162,160,172,170,170,170,170,170,173,173,165,181,176,172,187,164,175,175,172,170,170,170,175,175,175,175,175,175,175,159,183,175,183,183,168,175,175,175,169,175,175,183,178,175,175,175,175,175,175,175,163,181,185,175,168,181,182,177,175,176,180,162,155,174,179,185,185,173,189,173,197,165,165,183,173,173,175,168,175,175,203,203,180,180,175,175,177,175,175,171,171,163,182,175,175,166,166,166,182,175,175,175,175,175,175,175,186,175,176,176,188,180,180,175,170,170,180,167,169,187,180,180,180,180,170,163,176,176,167,208,208,175,175,179,160,178,156,148,148,165,165,165,213,207,191,179,175,175,178,175,172,178,178,187,187,172,172,183,190,178,167,167,167,167,172,172,172,166,187,187,187,179,165,169,175,169,175,172,175,182,182,182,182,162,179,192,175,175,187,190,190,175,175,157,157,157,157,157,157,190,175,164,175,175,175,175,204,190,173,173,175,178,178,176,188,180,180,179,179,179,179,166,170,176,176,178,193,184,194,178,200,175,169,160,175,175,179,186,178,176,178,171,165,165,175,175,183,170,175,155,180,180,170,200,175,185,185,167,170,186,170,175,190,175,179,186,187,175,175,175,188,186,190,165,180,180,175,172,175,175,175,174,174,174,174,175,175,175,172,198,198,172,180,180,163,163,174,165,165,165,175,168,193,175,178,168,177,178,178,191,172,172,175,198,170,188,175,170,170,170,198,191,187,165,165,175,175,161,184,184,185,175,175,167,175,178,187,183,183,187,201,175,175,175,179,179,175,175,170,170,167,167,167,200,180,188,175,177,162,198,180,175,187,165,190,190,190,173,173,196,206,187,187,172,174,179,179,179,179,181,175,175,175,175,189,175,180,180,175,184,171,175,171,189,175,175,175,175,175,152,165,174,178,191,191,165,175,193,172,178,175,190,181,184,182,210,210,187,187,197,194,172,185,178,178,190,163,163,170,170,175,175,184,211,180,186,162,184,184,201,189,175,174,181,168,175,178,198,170,174,181,193,193,193,193,193,193,173,184,193,175,175,162,170,197,197,197,175,174,181,175,175,173,173,168,168,183,173,188,170,175,181,181,175,162,168,184,169,175,175,175,176,169,178,175,175,175,198,175,178,175,173,173,175,175,175,188,175,175,183,180,205,175,175,177,181,181,173,175,168,168,170,159,180,180,170,175,172,175,177,163,163,163,191,191,195,195,179,175,179,176,178,175,178,178,178,175,175,175,183,183,176,168,171,183,183,184,175,164,164,164,164,164,164,164,190,178,193,173,173,173,167,167,180,162,170,190,187,186,175,190,175,178,155,175,186,186,178,178,178,188,175,173,182,168,175,175,176,159,155,167,167,175,184,189,189,172,177,193,175,200,200,179,179,182,193,175,184,178,167,175,178,175,184,145,145,145,145,145,175,175,175,175,175,168,173,170,170,173,175,187,187,187,187,187,187,177,178,172,175,175,190,175,205,205,205,184,175,193,193,175,175,177,181,192,192,192,185,175,185,185,182,185,185,176,176,187,187,162,162,162,162,162,170,163,163,163,163,163,163,178,178,175,170,172,155,152,152,162,164,178,190,190,161,161,193,193,193,193,193,193,185,191,191,200,200,200,167,167,167,167,175,176,176,176,175,175,187,174,177,175,175,175,175,175,175,188,178,178,178,175,182,180,186,170,175,175,175,175,178,178,178,162,173,173,173,173,173,175,175,175,175,175,175,175,186,188,178,178,165,177,155,175,180,172,165,165,171,171,192,192,192,180,171,171,175,175,175,175,195,195,167,167,167,167,175,190,190,200,200,184,175,172,172,175,175,169,169,180,176,170,175,173,173,173,167,167,175,175,178,194,194,194,169,173,175,171,175,180,190,182,175,175,175,170,175,199,199,170,176,176,182,181,179,175,175,175,175,187,192,171,196,196,196,172,172,197,175,198,168,180,182,174,142,142,142,175,175,175,175,200,180,175,175,166,166,181,175,173,162,162,162,162,159,175,165,165,179,172,183,175,175,180,180,195,160,160,160,162,162,175,175,175,164,155,170,203,203,203,175,175,175,175,183,188,188,188,178,159,159,181,175,167,169,169,182,175,175,202,175,172,183,175,165,174,176,176,181,181,173,175,175,175,175,175,175,175,175,175,175,175,190,190,190,190,190,190,178,202,188,177,175,158,186,155,175,175,175,175,173,189,189,160,175,183,165,170,190,160,160,185,175,175,186,186,167,180,180,180,168,173,188,173,173,188,194,181,175,163,187,193,175,175,198,178,178,178,189,175,185,175,175,185,175,175,183,183,183,186,189,185,187,196,175,169,169,168,179,179,178,178,178,178,178,180,175,188,188,167,167,167,189,189,189,216,216,216,165,175,183,183,175,175,183,175,188,186,170,175,175,175,175,175,183,190,178,165,191,178,180,193,193,170,196,188,191,191,191,188,173,192,176,160,165,165,165,165,190,160,184,178,178,170,185,172,175,175,188,175,175,175,175,175,173,173,175,175,164,192,179,171,183,175,175,195,152,152,152,170,205,205,205,182,186,175,175,198,163,163,186,175,198,166,160,154,186,186,174,167,173,162,162,161,175,175,183,180,181,155,180,175,178,191,191,159,175,190,195,190,175,175,174,195,183,175,175,175,175,175,162,162,180,175,166,195,195,171,175,162,162,183,161,190,175,189,189,183,185,173,173,183,183,175,188,175,175,167,167,190,171,174,170,164,178,178,188,173,171,175,173,193,192,186,175,191,174,169,170,168,168,175,180,192,170,193,193,183,175,172,178,170,176,175,178,162,162,187,187,175,190,190,178,165,183,188,170,170,175,175,175,187,169,174,174,178,175,178,178,178,178,178,175,175,182,175,178,166,163,170,170,178,169,175,173,173,173,173,173,173,173,173,168,212,165,165,193,175,175,190,175,170,196,177,165,165,196,182,182,191,175,177,177,190,190,190,175,175,173,175,184,183,183,180,175,162,178,178,197,175,175,185,175,166,177,177,177,175,162,175,184,175,175,175,175,175,198,181,206,175,175,175,195,176,176,178,178,175,176,175,175,180,172,190,190,196,171,173,173,170,181,170,176,176,175,175,184,175,160,191,185,185,185,185,185,185,195,195,195,195,195,195,181,181,154,180,156,175,175,175,175,175,175,175,175,175,175,175,175,174,174,174,169,169,175,175,175,174,174,175,170,170,175,170,187,187,187,184,174,185,175,182,182,187,169,178,192,192,192,192,185,185,175,175,157,188,188,188,175,175,200,179,176,175,175,186,186,186,186,186,175,191,175,170,168,188,169,172,172,185,174,171,171,168,183,177,177,175,175,175,180,187,153,153,175,190,190,175,184,175,166,194,175,196,175,175,193,190,190,175,164,164,164,164,164,187,175,190,190,175,175,183,183,179,175,175,175,171,171,171,172,176,174,174,175,175,192,175,175,172,173,175,186,186,177,193,193,193,193,198,170,178,182,182,182,182,175,179,181,170,175,175,175,193,175,183,190,178,178,178,178,183,180,180,178,188,188,188,182,182,175,181,172,172,173,175,201,180,186,186,186,177,185,175,175,175,175,175,175,185,157,157,164,164,178,178,168,184,184,166,182,182,175,175,165,193,193,173,165,165,186,186,175,180,180,174,177,187,190,180,180,180,180,175,175,187,188,180,190,190,175,175,180,171,175,175,167,168,178,180,180,180,180,171,174,197,175,175,175,175,175,170,170,175,175,175,175,175,192,192,156,156,156,180,175,175,194,175,175,175,187,180,180,180,162,162,162,165,175,179,178,178,149,149,175,185,175,175,196,180,181,175,178,178,192,192,193,175,175,175,205,175,162,181,173,181,181,182,182,168,168,165,165,165,165,189,164,173,183,175,190,185,190,175,175,184,186,170,170,206,174,170,207,178,173,173,169,185,163,175,183,175,178,182,182,181,181,175,163,163,182,180,156,175,178,178,178,183,185,188,188,175,172,185,185,194,180,180,180,165,165,165,183,173,173,173,189,188,188,182,182,175,187,187,175,175,162,162,175,173,183,162,162,188,188,175,175,175,175,175,186,186,194,182,182,182,176,188,188,173,173,173,193,147,191,175,172,172,167,167,198,170,179,179,166,180,175,175,175,175,179,175,170,178,178,167,175,184,163,173,173,197,164,175,183,183,172,172,172,172,175,172,175,187,188,175,175,164,176,173,168,175,166,166,176,180,180,188,188,166,166,166,166,166,175,172,179,173,173,181,181,175,175,175,175,209,209,168,160,160,175,190,175,161,171,171,171,171,171,174,223,223,223,173,174,175,182,182,182,196,175,185,162,162,162,162,162,193,155,175,192,192,180,180,168,168,169,187,187,187,177,175,185,182,182,182,177,170,175,182,182,182,178,175,188,181,181,168,162,171,166,175,170,175,180,176,187,185,180,188,185,175,175,175,159,170,186,175,175,175,175,175,175,175,176,176,170,173,173,173,180,180,157,178,178,178,175,175,186,186,170,165,177,177,181,175,178,163,161,168,173,163,175,175,171,180,186,175,175,181,181,181,175,164,185,173,183,174,176,170,170,180,173,195,175,170,163,172,175,175,175,185,155,175,175,175,180,180,163,178,186,174,174,192,190,175,188,180,170,188,180,175,175,170,175,181,197,170,183,175,197,193,181,175,181,181,181,181,176,176,197,197,165,190,190,190,185,181,174,175,175,175,175,173,185,168,168,168,165,165,170,170,170,160,160,175,175,175,168,180,180,180,180,174,190,191,163,155,175,178,171,171,175,173,168,168,168,183,180,175,198,187,172,175,200,178,178,195,160,175,166,175,186,174,174,184,172,172,199,198,174,175,188,186,183,183,178,178,165,165,175,190,165,178,193,175,157,181,159,169,169,169,169,179,175,175,172,172,170,175,175,175,175,175,175,175,175,173,175,175,168,168,168,168,165,165,193,185,175,166,166,175,175,175,175,175,188,163,180,182,175,168,198,198,175,180,178,174,174,175,187,181,191,175,175,175,175,175,189,180,180,214,168,188,188,188,188,180,175,175,180,157,187,172,172,159,180,180,193,184,175,175,175,175,175,176,176,169,169,182,173,178,177,175,178,178,178,178,174,196,170,188,188,188,179,191,175,172,197,187,187,183,175,178,183,190,164,175,175,175,175,188,185,185,167,176,184,196,196,186,180,175,183,183,183,175,175,175,175,173,175,194,194,194,200,200,200,188,175,175,175,173,179,188,179,175,193,175,198,198,180,180,179,162,163,171,171,183,198,198,184,170,176,184,165,170,166,166,182,169,180,168,175,167,167,179,169,169,185,164,170,188,190,190,165,181,175,172,172,172,172,172,172,172,172,188,175,175,195,167,172,172,202,178,178,164,160,190,190,190,176,170,209,183,187,164,200,200,184,175,172,176,168,187,178,172,172,172,172,172,172,172,172,172,162,159,159,159,192,198,198,198,175,175,164,171,153,153,175,174,193,178,180,180,180,178,178,176,175,175,175,175,181,175,175,175,175,182,178,175,202,202,193,175,180,180,180,180,177,170,181,166,166,172,180,170,196,185,173,173,163,191,191,175,175,171,181,181,175,175,176,180,179,167,175,175,194,180,180,175,188,188,175,176,176,175,173,173,173,173,173,182,175,180,175,175,175,177,185,185,188,188,188,175,175,175,167,175,157,175,175,175,175,172,183,188,188,188,188,188,175,179,175,180,180,163,178,176,175,174,181,181,181,181,178,190,190,190,190,200,173,198,198,175,175,175,198,190,165,175,156,193,193,175,183,175,175,175,175,175,180,175,178,164,175,188,179,175,178,172,172,172,172,170,179,182,188,188,183,175,170,170,170,170,179,177,175,175,168,175,175,183,183,176,176,176,176,176,175,175,178,175,175,177,177,175,175,178,165,185,172,180,182,182,182,182,183,175,167,185,185,175,175,175,175,175,175,175,158,196,180,189,189,189,175,175,187,187,166,166,175,175,190,180,180,193,183,170,188,175,163,163,163,163,173,175,176,183,185,173,173,173,178,181,175,188,188,176,175,183,172,192,186,186,175,175,169,160,178,174,180,176,191,191,172,172,184,172,184,205,199,185,185,192,187,187,175,175,184,185,185,185,185,185,185,185,185,190,190,190,172,175,171,175,181,181,181,190,190,175,175,192,165,164,185,175,182,175,175,175,175,175,180,175,180,169,169,175,175,196,187,174,174,172,172,193,170,170,170,170,170,170,170,170,169,185,167,175,196,182,175,193,183,183,184,175,175,170,170,170,170,182,182,170,190,190,190,173,175,169,182,182,188,188,180,191,175,180,180,180,180,180,180,180,180,182,172,172,172,175,167,167,175,175,175,180,180,179,176,176,167,195,195,184,175,168,168,172,192,183,175,188,175,175,188,188,190,175,180,180,180,175,179,179,184,178,178,178,175,175,175,175,188,170,165,165,175,181,191,192,180,183,183,190,190,186,175,183,181,181,168,168,168,194,175,174,175,170,187,187,180,180,175,175,168,168,183,175,175,164,159,159,159,159,202,184,175,171,167,167,169,175,178,180,193,193,196,170,184,177,199,175,180,180,180,173,188,193,178,173,168,194,182,175,175,190,190,180,193,193,183,183,181,176,188,188,188,188,186,186,167,167,192,167,167,167,167,167,184,175,175,175,180,186,175,175,188,173,173,173,175,178,175,170,175,175,180,179,187,172,186,168,175,175,180,194,183,174,179,187,161,161,161,161,173,201,175,188,172,173,175,175,178,180,172,165,196,174,175,175,175,175,175,175,185,174,175,175,172,172,190,190,185,175,195,175,175,175,188,195,164,182,182,206,206,193,184,175,175,171,171,175,196,183,173,160,160,175,190,190,197,175,175,172,175,194,172,175,188,188,178,178,180,180,169,170,170,195,195,195,180,183,173,175,175,190,183,183,175,175,183,175,196,196,196,198,198,175,172,180,175,172,185,186,186,175,175,190,190,185,185,188,180,158,184,175,175,175,175,180,180,180,180,180,175,178,175,198,198,174,179,167,167,175,175,172,172,176,175,175,175,174,178,175,175,175,191,175,167,180,174,175,182,182,182,187,187,187,183,183,166,175,170,170,161,175,175,175,175,186,186,193,175,182,171,171,171,171,171,172,172,175,175,175,175,175,175,167,173,175,182,182,182,182,173,175,175,179,161,175,175,177,174,174,174,185,155,162,175,164,194,194,182,192,188,188,188,183,183,180,180,187,185,175,180,169,176,178,178,183,179,161,162,162,165,210,210,190,190,175,188,168,192,192,155,187,184,184,184,179,186,185,177,180,180,162,175,170,180,181,178,202,180,170,170,170,170,178,175,158,176,171,162,178,168,173,173,173,184,178,178,176,177,178,180,186,185,183,178,181,164,164,164,153,188,188,165,192,184,191,175,161,167,160,188,175,160,175,175,175,168,173,170,183,186,174,175,175,175,175,175,173,171,169,175,160,160,172,175,175,175,160,175,193,174,160,175,175,175,185,175,175,175,187,187,170,170,183,187,162,167,180,180,178,175,175,160,175,175,175,175,156,175,171,171,171,171,171,171,171,171,171,171,171,171,171,159,178,172,176,181,165,172,175,175,175,175,175,165,172,172,191,185,173,173,143,158,158,193,188,183,189,189,189,175,175,195,158,158,158,158,192,188,175,175,175,182,182,182,182,163,163,163,169,188,183,189,189,189,172,172,181,178,185,175,178,174,172,180,170,170,186,181,183,166,182,188,188,188,180,168,182,178,175,169,169,169,169,169,169,169,169,169,169,178,168,188,195,195,175,175,180,175,191,191,172,175,177,186,168,178,175,182,178,178,170,165,172,172,185,185,165,165,175,175,175,175,175,179,183,165,175,186,168,165,160,160,160,164,164,164,178,175,175,175,175,175,175,170,177,177,177,177,177,198,190,190,190,190,190,190,190,190,190,171,175,175,175,175,175,175,175,166,175,175,178,168,183,183,187,181,176,194,194,183,152,180,163,164,165,175,175,159,159,168,160,176,175,165,175,180,180,175,175,170,170,170,170,193,170,150,172,182,172,175,163,173,173,173,172,175,184,184,180,162,162,162,172,180,172,179,173,183,173,190,171,172,184,198,185,185,185,175,162,162,180,180,147,190,164,175,165,179,170,170,158,158,173,161,187,201,176,180,175,187,164,164,193,183,191,178,185,177,177,161,161,178,178,187,175,175,175,178,169,183,186,186,177,166,172,185,180,172,166,167,175,167,176,203,152,173,178,195,164,147,147,147,147,183,171,177,186,186,186,183,175,175,175,198,152,183,178,175,181,164,175,197,197,180,180,180,174,174,174,203,177,170,180,178,176,168,170,185,178,178,190,178,158,170,170,176,176,176,176,176,176,182,176,176,177,175,170,193,175,175,175,180,180,185,185,185,160,197,180,180,175,174,175,189,168,163,182,183,175,181,169,175,175,187,198,168,168,175,182,183,174,167,182,182,153,182,177,182,167,187,175,186,175,176,175,199,199,145,145,145,145,145,145,176,180,175,169,175,156,198,198,177,177,192,186,175,170,167,167,169,175,183,183,161,194,175,180,175,191,173,173,169,165,175,160,160,187,171,175,175,198,174,166,166,189,175,168,168,201,201,186,178,182,178,178,178,196,200,180,180,177,194,172,181,181,175,167,175,175,175,175,175,174,172,183,175,172,183,183,157,185,161,190,190,190,175,162,186,183,160,182,178,175,172,182,171,175,203,161,175,174,175,175,175,186,185,185,180,190,166,170,163,163,163,175,173,180,168,183,173,178,170,175,176,176,184,179,179,175,181,178,178,175,168,178,173,175,175,175,170,175,170,175,175,171,171,173,178,178,175,170,170,174,174,174,175,175,174,174,170,170,175,185,172,175,175,173,175,175,175,175,168,170,170,173,168,168,168,168,160,182,175,175,183,183,175,175,175,175,175,178,175,175,175,173,160,188,188,187,187,179,179,175,181,178,178,175,177,177,175,183,190,175,175,179,176,176,176,188,188,152,152,182,175,172,177,177,177,177,198,163,175,174,174,189,177,175,175,175,190,190,190,195,195,155,176,175,161,175,175,178,200,200,200,167,196,175,180,180,173,173,175,175,175,175,175,195,180,182,182,182,175,175,165,170,160,175,190,183,183,183,183,206,189,182,187,178,160,173,173,173,173,173,175,188,175,175,175,175,175,200,200,196,196,175,175,175,182,174,174,183,155,175,187,187,172,180,175,170,188,181,171,171,167,167,167,175,175,175,175,163,183,178,178,186,163,163,163,163,163,163,176,187,187,175,180,165,175,175,190,175,175,175,175,180,150,150,194,192,175,176,176,175,181,175,175,175,175,176,173,175,195,178,178,182,180,185,185,157,188,175,175,175,175,171,171,175,175,175,155,191,191,180,170,180,180,188,175,182,181,181,181,173,191,191,186,186,162,178,175,175,175,175,174,174,175,186,164,178,178,168,160,150,171,186,186,186,171,188,178,178,160,160,175,168,168,168,168,164,158,158,158,175,161,180,178,188,188,166,153,178,159,170,187,180,180,180,173,173,170,175,183,175,175,190,175,175,176,190,190,180,162,162,162,162,162,162,162,162,162,162,178,167,171,192,174,174,168,168,168,175,172,172,185,185,185,185,185,185,185,158,185,185,164,167,183,183,178,175,186,168,191,161,161,175,175,175,175,175,175,178,178,175,186,186,186,175,208,206,185,183,170,201,175,180,165,165,157,175,175,175,175,189,175,174,187,175,175,175,175,178,175,175,194,192,170,170,190,190,162,175,180,180,180,180,188,180,178,178,184,184,184,184,182,174,170,177,177,160,160,160,160,169,192,171,168,173,173,173,174,181,185,200,170,187,175,191,183,178,175,175,175,173,175,185,183,188,175,175,175,175,188,190,183,176,175,175,175,170,184,184,166,166,182,185,185,185,170,175,175,185,170,175,167,180,180,180,179,179,179,192,175,175,175,175,175,175,175,166,178,178,193,177,177,161,163,180,180,188,175,173,187,187,184,184,168,168,168,173,180,190,190,170,170,170,164,191,191,175,182,182,174,175,175,175,181,184,184,184,173,175,171,192,177,146,146,175,175,175,168,171,171,175,170,175,192,194,193,181,171,170,192,164,170,190,190,186,175,160,160,192,175,194,175,180,180,180,178,173,173,175,175,170,150,184,196,170,175,180,168,175,170,175,200,200,175,175,164,178,178,171,175,175,165,183,175,185,175,165,165,175,175,186,169,179,179,175,175,166,188,178,175,175,175,175,160,170,175,166,166,179,182,176,175,178,167,175,180,180,177,179,174,173,177,183,163,182,204,173,173,173,173,173,173,166,192,191,175,177,175,175,197,175,175,175,181,181,192,192,188,175,185,185,196,196,177,177,194,157,176,168,170,170,175,175,179,181,196,196,175,163,163,163,178,175,163,170,172,193,193,185,164,164,175,192,186,175,175,170,170,183,183,175,175,167,168,175,175,175,175,175,188,185,175,175,199,209,177,183,175,174,192,195,195,175,195,180,180,180,175,170,175,175,175,180,175,165,170,175,171,175,175,182,175,177,177,175,175,184,184,175,175,206,175,175,175,175,169,170,175,175,202,175,176,175,175,180,175,175,174,173,176,175,175,175,184,184,184,175,177,187,175,178,183,165,165,175,186,157,157,152,152,175,175,182,196,196,196,180,180,183,183,183,175,169,182,191,183,188,175,180,180,165,180,192,156,166,166,175,175,179,183,183,183,183,183,183,183,183,183,183,183,167,167,167,196,146,146,194,175,175,175,175,175,175,175,178,187,187,187,182,182,182,175,175,175,183,175,196,196,196,190,170,175,194,195,174,173,180,180,175,175,175,183,164,193,193,193,193,181,203,155,175,175,175,171,171,180,180,192,163,163,163,175,175,175,174,176,175,193,178,182,175,175,175,165,165,184,184,184,175,175,175,175,175,171,157,157,157,197,178,168,168,168,168,168,168,176,175,163,163,183,183,175,181,181,175,175,175,183,156,201,175,166,185,175,175,175,175,175,175,175,165,165,165,185,186,193,179,175,177,191,191,191,191,175,175,172,175,175,175,197,187,187,187,180,191,175,175,175,189,190,180,187,178,186,186,175,175,195,184,184,205,181,181,152,187,187,175,163,168,175,175,185,185,175,178,178,178,177,177,177,177,171,186,177,177,177,171,171,174,174,189,189,175,180,180,183,175,175,175,180,165,182,170,158,177,180,189,165,177,177,177,177,170,170,170,170,170,170,183,156,183,180,180,174,174,175,182,188,195,173,180,175,182,185,178,178,175,168,175,168,175,175,175,175,170,170,178,178,173,173,165,165,192,170,196,166,166,175,180,180,180,165,175,183,183,173,173,175,180,175,175,166,170,170,170,170,170,175,175,187,180,180,173,177,177,191,191,195,164,166,170,171,175,176,175,175,196,170,183,184,175,174,185,160,172,175,187,183,183,183,183,198,196,196,190,175,167,167,167,183,169,169,193,197,175,175,175,175,175,175,192,192,171,175,170,175,175,175,171,154,154,181,181,181,175,175,173,173,173,183,183,183,183,188,188,188,182,182,175,173,173,186,175,176,202,202,175,169,163,198,175,182,182,182,167,175,176,169,169,175,183,183,172,178,186,175,175,180,180,180,180,193,175,181,187,187,186,188,177,173,168,192,188,175,175,175,188,175,175,183,173,173,181,183,175,177,173,190,190,190,185,174,174,160,193,175,175,175,165,175,165,182,175,200,200,178,200,200,175,175,175,175,175,175,188,188,188,186,175,178,195,175,175,192,175,178,175,175,160,175,175,175,175,175,175,175,175,195,182,174,173,211,178,175,188,188,183,183,178,178,160,160,175,162,173,173,184,184,175,183,174,189,172,178,175,175,188,188,175,176,200,193,175,185,185,196,196,196,167,197,197,197,185,175,175,174,175,194,195,175,170,170,174,175,165,171,171,182,183,190,175,158,158,169,190,171,175,204,204,183,173,163,197,197,175,175,175,176,185,185,184,183,183,183,175,175,179,179,183,175,190,190,178,178,198,202,180,175,175,173,175,175,182,200,173,173,173,173,175,160,160,175,191,172,185,183,175,184,183,183,183,185,170,183,175,178,178,165,177,190,175,173,167,167,167,181,175,175,175,175,196,196,196,182,184,184,175,183,183,187,175,189,175,175,190,190,190,152,187,175,183,170,170,175,175,190,172,200,182,170,175,183,188,198,198,170,175,172,172,172,172,172,172,172,196,159,159,183,195,182,188,178,189,160,187,175,192,174,156,182,182,182,182,175,175,186,186,175,172,173,168,168,181,142,142,175,180,182,158,175,175,164,186,175,175,175,175,175,175,175,175,175,159,159,162,162,162,162,162,183,183,175,175,175,175,182,191,160,175,175,175,175,175,175,189,189,191,173,157,175,175,175,180,163,163,175,175,168,175,175,193,176,187,179,181,181,180,170,172,183,153,200,200,177,186,186,174,169,175,165,187,187,191,172,175,178,176,177,167,157,157,165,180,180,175,178,175,168,180,177,153,172,159,188,175,175,179,179,192,192,176,196,176,196,188,200,200,200,188,188,178,187,195,175,150,150,150,171,178,175,189,189,189,180,175,175,175,182,163,173,166,186,186,186,186,182,182,182,182,160,190,190,190,155,170,170,177,162,162,178,178,166,161,176,162,171,155,175,162,170,170,170,168,161,198,198,198,198,198,198,169,177,177,186,185,185,185,203,181,181,175,175,177,174,174,165,180,181,191,185,175,195,193,186,168,184,186,175,174,170,170,170,175,164,164,175,175,175,169,172,170,180,164,186,161,161,170,186,186,186,186,186,183,179,172,190,184,175,166,150,183,175,185,182,175,183,175,175,175,175,173,164,164,175,170,173,180,168,168,175,175,185,168,168,168,175,189,169,184,188,188,188,188,188,188,185,168,168,168,176,165,165,181,188,188,183,175,175,158,186,182,182,175,175,185,185,185,185,185,190,175,175,175,175,175,180,175,175,175,175,175,175,175,176,175,180,176,188,175,175,175,175,175,175,175,168,193,193,193,189,174,174,174,158,185,189,189,189,186,202,175,164,164,183,181,186,187,186,183,163,187,187,193,193,171,173,173,175,175,175,175,175,175,175,175,175,175,175,175,175,175,175,173,175,181,170,185,175,175,188,182,175,157,157,175,177,181,175,175,175,185,182,182,182,170,169,183,183,168,187,164,174,174,175,175,175,176,190,178,160,171,185,175,160,197,175,205,180,199,199,199,160,165,165,182,182,182,175,176,176,175,175,175,172,185,175,175,188,188,188,188,145,145,145,145,145,158,158,158,170,170,170,170,170,170,186,170,170,170,175,181,180,176,176,161,176,177,176,175,170,170,177,177,156,172,172,190,175,198,198,198,185,180,175,175,176,183,179,175,179,179,186,178,178,176,176,176,176,176,176,176,187,180,180,166,175,175,175,175,202,202,202,202,175,175,175,184,184,169,169,175,175,175,174,174,175,175,183,183,183,170,177,177,175,175,172,173,173,162,183,175,145,179,179,182,173,173,175,175,168,180,180,180,193,170,184,164,170,213,169,165,176,171,162,174,174,170,170,170,170,170,168,184,160,180,175,175,182,192,192,188,188,175,173,173,170,175,175,167,175,175,194,175,175,191,191,191,176,163,163,163,163,182,175,166,176,171,171,164,171,169,175,175,162,162,165,165,165,161,180,180,175,175,173,164,160,165,162,162,170,170,165,165,165,165,165,160,160,160,160,160,160,160,159,175,165,180,180,180,174,175,197,180,160,198,198,162,175,160,175,186,175,182,175,178,178,178,178,175,193,174,165,165,165,194,174,174,180,180,180,163,175,145,181,181,175,163,163,178,176,191,191,175,176,196,180,180,174,150,175,180,177,146,146,146,146,146,148,163,170,170,170,170,160,177,176,176,158,179,161,159,175,173,173,164,160,166,164,163,158,166,166,154,181,154,175,175,198,170,175,177,177,177,184,200,175,182,166,172,176,172,178,160,169,178,161,186,186,169,190,172,172,166,166,167,175,158,158,175,160,160,160,175,190,175,175,172,185,168,183,175,175,170,160,160,175,160,185,175,175,175,175,175,175,178,178,178,182,182,169,184,167,202,202,184,179,164,164,164,175,175,175,188,188,188,188,170,175,184,175,194,194,176,176,176,176,198,198,198,175,178,175,169,193,165,165,165,190,190,171,188,175,188,185,174,179,180,183,160,183,160,160,160,160,160,160,175,185,173,173,170,165,172,183,175,193,182,155,175,180,180,180,172,160,160,175,173,173,185,183,183,183,183,188,175,160,169,180,183,175,175,175,151,175,188,188,188,188,167,173,173,196,188,188,185,185,165,165,165,165,165,165,165,165,175,185,185,175,175,183,175,181,165,178,175,182,167,185,185,185,175,170,185,185,189,179,183,183,178,175,167,190,190,190,190,188,180,180,174,170,177,177,191,178,165,187,175,189,192,186,186,167,167,164,164,195,201,175,186,186,163,160,179,186,175,170,182,175,175,205,205,178,174,174,164,175,175,172,156,168,175,175,195,184,186,182,182,164,186,186,175,173,173,175,175,175,175,175,175,183,186,175,185,182,182,175,175,176,167,167,175,175,175,172,181,175,175,170,175,175,184,180,180,189,195,175,175,175,177,168,177,187,175,170,170,170,170,188,197,197,197,197,169,174,174,185,185,169,160,187,186,185,185,185,183,183,183,183,183,164,164,175,175,196,196,174,174,176,175,175,163,178,178,180,178,165,175,174,168,168,175,175,175,175,190,190,190,175,175,183,183,180,175,202,202,182,165,165,165,175,175,175,175,196,159,180,175,178,184,175,175,175,186,175,175,168,166,166,166,166,175,194,173,173,173,185,168,193,170,187,185,167,175,167,190,175,175,175,173,173,173,177,175,175,175,177,178,178,178,167,167,175,185,185,175,167,183,183,175,186,168,168,180,193,158,196,196,180,175,175,173,173,173,173,173,173,173,173,175,163,180,175,176,181,175,175,179,179,190,196,170,170,184,184,168,167,167,167,175,175,182,177,177,177,177,177,177,177,177,177,177,177,177,175,168,200,178,182,184,188,188,188,188,188,183,175,175,175,160,160,160,160,160,179,180,183,183,183,175,175,175,175,175,175,175,175,175,175,175,175,179,188,178,178,178,173,156,175,175,175,178,171,171,188,188,175,175,175,175,175,175,193,175,193,175,175,188,188,196,196,196,196,196,196,196,196,196,183,183,181,191,191,175,189,189,189,175,175,175,175,175,163,178,173,155,163,166,175,175,175,175,198,175,158,174,174,151,180,180,167,167,167,167,167,167,167,170,175,188,182,182,168,175,175,195,180,175,175,183,180,177,172,172,172,172,168,172,170,176,176,180,188,175,175,175,175,175,178,160,175,168,168,190,172,185,175,175,180,175,187,186,186,207,171,173,173,173,173,173,194,169,162,162,162,183,175,175,175,170,187,184,175,175,175,175,190,176,178,178,168,200,173,175,174,174,174,194,200,195,195,195,176,176,165,165,178,177,177,177,177,192,192,163,180,152,180,180,175,186,180,156,156,156,178,164,180,170,205,186,167,167,187,175,190,190,196,175,181,175,184,184,184,172,175,186,170,170,170,170,170,170,170,170,170,176,176,176,175,175,184,190,190,188,178,178,178,183,185,165,187,186,220,220,169,169,169,188,158,158,185,185,160,183,183,183,160,190,188,178,190,190,190,190,190,190,161,174,166,154,198,178,173,182,171,175,187,188,188,175,188,188,188,167,175,162,175,175,171,184,175,175,175,175,178,178,175,175,181,167,170,170,175,182,176,170,175,175,175,192,180,180,186,186,175,176,175,180,187,175,185,175,176,208,175,185,185,164,200,175,192,182,182,182,182,182,191,174,178,178,166,166,166,166,160,170,199,199,199,199,197,197,168,191,191,191,175,175,175,180,192,175,170,184,165,181,175,166,166,179,184,180,180,175,175,182,175,182,182,182,182,175,180,188,177,187,168,195,187,159,159,175,175,205,175,181,167,171,175,158,175,175,175,175,173,200,200,175,175,180,175,175,185,173,175,185,178,188,159,175,175,175,181,161,178,181,175,158,175,170,170,170,170,170,195,179,179,183,183,183,183,183,183,183,183,183,183,183,183,178,175,175,191,191,191,175,175,175,173,175,175,187,160,160,152,175,193,175,181,175,172,162,168,175,170,175,185,180,175,175,175,186,180,160,199,172,165,181,165,182,147,147,180,180,180,180,175,176,176,170,168,185,185,185,184,174,198,186,175,188,165,188,195,192,193,175,168,169,175,180,164,175,175,175,168,168,168,175,175,176,176,176,192,192,175,175,183,188,188,175,157,191,191,170,187,187,180,180,192,172,172,172,190,175,178,168,168,184,168,200,188,197,197,175,159,187,187,183,183,185,175,185,175,172,172,172,172,173,173,173,173,173,175,168,171,171,171,171,180,175,175,176,175,154,185,185,185,185,186,186,174,175,184,184,185,175,180,175,175,180,192,192,192,175,164,164,164,164,164,164,164,164,178,178,185,185,175,183,176,172,170,170,170,175,174,175,175,180,180,183,175,161,161,175,175,177,199,199,199,170,180,175,176,175,175,175,175,175,180,175,175,171,156,170,164,164,164,164,178,178,178,178,175,175,185,185,203,165,165,162,177,184,189,197,197,182,188,157,175,178,180,182,170,180,165,175,175,186,164,164,177,162,175,186,182,175,174,169,168,156,161,178,189,189,189,189,178,173,175,175,184,175,169,169,175,175,175,165,188,160,158,169,158,163,151,170,170,167,167,167,167,167,167,167,167,167,180,166,175,153,195,158,158,158,158,158,158,175,175,184,188,188,192,181,181,175,180,180,180,175,175,203,203,203,175,175,183,188,188,185,175,186,186,170,170,175,193,193,193,193,175,175,178,177,180,182,182,182,181,181,175,186,175,175,188,160,160,160,178,178,178,188,175,175,167,175,168,175,193,177,165,169,192,179,181,181,175,180,180,180,165,165,165,175,180,175,160,160,160,160,160,160,160,160,160,167,175,175,173,177,177,182,175,185,175,175,175,163,168,157,157,157,157,175,159,179,175,175,183,205,165,175,175,164,171,175,178,178,177,146,185,175,175,175,175,175,183,183,183,174,183,175,194,186,175,159,170,170,170,170,186,180,180,180,180,180,175,175,167,175,180,177,192,162,162,175,172,157,195,170,186,183,175,175,173,173,181,181,181,177,169,179,190,182,181,172,172,172,172,175,203,203,160,160,160,160,160,160,160,160,160,185,170,173,185,185,175,193,193,193,192,177,186,163,174,160,160,164,174,174,175,175,165,165,173,187,176,182,173,173,192,173,173,181,166,166,175,181,181,199,192,169,175,173,173,173,176,176,175,188,187,175,181,157,175,170,187,187,187,178,185,185,185,185,183,183,188,188,167,194,194,184,185,170,180,180,180,180,180,180,178,178,164,177,172,172,187,187,182,163,163,167,190,176,176,201,201,186,186,172,150,150,150,176,180,157,157,180,180,162,162,173,173,173,173,175,175,175,171,174,175,175,183,188,174,175,175,178,166,175,175,197,197,179,179,170,170,194,178,178,199,174,175,175,172,179,172,175,170,178,175,186,190,163,163,163,163,175,177,198,198,175,156,188,191,185,167,160,160,169,178,183,165,185,177,180,168,168,168,177,182,175,175,175,162,165,170,170,182,175,187,182,182,182,190,187,170,190,183,174,174,174,175,191,183,173,180,170,170,170,175,175,175,175,175,190,175,175,173,173,185,185,175,191,180,178,168,168,175,193,177,177,156,184,175,164,164,164,164,164,164,164,175,172,172,167,168,195,170,170,170,176,175,175,167,187,178,175,174,180,180,180,168,168,160,179,175,176,169,183,175,175,175,183,180,175,175,175,166,186,172,175,180,170,177,175,175,171,172,185,185,190,166,175,155,155,201,175,175,178,175,172,181,181,181,181,181,181,181,181,181,181,186,179,179,179,175,175,175,178,181,178,195,175,175,175,180,180,185,181,181,181,175,175,166,175,180,175,173,175,191,191,175,175,209,207,187,193,163,163,175,175,175,175,175,175,175,187,187,175,175,175,173,175,186,171,175,178,178,175,175,175,175,175,175,169,176,176,193,193,193,193,193,193,193,175,175,167,167,185,185,196,175,189,175,175,185,175,179,175,180,172,172,175,183,185,202,202,175,182,177,175,175,175,164,164,175,175,175,170,175,175,175,175,178,183,183,205,175,175,170,170,177,186,196,175,175,194,178,178,165,165,178,175,187,175,183,183,183,183,183,183,193,193,169,180,176,176,175,175,166,166,172,172,166,166,166,175,187,172,172,172,172,172,172,172,172,172,175,175,175,175,168,180,180,180,175,175,184,175,175,175,175,175,175,175,175,175,175,175,175,175,169,173,182,182,182,182,173,175,175,180,172,175,175,175,179,175,175,175,175,180,180,170,170,170,170,175,175,175,175,175,175,175,186,186,186,192,183,178,183,175,183,178,178,175,175,175,175,175,175,167,189,189,178,178,175,171,175,175,175,175,173,188,186,186,175,175,175,157,175,169,175,185,175,175,175,173,175,192,173,173,185,175,175,175,175,173,168,185,185,175,185,183,183,183,183,183,180,175,175,175,175,170,170,175,182,183,173,170,175,193,193,193,193,198,198,198,175,175,175,175,188,173,172,176,175,166,176,173,173,180,180,180,180,175,175,175,164,183,202,175,170,178,163,161,175,172,171,175,175,191,175,201,193,175,170,176,183,201,201,176,193,169,190,180,180,173,173,179,200,200,185,189,175,175,175,175,185,192,168,182,185,184,175,157,174,196,175,185,185,170,164,172,176,188,172,172,186,171,185,185,175,198,176,170,170,183,183,183,172,177,175,183,196,175,175,175,175,175,184,170,177,171,156,156,173,170,175,175,175,186,180,175,173,165,175,163,175,188,165,175,175,150,190,207,194,164,164,164,164,175,180,180,184,183,189,176,187,190,182,182,182,191,175,177,160,175,175,175,157,158,175,182,182,182,182,181,181,181,188,178,175,194,180,175,175,175,175,160,171,190,178,175,200,175,186,169,169,180,180,180,175,181,181,196,175,175,168,175,175,174,186,168,180,180,178,191,191,191,164,175,175,165,165,165,175,190,183,183,175,175,175,175,173,175,188,175,154,154,175,175,175,175,175,175,189,190,188,188,195,180,165,165,186,180,185,185,175,175,181,181,175,178,187,171,171,171,171,192,175,190,175,189,179,175,175,197,175,175,175,175,188,188,188,175,161,161,175,178,175,152,152,176,176,175,175,175,175,164,175,175,175,197,180,180,180,175,175,175,175,175,182,182,172,175,186,175,175,180,178,175,175,163,172,172,173,175,175,175,173,173,175,167,167,200,188,164,164,164,164,164,164,164,164,164,179,178,178,185,170,188,177,177,174,192,167,188,168,168,168,168,192,195,170,185,165,165,175,179,168,175,175,175,181,170,170,179,194,194,165,165,165,187,190,175,179,194,175,170,190,170,172,181,175,175,175,165,165,169,174,174,174,174,175,168,168,178,178,158,172,165,165,175,175,193,180,200,177,170,170,183,175,163,163,163,163,172,175,203,165,175,180,175,175,172,172,152,152,175,170,170,175,183,183,193,183,179,179,177,177,174,174,174,155,175,175,180,180,180,180,186,185,185,175,181,175,184,172,172,183,165,165,165,175,164,175,178,173,173,172,177,177,199,175,175,175,175,167,175,175,170,188,166,168,175,175,180,175,175,164,177,174,175,175,193,170,181,181,181,193,193,185,175,175,187,175,185,185,162,175,189,189,189,173,173,192,192,188,188,175,175,179,179,179,179,160,160,160,186,186,164,181,181,181,171,175,178,171,165,175,175,175,185,183,185,185,185,151,189,189,175,167,173,174,174,183,175,175,155,178,178,175,150,175,162,162,162,162,180,180,180,200,200,200,180,210,210,176,187,187,187,184,176,205,169,166,190,196,175,184,177,177,177,185,185,185,185,185,185,185,183,200,200,200,200,170,197,165,159,159,191,191,175,172,175,175,175,175,160,160,198,175,198,175,175,175,175,175,175,175,181,182,182,173,173,175,189,194,175,190,190,190,177,187,187,187,187,187,187,187,187,187,175,175,175,175,175,175,175,175,175,175,175,175,175,175,175,175,175,193,175,175,175,172,175,175,175,163,175,175,178,178,178,178,175,187,175,175,175,175,175,159,159,175,175,175,175,180,175,202,202,158,169,169,169,174,174,177,177,144,185,170,170,170,170,170,170,170,170,170,165,164,164,164,164,174,193,164,164,172,162,175,169,169,178,175,170,186,175,186,174,175,168,195,195,195,195,178,175,162,183,166,217,217,175,175,189,175,188,186,175,175,179,163,163,187,187,187,183,192,192,167,167,197,197,196,175,175,175,212,164,164,164,194,194,192,175,186,193,200,202,202,168,179,174,174,174,156,162,162,170,161,175,166,164,164,164,182,169,179,200,193,193,175,175,175,175,167,165,165,160,175,185,182,182,175,175,186,186,179,179,179,179,179,179,164,164,180,190,175,175,175,171,171,171,175,175,175,184,184,170,197,197,175,175,155,155,166,166,177,175,175,186,188,176,176,174,174,173,176,192,180,183,183,165,191,191,175,193,179,179,170,170,170,175,178,180,190,190,175,173,183,182,184,175,175,174,174,175,175,183,175,167,165,195,195,195,195,170,175,175,176,184,160,173,173,188,188,188,198,198,188,175,175,192,190,190,190,175,187,175,165,175,176,176,175,175,175,188,188,175,175,175,166,166,170,175,180,175,168,168,168,175,174,183,201,193,188,188,188,177,185,191,191,191,191,163,172,175,175,175,181,175,175,170,178,180,180,167,191,175,187,169,181,181,177,180,175,175,184,185,175,180,180,172,175,152,152,152,175,174,164,178,157,169,169,169,177,170,171,185,185,175,175,175,175,175,156,171,166,166,168,177,187,155,155,186,162,162,180,190,168,181,181,174,162,163,192,192,192,192,167,167,167,167,167,167,167,150,173,172,166,166,166,166,166,191,164,164,164,169,172,176,137,137,170,182,140,170,189,174,174,174,174,174,174,178,190,172,180,180,183,178,182,175,185,163,189,189,172,175,185,170,170,168,168,173,176,176,176,168,168,168,168,175,189,175,153,188,188,188,188,185,185,175,187,173,170,185,176,175,175,173,173,178,181,175,185,175,175,175,185,170,170,175,175,175,190,175,175,175,175,194,180,180,167,185,185,185,185,175,175,186,173,183,175,168,175,160,170,178,167,185,175,175,165,175,175,178,175,150,184,175,165,172,177,175,175,175,175,159,159,184,190,190,175,175,175,184,183,171,175,175,175,175,174,174,174,174,187,175,175,175,185,172,172,163,183,157,195,174,174,174,165,188,176,176,173,175,180,175,175,180,174,174,176,176,176,176,180,175,175,169,169,191,161,161,173,193,193,175,175,188,188,166,166,166,166,190,175,175,178,183,175,160,160,160,160,160,175,175,175,178,178,178,178,190,190,190,190,175,175,180,189,175,175,175,175,175,175,175,175,177,179,175,165,165,183,183,183,175,175,165,167,167,170,182,182,175,175,170,170,178,178,167,175,187,187,163,176,176,176,185,176,176,176,154,154,180,193,175,175,163,200,168,184,162,175,175,175,175,175,175,196,196,191,175,175,175,180,175,188,188,188,188,178,166,175,218,165,177,167,181,175,174,174,175,175,177,168,175,175,170,170,170,170,175,185,185,178,166,166,175,175,175,175,175,175,175,178,178,186,175,195,195,181,175,175,175,175,185,188,183,183,183,183,183,182,183,183,193,185,175,175,163,175,184,184,184,190,180,173,181,179,179,188,188,188,175,171,171,170,170,170,186,175,181,168,199,199,183,167,167,184,184,184,184,175,192,192,175,184,184,163,191,191,182,182,175,175,167,187,193,179,179,175,175,165,165,165,165,167,150,168,175,178,188,175,175,175,175,191,190,174,174,190,175,175,183,175,175,169,169,169,169,169,169,169,169,169,169,175,176,176,175,175,175,185,185,196,192,192,200,193,193,175,175,191,207,204,175,191,191,186,175,191,174,178,175,191,175,175,175,167,186,175,174,174,175,175,175,172,175,175,175,175,175,175,175,175,170,195,195,186,186,171,171,171,183,175,156,189,175,175,175,175,183,180,188,191,175,187,160,160,160,175,175,175,171,175,172,165,168,168,171,171,175,172,175,185,190,175,175,183,191,175,161,180,175,172,172,180,183,183,175,175,175,165,165,175,175,163,163,175,175,175,180,163,163,185,185,185,185,185,177,177,175,175,167,167,167,167,167,175,170,180,193,175,175,175,175,175,175,175,175,166,175,175,175,197,197,175,167,185,174,174,170,161,161,161,172,172,172,175,175,187,187,187,178,178,178,178,178,172,172,172,170,170,170,170,170,174,163,175,180,180,180,179,175,175,157,177,173,194,192,168,168,173,173,180,180,180,180,178,185,170,175,175,175,200,179,179,178,180,160,173,175,175,187,191,191,191,182,175,192,175,175,175,175,201,175,170,170,170,185,175,190,190,190,190,190,190,190,190,198,175,175,184,173,175,175,175,175,175,167,183,185,184,178,178,175,175,167,175,160,180,179,179,201,188,175,193,180,163,163,180,175,175,173,173,173,173,173,173,173,163,190,148,148,175,188,175,175,180,160,175,175,182,182,182,175,175,175,175,175,175,193,193,175,173,173,188,168,180,166,166,175,170,175,169,175,175,175,175,175,165,165,185,176,180,173,185,183,193,175,183,175,162,178,172,172,165,191,191,175,182,175,188,183,188,172,183,189,177,160,160,160,189,166,153,175,188,173,170,170,175,178,178,185,175,175,175,175,175,175,175,167,170,170,170,189,189,165,190,180,185,185,185,185,185,185,170,176,183,183,170,168,168,168,168,168,170,175,187,175,177,175,183,183,170,201,201,201,178,173,200,175,175,183,175,184,178,178,178,178,175,163,178,182,195,195,190,190,165,175,162,162,183,175,175,182,173,173,175,203,197,197,170,179,179,163,184,177,166,198,171,175,191,170,158,169,167,182,183,175,165,175,175,175,165,175,177,177,175,190,176,187,175,178,178,180,185,185,185,185,188,178,175,170,175,180,180,174,174,174,174,174,174,174,195,183,183,184,178,175,175,175,194,194,194,194,175,175,194,181,189,177,176,178,182,182,171,149,176,176,176,181,181,180,175,175,183,177,175,194,194,194,184,178,185,179,165,165,180,175,175,174,172,172,172,167,167,167,175,184,178,178,170,170,166,175,175,178,173,173,175,175,186,186,186,175,194,194,170,170,188,194,197,172,172,172,170,170,170,175,184,172,175,175,175,172,180,180,178,175,176,198,184,165,179,179,180,185,175,175,183,176,208,187,175,173,187,170,175,175,175,201,175,178,175,175,175,162,182,173,178,177,177,177,175,175,167,167,175,193,180,190,175,175,175,183,178,178,173,175,180,171,171,178,178,183,183,175,185,165,173,190,176,179,169,180,172,175,175,189,175,184,184,184,184,175,188,188,175,175,171,187,175,175,186,182,183,183,175,175,166,166,192,175,178,176,181,180,173,174,177,177,190,183,150,203,175,175,168,168,168,168,173,173,173,171,175,178,191,175,175,170,173,175,163,175,175,174,174,189,175,173,170,175,175,175,175,175,171,170,176,176,173,173,192,192,195,195,182,182,177,169,188,165,162,163,167,167,157,152,167,167,167,167,167,167,167,171,182,158,152,153,153,174,168,186,182,173,169,180,183,185,185,170,172,173,204,177,175,168,168,168,168,168,168,168,168,170,172,175,182,182,168,168,175,178,178,178,159,175,175,175,175,182,183,183,183,175,162,183,175,169,184,169,193,180,175,175,210,182,178,158,158,163,165,165,163,177,163,163,163,172,178,171,168,166,166,166,166,166,183,156,182,182,188,174,176,176,178,187,169,168,176,176,166,165,158,168,180,166,162,173,195,195,160,190,181,193,176,180,190,171,165,167,175,162,184,186,175,180,180,201,186,175,194,194,190,190,171,171,165,198,168,172,165,165,161,167,177,152,176,167,171,171,161,170,170,178,178,168,159,159,171,171,171,171,171,165,165,170,172,180,162,162,180,171,192,168,171,159,193,175,178,184,175,180,190,159,183,183,174,165,162,158,175,175,183,167,172,172,160,160,160,160,160,178,178,178,178,178,150,182,182,181,181,179,179,173,166,166,166,166,166,165,165,165,165,165,166,150,150,150,165,175,175,158,166,151,174,165,172,173,166,164,160,186,178,186,172,181,181,184,190,190,179,191,191,189,181,186,168,193,181,178,178,163,168,168,168,173,173,175,175,196,196,178,178,178,151,175,175,205,187,182,185,184,184,167,167,167,167,167,167,167,167,167,167,167,175,175,155,155,175,175,175,175,175,183,169,178,175,190,175,175,175,155,175,175,188,165,175,175,165,173,176,176,175,169,169,169,169,170,170,183,200,200,184,185,175,175,175,175,175,180,180,185,194,182,172,190,190,167,140,165,165,162,162,162,165,170,170,170,167,181,170,170,170,170,176,179,185,169,169,200,153,194,194,174,175,175,172,172,164,164,174,169,175,172,158,158,175,183,160,160,168,182,168,162,167,183,183,183,178,175,178,180,167,175,157,157,157,157,172,161,165,165,177,175,175,165,165,162,175,184,195,165,165,175,190,182,175,160,194,178,178,175,185,163,163,163,172,193,175,183,165,163,163,163,163,183,158,171,163,169,175,172,164,164,166,166,166,166,155,178,178,178,182,175,165,166,166,173,173,164,172,168,201,179,167,168,167,160,166,164,178,175,175,167,167,167,162,162,183,168,178,170,170,170,175,165,175,195,195,201,175,175,175,180,180,173,171,175,170,175,180,171,165,174,190,190,190,168,157,157,157,175,175,175,164,164,170,178,168,168,194,180,175,175,166,166,166,175,175,175,175,173,176,170,176,176,175,172,176,187,187,174,175,173,173,173,173,180,175,176,174,174,190,180,186,170,168,175,165,200,200,180,177,177,173,178,180,146,180,180,179,179,173,173,171,171,171,175,164,184,169,169,170,174,154,154,154,154,160,175,179,179,158,175,175,175,175,175,172,183,193,175,175,176,176,180,180,176,184,189,189,173,156,156,178,167,167,167,174,170,175,175,180,162,175,174,174,178,175,175,175,186,175,179,172,168,175,184,195,188,175,175,181,182,204,190,190,182,182,182,182,182,183,183,175,174,174,174,172,167,181,181,180,179,187,178,178,175,204,204,179,179,191,191,191,177,168,168,168,168,165,170,175,189,189,189,175,195,169,178,190,175,186,175,175,170,170,175,168,168,182,182,185,175,183,185,185,185,185,185,185,185,170,183,183,169,172,160,183,175,175,175,175,186,158,170,175,192,178,178,178,165,165,165,211,190,165,185,185,185,185,167,183,183,180,168,189,189,182,186,186,186,188,170,170,164,176,193,173,173,167,167,165,172,163,181,174,169,160,176,178,178,178,178,165,169,169,169,175,175,189,162,180,180,183,183,183,148,175,175,174,187,174,163,172,173,183,183,183,183,183,151,161,161,171,170,188,178,176,185,171,158,162,172,168,168,168,168,182,180,200,177,177,177,176,170,168,196,196,188,174,173,173,173,155,175,175,175,207,207,182,182,182,181,190,172,186,186,173,204,204,164,158,172,172,188,207,207,188,186,170,187,178,178,166,166,190,190,180,164,190,168,162,156,175,158,175,162,155,152,181,181,182,182,165,180,180,162,165,165,165,165,187,193,168,177,179,183,183,198,173,173,172,172,172,172,187,156,173,176,176,176,164,164,164,163,175,175,180,168,174,175,186,180,173,173,175,170,173,160,160,160,179,189,178,174,156,160,168,168,168,168,168,168,204,204,208,174,178,162,168,173,173,178,178,178,178,175,170,170,175,180,173,191,191,191,191,172,190,170,170,183,183,183,183,183,169,172,169,164,169,182,165,187,187,192,175,178,178,180,186,180,210,210,210,195,173,163,163,178,160,160,186,139,187,180,188,188,173,173,180,176,173,181,181,181,181,181,181,169,173,173,175,175,173,180,201,175,200,179,187,187,193,175,201,175,175,184,184,184,158,158,158,158,158,158,165,165,165,183,157,164,188,174,187,190,190,190,176,174,174,174,182,177,173,183,189,189,189,189,202,202,186,175,185,175,158,158,158,158,158,175,198,186,218,218,201,175,175,175,198,175,175,193,176,179,183,183,185,175,175,175,175,175,188,176,182,186,175,183,183,172,182,178,172,167,175,189,200,200,175,181,175,197,197,168,168,168,182,171,171],\"xaxis\":\"x\",\"y\":[71,71,71,85,64,64,64,64,64,85,85,85,85,85,85,85,85,71,71,71,72,64,71,71,71,71,71,90,87,49,80,83,86,86,86,82,83,55,82,67,60,85,79,71,71,96,96,96,90,90,90,97,97,97,71,87,70,71,88,56,80,59,91,72,62,63,55,55,104,84,125,64,50,71,102,71,48,62,71,71,71,71,58,78,78,84,71,40,82,68,62,62,62,62,62,78,78,92,87,88,88,88,64,84,75,75,71,61,71,89,60,65,93,77,68,68,68,68,46,81,62,40,104,82,71,67,52,73,75,54,57,63,72,72,71,68,71,69,69,69,99,99,99,99,104,72,91,71,60,71,83,95,71,71,78,78,78,71,71,78,78,51,51,78,78,81,69,120,120,120,87,71,58,79,71,82,80,74,74,78,65,70,70,110,71,71,80,71,72,62,71,71,71,71,71,71,71,70,70,70,70,100,100,100,100,100,100,100,100,100,61,61,65,87,82,48,88,62,70,75,76,104,40,40,93,93,80,66,71,80,80,80,58,58,90,90,90,67,67,67,75,62,71,71,71,71,71,71,71,74,70,64,67,50,64,47,67,73,57,69,78,75,71,90,71,71,71,80,80,71,71,72,64,88,52,52,52,71,62,67,62,75,70,61,70,70,61,71,66,66,66,85,97,70,50,102,102,60,60,60,71,74,107,75,53,53,53,53,55,85,71,90,90,90,90,90,84,71,85,71,71,65,65,65,71,88,45,79,93,93,93,75,62,57,81,81,81,74,74,71,64,57,57,62,71,71,71,68,125,80,55,55,55,55,55,56,79,120,87,52,79,61,65,77,84,80,61,79,79,105,105,57,109,80,74,58,67,67,100,62,88,81,82,95,95,95,70,57,63,67,83,69,72,55,74,52,73,73,81,85,67,80,84,84,84,84,84,71,156,75,75,82,71,71,71,75,90,71,67,83,66,71,71,57,64,67,71,71,79,87,76,63,63,71,71,71,75,59,75,71,58,58,130,130,130,69,89,81,81,81,89,83,83,98,98,160,160,50,96,96,85,85,71,71,60,71,58,74,69,73,73,71,71,52,81,74,74,88,90,62,69,74,71,92,92,71,77,77,77,56,69,65,71,61,69,48,71,71,72,72,71,71,110,71,80,80,71,106,106,75,48,57,71,71,71,54,68,63,93,72,68,68,71,95,86,53,65,71,93,71,71,71,69,71,98,98,59,59,59,72,71,71,73,71,71,71,71,71,59,60,63,69,83,83,70,71,71,71,73,73,71,71,70,80,74,65,52,51,82,82,82,82,82,82,64,64,64,78,60,60,71,92,72,70,64,71,71,62,72,71,97,60,60,70,70,83,83,88,71,71,91,71,71,71,71,63,60,146,71,71,44,44,44,44,44,44,44,71,71,69,67,73,75,73,74,74,80,67,78,78,71,63,87,87,90,90,68,85,77,70,71,70,71,90,71,74,87,71,73,86,91,55,55,55,55,71,71,78,91,71,71,55,62,60,71,71,71,55,71,77,71,58,71,71,71,70,71,71,88,88,70,85,84,66,78,67,62,74,62,52,52,48,65,65,65,65,65,65,65,65,70,70,70,70,65,73,68,71,80,52,81,65,65,84,71,77,97,71,71,104,73,71,71,70,71,86,56,71,65,65,71,71,71,71,71,71,71,71,71,71,71,71,71,71,71,71,82,72,64,75,71,71,60,70,71,73,71,75,71,53,77,95,95,64,61,104,71,86,71,86,77,77,75,68,54,80,97,89,100,71,71,86,141,72,77,89,77,77,71,71,71,86,68,68,68,68,68,68,68,71,71,72,71,63,71,71,68,74,71,93,71,71,69,69,63,63,61,105,71,58,80,80,80,95,73,88,92,95,71,71,71,83,83,71,77,71,71,71,71,71,71,71,53,125,125,59,57,60,89,71,72,77,77,79,68,85,85,71,82,61,60,60,88,118,101,101,65,65,71,73,71,71,71,74,71,76,76,76,54,54,71,71,85,59,62,62,71,71,71,70,90,58,85,71,60,60,60,60,60,60,60,60,60,60,60,60,60,60,60,70,91,91,92,92,82,97,75,59,70,72,75,81,71,85,63,48,48,86,70,73,73,73,73,73,72,72,72,72,64,100,71,71,71,70,63,94,63,71,71,71,70,70,65,52,52,52,52,82,82,52,52,71,71,71,71,79,65,65,98,98,98,71,76,71,95,105,96,96,71,60,60,71,71,71,72,73,71,71,71,71,71,71,64,71,66,82,52,109,109,109,109,71,54,73,52,59,71,71,71,84,82,71,71,71,69,70,70,88,97,80,95,95,78,100,100,79,83,84,64,64,69,69,69,69,63,71,71,71,66,63,58,58,120,105,79,86,86,62,62,62,62,67,67,50,67,78,69,49,71,65,86,59,59,71,80,80,80,72,62,77,73,71,71,71,69,92,62,64,71,71,71,50,78,67,75,98,120,120,82,60,67,75,75,75,75,70,64,72,68,96,71,71,71,86,88,77,68,70,74,74,60,71,71,66,66,71,71,71,63,63,49,71,66,71,71,65,47,47,81,71,71,78,63,65,77,77,85,71,74,74,74,79,64,64,55,76,70,77,77,71,62,74,74,125,71,59,71,58,58,58,77,66,76,93,71,59,59,59,71,71,82,79,71,87,83,83,71,71,50,71,78,71,71,71,74,71,102,100,64,58,58,64,85,69,97,75,75,75,75,71,78,71,71,71,71,56,63,63,63,63,63,67,74,71,71,71,71,105,71,87,68,62,50,49,76,85,85,60,71,68,68,71,71,71,82,69,71,92,82,80,74,74,71,71,76,71,66,55,52,52,52,52,52,70,77,74,64,75,57,71,60,71,65,70,71,74,79,56,48,71,72,79,72,71,71,84,71,52,71,59,56,56,56,56,56,56,56,56,56,56,120,120,82,81,71,84,71,71,71,57,70,78,71,71,93,75,71,73,73,73,74,82,71,65,71,76,76,91,71,74,85,85,95,71,97,66,66,66,51,65,65,94,71,75,95,73,58,58,58,71,71,57,57,57,71,71,54,54,54,87,86,77,71,71,74,74,74,88,85,72,71,71,71,88,75,75,56,56,56,71,75,71,71,77,85,51,71,71,82,71,68,61,61,61,61,71,89,89,61,84,72,72,66,67,69,74,86,88,86,74,74,71,72,75,75,47,47,71,71,81,71,66,97,97,57,59,59,59,59,49,86,86,84,63,63,70,67,71,60,60,64,64,72,72,72,72,68,74,74,80,90,67,71,71,73,59,59,59,68,71,68,64,78,65,90,90,76,69,69,69,69,86,60,69,62,62,84,84,67,67,67,67,67,67,67,67,67,66,58,75,70,70,73,80,80,83,121,91,55,87,92,92,71,66,89,65,71,54,70,90,90,71,71,70,71,64,63,76,57,71,89,100,77,102,102,102,71,93,64,64,64,64,71,95,89,71,77,69,85,62,84,84,79,84,71,71,88,78,68,76,90,90,71,68,71,75,71,75,56,91,64,66,90,71,71,100,85,85,90,90,68,76,135,93,69,75,88,69,71,87,71,93,55,55,71,71,71,61,58,65,70,64,56,71,73,73,82,82,71,71,65,111,84,84,78,85,71,71,58,58,67,65,67,67,66,39,43,71,89,89,67,77,58,71,68,71,71,89,68,68,62,61,61,90,71,89,71,72,72,72,72,109,65,82,73,72,80,52,71,71,75,75,52,73,72,91,51,71,71,71,85,72,72,93,93,96,96,88,71,71,71,100,78,78,73,73,73,73,73,89,71,71,82,70,71,62,66,40,51,71,77,77,96,96,71,78,80,83,83,83,77,70,58,69,69,69,95,63,120,120,70,70,70,71,71,71,71,71,71,71,73,73,71,72,71,71,71,70,67,73,65,76,85,71,71,59,75,68,71,71,92,71,99,71,81,75,36,90,95,70,71,71,71,82,82,73,76,52,71,71,100,100,100,71,71,69,93,71,70,67,79,75,75,74,95,77,95,87,87,76,60,94,65,80,80,59,71,71,71,86,86,94,67,71,71,98,85,85,67,56,70,71,71,77,82,82,73,72,63,60,60,86,58,76,71,71,85,56,77,78,71,71,80,71,74,82,82,82,84,56,71,75,76,71,71,114,114,61,61,61,91,91,79,53,53,87,65,77,77,71,102,109,75,75,68,49,49,132,132,71,71,86,75,64,83,83,71,71,80,70,120,120,60,78,95,59,59,59,59,59,59,66,63,71,70,78,78,75,71,64,71,71,73,99,99,88,88,71,71,71,53,56,58,58,89,64,60,72,71,75,70,70,100,100,80,85,65,65,71,71,45,73,73,71,71,90,55,58,82,64,64,70,70,78,72,71,90,71,68,48,71,71,71,71,71,80,80,71,71,84,63,72,71,90,90,90,91,71,71,79,79,79,79,84,64,64,67,67,60,75,71,52,62,67,67,130,130,67,82,66,74,71,84,97,85,85,80,71,71,65,73,39,90,90,66,94,97,97,97,97,71,71,59,74,76,71,73,73,90,62,71,70,70,65,65,84,79,79,70,86,85,85,71,71,68,67,89,89,89,60,71,71,74,57,70,90,71,71,71,61,61,91,82,82,82,60,60,47,69,66,66,66,66,66,81,82,81,71,71,71,71,71,85,71,71,73,73,73,71,76,71,50,72,71,71,61,61,61,43,79,100,100,100,100,71,71,86,77,68,100,80,80,62,62,71,69,69,71,65,84,77,61,130,130,130,130,71,74,74,71,88,59,95,69,91,68,71,57,70,60,60,71,71,71,71,71,71,78,77,71,59,52,90,90,84,71,68,78,78,59,59,97,70,70,75,70,72,70,70,70,89,71,71,78,78,71,71,70,82,59,59,59,59,59,59,59,42,84,79,75,87,71,71,71,71,87,100,81,71,56,94,70,71,71,81,81,65,65,65,65,65,65,91,71,69,69,88,88,78,78,54,54,63,63,100,66,83,48,88,71,56,56,75,76,76,72,71,71,75,66,82,82,71,76,78,85,65,79,83,72,63,91,78,78,59,59,85,65,71,71,71,71,73,73,73,78,63,59,57,71,62,62,52,71,77,77,77,77,54,54,54,61,71,88,80,70,92,71,71,62,88,74,67,85,85,85,85,85,71,71,97,71,71,66,84,84,70,71,58,71,99,64,64,67,67,67,73,57,62,69,87,87,87,87,82,60,60,60,70,70,70,70,75,64,71,88,71,71,71,73,71,71,61,52,52,80,71,71,90,68,68,71,72,60,78,62,62,56,56,56,56,65,55,71,75,75,93,84,89,89,71,64,71,43,63,95,100,52,67,62,62,72,85,59,59,80,55,73,73,87,71,71,71,65,77,68,58,57,57,73,73,73,87,59,66,66,98,92,78,78,71,89,82,69,71,71,56,73,73,71,45,45,45,45,45,45,45,45,45,45,59,59,59,59,71,52,57,57,90,71,60,60,60,78,86,46,46,100,100,71,82,82,82,82,92,52,62,58,58,60,82,104,104,71,53,74,69,71,60,55,55,71,71,91,91,91,65,66,82,70,97,80,80,54,91,70,71,71,71,71,60,96,96,96,71,71,71,80,80,81,48,48,48,71,71,71,61,71,78,78,67,67,71,71,71,47,47,70,90,80,59,74,74,74,68,94,104,100,79,77,78,78,78,78,98,57,57,57,71,71,71,71,71,68,75,89,70,71,71,100,64,68,64,64,66,46,81,61,85,67,67,50,71,71,75,75,84,83,67,63,55,81,81,81,81,86,79,73,51,51,71,71,71,71,71,71,76,96,93,93,93,75,83,71,71,71,71,71,71,71,64,64,105,97,97,61,61,42,42,71,71,94,94,71,58,58,61,61,61,61,77,77,71,71,71,71,71,60,92,67,71,71,71,59,59,59,73,71,76,116,104,82,56,56,56,56,76,76,88,88,71,86,66,71,71,71,71,80,80,78,64,71,99,71,71,71,71,84,77,71,71,71,83,83,59,73,73,63,71,71,75,71,92,64,72,71,70,70,70,70,70,70,70,80,80,95,71,71,48,48,70,89,71,71,90,90,90,90,55,77,71,71,94,80,71,71,71,72,73,71,53,71,70,71,62,77,77,77,70,70,68,68,71,94,66,71,71,71,71,71,71,69,71,71,71,71,71,71,71,71,71,71,71,71,71,71,70,71,67,71,83,79,63,79,71,71,86,82,66,68,79,50,71,58,71,70,91,55,59,59,67,78,58,75,75,77,71,51,51,75,62,64,71,71,71,72,93,76,71,58,71,66,71,70,71,62,66,71,80,80,71,71,71,71,96,135,135,108,55,60,60,75,71,88,70,49,49,43,68,72,72,54,35,70,66,66,46,46,70,70,70,71,71,71,71,71,71,71,82,52,76,91,91,78,71,86,71,95,84,84,71,62,71,65,72,72,71,56,60,73,73,70,70,70,71,67,83,110,117,117,95,103,86,66,66,71,71,79,99,61,61,61,75,85,73,57,57,57,75,71,99,43,71,47,47,47,47,47,71,71,71,71,60,109,71,71,71,71,71,53,76,76,100,70,70,70,70,64,86,86,87,69,70,47,71,70,71,75,71,71,71,71,71,71,95,95,95,95,95,95,95,95,95,95,95,71,77,96,95,95,104,70,71,71,71,50,100,66,66,66,66,72,62,71,71,71,71,75,87,68,102,102,102,96,96,96,71,47,81,65,81,81,71,71,64,77,71,85,85,86,85,85,102,71,71,80,58,58,86,85,85,66,71,77,65,65,71,71,74,74,71,71,71,71,71,75,58,86,71,71,71,71,87,87,64,64,64,64,64,64,64,64,64,64,83,73,65,65,65,65,65,65,65,65,65,65,65,65,65,71,71,71,71,71,71,75,71,60,80,80,55,79,79,79,71,71,54,71,71,71,78,68,69,79,71,71,52,82,64,64,57,59,59,59,59,59,59,76,71,141,72,71,70,102,80,80,80,80,90,75,71,49,49,78,78,71,90,50,94,94,64,64,71,63,63,63,63,92,81,71,57,57,71,97,120,71,54,68,71,57,54,88,88,71,71,71,57,54,71,87,89,68,95,68,68,82,70,71,71,71,71,71,71,76,68,68,51,51,71,76,76,81,68,68,68,71,74,74,81,81,81,71,71,80,71,71,71,71,89,71,71,73,86,86,86,86,86,58,58,87,71,50,50,81,71,60,70,70,71,71,71,71,71,66,71,71,32,65,65,79,49,72,63,63,93,79,71,71,71,71,71,71,71,57,71,78,55,55,71,40,71,71,71,71,71,71,89,89,71,48,71,77,102,74,72,58,85,71,110,71,78,78,78,78,68,72,71,71,71,71,71,75,80,72,72,64,69,71,71,71,71,70,69,71,71,69,57,58,58,71,71,71,71,71,73,73,71,66,99,52,97,97,87,87,75,71,59,78,44,44,44,44,44,68,71,64,64,64,52,59,54,89,70,108,54,54,71,71,71,71,83,72,82,71,71,98,98,80,71,71,71,70,80,80,80,68,52,75,76,83,83,71,70,71,71,71,65,71,71,71,65,79,75,75,75,75,72,72,72,72,71,71,71,63,63,48,66,74,74,74,71,88,71,105,64,95,95,95,95,95,95,95,95,71,71,71,71,71,68,68,71,71,73,71,61,71,110,110,71,95,94,95,71,69,71,89,89,74,113,113,58,58,77,42,71,71,71,71,71,71,77,80,95,60,60,60,63,71,71,90,71,85,61,105,146,146,60,71,71,76,64,71,81,74,71,71,85,85,85,85,84,84,84,84,71,71,71,72,71,79,72,72,71,63,57,57,57,63,63,81,64,64,65,49,75,71,71,93,78,78,68,71,66,99,117,117,73,100,71,68,94,84,89,70,70,70,63,65,81,81,71,68,71,91,68,100,87,73,71,71,71,71,71,71,71,98,98,98,98,99,71,87,71,85,85,85,95,64,71,71,71,92,68,83,71,71,57,71,64,75,74,77,77,77,77,77,104,88,88,95,95,95,76,76,83,83,75,69,59,71,76,76,76,78,80,71,89,82,71,80,55,55,55,95,72,88,70,71,80,80,80,80,80,92,83,83,49,85,69,62,59,59,59,59,79,79,79,70,70,70,71,71,71,71,74,90,88,104,75,87,71,96,82,86,71,71,84,71,71,82,71,75,96,80,74,74,74,71,71,59,78,69,68,71,71,91,61,60,49,49,71,71,71,71,99,87,87,80,80,56,70,84,71,72,72,72,72,82,71,71,71,71,68,73,73,73,73,67,61,61,92,71,71,71,71,71,61,70,70,71,73,60,71,71,49,71,71,71,103,78,79,89,65,65,77,77,77,71,75,71,71,70,71,95,72,72,86,69,60,78,71,72,71,71,72,72,71,71,95,68,68,71,71,90,90,74,83,78,78,75,92,95,71,99,74,67,71,58,58,58,71,63,57,90,71,67,67,67,98,64,60,60,60,80,80,79,95,71,95,72,86,63,86,57,57,57,56,71,66,95,77,74,48,48,71,75,71,71,71,71,71,71,90,77,71,71,71,76,70,70,71,71,71,73,73,71,70,71,71,88,88,88,94,94,71,71,71,71,71,80,80,116,116,74,93,91,79,71,86,71,71,89,57,71,71,71,71,71,71,71,71,135,83,71,60,60,82,73,70,82,68,75,79,50,93,71,71,71,60,71,71,86,58,62,71,71,71,83,71,71,74,103,76,76,64,64,71,71,64,71,65,71,71,44,44,71,68,81,81,68,68,68,90,90,71,65,71,71,58,71,75,108,70,71,78,70,71,71,71,72,68,61,60,60,64,73,83,83,83,83,68,68,80,71,63,63,57,57,57,57,62,71,71,71,71,71,67,78,71,65,67,69,71,71,92,92,92,71,71,71,71,71,98,79,79,71,89,71,71,61,88,79,79,60,53,75,63,63,68,71,81,81,100,96,100,71,71,59,71,52,52,52,98,89,71,71,64,71,84,97,88,71,71,73,116,90,90,90,71,57,57,81,67,67,83,85,63,79,75,75,75,79,79,76,71,79,62,62,62,62,70,68,68,71,80,94,70,71,88,71,71,71,100,80,87,71,52,59,90,60,60,60,71,71,71,71,71,79,70,95,95,71,84,84,62,71,77,85,85,71,71,71,71,80,80,70,77,71,71,71,71,101,62,62,62,92,71,65,83,83,71,73,111,71,71,96,96,96,79,79,71,71,64,64,71,71,71,71,54,54,54,71,71,79,70,79,71,70,58,58,88,81,73,75,71,79,59,59,59,71,74,67,89,71,57,75,75,75,75,75,71,94,114,70,70,75,75,66,71,70,71,61,106,72,72,67,56,71,72,92,73,100,100,61,64,93,73,84,75,71,71,76,71,57,100,59,71,71,71,71,70,70,70,70,71,71,71,71,71,73,73,45,65,140,57,65,65,65,65,65,90,90,71,71,86,75,61,64,75,71,71,71,71,71,71,48,79,79,60,70,71,71,71,86,80,74,73,73,70,70,70,79,52,52,71,71,71,71,58,71,71,71,74,71,71,59,76,76,76,71,71,71,79,71,55,55,67,71,71,55,55,55,71,71,71,71,71,71,92,92,87,87,87,109,61,100,100,71,71,71,71,57,71,88,71,71,71,74,79,63,63,63,63,63,71,71,71,72,75,79,71,71,71,57,81,71,80,89,71,72,89,95,71,77,77,71,65,58,71,71,71,71,71,71,71,71,71,74,90,74,71,71,71,56,71,71,71,71,93,93,71,84,71,71,71,71,73,92,76,71,85,85,93,100,71,76,78,74,81,68,65,65,71,60,85,62,82,82,120,71,71,51,71,75,75,71,73,73,73,71,84,93,93,93,71,71,51,90,85,85,85,63,63,75,55,71,73,67,71,71,66,66,66,71,71,101,71,89,71,92,108,85,71,82,62,62,65,70,82,82,56,71,48,76,86,86,57,57,70,70,60,76,85,71,71,49,71,71,71,90,73,71,80,71,62,48,48,63,71,89,89,98,71,82,86,86,84,84,76,76,76,76,71,71,71,71,71,82,95,71,71,71,93,92,70,70,62,62,70,70,70,115,115,71,81,60,68,68,63,93,82,61,61,49,95,78,78,78,66,66,85,71,102,82,82,73,78,71,71,90,71,72,68,70,70,73,49,58,91,91,100,82,73,71,55,55,82,71,79,91,71,71,71,84,70,70,70,70,70,81,71,74,74,74,74,71,74,62,74,72,66,75,75,75,75,75,80,84,52,67,67,71,71,115,115,58,57,102,102,102,95,71,58,100,71,69,97,86,72,72,71,71,71,71,99,75,71,71,100,83,70,70,71,71,83,60,71,71,82,81,65,58,91,71,71,71,66,83,71,71,75,75,71,71,58,61,74,74,73,73,59,62,61,61,64,75,88,71,71,93,93,65,71,65,67,60,60,60,80,70,71,38,71,47,47,69,76,70,59,71,71,65,65,71,71,71,77,82,78,71,71,73,73,71,71,71,64,60,60,60,60,54,54,86,99,68,68,63,48,60,68,68,55,71,86,83,83,81,81,52,68,82,71,71,71,50,86,86,86,86,86,88,60,64,73,73,71,77,77,77,77,63,102,90,70,88,90,96,90,90,90,71,79,70,85,85,81,61,84,89,71,75,78,75,75,71,71,86,51,75,86,86,58,48,48,48,77,71,85,85,71,71,71,71,86,69,71,57,57,70,98,77,63,63,71,71,74,79,71,79,71,71,59,58,59,71,80,98,90,90,101,101,101,71,80,75,96,58,66,66,66,67,67,67,67,67,71,90,71,83,83,71,71,77,71,71,94,89,89,84,71,94,94,89,89,77,71,58,58,58,58,58,58,58,58,71,71,49,49,71,80,80,80,80,51,71,81,81,81,60,60,71,71,71,93,71,71,71,71,82,80,71,71,71,94,71,71,71,60,81,71,71,154,75,71,42,42,42,73,55,55,64,78,71,73,51,51,60,62,71,71,71,71,72,71,70,72,71,61,57,55,77,71,72,60,48,59,91,54,54,73,71,71,83,67,63,45,71,71,82,82,82,71,71,71,71,71,93,71,71,71,71,71,71,71,71,71,71,71,71,71,71,67,97,97,56,56,56,71,71,68,71,71,57,57,79,85,61,71,71,71,71,71,71,71,71,71,91,71,110,73,71,80,79,71,68,68,65,51,75,86,73,71,75,71,83,83,76,66,82,82,82,71,71,71,72,71,71,70,100,102,73,71,59,71,66,66,71,52,52,71,71,84,84,102,68,76,71,63,57,83,54,71,60,81,74,63,63,63,71,71,89,80,71,59,71,71,44,70,75,71,71,71,71,74,75,90,71,136,127,70,102,71,71,71,71,71,83,93,77,77,78,54,84,57,75,54,79,79,71,71,75,64,72,71,71,71,71,76,71,71,84,74,74,61,58,58,58,58,58,58,58,58,58,58,58,65,71,71,71,71,71,71,71,71,93,93,93,88,75,71,73,65,86,71,68,71,83,71,48,71,71,78,72,71,60,58,100,71,57,71,77,77,77,77,58,63,85,75,71,71,71,92,71,71,71,71,71,71,71,71,71,71,71,75,71,71,60,60,60,60,71,71,70,58,81,80,71,88,101,70,87,75,56,71,71,72,71,71,94,60,71,71,91,71,71,66,71,55,95,63,63,63,65,94,94,54,92,73,73,73,70,72,87,87,87,92,79,59,57,57,80,84,90,78,78,78,74,71,70,71,71,70,70,71,71,71,75,71,71,71,83,73,71,91,71,65,60,57,71,71,71,71,71,71,67,67,67,91,85,71,56,90,90,90,82,82,100,61,55,71,71,73,71,71,72,74,71,65,80,71,71,71,71,71,74,71,71,71,71,55,67,67,68,71,71,71,71,83,52,63,107,90,50,50,56,85,68,74,69,72,80,56,71,59,71,71,71,71,71,92,75,70,70,97,71,71,83,69,63,71,90,90,60,63,63,63,102,64,78,88,88,87,71,81,71,71,71,71,71,71,81,71,71,71,71,71,71,71,71,71,62,68,71,65,46,58,58,58,71,71,68,64,71,79,71,66,73,93,93,93,82,71,63,63,60,60,79,79,79,58,58,58,58,63,68,81,81,81,81,71,79,57,54,86,89,74,170,170,60,60,77,66,62,70,73,60,60,60,60,75,59,58,81,81,55,52,52,63,67,52,47,47,47,47,47,46,70,80,47,60,104,63,49,59,58,58,58,58,58,58,67,67,44,104,50,55,60,67,73,73,58,78,71,71,54,63,70,70,43,43,43,55,65,90,67,48,54,54,54,54,54,54,52,71,75,75,75,75,75,75,101,72,47,47,75,70,70,65,73,73,53,73,65,71,64,95,66,74,67,75,75,56,63,63,79,82,93,93,100,100,68,68,42,71,70,40,40,40,40,100,60,65,88,71,66,56,68,67,55,71,62,57,74,118,77,60,71,71,85,70,70,70,57,57,57,73,65,76,63,83,46,126,71,104,71,89,89,73,91,60,102,84,70,57,60,53,53,105,75,64,85,76,58,58,90,90,90,71,71,60,68,71,71,71,110,110,71,63,60,70,71,65,71,62,62,62,62,59,61,65,75,75,59,71,53,65,65,60,87,74,105,101,101,92,92,77,71,71,60,56,55,55,74,44,44,44,71,71,78,79,76,65,71,86,80,77,71,74,68,89,69,71,93,84,78,94,94,94,71,71,82,71,56,58,78,67,67,67,67,58,58,73,73,73,65,85,78,76,71,71,71,71,71,71,71,71,71,71,71,84,84,84,82,106,90,90,102,102,48,60,71,71,43,43,76,66,71,74,71,84,76,80,80,80,80,60,60,60,59,59,92,50,71,52,71,71,71,83,83,82,73,115,57,71,75,71,71,54,50,55,72,90,90,90,94,83,86,80,69,53,71,91,91,71,71,71,75,82,100,71,71,79,79,79,79,59,71,71,90,85,71,71,61,84,73,93,71,71,91,71,89,59,61,61,61,72,65,54,54,71,71,68,68,52,52,67,67,67,67,67,71,78,56,56,71,83,76,70,72,91,58,58,71,71,84,71,60,60,84,67,53,53,53,53,71,107,107,91,83,83,80,79,72,72,72,72,86,76,79,79,71,59,56,86,86,86,71,71,74,73,71,60,77,60,60,72,71,71,71,71,71,70,60,60,76,71,69,71,71,71,58,64,64,114,60,56,70,72,71,63,90,54,80,71,71,50,75,102,70,70,70,70,71,80,80,71,55,55,55,71,68,146,54,54,54,54,71,95,91,81,91,71,66,66,70,70,78,78,78,78,78,78,71,79,55,72,69,82,71,87,43,63,63,61,81,71,75,62,87,87,75,52,70,78,71,71,71,71,50,90,78,86,82,61,82,71,71,71,71,71,71,79,71,77,71,71,80,71,71,71,71,71,84,71,71,48,75,71,71,77,85,85,67,58,100,100,70,82,80,71,79,74,74,74,65,75,74,78,86,66,61,75,71,45,45,45,45,45,45,45,45,45,71,74,62,62,62,62,71,74,57,71,59,82,79,79,78,51,58,58,80,56,78,78,79,71,71,58,58,89,106,61,72,72,72,72,71,64,78,80,78,78,71,70,100,100,71,46,75,71,90,64,71,71,71,82,49,107,107,77,76,68,68,70,96,71,66,72,55,73,73,57,61,71,71,71,71,64,69,69,90,71,71,71,71,82,84,58,71,67,51,92,71,72,71,71,57,68,68,85,85,71,71,71,71,66,76,76,71,89,89,89,89,63,58,59,59,71,85,71,71,71,100,80,58,71,100,84,78,71,71,75,88,71,71,71,71,71,71,71,71,71,71,71,71,72,55,55,65,71,81,81,71,71,71,70,98,98,66,71,71,95,83,65,67,75,61,70,71,55,87,45,109,60,70,80,71,80,68,68,71,94,94,94,78,78,78,71,71,78,94,94,76,76,76,71,71,79,71,84,73,73,73,84,50,71,71,70,52,89,65,72,86,59,59,59,63,63,63,63,63,63,63,63,63,63,63,63,71,71,71,71,102,71,71,71,71,68,71,71,65,68,71,81,81,122,66,71,71,67,67,69,69,69,69,69,85,71,58,86,75,75,73,73,130,71,64,64,64,64,64,64,64,71,71,54,71,71,103,55,83,71,86,71,71,74,83,61,64,64,77,59,57,86,71,71,68,100,100,67,71,71,61,77,71,86,88,88,88,73,73,69,71,60,68,71,71,71,71,71,98,98,98,98,68,71,92,90,74,86,86,86,78,71,89,79,79,71,71,55,80,71,93,58,70,76,71,71,79,75,71,71,69,69,72,71,71,71,86,86,86,86,86,71,64,71,60,60,87,64,61,89,71,82,58,74,58,89,84,71,90,71,90,90,57,71,57,89,89,103,71,76,71,84,70,86,71,95,125,48,74,74,74,71,71,71,71,85,85,79,79,67,108,70,60,63,74,74,67,76,58,66,68,103,103,82,82,72,55,100,100,83,83,83,83,83,83,89,86,70,51,91,91,71,71,71,71,100,90,90,90,90,78,81,64,64,78,71,125,71,89,89,73,72,71,71,89,82,86,84,59,71,74,67,72,73,71,71,73,71,71,91,62,93,74,74,71,82,104,86,71,71,71,93,75,71,71,66,66,70,71,80,80,78,71,70,67,62,78,71,71,71,71,74,67,71,71,71,71,68,66,65,70,72,57,57,57,57,54,54,54,71,71,36,89,64,60,60,97,71,71,68,92,69,90,90,86,63,63,67,71,67,89,76,76,70,71,64,55,63,90,72,70,80,80,82,72,71,95,71,80,63,71,74,71,71,71,69,69,78,78,71,88,78,78,160,160,74,74,71,69,66,64,70,95,63,59,64,83,71,71,81,71,54,71,41,66,66,71,62,62,74,71,52,71,71,86,71,60,95,63,64,66,65,67,73,75,70,61,61,64,67,86,71,105,84,70,70,77,77,85,71,74,74,93,71,95,95,95,82,78,78,76,71,57,71,69,84,82,82,72,71,71,71,83,71,77,71,71,83,75,75,75,75,75,75,98,73,84,70,70,70,104,80,52,67,60,123,123,123,80,50,71,65,65,65,65,88,66,66,71,78,50,70,70,70,70,70,70,70,70,61,79,79,63,88,74,84,73,56,56,56,71,71,99,69,82,84,75,77,125,125,56,56,86,86,86,95,49,64,54,74,71,71,73,73,81,76,71,60,71,61,71,71,102,72,92,65,74,82,82,82,82,52,79,71,65,65,65,74,71,68,68,57,67,67,87,87,87,78,86,82,71,71,65,71,75,90,68,72,63,79,84,84,71,72,71,71,68,71,71,66,66,66,66,71,82,82,82,81,84,84,80,80,71,98,68,71,71,77,71,67,77,77,77,60,71,71,100,57,90,79,73,85,61,71,73,73,73,70,77,81,70,70,101,101,84,84,84,84,84,82,55,49,49,49,66,66,74,74,105,71,87,87,86,86,86,86,87,87,87,87,86,60,57,57,57,71,77,54,71,62,69,69,69,83,54,54,54,54,54,70,45,45,45,71,54,54,54,54,60,93,81,71,71,74,68,51,51,71,71,77,93,74,71,69,71,71,71,71,71,73,73,71,71,71,85,59,71,63,66,66,80,71,65,71,71,71,71,71,71,71,71,71,71,68,55,55,55,55,55,55,55,55,71,71,71,71,71,71,71,71,71,86,71,71,71,71,71,71,71,71,71,71,71,71,71,71,71,71,71,71,61,61,61,70,70,70,71,72,70,70,70,71,71,71,85,71,71,71,71,71,82,82,82,82,71,55,74,91,87,71,71,71,71,71,71,71,71,71,71,71,89,71,71,71,74,74,59,60,71,71,71,71,71,71,82,57,71,54,66,66,71,71,71,82,71,82,84,71,71,71,71,71,71,71,71,71,71,71,71,71,71,71,71,79,79,79,79,71,76,76,51,71,90,82,82,71,70,83,96,71,71,71,71,71,71,71,71,65,65,58,58,71,71,76,71,71,70,70,70,71,71,78,78,71,74,58,61,61,61,71,80,71,61,71,71,71,71,55,78,70,71,71,75,75,75,66,66,66,79,100,71,71,89,66,59,90,116,71,73,73,71,102,53,79,79,71,77,77,71,72,72,130,48,48,55,72,72,72,71,71,85,95,61,71,71,71,96,96,67,73,70,70,59,59,66,71,71,71,71,71,71,71,71,52,93,78,90,89,42,42,42,69,69,69,91,66,72,63,63,63,76,71,71,71,71,71,71,83,71,71,90,86,54,60,71,71,66,70,67,67,67,83,71,71,64,77,97,77,97,97,73,86,71,71,82,93,84,75,71,71,71,71,71,71,61,71,71,71,71,56,56,44,71,71,71,77,67,67,76,71,71,95,95,83,83,83,83,83,83,69,76,85,76,81,51,69,71,86,86,71,106,71,80,80,75,102,86,62,68,76,76,76,75,80,58,76,71,71,71,84,81,71,71,64,71,71,71,71,72,71,71,64,63,71,71,57,64,56,95,95,95,84,75,77,77,64,64,71,75,61,88,88,120,58,74,71,84,66,66,90,71,71,71,71,60,93,60,98,76,71,71,71,85,65,75,97,34,34,58,63,53,53,53,53,71,68,68,90,90,64,100,86,70,71,72,95,71,71,52,95,71,56,82,71,71,67,67,71,71,80,71,71,63,61,61,92,85,105,71,100,69,99,56,71,74,59,59,71,71,71,89,61,64,71,71,71,71,94,71,71,71,80,99,76,76,71,84,87,71,71,88,86,71,79,79,71,71,76,81,61,77,68,71,71,71,73,55,55,55,59,59,71,85,85,85,85,70,76,95,115,74,74,82,71,71,91,71,71,72,72,67,88,88,64,71,71,64,64,64,64,64,64,72,72,72,72,72,72,90,90,53,53,53,67,67,67,55,55,55,55,55,55,55,89,87,75,75,65,65,65,88,59,55,62,62,79,80,71,71,71,71,71,71,72,80,71,58,75,75,71,71,66,77,53,71,71,71,73,71,71,86,86,86,86,47,52,45,50,50,50,50,50,50,71,74,74,74,74,74,73,74,74,71,55,71,70,71,94,54,54,54,71,76,76,76,98,92,85,94,76,57,57,57,63,95,94,84,84,73,64,65,65,71,72,71,71,64,64,64,64,64,76,71,83,83,84,84,71,60,93,50,71,118,118,118,118,118,68,71,71,71,68,68,68,68,90,82,71,71,71,89,57,54,54,57,97,86,86,86,78,69,69,69,69,75,99,71,71,71,71,71,79,79,83,83,83,83,68,95,71,82,71,71,59,69,76,62,70,87,80,71,68,73,104,104,82,77,71,101,80,102,63,63,63,63,67,58,60,71,71,72,72,72,57,90,105,65,65,65,65,81,56,56,74,86,57,57,57,57,57,57,57,57,57,71,64,105,71,71,48,71,71,86,86,71,83,83,83,83,83,70,70,70,70,70,70,70,70,70,70,110,110,73,71,80,80,71,71,71,71,72,51,54,54,71,71,75,71,83,70,73,90,57,73,70,82,82,82,90,48,48,74,71,66,52,71,75,75,75,75,75,75,84,71,52,71,71,71,71,82,76,81,71,60,70,63,63,63,63,63,63,42,85,85,51,88,79,79,94,45,65,57,74,70,67,118,71,71,74,71,71,86,86,71,72,72,86,80,71,98,71,71,71,71,120,88,90,50,71,94,52,66,75,71,71,71,71,71,71,71,69,96,96,64,71,78,78,74,86,86,86,78,71,60,67,71,71,38,99,99,77,87,87,150,150,71,74,74,71,79,71,71,83,70,83,44,44,79,87,88,71,71,71,91,92,64,100,56,98,55,55,55,84,84,84,60,58,58,58,58,72,74,63,61,86,58,55,83,71,71,72,77,74,57,57,57,68,75,75,109,77,67,67,79,71,71,71,71,71,59,59,59,71,67,62,62,57,60,60,71,71,71,71,71,71,75,75,98,81,81,62,71,75,74,90,72,72,71,72,72,72,71,71,55,55,55,106,106,60,60,51,51,59,61,77,73,95,82,96,64,64,94,94,81,57,66,71,86,70,71,69,71,71,115,115,115,71,67,65,71,68,68,68,68,68,68,96,84,92,92,93,94,71,50,50,50,71,67,86,71,58,55,69,125,125,125,73,68,68,68,68,72,93,80,78,60,71,71,71,71,71,71,71,71,71,71,71,71,71,71,71,82,60,80,90,61,61,85,81,85,85,86,62,37,64,64,64,126,102,86,71,71,71,71,69,54,71,71,73,73,68,68,68,68,68,71,77,77,77,83,92,95,95,108,84,71,86,86,71,68,89,59,58,71,71,71,101,71,70,67,67,89,90,71,71,59,71,71,73,71,64,83,69,67,70,60,60,63,71,77,75,71,47,71,83,83,85,71,58,63,75,75,50,86,86,75,75,71,74,74,106,75,102,102,102,66,66,70,55,55,55,55,71,61,71,69,76,85,146,71,71,71,71,71,71,71,84,84,84,71,73,115,74,71,68,68,91,55,70,67,67,72,71,71,72,71,71,71,71,71,71,71,71,57,73,58,46,84,49,71,81,75,71,77,97,61,61,93,71,78,80,66,71,71,71,61,54,57,71,63,71,73,73,83,71,71,48,86,71,57,57,57,57,71,71,60,57,75,75,90,71,69,68,84,81,82,92,60,83,71,58,98,84,71,75,48,48,95,95,90,64,64,71,82,73,70,78,78,78,71,73,81,41,64,71,43,86,104,71,77,89,73,65,68,91,64,70,79,98,98,86,71,110,51,71,66,66,66,71,71,71,95,79,71,68,71,71,71,71,73,71,71,75,75,58,69,71,125,125,60,72,72,62,71,71,71,71,71,105,105,96,78,78,86,67,71,71,74,85,85,80,71,71,85,83,83,78,49,71,41,65,71,72,71,71,65,72,71,68,68,68,71,71,91,71,51,71,71,75,67,64,64,88,88,71,100,89,93,93,93,71,71,95,95,63,70,71,67,67,62,77,71,82,89,90,105,89,89,89,68,68,68,81,85,78,53,75,60,60,60,91,91,67,75,66,71,71,66,66,58,86,58,71,71,71,108,71,77,77,77,57,56,64,64,66,60,74,73,86,86,86,86,42,98,71,71,71,95,95,79,71,71,77,71,70,71,71,81,81,71,70,71,75,75,75,75,75,71,100,100,85,85,85,85,40,40,70,77,82,83,72,72,72,66,66,69,80,60,71,76,70,71,52,72,81,60,66,62,62,62,62,59,59,59,71,71,77,77,75,70,70,70,72,107,62,78,79,79,64,64,64,86,72,80,98,91,71,73,72,76,65,94,86,86,67,67,71,71,71,71,71,72,72,72,71,71,73,73,71,71,82,64,64,64,64,64,68,68,68,68,68,57,76,71,90,71,58,63,71,71,81,71,79,65,90,57,57,57,57,57,57,57,49,93,54,89,89,104,104,71,71,83,71,71,59,71,71,78,59,77,71,64,77,71,70,70,58,95,90,58,58,58,58,58,58,58,71,71,69,70,97,97,71,61,91,58,85,60,57,71,69,75,75,80,82,120,120,120,66,69,69,71,71,71,81,81,83,71,71,98,64,64,98,75,71,73,85,85,71,70,71,86,90,75,71,102,58,58,58,71,61,71,50,91,71,75,61,83,95,85,70,70,84,84,65,65,71,71,71,71,90,66,66,59,88,68,63,78,79,79,82,71,71,71,64,71,102,102,68,71,67,59,59,59,59,80,60,65,50,86,86,86,82,56,53,87,87,80,71,73,73,73,73,73,74,70,89,78,71,71,70,71,71,71,85,85,85,85,70,80,80,80,93,93,87,66,71,71,71,42,63,71,81,71,67,84,84,84,61,74,61,80,73,59,59,59,59,59,59,59,59,56,77,77,69,120,58,58,58,58,58,58,58,104,104,76,71,71,71,51,90,68,71,71,57,57,65,65,70,71,95,71,71,75,71,71,63,71,96,71,71,78,78,72,72,72,72,72,72,72,72,54,64,57,57,70,93,79,69,74,80,80,100,92,78,88,71,71,71,60,90,70,71,75,71,80,80,80,71,58,79,38,38,71,69,72,72,72,79,71,71,98,71,71,78,71,70,94,102,71,71,71,71,55,71,62,67,71,71,74,83,71,75,71,71,71,71,67,71,71,71,71,71,85,85,73,78,68,89,66,71,71,71,71,71,85,71,96,66,71,87,87,74,71,71,71,71,71,67,67,71,66,50,83,68,68,75,59,59,59,84,80,80,80,80,84,78,78,78,78,71,71,71,77,48,73,74,74,70,90,71,64,71,64,66,58,51,65,65,95,86,72,72,72,72,48,48,70,70,70,55,74,90,72,76,89,71,71,71,67,67,69,75,75,75,77,71,71,56,58,77,77,62,62,82,82,82,82,71,71,75,75,80,83,71,71,71,66,79,55,57,57,72,100,66,71,71,71,120,70,77,84,65,71,71,66,78,71,71,54,54,54,54,54,78,78,71,87,93,87,77,77,77,77,71,48,72,72,71,83,67,71,71,71,70,71,71,71,71,71,71,60,78,77,75,64,64,70,71,83,83,76,76,76,76,78,78,56,66,71,71,76,71,71,71,71,109,109,71,71,71,79,79,79,79,79,79,79,79,79,79,71,71,71,71,71,71,71,71,71,80,82,79,57,110,71,71,59,59,71,71,74,71,69,56,76,76,54,101,62,52,52,83,74,78,100,80,80,80,79,71,53,70,69,78,68,68,71,71,71,92,61,71,71,71,50,50,68,71,71,71,46,71,80,80,80,71,71,56,73,72,72,56,68,71,70,62,80,80,69,50,75,77,71,71,58,58,70,71,63,83,74,71,71,71,71,71,71,71,74,74,74,90,50,50,64,64,50,55,37,55,71,62,90,71,67,71,81,95,95,95,58,58,58,58,102,102,80,71,73,75,75,75,85,85,71,71,66,66,67,67,72,87,63,63,63,63,65,63,71,71,71,70,70,71,71,64,65,65,57,66,95,71,79,71,71,70,100,94,71,71,79,78,78,97,62,65,71,75,88,71,83,73,74,74,74,74,74,71,71,71,71,71,72,59,59,59,60,71,71,71,62,64,64,85,82,56,71,71,81,71,71,69,80,80,77,75,71,60,92,86,90,60,82,56,75,74,84,84,71,77,71,90,90,90,71,71,71,71,71,98,98,67,71,90,71,71,53,71,71,71,70,66,61,56,56,56,56,56,56,56,56,56,58,76,76,76,62,71,71,82,86,75,75,75,75,85,55,55,55,58,58,77,77,64,64,72,75,71,71,71,71,71,79,79,79,75,52,52,63,71,60,61,61,85,85,85,85,85,84,63,63,63,71,72,66,92,71,71,55,80,80,80,73,74,71,60,111,66,66,57,57,103,106,106,98,73,77,77,77,75,63,63,63,86,71,84,84,84,81,81,60,65,66,62,71,60,75,71,87,71,70,70,73,87,61,77,71,80,80,71,68,73,73,73,104,104,104,85,47,47,71,78,58,58,85,75,75,54,77,77,71,63,78,83,89,71,75,85,76,82,82,77,77,72,55,84,84,84,85,60,71,71,71,71,70,50,71,88,74,62,62,62,62,71,71,71,71,71,86,71,85,78,66,94,94,94,94,94,89,82,82,71,71,71,71,71,88,57,71,71,71,71,71,84,61,61,98,98,85,75,77,62,62,71,67,67,59,80,81,81,81,90,90,30,30,30,70,70,58,76,52,52,46,101,101,101,63,71,82,61,69,84,88,71,77,77,90,90,90,90,71,71,104,87,60,77,77,71,71,71,52,75,47,47,50,52,71,76,76,86,70,59,59,59,75,75,75,58,78,80,80,80,63,77,77,77,75,75,75,75,75,62,87,74,78,68,82,82,82,82,82,82,82,82,90,90,90,69,69,69,69,69,69,69,69,69,69,69,69,81,71,64,81,71,71,71,71,71,71,71,83,83,71,65,71,71,71,71,71,68,68,64,71,71,71,71,79,81,65,71,75,79,71,65,72,54,80,71,75,95,95,71,75,71,71,71,73,73,71,71,71,71,71,71,69,69,71,81,95,95,95,95,71,71,47,73,71,71,62,71,71,71,71,71,71,66,66,55,71,50,71,77,84,86,86,71,55,55,55,55,55,71,71,71,71,71,71,71,68,71,71,82,62,71,58,85,70,71,70,63,76,76,71,72,73,73,76,76,76,95,75,71,94,94,71,83,95,72,85,85,73,73,70,71,58,67,71,52,90,62,62,94,94,84,71,68,68,68,63,63,63,70,73,73,93,69,95,76,57,79,53,71,71,71,71,71,72,56,56,56,86,99,99,99,64,55,82,82,71,73,96,71,93,65,71,71,71,71,71,63,63,63,63,63,71,68,71,71,71,60,75,97,87,87,100,91,78,78,55,60,52,77,68,84,91,54,54,77,77,77,99,78,98,74,74,71,65,71,71,53,53,78,78,78,78,71,86,68,79,93,93,74,71,71,71,71,71,90,69,89,55,88,88,76,78,83,84,71,62,60,89,89,71,83,66,68,71,84,84,63,74,80,89,89,71,71,70,71,71,71,71,71,71,71,69,59,59,59,87,63,63,71,71,64,67,71,73,73,73,73,71,71,66,71,71,77,79,71,90,90,90,71,54,54,77,66,60,60,83,72,68,80,80,80,87,78,78,78,74,71,90,78,80,80,61,68,72,71,71,71,71,66,71,73,94,94,68,71,71,86,71,110,110,110,71,71,71,71,76,71,71,72,57,73,73,61,70,70,70,71,77,77,77,77,77,77,75,79,96,71,71,73,71,71,82,71,60,70,67,67,67,67,67,67,67,67,71,53,53,71,71,71,90,62,63,62,57,57,57,57,57,57,72,75,67,41,78,73,71,62,73,73,89,71,71,71,71,71,64,64,75,75,75,84,71,71,71,65,87,73,73,73,73,62,75,71,71,82,80,80,71,71,72,72,72,72,72,72,72,72,79,87,87,100,100,62,56,56,71,68,68,68,71,63,71,67,82,82,71,71,71,71,71,59,98,94,64,71,71,67,67,67,90,84,70,71,71,71,71,71,70,85,75,75,55,55,57,57,57,73,71,86,67,71,71,71,71,71,71,80,80,71,71,57,71,71,98,71,58,68,68,82,78,78,78,71,65,63,63,63,93,82,78,78,89,71,84,64,64,64,64,64,55,55,55,55,74,72,71,71,73,69,50,92,89,51,95,75,52,74,71,83,83,83,71,71,63,82,82,57,46,80,71,67,64,70,78,69,69,89,68,76,71,71,72,72,86,71,71,77,80,71,71,71,71,78,57,78,78,78,48,48,48,48,48,63,74,74,71,71,71,71,101,101,73,71,71,71,58,58,58,58,72,69,75,60,60,54,54,82,82,62,55,71,62,58,61,62,56,71,85,84,84,48,48,71,71,66,63,70,70,63,50,62,62,82,73,78,78,78,71,71,72,62,62,62,74,43,83,86,63,63,63,63,89,68,68,68,64,73,73,80,70,89,89,89,43,66,71,89,95,51,85,57,72,91,64,64,91,91,72,55,55,55,75,61,77,64,71,71,84,84,81,59,59,71,68,76,37,67,71,70,71,68,68,99,71,71,71,69,105,77,82,84,76,76,76,64,72,84,75,75,75,75,75,70,65,66,66,71,93,71,71,71,71,72,71,71,71,71,57,57,73,73,73,71,71,75,89,71,72,63,74,74,108,75,75,71,77,63,71,80,80,52,82,63,98,98,98,71,77,74,74,74,59,71,71,71,71,38,38,56,56,56,88,91,47,47,77,70,57,71,71,95,95,80,74,68,68,60,102,102,102,102,75,75,74,58,58,85,67,70,70,58,71,71,51,70,71,60,60,60,60,80,80,91,75,68,68,71,71,71,72,55,71,79,79,77,75,45,69,71,75,71,98,46,71,71,84,84,92,78,71,71,82,56,56,48,70,56,73,64,57,61,61,61,61,50,50,70,75,50,71,107,69,70,68,72,72,54,54,74,71,71,71,71,87,75,71,71,71,64,107,71,71,63,63,71,71,92,92,62,79,79,71,71,71,75,55,71,71,75,75,71,90,80,69,69,83,83,69,79,64,64,64,74,92,83,62,88,75,98,71,71,71,71,71,70,71,71,79,94,100,100,55,103,64,59,120,120,79,79,59,65,65,86,71,71,76,71,64,58,59,100,71,90,65,70,71,102,102,80,71,71,89,89,81,81,81,81,81,81,64,71,102,77,74,74,58,58,71,71,76,71,71,71,70,66,122,122,115,115,115,72,72,52,75,79,86,82,83,71,71,71,76,69,73,73,80,80,80,80,80,65,65,94,72,75,75,70,70,71,71,71,71,71,71,71,71,71,71,71,71,71,71,71,71,73,73,71,54,71,94,77,71,71,71,71,55,71,55,76,82,75,72,56,55,55,55,55,64,65,80,61,71,64,75,75,74,72,70,63,71,68,68,68,68,84,84,69,71,65,58,58,85,71,67,67,58,56,56,56,62,82,71,71,48,87,87,87,78,74,64,83,120,71,71,61,71,83,72,72,90,76,76,76,60,56,81,101,73,85,85,48,71,76,69,65,71,71,84,71,71,71,71,51,64,82,71,100,71,72,74,71,71,88,84,84,84,95,95,83,71,71,71,100,71,71,81,81,81,81,71,40,87,87,86,71,82,82,66,99,74,74,74,71,55,55,55,55,55,71,71,71,71,71,64,66,75,50,45,70,70,86,69,71,82,100,71,71,71,71,60,60,60,81,92,66,58,63,71,71,71,80,80,80,78,78,78,78,78,78,78,78,78,78,80,80,70,70,112,112,71,71,71,82,82,101,101,90,86,82,83,72,72,75,74,92,92,92,92,71,71,71,71,71,71,130,70,61,49,71,71,52,70,71,71,71,84,70,70,65,65,65,65,78,73,71,68,100,100,83,60,71,71,71,62,62,79,79,62,66,66,61,130,66,115,115,71,64,51,51,64,58,71,76,75,71,71,71,71,71,51,75,90,71,97,97,97,92,78,71,71,71,59,85,85,85,71,70,79,71,71,78,71,71,59,100,100,71,71,101,71,75,75,63,80,86,68,75,72,71,64,74,84,57,75,75,82,94,78,71,94,91,78,71,68,79,71,79,71,77,67,86,106,82,71,71,105,105,80,80,70,70,98,98,92,92,92,97,97,71,72,72,71,70,71,79,71,82,71,71,71,71,67,60,85,85,85,71,58,58,43,75,65,55,66,85,85,85,85,91,91,88,73,81,81,59,91,78,71,71,90,90,71,78,78,82,80,63,63,71,71,71,71,71,63,75,51,82,82,71,71,71,71,71,86,92,71,89,71,75,71,80,68,69,71,74,71,90,90,67,52,41,82,71,69,80,80,84,84,84,71,71,71,71,73,73,58,58,48,48,48,48,101,101,67,71,70,70,63,71,68,70,68,86,80,82,72,104,71,71,75,71,50,98,65,71,80,43,71,71,99,71,79,79,71,89,71,71,73,50,71,68,67,67,71,59,99,69,71,71,68,51,71,79,74,33,33,33,33,52,71,71,58,58,82,73,82,110,110,66,71,71,71,53,71,71,82,93,93,93,59,59,88,73,83,71,71,50,50,72,80,129,129,72,71,71,71,71,61,71,71,71,85,71,78,73,71,56,71,71,80,71,40,40,40,40,40,64,87,72,96,96,56,70,80,99,84,62,62,64,64,64,56,92,112,64,64,63,63,54,84,84,54,54,77,77,60,95,76,78,90,78,43,71,72,72,75,79,84,60,71,71,71,71,75,75,63,63,76,90,75,60,74,100,100,67,67,71,71,69,57,75,96,96,77,55,64,53,75,93,93,71,71,63,78,66,71,50,81,81,71,71,65,71,71,65,65,105,50,72,52,78,76,55,82,71,48,75,75,90,71,63,63,63,63,82,82,82,68,68,83,73,75,75,47,50,50,77,51,49,79,79,86,71,64,64,51,140,67,59,75,72,79,67,67,58,99,88,80,80,78,71,68,77,71,71,71,71,71,71,71,71,71,95,87,87,71,71,71,71,98,71,71,83,86,63,71,69,69,71,71,104,104,91,72,65,82,83,83,71,71,56,71,71,82,79,77,84,66,66,88,88,63,76,76,73,77,70,71,71,71,73,73,63,95,65,59,59,59,59,59,70,100,100,71,94,94,94,93,81,81,75,90,78,89,71,71,71,71,77,74,89,89,73,72,52,73,56,67,67,69,71,95,92,68,68,58,61,68,68,68,68,68,68,68,60,60,71,71,71,74,78,78,84,71,71,61,71,67,59,59,59,59,59,71,71,57,71,71,71,77,77,79,76,71,90,74,74,71,76,52,70,70,70,83,83,57,75,71,71,90,91,71,71,81,93,80,113,92,88,80,95,70,76,78,71,73,73,74,71,71,48,70,70,74,91,80,80,62,88,88,88,88,88,56,56,60,59,59,59,84,71,72,71,71,71,71,71,71,67,71,68,71,71,84,84,58,59,59,55,65,71,71,72,72,73,86,86,78,78,78,78,78,74,85,71,64,64,56,56,95,71,71,71,71,71,71,71,70,70,96,96,83,71,71,66,86,71,75,71,71,57,57,77,77,137,55,85,71,104,104,71,71,71,71,71,57,75,91,81,54,91,91,87,87,71,71,81,100,110,99,66,71,84,71,70,55,79,104,75,71,82,88,88,71,73,71,71,69,69,70,70,80,80,80,80,62,62,71,71,71,71,82,62,71,84,89,72,71,71,71,50,80,70,70,70,56,73,71,97,97,82,82,82,71,71,87,70,90,57,72,72,72,89,75,70,71,87,71,68,71,71,71,76,105,105,105,105,105,105,71,67,68,73,68,71,71,71,71,71,71,75,71,71,81,81,57,57,57,57,57,71,71,73,54,44,44,71,39,71,64,83,83,88,54,83,83,63,84,65,99,78,88,90,71,90,90,80,80,80,74,79,94,59,71,72,78,74,74,87,71,62,50,50,70,70,87,90,90,93,93,78,78,78,78,78,37,58,92,71,71,71,71,72,90,90,100,85,70,78,65,65,74,74,89,71,71,71,98,100,100,71,52,61,61,61,71,71,71,71,71,71,71,85,65,67,95,75,71,62,62,78,51,51,85,85,88,88,88,88,88,88,77,75,75,75,75,75,75,75,75,71,41,71,80,80,71,71,71,82,58,71,51,66,66,66,66,66,66,100,63,63,63,63,63,41,76,76,55,71,71,71,80,67,67,102,59,59,83,71,63,63,92,90,71,83,83,70,85,57,102,70,73,71,72,71,71,71,105,74,74,62,71,75,74,93,71,80,80,80,80,80,88,80,80,71,71,71,71,71,71,89,88,48,70,82,83,62,62,60,47,57,70,71,71,71,84,71,65,83,66,85,62,71,68,55,71,76,65,74,66,66,71,70,70,77,95,71,106,69,71,58,71,71,72,75,71,71,71,71,61,71,71,71,71,65,71,71,77,58,63,70,70,50,50,79,79,79,67,78,78,81,81,71,61,61,55,55,67,78,75,75,75,66,71,71,71,71,71,71,65,71,64,56,56,56,56,71,71,61,82,82,48,62,62,85,73,71,71,71,71,71,88,90,90,71,71,83,80,74,78,72,72,83,63,95,95,87,87,92,71,63,71,71,71,86,100,58,58,78,71,71,71,71,75,71,71,70,90,71,72,55,128,68,49,49,49,49,49,49,54,60,60,70,70,70,70,68,52,60,60,60,54,54,54,54,46,71,87,63,71,74,50,57,84,71,59,59,59,87,87,67,74,80,83,83,67,67,71,84,126,61,61,61,58,58,58,58,58,77,92,59,70,70,70,70,71,71,64,71,71,104,66,54,54,54,54,98,98,61,61,61,71,90,74,72,71,58,77,52,71,112,105,105,68,78,78,78,78,82,71,71,71,71,85,85,71,71,71,63,63,83,83,75,75,60,71,54,54,71,86,96,71,73,71,90,57,71,90,71,53,64,64,83,83,83,83,83,57,71,71,71,73,73,67,71,76,71,61,61,90,90,90,90,66,68,68,60,77,77,67,95,87,87,72,72,58,58,58,71,71,70,70,71,71,71,71,72,72,78,84,71,64,64,58,70,70,78,78,81,71,87,73,47,50,50,101,83,96,96,96,96,96,96,96,79,79,79,79,79,71,52,120,58,71,75,75,78,71,111,111,84,71,70,85,95,62,62,100,68,68,85,71,71,55,74,74,71,90,71,71,71,71,71,71,65,71,97,74,77,61,76,71,76,71,71,71,71,65,92,92,71,71,71,64,64,64,64,60,73,73,58,87,71,69,66,66,95,71,71,64,64,64,90,82,82,100,100,100,54,71,71,71,71,71,75,55,55,65,86,65,66,66,66,66,66,66,66,71,71,71,71,71,62,71,71,71,93,71,91,102,102,71,71,75,78,71,55,75,58,71,74,74,74,74,65,65,65,71,71,71,70,71,82,77,99,99,99,99,99,99,99,99,99,99,71,71,71,84,84,71,57,92,65,70,61,60,60,71,73,71,93,80,80,71,71,71,71,71,71,78,73,71,71,69,69,71,72,72,78,90,65,54,54,71,62,74,52,62,62,62,71,71,71,71,71,71,71,73,92,68,68,64,65,55,80,63,83,71,70,71,71,96,71,50,65,71,70,56,56,56,65,62,62,62,70,77,71,65,65,65,65,65,78,71,90,90,90,68,62,71,71,71,55,55,71,71,75,75,75,77,98,98,69,69,75,75,72,95,71,63,90,56,73,62,82,84,57,61,65,71,60,65,65,75,68,77,60,58,96,69,76,80,80,71,60,50,71,71,71,71,71,70,82,82,63,77,77,83,83,56,56,75,75,75,75,75,75,71,71,71,71,54,54,71,105,80,79,71,71,82,91,64,64,64,71,71,80,80,70,71,71,86,67,86,58,71,67,71,71,85,85,71,72,71,85,85,85,85,85,85,82,71,71,71,71,77,77,77,87,87,92,92,75,71,71,71,71,71,71,71,71,71,71,71,105,71,71,71,60,97,71,71,82,74,71,71,93,78,71,73,73,73,71,71,98,90,71,71,105,71,71,66,71,71,71,71,72,100,100,100,67,67,70,71,71,71,71,71,71,96,83,71,66,80,87,71,63,58,58,58,60,56,56,73,71,71,71,71,125,62,91,88,60,60,96,100,77,80,80,75,75,71,72,72,72,72,71,71,71,71,87,47,70,70,71,71,90,90,77,71,79,71,81,70,70,70,76,110,65,90,77,71,71,62,67,89,71,64,71,79,79,73,84,91,95,95,95,57,61,61,63,58,71,77,99,99,99,82,71,71,77,71,71,82,95,83,83,71,71,60,60,80,80,110,71,81,71,74,74,77,64,71,53,63,63,63,63,66,66,69,84,86,71,71,120,126,56,65,71,74,62,71,71,71,76,73,115,64,84,64,66,71,78,78,71,71,71,71,64,71,71,75,75,71,71,60,74,62,62,62,62,62,62,62,50,77,77,71,71,58,73,71,71,64,64,70,82,71,77,71,71,59,71,74,68,68,68,68,68,71,72,43,43,57,71,71,71,71,76,85,64,64,71,71,71,71,71,71,71,62,71,62,79,79,79,71,63,81,81,81,71,77,77,79,57,80,71,71,56,56,94,64,64,64,64,79,79,80,71,90,89,89,71,71,71,71,57,57,57,71,71,86,68,71,136,71,71,71,71,65,82,58,58,65,52,86,86,86,72,73,58,55,80,80,71,80,80,54,73,76,107,102,71,71,91,69,69,80,65,68,33,33,33,68,68,50,50,73,68,68,60,60,54,51,51,51,91,59,70,71,78,71,71,71,71,66,79,64,64,71,71,67,81,81,81,77,77,77,77,59,59,92,66,97,71,71,71,71,71,71,87,70,94,71,71,71,71,71,84,71,71,71,94,72,72,72,72,64,64,64,66,71,97,97,71,71,71,71,76,76,76,76,76,67,68,68,55,65,86,80,71,63,63,63,63,63,110,110,110,110,71,82,78,95,70,70,71,51,75,75,75,71,71,71,71,71,71,71,96,70,70,70,71,48,84,84,84,84,84,73,73,73,73,85,63,78,71,71,71,71,68,80,56,56,65,65,90,65,71,71,71,70,70,71,103,71,71,66,95,99,71,66,78,63,71,93,83,78,71,71,71,71,87,87,71,71,63,71,74,90,93,93,71,71,61,70,71,71,71,71,71,71,71,71,71,67,68,71,62,85,71,69,69,58,58,93,93,55,95,71,71,47,47,85,71,75,75,75,75,71,71,72,71,71,77,62,62,87,87,87,87,87,87,90,90,90,90,90,100,71,71,58,58,71,72,72,72,84,71,60,63,63,63,67,62,62,75,75,84,80,80,77,77,77,77,77,77,88,86,79,54,54,71,86,68,71,65,95,62,63,71,45,45,45,54,71,60,60,49,49,49,49,56,85,85,71,71,77,72,57,57,64,64,64,64,64,71,51,72,71,71,71,78,81,81,66,66,84,68,96,71,71,71,71,76,76,72,83,83,78,78,71,71,71,71,71,75,69,69,71,64,71,71,71,71,71,82,82,82,82,68,63,63,63,71,53,71,71,58,100,71,56,71,54,70,85,75,71,71,71,61,77,77,91,71,71,55,71,85,75,57,84,52,71,71,69,70,71,72,71,71,50,71,71,71,71,71,71,71,71,71,67,88,88,63,75,75,85,64,65,65,47,49,49,57,57,57,71,49,64,100,74,71,65,48,54,67,67,76,115,71,64,71,71,57,57,57,57,71,82,72,88,95,95,71,67,80,61,71,105,75,71,71,71,71,93,71,71,71,71,71,71,76,71,43,90,90,53,71,55,55,78,71,107,86,86,81,81,79,79,64,64,64,64,77,70,70,65,49,72,82,82,82,82,82,93,134,86,86,71,53,57,71,71,56,62,62,62,62,63,63,63,71,71,70,80,80,80,80,71,90,71,60,65,71,71,91,71,53,53,85,73,73,71,71,71,71,67,73,70,63,60,60,71,70,79,79,79,82,82,56,56,78,78,72,72,72,92,71,70,90,77,88,102,71,84,70,72,55,55,66,89,75,75,71,54,66,71,79,66,66,66,66,71,71,95,71,74,75,100,71,71,71,91,62,71,71,82,82,71,71,71,48,71,82,71,71,95,81,81,59,102,62,62,62,110,110,79,79,71,71,75,80,71,73,60,68,50,53,60,63,61,58,58,71,71,71,70,95,63,59,73,71,73,100,97,97,71,71,65,78,71,63,63,80,80,62,71,75,45,68,80,80,94,69,69,60,97,98,98,64,89,74,84,52,84,56,75,75,71,93,90,71,71,115,70,75,71,71,71,75,75,75,75,82,82,82,82,82,72,57,68,65,84,79,71,71,71,63,71,71,57,84,71,83,71,85,79,79,79,72,86,71,71,71,62,85,85,85,71,64,64,64,95,95,94,147,71,71,71,50,91,80,64,68,62,62,65,71,71,71,73,87,98,98,67,70,56,59,67,67,56,56,56,71,71,78,78,78,78,79,92,56,56,81,68,70,80,71,71,71,84,82,65,71,71,71,71,78,71,69,69,69,66,66,66,66,78,64,77,62,88,71,71,71,71,71,71,104,104,104,56,48,50,90,78,78,71,71,70,60,60,60,60,79,85,85,85,85,71,71,81,71,56,68,58,51,71,71,90,90,65,65,65,65,65,71,71,71,71,71,71,71,71,71,71,71,71,71,90,90,90,90,90,90,71,71,71,71,71,71,90,71,84,50,73,73,73,73,73,75,95,95,95,69,71,71,71,55,55,55,75,76,71,71,71,84,71,95,71,88,59,59,71,82,82,71,71,71,90,91,71,71,76,71,77,77,77,77,82,56,56,56,56,81,78,68,71,71,71,71,98,98,71,73,73,73,73,74,71,64,64,69,71,71,71,71,71,78,57,57,73,70,71,54,72,72,72,90,71,47,59,90,75,71,81,81,71,71,54,54,54,71,73,92,57,82,82,73,91,91,66,90,95,92,89,89,89,89,89,89,71,71,80,85,85,72,72,71,71,74,89,89,106,80,73,73,74,74,74,89,71,87,71,71,71,71,74,76,71,71,75,79,71,50,62,62,62,103,68,68,82,82,73,76,71,71,71,71,71,71,71,93,93,76,76,64,79,57,60,86,71,59,59,88,87,71,73,86,74,74,71,90,90,90,78,83,72,75,75,67,58,56,56,102,57,71,71,101,60,60,70,70,70,65,65,65,65,123,82,82,82,100,70,98,98,72,72,57,67,71,84,69,93,71,86,80,80,80,86,86,74,60,50,78,78,71,85,85,85,84,80,91,85,60,70,63,63,71,78,120,100,100,69,80,53,53,55,55,55,71,71,82,81,59,58,71,71,71,71,84,69,69,63,63,63,63,93,93,93,93,93,93,93,77,77,71,71,52,57,102,60,70,71,79,90,72,72,71,71,78,70,86,83,73,71,101,88,58,52,100,53,53,74,75,58,58,58,52,77,77,64,64,85,56,61,57,56,63,56,38,48,48,63,63,70,82,63,63,68,59,59,61,61,61,61,61,100,105,105,55,71,66,88,79,63,60,89,89,96,64,71,130,130,76,76,71,71,71,90,76,71,71,71,71,67,81,63,75,74,63,63,83,71,90,74,74,74,105,71,53,54,93,93,71,71,71,82,71,76,76,76,71,71,56,72,72,72,72,72,72,71,71,71,71,71,71,83,70,71,71,71,71,95,64,78,58,58,71,71,71,71,71,78,79,79,90,90,90,75,92,71,70,70,71,71,71,71,71,71,71,71,83,43,43,100,100,100,71,77,77,55,82,82,63,63,63,63,63,63,96,71,71,102,94,71,63,71,95,64,64,71,71,71,71,96,71,74,74,71,61,50,63,67,71,71,75,90,104,81,80,75,71,71,71,71,71,80,72,73,71,79,82,82,76,68,75,75,71,71,71,73,73,63,71,71,72,72,75,71,70,101,71,64,82,82,71,71,71,72,54,71,71,71,71,71,71,98,71,86,71,74,56,71,71,71,71,48,48,86,71,81,55,67,67,67,73,71,65,71,67,55,71,57,52,52,52,71,83,71,71,69,59,59,59,62,65,77,71,68,77,60,71,71,61,83,83,107,106,70,70,75,64,75,83,68,76,97,96,85,91,78,82,60,71,71,71,59,59,48,48,61,61,61,61,60,59,67,67,67,67,67,64,89,54,54,74,85,85,56,68,91,95,95,71,64,64,81,81,81,81,81,81,68,67,67,53,87,78,57,94,77,66,67,71,80,80,80,67,67,80,71,78,71,71,61,61,61,61,76,89,89,68,68,68,70,63,59,69,58,98,74,42,67,90,90,76,90,73,54,74,78,89,89,71,70,86,86,86,71,94,94,84,49,49,60,92,63,71,71,60,75,100,100,100,62,71,70,86,75,63,65,65,65,95,57,72,75,98,69,105,73,100,95,95,77,57,75,75,75,75,48,79,77,118,71,71,71,71,61,68,68,71,96,51,66,66,95,61,61,90,90,71,71,97,71,88,78,59,60,100,78,72,59,70,55,55,71,62,43,43,70,70,47,96,64,78,71,89,71,84,93,48,48,53,73,65,52,62,62,62,71,93,64,64,64,48,71,82,71,77,59,76,87,70,78,78,79,82,71,71,71,64,74,48,83,83,56,78,60,71,73,85,37,69,48,71,73,93,71,60,96,96,60,60,60,60,60,65,66,62,93,60,95,111,71,51,51,64,71,57,57,57,64,64,64,75,55,64,64,85,61,61,81,72,56,71,69,74,74,64,64,64,64,60,57,64,64,64,71,71,71,70,71,57,62,62,44,45,61,76,75,73,71,71,57,57,56,78,78,106,53,53,94,52,90,83,73,78,54,74,98,98,74,92,71,62,62,75,71,71,71,92,85,85,85,85,66,48,70,68,50,70,68,46,80,85,62,71,71,83,80,98,72,72,72,98,80,76,89,71,71,57,57,49,60,62,62,76,78,50,74,55,52,52,52,52,91,90,90,71,71,90,73,91,91,96,96,70,72,68,71,71,86,77,71,71,67,84,69,75,71,76,71,71,71,71,71,82,85,85,85,85,71,107,66,66,71,86,61,61,81,58,71,61,70,71,82,57,57,70,71,71,64,75,95,81,82,82,82,64,70,71,51,59,71,71,90,79,71,70,70,70,71,71,71,80,64,110,71,99,71,77,71,91,71,71,71,84,71,71,83,59,65,82,82,82,82,82,82,82,89,71,102,102,71,69,57,57,89,71,59,59,59,94,94,96,89,89,66,66,113,71,71,72,72,98,62,97,73,73,58,58,85,74,93,89,66,66,84,68,65,61,66,66,72,71,75,66,66,70,70,114,114,114,90,70,93,93,86,79,71,60,71,75,95,81,69,90,68,71,71,78,71,83,85,67,67,56,66,57,57,71,64,63,63,57,118,118,76,71,50,79,100,60,54,78,65,65,65,65,83,51,51,84,82,86,72,60,95,95,72,98,71,71,81,89,58,83,83,90,71,88,74,67,70,71,86,86,86,89,71,95,83,83,83,71,74,71,71,71,80,67,71,71,71,71,67,67,71,87,71,71,71,80,107,107,46,46,46,46,46,46,46,71,71,81,70,77,77,62,75,71,71,71,54,77,70,91,78,86,86,76,95,95,95,58,71,71,71,71,71,71,79,54,92,120,71,77,58,84,80,80,85,85,49,68,81,70,78,54,63,80,80,73,73,62,90,75,86,86,86,65,78,83,71,86,85,85,85,85,85,73,71,71,71,51,73,92,73,73,73,70,68,71,102,75,76,81,71,71,71,104,104,60,71,86,89,71,83,94,77,77,77,77,74,74,77,71,71,82,71,59,70,88,59,44,44,50,67,72,71,71,66,85,71,58,75,71,102,80,80,71,71,88,88,78,92,75,75,68,78,78,71,71,71,71,71,70,76,71,71,71,62,70,52,56,56,64,63,71,52,60,54,54,54,54,54,69,74,75,71,51,60,98,98,62,75,56,59,78,57,71,64,71,69,60,83,90,68,53,71,88,63,63,51,71,67,55,68,78,48,47,97,49,76,84,57,57,57,94,94,72,72,72,72,72,72,72,72,72,113,71,77,53,70,74,55,113,67,71,71,75,86,71,59,59,59,75,80,80,72,59,71,63,58,91,91,75,80,70,48,81,70,78,88,77,53,53,54,54,72,72,68,32,63,63,60,60,90,62,55,55,91,100,67,70,76,58,71,90,78,78,78,78,78,78,83,56,56,56,55,75,71,105,105,63,71,60,78,78,90,76,71,71,55,53,58,81,81,93,65,69,69,54,116,116,71,74,74,71,83,71,71,71,71,71,100,100,85,85,85,85,85,72,71,71,75,78,78,71,71,71,71,71,86,86,71,71,71,71,71,71,71,75,71,75,54,54,71,71,71,71,71,76,76,71,71,71,71,71,71,71,71,71,71,71,71,62,87,86,71,71,83,71,70,70,85,85,85,71,88,71,78,71,81,81,80,71,130,130,81,71,71,71,71,71,71,86,66,70,71,71,71,71,71,70,71,70,81,75,75,77,98,98,61,71,75,79,59,91,75,75,66,66,59,59,72,107,71,71,71,79,79,71,71,100,71,70,63,63,63,74,65,45,45,86,71,71,71,60,100,73,75,77,77,77,77,82,71,71,91,91,57,81,41,41,41,41,57,71,60,80,86,71,70,70,70,86,71,71,86,86,64,57,71,71,71,71,61,71,73,84,91,81,67,67,81,57,82,82,115,102,61,86,86,91,91,91,95,95,81,71,57,71,67,67,67,73,73,75,89,60,60,71,71,71,64,93,55,71,59,71,95,95,95,95,76,93,71,73,71,61,71,76,76,77,57,57,71,63,61,77,91,75,68,68,68,68,68,68,68,68,68,76,68,71,71,68,60,60,91,71,71,89,82,71,72,72,58,102,71,71,52,61,71,71,77,51,93,59,59,70,70,70,70,60,71,79,79,71,71,71,71,70,70,71,89,89,92,92,68,71,82,82,71,71,59,85,68,79,120,90,90,68,68,71,75,75,90,93,93,59,66,71,68,71,71,75,71,86,80,80,73,57,55,55,55,55,71,80,56,48,71,71,71,71,71,71,85,85,71,71,72,96,108,94,71,59,89,89,108,70,70,70,70,86,77,70,70,70,70,70,70,59,71,71,71,90,71,70,82,73,73,73,71,74,71,71,71,60,71,73,50,67,83,84,84,85,57,71,71,86,71,71,74,72,59,59,71,71,88,71,68,86,86,71,71,64,76,68,106,60,63,68,54,71,71,71,71,71,54,82,71,87,56,64,64,71,70,70,70,70,85,80,67,70,72,72,68,71,100,71,75,75,75,95,79,71,64,79,72,85,71,71,71,85,87,87,71,71,84,84,46,46,83,84,97,65,71,71,71,71,81,73,82,62,70,67,71,71,65,79,86,56,75,83,64,71,74,74,74,71,71,71,71,71,71,60,71,66,71,63,71,71,71,71,80,71,51,59,65,73,71,69,53,53,52,52,88,59,59,59,59,93,93,93,64,70,70,85,71,71,80,71,71,54,58,86,77,45,71,71,71,75,61,61,67,72,96,58,71,71,71,102,80,75,50,74,57,57,57,71,65,65,86,65,65,65,60,60,60,60,60,65,88,77,98,68,72,80,85,71,71,71,71,77,71,71,72,78,68,59,74,67,53,58,78,73,88,88,74,74,102,70,70,70,87,82,71,81,81,81,81,110,68,73,81,57,68,68,71,42,42,74,71,82,80,63,67,62,64,52,76,54,53,83,105,64,43,43,78,78,78,76,76,75,72,73,125,125,71,57,57,74,80,90,62,62,80,80,80,80,54,68,73,73,97,97,97,78,69,71,72,72,85,67,125,92,84,88,73,71,108,104,104,104,74,92,92,93,61,73,73,71,80,48,80,71,71,58,97,70,71,80,65,55,57,52,80,71,71,71,54,76,99,99,99,99,85,71,71,62,77,57,62,78,78,73,73,90,90,71,71,79,71,71,67,67,67,85,76,71,71,79,68,71,75,76,76,80,71,104,71,80,80,91,91,61,96,96,71,71,71,71,71,71,64,64,64,64,64,64,66,98,71,73,59,100,100,100,73,58,82,71,55,71,87,87,71,65,65,65,74,78,63,71,69,70,70,70,54,43,71,63,60,60,60,59,59,59,59,94,94,94,87,84,84,84,66,69,65,71,62,62,62,71,78,75,88,77,59,71,96,96,96,79,70,75,69,69,83,61,61,71,78,71,80,71,71,77,68,75,69,64,65,78,52,54,54,59,59,59,59,59,59,59,59,59,59,59,59,56,56,56,84,64,71,71,71,71,66,81,70,59,59,71,71,85,75,71,53,76,76,71,113,60,62,77,77,60,71,78,78,68,70,78,75,75,90,52,63,61,64,71,71,71,79,51,75,50,55,50,71,70,71,130,130,97,79,46,46,66,102,102,57,48,48,47,47,47,86,56,66,81,70,71,71,71,71,69,69,68,50,45,85,64,75,94,71,62,71,71,66,71,56,80,71,74,80,71,71,85,71,71,71,66,66,66,66,86,71,88,88,71,76,76,71,52,65,92,92,71,71,71,71,71,71,71,71,71,71,71,71,71,71,71,71,71,77,77,77,74,88,78,78,71,84,66,84,97,97,97,97,97,69,71,74,75,71,71,53,98,92,79,66,72,77,66,71,71,85,85,85,55,83,71,71,71,57,52,79,65,52,52,75,71,56,63,63,63,71,71,79,66,71,71,71,71,105,71,76,68,68,68,56,100,71,71,71,58,58,58,65,65,74,80,78,71,73,73,57,57,57,57,57,57,57,57,57,64,58,71,86,86,71,71,84,71,71,71,91,84,71,80,81,81,81,81,81,81,81,73,77,79,71,68,66,70,76,82,71,71,71,71,80,80,50,88,88,66,66,70,70,71,76,63,91,59,52,52,81,81,81,57,71,45,45,78,71,71,55,51,71,71,71,71,61,87,87,95,92,64,92,71,79,95,69,64,100,60,60,60,48,95,50,78,63,100,100,88,67,85,85,85,78,78,90,90,51,67,67,71,71,71,60,81,52,85,85,85,60,71,71,60,82,82,82,71,71,54,54,60,60,82,80,71,71,62,63,63,63,79,79,79,68,68,68,68,95,63,57,57,57,60,63,92,100,72,71,61,60,75,51,76,57,57,68,90,90,60,60,71,124,86,55,55,72,72,90,80,80,80,80,80,71,68,57,57,54,80,80,80,71,47,47,47,47,47,47,47,100,90,60,96,96,72,71,45,68,71,54,68,77,120,120,107,83,83,85,85,53,107,60,109,109,95,78,78,78,78,93,84,76,85,96,67,67,67,67,78,105,57,57,57,57,43,87,87,94,94,96,75,96,96,84,60,60,62,75,75,73,71,80,90,71,71,91,62,57,62,62,62,62,71,71,71,75,88,70,60,81,82,82,71,71,90,84,67,75,71,52,52,79,75,75,89,71,71,57,51,51,71,56,75,75,75,71,71,71,53,73,86,96,71,67,67,67,70,62,74,70,65,65,58,98,98,74,74,74,67,67,71,62,77,63,63,63,78,64,83,51,52,58,58,84,73,55,55,71,71,88,71,65,58,58,58,77,95,80,80,54,54,58,78,78,80,60,60,53,68,66,66,69,69,71,71,56,54,71,52,73,73,71,67,100,71,61,71,62,62,82,71,59,71,65,59,72,72,68,70,65,65,47,47,47,47,47,47,52,62,71,86,93,60,73,73,71,50,54,54,75,64,55,74,81,58,58,58,58,58,58,61,76,59,90,69,69,48,57,86,48,62,62,95,74,70,110,78,57,69,68,63,71,47,47,83,72,48,48,83,62,104,64,58,71,85,69,83,83,51,65,78,64,71,60,60,86,86,86,73,73,62,79,71,84,71,71,62,71,71,91,71,77,77,77,61,64,70,70,59,64,52,91,91,75,75,112,71,71,71,62,62,71,68,85,95,71,77,69,91,91,72,56,56,56,64,55,57,57,57,71,71,63,63,73,63,68,56,62,71,71,88,85,55,55,58,60,86,86,40,71,86,86,86,55,71,77,59,71,82,60,69,69,69,69,106,106,106,86,86,71,100,100,68,68,68,68,66,79,79,80,98,60,48,82,82,65,65,71,71,52,52,65,71,71,71,80,71,71,77,77,77,82,80,63,52,52,77,80,71,62,62,74,74,74,74,74,74,68,68,68,68,68,68,68,49,90,90,90,68,67,115,87,52,79,47,75,75,71,105,71,58,58,58,73,63,115,103,112,112,112,71,71,71,89,71,73,80,73,60,73,73,73,73,73,73,73,71,71,52,61,71,81,71,71,71,71,76,60,77,71,68,68,65,71,71,66,66,55,55,55,55,55,42,71,71,72,72,72,72,71,67,67,65,79,61,94,71,88,88,88,88,88,72,72,75,71,83,76,75,71,79,76,76,58,70,71,71,79,98,71,71,71,71,71,71,60,98,77,65,85,91,64,71,82,84,59,65,65,69,80,80,80,80,55,71,52,50,50,77,80,71,71,71,79,122,48,86,86,86,89,90,95,71,71,71,71,84,80,80,80,67,71,71,90,92,69,76,87,60,70,70,72,76,75,66,81,81,81,81,81,81,103,103,80,61,61,61,61,61,58,58,58,66,66,66,66,66,66,66,66,71,71,90,47,47,47,62,72,57,71,71,82,71,73,63,105,102,70,70,70,70,70,73,64,80,80,88,105,73,83,71,75,50,65,65,65,68,102,82,85,73,71,71,74,51,90,82,71,86,60,60,128,69,69,58,60,65,60,60,60,57,71,86,85,70,70,71,98,71,76,86,71,96,96,96,70,81,72,72,71,71,70,71,63,91,79,79,71,71,65,65,71,58,74,75,78,78,74,74,74,88,88,66,70,73,88,67,71,80,71,79,68,71,71,71,71,62,61,71,63,69,69,69,69,69,69,88,71,52,64,89,56,56,67,79,102,74,89,77,71,68,75,68,74,80,80,80,75,75,100,95,70,71,62,62,67,61,52,37,58,80,80,46,46,71,71,125,74,71,60,74,70,70,71,71,61,60,67,67,67,63,63,63,78,78,64,60,96,68,80,76,56,82,71,72,70,70,70,60,60,98,72,71,71,73,73,92,92,81,81,81,81,59,75,71,71,75,60,85,85,85,71,57,91,93,69,69,89,68,68,81,81,85,80,87,87,80,74,68,68,61,61,61,89,84,84,84,71,91,60,60,60,60,56,56,56,56,56,115,115,66,66,64,57,57,57,57,57,89,53,74,62,34,61,80,71,66,82,74,63,48,89,71,71,71,90,82,86,63,63,75,75,75,75,75,75,64,64,92,71,71,80,80,80,80,97,97,76,76,60,43,78,51,125,93,71,90,105,59,75,98,65,65,60,60,73,74,68,48,48,100,71,71,64,71,113,71,48,63,82,82,82,73,57,57,86,75,71,66,66,66,43,67,52,52,71,71,64,64,59,71,72,53,68,68,68,68,71,63,63,63,74,74,74,65,71,75,75,77,77,71,71,71,71,88,88,88,83,83,83,68,68,84,84,84,95,71,80,52,82,92,71,89,61,71,58,57,71,79,71,65,71,72,72,81,112,77,76,76,76,76,63,75,87,70,70,89,71,84,95,94,65,65,71,82,92,39,39,39,39,39,39,56,71,64,65,71,71,77,67,68,68,67,71,71,64,102,92,92,71,79,58,79,79,76,76,78,64,71,71,68,96,80,92,92,66,66,66,48,64,64,64,76,167,58,92,70,71,71,71,71,67,71,71,71,71,71,71,71,71,55,79,82,88,84,60,56,67,67,75,88,64,71,85,76,76,60,60,60,60,68,95,95,71,71,70,76,76,57,60,60,72,55,40,58,58,62,71,71,80,80,67,67,67,90,77,77,91,65,65,64,63,92,73,100,100,77,77,77,77,77,76,51,60,60,71,77,77,61,61,61,61,77,93,88,88,88,88,76,76,76,76,76,76,70,70,52,52,52,82,75,60,66,66,66,90,90,90,79,100,70,82,100,82,93,55,56,56,103,53,53,60,78,78,85,71,50,50,79,79,115,66,59,59,85,85,84,75,90,70,62,93,68,71,71,71,85,85,100,74,71,71,63,63,102,56,56,56,70,71,57,57,82,85,85,134,50,79,64,64,64,64,64,64,64,64,80,80,80,80,80,80,80,64,79,79,84,58,71,132,104,80,80,80,92,111,111,83,110,70,70,105,105,74,68,90,71,82,82,71,71,71,88,60,74,63,63,96,66,68,68,59,59,59,59,59,75,76,76,76,76,75,65,65,85,73,63,63,63,63,63,63,78,82,71,71,71,75,88,88,59,59,76,76,76,70,92,92,92,86,86,62,62,125,125,78,85,85,75,112,112,73,68,78,53,53,53,53,94,94,69,80,71,71,76,50,75,75,75,75,71,71,61,61,81,65,86,71,43,43,43,43,63,91,79,62,71,71,80,80,80,80,80,80,80,61,103,95,89,78,78,70,60,92,60,68,58,62,68,94,79,60,60,65,89,72,59,71,89,68,68,68,71,71,54,74,85,74,74,74,50,90,90,90,90,66,66,66,58,69,66,83,96,96,65,95,95,95,95,71,89,60,60,105,86,86,105,69,87,87,87,87,71,71,71,91,68,68,60,59,61,71,73,95,71,73,71,68,71,71,87,71,87,66,66,70,95,73,73,71,71,71,70,70,71,73,70,71,87,53,94,96,71,71,71,71,72,68,72,71,71,71,84,94,85,85,84,90,59,45,71,85,85,71,71,60,93,66,83,71,71,71,71,71,71,85,65,68,68,72,72,72,72,62,62,60,71,73,86,86,76,53,88,90,76,76,76,76,71,105,71,71,56,65,71,73,130,67,81,65,84,54,82,93,72,71,71,63,60,74,71,71,71,141,141,141,93,79,70,70,95,95,59,71,82,82,82,54,69,71,55,125,83,83,83,83,73,71,56,40,58,87,39,74,74,59,59,71,84,62,62,92,92,92,59,55,96,96,84,84,68,63,91,91,125,50,55,55,113,71,71,71,71,93,86,72,72,71,71,71,67,79,79,48,48,48,48,88,102,79,100,100,100,90,52,70,71,71,71,47,60,60,71,71,94,94,75,75,75,75,75,82,71,70,80,73,71,75,100,71,110,89,73,65,90,58,88,88,71,71,71,86,80,65,65,85,85,85,61,66,66,66,87,87,65,70,98,88,57,57,57,57,57,57,57,57,71,70,82,82,82,79,79,79,79,79,79,93,93,66,66,75,96,96,96,95,71,77,77,82,74,86,86,86,75,75,75,75,75,75,86,64,94,71,71,59,59,60,71,71,71,57,73,66,66,70,89,89,71,71,71,72,70,72,95,60,98,63,96,71,88,71,71,99,69,69,63,68,95,58,58,58,58,58,58,70,58,75,95,104,75,52,52,71,65,71,98,57,60,70,52,75,75,78,78,76,76,78,55,53,53,53,71,100,100,125,125,71,71,89,80,85,80,90,72,85,71,56,56,77,94,94,94,71,71,71,71,71,76,75,69,75,57,70,86,71,71,72,99,99,116,116,116,116,116,45,71,72,63,63,100,100,71,72,72,75,75,71,59,93,78,78,78,63,70,76,68,68,98,75,75,55,79,71,86,62,89,89,89,100,100,67,67,67,89,89,71,93,57,71,71,71,72,75,73,74,75,100,83,83,78,78,112,79,75,64,60,36,61,52,74,69,69,69,71,73,97,79,72,70,64,65,49,49,56,88,88,71,60,60,60,82,61,61,89,76,71,55,71,71,59,125,71,81,62,71,92,73,62,82,60,60,71,64,51,75,71,71,71,71,53,73,73,71,71,72,72,72,95,75,78,49,86,71,71,71,71,91,71,71,82,99,99,70,71,73,62,79,78,71,71,71,69,84,84,59,107,71,51,71,78,91,71,97,58,58,55,71,71,71,71,70,77,71,71,77,77,71,71,71,69,62,65,57,72,72,78,84,56,77,75,60,69,78,71,55,71,71,71,79,63,65,65,65,65,65,81,71,65,71,58,58,71,71,82,84,36,54,65,65,65,71,71,81,81,71,71,71,65,65,65,87,71,61,100,63,71,71,70,84,84,69,71,53,62,86,86,86,86,86,70,70,70,70,98,97,80,80,89,71,60,114,65,80,71,71,71,71,71,71,71,71,57,71,73,71,75,75,75,71,99,74,62,102,71,73,71,67,71,65,71,82,81,71,88,88,88,85,85,85,69,71,71,71,71,71,71,71,69,71,71,71,71,77,71,71,80,82,70,84,80,71,96,96,96,49,56,100,100,100,100,100,70,85,78,73,73,73,89,89,89,71,48,98,98,98,98,93,55,73,71,71,71,74,74,64,71,93,93,93,105,105,71,89,63,57,65,71,71,71,70,71,72,71,98,76,43,43,60,71,71,71,71,83,79,105,68,77,71,98,71,71,71,71,65,65,73,74,83,83,78,76,76,88,71,71,79,85,84,77,77,77,63,68,72,72,67,67,71,80,63,71,77,77,71,71,59,71,71,71,61,68,80,80,80,80,71,65,71,71,71,71,85,71,73,71,71,71,106,71,71,71,71,71,74,71,71,71,71,71,71,71,71,72,72,71,73,79,79,79,61,75,75,71,66,66,71,71,63,71,59,59,71,71,86,86,68,68,77,71,71,57,75,71,71,70,70,68,73,71,62,36,94,84,60,50,50,50,48,104,71,68,71,71,63,54,65,90,71,78,78,78,103,59,71,71,71,55,55,55,71,71,71,71,71,52,52,52,52,52,52,52,52,52,52,52,52,52,52,52,52,52,52,53,53,65,65,71,76,56,56,71,71,60,71,63,63,76,71,71,66,72,72,71,65,65,84,84,57,75,72,72,72,71,71,68,71,71,71,46,68,68,71,71,71,71,72,71,70,114,90,90,90,71,71,58,73,73,71,75,71,71,71,73,73,78,68,80,74,91,94,94,94,94,80,57,57,72,71,63,74,74,74,72,75,53,59,71,76,61,59,71,62,73,64,61,61,61,71,71,75,60,88,71,64,64,64,71,71,65,61,82,51,51,51,51,63,58,58,75,85,71,71,100,107,107,107,107,72,39,57,57,57,57,57,57,57,80,96,88,71,80,80,69,68,68,68,68,63,100,71,71,106,83,83,83,83,72,63,69,71,65,71,71,71,71,71,70,70,70,71,65,37,65,63,71,71,71,71,71,71,71,71,71,79,65,71,71,71,71,71,56,56,73,75,77,78,73,77,62,61,61,61,61,61,74,75,62,62,71,77,80,81,71,60,60,60,69,72,84,104,71,56,71,72,71,71,71,71,71,71,102,71,91,73,73,73,73,73,73,57,80,80,80,80,80,80,80,60,60,63,71,71,71,69,94,59,59,56,82,78,64,64,68,68,68,120,70,70,105,105,73,73,46,65,71,71,55,56,77,63,50,65,58,58,70,69,60,60,60,60,60,71,80,85,65,74,74,57,73,56,62,60,60,60,71,90,77,61,61,65,65,74,59,67,71,65,71,71,71,71,68,68,85,62,62,77,63,65,65,65,81,81,71,70,70,70,92,92,80,60,63,60,45,83,93,59,62,71,71,71,71,71,71,71,73,62,74,74,70,70,63,71,71,71,71,71,71,59,91,71,71,71,60,60,73,73,70,70,78,71,80,73,73,73,73,76,88,85,85,65,65,63,73,71,91,91,91,91,68,75,82,82,82,82,71,65,75,71,71,71,71,59,82,75,75,75,97,85,65,88,88,88,88,64,64,63,58,78,78,80,91,70,54,54,56,77,70,71,83,72,72,67,71,71,71,71,71,62,71,71,55,89,68,87,71,88,88,79,58,72,70,75,71,86,71,74,74,75,75,78,74,71,71,102,115,88,88,88,88,88,88,88,70,71,71,71,61,57,67,71,55,55,75,71,71,71,70,70,71,71,71,71,80,60,60,60,60,60,60,60,66,66,71,72,72,54,71,71,71,64,62,51,94,82,58,71,64,64,64,64,71,71,67,63,63,74,74,71,71,71,65,71,85,85,55,64,71,71,71,71,60,71,71,71,72,66,71,71,71,71,71,71,71,71,63,71,71,71,71,71,71,77,77,77,77,76,50,85,71,70,70,71,71,70,85,55,74,75,71,59,77,62,71,90,71,52,67,71,71,71,71,58,58,58,90,91,74,85,71,71,88,88,88,88,73,71,80,63,71,71,91,69,71,87,87,87,64,90,90,60,60,71,71,71,63,89,72,80,80,80,80,80,80,80,80,80,80,82,100,68,68,66,71,64,64,100,73,77,77,64,74,71,84,84,84,84,76,89,71,64,64,68,68,68,98,98,98,98,98,98,98,98,63,71,71,50,50,55,60,56,47,54,60,56,75,51,51,53,59,82,54,56,75,57,77,63,52,70,60,60,76,76,76,76,76,55,64,58,58,58,70,75,53,53,73,58,70,62,92,47,47,67,67,52,52,58,58,58,58,58,58,75,50,43,43,72,36,56,63,72,44,63,51,56,56,56,56,56,65,65,52,52,52,52,52,52,65,65,65,65,70,50,65,58,70,71,85,73,65,75,71,60,75,82,63,56,49,71,70,60,68,69,85,60,86,86,71,71,71,71,71,71,71,71,71,71,72,72,71,71,71,71,74,71,92,92,74,57,96,71,68,68,60,88,71,71,71,71,98,63,79,71,60,71,89,71,82,78,67,62,86,86,70,70,70,70,92,61,61,61,61,61,61,71,53,90,66,59,59,59,73,65,67,68,71,113,100,73,65,71,71,71,71,71,71,71,56,56,56,75,71,56,73,64,78,60,70,70,78,70,63,63,63,63,63,52,65,65,68,62,53,53,102,102,102,71,75,82,87,87,102,102,80,80,68,68,83,70,63,64,64,74,71,62,86,76,76,76,71,71,72,72,71,71,71,73,73,71,84,80,71,71,64,71,71,71,96,71,71,71,71,71,71,92,63,50,92,92,92,71,71,65,71,72,71,71,76,71,71,71,71,71,80,71,66,58,66,71,71,68,71,71,107,107,86,71,93,73,71,71,71,83,80,71,71,64,60,80,37,69,85,85,85,75,75,75,55,56,56,56,52,75,75,95,71,71,83,83,65,79,79,79,71,78,65,65,65,65,65,65,71,71,71,71,71,71,63,71,78,94,69,60,62,62,36,71,71,71,72,72,92,71,71,71,71,71,71,75,95,95,70,78,76,68,56,96,65,85,64,64,64,64,64,68,55,62,62,105,62,59,71,71,71,71,71,78,83,106,106,62,80,55,69,69,60,60,60,60,50,48,68,65,68,68,75,50,50,50,81,81,54,58,58,60,78,74,102,70,48,48,60,68,73,73,61,60,60,70,57,72,70,45,45,45,45,45,83,84,56,74,74,71,71,71,71,82,86,65,65,65,71,65,85,85,85,85,84,71,57,97,97,57,59,59,59,90,90,56,56,91,65,65,65,65,71,71,80,63,84,73,66,64,64,75,71,108,71,67,68,68,91,91,78,75,71,71,71,71,74,41,46,100,79,74,74,40,40,40,100,85,85,64,73,69,69,68,90,90,90,78,88,88,88,88,88,88,88,88,88,88,88,88,88,71,71,88,88,65,90,67,91,91,71,75,71,71,71,81,79,71,83,83,75,71,70,71,82,86,86,86,71,77,71,71,71,71,71,71,78,71,69,75,62,62,62,78,71,71,71,86,86,125,90,62,75,75,71,60,60,80,85,85,96,96,57,71,75,71,71,75,101,90,78,71,106,98,71,75,75,71,118,118,72,89,75,56,56,59,48,48,48,48,57,71,53,53,71,70,74,80,97,97,97,84,71,71,64,64,100,96,71,71,67,91,96,55,55,67,75,77,58,56,73,54,81,91,74,71,59,65,74,71,68,64,91,130,130,130,60,60,80,78,83,83,83,75,78,60,85,68,71,71,71,57,57,71,71,93,93,71,71,69,68,71,75,71,65,81,75,84,108,71,93,93,93,89,69,82,69,71,85,71,71,71,71,74,53,53,53,53,53,65,71,73,73,73,73,73,71,71,71,71,71,60,92,92,71,99,70,118,71,61,61,71,71,77,104,61,71,83,96,96,57,52,52,71,86,89,71,91,71,57,75,70,70,60,82,56,72,75,94,96,93,65,71,71,91,80,100,100,100,48,48,95,81,68,68,85,84,53,58,58,77,71,30,30,60,60,77,77,45,65,63,85,54,76,71,55,79,77,71,64,82,113,92,82,80,89,79,71,74,81,75,103,84,82,99,71,71,71,71,78,57,57,71,76,76,76,76,76,88,65,91,91,95,90,85,71,94,82,71,71,71,50,50,70,71,82,82,71,98,98,64,96,98,71,120,120,71,71,68,68,68,83,71,89,77,63,75,58,67,73,70,78,78,71,82,138,92,82,86,79,55,55,55,55,92,92,71,81,78,63,66,66,76,71,71,78,78,66,68,68,68,68,71,86,76,76,73,71,71,71,71,71,80,80,71,67,67,67,71,71,71,71,71,75,73,71,71,71,71,71,75,83,83,71,83,87,87,80,71,71,71,72,71,71,71,79,65,65,70,55,72,54,56,67,54,54,63,64,62,93,93,57,80,77,79,75,49,76,76,83,78,71,95,95,90,90,90,77,77,75,86,86,64,68,71,73,71,71,71,75,75,65,78,78,78,71,83,73,48,78,86,78,89,33,84,66,92,92,60,60,65,120,84,71,71,105,71,59,71,71,68,49,71,84,71,70,71,71,79,71,73,71,71,53,85,71,71,71,71,87,82,82,76,50,50,50,50,58,58,58,58,65,58,74,74,74,72,72,72,53,65,44,44,70,75,76,71,61,61,62,71,71,71,71,96,71,89,58,58,90,71,71,71,67,71,71,109,86,76,71,66,71,71,52,76,71,52,71,43,70,85,85,85,85,85,84,84,82,98,78,71,74,74,80,80,80,88,71,71,71,88,95,66,71,71,71,71,71,71,71,71,71,71,71,65,65,81,71,71,86,71,71,52,71,71,71,72,81,81,82,71,71,71,71,71,71,54,70,87,54,54,63,63,67,67,61,84,59,59,71,71,57,50,57,107,68,91,91,71,81,63,63,63,63,71,82,77,68,80,72,71,71,71,58,58,58,71,88,69,73,71,71,72,72,71,71,71,71,71,71,80,71,71,71,71,79,62,77,64,71,71,90,48,48,48,71,71,54,83,79,79,79,79,65,85,71,53,83,71,87,87,73,61,75,75,75,75,71,70,80,71,73,73,94,94,94,53,71,85,82,71,59,82,52,61,60,60,60,89,83,98,68,86,71,73,92,81,71,77,65,71,71,65,84,70,86,71,71,71,77,77,77,71,71,90,87,87,87,87,71,71,90,90,90,90,62,71,90,65,65,71,71,71,71,83,80,64,71,62,62,71,70,64,78,78,72,65,98,142,142,61,71,60,75,48,70,84,75,75,98,100,77,100,100,77,77,77,73,65,66,66,86,70,70,86,63,92,81,81,81,67,67,67,100,100,100,100,92,125,71,60,60,65,54,54,79,78,54,95,95,97,50,63,51,63,71,59,57,100,54,54,105,105,77,86,86,62,62,67,47,71,58,71,78,78,64,56,62,78,71,74,103,72,72,72,58,68,68,73,71,71,82,82,66,60,84,84,85,71,71,71,58,71,71,71,71,71,107,71,71,71,71,71,71,71,71,62,62,116,116,61,100,56,46,71,71,62,77,77,77,60,79,77,78,78,96,55,83,83,82,65,50,54,71,56,78,99,99,99,69,69,69,82,71,77,77,77,64,64,64,64,63,84,92,105,105,72,71,72,71,71,71,71,71,82,71,69,63,123,59,105,64,71,71,71,71,71,71,71,71,71,71,71,71,71,71,71,71,71,71,71,75,74,64,64,71,72,56,56,56,56,56,56,80,92,92,92,92,55,58,51,49,92,86,61,61,77,71,96,71,83,83,83,104,76,76,76,67,93,75,75,59,76,73,73,73,105,85,85,85,74,71,104,85,85,59,70,71,71,89,62,62,73,73,65,71,71,70,98,65,65,65,65,65,65,65,65,73,73,73,73,63,71,75,75,75,78,57,70,83,35,113,71,52,75,75,71,71,71,87,48,94,92,71,78,72,71,71,79,72,72,48,71,71,71,71,50,72,71,75,85,63,63,70,80,89,74,95,95,95,85,85,71,115,71,71,88,75,87,71,82,68,68,92,78,66,66,66,70,70,70,108,91,71,65,92,52,52,52,61,61,71,71,70,70,71,60,76,65,83,65,71,71,71,65,80,80,81,71,71,71,71,71,40,67,71,71,80,71,71,88,88,59,56,52,71,71,71,97,74,71,85,85,71,58,58,80,73,73,71,68,68,68,81,81,81,86,69,62,64,76,96,71,71,71,83,69,85,68,94,95,95,86,50,95,46,46,56,56,56,75,85,85,63,63,84,84,71,57,71,94,68,72,66,80,80,55,75,75,71,73,84,68,71,71,75,75,75,59,71,71,66,89,71,71,80,75,75,82,71,71,92,74,58,58,71,77,80,94,71,61,71,70,71,85,85,71,73,73,73,73,73,71,71,77,77,95,95,59,72,84,97,97,76,102,71,74,71,71,93,93,66,71,90,90,71,71,71,71,71,71,71,71,63,69,71,71,66,76,76,75,71,71,71,71,68,68,47,71,84,84,69,69,69,74,71,71,100,100,71,71,59,59,59,87,78,76,42,71,70,70,71,69,75,75,77,77,74,132,71,135,78,50,50,54,49,71,68,68,68,68,68,68,71,71,48,67,67,58,71,71,76,76,76,71,62,62,105,69,85,95,66,69,72,65,65,65,66,89,50,56,71,75,75,77,82,75,75,71,71,71,71,71,71,71,71,79,71,66,66,66,73,71,66,66,71,71,82,85,90,104,77,71,90,58,73,71,69,69,59,71,71,80,76,55,71,80,58,71,71,81,51,84,84,84,61,48,57,89,71,81,81,92,82,71,71,71,71,80,80,65,65,65,65,65,93,71,71,71,71,62,50,50,71,75,90,90,90,71,61,71,71,71,71,106,67,100,65,74,90,81,75,54,54,70,90,64,64,69,69,92,92,75,71,71,71,71,76,76,76,71,71,85,77,77,48,63,63,63,63,62,92,72,71,81,99,99,53,53,65,71,71,89,89,120,120,56,63,84,84,84,84,65,57,57,60,60,74,74,65,53,53,55,90,65,50,85,70,100,90,71,86,66,57,72,72,71,74,74,74,74,74,74,74,74,67,78,57,71,71,84,81,81,71,70,70,71,75,70,82,82,70,60,56,75,80,94,78,69,72,70,70,70,75,71,71,71,50,50,50,70,71,71,71,72,87,71,71,69,81,81,51,78,71,67,77,77,77,76,60,71,86,71,77,60,60,99,81,89,72,72,72,86,86,71,81,56,56,72,72,97,97,91,71,71,71,71,77,87,81,81,81,81,68,65,80,70,70,81,71,74,72,72,72,83,71,71,94,57,71,82,82,82,82,76,68,68,68,68,71,60,62,62,80,80,75,73,72,72,71,71,77,71,77,77,77,130,130,70,55,55,55,55,67,84,63,63,60,70,77,71,74,74,74,74,70,70,71,71,100,102,82,98,72,69,71,71,73,57,76,89,71,71,64,66,71,62,62,62,82,71,66,66,67,71,70,71,45,73,50,50,93,43,76,76,71,77,67,55,55,71,58,58,58,58,68,68,78,70,70,64,72,71,71,72,72,71,74,51,71,78,69,48,95,55,68,68,80,80,71,80,80,59,59,59,71,49,71,91,71,66,85,85,120,120,120,81,71,71,70,82,81,109,55,86,70,70,71,77,61,58,68,75,75,74,59,64,59,84,72,72,72,72,72,77,75,78,71,71,68,71,71,86,71,89,71,115,115,115,80,56,73,73,59,59,59,69,69,71,71,81,73,75,61,86,66,71,71,71,71,71,77,77,77,91,91,91,91,71,79,79,73,73,70,70,70,79,72,72,72,72,80,80,71,71,71,86,71,71,98,60,60,60,60,65,89,89,60,55,71,71,71,79,82,74,74,74,54,59,59,71,71,71,95,71,71,71,70,71,71,71,71,89,59,75,91,91,78,65,86,71,100,71,71,60,60,73,63,71,71,71,71,55,55,62,71,71,91,57,68,95,71,72,79,71,71,71,71,97,40,40,40,70,80,71,71,85,68,62,71,65,57,72,72,61,64,93,93,60,60,96,79,71,65,91,59,59,70,70,70,72,55,64,64,64,64,64,71,71,70,70,70,70,70,70,70,81,81,62,85,71,65,84,71,71,71,71,59,75,71,49,102,102,102,120,56,56,66,66,66,66,71,74,81,55,75,76,92,84,66,66,101,74,68,68,68,71,80,74,71,71,67,54,54,71,76,70,97,97,64,74,71,71,95,71,61,61,64,95,75,69,80,80,83,70,70,79,80,80,80,71,62,62,62,74,71,71,75,75,75,71,81,71,71,65,74,95,85,49,82,86,86,57,63,57,76,75,77,81,81,59,80,71,67,71,73,73,93,71,84,84,84,84,71,58,88,64,68,86,94,44,65,55,71,86,71,71,88,112,54,65,59,72,78,71,84,68,71,66,66,95,71,110,71,86,86,86,80,80,48,90,90,71,123,71,71,54,54,60,60,60,60,60,76,85,71,71,77,85,70,73,73,73,71,93,71,97,100,70,70,81,71,73,86,86,84,54,71,71,71,58,63,89,91,71,71,71,88,88,76,70,70,71,71,71,71,71,76,71,61,59,94,94,78,80,71,95,95,57,48,48,71,71,71,71,71,98,54,66,62,71,104,71,72,86,86,86,86,62,68,83,89,66,66,71,71,71,71,71,57,68,68,73,86,62,68,54,98,78,78,71,66,67,71,71,53,71,75,75,82,92,92,78,66,66,71,71,71,80,80,78,71,71,74,87,80,82,82,82,82,67,90,94,62,62,76,76,76,76,77,71,90,90,90,75,75,71,71,82,82,75,70,74,62,71,78,78,78,71,71,65,71,67,52,52,52,55,71,71,71,71,57,84,84,71,90,60,71,71,71,71,71,61,71,82,82,71,59,56,70,70,55,93,85,71,71,60,55,71,67,67,71,95,78,62,63,77,51,71,63,69,71,71,71,71,82,52,71,71,71,53,53,71,71,71,71,68,75,85,75,75,66,66,73,71,71,71,71,71,71,71,75,75,86,67,83,86,70,100,100,100,100,100,86,53,72,71,71,71,71,71,71,71,71,72,96,75,95,95,74,58,71,83,71,58,77,80,73,73,56,59,86,69,79,71,115,81,81,79,79,79,60,103,103,80,71,64,69,69,62,64,71,63,67,67,62,71,82,68,68,68,68,71,87,71,71,71,78,71,97,97,56,56,79,71,90,86,105,74,71,57,71,60,60,60,84,130,75,70,70,76,87,60,88,71,70,71,76,98,71,92,91,61,70,79,79,77,91,91,91,91,91,91,71,68,68,80,80,68,71,65,71,55,71,79,79,67,67,63,86,71,76,93,93,39,39,39,39,39,39,39,69,59,64,71,71,71,63,63,63,68,68,100,100,100,71,50,50,67,71,41,80,89,89,58,76,71,71,71,85,85,77,73,71,71,71,71,71,71,84,90,64,80,73,71,78,84,84,71,56,56,56,56,71,55,71,71,71,71,87,87,87,64,84,140,72,60,60,57,76,59,71,75,82,84,63,71,71,71,82,90,84,71,74,64,64,71,68,68,71,71,71,71,85,60,92,73,48,99,90,106,106,87,87,130,32,91,51,100,83,56,56,103,71,83,90,71,66,66,66,66,60,90,90,85,73,84,63,63,50,50,62,62,62,62,62,62,75,75,75,88,71,63,80,67,100,68,68,68,86,70,70,70,71,83,71,71,51,51,79,50,50,60,71,77,85,56,71,71,56,89,75,71,71,71,77,100,91,91,57,57,62,62,76,63,58,58,55,55,55,51,84,55,55,55,88,78,72,57,57,68,48,48,70,58,58,58,60,51,56,68,80,67,73,72,66,66,87,120,56,71,70,70,58,63,63,62,52,71,52,85,73,73,71,73,54,91,66,38,71,80,80,74,74,74,74,88,88,88,71,94,68,68,50,34,84,71,71,71,59,93,74,74,99,55,71,78,78,110,71,89,89,56,71,71,58,58,58,58,58,70,71,58,71,57,78,78,75,86,71,69,71,71,71,71,71,60,57,57,67,53,71,71,69,71,70,71,75,75,75,71,83,83,71,71,71,71,80,80,76,72,70,58,73,90,65,78,73,78,80,80,70,71,71,71,75,71,107,82,88,71,90,125,71,55,57,66,73,69,92,92,92,92,71,104,104,104,71,71,71,86,86,74,87,82,105,83,100,87,87,74,74,74,74,75,75,71,76,71,81,77,92,71,71,71,71,75,75,75,72,71,77,71,71,88,81,71,71,82,82,82,82,80,93,93,93,93,93,83,83,57,77,49,71,85,83,71,71,71,71,71,88,88,88,88,75,73,73,100,71,64,73,73,73,73,73,73,68,78,73,49,49,97,99,79,62,60,77,77,54,72,71,54,71,71,53,77,77,71,81,71,71,71,67,71,77,79,79,71,71,71,67,71,45,87,71,97,54,74,71,75,75,73,84,84,84,84,84,70,71,53,65,60,60,90,72,72,72,71,76,60,93,71,77,62,71,71,71,71,71,71,71,71,71,71,91,76,55,55,55,71,92,81,81,81,79,79,79,79,79,71,71,79,31,78,78,63,52,80,71,71,78,71,62,71,90,82,71,68,71,73,73,90,67,67,67,73,67,67,67,67,76,63,71,71,78,71,71,72,68,71,80,78,54,54,66,66,66,85,85,69,68,68,82,59,73,71,88,71,71,84,61,71,82,94,73,88,88,88,74,74,82,82,73,71,67,75,70,84,80,69,69,84,71,71,70,62,71,86,71,71,81,81,81,81,56,56,71,75,75,75,96,95,62,62,62,71,71,88,88,50,90,90,71,71,88,77,77,70,86,87,71,71,66,71,71,72,80,78,82,70,67,59,71,72,59,59,59,78,78,72,72,72,97,96,82,76,76,68,80,73,73,64,53,80,80,71,77,60,60,45,45,71,69,69,69,63,51,51,75,71,72,72,89,75,88,71,71,72,71,70,70,63,68,68,71,65,117,58,66,71,71,71,76,71,68,77,64,72,73,82,120,66,50,72,72,113,90,71,71,71,71,71,75,57,57,57,63,69,82,92,72,65,83,104,104,100,100,73,73,71,71,71,60,102,77,71,80,71,71,71,67,75,78,55,68,80,80,78,71,66,73,74,77,77,77,102,71,79,79,53,90,71,71,54,62,71,71,71,63,63,71,61,82,82,80,87,71,98,71,87,57,71,50,70,71,64,85,72,71,60,86,74,71,52,84,75,75,71,71,70,93,102,56,80,66,80,80,71,84,84,67,67,59,57,60,76,71,100,100,71,71,71,69,71,83,98,98,63,90,86,100,91,62,71,71,62,62,84,84,75,78,78,71,70,92,71,80,73,52,66,74,58,71,71,86,70,96,71,71,96,96,96,56,56,56,80,66,96,66,78,62,71,71,71,71,71,71,71,77,77,77,55,55,55,55,55,55,55,55,71,74,74,65,68,68,76,71,73,120,76,76,96,96,72,68,71,71,62,71,71,88,88,77,88,88,91,91,91,99,71,83,83,83,71,98,98,66,71,60,71,50,55,66,97,71,81,67,52,67,71,104,79,79,86,86,86,86,86,86,86,93,102,72,73,73,91,65,57,57,48,48,48,48,48,48,48,50,50,98,73,73,72,53,53,53,53,75,96,113,113,65,61,71,54,73,120,90,68,54,54,54,63,63,55,92,50,50,71,75,71,71,84,84,84,66,71,79,79,79,71,51,51,51,51,62,93,80,79,66,68,74,74,74,74,74,74,76,76,76,82,77,63,83,82,76,58,70,90,64,70,95,95,70,70,67,75,72,71,80,80,65,65,88,88,88,88,88,56,116,80,94,94,90,80,80,70,69,69,69,69,71,71,71,71,71,71,64,64,64,73,73,87,71,71,81,60,81,82,70,71,69,78,71,59,71,106,67,71,75,75,71,76,67,67,67,71,65,63,63,48,48,77,69,69,66,58,71,71,87,87,89,89,104,104,40,95,63,63,71,63,63,62,57,58,53,80,70,71,73,67,67,56,52,52,94,55,55,66,85,50,54,58,48,109,64,52,69,73,59,59,59,59,59,59,59,59,59,59,72,95,95,80,68,91,56,56,56,71,46,46,73,56,56,78,78,60,56,67,67,56,115,70,80,93,93,93,78,71,71,93,66,85,85,95,95,96,96,71,93,93,86,86,91,72,73,73,86,71,52,52,52,105,75,96,100,76,58,56,62,62,71,71,71,71,71,71,71,71,64,71,80,80,84,84,76,71,68,71,71,82,82,82,62,77,75,70,52,65,71,76,49,71,52,82,69,120,58,57,57,57,57,57,57,60,60,60,66,73,73,73,73,73,73,71,64,45,45,72,82,68,92,104,114,75,75,66,59,52,71,78,78,78,73,65,65,65,65,65,65,80,80,80,71,71,65,91,91,90,93,71,68,95,72,92,98,94,81,84,71,75,95,95,95,95,65,86,70,71,63,63,63,85,91,91,70,61,92,86,86,86,86,77,77,77,63,90,90,80,120,120,64,59,63,71,66,66,66,77,68,71,71,70,62,91,88,89,73,63,90,90,71,71,71,64,82,82,71,71,95,69,65,65,65,75,49,49,71,75,75,75,75,75,75,75,75,75,75,75,75,72,78,71,90,90,70,71,71,85,85,60,71,71,71,71,72,148,148,148,71,68,68,52,78,78,62,114,87,61,61,78,78,50,55,73,83,75,75,51,71,67,58,52,90,71,71,74,74,65,71,71,71,71,67,67,67,67,67,67,60,71,71,45,45,64,64,61,58,58,58,68,100,95,95,94,65,74,83,64,78,97,70,71,58,71,77,77,54,71,73,71,71,70,70,70,82,68,68,71,51,51,51,71,71,69,69,69,71,71,71,67,64,64,105,68,69,62,71,55,55,62,61,66,73,73,74,71,60,71,71,90,71,71,68,81,57,78,78,78,83,71,79,74,74,71,86,71,71,91,71,70,70,71,60,78,78,130,130,102,102,91,91,69,69,60,80,60,90,68,71,71,71,71,71,63,76,110,71,71,71,73,71,83,72,71,71,71,71,71,78,71,96,71,71,71,92,67,71,71,71,71,71,71,71,71,71,60,60,71,65,65,65,65,65,65,65,65,63,71,86,75,93,66,90,97,97,62,60,60,60,71,71,97,63,71,89,93,60,60,71,71,71,81,71,67,71,71,66,95,80,84,70,71,71,72,89,106,106,106,71,72,68,99,68,56,62,57,77,59,59,79,79,79,79,103,103,55,55,65,65,65,65,84,71,74,58,58,79,86,97,71,71,71,71,81,89,71,84,48,90,72,63,63,63,66,55,105,71,78,78,67,67,74,71,55,55,55,71,90,71,78,71,114,64,71,71,110,71,71,71,71,86,86,71,71,71,71,76,71,76,71,68,71,71,94,94,94,94,88,93,75,52,52,69,71,68,71,66,71,61,61,60,58,58,74,86,115,64,80,90,62,63,63,85,80,58,58,71,83,83,43,62,75,75,51,80,51,71,89,65,54,73,81,81,63,60,60,63,63,74,71,80,60,85,83,83,40,71,60,71,57,75,58,59,102,102,71,71,71,77,77,77,77,77,71,71,71,71,71,66,40,75,86,72,71,96,71,76,71,65,60,60,60,69,65,55,82,79,71,84,90,85,70,70,71,71,87,71,65,71,71,71,71,75,62,62,93,60,70,71,71,81,71,71,71,71,80,71,71,71,71,73,73,71,76,71,71,71,71,57,71,71,71,71,71,71,73,68,70,62,79,86,71,71,82,71,82,71,71,82,82,81,82,82,82,82,65,65,85,71,79,93,71,76,78,86,70,71,175,71,71,71,71,71,71,66,70,70,70,70,96,96,48,72,78,78,78,79,79,77,71,88,71,77,103,78,103,103,70,75,75,75,75,75,120,58,78,53,69,69,69,69,69,69,60,60,63,63,63,82,77,86,60,52,105,77,60,71,56,57,57,60,74,74,128,71,71,71,96,100,73,67,71,71,71,71,71,71,71,65,71,76,76,95,83,87,87,87,52,89,89,70,71,58,91,58,58,71,65,58,65,65,65,65,65,65,65,65,65,65,65,65,109,52,52,71,102,109,109,109,68,68,52,74,58,71,71,60,76,58,58,71,63,63,63,71,71,82,54,54,54,54,54,71,65,66,86,84,71,73,71,71,63,67,76,73,73,73,73,60,72,72,69,92,80,59,81,69,44,44,44,84,77,89,89,71,71,71,70,111,111,111,96,72,71,65,65,65,80,77,97,48,60,112,82,71,71,79,79,71,58,66,66,71,92,115,115,82,93,79,79,50,54,90,100,94,78,78,71,75,75,75,78,55,98,98,80,84,71,89,74,51,77,77,77,72,66,66,60,68,71,71,71,71,83,83,76,76,76,95,41,60,55,71,64,64,93,73,73,87,89,70,70,65,68,52,52,71,71,62,84,84,72,64,69,70,71,102,86,71,60,55,71,55,55,55,55,88,80,125,125,125,125,70,70,75,74,71,71,72,73,78,65,75,71,71,71,71,73,73,90,81,71,130,76,75,78,73,59,59,72,72,70,71,71,71,71,67,67,67,71,71,71,66,66,71,58,76,65,69,100,100,64,64,64,64,73,73,73,84,84,71,71,71,71,85,100,68,68,68,68,68,68,68,68,51,61,61,87,80,80,70,70,70,65,60,60,60,71,90,90,71,79,100,67,51,51,65,86,115,71,66,66,71,67,54,80,57,85,57,52,43,92,92,74,59,69,68,81,63,71,71,78,51,75,49,49,71,61,113,95,95,64,75,75,48,48,71,71,85,85,85,85,71,63,94,59,55,62,71,89,51,51,75,68,68,68,68,87,80,80,80,80,80,80,80,80,62,88,71,71,91,120,71,78,64,78,71,54,80,93,71,77,71,71,71,71,71,74,64,85,57,57,71,71,71,71,71,71,56,55,55,58,63,71,71,71,71,71,71,71,71,142,82,82,82,82,82,107,71,95,71,71,71,71,71,71,71,71,71,71,70,71,71,71,71,71,71,71,71,71,71,71,72,72,58,58,58,58,73,80,88,70,70,70,70,70,70,88,88,71,71,71,100,99,99,99,61,71,71,74,74,74,84,62,62,88,56,56,48,88,93,93,93,63,71,71,78,78,137,71,71,63,63,63,63,63,63,63,63,115,66,66,57,71,80,60,73,58,58,58,58,58,58,58,58,58,58,58,58,58,47,47,71,71,50,71,76,54,54,64,74,74,74,71,71,71,71,93,93,93,60,80,63,68,71,71,71,63,79,91,69,69,69,71,71,71,75,85,83,74,85,60,60,60,71,71,84,62,71,79,79,55,55,55,82,71,71,71,71,71,65,71,71,71,71,65,71,71,75,61,68,65,73,95,79,80,55,78,47,99,75,61,61,68,86,64,77,71,71,71,71,95,95,95,76,60,67,71,52,72,92,71,65,65,73,54,71,60,87,77,71,76,71,71,71,77,86,76,67,57,71,55,79,68,68,80,63,65,73,73,69,71,71,71,71,71,71,71,71,71,71,71,59,68,86,86,80,80,53,82,67,65,71,71,90,90,90,72,72,71,71,89,52,55,73,73,71,88,71,78,95,94,71,71,71,79,79,73,73,73,71,71,79,71,71,71,71,62,77,77,65,65,65,65,63,63,63,63,63,78,71,71,71,71,71,71,71,71,71,71,71,71,71,71,71,71,71,64,95,95,65,74,69,69,78,55,71,68,63,62,71,58,58,92,61,63,71,60,60,60,68,70,62,62,62,62,62,62,62,62,62,95,90,94,70,70,70,70,70,70,71,64,64,83,52,64,70,70,67,62,70,69,62,77,77,77,77,82,80,95,68,60,51,70,75,75,62,61,77,77,59,69,69,56,54,71,55,57,88,71,70,70,75,78,78,78,78,79,61,61,71,71,71,71,70,71,80,80,82,70,71,96,60,71,71,81,81,81,68,48,74,67,74,140,71,86,77,64,64,64,71,81,71,94,94,94,78,84,68,71,57,57,71,71,74,72,72,75,75,75,75,56,56,71,71,74,74,71,71,71,71,56,78,68,71,71,77,71,60,77,71,63,71,71,60,60,60,80,58,94,71,71,71,71,71,72,90,71,98,71,71,71,60,50,50,74,73,70,63,71,71,51,47,47,47,47,47,67,67,71,71,66,69,66,54,71,71,71,57,72,86,86,66,66,69,71,87,77,77,71,71,105,87,64,64,71,71,95,71,72,88,71,72,75,71,71,71,72,110,110,70,72,72,90,71,57,64,92,71,96,96,71,83,83,71,80,80,71,71,80,75,64,64,64,64,46,77,77,70,74,74,71,112,84,84,84,41,71,66,77,75,64,78,77,71,85,65,71,71,71,71,71,71,62,62,84,84,84,84,95,95,71,71,62,71,71,71,71,82,79,79,70,71,71,71,89,60,71,55,71,90,71,57,74,63,70,80,80,80,80,48,48,90,90,90,71,71,71,71,89,110,110,110,110,57,75,87,55,71,76,76,76,86,71,56,65,82,73,73,73,65,71,71,78,78,75,61,74,68,68,70,66,56,73,75,72,72,72,72,69,69,58,58,58,58,58,71,54,73,73,73,73,80,79,71,71,79,52,80,80,59,81,84,81,86,53,71,71,84,73,65,82,61,66,72,93,71,82,78,89,81,66,66,66,74,77,71,71,71,71,71,71,71,71,82,76,71,77,64,64,70,90,116,66,71,81,81,81,81,81,81,73,64,83,83,83,93,93,71,96,96,72,71,71,71,85,85,62,62,62,62,62,54,75,71,72,74,93,71,85,48,48,48,48,80,50,67,71,66,105,105,78,101,101,71,71,57,78,78,71,71,78,78,71,89,73,73,73,71,71,71,71,84,64,70,83,70,71,70,59,61,83,60,73,71,71,120,69,69,81,90,44,44,44,75,51,70,70,70,79,72,72,93,93,79,79,79,79,79,79,79,42,42,42,83,83,87,71,50,60,74,74,94,90,90,66,57,71,71,52,53,77,84,66,66,66,71,71,71,71,73,86,71,71,71,71,71,71,57,90,90,78,85,71,57,82,43,43,79,46,77,73,72,72,71,65,65,74,74,74,74,74,70,78,79,71,66,72,67,71,57,57,71,71,86,86,71,73,95,59,52,81,71,71,72,71,92,92,76,76,86,70,77,77,64,64,64,64,71,71,84,84,84,59,86,86,86,75,82,82,63,52,61,61,61,61,61,61,61,61,61,64,71,88,88,73,74,86,71,71,71,71,71,71,71,71,71,68,68,71,71,71,71,71,71,71,80,63,63,71,71,71,54,71,71,71,71,87,71,71,68,61,63,70,70,70,70,71,71,71,71,66,78,78,71,73,73,88,66,86,61,88,85,86,71,71,80,82,71,91,91,91,91,91,91,91,66,66,75,71,103,75,71,71,57,107,71,56,56,56,102,71,67,89,71,71,71,71,71,71,65,65,74,74,74,74,54,80,70,77,93,93,93,93,71,71,71,66,71,71,71,71,71,71,93,73,73,79,79,79,79,67,63,93,73,68,71,60,60,60,50,94,94,62,79,64,71,77,72,94,64,71,71,81,66,87,87,80,71,71,71,57,57,71,63,80,70,70,130,130,73,71,82,62,78,92,92,92,61,61,71,65,60,60,60,50,50,62,83,71,62,71,50,56,85,71,59,98,84,72,101,90,72,58,60,60,69,69,100,100,86,72,71,78,68,86,71,68,68,56,80,90,90,90,90,106,90,83,83,85,85,59,71,90,90,71,65,71,75,70,71,71,75,71,77,71,61,61,61,71,85,82,66,71,64,71,71,71,56,71,71,95,95,71,68,71,59,71,71,57,80,71,71,68,71,71,71,71,71,112,112,56,71,71,71,71,78,78,73,64,71,88,74,82,89,89,71,69,69,69,69,84,72,75,71,71,71,71,71,71,71,67,67,67,70,78,78,78,68,50,60,54,64,64,78,78,71,83,70,70,71,59,59,59,68,66,100,71,71,71,62,68,68,100,58,71,71,71,81,80,71,73,71,71,71,98,52,71,71,80,74,71,71,71,71,71,71,75,75,73,63,63,63,52,90,90,61,71,80,82,82,71,77,77,79,79,71,94,71,84,78,78,60,78,71,71,71,71,71,73,84,90,82,96,75,75,60,80,80,80,69,69,57,57,57,57,68,71,73,73,73,73,125,52,52,81,57,70,52,52,52,67,74,54,85,72,71,74,74,71,83,62,91,103,103,92,92,76,77,57,81,89,80,77,77,77,71,82,82,71,65,67,54,63,71,60,46,85,89,89,89,77,71,98,72,91,91,91,91,66,61,61,61,61,71,71,71,71,73,73,71,58,58,58,64,64,71,64,64,83,74,74,71,71,71,71,67,67,75,75,75,71,71,64,82,82,64,71,83,75,82,79,75,75,69,71,71,71,71,71,82,89,89,65,65,65,48,48,48,64,64,85,85,85,85,71,58,58,73,73,75,67,67,67,105,67,80,80,80,71,71,71,58,58,74,70,67,71,71,91,91,91,91,91,91,91,91,91,91,91,91,91,91,91,91,91,91,91,91,91,91,91,91,91,91,91,91,75,63,98,67,88,71,71,84,49,73,70,71,71,58,79,79,64,71,75,90,71,71,102,80,68,68,68,89,68,52,70,70,70,75,71,71,71,71,71,73,71,57,71,76,65,68,57,71,64,62,56,71,71,78,78,84,66,86,71,97,71,70,96,71,69,69,69,76,81,81,81,86,73,73,131,71,55,66,71,71,71,68,71,71,61,61,61,82,60,97,97,97,92,92,72,71,71,71,76,73,51,75,75,75,77,77,71,71,70,70,70,70,75,75,75,72,72,71,71,87,86,94,81,71,71,71,54,71,71,71,70,75,77,71,80,80,80,66,70,68,65,71,92,92,68,58,71,70,71,71,71,71,71,71,108,108,108,108,89,71,81,71,71,71,71,71,80,74,71,71,71,71,81,76,76,76,73,73,73,64,64,64,64,64,102,102,84,77,65,65,87,71,65,71,66,66,71,68,71,71,52,52,71,71,78,71,108,125,71,82,71,94,97,71,71,82,82,71,71,71,57,61,71,91,62,71,71,84,71,70,95,64,77,65,71,80,71,96,60,72,72,71,87,85,71,84,71,57,64,61,71,71,86,72,82,80,82,71,80,71,71,71,71,58,58,62,62,73,71,110,71,80,73,88,88,88,88,88,88,88,65,65,95,95,71,83,72,72,72,72,71,71,70,93,93,93,71,71,56,56,71,65,95,42,42,42,76,63,76,75,66,75,71,71,75,110,110,71,75,71,68,73,55,55,71,79,79,82,82,82,77,77,71,70,70,70,63,65,71,84,84,71,74,79,71,100,71,120,45,88,63,68,78,71,87,82,93,70,94,88,63,71,95,98,84,59,59,59,76,76,76,75,61,61,61,61,61,61,75,71,78,78,77,71,71,71,71,72,72,71,48,71,71,71,71,76,71,79,53,89,71,71,68,68,67,82,62,62,62,62,71,70,55,80,80,80,72,72,96,105,105,70,61,67,76,74,74,71,69,63,82,73,49,100,51,68,68,68,74,47,47,47,47,47,57,86,84,84,84,70,70,105,66,50,48,75,75,95,62,35,86,72,95,71,75,58,93,93,93,93,80,80,68,75,75,62,77,67,67,74,74,87,87,87,87,87,87,87,87,87,79,90,67,67,86,86,95,65,65,71,70,54,71,97,97,64,71,91,92,73,74,71,98,98,71,79,71,91,85,85,71,74,60,83,73,69,69,70,70,70,70,70,62,94,106,83,71,90,52,59,49,87,56,56,91,84,84,84,80,77,78,58,71,71,71,71,96,96,81,93,93,76,87,87,81,74,98,65,73,71,98,60,64,35,35,35,67,83,78,71,70,70,66,72,72,63,77,71,71,71,55,61,71,72,72,68,59,59,59,60,75,92,71,71,71,64,64,68,65,91,75,98,63,93,60,72,110,110,77,77,54,54,60,60,71,63,108,89,81,81,71,71,70,70,71,71,71,71,53,53,78,78,78,78,78,77,50,81,74,47,110,110,56,75,75,71,71,71,71,71,71,71,71,70,70,84,78,76,71,56,98,76,72,42,87,87,93,93,75,75,102,102,102,102,53,53,53,87,71,56,56,71,71,71,77,66,55,55,100,108,71,68,71,71,76,76,89,89,71,68,68,71,66,66,53,108,81,75,75,75,75,84,71,71,65,93,79,47,74,74,74,74,74,74,74,74,66,90,86,71,71,85,85,64,64,64,64,106,106,106,56,71,71,71,81,98,85,82,89,89,89,72,71,39,39,52,71,71,71,56,80,60,80,80,83,70,54,68,71,71,71,82,72,72,78,100,100,58,58,89,83,71,71,71,52,92,77,71,52,61,68,68,68,68,68,74,69,71,71,71,89,51,51,78,71,71,72,80,83,69,81,71,71,71,104,104,71,71,72,105,105,68,71,74,88,82,82,86,49,57,49,54,54,64,68,68,68,70,114,114,91,70,71,71,71,71,71,80,71,60,54,71,78,60,71,71,73,73,48,65,67,71,71,73,71,63,102,102,77,77,77,77,74,71,71,89,76,52,80,80,71,68,93,88,100,100,59,71,78,80,43,63,68,55,55,55,71,79,89,89,89,89,68,68,77,75,100,97,97,97,62,62,62,62,62,62,60,45,70,65,65,65,65,65,62,62,58,64,81,56,78,57,71,71,64,64,64,64,70,70,70,70,63,71,71,52,65,71,88,88,61,85,85,85,62,65,65,74,71,71,71,71,71,71,55,71,50,83,74,71,50,105,75,69,66,66,74,60,62,59,62,86,75,60,85,64,93,59,59,72,72,72,71,55,71,71,95,95,77,69,71,71,78,71,71,72,72,52,70,71,71,65,65,65,79,67,71,71,71,71,71,71,95,71,97,97,86,61,61,71,70,68,75,67,55,80,76,76,76,76,60,60,79,79,59,107,107,65,71,73,75,71,60,37,37,55,55,55,130,103,83,71,71,71,73,71,65,89,89,80,80,67,65,79,75,64,71,71,71,71,60,60,60,66,100,100,100,70,62,54,71,68,71,57,72,83,83,83,83,61,72,98,71,71,71,93,93,71,71,52,52,52,52,52,52,95,71,70,71,71,71,71,96,88,64,64,71,75,76,77,145,63,63,78,78,78,78,55,70,69,69,68,84,90,100,75,86,71,61,51,71,71,64,75,65,67,66,62,56,56,71,71,74,65,71,48,74,74,72,100,71,75,75,56,65,85,59,71,86,71,78,90,81,63,71,74,86,72,83,57,74,74,71,51,71,71,71,65,65,65,55,71,71,71,57,101,101,67,67,67,65,65,69,57,57,57,71,74,98,71,86,60,64,66,66,71,65,65,71,101,64,107,71,75,75,75,140,72,80,70,70,71,71,40,78,78,88,71,71,63,71,68,79,75,75,99,90,71,71,71,79,79,72,72,57,57,60,60,60,119,72,85,71,78,58,86,71,71,84,70,105,105,105,71,71,89,104,82,82,62,85,82,82,82,82,85,71,71,71,71,86,73,73,73,71,72,71,71,81,105,71,71,71,71,71,48,54,74,100,87,87,55,71,86,78,71,71,90,105,80,88,105,105,94,94,95,89,55,83,64,81,80,55,55,67,67,71,71,72,112,71,85,48,78,78,98,75,71,74,72,62,71,74,98,68,59,62,103,103,103,103,103,103,140,81,83,71,71,51,77,100,100,100,71,57,87,71,71,61,61,62,62,66,56,81,71,71,98,98,71,48,60,69,75,71,71,71,65,51,93,71,71,71,96,71,83,71,72,72,71,71,71,87,71,71,79,83,116,71,71,71,76,76,61,71,51,51,60,53,65,65,59,71,68,71,78,58,58,58,84,84,98,98,76,71,65,65,68,71,66,66,66,59,71,71,78,78,78,70,66,93,93,85,71,56,56,56,56,56,56,56,109,68,114,67,67,70,51,51,77,49,63,90,86,90,71,85,71,76,52,71,90,90,81,81,81,84,71,75,87,63,71,71,62,45,50,58,58,71,80,84,84,75,70,92,71,91,91,72,72,77,90,71,80,70,54,58,68,71,73,42,42,42,42,42,71,71,71,71,71,58,71,61,61,66,71,72,72,72,72,72,72,74,72,66,71,71,66,57,109,109,109,80,71,84,84,71,71,60,71,88,88,88,77,71,155,155,120,100,100,90,90,82,82,55,55,55,55,55,60,82,82,82,82,82,82,68,68,71,60,74,54,55,55,58,63,76,95,95,48,48,97,97,97,97,97,97,66,90,90,102,102,102,71,71,71,71,71,67,67,67,71,71,82,63,67,71,71,71,71,71,71,84,75,75,75,71,71,88,71,64,67,67,71,71,71,71,71,57,62,62,62,62,62,71,71,60,60,71,71,71,86,77,74,74,48,73,51,71,75,59,55,55,66,66,85,85,85,85,64,64,71,71,71,71,98,98,53,53,53,53,71,85,85,96,96,84,68,80,80,71,71,67,67,84,78,78,71,66,66,66,57,57,71,71,63,92,92,92,63,64,71,48,71,78,75,82,77,77,71,67,71,110,110,63,69,69,69,74,71,66,66,66,71,112,87,61,96,96,96,62,62,93,71,102,53,72,77,92,71,71,71,71,71,71,71,98,71,75,75,54,54,87,71,82,54,54,54,54,63,71,62,62,83,54,74,71,71,68,68,88,59,59,59,75,75,71,71,71,54,56,68,139,139,139,71,71,71,71,85,89,89,89,64,55,55,86,71,72,70,70,75,71,71,96,71,69,75,71,55,67,79,79,89,89,72,71,71,71,66,66,66,66,66,66,66,66,92,92,92,92,92,92,59,110,84,80,71,54,73,55,71,71,71,71,49,92,92,49,71,73,59,75,80,49,49,81,71,71,78,78,73,74,74,85,67,70,81,68,68,82,90,71,71,51,63,88,71,71,95,70,70,70,91,71,92,71,71,75,75,75,68,68,68,89,96,83,82,90,71,66,66,60,70,70,73,73,73,74,74,57,71,74,74,57,57,57,91,91,91,107,107,107,69,71,70,70,71,75,82,71,70,77,59,71,71,71,71,71,76,75,64,71,80,141,62,96,96,66,94,84,80,80,80,92,60,90,61,50,63,63,63,63,85,53,76,66,66,61,79,72,71,71,78,71,71,71,71,71,70,70,71,71,54,92,73,71,95,71,71,80,41,41,41,70,85,85,85,70,79,71,71,120,66,66,90,71,92,66,51,48,135,135,60,63,61,58,58,60,71,71,86,72,74,53,80,71,75,80,80,54,71,93,105,89,71,71,67,100,93,71,71,70,70,70,60,60,75,71,46,93,93,69,71,50,50,82,57,111,71,87,87,84,74,60,60,81,81,71,89,71,71,58,58,90,55,67,64,67,75,75,100,75,65,67,60,90,92,91,71,98,69,74,56,72,72,71,81,72,59,93,93,79,71,70,73,57,72,71,74,52,52,87,87,71,90,90,65,59,79,95,60,60,71,71,71,68,64,68,68,69,71,72,72,72,72,72,71,71,70,78,77,61,51,75,75,75,65,71,57,57,57,57,57,84,84,84,60,110,58,58,85,69,69,90,71,70,104,62,48,48,86,73,73,86,84,80,80,85,85,85,71,71,65,71,80,64,81,76,71,55,77,77,99,71,71,93,71,64,68,68,68,71,54,71,76,71,71,63,63,63,81,95,100,71,71,71,93,72,72,70,70,71,71,71,71,81,63,89,89,89,68,64,64,59,78,67,74,74,71,71,78,71,62,71,80,80,80,80,80,80,115,115,115,115,115,115,80,80,40,69,56,71,71,71,71,71,71,71,71,71,71,71,71,69,69,69,61,61,71,71,71,86,86,71,65,65,71,71,100,100,100,89,70,92,71,72,72,85,60,78,88,88,88,88,75,75,71,71,45,71,71,71,71,71,88,80,65,71,71,84,84,84,84,84,71,89,71,71,59,88,64,87,87,82,64,62,62,70,84,85,85,71,71,71,76,80,44,44,71,78,78,66,84,71,60,88,71,89,71,71,73,88,88,71,60,60,60,60,60,80,71,82,92,66,66,88,88,82,71,71,80,72,72,72,65,86,72,72,71,71,85,71,71,65,75,71,83,83,80,86,86,86,86,84,70,81,84,84,84,84,71,80,63,71,71,71,71,96,71,68,108,71,71,71,71,83,69,69,84,72,72,72,73,73,71,92,62,62,63,71,101,77,83,83,83,58,71,74,71,71,71,71,71,88,59,59,60,60,70,70,62,90,90,59,71,71,71,71,68,82,82,60,61,61,93,93,71,60,60,58,64,98,75,77,77,77,61,71,71,96,87,76,76,76,71,71,71,55,71,71,60,67,72,59,59,59,59,67,73,95,73,71,71,71,71,71,73,71,86,86,86,86,93,93,42,42,42,77,69,69,90,71,71,71,75,63,63,63,55,55,55,54,68,80,61,61,53,53,71,104,71,71,97,75,72,71,75,75,87,87,85,71,71,71,98,71,54,84,79,61,61,78,78,68,68,66,66,65,65,84,67,60,102,71,91,72,91,94,94,87,73,69,69,93,68,60,100,71,68,68,57,77,48,71,80,71,83,71,71,91,91,71,58,58,79,71,52,71,74,74,74,90,82,92,92,71,69,117,117,95,79,79,79,71,71,71,71,63,63,63,86,93,93,89,89,71,93,93,71,71,58,58,71,58,74,51,51,95,84,71,71,71,71,71,79,79,90,70,70,70,70,113,113,65,65,65,75,48,82,67,85,85,54,54,83,61,70,70,62,68,71,71,71,71,82,71,63,60,60,55,70,69,66,75,75,103,68,72,62,62,74,74,74,74,71,68,71,98,76,71,71,64,65,64,77,71,53,53,63,84,84,86,86,58,58,58,58,58,71,66,77,65,65,81,81,71,71,71,71,101,101,56,60,60,64,97,71,48,53,53,53,53,53,72,122,122,122,63,60,71,76,76,76,110,71,78,52,52,52,52,52,112,53,71,93,93,95,95,60,60,64,73,73,73,86,71,84,79,79,79,65,68,71,82,82,70,74,71,96,79,79,78,56,77,60,71,66,71,75,104,70,70,125,96,79,71,71,71,51,60,93,71,71,71,71,75,71,71,68,68,65,70,70,57,143,143,54,69,69,69,71,71,81,81,72,52,73,73,77,71,64,56,67,69,81,95,71,71,68,88,80,63,71,71,71,71,60,54,79,67,70,73,57,71,71,64,58,96,71,72,62,57,58,71,70,120,50,71,71,71,67,67,71,70,99,70,70,160,77,71,77,70,51,75,80,71,60,71,71,66,98,72,69,71,89,93,75,71,74,74,74,74,73,73,87,87,58,93,93,93,83,79,78,71,73,71,71,70,90,58,58,58,63,63,66,66,66,56,56,71,71,71,71,65,65,65,65,81,90,73,54,58,71,54,64,68,71,72,54,54,54,107,77,71,114,80,81,71,89,65,65,99,60,71,59,71,94,74,74,77,74,74,105,89,70,78,84,90,94,94,64,64,50,50,53,72,55,75,90,71,54,68,48,56,56,56,56,74,71,71,65,65,71,71,71,71,71,66,71,71,71,74,71,71,54,54,54,54,69,69,86,91,71,57,57,57,57,57,57,71,98,52,66,84,85,70,100,100,68,74,63,64,64,71,75,71,82,71,71,71,71,71,92,81,74,135,62,78,78,78,78,77,69,69,65,42,84,54,54,53,70,70,80,76,71,71,71,71,71,56,56,65,80,67,58,64,88,71,73,73,73,73,72,85,52,100,100,100,64,98,71,65,94,97,97,81,71,70,75,75,62,71,67,71,71,100,71,71,59,72,84,80,80,87,84,71,83,83,83,71,71,71,71,69,71,88,88,88,100,100,100,85,72,72,71,60,72,84,76,71,120,71,100,100,73,73,70,55,59,57,57,80,86,86,90,62,76,78,61,69,55,55,88,57,77,68,71,68,68,78,55,55,70,58,64,80,88,88,68,65,71,65,65,65,65,65,65,65,65,87,71,91,95,54,71,71,90,70,70,57,52,120,120,120,66,69,114,73,90,52,97,97,95,71,60,70,60,79,75,64,64,64,64,64,64,64,64,64,51,52,52,52,91,91,91,91,71,49,55,60,48,48,71,73,88,80,74,74,74,70,70,84,71,71,71,71,79,71,71,71,71,85,70,71,110,110,93,71,77,77,77,77,92,58,70,70,70,74,99,54,98,80,74,74,60,94,94,71,71,80,145,145,65,65,83,77,65,60,71,71,85,71,71,71,80,80,71,70,70,71,64,82,82,82,82,69,71,78,71,71,71,78,77,77,89,89,89,71,71,71,56,71,57,71,71,71,67,68,90,76,76,76,76,76,71,64,71,80,80,48,61,72,71,65,105,105,105,105,68,90,90,90,90,93,67,88,88,71,71,71,95,89,71,71,52,85,85,71,100,71,71,71,71,71,72,71,69,53,71,98,73,71,92,66,66,66,66,67,65,75,83,83,83,71,60,60,60,60,70,69,71,71,61,71,71,90,90,65,65,65,65,65,71,71,74,71,71,85,85,71,71,77,59,67,69,75,64,64,64,64,80,71,51,75,75,71,71,71,71,71,66,71,46,91,77,92,92,92,71,71,82,82,63,63,71,71,85,87,87,96,83,64,83,71,66,66,66,66,76,60,85,100,87,66,66,66,62,87,71,84,84,74,71,78,60,95,80,80,71,71,60,50,80,66,82,69,87,87,71,71,76,69,80,86,115,80,80,82,84,84,71,71,72,75,75,75,75,75,75,75,75,77,77,77,54,71,74,71,65,65,65,83,83,71,71,88,65,55,83,71,104,71,71,71,71,71,77,71,82,63,63,71,71,93,72,71,71,60,60,84,68,68,68,68,68,82,82,82,79,80,58,71,93,80,71,90,95,95,85,71,71,72,72,72,72,70,70,59,84,84,84,66,71,64,80,80,86,86,93,79,71,79,79,79,79,79,79,79,79,69,61,61,61,71,71,71,71,71,71,82,77,60,88,88,57,98,98,74,71,65,65,60,87,68,71,77,73,77,80,80,90,71,79,79,73,71,61,61,84,62,62,62,71,71,71,71,130,58,71,71,71,78,94,90,78,79,79,95,95,75,71,87,71,71,71,71,71,71,71,77,71,67,83,83,82,82,71,71,65,65,100,71,71,53,70,70,70,70,95,66,71,70,63,63,64,71,75,71,110,110,92,54,72,74,93,71,75,75,75,82,86,81,75,71,57,90,87,71,71,100,100,66,90,90,78,78,80,59,94,94,94,94,86,86,68,68,80,73,73,73,73,73,82,71,73,73,73,75,71,71,84,68,68,68,71,60,71,67,71,71,70,76,87,61,81,59,71,71,82,85,73,72,89,87,60,60,60,60,73,83,71,71,53,68,71,71,70,75,60,58,100,65,71,71,71,71,71,71,73,79,71,71,65,65,79,79,83,71,97,71,71,65,75,90,53,77,77,108,108,96,77,71,71,64,64,71,82,77,60,62,62,71,72,72,95,71,71,64,71,93,84,71,85,85,70,70,69,69,51,75,61,96,96,96,78,77,70,68,68,100,80,80,71,71,63,71,100,100,100,99,99,71,59,82,71,64,86,88,88,71,71,95,95,85,85,87,79,52,74,71,71,71,71,70,70,70,70,70,71,71,71,115,115,68,67,71,71,71,71,75,75,62,71,71,71,75,75,62,71,71,82,71,52,71,78,71,63,63,63,79,79,79,104,104,55,71,66,56,52,71,71,71,71,86,86,93,71,81,64,64,64,64,64,74,74,71,70,70,70,70,70,58,80,71,91,91,91,91,73,71,71,70,52,71,71,69,80,80,80,82,52,52,71,83,97,97,94,82,75,75,75,75,75,139,139,93,82,67,80,67,71,70,70,76,107,54,58,58,52,128,128,94,94,71,86,66,88,88,55,130,78,78,78,76,81,80,82,73,73,66,71,83,74,98,81,96,77,55,55,55,55,77,71,54,65,67,54,76,60,63,60,60,70,65,65,63,65,69,76,77,80,81,55,73,66,66,66,48,78,78,64,95,74,88,71,57,56,59,84,71,48,71,71,71,62,71,67,82,87,72,71,71,71,71,62,51,77,61,71,54,54,75,71,71,71,63,71,108,68,47,71,71,71,87,62,71,71,84,84,65,65,76,106,57,61,79,79,74,71,71,66,71,71,71,71,58,71,71,71,71,71,71,71,71,71,71,71,71,71,71,57,71,75,51,77,63,78,71,71,71,63,63,54,67,67,100,81,63,63,34,60,60,79,80,75,85,85,85,70,70,81,46,46,46,46,94,59,71,71,71,78,78,78,78,61,61,61,59,71,77,96,96,96,74,74,79,93,89,71,73,84,78,81,75,75,80,76,76,60,71,89,89,89,95,58,70,73,71,68,68,68,68,68,68,68,68,68,68,67,59,82,65,65,71,71,82,71,72,72,61,71,68,86,64,66,73,88,69,71,72,85,74,74,65,65,59,59,71,71,71,71,71,69,80,53,71,71,60,62,45,45,45,58,58,58,80,71,71,104,104,104,71,90,67,67,67,67,67,95,88,88,88,88,88,88,88,88,88,59,71,71,71,71,71,71,71,54,74,74,66,58,73,73,83,62,86,96,96,90,42,86,60,61,58,68,66,52,52,70,69,63,71,61,71,82,82,75,75,64,64,60,60,86,64,49,63,80,61,71,54,56,56,56,63,50,78,78,86,70,70,70,60,83,59,60,70,75,66,135,65,64,83,89,73,82,82,70,51,51,72,72,47,86,56,71,57,72,54,54,54,54,66,69,66,103,56,71,71,83,64,51,86,73,88,75,79,90,90,52,52,61,61,63,77,71,71,63,55,70,84,84,73,66,59,95,86,47,66,65,71,62,72,94,48,57,76,90,48,41,41,41,41,95,73,64,82,82,82,86,67,67,71,86,50,77,81,67,67,57,71,100,100,90,90,90,82,82,82,98,73,70,68,69,82,64,63,78,84,84,84,65,71,67,67,76,76,76,76,76,76,93,74,74,68,71,54,90,71,71,71,75,75,106,106,106,66,100,74,74,71,60,71,85,83,57,82,71,70,79,71,71,71,83,114,58,58,71,83,87,68,63,76,76,50,75,62,75,49,78,71,91,71,73,71,95,95,38,38,38,38,38,38,79,86,71,63,71,44,105,83,80,80,80,87,78,61,62,62,57,65,72,72,61,78,65,70,71,114,66,66,63,75,71,54,54,83,56,71,71,91,69,63,63,81,71,70,70,115,115,88,70,82,60,60,60,103,105,88,88,69,89,67,75,75,71,71,72,72,72,71,71,68,67,82,71,63,80,80,49,80,64,90,90,90,71,65,85,114,43,76,80,71,66,76,62,71,96,48,71,65,71,71,71,76,104,104,75,91,65,80,59,59,59,71,77,100,56,78,67,75,77,71,75,75,83,81,65,71,72,70,70,71,65,73,70,71,58,58,72,73,65,79,79,65,65,68,65,65,71,62,71,60,60,60,68,71,70,70,58,58,71,77,70,71,71,70,71,71,71,67,63,71,71,66,58,58,58,58,58,75,71,71,67,67,71,71,71,71,71,83,71,71,71,65,58,95,95,93,93,75,75,71,82,84,84,71,72,72,68,84,90,71,75,79,70,70,70,90,90,58,58,81,71,60,76,76,76,76,95,60,71,67,67,76,70,61,71,71,83,83,83,101,101,51,64,71,58,71,71,66,84,84,84,65,90,71,67,67,69,69,71,71,71,71,71,95,68,76,76,76,71,71,60,60,60,71,104,83,83,83,83,104,80,78,92,63,49,63,63,63,63,63,71,81,80,71,71,71,71,103,103,92,92,71,76,76,63,79,79,73,59,71,93,93,80,76,71,70,110,68,58,58,58,58,58,70,70,70,71,54,77,83,83,128,59,59,59,59,59,59,70,85,85,71,78,62,71,71,90,71,71,71,71,112,59,59,89,84,71,70,70,71,73,71,71,71,71,67,59,71,89,74,74,82,100,78,78,51,82,71,71,71,71,86,86,71,70,71,51,71,71,71,71,71,71,88,71,75,72,72,78,76,95,95,94,94,54,60,71,71,71,71,62,62,71,81,69,82,82,64,62,47,61,83,83,83,57,74,76,76,49,49,84,52,60,60,60,52,49,49,49,71,60,72,69,84,84,68,52,71,61,85,82,64,64,64,72,72,66,71,75,71,71,89,71,71,72,100,100,78,53,53,53,53,53,53,53,53,53,53,77,60,75,84,59,67,59,59,59,71,62,62,85,85,85,85,85,85,85,48,73,73,56,60,66,66,70,71,81,55,89,56,56,71,71,71,71,71,71,69,69,71,105,105,105,71,100,90,84,85,63,86,71,72,54,54,56,95,66,71,71,87,71,70,79,71,71,71,71,70,71,71,105,72,62,62,91,91,71,71,79,79,79,90,73,72,67,67,76,76,76,76,70,73,57,70,70,71,71,71,71,62,88,68,59,73,73,73,63,68,70,100,67,92,71,84,79,75,71,71,71,73,71,75,81,84,71,72,72,72,72,91,85,67,71,71,71,73,78,78,60,58,85,78,78,78,74,68,68,86,67,71,75,80,80,80,80,80,80,94,68,68,68,68,71,71,71,52,71,71,93,71,71,48,50,102,71,95,71,68,86,86,78,78,66,66,66,71,75,74,74,61,61,61,75,84,84,71,77,77,64,85,85,71,75,78,78,78,76,71,65,89,82,37,37,71,71,71,53,59,59,71,64,71,99,85,97,90,63,54,88,55,61,74,74,72,71,59,59,82,71,94,71,68,68,68,70,76,76,63,71,69,48,70,89,70,60,91,67,71,73,71,93,93,69,69,65,84,84,60,71,71,73,73,71,80,71,60,60,71,71,78,71,64,64,69,71,65,85,72,68,68,63,71,48,60,71,60,60,85,79,68,71,85,67,71,72,75,68,65,69,67,73,105,57,75,110,61,61,61,61,61,61,49,92,84,71,80,71,71,93,71,71,71,77,77,110,110,81,71,84,91,100,100,69,69,89,51,68,56,56,67,71,71,73,80,102,102,71,76,76,76,66,71,71,60,74,80,80,64,57,57,71,86,73,71,71,62,62,66,66,71,71,64,72,71,71,71,71,71,82,81,71,71,75,93,70,74,60,56,80,90,90,71,95,88,88,88,71,71,71,71,71,75,71,52,66,71,71,71,71,66,71,76,76,71,71,90,90,71,71,109,71,71,71,71,64,71,61,61,88,71,65,71,71,75,71,71,81,63,68,71,73,71,79,79,79,71,71,76,71,59,72,53,71,71,81,45,45,71,71,71,71,86,95,95,95,63,63,67,67,67,71,84,82,89,81,75,71,71,71,53,71,117,45,54,54,71,71,88,73,73,73,73,73,73,73,73,73,73,73,60,60,60,71,45,45,96,71,71,71,71,71,71,71,80,68,68,68,80,80,80,71,71,70,85,71,92,92,92,88,64,71,91,98,69,61,76,76,71,71,71,79,57,88,88,88,88,76,98,58,71,71,71,64,60,97,97,130,62,62,62,71,71,71,65,84,71,93,76,72,71,71,71,62,62,90,90,90,71,71,59,71,71,66,48,48,48,96,92,71,71,71,71,71,71,79,71,60,60,80,80,71,75,75,77,71,71,71,41,91,71,60,77,71,71,71,71,71,71,71,58,58,58,70,75,90,82,71,71,100,81,81,81,71,71,63,81,81,71,90,79,79,79,82,112,71,71,71,84,84,80,88,78,80,81,71,71,73,82,82,105,72,72,44,88,88,71,62,68,71,71,89,89,71,91,91,91,75,75,75,75,49,76,70,70,70,60,60,83,83,87,87,71,83,83,93,71,71,71,78,60,70,61,64,75,68,84,54,62,62,62,62,71,71,71,71,71,71,77,52,73,71,71,70,70,71,78,100,93,59,73,71,95,80,77,77,71,58,68,65,71,71,71,71,63,66,65,65,71,59,55,55,90,68,94,65,65,71,60,60,60,71,71,75,75,74,74,71,71,71,71,70,68,68,68,65,65,75,67,75,73,73,62,114,114,77,77,93,56,66,80,64,75,72,71,71,94,73,146,70,71,64,66,56,75,71,80,68,68,68,68,104,98,98,92,71,57,57,57,80,53,53,93,95,71,65,65,65,65,71,94,94,63,71,71,71,71,71,71,52,52,75,75,75,71,71,64,64,64,74,74,74,74,84,84,86,90,90,71,78,78,79,69,63,85,85,82,71,57,98,71,70,70,84,59,79,82,62,62,71,85,85,62,80,80,71,71,77,77,77,77,97,71,98,87,86,82,108,67,68,60,72,82,71,71,71,93,71,71,95,58,58,80,77,71,69,56,95,95,95,81,70,70,56,79,71,71,71,54,71,65,95,71,90,90,65,92,92,71,71,71,61,61,61,83,83,83,86,80,73,90,71,71,79,71,68,71,71,60,71,71,71,71,71,71,71,71,91,75,50,75,112,77,71,84,84,85,85,81,66,48,48,71,56,53,53,91,91,71,84,63,88,66,78,71,71,94,94,71,75,100,80,79,79,79,88,88,88,71,95,95,95,82,71,71,105,56,120,82,71,71,71,73,71,71,71,71,92,72,87,71,71,71,53,89,69,71,100,100,71,58,51,81,81,71,71,71,54,68,68,110,87,87,87,77,77,84,84,79,71,91,91,79,79,117,95,77,71,71,74,71,68,83,102,61,61,61,61,65,50,50,71,89,68,66,86,71,80,75,75,75,85,82,77,71,81,81,58,90,92,71,61,60,60,60,69,71,71,71,71,98,102,102,62,77,77,71,84,84,82,71,89,61,71,86,86,86,40,79,71,76,74,74,71,71,95,75,92,80,94,67,92,75,90,90,59,71,57,57,57,57,57,57,57,97,48,48,80,102,82,102,79,90,50,95,71,87,72,48,78,76,76,84,71,71,90,90,71,66,63,55,55,73,37,37,71,77,67,50,71,71,60,84,71,71,71,71,71,71,71,71,71,52,52,48,48,48,48,48,66,66,71,71,71,71,80,78,63,71,71,71,71,71,71,77,77,123,71,54,71,71,71,92,61,61,71,71,60,71,71,100,67,92,72,68,68,79,64,62,98,40,100,100,72,73,73,73,66,71,66,81,81,91,54,71,68,83,73,71,52,52,100,82,82,71,69,83,67,74,51,43,90,54,89,71,71,76,76,94,94,72,93,65,109,86,93,93,110,68,68,76,86,95,63,62,62,62,70,71,71,78,78,78,81,71,71,71,82,76,71,57,67,67,67,67,80,80,80,85,45,78,78,78,47,60,60,57,58,58,124,124,60,56,64,56,55,45,64,60,58,58,58,63,51,89,89,89,89,89,89,61,63,63,76,78,78,78,95,75,75,71,71,79,72,72,54,77,70,87,73,71,86,100,100,65,88,85,71,68,75,75,75,71,63,65,71,71,71,66,58,68,81,50,77,71,71,62,77,77,77,77,77,85,78,65,99,79,71,54,57,93,81,91,75,71,86,71,71,71,71,64,61,61,59,66,69,68,57,57,71,71,100,62,62,62,71,71,60,86,81,81,81,81,81,81,85,59,59,59,75,59,59,62,79,79,81,71,71,55,86,76,76,71,71,77,77,77,77,77,93,71,71,71,71,71,75,71,71,71,71,71,71,71,72,71,80,68,105,71,71,71,71,71,71,71,62,93,93,93,91,75,75,75,53,88,100,100,100,86,103,71,60,60,76,78,78,98,89,83,58,94,94,99,99,56,65,65,71,71,71,71,71,71,71,71,71,71,71,71,71,71,71,61,71,69,64,76,73,73,79,75,71,50,50,71,76,80,71,71,108,83,72,72,72,62,65,75,75,58,82,51,67,67,71,71,71,61,88,72,50,60,78,71,62,93,71,98,76,105,105,105,57,58,58,64,64,76,71,58,58,98,98,71,69,71,65,65,85,85,85,85,40,40,40,40,40,42,42,42,62,62,62,62,69,69,83,65,65,65,60,70,108,72,59,59,71,72,71,71,65,63,63,63,52,62,62,86,71,96,96,96,71,82,71,71,66,70,90,71,79,79,75,71,72,60,60,60,60,60,60,60,80,78,78,60,71,71,71,71,106,106,106,106,71,71,71,77,77,59,59,71,71,71,72,72,71,71,83,83,83,58,70,70,71,71,71,68,68,60,82,71,55,74,74,74,75,75,78,71,74,73,73,77,96,65,90,70,56,117,47,55,72,72,55,52,52,55,55,55,55,55,70,84,54,85,71,71,80,94,94,78,78,71,68,68,69,71,71,57,103,103,95,71,71,92,92,92,71,63,63,63,63,70,71,57,82,62,62,63,76,71,71,71,52,52,60,59,56,52,87,62,71,71,74,63,60,54,85,85,60,63,54,54,54,54,54,56,56,56,56,56,56,56,53,61,61,87,87,87,81,67,160,75,58,97,97,50,71,63,52,87,71,65,71,58,58,58,58,71,98,74,57,57,57,87,100,100,74,74,74,55,71,37,57,57,65,59,59,88,80,120,120,71,83,120,79,79,70,50,60,70,69,48,48,48,48,48,36,64,65,65,65,60,69,77,77,77,53,86,54,51,75,72,72,52,55,71,58,54,59,58,58,54,81,48,71,71,94,66,51,52,73,73,87,85,71,72,58,120,68,65,78,60,59,70,59,70,70,62,132,77,77,55,55,65,71,63,63,71,61,61,61,71,84,71,71,57,83,47,70,71,71,66,60,60,71,54,80,71,73,71,71,71,71,66,66,66,71,71,60,79,75,96,96,92,77,54,54,54,127,127,71,95,95,95,95,79,71,74,71,80,80,70,70,70,70,90,90,90,71,71,71,57,75,59,58,58,88,88,62,103,71,81,85,70,79,79,103,59,110,57,57,57,57,57,57,71,84,67,67,63,44,67,71,71,104,70,56,71,71,71,71,61,52,52,71,61,61,78,70,70,70,70,80,71,49,68,105,90,71,71,71,48,71,84,84,84,84,53,66,66,182,81,81,80,80,66,66,66,66,66,66,66,66,71,78,78,71,71,71,71,74,60,74,71,76,57,75,75,75,71,53,72,72,70,74,80,80,71,71,61,120,120,120,120,88,68,68,68,70,78,78,82,84,67,90,75,76,90,90,90,66,66,59,59,87,84,71,80,80,60,60,74,78,71,68,84,71,71,100,100,75,62,62,55,71,71,71,48,60,71,90,90,73,68,73,73,54,78,78,71,60,60,71,71,71,71,71,71,80,81,60,63,62,62,69,69,74,71,71,71,71,71,66,89,70,70,69,71,71,84,100,100,100,91,71,71,71,74,56,73,72,71,65,65,60,60,84,89,89,89,89,65,71,71,68,68,77,51,82,81,80,80,80,64,64,64,64,64,52,52,71,71,75,75,86,86,84,71,71,68,71,71,78,82,56,71,71,58,58,71,71,72,71,71,71,71,71,64,95,76,84,71,100,100,81,50,50,50,71,71,71,71,105,53,72,71,64,69,71,71,71,88,71,71,55,64,64,64,64,71,89,68,68,68,80,70,78,60,84,73,55,71,54,82,71,71,71,66,66,66,72,71,71,71,68,63,63,63,68,68,71,84,84,71,53,70,70,71,85,51,51,70,104,49,88,88,79,71,71,64,64,64,64,64,64,64,64,71,59,91,71,64,77,71,71,83,83,84,84,66,66,92,92,55,57,57,57,71,66,70,69,69,69,69,69,69,69,69,69,69,69,69,71,64,97,70,78,80,80,80,80,81,81,89,71,71,71,50,50,50,50,50,77,71,89,72,72,71,71,71,74,71,71,71,71,71,75,75,75,63,86,63,63,63,71,68,71,71,71,76,67,67,90,90,71,70,70,71,71,71,76,71,102,71,71,85,85,104,104,104,104,104,104,104,104,104,86,86,82,90,90,69,80,80,80,71,71,71,71,71,62,73,72,55,50,57,71,71,71,71,118,71,45,62,62,40,78,78,67,67,67,67,67,67,67,57,71,73,67,67,58,66,71,90,75,72,72,107,75,68,60,60,60,60,63,85,59,72,72,78,85,71,71,71,71,71,71,45,71,69,69,102,74,96,71,71,82,71,98,110,110,106,74,66,66,66,66,66,96,61,56,56,56,93,71,71,71,66,87,71,71,71,71,71,90,58,79,79,62,97,61,71,63,63,63,118,89,93,93,93,72,72,61,61,86,84,84,84,84,92,92,55,76,47,71,71,71,74,71,52,52,52,82,52,68,72,118,74,60,60,93,71,76,76,91,71,67,71,85,85,85,73,71,86,70,70,70,70,70,70,70,70,70,64,64,64,71,71,80,95,95,91,68,68,69,81,71,74,90,85,110,110,62,62,62,102,53,53,127,127,60,73,73,73,48,78,86,71,78,78,78,78,78,78,48,75,63,58,89,60,52,78,64,71,80,95,95,71,81,81,81,71,65,52,71,71,59,88,71,71,71,71,72,72,65,76,59,60,65,65,60,72,53,58,71,71,71,131,82,82,77,77,55,75,71,81,88,71,86,68,83,105,71,100,100,50,95,71,95,92,92,92,92,92,93,80,76,76,58,58,58,62,57,65,98,98,98,98,97,97,82,109,109,109,71,68,71,82,86,109,61,90,63,66,71,61,61,75,89,130,130,71,71,72,71,76,76,76,76,71,66,71,77,87,55,89,98,55,55,71,71,105,56,72,78,68,87,66,71,71,71,71,61,105,105,71,71,83,75,71,93,65,71,73,69,90,68,68,68,68,76,54,68,105,71,51,59,57,57,57,57,57,80,74,73,68,68,68,68,68,68,68,68,68,68,68,68,71,71,71,78,78,78,71,71,71,73,71,71,84,48,48,48,71,125,71,81,71,85,67,62,71,65,71,73,67,71,71,71,78,75,44,95,96,58,77,57,76,45,45,80,80,80,80,71,70,70,54,80,80,80,80,76,60,86,82,71,82,62,75,87,89,89,71,61,65,71,72,64,55,71,71,65,65,65,71,71,73,73,73,98,98,71,88,75,84,84,71,47,80,80,60,77,77,75,75,90,68,68,68,95,71,58,65,65,78,62,94,85,94,94,59,56,90,90,79,79,83,97,68,71,66,66,66,66,73,73,73,73,73,71,60,75,75,75,75,86,71,71,63,60,47,79,79,79,79,84,84,74,71,82,82,86,71,75,71,71,80,97,97,97,71,59,59,59,59,59,59,59,59,84,84,90,90,71,90,67,58,54,54,54,71,75,71,71,79,83,84,71,77,77,71,71,63,94,94,94,50,83,71,61,71,71,71,71,71,76,71,74,69,60,57,56,56,56,56,64,64,64,77,71,71,77,77,107,58,58,65,69,104,100,103,103,77,100,45,71,70,75,105,63,80,56,71,70,86,59,59,74,62,71,82,75,71,75,65,57,54,53,61,81,81,81,81,85,73,71,71,90,71,64,64,71,71,71,66,91,54,49,67,47,54,47,126,126,66,66,66,66,66,66,66,66,66,75,64,71,53,120,52,52,52,52,52,52,71,71,85,92,92,90,79,79,71,70,91,77,71,71,100,100,100,82,71,81,81,81,92,74,84,84,64,64,71,94,94,94,94,71,71,66,71,108,83,83,83,78,78,71,91,71,71,82,45,45,45,71,56,56,72,71,72,63,71,66,71,87,66,70,65,83,66,84,84,71,73,73,73,68,68,68,61,84,71,52,52,52,52,52,52,52,52,52,62,71,71,72,74,74,130,71,70,71,71,71,55,64,53,53,53,53,71,45,82,71,71,98,104,57,71,71,54,72,71,78,68,66,43,89,71,71,71,71,71,77,77,77,81,91,71,92,90,71,52,62,62,57,57,102,76,76,76,76,76,71,71,71,71,75,72,78,40,40,71,68,54,87,116,82,79,70,70,55,55,77,77,77,84,60,85,82,77,75,61,61,61,61,71,120,120,54,54,54,54,54,54,54,66,66,74,68,78,82,82,56,94,94,94,90,68,85,57,103,70,70,63,72,72,71,71,57,57,68,81,60,76,69,69,73,70,70,76,68,68,71,64,64,93,67,57,86,73,73,73,60,71,85,82,88,71,77,59,71,75,88,88,88,76,77,77,77,77,73,73,83,83,64,103,103,82,71,80,73,73,73,73,73,73,74,74,61,79,72,75,84,84,79,73,73,63,90,72,74,95,95,80,80,71,44,44,44,76,68,55,55,68,68,61,61,60,60,60,60,73,71,71,53,64,71,74,71,89,74,71,71,69,59,71,71,99,99,83,83,68,68,97,86,86,91,65,71,71,66,72,60,70,78,107,73,85,70,57,57,57,57,71,64,77,77,71,48,78,91,100,57,45,45,68,78,84,58,78,58,78,60,60,60,70,80,68,71,71,59,62,68,68,69,71,98,87,87,87,73,95,73,85,92,70,70,70,71,99,68,72,82,57,57,57,71,71,71,71,71,87,71,71,72,72,85,77,71,84,107,67,63,63,79,92,86,86,58,84,71,54,54,54,54,54,54,54,71,72,72,57,60,78,67,67,67,66,71,71,54,80,65,71,67,75,75,75,64,64,50,75,71,74,75,71,71,71,71,66,62,71,71,71,70,80,66,71,83,71,75,71,71,60,69,78,78,81,65,71,47,47,98,71,71,70,71,70,66,66,66,66,66,66,66,66,66,66,72,63,63,63,71,71,71,73,74,63,125,71,71,71,69,69,75,76,76,76,71,71,58,71,92,71,66,71,76,76,71,71,100,96,92,92,60,60,71,71,71,71,71,71,71,95,95,71,71,71,66,71,70,65,71,66,66,71,71,71,71,71,71,80,74,74,80,80,80,80,80,80,80,71,71,56,56,85,85,128,71,82,71,71,77,71,74,71,73,55,55,71,78,71,90,90,71,66,89,71,71,71,52,52,71,71,71,60,71,71,71,71,83,81,81,92,71,71,64,64,73,79,97,71,71,85,75,75,57,57,74,71,76,71,74,74,74,74,74,74,71,71,63,69,59,59,71,71,63,63,63,63,66,66,66,71,93,56,56,56,56,56,56,56,56,56,71,71,71,71,65,75,75,75,71,71,73,71,71,61,71,71,71,71,71,71,71,71,71,71,66,57,85,85,85,85,74,51,51,77,57,71,71,71,69,71,71,71,71,69,69,63,63,60,60,71,71,71,71,71,71,71,73,73,73,89,70,95,68,71,80,80,80,71,71,71,71,71,71,63,75,75,67,67,71,56,71,71,71,71,65,88,73,73,71,71,71,48,71,60,71,75,71,71,71,73,71,87,69,69,92,71,71,71,71,73,61,88,88,71,85,71,71,71,71,71,78,71,71,71,71,63,63,71,68,76,59,63,71,95,95,95,95,91,91,91,71,71,37,37,88,65,61,73,71,55,78,61,61,70,70,70,70,71,71,71,51,74,91,71,74,78,78,71,71,66,82,71,71,89,71,96,96,71,57,71,105,105,105,62,96,58,89,85,85,70,69,80,93,93,92,140,71,71,71,71,96,84,65,80,82,64,71,45,72,100,71,89,89,65,59,70,68,102,62,62,90,68,82,82,71,92,78,72,72,86,86,86,66,60,73,76,87,71,71,71,71,71,69,56,79,46,51,51,71,65,71,71,71,77,78,71,72,55,71,66,75,76,72,71,71,51,79,110,84,64,64,64,64,71,68,68,72,72,90,62,82,86,73,73,73,85,71,70,60,77,77,71,48,48,70,67,67,67,67,84,84,84,89,78,71,93,75,68,70,70,70,55,72,76,92,71,93,71,85,63,63,75,75,75,71,70,79,94,71,71,53,71,72,73,98,61,83,83,77,90,90,90,70,71,71,55,55,55,71,86,79,79,71,71,71,71,70,71,89,71,52,52,71,71,71,73,71,71,85,88,88,88,98,69,78,78,82,87,105,105,73,71,75,75,79,64,95,71,71,71,71,90,71,80,71,88,79,71,71,84,71,71,71,71,88,88,88,71,55,55,48,75,71,90,90,60,60,71,71,71,71,58,71,71,71,95,66,66,66,71,71,71,71,71,83,83,60,71,85,71,64,60,78,71,71,57,64,64,71,71,71,71,70,70,71,55,55,95,84,54,54,54,54,54,54,54,54,54,67,65,65,73,70,77,73,73,68,94,70,83,59,59,59,59,82,95,62,60,57,57,71,68,56,71,80,71,72,64,64,74,96,96,60,60,60,94,94,71,69,90,59,95,85,71,67,73,71,71,71,62,56,65,62,62,62,62,71,74,74,75,75,48,75,51,51,71,71,85,70,104,77,69,72,97,62,79,79,79,79,75,71,102,57,71,70,71,71,65,65,56,56,71,64,64,71,71,71,87,84,80,80,68,68,75,75,75,54,71,71,60,60,60,60,88,72,72,71,82,71,83,68,68,73,53,53,53,71,55,71,65,69,69,57,70,70,108,71,71,71,71,52,71,71,62,84,56,42,71,71,80,71,71,62,70,74,71,71,126,74,100,100,100,71,71,93,75,75,88,71,130,130,52,71,89,89,89,64,64,85,85,78,78,71,71,80,80,79,79,66,66,66,85,85,54,90,90,90,62,71,80,63,53,71,71,71,76,77,80,80,80,44,82,82,71,63,73,72,72,88,71,71,52,76,76,71,55,74,58,58,58,58,75,75,75,105,105,105,80,90,90,68,87,87,87,74,75,108,68,56,78,96,71,73,72,72,72,68,68,68,68,68,68,68,71,84,84,84,84,71,98,63,44,44,102,102,71,63,71,71,71,71,58,58,93,71,97,71,71,71,71,71,71,71,78,68,68,73,73,71,78,94,80,88,88,88,80,83,83,83,83,83,83,83,83,83,71,71,71,71,71,71,71,71,71,71,71,71,71,71,71,71,71,92,71,71,71,63,71,71,71,58,71,71,63,63,63,63,71,70,71,71,71,71,71,62,62,71,71,73,73,77,71,111,111,55,86,86,86,69,69,74,74,55,83,65,65,65,65,65,65,65,65,65,65,53,53,53,53,68,87,68,68,60,58,71,59,59,69,71,59,90,71,88,70,71,70,105,105,105,105,68,71,62,83,79,115,115,71,71,96,71,79,81,71,71,73,67,67,98,98,98,85,94,94,65,65,93,93,97,71,71,70,100,58,58,58,90,90,87,71,90,80,86,91,91,63,82,68,68,68,47,62,62,67,55,71,56,50,50,50,90,68,77,103,96,96,71,71,71,74,53,59,59,52,71,82,75,75,71,71,75,75,70,70,70,70,70,70,75,75,66,95,71,71,71,71,71,71,71,72,71,80,80,65,88,88,58,58,71,71,72,72,77,71,77,65,75,76,76,60,60,71,73,100,79,90,90,63,89,89,71,84,76,76,56,56,56,71,75,69,73,73,71,69,79,74,75,71,71,73,73,71,71,74,71,58,53,90,90,90,90,61,71,71,74,84,60,65,65,77,77,77,87,87,80,71,70,88,90,90,90,71,93,71,67,71,71,71,71,71,71,75,75,71,71,71,57,57,59,71,63,71,60,60,60,71,62,97,100,86,84,84,84,80,120,73,73,73,73,53,66,71,71,71,79,71,71,66,82,74,74,54,86,71,85,67,79,79,68,68,71,71,82,76,71,81,81,72,66,42,42,42,71,66,65,84,50,60,60,60,72,67,73,83,83,78,78,78,78,78,50,58,64,64,72,72,72,63,63,76,50,50,84,108,63,75,75,65,52,46,85,85,85,85,67,60,60,60,60,60,60,48,70,58,60,60,60,60,60,74,70,70,70,67,66,63,28,28,75,73,33,52,79,85,85,85,85,85,85,65,90,63,62,62,70,77,75,66,71,51,72,72,70,115,80,61,61,67,67,87,70,70,70,64,64,64,64,71,83,71,48,71,71,71,71,85,85,71,100,68,63,83,71,71,71,63,63,73,77,71,84,73,71,71,71,57,57,71,71,71,84,71,71,71,71,91,73,73,64,75,75,75,75,71,71,95,60,79,76,66,72,65,67,76,65,75,73,71,48,78,78,71,71,42,80,63,63,60,88,66,66,66,71,49,49,83,88,88,71,71,72,79,79,80,71,71,71,71,58,58,58,58,80,65,71,71,99,70,70,66,73,48,91,68,68,68,65,88,68,68,60,71,68,71,71,77,57,57,70,70,70,70,74,71,71,55,55,91,60,60,50,104,104,71,71,82,82,51,51,51,51,89,63,63,80,80,71,62,62,62,62,62,71,71,71,87,87,87,73,93,93,93,93,71,71,68,86,71,71,71,71,71,71,71,71,70,90,65,62,62,79,79,79,71,71,53,60,60,65,65,65,68,71,86,86,90,90,64,71,80,80,54,70,70,70,84,63,63,63,42,42,91,94,71,71,62,120,57,72,55,71,71,71,71,71,71,100,100,94,71,71,71,82,71,77,77,77,77,75,57,71,110,61,85,54,86,71,65,65,71,71,75,63,70,70,54,54,54,54,71,75,75,80,63,63,71,71,71,71,71,71,95,68,68,88,71,86,86,73,71,71,66,66,77,82,130,130,130,130,65,70,86,86,91,87,71,71,57,79,77,77,77,93,75,74,74,71,82,80,80,80,71,67,67,64,64,64,75,71,78,52,90,90,79,70,70,76,76,76,76,71,91,91,71,88,88,71,77,77,80,80,71,71,71,87,93,82,82,70,70,57,57,57,57,54,48,78,71,70,95,71,71,71,71,86,89,83,83,74,71,71,73,71,71,66,66,66,66,66,66,66,66,66,66,71,72,72,74,74,74,91,91,84,88,88,82,85,85,71,71,81,105,100,71,77,77,87,73,85,70,67,71,88,71,71,71,56,75,71,77,77,71,71,71,78,71,71,71,71,71,70,71,71,71,94,94,83,83,60,60,60,88,71,46,86,71,71,72,72,79,81,79,96,71,76,48,48,48,71,71,71,70,71,69,60,68,68,71,71,71,57,71,83,94,71,71,79,89,71,52,68,71,65,65,76,78,78,70,70,71,58,58,71,71,56,56,73,73,73,71,57,57,76,76,76,76,76,70,70,71,71,56,56,56,56,56,71,56,86,100,71,71,71,71,71,71,71,71,67,71,71,71,85,85,71,63,80,65,65,59,68,68,68,64,64,64,60,60,86,86,86,77,77,77,77,77,72,72,72,62,62,62,62,62,64,61,71,64,64,64,73,71,75,52,72,71,94,84,66,66,84,84,70,70,70,70,68,88,61,71,71,83,110,78,78,81,75,57,55,71,71,71,89,89,89,81,64,91,71,71,71,69,102,71,82,82,82,86,71,82,82,82,82,82,82,82,82,79,71,71,85,67,71,71,71,71,71,60,80,80,79,71,71,71,71,60,71,54,81,82,82,91,84,71,91,73,71,71,65,71,71,60,60,60,60,60,60,60,57,87,42,42,71,82,71,71,86,57,59,59,76,76,76,71,72,72,72,75,71,115,115,71,80,80,74,57,75,66,66,71,59,71,63,71,71,71,71,71,59,59,80,65,71,60,84,80,91,71,118,71,68,68,72,72,63,95,95,72,71,81,90,76,75,82,84,73,68,67,67,67,93,51,48,67,80,74,56,56,71,69,69,75,71,71,71,70,70,70,70,79,64,64,64,98,98,58,86,82,75,75,75,75,75,75,56,65,81,81,63,59,57,57,57,57,73,71,77,71,72,71,68,68,64,101,101,101,75,87,96,71,71,64,71,71,66,66,66,66,71,62,73,71,86,86,85,85,52,71,52,52,79,71,71,54,60,60,71,95,91,91,65,61,61,58,75,64,60,90,63,71,71,67,52,59,56,76,83,71,64,71,71,71,63,71,75,75,71,84,82,78,71,70,70,70,77,77,77,77,76,62,71,64,71,84,73,72,72,72,72,72,72,72,90,77,77,75,83,71,71,71,77,77,77,77,71,71,91,74,88,90,105,70,73,73,67,48,74,74,74,84,84,77,71,71,84,71,71,94,94,94,79,79,87,72,55,55,80,71,71,64,70,70,70,66,66,66,71,78,95,95,54,54,54,71,71,105,70,70,71,60,87,87,87,71,80,80,62,62,87,86,97,57,57,57,54,54,54,59,79,75,71,71,71,67,80,80,70,71,88,110,79,69,75,75,85,140,71,71,100,67,120,87,71,58,71,66,71,71,71,95,71,78,71,71,71,66,76,49,75,68,68,68,71,71,60,60,74,89,80,86,71,71,71,85,68,71,67,71,70,71,71,75,75,80,80,71,71,54,68,77,62,75,74,73,70,71,71,75,71,72,72,72,72,71,136,136,76,68,62,83,71,71,78,84,84,84,71,71,50,50,83,71,72,77,77,75,70,60,72,72,85,66,40,92,71,71,63,63,63,63,81,61,61,90,71,71,89,71,71,63,59,71,56,71,71,71,71,90,71,70,69,71,71,71,75,75,68,70,68,68,122,122,97,97,75,75,73,73,70,69,78,56,49,59,51,51,58,50,52,52,52,52,52,52,52,58,80,56,58,50,50,70,54,74,78,70,60,73,68,74,74,66,62,66,103,76,71,65,65,65,65,65,65,65,65,72,70,71,71,71,63,63,71,68,68,68,50,71,71,71,71,74,92,92,92,71,56,91,67,69,81,67,94,71,68,71,124,80,70,52,52,69,60,60,67,70,55,52,52,70,60,64,48,55,55,55,55,55,86,56,76,76,82,60,85,85,74,78,70,55,60,60,63,59,53,56,67,57,47,70,75,75,53,79,88,68,68,89,104,68,57,60,65,49,80,80,71,100,100,92,78,71,95,95,86,86,71,71,48,86,69,108,58,58,66,59,70,42,62,60,73,73,55,71,71,72,72,65,58,58,75,75,75,75,75,60,60,100,72,127,57,57,84,65,74,60,55,57,100,74,68,75,71,80,71,53,75,75,85,62,52,57,75,75,80,63,63,63,54,54,54,54,54,78,78,62,62,62,53,80,80,73,73,73,73,77,58,58,58,58,58,60,60,60,60,60,59,35,35,35,55,68,68,40,62,48,70,60,63,78,55,68,60,86,69,77,78,80,80,78,100,100,86,100,100,71,93,105,65,90,74,74,74,64,70,70,70,64,64,65,71,90,90,64,64,64,49,56,94,103,81,90,75,80,80,65,65,58,58,58,58,58,58,58,58,58,71,71,50,50,64,64,67,67,67,64,60,64,71,85,70,71,71,58,71,71,97,60,71,71,64,69,84,84,71,55,55,55,55,58,58,81,90,90,81,73,71,71,71,71,71,82,82,78,109,75,68,81,81,74,39,51,51,53,53,53,58,58,59,59,60,79,73,73,80,80,67,65,84,67,67,105,52,84,84,71,72,71,65,65,55,55,63,66,71,66,53,53,71,77,58,58,62,72,62,55,52,75,75,75,84,71,74,90,57,71,55,55,55,55,64,56,58,58,61,71,71,79,79,60,66,77,93,57,57,71,79,106,67,55,82,67,67,71,91,59,59,59,77,94,63,66,56,62,62,62,62,82,50,61,58,68,71,61,55,55,58,58,58,58,57,72,72,72,128,71,59,62,62,69,69,60,90,62,78,70,65,62,53,57,60,55,65,71,71,55,55,55,63,63,76,65,76,64,68,68,71,58,75,96,96,104,71,71,71,94,94,50,67,71,58,71,84,66,55,74,86,86,86,72,58,58,58,61,61,61,53,53,62,65,73,73,90,70,71,71,61,61,61,71,71,71,71,75,68,57,74,74,71,67,68,87,87,72,75,72,72,72,72,90,71,79,66,67,70,77,83,73,68,71,58,100,100,110,70,70,72,79,81,42,81,81,82,82,84,84,67,67,67,71,57,78,59,59,65,69,43,43,43,43,54,71,76,77,54,71,71,71,71,71,66,65,95,71,71,78,78,66,66,85,85,76,76,77,61,61,73,60,60,60,74,52,71,71,70,52,71,71,71,79,71,71,71,135,100,75,69,65,71,99,92,91,70,71,76,76,94,95,95,72,72,72,72,72,80,81,60,69,69,69,90,60,128,75,105,87,81,79,79,71,100,100,85,85,97,97,97,110,66,66,66,66,57,69,71,98,98,98,71,86,83,75,86,71,100,71,71,69,60,71,56,56,81,81,86,71,91,86,86,86,86,89,89,89,60,87,87,62,76,52,70,71,71,71,71,88,52,61,71,95,65,65,65,65,65,65,97,93,48,80,80,80,80,61,86,86,65,62,163,163,85,91,91,91,79,72,72,55,75,79,65,65,68,48,61,77,72,72,65,65,58,70,70,70,70,70,53,63,63,63,75,75,77,70,72,72,75,75,75,39,65,65,70,73,65,57,50,68,105,105,72,77,77,57,62,62,61,55,81,71,75,80,60,52,58,63,54,54,54,54,73,76,111,75,75,75,63,55,55,70,70,63,68,60,60,60,69,59,59,59,95,95,78,78,78,76,82,87,95,95,60,115,115,57,52,62,62,75,105,105,80,81,58,100,77,77,56,56,89,89,81,58,75,62,45,50,133,48,65,52,41,41,85,85,73,73,59,75,70,60,62,62,62,55,79,70,61,65,68,75,75,78,67,98,68,68,68,68,83,52,55,70,70,86,51,51,56,51,71,71,71,61,71,71,82,85,61,61,71,94,69,63,63,63,80,87,71,74,47,71,69,69,69,69,69,69,95,95,93,49,67,61,60,82,82,75,75,75,75,71,65,65,71,80,65,105,105,105,105,60,90,52,52,68,68,68,68,68,54,70,67,57,53,80,55,84,84,120,71,78,78,67,72,82,110,110,110,92,75,72,72,75,52,52,88,36,84,75,83,83,63,63,76,77,68,88,88,88,88,88,88,52,64,64,71,71,69,65,90,71,91,73,77,80,86,71,102,71,71,75,75,75,55,55,55,55,55,55,49,49,49,80,69,59,80,55,87,102,102,102,85,75,75,75,90,68,55,75,102,102,102,102,88,88,91,71,92,71,48,48,48,48,48,71,92,83,115,115,100,71,71,71,91,62,61,82,70,60,83,83,94,71,71,71,71,71,91,62,71,93,71,100,100,60,90,79,59,60,66,80,93,93,64,78,70,93,93,80,80,80,82,64,64],\"yaxis\":\"y\",\"type\":\"scattergl\"}],                        {\"template\":{\"data\":{\"bar\":[{\"error_x\":{\"color\":\"#2a3f5f\"},\"error_y\":{\"color\":\"#2a3f5f\"},\"marker\":{\"line\":{\"color\":\"#E5ECF6\",\"width\":0.5},\"pattern\":{\"fillmode\":\"overlay\",\"size\":10,\"solidity\":0.2}},\"type\":\"bar\"}],\"barpolar\":[{\"marker\":{\"line\":{\"color\":\"#E5ECF6\",\"width\":0.5},\"pattern\":{\"fillmode\":\"overlay\",\"size\":10,\"solidity\":0.2}},\"type\":\"barpolar\"}],\"carpet\":[{\"aaxis\":{\"endlinecolor\":\"#2a3f5f\",\"gridcolor\":\"white\",\"linecolor\":\"white\",\"minorgridcolor\":\"white\",\"startlinecolor\":\"#2a3f5f\"},\"baxis\":{\"endlinecolor\":\"#2a3f5f\",\"gridcolor\":\"white\",\"linecolor\":\"white\",\"minorgridcolor\":\"white\",\"startlinecolor\":\"#2a3f5f\"},\"type\":\"carpet\"}],\"choropleth\":[{\"colorbar\":{\"outlinewidth\":0,\"ticks\":\"\"},\"type\":\"choropleth\"}],\"contour\":[{\"colorbar\":{\"outlinewidth\":0,\"ticks\":\"\"},\"colorscale\":[[0.0,\"#0d0887\"],[0.1111111111111111,\"#46039f\"],[0.2222222222222222,\"#7201a8\"],[0.3333333333333333,\"#9c179e\"],[0.4444444444444444,\"#bd3786\"],[0.5555555555555556,\"#d8576b\"],[0.6666666666666666,\"#ed7953\"],[0.7777777777777778,\"#fb9f3a\"],[0.8888888888888888,\"#fdca26\"],[1.0,\"#f0f921\"]],\"type\":\"contour\"}],\"contourcarpet\":[{\"colorbar\":{\"outlinewidth\":0,\"ticks\":\"\"},\"type\":\"contourcarpet\"}],\"heatmap\":[{\"colorbar\":{\"outlinewidth\":0,\"ticks\":\"\"},\"colorscale\":[[0.0,\"#0d0887\"],[0.1111111111111111,\"#46039f\"],[0.2222222222222222,\"#7201a8\"],[0.3333333333333333,\"#9c179e\"],[0.4444444444444444,\"#bd3786\"],[0.5555555555555556,\"#d8576b\"],[0.6666666666666666,\"#ed7953\"],[0.7777777777777778,\"#fb9f3a\"],[0.8888888888888888,\"#fdca26\"],[1.0,\"#f0f921\"]],\"type\":\"heatmap\"}],\"heatmapgl\":[{\"colorbar\":{\"outlinewidth\":0,\"ticks\":\"\"},\"colorscale\":[[0.0,\"#0d0887\"],[0.1111111111111111,\"#46039f\"],[0.2222222222222222,\"#7201a8\"],[0.3333333333333333,\"#9c179e\"],[0.4444444444444444,\"#bd3786\"],[0.5555555555555556,\"#d8576b\"],[0.6666666666666666,\"#ed7953\"],[0.7777777777777778,\"#fb9f3a\"],[0.8888888888888888,\"#fdca26\"],[1.0,\"#f0f921\"]],\"type\":\"heatmapgl\"}],\"histogram\":[{\"marker\":{\"pattern\":{\"fillmode\":\"overlay\",\"size\":10,\"solidity\":0.2}},\"type\":\"histogram\"}],\"histogram2d\":[{\"colorbar\":{\"outlinewidth\":0,\"ticks\":\"\"},\"colorscale\":[[0.0,\"#0d0887\"],[0.1111111111111111,\"#46039f\"],[0.2222222222222222,\"#7201a8\"],[0.3333333333333333,\"#9c179e\"],[0.4444444444444444,\"#bd3786\"],[0.5555555555555556,\"#d8576b\"],[0.6666666666666666,\"#ed7953\"],[0.7777777777777778,\"#fb9f3a\"],[0.8888888888888888,\"#fdca26\"],[1.0,\"#f0f921\"]],\"type\":\"histogram2d\"}],\"histogram2dcontour\":[{\"colorbar\":{\"outlinewidth\":0,\"ticks\":\"\"},\"colorscale\":[[0.0,\"#0d0887\"],[0.1111111111111111,\"#46039f\"],[0.2222222222222222,\"#7201a8\"],[0.3333333333333333,\"#9c179e\"],[0.4444444444444444,\"#bd3786\"],[0.5555555555555556,\"#d8576b\"],[0.6666666666666666,\"#ed7953\"],[0.7777777777777778,\"#fb9f3a\"],[0.8888888888888888,\"#fdca26\"],[1.0,\"#f0f921\"]],\"type\":\"histogram2dcontour\"}],\"mesh3d\":[{\"colorbar\":{\"outlinewidth\":0,\"ticks\":\"\"},\"type\":\"mesh3d\"}],\"parcoords\":[{\"line\":{\"colorbar\":{\"outlinewidth\":0,\"ticks\":\"\"}},\"type\":\"parcoords\"}],\"pie\":[{\"automargin\":true,\"type\":\"pie\"}],\"scatter\":[{\"marker\":{\"colorbar\":{\"outlinewidth\":0,\"ticks\":\"\"}},\"type\":\"scatter\"}],\"scatter3d\":[{\"line\":{\"colorbar\":{\"outlinewidth\":0,\"ticks\":\"\"}},\"marker\":{\"colorbar\":{\"outlinewidth\":0,\"ticks\":\"\"}},\"type\":\"scatter3d\"}],\"scattercarpet\":[{\"marker\":{\"colorbar\":{\"outlinewidth\":0,\"ticks\":\"\"}},\"type\":\"scattercarpet\"}],\"scattergeo\":[{\"marker\":{\"colorbar\":{\"outlinewidth\":0,\"ticks\":\"\"}},\"type\":\"scattergeo\"}],\"scattergl\":[{\"marker\":{\"colorbar\":{\"outlinewidth\":0,\"ticks\":\"\"}},\"type\":\"scattergl\"}],\"scattermapbox\":[{\"marker\":{\"colorbar\":{\"outlinewidth\":0,\"ticks\":\"\"}},\"type\":\"scattermapbox\"}],\"scatterpolar\":[{\"marker\":{\"colorbar\":{\"outlinewidth\":0,\"ticks\":\"\"}},\"type\":\"scatterpolar\"}],\"scatterpolargl\":[{\"marker\":{\"colorbar\":{\"outlinewidth\":0,\"ticks\":\"\"}},\"type\":\"scatterpolargl\"}],\"scatterternary\":[{\"marker\":{\"colorbar\":{\"outlinewidth\":0,\"ticks\":\"\"}},\"type\":\"scatterternary\"}],\"surface\":[{\"colorbar\":{\"outlinewidth\":0,\"ticks\":\"\"},\"colorscale\":[[0.0,\"#0d0887\"],[0.1111111111111111,\"#46039f\"],[0.2222222222222222,\"#7201a8\"],[0.3333333333333333,\"#9c179e\"],[0.4444444444444444,\"#bd3786\"],[0.5555555555555556,\"#d8576b\"],[0.6666666666666666,\"#ed7953\"],[0.7777777777777778,\"#fb9f3a\"],[0.8888888888888888,\"#fdca26\"],[1.0,\"#f0f921\"]],\"type\":\"surface\"}],\"table\":[{\"cells\":{\"fill\":{\"color\":\"#EBF0F8\"},\"line\":{\"color\":\"white\"}},\"header\":{\"fill\":{\"color\":\"#C8D4E3\"},\"line\":{\"color\":\"white\"}},\"type\":\"table\"}]},\"layout\":{\"annotationdefaults\":{\"arrowcolor\":\"#2a3f5f\",\"arrowhead\":0,\"arrowwidth\":1},\"autotypenumbers\":\"strict\",\"coloraxis\":{\"colorbar\":{\"outlinewidth\":0,\"ticks\":\"\"}},\"colorscale\":{\"diverging\":[[0,\"#8e0152\"],[0.1,\"#c51b7d\"],[0.2,\"#de77ae\"],[0.3,\"#f1b6da\"],[0.4,\"#fde0ef\"],[0.5,\"#f7f7f7\"],[0.6,\"#e6f5d0\"],[0.7,\"#b8e186\"],[0.8,\"#7fbc41\"],[0.9,\"#4d9221\"],[1,\"#276419\"]],\"sequential\":[[0.0,\"#0d0887\"],[0.1111111111111111,\"#46039f\"],[0.2222222222222222,\"#7201a8\"],[0.3333333333333333,\"#9c179e\"],[0.4444444444444444,\"#bd3786\"],[0.5555555555555556,\"#d8576b\"],[0.6666666666666666,\"#ed7953\"],[0.7777777777777778,\"#fb9f3a\"],[0.8888888888888888,\"#fdca26\"],[1.0,\"#f0f921\"]],\"sequentialminus\":[[0.0,\"#0d0887\"],[0.1111111111111111,\"#46039f\"],[0.2222222222222222,\"#7201a8\"],[0.3333333333333333,\"#9c179e\"],[0.4444444444444444,\"#bd3786\"],[0.5555555555555556,\"#d8576b\"],[0.6666666666666666,\"#ed7953\"],[0.7777777777777778,\"#fb9f3a\"],[0.8888888888888888,\"#fdca26\"],[1.0,\"#f0f921\"]]},\"colorway\":[\"#636efa\",\"#EF553B\",\"#00cc96\",\"#ab63fa\",\"#FFA15A\",\"#19d3f3\",\"#FF6692\",\"#B6E880\",\"#FF97FF\",\"#FECB52\"],\"font\":{\"color\":\"#2a3f5f\"},\"geo\":{\"bgcolor\":\"white\",\"lakecolor\":\"white\",\"landcolor\":\"#E5ECF6\",\"showlakes\":true,\"showland\":true,\"subunitcolor\":\"white\"},\"hoverlabel\":{\"align\":\"left\"},\"hovermode\":\"closest\",\"mapbox\":{\"style\":\"light\"},\"paper_bgcolor\":\"white\",\"plot_bgcolor\":\"#E5ECF6\",\"polar\":{\"angularaxis\":{\"gridcolor\":\"white\",\"linecolor\":\"white\",\"ticks\":\"\"},\"bgcolor\":\"#E5ECF6\",\"radialaxis\":{\"gridcolor\":\"white\",\"linecolor\":\"white\",\"ticks\":\"\"}},\"scene\":{\"xaxis\":{\"backgroundcolor\":\"#E5ECF6\",\"gridcolor\":\"white\",\"gridwidth\":2,\"linecolor\":\"white\",\"showbackground\":true,\"ticks\":\"\",\"zerolinecolor\":\"white\"},\"yaxis\":{\"backgroundcolor\":\"#E5ECF6\",\"gridcolor\":\"white\",\"gridwidth\":2,\"linecolor\":\"white\",\"showbackground\":true,\"ticks\":\"\",\"zerolinecolor\":\"white\"},\"zaxis\":{\"backgroundcolor\":\"#E5ECF6\",\"gridcolor\":\"white\",\"gridwidth\":2,\"linecolor\":\"white\",\"showbackground\":true,\"ticks\":\"\",\"zerolinecolor\":\"white\"}},\"shapedefaults\":{\"line\":{\"color\":\"#2a3f5f\"}},\"ternary\":{\"aaxis\":{\"gridcolor\":\"white\",\"linecolor\":\"white\",\"ticks\":\"\"},\"baxis\":{\"gridcolor\":\"white\",\"linecolor\":\"white\",\"ticks\":\"\"},\"bgcolor\":\"#E5ECF6\",\"caxis\":{\"gridcolor\":\"white\",\"linecolor\":\"white\",\"ticks\":\"\"}},\"title\":{\"x\":0.05},\"xaxis\":{\"automargin\":true,\"gridcolor\":\"white\",\"linecolor\":\"white\",\"ticks\":\"\",\"title\":{\"standoff\":15},\"zerolinecolor\":\"white\",\"zerolinewidth\":2},\"yaxis\":{\"automargin\":true,\"gridcolor\":\"white\",\"linecolor\":\"white\",\"ticks\":\"\",\"title\":{\"standoff\":15},\"zerolinecolor\":\"white\",\"zerolinewidth\":2}}},\"xaxis\":{\"anchor\":\"y\",\"domain\":[0.0,1.0],\"title\":{\"text\":\"Height\"}},\"yaxis\":{\"anchor\":\"x\",\"domain\":[0.0,1.0],\"title\":{\"text\":\"Weight\"}},\"coloraxis\":{\"colorbar\":{\"title\":{\"text\":\"Age\"}},\"colorscale\":[[0.0,\"#0d0887\"],[0.1111111111111111,\"#46039f\"],[0.2222222222222222,\"#7201a8\"],[0.3333333333333333,\"#9c179e\"],[0.4444444444444444,\"#bd3786\"],[0.5555555555555556,\"#d8576b\"],[0.6666666666666666,\"#ed7953\"],[0.7777777777777778,\"#fb9f3a\"],[0.8888888888888888,\"#fdca26\"],[1.0,\"#f0f921\"]]},\"legend\":{\"tracegroupgap\":0},\"title\":{\"text\":\"<b>Variation Of Height , Weight and Age </b>\"},\"autosize\":true},                        {\"responsive\": true}                    ).then(function(){\n",
              "                            \n",
              "var gd = document.getElementById('3c5a57a6-6b77-41ca-8981-f75aeb2662f5');\n",
              "var x = new MutationObserver(function (mutations, observer) {{\n",
              "        var display = window.getComputedStyle(gd).display;\n",
              "        if (!display || display === 'none') {{\n",
              "            console.log([gd, 'removed!']);\n",
              "            Plotly.purge(gd);\n",
              "            observer.disconnect();\n",
              "        }}\n",
              "}});\n",
              "\n",
              "// Listen for the removal of the full notebook cells\n",
              "var notebookContainer = gd.closest('#notebook-container');\n",
              "if (notebookContainer) {{\n",
              "    x.observe(notebookContainer, {childList: true});\n",
              "}}\n",
              "\n",
              "// Listen for the clearing of the current output cell\n",
              "var outputEl = gd.closest('.output');\n",
              "if (outputEl) {{\n",
              "    x.observe(outputEl, {childList: true});\n",
              "}}\n",
              "\n",
              "                        })                };                            </script>        </div>\n",
              "</body>\n",
              "</html>"
            ]
          },
          "metadata": {}
        }
      ]
    },
    {
      "cell_type": "code",
      "source": [
        "#youngest athlete in the olympics\n",
        "youngest_medal_winner = df.loc [df ['Age'].idxmin()]\n",
        "youngest_medal_winner[['Name','Age','Team','Year','Sport','Event']]"
      ],
      "metadata": {
        "colab": {
          "base_uri": "https://localhost:8080/"
        },
        "id": "FhlbSjcJGTXi",
        "outputId": "aed1211b-10f7-4385-a518-8acc3e3536c4"
      },
      "execution_count": 158,
      "outputs": [
        {
          "output_type": "execute_result",
          "data": {
            "text/plain": [
              "Name                        Dimitrios Loundras\n",
              "Age                                         10\n",
              "Team             Ethnikos Gymnastikos Syllogos\n",
              "Year                                      1896\n",
              "Sport                               Gymnastics\n",
              "Event    Gymnastics Men's Parallel Bars, Teams\n",
              "Name: 142882, dtype: object"
            ]
          },
          "metadata": {},
          "execution_count": 158
        }
      ]
    },
    {
      "cell_type": "code",
      "source": [
        "#oldest athlete in the olympics\n",
        "oldest_medal_winner = df.loc [df ['Age'].idxmax()]\n",
        "oldest_medal_winner[['Name','Age','Team','Year','Sport','Event']]"
      ],
      "metadata": {
        "colab": {
          "base_uri": "https://localhost:8080/"
        },
        "id": "O2X9m_tYF4uS",
        "outputId": "ec4574fa-fff4-4b4b-c12b-9d80afbab034"
      },
      "execution_count": 159,
      "outputs": [
        {
          "output_type": "execute_result",
          "data": {
            "text/plain": [
              "Name     John (Herbert Crawford-) Copley (Williamson-)\n",
              "Age                                                 73\n",
              "Team                                     Great Britain\n",
              "Year                                              1948\n",
              "Sport                                 Art Competitions\n",
              "Event    Art Competitions Mixed Painting, Graphic Arts\n",
              "Name: 44584, dtype: object"
            ]
          },
          "metadata": {},
          "execution_count": 159
        }
      ]
    },
    {
      "cell_type": "markdown",
      "source": [
        "#Prediction"
      ],
      "metadata": {
        "id": "kVi2h-dj73Zb"
      }
    },
    {
      "cell_type": "markdown",
      "source": [
        "for prediction part I worked on the copy of df with null value in Medal column.\n",
        "first of all I checked numerical and categorical datas and then I did encoding"
      ],
      "metadata": {
        "id": "GX-qFVFJCUl_"
      }
    },
    {
      "cell_type": "markdown",
      "source": [
        "**encoding :**"
      ],
      "metadata": {
        "id": "6KcbwHnjLpcz"
      }
    },
    {
      "cell_type": "code",
      "source": [
        "new_df.columns"
      ],
      "metadata": {
        "colab": {
          "base_uri": "https://localhost:8080/"
        },
        "id": "QUnlQ-zxCHW0",
        "outputId": "d6120cf9-fad7-438d-9304-fc0fa8d3ca62"
      },
      "execution_count": 160,
      "outputs": [
        {
          "output_type": "execute_result",
          "data": {
            "text/plain": [
              "Index(['Name', 'Sex', 'Age', 'Height', 'Weight', 'Team', 'NOC', 'Games',\n",
              "       'Year', 'Season', 'City', 'Sport', 'Event', 'Medal', 'region'],\n",
              "      dtype='object')"
            ]
          },
          "metadata": {},
          "execution_count": 160
        }
      ]
    },
    {
      "cell_type": "code",
      "source": [
        "data=new_df.copy()\n",
        "data.drop(['Name','Games','region'],axis=1,inplace=True)"
      ],
      "metadata": {
        "id": "MhCgubUZHFTz"
      },
      "execution_count": 161,
      "outputs": []
    },
    {
      "cell_type": "code",
      "source": [
        "print('\\nCategorical Columns\\n')\n",
        "data.select_dtypes(include=['O']).nunique()"
      ],
      "metadata": {
        "colab": {
          "base_uri": "https://localhost:8080/"
        },
        "id": "pWNaBFnxXgHL",
        "outputId": "5d25ee3e-3c6f-4055-c457-5de722099df9"
      },
      "execution_count": 162,
      "outputs": [
        {
          "output_type": "stream",
          "name": "stdout",
          "text": [
            "\n",
            "Categorical Columns\n",
            "\n"
          ]
        },
        {
          "output_type": "execute_result",
          "data": {
            "text/plain": [
              "Sex          2\n",
              "Team      1184\n",
              "NOC        230\n",
              "Season       2\n",
              "City        42\n",
              "Sport       66\n",
              "Event      765\n",
              "Medal        3\n",
              "dtype: int64"
            ]
          },
          "metadata": {},
          "execution_count": 162
        }
      ]
    },
    {
      "cell_type": "code",
      "source": [
        "#creating list of numerical columns\n",
        "numerical_columns = [column for column in data.columns if ((data.dtypes[column] != 'object') & (column not in ['Medal','Year']))]\n",
        "\n",
        "#creating list of categorical columns\n",
        "categorical_columns = [column for column in data.columns if data.dtypes[column] == 'object']\n",
        "\n",
        "print('Numerical columns : ',numerical_columns)\n",
        "print('\\n')\n",
        "print('Categorical columns : ',categorical_columns)"
      ],
      "metadata": {
        "colab": {
          "base_uri": "https://localhost:8080/"
        },
        "id": "qwYun5ai9YKR",
        "outputId": "afb8c3e4-fc28-417a-bb18-0801f949b47b"
      },
      "execution_count": 163,
      "outputs": [
        {
          "output_type": "stream",
          "name": "stdout",
          "text": [
            "Numerical columns :  ['Age', 'Height', 'Weight']\n",
            "\n",
            "\n",
            "Categorical columns :  ['Sex', 'Team', 'NOC', 'Season', 'City', 'Sport', 'Event', 'Medal']\n"
          ]
        }
      ]
    },
    {
      "cell_type": "code",
      "source": [
        "#for medals consider all the gold,silver and bronze medals 1 and other null value 0\n",
        "data['Medal'] = data['Medal'].apply(lambda x: 1 if str(x) != 'nan' else 0)"
      ],
      "metadata": {
        "id": "-DjrWVgQ7CIO"
      },
      "execution_count": 164,
      "outputs": []
    },
    {
      "cell_type": "code",
      "source": [
        "# Binary encoding function for categorical columns\n",
        "def binary_encoder(data, columns, positive_values):\n",
        "    df = data.copy()\n",
        "\n",
        "    for column, positive_value in zip(columns, positive_values):\n",
        "        df[column] = df[column].apply(lambda x: 1 if x == positive_value else 0)\n",
        "    return df"
      ],
      "metadata": {
        "id": "wpjLsrVwB_Sv"
      },
      "execution_count": 165,
      "outputs": []
    },
    {
      "cell_type": "code",
      "source": [
        "# using Binary encoding for columns with 2 categories\n",
        "data = binary_encoder(data, columns=['Sex', 'Season'], positive_values=['M', 'Summer'])"
      ],
      "metadata": {
        "id": "wUek2FN5B4WJ"
      },
      "execution_count": 166,
      "outputs": []
    },
    {
      "cell_type": "code",
      "source": [
        "# one hot encoder function for categorical columns\n",
        "def onehot_encoder(data, columns):\n",
        "    df = data.copy()\n",
        "    for column in columns:\n",
        "        dummies = pd.get_dummies(df[column],drop_first=True)\n",
        "        # concat, dummies , original dataframe\n",
        "        df = pd.concat([df, dummies], axis=1)\n",
        "        \n",
        "        # dropping original columns for which encoding applied.\n",
        "        df.drop(column, axis=1,inplace=True)\n",
        "    return df"
      ],
      "metadata": {
        "id": "5gKM1KxClgF6"
      },
      "execution_count": 167,
      "outputs": []
    },
    {
      "cell_type": "code",
      "source": [
        "# applying onehot encoding on features with more than 2 categories\n",
        "data = onehot_encoder(data,columns = ['Team', 'NOC', 'City', 'Sport', 'Event'])"
      ],
      "metadata": {
        "id": "jgYyteiHmFjq"
      },
      "execution_count": 168,
      "outputs": []
    },
    {
      "cell_type": "markdown",
      "source": [
        "**Split, Train and Test, Scaling**"
      ],
      "metadata": {
        "id": "n-kwisOWWFCh"
      }
    },
    {
      "cell_type": "code",
      "source": [
        "# Split dataframe into variables, dependent(y) and indepedent(X)\n",
        "X = data.drop('Medal',axis=1).copy()\n",
        "y = data['Medal'].copy()\n",
        "\n",
        "# Train-Test Split\n",
        "X_train, X_test, y_train, y_test = train_test_split(X, y, test_size=0.2, random_state=50)"
      ],
      "metadata": {
        "id": "GkK1xphS76_M"
      },
      "execution_count": 169,
      "outputs": []
    },
    {
      "cell_type": "code",
      "source": [
        "# Scaling Numerical Features\n",
        "s_scaler = StandardScaler()\n",
        "X_train[numerical_columns] = s_scaler.fit_transform(X_train[numerical_columns])\n",
        "X_test[numerical_columns] = s_scaler.transform(X_test[numerical_columns])"
      ],
      "metadata": {
        "id": "t35HbMsT_jtg"
      },
      "execution_count": 170,
      "outputs": []
    },
    {
      "cell_type": "markdown",
      "source": [
        "**Model:Random Forest Classifier**"
      ],
      "metadata": {
        "id": "KKvABAZcM4WN"
      }
    },
    {
      "cell_type": "code",
      "source": [
        "# Random Forest classifier\n",
        "model= RandomForestClassifier()\n",
        "model.fit(X_train,y_train)\n",
        "\n",
        "# Predict\n",
        "y_pred = model.predict(X_test)\n",
        "\n",
        "print(\"Classification Report:\\n\\n\", classification_report(y_test, y_pred))"
      ],
      "metadata": {
        "colab": {
          "base_uri": "https://localhost:8080/"
        },
        "id": "jv2PerTUw4Xx",
        "outputId": "4bb3b0be-8d9d-48e2-c8ba-8d96c43f9b88"
      },
      "execution_count": 171,
      "outputs": [
        {
          "output_type": "stream",
          "name": "stdout",
          "text": [
            "Classification Report:\n",
            "\n",
            "               precision    recall  f1-score   support\n",
            "\n",
            "           0       0.93      0.99      0.96     45871\n",
            "           1       0.89      0.59      0.71      8076\n",
            "\n",
            "    accuracy                           0.93     53947\n",
            "   macro avg       0.91      0.79      0.84     53947\n",
            "weighted avg       0.93      0.93      0.92     53947\n",
            "\n"
          ]
        }
      ]
    },
    {
      "cell_type": "code",
      "source": [
        "print(\"accuracy score:\", accuracy_score(y_test, y_pred))"
      ],
      "metadata": {
        "colab": {
          "base_uri": "https://localhost:8080/"
        },
        "id": "tm5CWQIYVU_n",
        "outputId": "e20d57af-c6d7-46e9-e176-72f5f7f5d2cb"
      },
      "execution_count": 172,
      "outputs": [
        {
          "output_type": "stream",
          "name": "stdout",
          "text": [
            "accuracy score: 0.9282258512984967\n"
          ]
        }
      ]
    },
    {
      "cell_type": "code",
      "source": [
        "cm=confusion_matrix(y_test, y_pred)\n",
        "cm"
      ],
      "metadata": {
        "id": "2y1c2-AdJMM8",
        "outputId": "f25419e1-cee0-42f0-b4c6-6848e56d94c6",
        "colab": {
          "base_uri": "https://localhost:8080/"
        }
      },
      "execution_count": 173,
      "outputs": [
        {
          "output_type": "execute_result",
          "data": {
            "text/plain": [
              "array([[45307,   564],\n",
              "       [ 3308,  4768]])"
            ]
          },
          "metadata": {},
          "execution_count": 173
        }
      ]
    }
  ]
}