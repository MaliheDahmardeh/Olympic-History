{
  "nbformat": 4,
  "nbformat_minor": 0,
  "metadata": {
    "colab": {
      "name": "Untitled2.ipynb",
      "provenance": [],
      "authorship_tag": "ABX9TyN/FmPh80S78/uFfhQL0wCy",
      "include_colab_link": true
    },
    "kernelspec": {
      "name": "python3",
      "display_name": "Python 3"
    },
    "language_info": {
      "name": "python"
    }
  },
  "cells": [
    {
      "cell_type": "markdown",
      "metadata": {
        "id": "view-in-github",
        "colab_type": "text"
      },
      "source": [
        "<a href=\"https://colab.research.google.com/github/MaliheDahmardeh/Olympic-History/blob/main/Olympic-History.ipynb\" target=\"_parent\"><img src=\"https://colab.research.google.com/assets/colab-badge.svg\" alt=\"Open In Colab\"/></a>"
      ]
    },
    {
      "cell_type": "code",
      "execution_count": 109,
      "metadata": {
        "id": "hsVRuaEiQeYi"
      },
      "outputs": [],
      "source": [
        "import numpy as np\n",
        "import pandas as pd\n",
        "import os\n",
        "import datetime\n",
        "\n",
        "import matplotlib\n",
        "import matplotlib.pyplot as plt\n",
        "import seaborn as sb\n",
        "import plotly.express as px\n",
        "import plotly.graph_objects as go\n",
        "from plotly.subplots import make_subplots\n",
        "\n",
        "from sklearn.tree import DecisionTreeClassifier\n",
        "from sklearn.naive_bayes import GaussianNB\n",
        "from sklearn.ensemble import RandomForestClassifier\n",
        "from sklearn.svm import SVC ,SVR\n",
        "from sklearn.metrics import *\n",
        "from sklearn.model_selection import GridSearchCV\n",
        "from sklearn.preprocessing import LabelEncoder\n",
        "from sklearn.model_selection import train_test_split \n",
        "from sklearn.model_selection import KFold\n",
        "from sklearn.metrics import classification_report\n",
        "from sklearn.decomposition import PCA\n",
        "from sklearn.metrics import confusion_matrix\n",
        "from sklearn.metrics import accuracy_score\n",
        "from pandas.core.algorithms import mode"
      ]
    },
    {
      "cell_type": "code",
      "source": [
        "!ls"
      ],
      "metadata": {
        "colab": {
          "base_uri": "https://localhost:8080/"
        },
        "id": "_kmTUksTQsb0",
        "outputId": "369dc1ba-2f23-48db-b4c9-0b4ccedaf198"
      },
      "execution_count": 110,
      "outputs": [
        {
          "output_type": "stream",
          "name": "stdout",
          "text": [
            "athlete_events.csv  noc_regions.csv  sample_data\n"
          ]
        }
      ]
    },
    {
      "cell_type": "code",
      "source": [
        "df_events = pd.read_csv('athlete_events.csv')"
      ],
      "metadata": {
        "id": "vu8gEypwSdy2"
      },
      "execution_count": 111,
      "outputs": []
    },
    {
      "cell_type": "code",
      "source": [
        "df_noc = pd.read_csv('noc_regions.csv')"
      ],
      "metadata": {
        "id": "wDsromvbmNOP"
      },
      "execution_count": 112,
      "outputs": []
    },
    {
      "cell_type": "code",
      "source": [
        "df = pd.merge(df_events,df_noc,on='NOC',how='inner')"
      ],
      "metadata": {
        "id": "secJsc_ImJmV"
      },
      "execution_count": 113,
      "outputs": []
    },
    {
      "cell_type": "code",
      "source": [
        "df"
      ],
      "metadata": {
        "colab": {
          "base_uri": "https://localhost:8080/",
          "height": 904
        },
        "id": "Pxb1WzmjS5YI",
        "outputId": "5598fabf-3ac6-4244-8111-77503353ae89"
      },
      "execution_count": 114,
      "outputs": [
        {
          "output_type": "execute_result",
          "data": {
            "text/plain": [
              "            ID                Name Sex   Age  Height  Weight     Team  NOC  \\\n",
              "0            1           A Dijiang   M  24.0   180.0    80.0    China  CHN   \n",
              "1            2            A Lamusi   M  23.0   170.0    60.0    China  CHN   \n",
              "2          602       Abudoureheman   M  22.0   182.0    75.0    China  CHN   \n",
              "3         1463           Ai Linuer   M  25.0   160.0    62.0    China  CHN   \n",
              "4         1464           Ai Yanhan   F  14.0   168.0    54.0    China  CHN   \n",
              "...        ...                 ...  ..   ...     ...     ...      ...  ...   \n",
              "270762  120575     Mamorallo Tjoka   F  23.0   150.0    56.0  Lesotho  LES   \n",
              "270763  120575     Mamorallo Tjoka   F  27.0   150.0    56.0  Lesotho  LES   \n",
              "270764  122166  M'apotlaki Ts'elho   F  15.0     NaN     NaN  Lesotho  LES   \n",
              "270765  122215          Lefa Tsapi   M  23.0   170.0    63.0  Lesotho  LES   \n",
              "270766  122299       Mosolesa Tsie   M  20.0   175.0    75.0  Lesotho  LES   \n",
              "\n",
              "              Games  Year  Season            City       Sport  \\\n",
              "0       1992 Summer  1992  Summer       Barcelona  Basketball   \n",
              "1       2012 Summer  2012  Summer          London        Judo   \n",
              "2       2000 Summer  2000  Summer          Sydney      Boxing   \n",
              "3       2004 Summer  2004  Summer          Athina   Wrestling   \n",
              "4       2016 Summer  2016  Summer  Rio de Janeiro    Swimming   \n",
              "...             ...   ...     ...             ...         ...   \n",
              "270762  2008 Summer  2008  Summer         Beijing   Athletics   \n",
              "270763  2012 Summer  2012  Summer          London   Athletics   \n",
              "270764  1996 Summer  1996  Summer         Atlanta   Athletics   \n",
              "270765  1984 Summer  1984  Summer     Los Angeles      Boxing   \n",
              "270766  2000 Summer  2000  Summer          Sydney      Boxing   \n",
              "\n",
              "                                           Event Medal   region notes  \n",
              "0                    Basketball Men's Basketball   NaN    China   NaN  \n",
              "1                   Judo Men's Extra-Lightweight   NaN    China   NaN  \n",
              "2                      Boxing Men's Middleweight   NaN    China   NaN  \n",
              "3       Wrestling Men's Lightweight, Greco-Roman   NaN    China   NaN  \n",
              "4          Swimming Women's 200 metres Freestyle   NaN    China   NaN  \n",
              "...                                          ...   ...      ...   ...  \n",
              "270762                Athletics Women's Marathon   NaN  Lesotho   NaN  \n",
              "270763                Athletics Women's Marathon   NaN  Lesotho   NaN  \n",
              "270764    Athletics Women's 4 x 100 metres Relay   NaN  Lesotho   NaN  \n",
              "270765                 Boxing Men's Welterweight   NaN  Lesotho   NaN  \n",
              "270766                 Boxing Men's Welterweight   NaN  Lesotho   NaN  \n",
              "\n",
              "[270767 rows x 17 columns]"
            ],
            "text/html": [
              "\n",
              "  <div id=\"df-c8ca16cd-d0ed-49b2-a446-41abfd7dcc1e\">\n",
              "    <div class=\"colab-df-container\">\n",
              "      <div>\n",
              "<style scoped>\n",
              "    .dataframe tbody tr th:only-of-type {\n",
              "        vertical-align: middle;\n",
              "    }\n",
              "\n",
              "    .dataframe tbody tr th {\n",
              "        vertical-align: top;\n",
              "    }\n",
              "\n",
              "    .dataframe thead th {\n",
              "        text-align: right;\n",
              "    }\n",
              "</style>\n",
              "<table border=\"1\" class=\"dataframe\">\n",
              "  <thead>\n",
              "    <tr style=\"text-align: right;\">\n",
              "      <th></th>\n",
              "      <th>ID</th>\n",
              "      <th>Name</th>\n",
              "      <th>Sex</th>\n",
              "      <th>Age</th>\n",
              "      <th>Height</th>\n",
              "      <th>Weight</th>\n",
              "      <th>Team</th>\n",
              "      <th>NOC</th>\n",
              "      <th>Games</th>\n",
              "      <th>Year</th>\n",
              "      <th>Season</th>\n",
              "      <th>City</th>\n",
              "      <th>Sport</th>\n",
              "      <th>Event</th>\n",
              "      <th>Medal</th>\n",
              "      <th>region</th>\n",
              "      <th>notes</th>\n",
              "    </tr>\n",
              "  </thead>\n",
              "  <tbody>\n",
              "    <tr>\n",
              "      <th>0</th>\n",
              "      <td>1</td>\n",
              "      <td>A Dijiang</td>\n",
              "      <td>M</td>\n",
              "      <td>24.0</td>\n",
              "      <td>180.0</td>\n",
              "      <td>80.0</td>\n",
              "      <td>China</td>\n",
              "      <td>CHN</td>\n",
              "      <td>1992 Summer</td>\n",
              "      <td>1992</td>\n",
              "      <td>Summer</td>\n",
              "      <td>Barcelona</td>\n",
              "      <td>Basketball</td>\n",
              "      <td>Basketball Men's Basketball</td>\n",
              "      <td>NaN</td>\n",
              "      <td>China</td>\n",
              "      <td>NaN</td>\n",
              "    </tr>\n",
              "    <tr>\n",
              "      <th>1</th>\n",
              "      <td>2</td>\n",
              "      <td>A Lamusi</td>\n",
              "      <td>M</td>\n",
              "      <td>23.0</td>\n",
              "      <td>170.0</td>\n",
              "      <td>60.0</td>\n",
              "      <td>China</td>\n",
              "      <td>CHN</td>\n",
              "      <td>2012 Summer</td>\n",
              "      <td>2012</td>\n",
              "      <td>Summer</td>\n",
              "      <td>London</td>\n",
              "      <td>Judo</td>\n",
              "      <td>Judo Men's Extra-Lightweight</td>\n",
              "      <td>NaN</td>\n",
              "      <td>China</td>\n",
              "      <td>NaN</td>\n",
              "    </tr>\n",
              "    <tr>\n",
              "      <th>2</th>\n",
              "      <td>602</td>\n",
              "      <td>Abudoureheman</td>\n",
              "      <td>M</td>\n",
              "      <td>22.0</td>\n",
              "      <td>182.0</td>\n",
              "      <td>75.0</td>\n",
              "      <td>China</td>\n",
              "      <td>CHN</td>\n",
              "      <td>2000 Summer</td>\n",
              "      <td>2000</td>\n",
              "      <td>Summer</td>\n",
              "      <td>Sydney</td>\n",
              "      <td>Boxing</td>\n",
              "      <td>Boxing Men's Middleweight</td>\n",
              "      <td>NaN</td>\n",
              "      <td>China</td>\n",
              "      <td>NaN</td>\n",
              "    </tr>\n",
              "    <tr>\n",
              "      <th>3</th>\n",
              "      <td>1463</td>\n",
              "      <td>Ai Linuer</td>\n",
              "      <td>M</td>\n",
              "      <td>25.0</td>\n",
              "      <td>160.0</td>\n",
              "      <td>62.0</td>\n",
              "      <td>China</td>\n",
              "      <td>CHN</td>\n",
              "      <td>2004 Summer</td>\n",
              "      <td>2004</td>\n",
              "      <td>Summer</td>\n",
              "      <td>Athina</td>\n",
              "      <td>Wrestling</td>\n",
              "      <td>Wrestling Men's Lightweight, Greco-Roman</td>\n",
              "      <td>NaN</td>\n",
              "      <td>China</td>\n",
              "      <td>NaN</td>\n",
              "    </tr>\n",
              "    <tr>\n",
              "      <th>4</th>\n",
              "      <td>1464</td>\n",
              "      <td>Ai Yanhan</td>\n",
              "      <td>F</td>\n",
              "      <td>14.0</td>\n",
              "      <td>168.0</td>\n",
              "      <td>54.0</td>\n",
              "      <td>China</td>\n",
              "      <td>CHN</td>\n",
              "      <td>2016 Summer</td>\n",
              "      <td>2016</td>\n",
              "      <td>Summer</td>\n",
              "      <td>Rio de Janeiro</td>\n",
              "      <td>Swimming</td>\n",
              "      <td>Swimming Women's 200 metres Freestyle</td>\n",
              "      <td>NaN</td>\n",
              "      <td>China</td>\n",
              "      <td>NaN</td>\n",
              "    </tr>\n",
              "    <tr>\n",
              "      <th>...</th>\n",
              "      <td>...</td>\n",
              "      <td>...</td>\n",
              "      <td>...</td>\n",
              "      <td>...</td>\n",
              "      <td>...</td>\n",
              "      <td>...</td>\n",
              "      <td>...</td>\n",
              "      <td>...</td>\n",
              "      <td>...</td>\n",
              "      <td>...</td>\n",
              "      <td>...</td>\n",
              "      <td>...</td>\n",
              "      <td>...</td>\n",
              "      <td>...</td>\n",
              "      <td>...</td>\n",
              "      <td>...</td>\n",
              "      <td>...</td>\n",
              "    </tr>\n",
              "    <tr>\n",
              "      <th>270762</th>\n",
              "      <td>120575</td>\n",
              "      <td>Mamorallo Tjoka</td>\n",
              "      <td>F</td>\n",
              "      <td>23.0</td>\n",
              "      <td>150.0</td>\n",
              "      <td>56.0</td>\n",
              "      <td>Lesotho</td>\n",
              "      <td>LES</td>\n",
              "      <td>2008 Summer</td>\n",
              "      <td>2008</td>\n",
              "      <td>Summer</td>\n",
              "      <td>Beijing</td>\n",
              "      <td>Athletics</td>\n",
              "      <td>Athletics Women's Marathon</td>\n",
              "      <td>NaN</td>\n",
              "      <td>Lesotho</td>\n",
              "      <td>NaN</td>\n",
              "    </tr>\n",
              "    <tr>\n",
              "      <th>270763</th>\n",
              "      <td>120575</td>\n",
              "      <td>Mamorallo Tjoka</td>\n",
              "      <td>F</td>\n",
              "      <td>27.0</td>\n",
              "      <td>150.0</td>\n",
              "      <td>56.0</td>\n",
              "      <td>Lesotho</td>\n",
              "      <td>LES</td>\n",
              "      <td>2012 Summer</td>\n",
              "      <td>2012</td>\n",
              "      <td>Summer</td>\n",
              "      <td>London</td>\n",
              "      <td>Athletics</td>\n",
              "      <td>Athletics Women's Marathon</td>\n",
              "      <td>NaN</td>\n",
              "      <td>Lesotho</td>\n",
              "      <td>NaN</td>\n",
              "    </tr>\n",
              "    <tr>\n",
              "      <th>270764</th>\n",
              "      <td>122166</td>\n",
              "      <td>M'apotlaki Ts'elho</td>\n",
              "      <td>F</td>\n",
              "      <td>15.0</td>\n",
              "      <td>NaN</td>\n",
              "      <td>NaN</td>\n",
              "      <td>Lesotho</td>\n",
              "      <td>LES</td>\n",
              "      <td>1996 Summer</td>\n",
              "      <td>1996</td>\n",
              "      <td>Summer</td>\n",
              "      <td>Atlanta</td>\n",
              "      <td>Athletics</td>\n",
              "      <td>Athletics Women's 4 x 100 metres Relay</td>\n",
              "      <td>NaN</td>\n",
              "      <td>Lesotho</td>\n",
              "      <td>NaN</td>\n",
              "    </tr>\n",
              "    <tr>\n",
              "      <th>270765</th>\n",
              "      <td>122215</td>\n",
              "      <td>Lefa Tsapi</td>\n",
              "      <td>M</td>\n",
              "      <td>23.0</td>\n",
              "      <td>170.0</td>\n",
              "      <td>63.0</td>\n",
              "      <td>Lesotho</td>\n",
              "      <td>LES</td>\n",
              "      <td>1984 Summer</td>\n",
              "      <td>1984</td>\n",
              "      <td>Summer</td>\n",
              "      <td>Los Angeles</td>\n",
              "      <td>Boxing</td>\n",
              "      <td>Boxing Men's Welterweight</td>\n",
              "      <td>NaN</td>\n",
              "      <td>Lesotho</td>\n",
              "      <td>NaN</td>\n",
              "    </tr>\n",
              "    <tr>\n",
              "      <th>270766</th>\n",
              "      <td>122299</td>\n",
              "      <td>Mosolesa Tsie</td>\n",
              "      <td>M</td>\n",
              "      <td>20.0</td>\n",
              "      <td>175.0</td>\n",
              "      <td>75.0</td>\n",
              "      <td>Lesotho</td>\n",
              "      <td>LES</td>\n",
              "      <td>2000 Summer</td>\n",
              "      <td>2000</td>\n",
              "      <td>Summer</td>\n",
              "      <td>Sydney</td>\n",
              "      <td>Boxing</td>\n",
              "      <td>Boxing Men's Welterweight</td>\n",
              "      <td>NaN</td>\n",
              "      <td>Lesotho</td>\n",
              "      <td>NaN</td>\n",
              "    </tr>\n",
              "  </tbody>\n",
              "</table>\n",
              "<p>270767 rows × 17 columns</p>\n",
              "</div>\n",
              "      <button class=\"colab-df-convert\" onclick=\"convertToInteractive('df-c8ca16cd-d0ed-49b2-a446-41abfd7dcc1e')\"\n",
              "              title=\"Convert this dataframe to an interactive table.\"\n",
              "              style=\"display:none;\">\n",
              "        \n",
              "  <svg xmlns=\"http://www.w3.org/2000/svg\" height=\"24px\"viewBox=\"0 0 24 24\"\n",
              "       width=\"24px\">\n",
              "    <path d=\"M0 0h24v24H0V0z\" fill=\"none\"/>\n",
              "    <path d=\"M18.56 5.44l.94 2.06.94-2.06 2.06-.94-2.06-.94-.94-2.06-.94 2.06-2.06.94zm-11 1L8.5 8.5l.94-2.06 2.06-.94-2.06-.94L8.5 2.5l-.94 2.06-2.06.94zm10 10l.94 2.06.94-2.06 2.06-.94-2.06-.94-.94-2.06-.94 2.06-2.06.94z\"/><path d=\"M17.41 7.96l-1.37-1.37c-.4-.4-.92-.59-1.43-.59-.52 0-1.04.2-1.43.59L10.3 9.45l-7.72 7.72c-.78.78-.78 2.05 0 2.83L4 21.41c.39.39.9.59 1.41.59.51 0 1.02-.2 1.41-.59l7.78-7.78 2.81-2.81c.8-.78.8-2.07 0-2.86zM5.41 20L4 18.59l7.72-7.72 1.47 1.35L5.41 20z\"/>\n",
              "  </svg>\n",
              "      </button>\n",
              "      \n",
              "  <style>\n",
              "    .colab-df-container {\n",
              "      display:flex;\n",
              "      flex-wrap:wrap;\n",
              "      gap: 12px;\n",
              "    }\n",
              "\n",
              "    .colab-df-convert {\n",
              "      background-color: #E8F0FE;\n",
              "      border: none;\n",
              "      border-radius: 50%;\n",
              "      cursor: pointer;\n",
              "      display: none;\n",
              "      fill: #1967D2;\n",
              "      height: 32px;\n",
              "      padding: 0 0 0 0;\n",
              "      width: 32px;\n",
              "    }\n",
              "\n",
              "    .colab-df-convert:hover {\n",
              "      background-color: #E2EBFA;\n",
              "      box-shadow: 0px 1px 2px rgba(60, 64, 67, 0.3), 0px 1px 3px 1px rgba(60, 64, 67, 0.15);\n",
              "      fill: #174EA6;\n",
              "    }\n",
              "\n",
              "    [theme=dark] .colab-df-convert {\n",
              "      background-color: #3B4455;\n",
              "      fill: #D2E3FC;\n",
              "    }\n",
              "\n",
              "    [theme=dark] .colab-df-convert:hover {\n",
              "      background-color: #434B5C;\n",
              "      box-shadow: 0px 1px 3px 1px rgba(0, 0, 0, 0.15);\n",
              "      filter: drop-shadow(0px 1px 2px rgba(0, 0, 0, 0.3));\n",
              "      fill: #FFFFFF;\n",
              "    }\n",
              "  </style>\n",
              "\n",
              "      <script>\n",
              "        const buttonEl =\n",
              "          document.querySelector('#df-c8ca16cd-d0ed-49b2-a446-41abfd7dcc1e button.colab-df-convert');\n",
              "        buttonEl.style.display =\n",
              "          google.colab.kernel.accessAllowed ? 'block' : 'none';\n",
              "\n",
              "        async function convertToInteractive(key) {\n",
              "          const element = document.querySelector('#df-c8ca16cd-d0ed-49b2-a446-41abfd7dcc1e');\n",
              "          const dataTable =\n",
              "            await google.colab.kernel.invokeFunction('convertToInteractive',\n",
              "                                                     [key], {});\n",
              "          if (!dataTable) return;\n",
              "\n",
              "          const docLinkHtml = 'Like what you see? Visit the ' +\n",
              "            '<a target=\"_blank\" href=https://colab.research.google.com/notebooks/data_table.ipynb>data table notebook</a>'\n",
              "            + ' to learn more about interactive tables.';\n",
              "          element.innerHTML = '';\n",
              "          dataTable['output_type'] = 'display_data';\n",
              "          await google.colab.output.renderOutput(dataTable, element);\n",
              "          const docLink = document.createElement('div');\n",
              "          docLink.innerHTML = docLinkHtml;\n",
              "          element.appendChild(docLink);\n",
              "        }\n",
              "      </script>\n",
              "    </div>\n",
              "  </div>\n",
              "  "
            ]
          },
          "metadata": {},
          "execution_count": 114
        }
      ]
    },
    {
      "cell_type": "code",
      "source": [
        "df.info()"
      ],
      "metadata": {
        "colab": {
          "base_uri": "https://localhost:8080/"
        },
        "id": "Q30ILnnMTOkJ",
        "outputId": "07e6a5f1-a23d-4d9a-eec9-19ce0bee56bd"
      },
      "execution_count": 115,
      "outputs": [
        {
          "output_type": "stream",
          "name": "stdout",
          "text": [
            "<class 'pandas.core.frame.DataFrame'>\n",
            "Int64Index: 270767 entries, 0 to 270766\n",
            "Data columns (total 17 columns):\n",
            " #   Column  Non-Null Count   Dtype  \n",
            "---  ------  --------------   -----  \n",
            " 0   ID      270767 non-null  int64  \n",
            " 1   Name    270767 non-null  object \n",
            " 2   Sex     270767 non-null  object \n",
            " 3   Age     261305 non-null  float64\n",
            " 4   Height  210684 non-null  float64\n",
            " 5   Weight  207982 non-null  float64\n",
            " 6   Team    270767 non-null  object \n",
            " 7   NOC     270767 non-null  object \n",
            " 8   Games   270767 non-null  object \n",
            " 9   Year    270767 non-null  int64  \n",
            " 10  Season  270767 non-null  object \n",
            " 11  City    270767 non-null  object \n",
            " 12  Sport   270767 non-null  object \n",
            " 13  Event   270767 non-null  object \n",
            " 14  Medal   39774 non-null   object \n",
            " 15  region  270746 non-null  object \n",
            " 16  notes   5039 non-null    object \n",
            "dtypes: float64(3), int64(2), object(12)\n",
            "memory usage: 37.2+ MB\n"
          ]
        }
      ]
    },
    {
      "cell_type": "code",
      "source": [
        "df.shape"
      ],
      "metadata": {
        "colab": {
          "base_uri": "https://localhost:8080/"
        },
        "id": "pJDeNOlaS9Xb",
        "outputId": "29439b00-4916-4df8-e849-210239e192f1"
      },
      "execution_count": 116,
      "outputs": [
        {
          "output_type": "execute_result",
          "data": {
            "text/plain": [
              "(270767, 17)"
            ]
          },
          "metadata": {},
          "execution_count": 116
        }
      ]
    },
    {
      "cell_type": "markdown",
      "source": [
        "#Data Cleaning"
      ],
      "metadata": {
        "id": "YN1ZRmOnTk_K"
      }
    },
    {
      "cell_type": "code",
      "source": [
        "df.drop(columns=['notes'],inplace=True)\n",
        "df"
      ],
      "metadata": {
        "id": "AjeXIpkznYIE",
        "outputId": "38c6a766-c2e6-4f17-c8dc-ceffba7bebb4",
        "colab": {
          "base_uri": "https://localhost:8080/",
          "height": 904
        }
      },
      "execution_count": 117,
      "outputs": [
        {
          "output_type": "execute_result",
          "data": {
            "text/plain": [
              "            ID                Name Sex   Age  Height  Weight     Team  NOC  \\\n",
              "0            1           A Dijiang   M  24.0   180.0    80.0    China  CHN   \n",
              "1            2            A Lamusi   M  23.0   170.0    60.0    China  CHN   \n",
              "2          602       Abudoureheman   M  22.0   182.0    75.0    China  CHN   \n",
              "3         1463           Ai Linuer   M  25.0   160.0    62.0    China  CHN   \n",
              "4         1464           Ai Yanhan   F  14.0   168.0    54.0    China  CHN   \n",
              "...        ...                 ...  ..   ...     ...     ...      ...  ...   \n",
              "270762  120575     Mamorallo Tjoka   F  23.0   150.0    56.0  Lesotho  LES   \n",
              "270763  120575     Mamorallo Tjoka   F  27.0   150.0    56.0  Lesotho  LES   \n",
              "270764  122166  M'apotlaki Ts'elho   F  15.0     NaN     NaN  Lesotho  LES   \n",
              "270765  122215          Lefa Tsapi   M  23.0   170.0    63.0  Lesotho  LES   \n",
              "270766  122299       Mosolesa Tsie   M  20.0   175.0    75.0  Lesotho  LES   \n",
              "\n",
              "              Games  Year  Season            City       Sport  \\\n",
              "0       1992 Summer  1992  Summer       Barcelona  Basketball   \n",
              "1       2012 Summer  2012  Summer          London        Judo   \n",
              "2       2000 Summer  2000  Summer          Sydney      Boxing   \n",
              "3       2004 Summer  2004  Summer          Athina   Wrestling   \n",
              "4       2016 Summer  2016  Summer  Rio de Janeiro    Swimming   \n",
              "...             ...   ...     ...             ...         ...   \n",
              "270762  2008 Summer  2008  Summer         Beijing   Athletics   \n",
              "270763  2012 Summer  2012  Summer          London   Athletics   \n",
              "270764  1996 Summer  1996  Summer         Atlanta   Athletics   \n",
              "270765  1984 Summer  1984  Summer     Los Angeles      Boxing   \n",
              "270766  2000 Summer  2000  Summer          Sydney      Boxing   \n",
              "\n",
              "                                           Event Medal   region  \n",
              "0                    Basketball Men's Basketball   NaN    China  \n",
              "1                   Judo Men's Extra-Lightweight   NaN    China  \n",
              "2                      Boxing Men's Middleweight   NaN    China  \n",
              "3       Wrestling Men's Lightweight, Greco-Roman   NaN    China  \n",
              "4          Swimming Women's 200 metres Freestyle   NaN    China  \n",
              "...                                          ...   ...      ...  \n",
              "270762                Athletics Women's Marathon   NaN  Lesotho  \n",
              "270763                Athletics Women's Marathon   NaN  Lesotho  \n",
              "270764    Athletics Women's 4 x 100 metres Relay   NaN  Lesotho  \n",
              "270765                 Boxing Men's Welterweight   NaN  Lesotho  \n",
              "270766                 Boxing Men's Welterweight   NaN  Lesotho  \n",
              "\n",
              "[270767 rows x 16 columns]"
            ],
            "text/html": [
              "\n",
              "  <div id=\"df-4ac36315-a2aa-45f4-9405-33247e275c04\">\n",
              "    <div class=\"colab-df-container\">\n",
              "      <div>\n",
              "<style scoped>\n",
              "    .dataframe tbody tr th:only-of-type {\n",
              "        vertical-align: middle;\n",
              "    }\n",
              "\n",
              "    .dataframe tbody tr th {\n",
              "        vertical-align: top;\n",
              "    }\n",
              "\n",
              "    .dataframe thead th {\n",
              "        text-align: right;\n",
              "    }\n",
              "</style>\n",
              "<table border=\"1\" class=\"dataframe\">\n",
              "  <thead>\n",
              "    <tr style=\"text-align: right;\">\n",
              "      <th></th>\n",
              "      <th>ID</th>\n",
              "      <th>Name</th>\n",
              "      <th>Sex</th>\n",
              "      <th>Age</th>\n",
              "      <th>Height</th>\n",
              "      <th>Weight</th>\n",
              "      <th>Team</th>\n",
              "      <th>NOC</th>\n",
              "      <th>Games</th>\n",
              "      <th>Year</th>\n",
              "      <th>Season</th>\n",
              "      <th>City</th>\n",
              "      <th>Sport</th>\n",
              "      <th>Event</th>\n",
              "      <th>Medal</th>\n",
              "      <th>region</th>\n",
              "    </tr>\n",
              "  </thead>\n",
              "  <tbody>\n",
              "    <tr>\n",
              "      <th>0</th>\n",
              "      <td>1</td>\n",
              "      <td>A Dijiang</td>\n",
              "      <td>M</td>\n",
              "      <td>24.0</td>\n",
              "      <td>180.0</td>\n",
              "      <td>80.0</td>\n",
              "      <td>China</td>\n",
              "      <td>CHN</td>\n",
              "      <td>1992 Summer</td>\n",
              "      <td>1992</td>\n",
              "      <td>Summer</td>\n",
              "      <td>Barcelona</td>\n",
              "      <td>Basketball</td>\n",
              "      <td>Basketball Men's Basketball</td>\n",
              "      <td>NaN</td>\n",
              "      <td>China</td>\n",
              "    </tr>\n",
              "    <tr>\n",
              "      <th>1</th>\n",
              "      <td>2</td>\n",
              "      <td>A Lamusi</td>\n",
              "      <td>M</td>\n",
              "      <td>23.0</td>\n",
              "      <td>170.0</td>\n",
              "      <td>60.0</td>\n",
              "      <td>China</td>\n",
              "      <td>CHN</td>\n",
              "      <td>2012 Summer</td>\n",
              "      <td>2012</td>\n",
              "      <td>Summer</td>\n",
              "      <td>London</td>\n",
              "      <td>Judo</td>\n",
              "      <td>Judo Men's Extra-Lightweight</td>\n",
              "      <td>NaN</td>\n",
              "      <td>China</td>\n",
              "    </tr>\n",
              "    <tr>\n",
              "      <th>2</th>\n",
              "      <td>602</td>\n",
              "      <td>Abudoureheman</td>\n",
              "      <td>M</td>\n",
              "      <td>22.0</td>\n",
              "      <td>182.0</td>\n",
              "      <td>75.0</td>\n",
              "      <td>China</td>\n",
              "      <td>CHN</td>\n",
              "      <td>2000 Summer</td>\n",
              "      <td>2000</td>\n",
              "      <td>Summer</td>\n",
              "      <td>Sydney</td>\n",
              "      <td>Boxing</td>\n",
              "      <td>Boxing Men's Middleweight</td>\n",
              "      <td>NaN</td>\n",
              "      <td>China</td>\n",
              "    </tr>\n",
              "    <tr>\n",
              "      <th>3</th>\n",
              "      <td>1463</td>\n",
              "      <td>Ai Linuer</td>\n",
              "      <td>M</td>\n",
              "      <td>25.0</td>\n",
              "      <td>160.0</td>\n",
              "      <td>62.0</td>\n",
              "      <td>China</td>\n",
              "      <td>CHN</td>\n",
              "      <td>2004 Summer</td>\n",
              "      <td>2004</td>\n",
              "      <td>Summer</td>\n",
              "      <td>Athina</td>\n",
              "      <td>Wrestling</td>\n",
              "      <td>Wrestling Men's Lightweight, Greco-Roman</td>\n",
              "      <td>NaN</td>\n",
              "      <td>China</td>\n",
              "    </tr>\n",
              "    <tr>\n",
              "      <th>4</th>\n",
              "      <td>1464</td>\n",
              "      <td>Ai Yanhan</td>\n",
              "      <td>F</td>\n",
              "      <td>14.0</td>\n",
              "      <td>168.0</td>\n",
              "      <td>54.0</td>\n",
              "      <td>China</td>\n",
              "      <td>CHN</td>\n",
              "      <td>2016 Summer</td>\n",
              "      <td>2016</td>\n",
              "      <td>Summer</td>\n",
              "      <td>Rio de Janeiro</td>\n",
              "      <td>Swimming</td>\n",
              "      <td>Swimming Women's 200 metres Freestyle</td>\n",
              "      <td>NaN</td>\n",
              "      <td>China</td>\n",
              "    </tr>\n",
              "    <tr>\n",
              "      <th>...</th>\n",
              "      <td>...</td>\n",
              "      <td>...</td>\n",
              "      <td>...</td>\n",
              "      <td>...</td>\n",
              "      <td>...</td>\n",
              "      <td>...</td>\n",
              "      <td>...</td>\n",
              "      <td>...</td>\n",
              "      <td>...</td>\n",
              "      <td>...</td>\n",
              "      <td>...</td>\n",
              "      <td>...</td>\n",
              "      <td>...</td>\n",
              "      <td>...</td>\n",
              "      <td>...</td>\n",
              "      <td>...</td>\n",
              "    </tr>\n",
              "    <tr>\n",
              "      <th>270762</th>\n",
              "      <td>120575</td>\n",
              "      <td>Mamorallo Tjoka</td>\n",
              "      <td>F</td>\n",
              "      <td>23.0</td>\n",
              "      <td>150.0</td>\n",
              "      <td>56.0</td>\n",
              "      <td>Lesotho</td>\n",
              "      <td>LES</td>\n",
              "      <td>2008 Summer</td>\n",
              "      <td>2008</td>\n",
              "      <td>Summer</td>\n",
              "      <td>Beijing</td>\n",
              "      <td>Athletics</td>\n",
              "      <td>Athletics Women's Marathon</td>\n",
              "      <td>NaN</td>\n",
              "      <td>Lesotho</td>\n",
              "    </tr>\n",
              "    <tr>\n",
              "      <th>270763</th>\n",
              "      <td>120575</td>\n",
              "      <td>Mamorallo Tjoka</td>\n",
              "      <td>F</td>\n",
              "      <td>27.0</td>\n",
              "      <td>150.0</td>\n",
              "      <td>56.0</td>\n",
              "      <td>Lesotho</td>\n",
              "      <td>LES</td>\n",
              "      <td>2012 Summer</td>\n",
              "      <td>2012</td>\n",
              "      <td>Summer</td>\n",
              "      <td>London</td>\n",
              "      <td>Athletics</td>\n",
              "      <td>Athletics Women's Marathon</td>\n",
              "      <td>NaN</td>\n",
              "      <td>Lesotho</td>\n",
              "    </tr>\n",
              "    <tr>\n",
              "      <th>270764</th>\n",
              "      <td>122166</td>\n",
              "      <td>M'apotlaki Ts'elho</td>\n",
              "      <td>F</td>\n",
              "      <td>15.0</td>\n",
              "      <td>NaN</td>\n",
              "      <td>NaN</td>\n",
              "      <td>Lesotho</td>\n",
              "      <td>LES</td>\n",
              "      <td>1996 Summer</td>\n",
              "      <td>1996</td>\n",
              "      <td>Summer</td>\n",
              "      <td>Atlanta</td>\n",
              "      <td>Athletics</td>\n",
              "      <td>Athletics Women's 4 x 100 metres Relay</td>\n",
              "      <td>NaN</td>\n",
              "      <td>Lesotho</td>\n",
              "    </tr>\n",
              "    <tr>\n",
              "      <th>270765</th>\n",
              "      <td>122215</td>\n",
              "      <td>Lefa Tsapi</td>\n",
              "      <td>M</td>\n",
              "      <td>23.0</td>\n",
              "      <td>170.0</td>\n",
              "      <td>63.0</td>\n",
              "      <td>Lesotho</td>\n",
              "      <td>LES</td>\n",
              "      <td>1984 Summer</td>\n",
              "      <td>1984</td>\n",
              "      <td>Summer</td>\n",
              "      <td>Los Angeles</td>\n",
              "      <td>Boxing</td>\n",
              "      <td>Boxing Men's Welterweight</td>\n",
              "      <td>NaN</td>\n",
              "      <td>Lesotho</td>\n",
              "    </tr>\n",
              "    <tr>\n",
              "      <th>270766</th>\n",
              "      <td>122299</td>\n",
              "      <td>Mosolesa Tsie</td>\n",
              "      <td>M</td>\n",
              "      <td>20.0</td>\n",
              "      <td>175.0</td>\n",
              "      <td>75.0</td>\n",
              "      <td>Lesotho</td>\n",
              "      <td>LES</td>\n",
              "      <td>2000 Summer</td>\n",
              "      <td>2000</td>\n",
              "      <td>Summer</td>\n",
              "      <td>Sydney</td>\n",
              "      <td>Boxing</td>\n",
              "      <td>Boxing Men's Welterweight</td>\n",
              "      <td>NaN</td>\n",
              "      <td>Lesotho</td>\n",
              "    </tr>\n",
              "  </tbody>\n",
              "</table>\n",
              "<p>270767 rows × 16 columns</p>\n",
              "</div>\n",
              "      <button class=\"colab-df-convert\" onclick=\"convertToInteractive('df-4ac36315-a2aa-45f4-9405-33247e275c04')\"\n",
              "              title=\"Convert this dataframe to an interactive table.\"\n",
              "              style=\"display:none;\">\n",
              "        \n",
              "  <svg xmlns=\"http://www.w3.org/2000/svg\" height=\"24px\"viewBox=\"0 0 24 24\"\n",
              "       width=\"24px\">\n",
              "    <path d=\"M0 0h24v24H0V0z\" fill=\"none\"/>\n",
              "    <path d=\"M18.56 5.44l.94 2.06.94-2.06 2.06-.94-2.06-.94-.94-2.06-.94 2.06-2.06.94zm-11 1L8.5 8.5l.94-2.06 2.06-.94-2.06-.94L8.5 2.5l-.94 2.06-2.06.94zm10 10l.94 2.06.94-2.06 2.06-.94-2.06-.94-.94-2.06-.94 2.06-2.06.94z\"/><path d=\"M17.41 7.96l-1.37-1.37c-.4-.4-.92-.59-1.43-.59-.52 0-1.04.2-1.43.59L10.3 9.45l-7.72 7.72c-.78.78-.78 2.05 0 2.83L4 21.41c.39.39.9.59 1.41.59.51 0 1.02-.2 1.41-.59l7.78-7.78 2.81-2.81c.8-.78.8-2.07 0-2.86zM5.41 20L4 18.59l7.72-7.72 1.47 1.35L5.41 20z\"/>\n",
              "  </svg>\n",
              "      </button>\n",
              "      \n",
              "  <style>\n",
              "    .colab-df-container {\n",
              "      display:flex;\n",
              "      flex-wrap:wrap;\n",
              "      gap: 12px;\n",
              "    }\n",
              "\n",
              "    .colab-df-convert {\n",
              "      background-color: #E8F0FE;\n",
              "      border: none;\n",
              "      border-radius: 50%;\n",
              "      cursor: pointer;\n",
              "      display: none;\n",
              "      fill: #1967D2;\n",
              "      height: 32px;\n",
              "      padding: 0 0 0 0;\n",
              "      width: 32px;\n",
              "    }\n",
              "\n",
              "    .colab-df-convert:hover {\n",
              "      background-color: #E2EBFA;\n",
              "      box-shadow: 0px 1px 2px rgba(60, 64, 67, 0.3), 0px 1px 3px 1px rgba(60, 64, 67, 0.15);\n",
              "      fill: #174EA6;\n",
              "    }\n",
              "\n",
              "    [theme=dark] .colab-df-convert {\n",
              "      background-color: #3B4455;\n",
              "      fill: #D2E3FC;\n",
              "    }\n",
              "\n",
              "    [theme=dark] .colab-df-convert:hover {\n",
              "      background-color: #434B5C;\n",
              "      box-shadow: 0px 1px 3px 1px rgba(0, 0, 0, 0.15);\n",
              "      filter: drop-shadow(0px 1px 2px rgba(0, 0, 0, 0.3));\n",
              "      fill: #FFFFFF;\n",
              "    }\n",
              "  </style>\n",
              "\n",
              "      <script>\n",
              "        const buttonEl =\n",
              "          document.querySelector('#df-4ac36315-a2aa-45f4-9405-33247e275c04 button.colab-df-convert');\n",
              "        buttonEl.style.display =\n",
              "          google.colab.kernel.accessAllowed ? 'block' : 'none';\n",
              "\n",
              "        async function convertToInteractive(key) {\n",
              "          const element = document.querySelector('#df-4ac36315-a2aa-45f4-9405-33247e275c04');\n",
              "          const dataTable =\n",
              "            await google.colab.kernel.invokeFunction('convertToInteractive',\n",
              "                                                     [key], {});\n",
              "          if (!dataTable) return;\n",
              "\n",
              "          const docLinkHtml = 'Like what you see? Visit the ' +\n",
              "            '<a target=\"_blank\" href=https://colab.research.google.com/notebooks/data_table.ipynb>data table notebook</a>'\n",
              "            + ' to learn more about interactive tables.';\n",
              "          element.innerHTML = '';\n",
              "          dataTable['output_type'] = 'display_data';\n",
              "          await google.colab.output.renderOutput(dataTable, element);\n",
              "          const docLink = document.createElement('div');\n",
              "          docLink.innerHTML = docLinkHtml;\n",
              "          element.appendChild(docLink);\n",
              "        }\n",
              "      </script>\n",
              "    </div>\n",
              "  </div>\n",
              "  "
            ]
          },
          "metadata": {},
          "execution_count": 117
        }
      ]
    },
    {
      "cell_type": "code",
      "source": [
        "df.isnull().sum()"
      ],
      "metadata": {
        "colab": {
          "base_uri": "https://localhost:8080/"
        },
        "id": "10lYvsISjpPH",
        "outputId": "2ee37e14-1f13-40e8-8ed3-178c58fd94e8"
      },
      "execution_count": 118,
      "outputs": [
        {
          "output_type": "execute_result",
          "data": {
            "text/plain": [
              "ID             0\n",
              "Name           0\n",
              "Sex            0\n",
              "Age         9462\n",
              "Height     60083\n",
              "Weight     62785\n",
              "Team           0\n",
              "NOC            0\n",
              "Games          0\n",
              "Year           0\n",
              "Season         0\n",
              "City           0\n",
              "Sport          0\n",
              "Event          0\n",
              "Medal     230993\n",
              "region        21\n",
              "dtype: int64"
            ]
          },
          "metadata": {},
          "execution_count": 118
        }
      ]
    },
    {
      "cell_type": "code",
      "source": [
        "df.duplicated().sum()"
      ],
      "metadata": {
        "id": "JbMXRfECTpTC",
        "colab": {
          "base_uri": "https://localhost:8080/"
        },
        "outputId": "1ba515db-ca22-4265-c930-deaf8dfe7a14"
      },
      "execution_count": 119,
      "outputs": [
        {
          "output_type": "execute_result",
          "data": {
            "text/plain": [
              "1385"
            ]
          },
          "metadata": {},
          "execution_count": 119
        }
      ]
    },
    {
      "cell_type": "code",
      "source": [
        "df.drop_duplicates(inplace=True)"
      ],
      "metadata": {
        "id": "cUf3SdGwiF8F"
      },
      "execution_count": 120,
      "outputs": []
    },
    {
      "cell_type": "code",
      "source": [
        "df.duplicated().sum()"
      ],
      "metadata": {
        "colab": {
          "base_uri": "https://localhost:8080/"
        },
        "id": "uP7atEv5iYj7",
        "outputId": "94d450ab-2edf-4322-e281-0212ea9f0b93"
      },
      "execution_count": 121,
      "outputs": [
        {
          "output_type": "execute_result",
          "data": {
            "text/plain": [
              "0"
            ]
          },
          "metadata": {},
          "execution_count": 121
        }
      ]
    },
    {
      "cell_type": "code",
      "source": [
        "df.isnull().sum()"
      ],
      "metadata": {
        "colab": {
          "base_uri": "https://localhost:8080/"
        },
        "id": "FHTUNhKwjbN6",
        "outputId": "362052da-fce6-43e0-d33c-95cc03f6abbe"
      },
      "execution_count": 122,
      "outputs": [
        {
          "output_type": "execute_result",
          "data": {
            "text/plain": [
              "ID             0\n",
              "Name           0\n",
              "Sex            0\n",
              "Age         9303\n",
              "Height     58726\n",
              "Weight     61437\n",
              "Team           0\n",
              "NOC            0\n",
              "Games          0\n",
              "Year           0\n",
              "Season         0\n",
              "City           0\n",
              "Sport          0\n",
              "Event          0\n",
              "Medal     229619\n",
              "region        21\n",
              "dtype: int64"
            ]
          },
          "metadata": {},
          "execution_count": 122
        }
      ]
    },
    {
      "cell_type": "markdown",
      "source": [
        "Fill  null value for Age, Height and Weight with mean of them"
      ],
      "metadata": {
        "id": "H-6vR8AjdWDO"
      }
    },
    {
      "cell_type": "markdown",
      "source": [
        "Mean of height\n"
      ],
      "metadata": {
        "id": "16EI7WKVeWr1"
      }
    },
    {
      "cell_type": "code",
      "source": [
        "mean_height=df[\"Height\"].mean()\n",
        "mean_height"
      ],
      "metadata": {
        "colab": {
          "base_uri": "https://localhost:8080/"
        },
        "id": "2cHTJ6lWeLpE",
        "outputId": "37e5ccef-bd3e-4939-ef90-9a685703b975"
      },
      "execution_count": 123,
      "outputs": [
        {
          "output_type": "execute_result",
          "data": {
            "text/plain": [
              "175.34423420173172"
            ]
          },
          "metadata": {},
          "execution_count": 123
        }
      ]
    },
    {
      "cell_type": "code",
      "source": [
        "df[\"Height\"]=df[\"Height\"].fillna(mean_height)\n",
        "df[\"Height\"]"
      ],
      "metadata": {
        "colab": {
          "base_uri": "https://localhost:8080/"
        },
        "id": "9J9oUoalelvb",
        "outputId": "44cef630-2701-4739-86c9-f1c31b82c125"
      },
      "execution_count": 124,
      "outputs": [
        {
          "output_type": "execute_result",
          "data": {
            "text/plain": [
              "0         180.000000\n",
              "1         170.000000\n",
              "2         182.000000\n",
              "3         160.000000\n",
              "4         168.000000\n",
              "             ...    \n",
              "270762    150.000000\n",
              "270763    150.000000\n",
              "270764    175.344234\n",
              "270765    170.000000\n",
              "270766    175.000000\n",
              "Name: Height, Length: 269382, dtype: float64"
            ]
          },
          "metadata": {},
          "execution_count": 124
        }
      ]
    },
    {
      "cell_type": "markdown",
      "source": [
        "Mean of weight"
      ],
      "metadata": {
        "id": "JcYoQByBe63F"
      }
    },
    {
      "cell_type": "code",
      "source": [
        "mean_weight=df[\"Weight\"].mean()\n",
        "mean_weight"
      ],
      "metadata": {
        "colab": {
          "base_uri": "https://localhost:8080/"
        },
        "id": "v9shInyley4N",
        "outputId": "482c1023-eaf8-4335-979d-67b2d7e65d4f"
      },
      "execution_count": 125,
      "outputs": [
        {
          "output_type": "execute_result",
          "data": {
            "text/plain": [
              "70.70890860564091"
            ]
          },
          "metadata": {},
          "execution_count": 125
        }
      ]
    },
    {
      "cell_type": "code",
      "source": [
        "df[\"Weight\"]=df[\"Weight\"].fillna(mean_weight)\n",
        "df[\"Weight\"]"
      ],
      "metadata": {
        "colab": {
          "base_uri": "https://localhost:8080/"
        },
        "id": "XaDz_z6nfIEG",
        "outputId": "f3298b34-6576-41cd-a033-cb02017ef701"
      },
      "execution_count": 126,
      "outputs": [
        {
          "output_type": "execute_result",
          "data": {
            "text/plain": [
              "0         80.000000\n",
              "1         60.000000\n",
              "2         75.000000\n",
              "3         62.000000\n",
              "4         54.000000\n",
              "            ...    \n",
              "270762    56.000000\n",
              "270763    56.000000\n",
              "270764    70.708909\n",
              "270765    63.000000\n",
              "270766    75.000000\n",
              "Name: Weight, Length: 269382, dtype: float64"
            ]
          },
          "metadata": {},
          "execution_count": 126
        }
      ]
    },
    {
      "cell_type": "markdown",
      "source": [
        "Mean of Age"
      ],
      "metadata": {
        "id": "qgkoHhaFfVgj"
      }
    },
    {
      "cell_type": "code",
      "source": [
        "mean_age=df[\"Age\"].mean()\n",
        "mean_age"
      ],
      "metadata": {
        "colab": {
          "base_uri": "https://localhost:8080/"
        },
        "id": "wknmpnZTgBNS",
        "outputId": "9a379c18-1721-4645-b9f3-b54ddbec3cfe"
      },
      "execution_count": 127,
      "outputs": [
        {
          "output_type": "execute_result",
          "data": {
            "text/plain": [
              "25.45754174693074"
            ]
          },
          "metadata": {},
          "execution_count": 127
        }
      ]
    },
    {
      "cell_type": "code",
      "source": [
        "df[\"Age\"]=df[\"Age\"].fillna(mean_age)\n",
        "df[\"Age\"]"
      ],
      "metadata": {
        "colab": {
          "base_uri": "https://localhost:8080/"
        },
        "id": "Hw6ufuVbfe99",
        "outputId": "f6ff5d57-e154-436f-98f9-b2fbe3e7aa31"
      },
      "execution_count": 128,
      "outputs": [
        {
          "output_type": "execute_result",
          "data": {
            "text/plain": [
              "0         24.0\n",
              "1         23.0\n",
              "2         22.0\n",
              "3         25.0\n",
              "4         14.0\n",
              "          ... \n",
              "270762    23.0\n",
              "270763    27.0\n",
              "270764    15.0\n",
              "270765    23.0\n",
              "270766    20.0\n",
              "Name: Age, Length: 269382, dtype: float64"
            ]
          },
          "metadata": {},
          "execution_count": 128
        }
      ]
    },
    {
      "cell_type": "code",
      "source": [
        "df.isnull().sum()"
      ],
      "metadata": {
        "colab": {
          "base_uri": "https://localhost:8080/"
        },
        "id": "eIc_aRNogI1C",
        "outputId": "c989f4af-9d24-4c52-a3a8-bb934a0ec818"
      },
      "execution_count": 129,
      "outputs": [
        {
          "output_type": "execute_result",
          "data": {
            "text/plain": [
              "ID             0\n",
              "Name           0\n",
              "Sex            0\n",
              "Age            0\n",
              "Height         0\n",
              "Weight         0\n",
              "Team           0\n",
              "NOC            0\n",
              "Games          0\n",
              "Year           0\n",
              "Season         0\n",
              "City           0\n",
              "Sport          0\n",
              "Event          0\n",
              "Medal     229619\n",
              "region        21\n",
              "dtype: int64"
            ]
          },
          "metadata": {},
          "execution_count": 129
        }
      ]
    },
    {
      "cell_type": "code",
      "source": [
        "df.describe"
      ],
      "metadata": {
        "colab": {
          "base_uri": "https://localhost:8080/"
        },
        "id": "NBDXkuepgpX7",
        "outputId": "05aafa0f-14fc-4c77-db63-e66bb5174de3"
      },
      "execution_count": 130,
      "outputs": [
        {
          "output_type": "execute_result",
          "data": {
            "text/plain": [
              "<bound method NDFrame.describe of             ID                Name Sex   Age      Height     Weight     Team  \\\n",
              "0            1           A Dijiang   M  24.0  180.000000  80.000000    China   \n",
              "1            2            A Lamusi   M  23.0  170.000000  60.000000    China   \n",
              "2          602       Abudoureheman   M  22.0  182.000000  75.000000    China   \n",
              "3         1463           Ai Linuer   M  25.0  160.000000  62.000000    China   \n",
              "4         1464           Ai Yanhan   F  14.0  168.000000  54.000000    China   \n",
              "...        ...                 ...  ..   ...         ...        ...      ...   \n",
              "270762  120575     Mamorallo Tjoka   F  23.0  150.000000  56.000000  Lesotho   \n",
              "270763  120575     Mamorallo Tjoka   F  27.0  150.000000  56.000000  Lesotho   \n",
              "270764  122166  M'apotlaki Ts'elho   F  15.0  175.344234  70.708909  Lesotho   \n",
              "270765  122215          Lefa Tsapi   M  23.0  170.000000  63.000000  Lesotho   \n",
              "270766  122299       Mosolesa Tsie   M  20.0  175.000000  75.000000  Lesotho   \n",
              "\n",
              "        NOC        Games  Year  Season            City       Sport  \\\n",
              "0       CHN  1992 Summer  1992  Summer       Barcelona  Basketball   \n",
              "1       CHN  2012 Summer  2012  Summer          London        Judo   \n",
              "2       CHN  2000 Summer  2000  Summer          Sydney      Boxing   \n",
              "3       CHN  2004 Summer  2004  Summer          Athina   Wrestling   \n",
              "4       CHN  2016 Summer  2016  Summer  Rio de Janeiro    Swimming   \n",
              "...     ...          ...   ...     ...             ...         ...   \n",
              "270762  LES  2008 Summer  2008  Summer         Beijing   Athletics   \n",
              "270763  LES  2012 Summer  2012  Summer          London   Athletics   \n",
              "270764  LES  1996 Summer  1996  Summer         Atlanta   Athletics   \n",
              "270765  LES  1984 Summer  1984  Summer     Los Angeles      Boxing   \n",
              "270766  LES  2000 Summer  2000  Summer          Sydney      Boxing   \n",
              "\n",
              "                                           Event Medal   region  \n",
              "0                    Basketball Men's Basketball   NaN    China  \n",
              "1                   Judo Men's Extra-Lightweight   NaN    China  \n",
              "2                      Boxing Men's Middleweight   NaN    China  \n",
              "3       Wrestling Men's Lightweight, Greco-Roman   NaN    China  \n",
              "4          Swimming Women's 200 metres Freestyle   NaN    China  \n",
              "...                                          ...   ...      ...  \n",
              "270762                Athletics Women's Marathon   NaN  Lesotho  \n",
              "270763                Athletics Women's Marathon   NaN  Lesotho  \n",
              "270764    Athletics Women's 4 x 100 metres Relay   NaN  Lesotho  \n",
              "270765                 Boxing Men's Welterweight   NaN  Lesotho  \n",
              "270766                 Boxing Men's Welterweight   NaN  Lesotho  \n",
              "\n",
              "[269382 rows x 16 columns]>"
            ]
          },
          "metadata": {},
          "execution_count": 130
        }
      ]
    },
    {
      "cell_type": "markdown",
      "source": [
        "Drop other null values"
      ],
      "metadata": {
        "id": "J6f7BuM0kkwO"
      }
    },
    {
      "cell_type": "code",
      "source": [
        "df.dropna(inplace=True)"
      ],
      "metadata": {
        "id": "sXjb0qkQkrZG"
      },
      "execution_count": 131,
      "outputs": []
    },
    {
      "cell_type": "code",
      "source": [
        "df.isnull().sum()"
      ],
      "metadata": {
        "id": "JoqTNornk0gV",
        "outputId": "2f0f0bc0-a193-44be-8d2b-5a9fa19a67cb",
        "colab": {
          "base_uri": "https://localhost:8080/"
        }
      },
      "execution_count": 132,
      "outputs": [
        {
          "output_type": "execute_result",
          "data": {
            "text/plain": [
              "ID        0\n",
              "Name      0\n",
              "Sex       0\n",
              "Age       0\n",
              "Height    0\n",
              "Weight    0\n",
              "Team      0\n",
              "NOC       0\n",
              "Games     0\n",
              "Year      0\n",
              "Season    0\n",
              "City      0\n",
              "Sport     0\n",
              "Event     0\n",
              "Medal     0\n",
              "region    0\n",
              "dtype: int64"
            ]
          },
          "metadata": {},
          "execution_count": 132
        }
      ]
    },
    {
      "cell_type": "code",
      "source": [
        ""
      ],
      "metadata": {
        "id": "_8y0Z_60nSUU"
      },
      "execution_count": 132,
      "outputs": []
    },
    {
      "cell_type": "markdown",
      "source": [
        "#Data"
      ],
      "metadata": {
        "id": "7anWeMb3k6KL"
      }
    }
  ]
}